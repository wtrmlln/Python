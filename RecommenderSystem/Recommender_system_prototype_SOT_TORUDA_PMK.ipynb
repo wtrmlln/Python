{
  "nbformat": 4,
  "nbformat_minor": 0,
  "metadata": {
    "colab": {
      "name": "Recommender system prototype - SOT/TORUDA/PMK.ipynb",
      "provenance": [],
      "collapsed_sections": []
    },
    "kernelspec": {
      "display_name": "Python 3",
      "name": "python3"
    },
    "language_info": {
      "name": "python"
    }
  },
  "cells": [
    {
      "cell_type": "code",
      "metadata": {
        "id": "Ly3z8cNlu1MB"
      },
      "source": [
        "import time\n",
        "import pip\n",
        "def import_or_install(package):\n",
        "    try:\n",
        "        __import__(package)\n",
        "    except ImportError:\n",
        "        pip.main(['install', package])"
      ],
      "execution_count": null,
      "outputs": []
    },
    {
      "cell_type": "code",
      "metadata": {
        "colab": {
          "base_uri": "https://localhost:8080/"
        },
        "id": "QG713XJuu1wS",
        "outputId": "ebc6d067-4422-4277-d156-8f8ab0b55bdd"
      },
      "source": [
        "import_or_install('pymorphy2')\n",
        "!pip install ruwordnet\n",
        "!ruwordnet download"
      ],
      "execution_count": null,
      "outputs": [
        {
          "output_type": "stream",
          "name": "stdout",
          "text": [
            "Requirement already satisfied: ruwordnet in /usr/local/lib/python3.7/dist-packages (0.0.3)\n",
            "Requirement already satisfied: sqlalchemy in /usr/local/lib/python3.7/dist-packages (from ruwordnet) (1.4.26)\n",
            "Requirement already satisfied: greenlet!=0.4.17 in /usr/local/lib/python3.7/dist-packages (from sqlalchemy->ruwordnet) (1.1.2)\n",
            "Requirement already satisfied: importlib-metadata in /usr/local/lib/python3.7/dist-packages (from sqlalchemy->ruwordnet) (4.8.2)\n",
            "Requirement already satisfied: typing-extensions>=3.6.4 in /usr/local/lib/python3.7/dist-packages (from importlib-metadata->sqlalchemy->ruwordnet) (3.10.0.2)\n",
            "Requirement already satisfied: zipp>=0.5 in /usr/local/lib/python3.7/dist-packages (from importlib-metadata->sqlalchemy->ruwordnet) (3.6.0)\n",
            "downloading a ruwordnet model from https://github.com/avidale/python-ruwordnet/releases/download/0.0.2/ruwordnet.db\n"
          ]
        }
      ]
    },
    {
      "cell_type": "code",
      "metadata": {
        "colab": {
          "base_uri": "https://localhost:8080/"
        },
        "id": "_8th8ayPbbLz",
        "outputId": "84a11bbc-b9f7-40c5-f7db-22018ff6d72d"
      },
      "source": [
        "import numpy as np\n",
        "import pandas as pd\n",
        "import matplotlib.pyplot as plt\n",
        "import re\n",
        "import sys\n",
        "import csv\n",
        "from google.colab import files\n",
        "\n",
        "from bs4 import BeautifulSoup\n",
        "\n",
        "import nltk\n",
        "import pymorphy2\n",
        "from ruwordnet import RuWordNet\n",
        "\n",
        "from tqdm import tqdm, notebook\n",
        "nltk.download('stopwords')\n",
        "nltk.download('wordnet')\n",
        "nltk.download('punkt')\n",
        "from pymorphy2 import MorphAnalyzer\n",
        "from nltk.corpus import stopwords as nltk_stopwords\n",
        "from bs4 import BeautifulSoup\n",
        "from sklearn.feature_extraction.text import TfidfVectorizer\n",
        "from sklearn.metrics.pairwise import cosine_similarity\n",
        "from sklearn.cluster import KMeans\n",
        "from sklearn.metrics import silhouette_score"
      ],
      "execution_count": null,
      "outputs": [
        {
          "output_type": "stream",
          "name": "stdout",
          "text": [
            "[nltk_data] Downloading package stopwords to /root/nltk_data...\n",
            "[nltk_data]   Package stopwords is already up-to-date!\n",
            "[nltk_data] Downloading package wordnet to /root/nltk_data...\n",
            "[nltk_data]   Package wordnet is already up-to-date!\n",
            "[nltk_data] Downloading package punkt to /root/nltk_data...\n",
            "[nltk_data]   Package punkt is already up-to-date!\n"
          ]
        }
      ]
    },
    {
      "cell_type": "code",
      "metadata": {
        "id": "FSv2-JRbsMzn"
      },
      "source": [
        "useless_columns = ['AltName', 'Priority', 'Keyword', 'Article', 'Video', 'InfoManager', 'PriceMinimum', 'Image', 'VariantImg', 'Slider', 'SlideName', 'File', 'FileName', \n",
        "                   'ColorImages', 'ColorImagesNames', 'Provider', 'Functions', 'Upholstery', 'Material', 'Country', 'IsMain', 'IsNew', 'IsColor', 'isUcenka', 'BigImage', 'AltH1', 'SizeName', \n",
        "                   'Size', 'Tag', 'Type', 'Age', 'TypeBed', 'MaterialBed', 'IsComplect', 'Element', 'IsNotSeparately', 'IsRigit', 'IsWeek', 'IsNextWeek', \n",
        "                   'IsPriority', 'IsHideDescription', 'ReviewsCount', 'MinCount', 'PriorityPromo', 'FaqCount', 'DateStockUpdated', 'Stocks', 'SaleAuto', 'SaleAutoGroup', 'IsPriceUpdate', \n",
        "                   'Features', 'ImgPng', 'IsSaleIndex', 'DataPriceUpdate', 'ItemSizeGroup', 'ProductCondition', 'PrichinaUcenki', 'Toruda_Prices', 'IsBetonirovanie', 'RelatedGoods', \n",
        "                   'IsBetonirovanie_2', 'ReviewsAverage', 'NacenkaDostavkaUstanovka', 'StockUnitsFilter', 'TextSaleMarker', 'IsIndexNow', 'Description']\n",
        "\n",
        "important_columns = ['ItemID', 'Message_ID', 'Parent_Message_ID', 'Details', 'Category', 'VariantTitle', 'VariantName', 'Seria', 'Model', 'Vendor', 'Sub_ID']\n",
        "\n",
        "def download_file(dataframe, filename):\n",
        "    dataframe.to_excel(filename + '.xlsx')\n",
        "    files.download(filename + '.xlsx')"
      ],
      "execution_count": null,
      "outputs": []
    },
    {
      "cell_type": "code",
      "metadata": {
        "colab": {
          "base_uri": "https://localhost:8080/"
        },
        "id": "VtLeG7h5e_6e",
        "outputId": "524486fc-3bac-40fc-dad9-6588026539e1"
      },
      "source": [
        "random_state = 12345\n",
        "csv.field_size_limit(sys.maxsize)\n",
        "\n",
        "full_path = '/content/export-562-11-11-2021.csv'\n",
        "text_file = open(full_path, 'r', encoding='utf-8-sig', errors='replace').read()\n",
        "decoded_text_file = open(full_path, 'w', encoding='utf-8').write(text_file)\n",
        "decoded_text = open(full_path, 'r', encoding='utf-8').read()\n",
        "open('/content/Decoded_File.csv', 'w', encoding='1251', errors='replace').write(decoded_text)"
      ],
      "execution_count": null,
      "outputs": [
        {
          "output_type": "execute_result",
          "data": {
            "text/plain": [
              "37350338"
            ]
          },
          "metadata": {},
          "execution_count": 358
        }
      ]
    },
    {
      "cell_type": "code",
      "metadata": {
        "id": "OT458E9WwzKy"
      },
      "source": [
        "full_path = '/content/Decoded_File.csv'\n",
        "df = pd.read_csv(full_path, encoding='1251', delimiter=';', decimal=',', engine = 'python', index_col=False)\n",
        "df = df.rename(columns={'Name': 'Category'})"
      ],
      "execution_count": null,
      "outputs": []
    },
    {
      "cell_type": "code",
      "metadata": {
        "id": "MrYC6LfbuQmm"
      },
      "source": [
        "df = df.drop_duplicates(subset=['ItemID'])"
      ],
      "execution_count": null,
      "outputs": []
    },
    {
      "cell_type": "code",
      "metadata": {
        "id": "2TkrcRHroV4f"
      },
      "source": [
        "columns_to_drop = []\n",
        "for column in df.columns:\n",
        "    if column not in important_columns:\n",
        "        if 'Unnamed' in column:\n",
        "            columns_to_drop.append(column)\n",
        "        elif df[column].isna().sum() / len(df) > 0.5 or df[column].isna().sum() == len(df):\n",
        "            columns_to_drop.append(column)\n",
        "df = df.drop(columns_to_drop, axis=1)"
      ],
      "execution_count": null,
      "outputs": []
    },
    {
      "cell_type": "code",
      "metadata": {
        "id": "6YL9GVEA1aSZ"
      },
      "source": [
        "df = df.loc[df['InfoProductM'].isna() == False]"
      ],
      "execution_count": null,
      "outputs": []
    },
    {
      "cell_type": "code",
      "metadata": {
        "id": "EC_ZSSPZ0_nR"
      },
      "source": [
        "def get_features_from_infomanager(text, re_expression):\n",
        "    new_text = re.findall(re_expression, text)\n",
        "    new_text = ''.join(new_text)\n",
        "    return new_text\n",
        "\n",
        "df['Volume'] = df['InfoProductM'].apply(get_features_from_infomanager, re_expression=('Объем: (.*?)Вес')).fillna(0)\n",
        "df['PriceOPT'] = df['InfoProductM'].apply(get_features_from_infomanager, re_expression=('Закуп: (.*?)Поставщик')).fillna(0)\n",
        "df['Vendor'] = df['InfoProductM'].apply(get_features_from_infomanager, re_expression=('Поставщик: (.*?)Наименование')).fillna('Unknown')\n",
        "df['Weight'] = df['InfoProductM'].apply(get_features_from_infomanager, re_expression=('Вес: (.*?)Штук в упаковке')).fillna(0)"
      ],
      "execution_count": null,
      "outputs": []
    },
    {
      "cell_type": "code",
      "metadata": {
        "id": "kjzuqS_xoiqC"
      },
      "source": [
        "df = df.drop(['InfoProductM'], axis=1)"
      ],
      "execution_count": null,
      "outputs": []
    },
    {
      "cell_type": "code",
      "metadata": {
        "id": "8VbxCzccrTrP"
      },
      "source": [
        "cols_to_numeric = ['Message_ID', 'Parent_Message_ID', 'Noindex', 'Volume', 'PriceOPT', 'Weight']\n",
        "for column in cols_to_numeric:\n",
        "    if column in df.columns:\n",
        "        if column == 'PriceOPT' or column == 'Weight' or column == 'Volume':\n",
        "            df[column] = df[column].str.replace(',', '.')\n",
        "            df[column] = pd.to_numeric(df[column], errors='coerce')\n",
        "            df[column] = df[column].fillna(0)\n",
        "        else:\n",
        "            df[column] = pd.to_numeric(df[column], errors='coerce')"
      ],
      "execution_count": null,
      "outputs": []
    },
    {
      "cell_type": "code",
      "metadata": {
        "id": "-yhj119D2FEH"
      },
      "source": [
        "df = df.loc[df['PriceOPT'] > 0]"
      ],
      "execution_count": null,
      "outputs": []
    },
    {
      "cell_type": "code",
      "metadata": {
        "id": "FktPd8J-w1-F"
      },
      "source": [
        "df['IsParent'] = np.where((df['Parent_Message_ID'] == 0), 1, 0)"
      ],
      "execution_count": null,
      "outputs": []
    },
    {
      "cell_type": "code",
      "metadata": {
        "id": "oC4Xkb9Uo1LF"
      },
      "source": [
        "df = df.loc[df['IsParent'] == 1]"
      ],
      "execution_count": null,
      "outputs": []
    },
    {
      "cell_type": "code",
      "metadata": {
        "id": "GGZxMLlttrs-",
        "colab": {
          "base_uri": "https://localhost:8080/"
        },
        "outputId": "8626d3bc-3c8f-4c2c-b3d8-a3ef9f8ebabe"
      },
      "source": [
        "df['Noindex'] = df['Noindex'].fillna(0)"
      ],
      "execution_count": null,
      "outputs": [
        {
          "output_type": "stream",
          "name": "stderr",
          "text": [
            "/usr/local/lib/python3.7/dist-packages/ipykernel_launcher.py:1: SettingWithCopyWarning: \n",
            "A value is trying to be set on a copy of a slice from a DataFrame.\n",
            "Try using .loc[row_indexer,col_indexer] = value instead\n",
            "\n",
            "See the caveats in the documentation: https://pandas.pydata.org/pandas-docs/stable/user_guide/indexing.html#returning-a-view-versus-a-copy\n",
            "  \"\"\"Entry point for launching an IPython kernel.\n"
          ]
        }
      ]
    },
    {
      "cell_type": "code",
      "metadata": {
        "id": "1yUMCwblpcBU"
      },
      "source": [
        "df = df.loc[df['Noindex'] == 0]"
      ],
      "execution_count": null,
      "outputs": []
    },
    {
      "cell_type": "code",
      "metadata": {
        "id": "epxgEe1e7CWp"
      },
      "source": [
        "for column in df.columns:\n",
        "    if column in useless_columns:\n",
        "        df = df.drop(column, axis=1)"
      ],
      "execution_count": null,
      "outputs": []
    },
    {
      "cell_type": "code",
      "metadata": {
        "id": "Hgt5FvwlcXNH"
      },
      "source": [
        "def get_main_subid(text):\n",
        "    new_text = text.split('.')\n",
        "    new_text = new_text[0]\n",
        "    return new_text\n",
        "\n",
        "df['Main_ID_Razdel'] = df['Sub_ID'].apply(get_main_subid)"
      ],
      "execution_count": null,
      "outputs": []
    },
    {
      "cell_type": "code",
      "metadata": {
        "id": "PYJmcVpw7Vdi"
      },
      "source": [
        "df['FullName'] = df[['Category', 'VariantTitle', 'VariantName', 'Seria', 'Model']].apply(lambda x: ' '.join(x.dropna().astype(str)),axis=1)\n",
        "df = df.drop(['VariantTitle', 'VariantName', 'Model'], axis=1)"
      ],
      "execution_count": null,
      "outputs": []
    },
    {
      "cell_type": "code",
      "metadata": {
        "id": "9UJuw4HbubUj"
      },
      "source": [
        "def clean(text):\n",
        "    \n",
        "    '''\n",
        "    - Приводит текстовую строку к нижнему регистру,\n",
        "    - Очищает от пробелов и других лишних символов\n",
        "    - ???\n",
        "    - Заменяет двойные пробелы единичными\n",
        "    - Избавляется от скобок\n",
        "    - Очищает объем внутри скобок, например (1400x900x300) заменяется на ()\n",
        "    - ???\n",
        "    - ???\n",
        "    - Удаляет английские буквы\n",
        "    '''\n",
        "    \n",
        "    if pd.isna(text) == True:\n",
        "        return text\n",
        "    else:\n",
        "        text = text.lower()    \n",
        "        text = re.sub(r\"(?:\\n|\\r)\", \" \", text)\n",
        "        text = re.sub(r\"[^a-zA-Zа-яА-Я0-9 ]+\", \" \", text).strip()\n",
        "        text = text.replace(\"  \", \" \")\n",
        "        text = re.sub(r'[0-9]{2,4}.[0-9]{2,4}.[0-9]{2,4}', '', text)\n",
        "        text = re.sub('[\\(\\)]', '', text)\n",
        "        text = re.sub('<[^<]+?>', '', text)\n",
        "        return text"
      ],
      "execution_count": null,
      "outputs": []
    },
    {
      "cell_type": "code",
      "metadata": {
        "id": "SzpCzhfVub8C"
      },
      "source": [
        "def clean_numbers(text):\n",
        "    text = re.sub('[0-9]', \"\", str(text))\n",
        "    text = text.replace(\"  \", \" \")\n",
        "    return text"
      ],
      "execution_count": null,
      "outputs": []
    },
    {
      "cell_type": "code",
      "metadata": {
        "id": "rq0i-vQgumfC"
      },
      "source": [
        "def clean_html(text):\n",
        "    '''\n",
        "    Очищает текстовую строку от HTML кода с помощью BeatifulSoup\n",
        "    '''\n",
        "    \n",
        "    if pd.isna(text) == True:\n",
        "        return text\n",
        "    else:\n",
        "        soup = BeautifulSoup(text)\n",
        "        text = soup.get_text(\" \")\n",
        "        return text"
      ],
      "execution_count": null,
      "outputs": []
    },
    {
      "cell_type": "code",
      "metadata": {
        "id": "sxVqMbaPcuJz"
      },
      "source": [
        "df['Details'] = df['Details'].apply(clean_html)\n",
        "df['Details'] = df['Details'].apply(clean_numbers)\n",
        "df['Details'] = df['Details'].apply(clean)\n",
        "df['Details'] = df['Details'].replace(r'\\s+',' ',regex=True)\n",
        "df = df.loc[df['Details'].isna() == False]"
      ],
      "execution_count": null,
      "outputs": []
    },
    {
      "cell_type": "code",
      "metadata": {
        "id": "D4AZm_xv9m5L"
      },
      "source": [
        "df['Seria'] = df['Seria'].fillna('Отсутствует')"
      ],
      "execution_count": null,
      "outputs": []
    },
    {
      "cell_type": "code",
      "metadata": {
        "id": "iLIHcLl6bKUM",
        "colab": {
          "base_uri": "https://localhost:8080/"
        },
        "outputId": "81896eaf-6e37-4095-8d36-e8d9d3d79937"
      },
      "source": [
        "stop_words = set(nltk_stopwords.words('russian'))\n",
        "morph = MorphAnalyzer()"
      ],
      "execution_count": null,
      "outputs": [
        {
          "output_type": "stream",
          "name": "stdout",
          "text": [
            "Loading dictionaries from /usr/local/lib/python3.7/dist-packages/pymorphy2_dicts_ru/data\n",
            "format: 2.4, revision: 417127, updated: 2020-10-11T15:05:51.070345\n"
          ]
        }
      ]
    },
    {
      "cell_type": "code",
      "metadata": {
        "colab": {
          "base_uri": "https://localhost:8080/"
        },
        "id": "08lTy-DJuux6",
        "outputId": "7ac164a6-0eb2-437e-95c0-835c95f8e60e"
      },
      "source": [
        "%%time\n",
        "def lemmatize(doc):\n",
        "    tokens = []\n",
        "    for token in doc.split():\n",
        "        if token and token not in stop_words:\n",
        "            token = token.strip()\n",
        "            token = morph.parse(token)[0]\n",
        "            token = token.normal_form\n",
        "            tokens.append(token)\n",
        "    if len(tokens) > 0:\n",
        "        return \" \".join(tokens)\n",
        "    return None\n",
        "df['Details'] = df['Details'].apply(lemmatize)"
      ],
      "execution_count": null,
      "outputs": [
        {
          "output_type": "stream",
          "name": "stdout",
          "text": [
            "CPU times: user 22.6 s, sys: 26.3 ms, total: 22.6 s\n",
            "Wall time: 22.7 s\n"
          ]
        }
      ]
    },
    {
      "cell_type": "code",
      "metadata": {
        "id": "B4HjWKc1vJ_R"
      },
      "source": [
        "df['Details'] = df['Details'].apply(lambda x: ' '.join([word for word in x.split() if word not in (stop_words)]))\n",
        "df['Details'] = df['Details'].str.strip().str.split(' ')"
      ],
      "execution_count": null,
      "outputs": []
    },
    {
      "cell_type": "code",
      "metadata": {
        "id": "j86V195fvOfx"
      },
      "source": [
        "additional_stopwords = ['характеристика', 'цвет', 'габарит', 'размер', 'который', 'это', 'вес', 'шхвхг', \n",
        "                        'вхшхг', 'прекрасно', 'широта', 'также', 'ваш', 'менеджер', 'уточнять', 'квт']\n",
        "df['Details'] = df['Details'].apply(lambda x: ([word for word in x if word not in (additional_stopwords)]))"
      ],
      "execution_count": null,
      "outputs": []
    },
    {
      "cell_type": "code",
      "metadata": {
        "id": "ivDEJLDsvbtI"
      },
      "source": [
        "from collections import Counter\n",
        "def new_lemmatize(lemmatize_list):\n",
        "    cleared_lemmatize_list = []\n",
        "    for i in lemmatize_list:\n",
        "        i = re.sub('[a-zA-Z]', '', i).strip()\n",
        "        if len(i) > 3 and i != \" \":\n",
        "            cleared_lemmatize_list.append(i)\n",
        "    return cleared_lemmatize_list\n",
        "\n",
        "df['Details'] = df['Details'].apply(new_lemmatize)\n",
        "df = df.loc[df.astype(str)['Details'] != '[]']"
      ],
      "execution_count": null,
      "outputs": []
    },
    {
      "cell_type": "code",
      "metadata": {
        "id": "qvRsSno6xKPH"
      },
      "source": [
        "def predict_n_clusters(X, clusters_range, x_type=None):\n",
        "    sil_score_max = -1\n",
        "    \n",
        "    scaler = StandardScaler()\n",
        "    scaler.fit(X)\n",
        "    X = scaler.transform(X)\n",
        "\n",
        "    for i in range(2,clusters_range + 1):\n",
        "        model = KMeans(n_clusters=i, init='k-means++', n_init=5, max_iter=1000, tol=0.000001, random_state=random_state)\n",
        "        labels = model.fit_predict(X)\n",
        "        sil_score = silhouette_score(X, labels)\n",
        "        print(\"The average silhouette score for %i clusters is %0.2f\" %(i,sil_score))\n",
        "        if sil_score > sil_score_max:\n",
        "            sil_score_max = sil_score\n",
        "            best_n_clusters = i\n",
        "            if round(sil_score, 2) == 1.00:\n",
        "                break\n",
        "def clusterization_kmeans(X, n_clusters, x_type=None):\n",
        "    scaler = StandardScaler()\n",
        "    scaler.fit(X)\n",
        "    X = scaler.transform(X)\n",
        "\n",
        "    model = KMeans(n_clusters=n_clusters, init='k-means++', n_init=5, max_iter=1000, tol=0.000001, random_state=random_state)\n",
        "    model.fit(X)\n",
        "    clusters = model.predict(X)\n",
        "    return clusters"
      ],
      "execution_count": null,
      "outputs": []
    },
    {
      "cell_type": "code",
      "metadata": {
        "colab": {
          "base_uri": "https://localhost:8080/"
        },
        "id": "IfdmKj36xOvO",
        "outputId": "7d6f1b8b-4c27-4c5b-8608-e319be76f3e4"
      },
      "source": [
        "predict_n_clusters(df[['Volume', 'Weight']], 20)"
      ],
      "execution_count": null,
      "outputs": [
        {
          "output_type": "stream",
          "name": "stdout",
          "text": [
            "The average silhouette score for 2 clusters is 0.52\n",
            "The average silhouette score for 3 clusters is 0.44\n",
            "The average silhouette score for 4 clusters is 0.54\n",
            "The average silhouette score for 5 clusters is 0.51\n",
            "The average silhouette score for 6 clusters is 0.51\n",
            "The average silhouette score for 7 clusters is 0.49\n",
            "The average silhouette score for 8 clusters is 0.49\n",
            "The average silhouette score for 9 clusters is 0.45\n",
            "The average silhouette score for 10 clusters is 0.46\n",
            "The average silhouette score for 11 clusters is 0.45\n",
            "The average silhouette score for 12 clusters is 0.46\n",
            "The average silhouette score for 13 clusters is 0.44\n",
            "The average silhouette score for 14 clusters is 0.45\n",
            "The average silhouette score for 15 clusters is 0.45\n",
            "The average silhouette score for 16 clusters is 0.45\n",
            "The average silhouette score for 17 clusters is 0.46\n",
            "The average silhouette score for 18 clusters is 0.46\n",
            "The average silhouette score for 19 clusters is 0.45\n",
            "The average silhouette score for 20 clusters is 0.45\n"
          ]
        }
      ]
    },
    {
      "cell_type": "code",
      "metadata": {
        "id": "CRyUydVYxO3F"
      },
      "source": [
        "df['SizeCluster'] = clusterization_kmeans(df[['Volume', 'Weight']], 4)"
      ],
      "execution_count": null,
      "outputs": []
    },
    {
      "cell_type": "code",
      "metadata": {
        "id": "NBjmq0O_xO99"
      },
      "source": [
        "df['PriceCluster'] = pd.qcut(df['PriceOPT'], q=10, labels=range(0, 10))"
      ],
      "execution_count": null,
      "outputs": []
    },
    {
      "cell_type": "code",
      "metadata": {
        "id": "bHcBNrrApnvv"
      },
      "source": [
        "df = df.reset_index()"
      ],
      "execution_count": null,
      "outputs": []
    },
    {
      "cell_type": "code",
      "metadata": {
        "id": "-Bjio8LJMB-Q"
      },
      "source": [
        "def create_diff_matrix(col):\n",
        "    x = df[col].to_numpy().reshape(-1, 1)\n",
        "    y = df[col].to_numpy().reshape(1, -1)\n",
        "    diff_matrix = np.zeros(shape=(len(df)+1,len(df)+1))\n",
        "    diff_matrix = x - y\n",
        "    return diff_matrix"
      ],
      "execution_count": null,
      "outputs": []
    },
    {
      "cell_type": "code",
      "metadata": {
        "id": "NdmcFn9kfVIA"
      },
      "source": [
        "tf = TfidfVectorizer(analyzer='word', ngram_range=(1, 2), min_df=0, stop_words=stop_words)\n",
        "\n",
        "details_corpus = df['Details'].astype('U').values\n",
        "details_matrix = tf.fit_transform(details_corpus)\n",
        "\n",
        "coeff_list = [0.55, 0.125, 0.125, 0.2]\n",
        "\n",
        "if sum(coeff_list) == 1.0:\n",
        "    cosine_similarities_details = cosine_similarity(details_matrix, details_matrix) * coeff_list[0]\n",
        "    cosine_similarities_volume = cosine_similarity(create_diff_matrix('Volume'), create_diff_matrix('Volume')) * coeff_list[1]\n",
        "    cosine_similarities_weight = cosine_similarity(create_diff_matrix('Weight'), create_diff_matrix('Weight')) * coeff_list[2]\n",
        "    cosine_similarities_price = cosine_similarity(create_diff_matrix('PriceOPT'), create_diff_matrix('PriceOPT')) * coeff_list[3]\n",
        "\n",
        "    cosine_similarities = cosine_similarities_details + cosine_similarities_volume + cosine_similarities_weight + cosine_similarities_price\n",
        "else:\n",
        "    print('1')"
      ],
      "execution_count": null,
      "outputs": []
    },
    {
      "cell_type": "code",
      "metadata": {
        "id": "xNRApTtd8QE8"
      },
      "source": [
        "def check_conditions(row, similar_row):\n",
        "    if row['ItemID'] != similar_row['ItemID']:\n",
        "        pass\n",
        "    else:\n",
        "        return False\n",
        "        \n",
        "    if row['Seria'] == 'Отсутствует' or similar_row['Seria'] == 'Отсутствует' or row['Seria'] != similar_row['Seria']:\n",
        "        pass\n",
        "    else:\n",
        "        return False\n",
        "\n",
        "    if row['Main_ID_Razdel'] == similar_row['Main_ID_Razdel']:\n",
        "        pass\n",
        "    else:\n",
        "        return False"
      ],
      "execution_count": null,
      "outputs": []
    },
    {
      "cell_type": "code",
      "metadata": {
        "id": "cIJqttggeMhC",
        "colab": {
          "base_uri": "https://localhost:8080/"
        },
        "outputId": "9d9eaf7f-fc33-4dc3-f7c0-50d8a422e325"
      },
      "source": [
        "%%time\n",
        "df_dict = df.to_dict(orient='index')\n",
        "results = {}\n",
        "similar_items = []\n",
        "for idx in df_dict:\n",
        "    similar_items = []\n",
        "    similar_indices = cosine_similarities[idx].argsort()[:-100:-1]\n",
        "    for i in similar_indices:\n",
        "        if check_conditions(df_dict[idx], df_dict[i]) == False:\n",
        "            continue\n",
        "        else:\n",
        "            similar_items.append((cosine_similarities[idx][i], df_dict[i]['ItemID']))\n",
        "            break\n",
        "    if similar_items:\n",
        "        results[df_dict[idx]['ItemID']] = similar_items\n",
        "    elif not similar_items:\n",
        "        continue"
      ],
      "execution_count": null,
      "outputs": [
        {
          "output_type": "stream",
          "name": "stdout",
          "text": [
            "CPU times: user 208 ms, sys: 1.53 ms, total: 210 ms\n",
            "Wall time: 214 ms\n"
          ]
        }
      ]
    },
    {
      "cell_type": "code",
      "metadata": {
        "id": "Ki8G4fjIjPzq"
      },
      "source": [
        "results_df_dict = df.set_index('ItemID').to_dict('index')\n",
        "def item(id):\n",
        "    return results_df_dict[id]['FullName']\n",
        "\n",
        "def recommend_single_item(item_id, num):\n",
        "    '''\n",
        "    По определенному коду 1С выдает \n",
        "    определенное количество наиболее похожих товаров\n",
        "    '''\n",
        "    print(\"Предсказываем \" + str(num) + \" товаров похожих на \" + results_df_dict[id]['FullName'] + \" /// \" + item_id)\n",
        "    print(\"-------\")\n",
        "    recs = results[item_id][:num]\n",
        "    for rec in recs:\n",
        "        print(\"Рекомендуются: \" + item(rec[1]) + \" (Точность:\" + str(round(rec[0], 4)) + \")\" + \" /// \" + rec[1])\n",
        "    print('')\n",
        "\n",
        "def recommend_all(items_id, num_predictions):\n",
        "    \n",
        "    '''\n",
        "    Предсказывает по всем кодам 1С \n",
        "    определенное количество наиболее похожих товаров\n",
        "    по текстовому описанию, цене, объемному весу и категории товара\n",
        "    '''\n",
        "    \n",
        "    results_list = []\n",
        "    metric_list = []\n",
        "    columns = ['Код 1С основного товара', 'Наименование основного товара', 'Поставщик основного товара', \n",
        "               'Код 1С предсказываемого товара', 'Наименование предсказываемого товара', 'Поставщик предсказываемого товара',\n",
        "               'Точность предсказания']\n",
        "    \n",
        "    for item_id in items_id:\n",
        "        metric = 0\n",
        "        count_results = 0\n",
        "        if item_id in results:\n",
        "            recs = results[item_id][:num_predictions]\n",
        "        else:\n",
        "            continue\n",
        "        for rec in recs:\n",
        "            main_item_id = item_id\n",
        "            main_item_name = results_df_dict[main_item_id]['FullName']\n",
        "            main_item_vendor = results_df_dict[main_item_id]['Vendor']\n",
        "            predicted_item_vendor = results_df_dict[rec[1]]['Vendor']\n",
        "            new_row = [main_item_id, main_item_name, main_item_vendor,\n",
        "                       rec[1], item(rec[1]), predicted_item_vendor, str(round(rec[0], 4))]\n",
        "            metric += round(rec[0], 5)\n",
        "            count_results += 1 \n",
        "            results_list.append(new_row)\n",
        "        metric_list.append(metric / count_results)\n",
        "    print('Среднее значение точности предсказания - ', str(round(sum(metric_list) / len(metric_list), 4)))\n",
        "    results_dataframe = pd.DataFrame(results_list, columns=columns)\n",
        "    return results_dataframe"
      ],
      "execution_count": null,
      "outputs": []
    },
    {
      "cell_type": "code",
      "metadata": {
        "colab": {
          "base_uri": "https://localhost:8080/",
          "height": 478
        },
        "id": "GMSDTA8vjg9Y",
        "outputId": "61727939-8879-4f5c-c986-073cf1622704"
      },
      "source": [
        "%%time\n",
        "results_dataframe = recommend_all(df['ItemID'], 5)\n",
        "display(results_dataframe.head(10))\n",
        "\n",
        "#results_dataframe.to_excel('results_dataframe.xlsx')\n",
        "#files.download('results_dataframe.xlsx')"
      ],
      "execution_count": null,
      "outputs": [
        {
          "output_type": "stream",
          "name": "stdout",
          "text": [
            "Среднее значение точности предсказания -  0.7649\n"
          ]
        },
        {
          "output_type": "display_data",
          "data": {
            "text/html": [
              "<div>\n",
              "<style scoped>\n",
              "    .dataframe tbody tr th:only-of-type {\n",
              "        vertical-align: middle;\n",
              "    }\n",
              "\n",
              "    .dataframe tbody tr th {\n",
              "        vertical-align: top;\n",
              "    }\n",
              "\n",
              "    .dataframe thead th {\n",
              "        text-align: right;\n",
              "    }\n",
              "</style>\n",
              "<table border=\"1\" class=\"dataframe\">\n",
              "  <thead>\n",
              "    <tr style=\"text-align: right;\">\n",
              "      <th></th>\n",
              "      <th>Код 1С основного товара</th>\n",
              "      <th>Наименование основного товара</th>\n",
              "      <th>Поставщик основного товара</th>\n",
              "      <th>Код 1С предсказываемого товара</th>\n",
              "      <th>Наименование предсказываемого товара</th>\n",
              "      <th>Поставщик предсказываемого товара</th>\n",
              "      <th>Точность предсказания</th>\n",
              "    </tr>\n",
              "  </thead>\n",
              "  <tbody>\n",
              "    <tr>\n",
              "      <th>0</th>\n",
              "      <td>К029606</td>\n",
              "      <td>Электроочаг модель FX Black Fobos FX</td>\n",
              "      <td>Белая гвардия</td>\n",
              "      <td>Н065923</td>\n",
              "      <td>Электроочаг модель FX M Black Majestic FX</td>\n",
              "      <td>Белая гвардия</td>\n",
              "      <td>0.5687</td>\n",
              "    </tr>\n",
              "    <tr>\n",
              "      <th>1</th>\n",
              "      <td>К015725</td>\n",
              "      <td>Электроочаг Eugene</td>\n",
              "      <td>Real Flame</td>\n",
              "      <td>К015532</td>\n",
              "      <td>Электроочаг MoonBlaze Deluxe</td>\n",
              "      <td>Real Flame</td>\n",
              "      <td>0.6955</td>\n",
              "    </tr>\n",
              "    <tr>\n",
              "      <th>2</th>\n",
              "      <td>К029615</td>\n",
              "      <td>Электрокамин очаг Fobos FX Black Venice махаго...</td>\n",
              "      <td>Белая гвардия</td>\n",
              "      <td>Н024920</td>\n",
              "      <td>Электрокамин очаг Fobos FX Black Neapol махагон</td>\n",
              "      <td>Белая гвардия</td>\n",
              "      <td>0.8833</td>\n",
              "    </tr>\n",
              "    <tr>\n",
              "      <th>3</th>\n",
              "      <td>Н024920</td>\n",
              "      <td>Электрокамин очаг Fobos FX Black Neapol махагон</td>\n",
              "      <td>Белая гвардия</td>\n",
              "      <td>К029615</td>\n",
              "      <td>Электрокамин очаг Fobos FX Black Venice махаго...</td>\n",
              "      <td>Белая гвардия</td>\n",
              "      <td>0.8833</td>\n",
              "    </tr>\n",
              "    <tr>\n",
              "      <th>4</th>\n",
              "      <td>К015532</td>\n",
              "      <td>Электроочаг MoonBlaze Deluxe</td>\n",
              "      <td>Real Flame</td>\n",
              "      <td>Н024439</td>\n",
              "      <td>Электроочаг Majestic Lux Black</td>\n",
              "      <td>Real Flame</td>\n",
              "      <td>0.767</td>\n",
              "    </tr>\n",
              "    <tr>\n",
              "      <th>5</th>\n",
              "      <td>К029661</td>\n",
              "      <td>Портал Lumsden</td>\n",
              "      <td>Белая гвардия</td>\n",
              "      <td>К029671</td>\n",
              "      <td>Портал Neapol</td>\n",
              "      <td>Белая гвардия</td>\n",
              "      <td>0.7516</td>\n",
              "    </tr>\n",
              "    <tr>\n",
              "      <th>6</th>\n",
              "      <td>К029687</td>\n",
              "      <td>Портал модель dark Cardinal</td>\n",
              "      <td>Белая гвардия</td>\n",
              "      <td>К029694</td>\n",
              "      <td>Портал Boston</td>\n",
              "      <td>Белая гвардия</td>\n",
              "      <td>0.532</td>\n",
              "    </tr>\n",
              "    <tr>\n",
              "      <th>7</th>\n",
              "      <td>К029689</td>\n",
              "      <td>Портал Rodos</td>\n",
              "      <td>Белая гвардия</td>\n",
              "      <td>К052437</td>\n",
              "      <td>Портал Adel</td>\n",
              "      <td>Белая гвардия</td>\n",
              "      <td>0.4717</td>\n",
              "    </tr>\n",
              "    <tr>\n",
              "      <th>8</th>\n",
              "      <td>К029671</td>\n",
              "      <td>Портал Neapol</td>\n",
              "      <td>Белая гвардия</td>\n",
              "      <td>К029661</td>\n",
              "      <td>Портал Lumsden</td>\n",
              "      <td>Белая гвардия</td>\n",
              "      <td>0.7516</td>\n",
              "    </tr>\n",
              "    <tr>\n",
              "      <th>9</th>\n",
              "      <td>К029690</td>\n",
              "      <td>Портал Manchester</td>\n",
              "      <td>Белая гвардия</td>\n",
              "      <td>К029671</td>\n",
              "      <td>Портал Neapol</td>\n",
              "      <td>Белая гвардия</td>\n",
              "      <td>0.5798</td>\n",
              "    </tr>\n",
              "  </tbody>\n",
              "</table>\n",
              "</div>"
            ],
            "text/plain": [
              "  Код 1С основного товара  ... Точность предсказания\n",
              "0                 К029606  ...                0.5687\n",
              "1                 К015725  ...                0.6955\n",
              "2                 К029615  ...                0.8833\n",
              "3                 Н024920  ...                0.8833\n",
              "4                 К015532  ...                 0.767\n",
              "5                 К029661  ...                0.7516\n",
              "6                 К029687  ...                 0.532\n",
              "7                 К029689  ...                0.4717\n",
              "8                 К029671  ...                0.7516\n",
              "9                 К029690  ...                0.5798\n",
              "\n",
              "[10 rows x 7 columns]"
            ]
          },
          "metadata": {}
        },
        {
          "output_type": "stream",
          "name": "stdout",
          "text": [
            "CPU times: user 54.8 ms, sys: 1.21 ms, total: 56 ms\n",
            "Wall time: 68.3 ms\n"
          ]
        }
      ]
    },
    {
      "cell_type": "code",
      "metadata": {
        "id": "zhE9NB6y5dpX"
      },
      "source": [
        "full_path = '/content/Похожие товары 18112021.csv'\n",
        "test = pd.read_csv(full_path, encoding='1251', delimiter=';', decimal=',', engine = 'python', index_col=False).astype(str)"
      ],
      "execution_count": null,
      "outputs": []
    },
    {
      "cell_type": "code",
      "metadata": {
        "colab": {
          "base_uri": "https://localhost:8080/"
        },
        "id": "MEUWh0ZO9XSw",
        "outputId": "76b9ad21-3871-4331-fa90-8b0cc386c4ef"
      },
      "source": [
        "for column in test:\n",
        "    results_test_list = []\n",
        "    count_plus = 0\n",
        "    count_minus = 0  \n",
        "    for value in test[column]:\n",
        "        if len(df[df['ItemID'].astype(str) == value]) > 0:\n",
        "            count_plus += 1\n",
        "            results_test_list.append(df[df['ItemID'] == value].index[0])\n",
        "        else:\n",
        "            count_minus += 1\n",
        "            results_test_list.append(0)\n",
        "    test[column] = results_test_list\n",
        "print(count_plus)\n",
        "print(count_minus)"
      ],
      "execution_count": null,
      "outputs": [
        {
          "output_type": "stream",
          "name": "stdout",
          "text": [
            "90\n",
            "0\n"
          ]
        }
      ]
    },
    {
      "cell_type": "markdown",
      "metadata": {
        "id": "DAQNsODEIcJ6"
      },
      "source": [
        "Results_test - сравнение с товарами из блока похожие товары\n",
        "</br>\n",
        "Results - модель"
      ]
    },
    {
      "cell_type": "code",
      "metadata": {
        "id": "ngXrUy0952_w"
      },
      "source": [
        "results_test = {}\n",
        "similar_items_test = []\n",
        "\n",
        "results = {}\n",
        "similar_items = []\n",
        "\n",
        "for idx in test_dict:\n",
        "    count_i = 0\n",
        "    similar_items_test = []\n",
        "    similar_items = []\n",
        "\n",
        "    similar_indices = cosine_similarities[idx].argsort()[:(len(df)+1)*-1:-1]\n",
        "    \n",
        "    for i in similar_indices:\n",
        "        if i in test_dict[idx]:\n",
        "            similar_items_test.append((cosine_similarities[idx][i], df_dict[i]['ItemID']))\n",
        "        \n",
        "        if check_conditions(df_dict[idx], df_dict[i]) == False:\n",
        "            continue\n",
        "        elif count_i < 4:\n",
        "            similar_items.append((cosine_similarities[idx][i], df_dict[i]['ItemID']))\n",
        "            count_i += 1\n",
        "\n",
        "    if similar_items_test:\n",
        "        results_test[df_dict[idx]['ItemID']] = similar_items_test\n",
        "    elif not similar_items_test:\n",
        "        continue\n",
        "\n",
        "    if similar_items:\n",
        "        results[df_dict[idx]['ItemID']] = similar_items\n",
        "    elif not similar_items:\n",
        "        continue"
      ],
      "execution_count": null,
      "outputs": []
    },
    {
      "cell_type": "code",
      "metadata": {
        "colab": {
          "base_uri": "https://localhost:8080/"
        },
        "id": "o6A12IAPN9Ok",
        "outputId": "a8dec09d-16fd-4685-c34f-4935659fe435"
      },
      "source": [
        "metric_list = []\n",
        "# Вытягиваем строку с предсказаниями\n",
        "for idx in test_dict:\n",
        "    # Вытягиваем предсказание\n",
        "    metric_sublist = []\n",
        "    for i in range(len(results[df_dict[idx]['ItemID']])):\n",
        "        row = results[df_dict[idx]['ItemID']][i]\n",
        "        row_test = results_test[df_dict[idx]['ItemID']][i]\n",
        "        element = row[0]\n",
        "        element_test = row_test[0]\n",
        "        metric_sublist.append(element - element_test)\n",
        "    metric = sum(metric_sublist) / len(metric_sublist)\n",
        "    metric_list.append(metric)\n",
        "print('Разница между средними значениями предсказываемых товаров и существующих похожих товаров -', round(sum(metric_list) / len(metric_list), 4))"
      ],
      "execution_count": null,
      "outputs": [
        {
          "output_type": "stream",
          "name": "stdout",
          "text": [
            "Разница между средними значениями предсказываемых товаров и существующих похожих товаров - 0.225\n"
          ]
        }
      ]
    }
  ]
}