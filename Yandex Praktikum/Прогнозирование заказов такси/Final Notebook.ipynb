{
 "cells": [
  {
   "cell_type": "markdown",
   "metadata": {
    "toc": true
   },
   "source": [
    "<h1>Содержание<span class=\"tocSkip\"></span></h1>\n",
    "<div class=\"toc\"><ul class=\"toc-item\"><li><span><a href=\"#Прогнозирование-заказов-такси\" data-toc-modified-id=\"Прогнозирование-заказов-такси-1\">Прогнозирование заказов такси</a></span></li><li><span><a href=\"#План-работы:\" data-toc-modified-id=\"План-работы:-2\">План работы:</a></span></li><li><span><a href=\"#Подключение-библиотек\" data-toc-modified-id=\"Подключение-библиотек-3\">Подключение библиотек</a></span></li><li><span><a href=\"#1.-Загрузка-данных\" data-toc-modified-id=\"1.-Загрузка-данных-4\">1. Загрузка данных</a></span></li><li><span><a href=\"#2.-Анализ-данных\" data-toc-modified-id=\"2.-Анализ-данных-5\">2. Анализ данных</a></span></li><li><span><a href=\"#3.-Обучение-и-тестирование-моделей.\" data-toc-modified-id=\"3.-Обучение-и-тестирование-моделей.-6\">3. Обучение и тестирование моделей.</a></span><ul class=\"toc-item\"><li><span><a href=\"#3.1.-Дерево-решений.\" data-toc-modified-id=\"3.1.-Дерево-решений.-6.1\">3.1. Дерево решений.</a></span></li><li><span><a href=\"#3.2.-Случайный-лес.\" data-toc-modified-id=\"3.2.-Случайный-лес.-6.2\">3.2. Случайный лес.</a></span></li><li><span><a href=\"#3.3.-CatBoost.\" data-toc-modified-id=\"3.3.-CatBoost.-6.3\">3.3. CatBoost.</a></span></li><li><span><a href=\"#3.4.-LGBM.\" data-toc-modified-id=\"3.4.-LGBM.-6.4\">3.4. LGBM.</a></span></li><li><span><a href=\"#3.5.-XGBoost.\" data-toc-modified-id=\"3.5.-XGBoost.-6.5\">3.5. XGBoost.</a></span></li></ul></li><li><span><a href=\"#4.-Итоговый-вывод.\" data-toc-modified-id=\"4.-Итоговый-вывод.-7\">4. Итоговый вывод.</a></span><ul class=\"toc-item\"><li><span><a href=\"#Чек-лист-проверки\" data-toc-modified-id=\"Чек-лист-проверки-7.1\">Чек-лист проверки</a></span></li></ul></li></ul></div>"
   ]
  },
  {
   "cell_type": "markdown",
   "metadata": {},
   "source": [
    "#  Прогнозирование заказов такси"
   ]
  },
  {
   "cell_type": "markdown",
   "metadata": {},
   "source": [
    "Компания «Чётенькое такси» собрала исторические данные о заказах такси в аэропортах. Чтобы привлекать больше водителей в период пиковой нагрузки, нужно спрогнозировать количество заказов такси на следующий час. Постройте модель для такого предсказания.\n",
    "\n",
    "\n",
    "\n",
    "# План работы:\n",
    "\n",
    "1. Загрузка данных, проведение ресемплирование по одному часу\n",
    "2. Анализ данных, разбивка данных на обучающую/валидационную/тестовую выборки.\n",
    "3. Обучение разных моделей с разными гиперпараметрами. По условию значение метрики *RMSE* на тестовой выборке должно быть не больше 48.\n",
    "4. Проверка данных на тестовой выборке и итоговые выводы.\n",
    "\n",
    "Данные лежат в файле **`taxi.csv`.** Количество заказов находится в столбце **`num_orders`** (от англ. *number of orders*, «число заказов»).\n",
    "\n",
    "# Подключение библиотек"
   ]
  },
  {
   "cell_type": "code",
   "execution_count": 1,
   "metadata": {},
   "outputs": [],
   "source": [
    "import warnings; warnings.filterwarnings(\"ignore\", category=Warning)\n",
    "\n",
    "import pandas as pd\n",
    "import matplotlib.pyplot as plt\n",
    "import statsmodels.api as sm\n",
    "import xgboost as xgb\n",
    "\n",
    "from statsmodels.tsa.seasonal import seasonal_decompose\n",
    "\n",
    "from sklearn.linear_model import LinearRegression\n",
    "from sklearn.tree import DecisionTreeRegressor\n",
    "from sklearn.ensemble import RandomForestRegressor\n",
    "from catboost import CatBoostRegressor\n",
    "from lightgbm import LGBMRegressor\n",
    "from xgboost import XGBRegressor\n",
    "\n",
    "from sklearn.model_selection import GridSearchCV\n",
    "from sklearn.model_selection import TimeSeriesSplit\n",
    "\n",
    "from sklearn.model_selection import train_test_split\n",
    "\n",
    "from sklearn.metrics import mean_squared_error\n",
    "from sklearn.metrics import make_scorer"
   ]
  },
  {
   "cell_type": "code",
   "execution_count": 4,
   "metadata": {},
   "outputs": [
    {
     "name": "stdout",
     "output_type": "stream",
     "text": [
      "Defaulting to user installation because normal site-packages is not writeable\n",
      "Collecting https://github.com/ipython-contrib/jupyter_contrib_nbextensions/tarball/master\n",
      "  Downloading https://github.com/ipython-contrib/jupyter_contrib_nbextensions/tarball/master (23.4 MB)\n",
      "\u001b[K     |████████████████████████████████| 23.4 MB 29.0 MB/s eta 0:00:01\n",
      "\u001b[?25hRequirement already satisfied: ipython_genutils in /opt/conda/lib/python3.7/site-packages (from jupyter-contrib-nbextensions==0.5.3) (0.2.0)\n",
      "Requirement already satisfied: jupyter_contrib_core>=0.3.3 in /opt/conda/lib/python3.7/site-packages (from jupyter-contrib-nbextensions==0.5.3) (0.3.3)\n",
      "Requirement already satisfied: jupyter_core in /opt/conda/lib/python3.7/site-packages (from jupyter-contrib-nbextensions==0.5.3) (4.6.2)\n",
      "Requirement already satisfied: jupyter_highlight_selected_word>=0.1.1 in /opt/conda/lib/python3.7/site-packages (from jupyter-contrib-nbextensions==0.5.3) (0.2.0)\n",
      "Requirement already satisfied: jupyter_latex_envs>=1.4.0 in /opt/conda/lib/python3.7/site-packages (from jupyter-contrib-nbextensions==0.5.3) (1.4.6)\n",
      "Requirement already satisfied: jupyter_nbextensions_configurator>=0.4.0 in /opt/conda/lib/python3.7/site-packages (from jupyter-contrib-nbextensions==0.5.3) (0.4.1)\n",
      "Collecting nbconvert>=6.0\n",
      "  Downloading nbconvert-6.1.0-py3-none-any.whl (551 kB)\n",
      "\u001b[K     |████████████████████████████████| 551 kB 1.8 MB/s eta 0:00:01\n",
      "\u001b[?25hRequirement already satisfied: notebook>=6.0 in /opt/conda/lib/python3.7/site-packages (from jupyter-contrib-nbextensions==0.5.3) (6.1.4)\n",
      "Requirement already satisfied: tornado in /opt/conda/lib/python3.7/site-packages (from jupyter-contrib-nbextensions==0.5.3) (6.1)\n",
      "Requirement already satisfied: traitlets>=4.1 in /opt/conda/lib/python3.7/site-packages (from jupyter-contrib-nbextensions==0.5.3) (5.0.5)\n",
      "Requirement already satisfied: lxml in /opt/conda/lib/python3.7/site-packages (from jupyter-contrib-nbextensions==0.5.3) (4.4.1)\n",
      "Requirement already satisfied: setuptools in /opt/conda/lib/python3.7/site-packages (from jupyter_contrib_core>=0.3.3->jupyter-contrib-nbextensions==0.5.3) (49.6.0.post20210108)\n",
      "Requirement already satisfied: ipython in /opt/conda/lib/python3.7/site-packages (from jupyter_latex_envs>=1.4.0->jupyter-contrib-nbextensions==0.5.3) (7.24.1)\n",
      "Requirement already satisfied: pyyaml in /opt/conda/lib/python3.7/site-packages (from jupyter_nbextensions_configurator>=0.4.0->jupyter-contrib-nbextensions==0.5.3) (5.4.1)\n",
      "Requirement already satisfied: bleach in /opt/conda/lib/python3.7/site-packages (from nbconvert>=6.0->jupyter-contrib-nbextensions==0.5.3) (3.2.1)\n",
      "Requirement already satisfied: pygments>=2.4.1 in /opt/conda/lib/python3.7/site-packages (from nbconvert>=6.0->jupyter-contrib-nbextensions==0.5.3) (2.7.2)\n",
      "Requirement already satisfied: jupyterlab-pygments in /opt/conda/lib/python3.7/site-packages (from nbconvert>=6.0->jupyter-contrib-nbextensions==0.5.3) (0.1.2)\n",
      "Requirement already satisfied: nbformat>=4.4 in /opt/conda/lib/python3.7/site-packages (from nbconvert>=6.0->jupyter-contrib-nbextensions==0.5.3) (4.4.0)\n",
      "Requirement already satisfied: mistune<2,>=0.8.1 in /opt/conda/lib/python3.7/site-packages (from nbconvert>=6.0->jupyter-contrib-nbextensions==0.5.3) (0.8.4)\n",
      "Requirement already satisfied: jinja2>=2.4 in /opt/conda/lib/python3.7/site-packages (from nbconvert>=6.0->jupyter-contrib-nbextensions==0.5.3) (2.11.2)\n",
      "Requirement already satisfied: testpath in /opt/conda/lib/python3.7/site-packages (from nbconvert>=6.0->jupyter-contrib-nbextensions==0.5.3) (0.4.4)\n",
      "Requirement already satisfied: nbclient<0.6.0,>=0.5.0 in /opt/conda/lib/python3.7/site-packages (from nbconvert>=6.0->jupyter-contrib-nbextensions==0.5.3) (0.5.1)\n",
      "Requirement already satisfied: defusedxml in /opt/conda/lib/python3.7/site-packages (from nbconvert>=6.0->jupyter-contrib-nbextensions==0.5.3) (0.6.0)\n",
      "Requirement already satisfied: entrypoints>=0.2.2 in /opt/conda/lib/python3.7/site-packages (from nbconvert>=6.0->jupyter-contrib-nbextensions==0.5.3) (0.3)\n",
      "Requirement already satisfied: pandocfilters>=1.4.1 in /opt/conda/lib/python3.7/site-packages (from nbconvert>=6.0->jupyter-contrib-nbextensions==0.5.3) (1.4.2)\n",
      "Requirement already satisfied: argon2-cffi in /opt/conda/lib/python3.7/site-packages (from notebook>=6.0->jupyter-contrib-nbextensions==0.5.3) (20.1.0)\n",
      "Requirement already satisfied: pyzmq>=17 in /opt/conda/lib/python3.7/site-packages (from notebook>=6.0->jupyter-contrib-nbextensions==0.5.3) (22.0.3)\n",
      "Requirement already satisfied: terminado>=0.8.3 in /opt/conda/lib/python3.7/site-packages (from notebook>=6.0->jupyter-contrib-nbextensions==0.5.3) (0.10.0)\n",
      "Requirement already satisfied: ipykernel in /opt/conda/lib/python3.7/site-packages (from notebook>=6.0->jupyter-contrib-nbextensions==0.5.3) (5.5.5)\n",
      "Requirement already satisfied: Send2Trash in /opt/conda/lib/python3.7/site-packages (from notebook>=6.0->jupyter-contrib-nbextensions==0.5.3) (1.5.0)\n",
      "Requirement already satisfied: jupyter-client>=5.3.4 in /opt/conda/lib/python3.7/site-packages (from notebook>=6.0->jupyter-contrib-nbextensions==0.5.3) (5.3.4)\n",
      "Requirement already satisfied: prometheus-client in /opt/conda/lib/python3.7/site-packages (from notebook>=6.0->jupyter-contrib-nbextensions==0.5.3) (0.8.0)\n",
      "Requirement already satisfied: pickleshare in /opt/conda/lib/python3.7/site-packages (from ipython->jupyter_latex_envs>=1.4.0->jupyter-contrib-nbextensions==0.5.3) (0.7.5)\n",
      "Requirement already satisfied: matplotlib-inline in /opt/conda/lib/python3.7/site-packages (from ipython->jupyter_latex_envs>=1.4.0->jupyter-contrib-nbextensions==0.5.3) (0.1.2)\n",
      "Requirement already satisfied: pexpect>4.3; sys_platform != \"win32\" in /opt/conda/lib/python3.7/site-packages (from ipython->jupyter_latex_envs>=1.4.0->jupyter-contrib-nbextensions==0.5.3) (4.8.0)\n",
      "Requirement already satisfied: jedi>=0.16 in /opt/conda/lib/python3.7/site-packages (from ipython->jupyter_latex_envs>=1.4.0->jupyter-contrib-nbextensions==0.5.3) (0.17.2)\n",
      "Requirement already satisfied: prompt-toolkit!=3.0.0,!=3.0.1,<3.1.0,>=2.0.0 in /opt/conda/lib/python3.7/site-packages (from ipython->jupyter_latex_envs>=1.4.0->jupyter-contrib-nbextensions==0.5.3) (3.0.8)\n",
      "Requirement already satisfied: backcall in /opt/conda/lib/python3.7/site-packages (from ipython->jupyter_latex_envs>=1.4.0->jupyter-contrib-nbextensions==0.5.3) (0.2.0)\n",
      "Requirement already satisfied: decorator in /opt/conda/lib/python3.7/site-packages (from ipython->jupyter_latex_envs>=1.4.0->jupyter-contrib-nbextensions==0.5.3) (4.4.2)\n",
      "Requirement already satisfied: webencodings in /opt/conda/lib/python3.7/site-packages (from bleach->nbconvert>=6.0->jupyter-contrib-nbextensions==0.5.3) (0.5.1)\n",
      "Requirement already satisfied: packaging in /opt/conda/lib/python3.7/site-packages (from bleach->nbconvert>=6.0->jupyter-contrib-nbextensions==0.5.3) (20.4)\n",
      "Requirement already satisfied: six>=1.9.0 in /opt/conda/lib/python3.7/site-packages (from bleach->nbconvert>=6.0->jupyter-contrib-nbextensions==0.5.3) (1.15.0)\n",
      "Requirement already satisfied: jsonschema!=2.5.0,>=2.4 in /opt/conda/lib/python3.7/site-packages (from nbformat>=4.4->nbconvert>=6.0->jupyter-contrib-nbextensions==0.5.3) (3.2.0)\n",
      "Requirement already satisfied: MarkupSafe>=0.23 in /opt/conda/lib/python3.7/site-packages (from jinja2>=2.4->nbconvert>=6.0->jupyter-contrib-nbextensions==0.5.3) (2.0.1)\n",
      "Requirement already satisfied: nest-asyncio in /opt/conda/lib/python3.7/site-packages (from nbclient<0.6.0,>=0.5.0->nbconvert>=6.0->jupyter-contrib-nbextensions==0.5.3) (1.4.2)\n",
      "Requirement already satisfied: async-generator in /opt/conda/lib/python3.7/site-packages (from nbclient<0.6.0,>=0.5.0->nbconvert>=6.0->jupyter-contrib-nbextensions==0.5.3) (1.10)\n",
      "Requirement already satisfied: cffi>=1.0.0 in /opt/conda/lib/python3.7/site-packages (from argon2-cffi->notebook>=6.0->jupyter-contrib-nbextensions==0.5.3) (1.14.4)\n",
      "Requirement already satisfied: ptyprocess; os_name != \"nt\" in /opt/conda/lib/python3.7/site-packages (from terminado>=0.8.3->notebook>=6.0->jupyter-contrib-nbextensions==0.5.3) (0.6.0)\n",
      "Requirement already satisfied: python-dateutil>=2.1 in /opt/conda/lib/python3.7/site-packages (from jupyter-client>=5.3.4->notebook>=6.0->jupyter-contrib-nbextensions==0.5.3) (2.8.1)\n",
      "Requirement already satisfied: parso<0.8.0,>=0.7.0 in /opt/conda/lib/python3.7/site-packages (from jedi>=0.16->ipython->jupyter_latex_envs>=1.4.0->jupyter-contrib-nbextensions==0.5.3) (0.7.1)\n",
      "Requirement already satisfied: wcwidth in /opt/conda/lib/python3.7/site-packages (from prompt-toolkit!=3.0.0,!=3.0.1,<3.1.0,>=2.0.0->ipython->jupyter_latex_envs>=1.4.0->jupyter-contrib-nbextensions==0.5.3) (0.2.5)\n",
      "Requirement already satisfied: pyparsing>=2.0.2 in /opt/conda/lib/python3.7/site-packages (from packaging->bleach->nbconvert>=6.0->jupyter-contrib-nbextensions==0.5.3) (2.4.7)\n",
      "Requirement already satisfied: importlib-metadata; python_version < \"3.8\" in /opt/conda/lib/python3.7/site-packages (from jsonschema!=2.5.0,>=2.4->nbformat>=4.4->nbconvert>=6.0->jupyter-contrib-nbextensions==0.5.3) (2.0.0)\n",
      "Requirement already satisfied: pyrsistent>=0.14.0 in /opt/conda/lib/python3.7/site-packages (from jsonschema!=2.5.0,>=2.4->nbformat>=4.4->nbconvert>=6.0->jupyter-contrib-nbextensions==0.5.3) (0.17.3)\n",
      "Requirement already satisfied: attrs>=17.4.0 in /opt/conda/lib/python3.7/site-packages (from jsonschema!=2.5.0,>=2.4->nbformat>=4.4->nbconvert>=6.0->jupyter-contrib-nbextensions==0.5.3) (19.1.0)\n",
      "Requirement already satisfied: pycparser in /opt/conda/lib/python3.7/site-packages (from cffi>=1.0.0->argon2-cffi->notebook>=6.0->jupyter-contrib-nbextensions==0.5.3) (2.20)\n",
      "Requirement already satisfied: zipp>=0.5 in /opt/conda/lib/python3.7/site-packages (from importlib-metadata; python_version < \"3.8\"->jsonschema!=2.5.0,>=2.4->nbformat>=4.4->nbconvert>=6.0->jupyter-contrib-nbextensions==0.5.3) (3.4.0)\n",
      "Building wheels for collected packages: jupyter-contrib-nbextensions\n",
      "  Building wheel for jupyter-contrib-nbextensions (setup.py) ... \u001b[?25ldone\n",
      "\u001b[?25h  Created wheel for jupyter-contrib-nbextensions: filename=jupyter_contrib_nbextensions-0.5.3-py2.py3-none-any.whl size=23430524 sha256=c28e7c0654ab4878aeb9806cd98dc24c731532d98da1c6e1e2e20b09e4f45da6\n",
      "  Stored in directory: /tmp/pip-ephem-wheel-cache-noc_pifz/wheels/54/94/82/745724c561fb9108a312dfb7e4f036820544386f7677a8733d\n",
      "Successfully built jupyter-contrib-nbextensions\n",
      "Installing collected packages: nbconvert, jupyter-contrib-nbextensions\n",
      "\u001b[33m  WARNING: The script jupyter-nbconvert is installed in '/home/jovyan/.local/bin' which is not on PATH.\n",
      "  Consider adding this directory to PATH or, if you prefer to suppress this warning, use --no-warn-script-location.\u001b[0m\n",
      "\u001b[33m  WARNING: The script jupyter-contrib-nbextension is installed in '/home/jovyan/.local/bin' which is not on PATH.\n",
      "  Consider adding this directory to PATH or, if you prefer to suppress this warning, use --no-warn-script-location.\u001b[0m\n",
      "Successfully installed jupyter-contrib-nbextensions-0.5.3 nbconvert-6.1.0\n",
      "Defaulting to user installation because normal site-packages is not writeable\n",
      "Requirement already satisfied: jupyter_nbextensions_configurator in /opt/conda/lib/python3.7/site-packages (0.4.1)\n",
      "Requirement already satisfied: tornado in /opt/conda/lib/python3.7/site-packages (from jupyter_nbextensions_configurator) (6.1)\n",
      "Requirement already satisfied: notebook>=4.0 in /opt/conda/lib/python3.7/site-packages (from jupyter_nbextensions_configurator) (6.1.4)\n",
      "Requirement already satisfied: pyyaml in /opt/conda/lib/python3.7/site-packages (from jupyter_nbextensions_configurator) (5.4.1)\n",
      "Requirement already satisfied: jupyter-core in /opt/conda/lib/python3.7/site-packages (from jupyter_nbextensions_configurator) (4.6.2)\n",
      "Requirement already satisfied: traitlets in /opt/conda/lib/python3.7/site-packages (from jupyter_nbextensions_configurator) (5.0.5)\n",
      "Requirement already satisfied: jupyter-contrib-core>=0.3.3 in /opt/conda/lib/python3.7/site-packages (from jupyter_nbextensions_configurator) (0.3.3)\n",
      "Requirement already satisfied: ipykernel in /opt/conda/lib/python3.7/site-packages (from notebook>=4.0->jupyter_nbextensions_configurator) (5.5.5)\n",
      "Requirement already satisfied: jupyter-client>=5.3.4 in /opt/conda/lib/python3.7/site-packages (from notebook>=4.0->jupyter_nbextensions_configurator) (5.3.4)\n",
      "Requirement already satisfied: nbformat in /opt/conda/lib/python3.7/site-packages (from notebook>=4.0->jupyter_nbextensions_configurator) (4.4.0)\n",
      "Requirement already satisfied: terminado>=0.8.3 in /opt/conda/lib/python3.7/site-packages (from notebook>=4.0->jupyter_nbextensions_configurator) (0.10.0)\n",
      "Requirement already satisfied: prometheus-client in /opt/conda/lib/python3.7/site-packages (from notebook>=4.0->jupyter_nbextensions_configurator) (0.8.0)\n",
      "Requirement already satisfied: pyzmq>=17 in /opt/conda/lib/python3.7/site-packages (from notebook>=4.0->jupyter_nbextensions_configurator) (22.0.3)\n",
      "Requirement already satisfied: Send2Trash in /opt/conda/lib/python3.7/site-packages (from notebook>=4.0->jupyter_nbextensions_configurator) (1.5.0)\n",
      "Requirement already satisfied: argon2-cffi in /opt/conda/lib/python3.7/site-packages (from notebook>=4.0->jupyter_nbextensions_configurator) (20.1.0)\n",
      "Requirement already satisfied: jinja2 in /opt/conda/lib/python3.7/site-packages (from notebook>=4.0->jupyter_nbextensions_configurator) (2.11.2)\n",
      "Requirement already satisfied: nbconvert in /home/jovyan/.local/lib/python3.7/site-packages (from notebook>=4.0->jupyter_nbextensions_configurator) (6.1.0)\n",
      "Requirement already satisfied: ipython-genutils in /opt/conda/lib/python3.7/site-packages (from notebook>=4.0->jupyter_nbextensions_configurator) (0.2.0)\n",
      "Requirement already satisfied: setuptools in /opt/conda/lib/python3.7/site-packages (from jupyter-contrib-core>=0.3.3->jupyter_nbextensions_configurator) (49.6.0.post20210108)\n",
      "Requirement already satisfied: ipython>=5.0.0 in /opt/conda/lib/python3.7/site-packages (from ipykernel->notebook>=4.0->jupyter_nbextensions_configurator) (7.24.1)\n",
      "Requirement already satisfied: python-dateutil>=2.1 in /opt/conda/lib/python3.7/site-packages (from jupyter-client>=5.3.4->notebook>=4.0->jupyter_nbextensions_configurator) (2.8.1)\n",
      "Requirement already satisfied: jsonschema!=2.5.0,>=2.4 in /opt/conda/lib/python3.7/site-packages (from nbformat->notebook>=4.0->jupyter_nbextensions_configurator) (3.2.0)\n",
      "Requirement already satisfied: ptyprocess; os_name != \"nt\" in /opt/conda/lib/python3.7/site-packages (from terminado>=0.8.3->notebook>=4.0->jupyter_nbextensions_configurator) (0.6.0)\n",
      "Requirement already satisfied: cffi>=1.0.0 in /opt/conda/lib/python3.7/site-packages (from argon2-cffi->notebook>=4.0->jupyter_nbextensions_configurator) (1.14.4)\n",
      "Requirement already satisfied: six in /opt/conda/lib/python3.7/site-packages (from argon2-cffi->notebook>=4.0->jupyter_nbextensions_configurator) (1.15.0)\n",
      "Requirement already satisfied: MarkupSafe>=0.23 in /opt/conda/lib/python3.7/site-packages (from jinja2->notebook>=4.0->jupyter_nbextensions_configurator) (2.0.1)\n",
      "Requirement already satisfied: nbclient<0.6.0,>=0.5.0 in /opt/conda/lib/python3.7/site-packages (from nbconvert->notebook>=4.0->jupyter_nbextensions_configurator) (0.5.1)\n",
      "Requirement already satisfied: entrypoints>=0.2.2 in /opt/conda/lib/python3.7/site-packages (from nbconvert->notebook>=4.0->jupyter_nbextensions_configurator) (0.3)\n",
      "Requirement already satisfied: mistune<2,>=0.8.1 in /opt/conda/lib/python3.7/site-packages (from nbconvert->notebook>=4.0->jupyter_nbextensions_configurator) (0.8.4)\n",
      "Requirement already satisfied: pandocfilters>=1.4.1 in /opt/conda/lib/python3.7/site-packages (from nbconvert->notebook>=4.0->jupyter_nbextensions_configurator) (1.4.2)\n",
      "Requirement already satisfied: jupyterlab-pygments in /opt/conda/lib/python3.7/site-packages (from nbconvert->notebook>=4.0->jupyter_nbextensions_configurator) (0.1.2)\n",
      "Requirement already satisfied: testpath in /opt/conda/lib/python3.7/site-packages (from nbconvert->notebook>=4.0->jupyter_nbextensions_configurator) (0.4.4)\n",
      "Requirement already satisfied: defusedxml in /opt/conda/lib/python3.7/site-packages (from nbconvert->notebook>=4.0->jupyter_nbextensions_configurator) (0.6.0)\n",
      "Requirement already satisfied: pygments>=2.4.1 in /opt/conda/lib/python3.7/site-packages (from nbconvert->notebook>=4.0->jupyter_nbextensions_configurator) (2.7.2)\n",
      "Requirement already satisfied: bleach in /opt/conda/lib/python3.7/site-packages (from nbconvert->notebook>=4.0->jupyter_nbextensions_configurator) (3.2.1)\n",
      "Requirement already satisfied: pickleshare in /opt/conda/lib/python3.7/site-packages (from ipython>=5.0.0->ipykernel->notebook>=4.0->jupyter_nbextensions_configurator) (0.7.5)\n",
      "Requirement already satisfied: prompt-toolkit!=3.0.0,!=3.0.1,<3.1.0,>=2.0.0 in /opt/conda/lib/python3.7/site-packages (from ipython>=5.0.0->ipykernel->notebook>=4.0->jupyter_nbextensions_configurator) (3.0.8)\n",
      "Requirement already satisfied: jedi>=0.16 in /opt/conda/lib/python3.7/site-packages (from ipython>=5.0.0->ipykernel->notebook>=4.0->jupyter_nbextensions_configurator) (0.17.2)\n",
      "Requirement already satisfied: backcall in /opt/conda/lib/python3.7/site-packages (from ipython>=5.0.0->ipykernel->notebook>=4.0->jupyter_nbextensions_configurator) (0.2.0)\n",
      "Requirement already satisfied: pexpect>4.3; sys_platform != \"win32\" in /opt/conda/lib/python3.7/site-packages (from ipython>=5.0.0->ipykernel->notebook>=4.0->jupyter_nbextensions_configurator) (4.8.0)\n",
      "Requirement already satisfied: matplotlib-inline in /opt/conda/lib/python3.7/site-packages (from ipython>=5.0.0->ipykernel->notebook>=4.0->jupyter_nbextensions_configurator) (0.1.2)\n",
      "Requirement already satisfied: decorator in /opt/conda/lib/python3.7/site-packages (from ipython>=5.0.0->ipykernel->notebook>=4.0->jupyter_nbextensions_configurator) (4.4.2)\n",
      "Requirement already satisfied: importlib-metadata; python_version < \"3.8\" in /opt/conda/lib/python3.7/site-packages (from jsonschema!=2.5.0,>=2.4->nbformat->notebook>=4.0->jupyter_nbextensions_configurator) (2.0.0)\n",
      "Requirement already satisfied: pyrsistent>=0.14.0 in /opt/conda/lib/python3.7/site-packages (from jsonschema!=2.5.0,>=2.4->nbformat->notebook>=4.0->jupyter_nbextensions_configurator) (0.17.3)\n",
      "Requirement already satisfied: attrs>=17.4.0 in /opt/conda/lib/python3.7/site-packages (from jsonschema!=2.5.0,>=2.4->nbformat->notebook>=4.0->jupyter_nbextensions_configurator) (19.1.0)\n",
      "Requirement already satisfied: pycparser in /opt/conda/lib/python3.7/site-packages (from cffi>=1.0.0->argon2-cffi->notebook>=4.0->jupyter_nbextensions_configurator) (2.20)\n",
      "Requirement already satisfied: async-generator in /opt/conda/lib/python3.7/site-packages (from nbclient<0.6.0,>=0.5.0->nbconvert->notebook>=4.0->jupyter_nbextensions_configurator) (1.10)\n",
      "Requirement already satisfied: nest-asyncio in /opt/conda/lib/python3.7/site-packages (from nbclient<0.6.0,>=0.5.0->nbconvert->notebook>=4.0->jupyter_nbextensions_configurator) (1.4.2)\n",
      "Requirement already satisfied: packaging in /opt/conda/lib/python3.7/site-packages (from bleach->nbconvert->notebook>=4.0->jupyter_nbextensions_configurator) (20.4)\n",
      "Requirement already satisfied: webencodings in /opt/conda/lib/python3.7/site-packages (from bleach->nbconvert->notebook>=4.0->jupyter_nbextensions_configurator) (0.5.1)\n",
      "Requirement already satisfied: wcwidth in /opt/conda/lib/python3.7/site-packages (from prompt-toolkit!=3.0.0,!=3.0.1,<3.1.0,>=2.0.0->ipython>=5.0.0->ipykernel->notebook>=4.0->jupyter_nbextensions_configurator) (0.2.5)\n",
      "Requirement already satisfied: parso<0.8.0,>=0.7.0 in /opt/conda/lib/python3.7/site-packages (from jedi>=0.16->ipython>=5.0.0->ipykernel->notebook>=4.0->jupyter_nbextensions_configurator) (0.7.1)\n",
      "Requirement already satisfied: zipp>=0.5 in /opt/conda/lib/python3.7/site-packages (from importlib-metadata; python_version < \"3.8\"->jsonschema!=2.5.0,>=2.4->nbformat->notebook>=4.0->jupyter_nbextensions_configurator) (3.4.0)\n",
      "Requirement already satisfied: pyparsing>=2.0.2 in /opt/conda/lib/python3.7/site-packages (from packaging->bleach->nbconvert->notebook>=4.0->jupyter_nbextensions_configurator) (2.4.7)\n",
      "Traceback (most recent call last):\n",
      "  File \"/opt/conda/bin/jupyter-contrib\", line 8, in <module>\n",
      "    sys.exit(main())\n",
      "  File \"/opt/conda/lib/python3.7/site-packages/jupyter_core/application.py\", line 270, in launch_instance\n",
      "    return super(JupyterApp, cls).launch_instance(argv=argv, **kwargs)\n",
      "  File \"/opt/conda/lib/python3.7/site-packages/traitlets/config/application.py\", line 843, in launch_instance\n",
      "    app = cls.instance(**kwargs)\n",
      "  File \"/opt/conda/lib/python3.7/site-packages/traitlets/config/configurable.py\", line 537, in instance\n",
      "    inst = cls(*args, **kwargs)\n",
      "  File \"/opt/conda/lib/python3.7/site-packages/jupyter_contrib_core/application.py\", line 27, in __init__\n",
      "    self._refresh_subcommands()\n",
      "  File \"/opt/conda/lib/python3.7/site-packages/jupyter_contrib_core/application.py\", line 43, in _refresh_subcommands\n",
      "    get_subcommands_dict = entrypoint.load()\n",
      "  File \"/opt/conda/lib/python3.7/site-packages/pkg_resources/__init__.py\", line 2471, in load\n",
      "    self.require(*args, **kwargs)\n",
      "  File \"/opt/conda/lib/python3.7/site-packages/pkg_resources/__init__.py\", line 2494, in require\n",
      "    items = working_set.resolve(reqs, env, installer, extras=self.extras)\n",
      "  File \"/opt/conda/lib/python3.7/site-packages/pkg_resources/__init__.py\", line 790, in resolve\n",
      "    raise VersionConflict(dist, req).with_context(dependent_req)\n",
      "pkg_resources.ContextualVersionConflict: (jupyter-client 5.3.4 (/opt/conda/lib/python3.7/site-packages), Requirement.parse('jupyter-client>=6.1.5'), {'nbclient'})\n",
      "Enabling: jupyter_nbextensions_configurator\n",
      "- Writing config: /home/jovyan/.jupyter\n",
      "    - Validating...\n",
      "      jupyter_nbextensions_configurator 0.4.1 \u001b[32mOK\u001b[0m\n",
      "Enabling notebook nbextension nbextensions_configurator/config_menu/main...\n",
      "Enabling tree nbextension nbextensions_configurator/tree_tab/main...\n"
     ]
    }
   ],
   "source": [
    "!pip install https://github.com/ipython-contrib/jupyter_contrib_nbextensions/tarball/master\n",
    "!pip install jupyter_nbextensions_configurator\n",
    "!jupyter contrib nbextension install --user\n",
    "!jupyter nbextensions_configurator enable --user"
   ]
  },
  {
   "cell_type": "markdown",
   "metadata": {},
   "source": [
    "# 1. Загрузка данных"
   ]
  },
  {
   "cell_type": "code",
   "execution_count": 22,
   "metadata": {},
   "outputs": [],
   "source": [
    "df = pd.read_csv('/datasets/taxi.csv', parse_dates = [0], index_col = [0])"
   ]
  },
  {
   "cell_type": "code",
   "execution_count": 23,
   "metadata": {},
   "outputs": [
    {
     "data": {
      "text/html": [
       "<div>\n",
       "<style scoped>\n",
       "    .dataframe tbody tr th:only-of-type {\n",
       "        vertical-align: middle;\n",
       "    }\n",
       "\n",
       "    .dataframe tbody tr th {\n",
       "        vertical-align: top;\n",
       "    }\n",
       "\n",
       "    .dataframe thead th {\n",
       "        text-align: right;\n",
       "    }\n",
       "</style>\n",
       "<table border=\"1\" class=\"dataframe\">\n",
       "  <thead>\n",
       "    <tr style=\"text-align: right;\">\n",
       "      <th></th>\n",
       "      <th>num_orders</th>\n",
       "    </tr>\n",
       "    <tr>\n",
       "      <th>datetime</th>\n",
       "      <th></th>\n",
       "    </tr>\n",
       "  </thead>\n",
       "  <tbody>\n",
       "    <tr>\n",
       "      <td>2018-03-01 00:00:00</td>\n",
       "      <td>9</td>\n",
       "    </tr>\n",
       "    <tr>\n",
       "      <td>2018-03-01 00:10:00</td>\n",
       "      <td>14</td>\n",
       "    </tr>\n",
       "    <tr>\n",
       "      <td>2018-03-01 00:20:00</td>\n",
       "      <td>28</td>\n",
       "    </tr>\n",
       "    <tr>\n",
       "      <td>2018-03-01 00:30:00</td>\n",
       "      <td>20</td>\n",
       "    </tr>\n",
       "    <tr>\n",
       "      <td>2018-03-01 00:40:00</td>\n",
       "      <td>32</td>\n",
       "    </tr>\n",
       "  </tbody>\n",
       "</table>\n",
       "</div>"
      ],
      "text/plain": [
       "                     num_orders\n",
       "datetime                       \n",
       "2018-03-01 00:00:00           9\n",
       "2018-03-01 00:10:00          14\n",
       "2018-03-01 00:20:00          28\n",
       "2018-03-01 00:30:00          20\n",
       "2018-03-01 00:40:00          32"
      ]
     },
     "execution_count": 23,
     "metadata": {},
     "output_type": "execute_result"
    }
   ],
   "source": [
    "df.head(5)"
   ]
  },
  {
   "cell_type": "code",
   "execution_count": 24,
   "metadata": {},
   "outputs": [
    {
     "name": "stdout",
     "output_type": "stream",
     "text": [
      "<class 'pandas.core.frame.DataFrame'>\n",
      "DatetimeIndex: 26496 entries, 2018-03-01 00:00:00 to 2018-08-31 23:50:00\n",
      "Data columns (total 1 columns):\n",
      "num_orders    26496 non-null int64\n",
      "dtypes: int64(1)\n",
      "memory usage: 414.0 KB\n"
     ]
    },
    {
     "data": {
      "text/plain": [
       "None"
      ]
     },
     "metadata": {},
     "output_type": "display_data"
    }
   ],
   "source": [
    "display(df.info())"
   ]
  },
  {
   "cell_type": "markdown",
   "metadata": {},
   "source": [
    "На первый взгляд данные выглядят адекватно, необходимо будет проверить наличие пропусков, проверить хронологичность временного ряда (при необходимости отсортировать его) и после этого ресемплировать их по одному часу."
   ]
  },
  {
   "cell_type": "code",
   "execution_count": 25,
   "metadata": {},
   "outputs": [
    {
     "name": "stdout",
     "output_type": "stream",
     "text": [
      "Количество пропусков в датасете - 0\n"
     ]
    }
   ],
   "source": [
    "print('Количество пропусков в датасете -', df.isna().sum().sum())"
   ]
  },
  {
   "cell_type": "markdown",
   "metadata": {},
   "source": [
    "Пропуски отсутствуют, предварительно отсортируем данные и проверим правильность."
   ]
  },
  {
   "cell_type": "code",
   "execution_count": 26,
   "metadata": {},
   "outputs": [
    {
     "name": "stdout",
     "output_type": "stream",
     "text": [
      "True\n"
     ]
    }
   ],
   "source": [
    "df = df.sort_index()\n",
    "print(df.index.is_monotonic)"
   ]
  },
  {
   "cell_type": "markdown",
   "metadata": {},
   "source": [
    "Данные отсортированы, переходим к ресемплированию"
   ]
  },
  {
   "cell_type": "code",
   "execution_count": 27,
   "metadata": {},
   "outputs": [
    {
     "data": {
      "text/html": [
       "<div>\n",
       "<style scoped>\n",
       "    .dataframe tbody tr th:only-of-type {\n",
       "        vertical-align: middle;\n",
       "    }\n",
       "\n",
       "    .dataframe tbody tr th {\n",
       "        vertical-align: top;\n",
       "    }\n",
       "\n",
       "    .dataframe thead th {\n",
       "        text-align: right;\n",
       "    }\n",
       "</style>\n",
       "<table border=\"1\" class=\"dataframe\">\n",
       "  <thead>\n",
       "    <tr style=\"text-align: right;\">\n",
       "      <th></th>\n",
       "      <th>num_orders</th>\n",
       "    </tr>\n",
       "    <tr>\n",
       "      <th>datetime</th>\n",
       "      <th></th>\n",
       "    </tr>\n",
       "  </thead>\n",
       "  <tbody>\n",
       "    <tr>\n",
       "      <td>2018-03-01 00:00:00</td>\n",
       "      <td>124</td>\n",
       "    </tr>\n",
       "    <tr>\n",
       "      <td>2018-03-01 01:00:00</td>\n",
       "      <td>85</td>\n",
       "    </tr>\n",
       "    <tr>\n",
       "      <td>2018-03-01 02:00:00</td>\n",
       "      <td>71</td>\n",
       "    </tr>\n",
       "    <tr>\n",
       "      <td>2018-03-01 03:00:00</td>\n",
       "      <td>66</td>\n",
       "    </tr>\n",
       "    <tr>\n",
       "      <td>2018-03-01 04:00:00</td>\n",
       "      <td>43</td>\n",
       "    </tr>\n",
       "  </tbody>\n",
       "</table>\n",
       "</div>"
      ],
      "text/plain": [
       "                     num_orders\n",
       "datetime                       \n",
       "2018-03-01 00:00:00         124\n",
       "2018-03-01 01:00:00          85\n",
       "2018-03-01 02:00:00          71\n",
       "2018-03-01 03:00:00          66\n",
       "2018-03-01 04:00:00          43"
      ]
     },
     "metadata": {},
     "output_type": "display_data"
    },
    {
     "data": {
      "text/html": [
       "<div>\n",
       "<style scoped>\n",
       "    .dataframe tbody tr th:only-of-type {\n",
       "        vertical-align: middle;\n",
       "    }\n",
       "\n",
       "    .dataframe tbody tr th {\n",
       "        vertical-align: top;\n",
       "    }\n",
       "\n",
       "    .dataframe thead th {\n",
       "        text-align: right;\n",
       "    }\n",
       "</style>\n",
       "<table border=\"1\" class=\"dataframe\">\n",
       "  <thead>\n",
       "    <tr style=\"text-align: right;\">\n",
       "      <th></th>\n",
       "      <th>num_orders</th>\n",
       "    </tr>\n",
       "  </thead>\n",
       "  <tbody>\n",
       "    <tr>\n",
       "      <td>count</td>\n",
       "      <td>4416.000000</td>\n",
       "    </tr>\n",
       "    <tr>\n",
       "      <td>mean</td>\n",
       "      <td>84.422781</td>\n",
       "    </tr>\n",
       "    <tr>\n",
       "      <td>std</td>\n",
       "      <td>45.023853</td>\n",
       "    </tr>\n",
       "    <tr>\n",
       "      <td>min</td>\n",
       "      <td>0.000000</td>\n",
       "    </tr>\n",
       "    <tr>\n",
       "      <td>25%</td>\n",
       "      <td>54.000000</td>\n",
       "    </tr>\n",
       "    <tr>\n",
       "      <td>50%</td>\n",
       "      <td>78.000000</td>\n",
       "    </tr>\n",
       "    <tr>\n",
       "      <td>75%</td>\n",
       "      <td>107.000000</td>\n",
       "    </tr>\n",
       "    <tr>\n",
       "      <td>max</td>\n",
       "      <td>462.000000</td>\n",
       "    </tr>\n",
       "  </tbody>\n",
       "</table>\n",
       "</div>"
      ],
      "text/plain": [
       "        num_orders\n",
       "count  4416.000000\n",
       "mean     84.422781\n",
       "std      45.023853\n",
       "min       0.000000\n",
       "25%      54.000000\n",
       "50%      78.000000\n",
       "75%     107.000000\n",
       "max     462.000000"
      ]
     },
     "execution_count": 27,
     "metadata": {},
     "output_type": "execute_result"
    }
   ],
   "source": [
    "df = df.resample(\"1H\").sum()\n",
    "display(df.head(5))\n",
    "df.describe()"
   ]
  },
  {
   "cell_type": "markdown",
   "metadata": {},
   "source": [
    "Данные ресемплированы, в среднем за час поступает 84 заказа, медианное количество заказов равно 78, максимальное количество заказов было равно 462 и минимальное соответственно нулю.\n",
    "\n",
    "Теперь переходим к непосредственно анализу данных\n",
    "\n",
    "# 2. Анализ данных\n",
    "\n",
    "В первую очередь построим графики скользящей средней и скользящего стандартного отклонения с размером окна в 10."
   ]
  },
  {
   "cell_type": "code",
   "execution_count": 28,
   "metadata": {},
   "outputs": [],
   "source": [
    "df['rolling_mean'] = df['num_orders'].rolling(10).mean()\n",
    "df['std'] = df['num_orders'].rolling(10).std()"
   ]
  },
  {
   "cell_type": "code",
   "execution_count": 29,
   "metadata": {},
   "outputs": [
    {
     "data": {
      "image/png": "[encoded data removed]",
      "text/plain": [
       "<Figure size 1440x576 with 1 Axes>"
      ]
     },
     "metadata": {
      "needs_background": "light"
     },
     "output_type": "display_data"
    }
   ],
   "source": [
    "plt.figure(figsize=(20, 8))\n",
    "plt.plot(df['num_orders'], label='Количество заказов', alpha = 0.8)\n",
    "plt.plot(df['rolling_mean'], label='Скользящая средняя', alpha = 0.8)\n",
    "plt.plot(df['std'], label='Стандартное отклонение', alpha = 0.8)\n",
    "plt.xlabel('Дата', size = 15)\n",
    "plt.ylabel('Значение показателя', size = 15)\n",
    "plt.yticks(fontsize=15)\n",
    "plt.xticks(fontsize=15)\n",
    "plt.legend(loc = 'upper right', prop={'size': 12})\n",
    "plt.show()"
   ]
  },
  {
   "cell_type": "markdown",
   "metadata": {},
   "source": [
    "Исходя из графика можем заметить что количество заказов с каждым месяцем немного возрастает, с помощью скользящей средней видим более явные пики в заказах под выходные.\n",
    "\n",
    "Теперь взглянем на график разности ряда."
   ]
  },
  {
   "cell_type": "code",
   "execution_count": 30,
   "metadata": {},
   "outputs": [],
   "source": [
    "df['num_orders_shifted'] = df['num_orders'] - df['num_orders'].shift()\n",
    "df['rolling_mean_shifted'] = df['num_orders_shifted'].rolling(10).mean()\n",
    "df['std_shifted'] = df['num_orders_shifted'].rolling(10).std()"
   ]
  },
  {
   "cell_type": "code",
   "execution_count": 31,
   "metadata": {},
   "outputs": [
    {
     "data": {
      "image/png": "[encoded data removed]",
      "text/plain": [
       "<Figure size 1440x576 with 1 Axes>"
      ]
     },
     "metadata": {
      "needs_background": "light"
     },
     "output_type": "display_data"
    }
   ],
   "source": [
    "plt.figure(figsize=(20, 8))\n",
    "plt.plot(df['num_orders_shifted'], label='Количество заказов', alpha = 0.8)\n",
    "plt.plot(df['rolling_mean_shifted'], label='Скользящая средняя', alpha = 0.8)\n",
    "plt.plot(df['std_shifted'], label='Стандартное отклонение', alpha = 0.8)\n",
    "\n",
    "plt.xlabel('Дата', size = 15)\n",
    "plt.ylabel('Значение показателя', size = 15)\n",
    "plt.yticks(fontsize=15)\n",
    "plt.xticks(fontsize=15)\n",
    "plt.legend(loc = 'upper right', prop={'size': 12})\n",
    "plt.show()"
   ]
  },
  {
   "cell_type": "markdown",
   "metadata": {},
   "source": [
    "Несмотря на то что среднее значение слегка возрастает по истечению каждого месяца, стандартное отклонение находится примерно на том же уровне. Для точного определения стационарности временного ряда используем тест Дики-Фуллера через библиотеку statsmodels."
   ]
  },
  {
   "cell_type": "code",
   "execution_count": 32,
   "metadata": {},
   "outputs": [
    {
     "name": "stdout",
     "output_type": "stream",
     "text": [
      "ADF:  -3.068924289027949\n",
      "P-значение:  0.02894005140261345\n",
      "Критические значения:  {'1%': -3.431842162413052, '5%': -2.8621993540813637, '10%': -2.567120978470452}\n",
      "Единичных корней нет, \u001b[1mряд стационарен\u001b[0m\n"
     ]
    }
   ],
   "source": [
    "test_adfuller = sm.tsa.adfuller(df['num_orders'])\n",
    "print('ADF: ', test_adfuller[0])\n",
    "print('P-значение: ', test_adfuller[1])\n",
    "print('Критические значения: ', test_adfuller[4])\n",
    "if test_adfuller[0]> test_adfuller[4]['5%']: \n",
    "    print('Есть единичные корни, ' + '\\033[1m' + 'ряд не стационарен' + '\\033[0m')\n",
    "else:\n",
    "    print('Единичных корней нет, '+ '\\033[1m' + 'ряд стационарен' + '\\033[0m')"
   ]
  },
  {
   "cell_type": "markdown",
   "metadata": {},
   "source": [
    "С помощью теста Дики-Фуллера определили что наш временной ряд является стационарным. Теперь взглянем на гистограмму количества заказов для более детального изучения выбросов в данных."
   ]
  },
  {
   "cell_type": "code",
   "execution_count": 33,
   "metadata": {},
   "outputs": [
    {
     "data": {
      "image/png": "[encoded data removed]",
      "text/plain": [
       "<Figure size 1440x432 with 1 Axes>"
      ]
     },
     "metadata": {
      "needs_background": "light"
     },
     "output_type": "display_data"
    }
   ],
   "source": [
    "plt.figure(figsize=(20, 6))\n",
    "plt.hist(x = df['num_orders'], \n",
    "         label='Количество заказов',\n",
    "         bins = 100, \n",
    "         range = (df['num_orders'].min(), df['num_orders'].max()),\n",
    "         edgecolor = 'black',\n",
    "         alpha = 0.8)\n",
    "plt.xlabel('Количество заказов', size = 15)\n",
    "plt.ylabel('Количество наблюдений в датасете', size = 15)\n",
    "plt.yticks(fontsize=15)\n",
    "plt.xticks(fontsize=15)\n",
    "plt.legend(loc = 'upper right', prop={'size': 12})\n",
    "plt.show()"
   ]
  },
  {
   "cell_type": "markdown",
   "metadata": {},
   "source": [
    "Наблюдаем несколько выбросов в количестве заказов свыше 300, избавимся от них после того как создадим признаки в датасете. Переходим к рассмотрению линии треда и сезонности."
   ]
  },
  {
   "cell_type": "code",
   "execution_count": 34,
   "metadata": {},
   "outputs": [
    {
     "data": {
      "image/png": "[encoded data removed]",
      "text/plain": [
       "<Figure size 1440x1152 with 5 Axes>"
      ]
     },
     "metadata": {
      "needs_background": "light"
     },
     "output_type": "display_data"
    }
   ],
   "source": [
    "decomposed = seasonal_decompose(df['num_orders'])\n",
    "\n",
    "plt.figure(figsize=(20, 16))\n",
    "\n",
    "plt.subplot(511)\n",
    "decomposed.trend.plot(ax=plt.gca())\n",
    "plt.title('Линия тренда')\n",
    "\n",
    "plt.subplot(512)\n",
    "decomposed.seasonal.plot(ax=plt.gca())\n",
    "plt.title('Общая сезонность')\n",
    "\n",
    "plt.subplot(513)\n",
    "decomposed.seasonal.tail(24).plot(ax = plt.gca())\n",
    "plt.title('Дневная сезонность')\n",
    "\n",
    "plt.subplot(514)\n",
    "decomposed.seasonal.tail(24*7).plot(ax = plt.gca())\n",
    "plt.title('Недельная сезонность')\n",
    "\n",
    "plt.subplot(515)\n",
    "decomposed.resid.plot(ax=plt.gca())\n",
    "plt.title('Остатки')\n",
    "\n",
    "plt.tight_layout()"
   ]
  },
  {
   "cell_type": "markdown",
   "metadata": {},
   "source": [
    "С помощью графика линии тренда наблюдаем что в среднем количество заказов с марта по август возросло примерно в два раза, также наблюдаем цикличность в течении дня - сильный спад в количестве заказов наблюдается с 4 часов утра до 6 часов утра. После этого заказы возвращаются к среднему значению, а после 6 часов вечера плавно возрастает пока не достигнет пика в 12 ночи.\n",
    "\n",
    "Данные успешно рассмотрены и проанализированы, теперь переходим к созданию признаков для наших моделей и разделению датасетов на выборки."
   ]
  },
  {
   "cell_type": "markdown",
   "metadata": {},
   "source": [
    "# 3. Обучение и тестирование моделей.\n",
    "\n",
    "В первую очередь напишем функцию, которая создаст признаки внутри нашего датасета, т.е. разделит дату на год/месяц/день/день недели и булев признак - является ли день выходным. Также функция создаст отстающие значения и скользящее среднее."
   ]
  },
  {
   "cell_type": "code",
   "execution_count": 35,
   "metadata": {},
   "outputs": [],
   "source": [
    "def make_features(df, max_lag, rolling_mean_size):\n",
    "    new_df = df.copy(deep = True)\n",
    "    new_df['year'] = new_df.index.year\n",
    "    new_df['month'] = new_df.index.month\n",
    "    new_df['day'] = new_df.index.day\n",
    "    new_df['dayofweek'] = new_df.index.dayofweek\n",
    "    new_df['is_weekend'] = new_df['dayofweek'].isin([5,6])*1\n",
    "    \n",
    "    for lag in range(1, max_lag + 1):\n",
    "        df['lag_{}'.format(lag)] = df['num_orders'].shift(lag)\n",
    "        \n",
    "    df['rolling_mean'] = df['num_orders'].shift().rolling(rolling_mean_size).mean()\n",
    "    \n",
    "    return new_df"
   ]
  },
  {
   "cell_type": "markdown",
   "metadata": {},
   "source": [
    "Функция готова к применению, используем её, а также избавимся от выбросов в датасете, обнаруженных в пункте 2. Сразу же избавимся от пропусков в датасете, разделим его на три выборки и првеорим правильность выполнения."
   ]
  },
  {
   "cell_type": "code",
   "execution_count": 36,
   "metadata": {},
   "outputs": [
    {
     "name": "stdout",
     "output_type": "stream",
     "text": [
      "\u001b[1mОбучающая выборка\u001b[0m\n",
      "Размер: (3961, 11)\n",
      "Доля от исходного датасета: 89.98 %\n",
      "\n",
      "\u001b[1mТестовая выборка\u001b[0m\n",
      "Размер: (441, 11)\n",
      "Доля от исходного датасета: 10.02 %\n",
      "\n"
     ]
    }
   ],
   "source": [
    "df = make_features(df, 300, 150)\n",
    "df = df.query('num_orders < 300')\n",
    "df = df.dropna()\n",
    "\n",
    "train, test = train_test_split(df, shuffle = False, test_size = 0.1)\n",
    "\n",
    "df_list = [train, test]\n",
    "df_names = ['Обучающая выборка', 'Тестовая выборка']\n",
    "for i in range(len(df_list)):\n",
    "    print('\\033[1m' + df_names[i] + '\\033[0m')\n",
    "    print('Размер:', df_list[i].shape)\n",
    "    print('Доля от исходного датасета:', round(len(df_list[i]) / len(df) * 100, 2), '%')\n",
    "    print('')"
   ]
  },
  {
   "cell_type": "markdown",
   "metadata": {},
   "source": [
    "Выборки успешно подготовлены, доли от исходного датасета являются верными, теперь разделим их на признаки и целевой признак."
   ]
  },
  {
   "cell_type": "code",
   "execution_count": 37,
   "metadata": {},
   "outputs": [],
   "source": [
    "features_train = train.drop(['num_orders'], axis=1)\n",
    "target_train = train['num_orders']\n",
    "    \n",
    "features_test = test.drop(['num_orders'], axis=1)\n",
    "target_test = test['num_orders']"
   ]
  },
  {
   "cell_type": "markdown",
   "metadata": {},
   "source": [
    "Разделение выборок прошло успешно, теперь напишем функцию RMSE для того чтобы установить скореры в наших моделях."
   ]
  },
  {
   "cell_type": "code",
   "execution_count": 38,
   "metadata": {},
   "outputs": [],
   "source": [
    "def rmse(target, predictions):\n",
    "    return mean_squared_error(target, predictions) ** 0.5\n",
    "\n",
    "rmse_scorer = make_scorer(rmse, greater_is_better = False)"
   ]
  },
  {
   "cell_type": "markdown",
   "metadata": {},
   "source": [
    "Теперь напишем функцию, которая на входе будет принимать наименование модели и набор гиперпараметров. Внутри функция подготовит модели к обучению, определит оптимальные гиперпараметры с помощью GridSearchCV, обучит модели, проверит их на валидационной и тестовой выборках, рассчитает значение RMSE по каждой выборке и добавит результаты в сводную таблицу.\n",
    "На выходе модель выведет наименование модели, набор оптимальных гиперпараметров, и значения RMSE на трех выборках."
   ]
  },
  {
   "cell_type": "code",
   "execution_count": 41,
   "metadata": {},
   "outputs": [],
   "source": [
    "rmse_results = pd.DataFrame({'Модель' : [], 'Train RMSE score' : []})\n",
    "def model_testing(model_name, parametrs):\n",
    "    \n",
    "    global rmse_results\n",
    "    \n",
    "    cv = TimeSeriesSplit(n_splits=3)\n",
    "    \n",
    "    if model_name == DecisionTreeRegressor:\n",
    "        output_model_name = 'Дерево решений'\n",
    "    elif model_name == RandomForestRegressor:\n",
    "        output_model_name = 'Случайный лес'\n",
    "    elif model_name == CatBoostRegressor:\n",
    "        output_model_name = 'CatBoostRegressor'\n",
    "    elif model_name == LGBMRegressor:\n",
    "        output_model_name = 'LGBM'\n",
    "    elif model_name == xgb.XGBRegressor:\n",
    "        output_model_name = 'XGBoost Regressor'\n",
    "    elif model_name == LinearRegression:\n",
    "        output_model_name = 'Линейная регрессия'\n",
    "        \n",
    "    \n",
    "    if output_model_name == 'CatBoostRegressor':\n",
    "        model = model_name(loss_function = 'RMSE', eval_metric = 'RMSE', logging_level = 'Silent', n_estimators = 30)\n",
    "    elif output_model_name == 'XGBoost Regressor':\n",
    "        model = model_name(silent = True)\n",
    "    else:\n",
    "        model = model_name()\n",
    "        \n",
    "    grid = GridSearchCV(model, parametrs, cv = cv, scoring = rmse_scorer)\n",
    "    \n",
    "    grid.fit(features_train, target_train)\n",
    "    test_model = model_name(**grid.best_params_)\n",
    "        \n",
    "    test_model.fit(features_train, target_train)\n",
    "    model_train_predictions = test_model.predict(features_train)\n",
    "    model_test_predictions = test_model.predict(features_test)\n",
    "    train_rmse = rmse(target_train, model_train_predictions)\n",
    "    test_rmse = rmse(target_test, model_test_predictions)\n",
    "    rmse_results = rmse_results.append({'Модель' : output_model_name, \n",
    "                                        'Train RMSE score' : train_rmse,\n",
    "                                       'Test RMSE score' : test_rmse}, ignore_index = True)\n",
    "    print('\\033[1m' +'Модель -', output_model_name + '\\033[0m')\n",
    "    print('Оптимальные гиперпараметры:')\n",
    "    print(grid.best_params_)\n",
    "    print('')\n",
    "    print('Train RMSE score -', train_rmse)\n",
    "    print('Test RMSE score -', test_rmse)"
   ]
  },
  {
   "cell_type": "markdown",
   "metadata": {},
   "source": [
    "Функция успешно подготовлена, начнем анализ моделей с модели \"Дерево решений\".\n",
    "\n",
    "## 3.1. Дерево решений."
   ]
  },
  {
   "cell_type": "code",
   "execution_count": 42,
   "metadata": {},
   "outputs": [
    {
     "name": "stdout",
     "output_type": "stream",
     "text": [
      "\u001b[1mМодель - Линейная регрессия\u001b[0m\n",
      "Оптимальные гиперпараметры:\n",
      "{'copy_X': 'True', 'fit_intercept': 'True', 'normalize': 'True'}\n",
      "\n",
      "Train RMSE score - 19.364500375484706\n",
      "Test RMSE score - 36.229262006102765\n"
     ]
    }
   ],
   "source": [
    "parametrs = {'fit_intercept':('True', 'False'), \n",
    "             'normalize':('True', 'False'), \n",
    "             'copy_X':('True', 'False')}\n",
    "model_testing(LinearRegression, parametrs)"
   ]
  },
  {
   "cell_type": "code",
   "execution_count": 20,
   "metadata": {},
   "outputs": [
    {
     "name": "stdout",
     "output_type": "stream",
     "text": [
      "\u001b[1mМодель - Дерево решений\u001b[0m\n",
      "Оптимальные гиперпараметры:\n",
      "{'max_depth': 8, 'min_samples_leaf': 8, 'min_samples_split': 8}\n",
      "\n",
      "Train RMSE score - 16.24756509727725\n",
      "Test RMSE score - 42.14329338010933\n",
      "CPU times: user 4.1 s, sys: 0 ns, total: 4.1 s\n",
      "Wall time: 4.31 s\n"
     ]
    }
   ],
   "source": [
    "%%time\n",
    "parametrs = {'max_depth': range (3, 30, 5),\n",
    "             'min_samples_leaf': range (2, 10, 2),\n",
    "             'min_samples_split': range (2, 10, 2)}\n",
    "model_testing(DecisionTreeRegressor, parametrs)"
   ]
  },
  {
   "cell_type": "markdown",
   "metadata": {},
   "source": [
    "Модель дерева решений показывает очень пограничные результаты, значение RMSE на тестовой выборке составило 46, по условию RMSE не должно быть выше 48. Теперь взглянем как покажет себя модель случайного леса.\n",
    "\n",
    "## 3.2. Случайный лес."
   ]
  },
  {
   "cell_type": "code",
   "execution_count": 21,
   "metadata": {},
   "outputs": [
    {
     "name": "stdout",
     "output_type": "stream",
     "text": [
      "\u001b[1mМодель - Случайный лес\u001b[0m\n",
      "Оптимальные гиперпараметры:\n",
      "{'max_depth': 10, 'min_samples_leaf': 4, 'min_samples_split': 5, 'n_estimators': 15}\n",
      "\n",
      "Train RMSE score - 12.368967153614257\n",
      "Test RMSE score - 40.35803506604005\n",
      "CPU times: user 16.3 s, sys: 0 ns, total: 16.3 s\n",
      "Wall time: 16.5 s\n"
     ]
    }
   ],
   "source": [
    "%%time\n",
    "parametrs = {'max_depth': range (10, 25, 5),\n",
    "             'min_samples_leaf': range (4, 6),\n",
    "             'min_samples_split': range (4, 6),\n",
    "             'n_estimators': range (5, 25, 5)}\n",
    "model_testing(RandomForestRegressor, parametrs)"
   ]
  },
  {
   "cell_type": "markdown",
   "metadata": {},
   "source": [
    "Модель случайного леса показала результаты лучше чем модель дерева решений, значение RMSE на тестовой выборке составило 35, однако временные затраты оставляют желать лучшего. Переходим к модели CatBoostRegressor.\n",
    "\n",
    "## 3.3. CatBoost."
   ]
  },
  {
   "cell_type": "code",
   "execution_count": 22,
   "metadata": {},
   "outputs": [
    {
     "name": "stdout",
     "output_type": "stream",
     "text": [
      "0:\tlearn: 36.0780247\ttotal: 1.77ms\tremaining: 1.77s\n",
      "1:\tlearn: 34.1505423\ttotal: 3.4ms\tremaining: 1.7s\n",
      "2:\tlearn: 32.2553162\ttotal: 4.91ms\tremaining: 1.63s\n",
      "3:\tlearn: 30.6421300\ttotal: 6.44ms\tremaining: 1.6s\n",
      "4:\tlearn: 29.2707713\ttotal: 7.99ms\tremaining: 1.59s\n",
      "5:\tlearn: 27.9773136\ttotal: 9.52ms\tremaining: 1.58s\n",
      "6:\tlearn: 26.7984483\ttotal: 38.4ms\tremaining: 5.45s\n",
      "7:\tlearn: 25.8042789\ttotal: 39.9ms\tremaining: 4.95s\n",
      "8:\tlearn: 24.9673254\ttotal: 41.5ms\tremaining: 4.57s\n",
      "9:\tlearn: 24.1139491\ttotal: 43.1ms\tremaining: 4.26s\n",
      "10:\tlearn: 23.4347746\ttotal: 44.6ms\tremaining: 4.01s\n",
      "11:\tlearn: 22.7472862\ttotal: 46ms\tremaining: 3.79s\n",
      "12:\tlearn: 22.2457280\ttotal: 52.9ms\tremaining: 4.01s\n",
      "13:\tlearn: 21.7532291\ttotal: 136ms\tremaining: 9.57s\n",
      "14:\tlearn: 21.2874001\ttotal: 137ms\tremaining: 9.03s\n",
      "15:\tlearn: 20.8696775\ttotal: 139ms\tremaining: 8.55s\n",
      "16:\tlearn: 20.5161863\ttotal: 141ms\tremaining: 8.13s\n",
      "17:\tlearn: 20.2522862\ttotal: 143ms\tremaining: 7.79s\n",
      "18:\tlearn: 19.9893434\ttotal: 145ms\tremaining: 7.5s\n",
      "19:\tlearn: 19.7530323\ttotal: 152ms\tremaining: 7.45s\n",
      "20:\tlearn: 19.5258565\ttotal: 234ms\tremaining: 10.9s\n",
      "21:\tlearn: 19.3200156\ttotal: 236ms\tremaining: 10.5s\n",
      "22:\tlearn: 19.1253316\ttotal: 238ms\tremaining: 10.1s\n",
      "23:\tlearn: 18.9795289\ttotal: 239ms\tremaining: 9.73s\n",
      "24:\tlearn: 18.8405119\ttotal: 241ms\tremaining: 9.39s\n",
      "25:\tlearn: 18.7174148\ttotal: 248ms\tremaining: 9.27s\n",
      "26:\tlearn: 18.5434770\ttotal: 255ms\tremaining: 9.17s\n",
      "27:\tlearn: 18.4393202\ttotal: 331ms\tremaining: 11.5s\n",
      "28:\tlearn: 18.3498376\ttotal: 332ms\tremaining: 11.1s\n",
      "29:\tlearn: 18.2262036\ttotal: 334ms\tremaining: 10.8s\n",
      "30:\tlearn: 18.1107087\ttotal: 335ms\tremaining: 10.5s\n",
      "31:\tlearn: 18.0480065\ttotal: 337ms\tremaining: 10.2s\n",
      "32:\tlearn: 17.9796018\ttotal: 338ms\tremaining: 9.92s\n",
      "33:\tlearn: 17.9084346\ttotal: 349ms\tremaining: 9.91s\n",
      "34:\tlearn: 17.8314008\ttotal: 428ms\tremaining: 11.8s\n",
      "35:\tlearn: 17.7648795\ttotal: 430ms\tremaining: 11.5s\n",
      "36:\tlearn: 17.7159049\ttotal: 434ms\tremaining: 11.3s\n",
      "37:\tlearn: 17.6431828\ttotal: 437ms\tremaining: 11.1s\n",
      "38:\tlearn: 17.5797670\ttotal: 525ms\tremaining: 12.9s\n",
      "39:\tlearn: 17.5149473\ttotal: 527ms\tremaining: 12.7s\n",
      "40:\tlearn: 17.4549134\ttotal: 529ms\tremaining: 12.4s\n",
      "41:\tlearn: 17.3976512\ttotal: 530ms\tremaining: 12.1s\n",
      "42:\tlearn: 17.3362802\ttotal: 532ms\tremaining: 11.8s\n",
      "43:\tlearn: 17.2917421\ttotal: 533ms\tremaining: 11.6s\n",
      "44:\tlearn: 17.2425124\ttotal: 535ms\tremaining: 11.4s\n",
      "45:\tlearn: 17.1735853\ttotal: 622ms\tremaining: 12.9s\n",
      "46:\tlearn: 17.1345615\ttotal: 623ms\tremaining: 12.6s\n",
      "47:\tlearn: 17.0975238\ttotal: 627ms\tremaining: 12.4s\n",
      "48:\tlearn: 17.0364208\ttotal: 631ms\tremaining: 12.2s\n",
      "49:\tlearn: 16.9954887\ttotal: 632ms\tremaining: 12s\n",
      "50:\tlearn: 16.9635570\ttotal: 719ms\tremaining: 13.4s\n",
      "51:\tlearn: 16.9299340\ttotal: 721ms\tremaining: 13.2s\n",
      "52:\tlearn: 16.8920601\ttotal: 723ms\tremaining: 12.9s\n",
      "53:\tlearn: 16.8640544\ttotal: 724ms\tremaining: 12.7s\n",
      "54:\tlearn: 16.8155426\ttotal: 726ms\tremaining: 12.5s\n",
      "55:\tlearn: 16.7827848\ttotal: 728ms\tremaining: 12.3s\n",
      "56:\tlearn: 16.7493062\ttotal: 730ms\tremaining: 12.1s\n",
      "57:\tlearn: 16.7198717\ttotal: 736ms\tremaining: 12s\n",
      "58:\tlearn: 16.6885042\ttotal: 817ms\tremaining: 13s\n",
      "59:\tlearn: 16.6619991\ttotal: 819ms\tremaining: 12.8s\n",
      "60:\tlearn: 16.6241988\ttotal: 820ms\tremaining: 12.6s\n",
      "61:\tlearn: 16.6032336\ttotal: 823ms\tremaining: 12.5s\n",
      "62:\tlearn: 16.5708053\ttotal: 827ms\tremaining: 12.3s\n",
      "63:\tlearn: 16.5449677\ttotal: 914ms\tremaining: 13.4s\n",
      "64:\tlearn: 16.5330098\ttotal: 916ms\tremaining: 13.2s\n",
      "65:\tlearn: 16.4905463\ttotal: 917ms\tremaining: 13s\n",
      "66:\tlearn: 16.4642520\ttotal: 919ms\tremaining: 12.8s\n",
      "67:\tlearn: 16.4436555\ttotal: 920ms\tremaining: 12.6s\n",
      "68:\tlearn: 16.4121793\ttotal: 922ms\tremaining: 12.4s\n",
      "69:\tlearn: 16.3972447\ttotal: 924ms\tremaining: 12.3s\n",
      "70:\tlearn: 16.3745175\ttotal: 1.01s\tremaining: 13.2s\n",
      "71:\tlearn: 16.3320769\ttotal: 1.01s\tremaining: 13s\n",
      "72:\tlearn: 16.2863218\ttotal: 1.01s\tremaining: 12.9s\n",
      "73:\tlearn: 16.2566443\ttotal: 1.01s\tremaining: 12.7s\n",
      "74:\tlearn: 16.2245724\ttotal: 1.02s\tremaining: 12.5s\n",
      "75:\tlearn: 16.2141258\ttotal: 1.02s\tremaining: 12.4s\n",
      "76:\tlearn: 16.2001843\ttotal: 1.02s\tremaining: 12.3s\n",
      "77:\tlearn: 16.1765454\ttotal: 1.11s\tremaining: 13.1s\n",
      "78:\tlearn: 16.1409766\ttotal: 1.11s\tremaining: 12.9s\n",
      "79:\tlearn: 16.1143147\ttotal: 1.11s\tremaining: 12.8s\n",
      "80:\tlearn: 16.0858881\ttotal: 1.11s\tremaining: 12.6s\n",
      "81:\tlearn: 16.0781400\ttotal: 1.12s\tremaining: 12.5s\n",
      "82:\tlearn: 16.0620247\ttotal: 1.12s\tremaining: 12.4s\n",
      "83:\tlearn: 16.0368118\ttotal: 1.2s\tremaining: 13.1s\n",
      "84:\tlearn: 16.0164605\ttotal: 1.21s\tremaining: 13s\n",
      "85:\tlearn: 15.9830596\ttotal: 1.21s\tremaining: 12.8s\n",
      "86:\tlearn: 15.9649466\ttotal: 1.21s\tremaining: 12.7s\n",
      "87:\tlearn: 15.9555002\ttotal: 1.21s\tremaining: 12.6s\n",
      "88:\tlearn: 15.9319125\ttotal: 1.21s\tremaining: 12.4s\n",
      "89:\tlearn: 15.8899534\ttotal: 1.3s\tremaining: 13.2s\n",
      "90:\tlearn: 15.8683637\ttotal: 1.3s\tremaining: 13s\n",
      "91:\tlearn: 15.8537563\ttotal: 1.3s\tremaining: 12.9s\n",
      "92:\tlearn: 15.8224962\ttotal: 1.3s\tremaining: 12.7s\n",
      "93:\tlearn: 15.8040193\ttotal: 1.31s\tremaining: 12.6s\n",
      "94:\tlearn: 15.7896360\ttotal: 1.31s\tremaining: 12.5s\n",
      "95:\tlearn: 15.7701943\ttotal: 1.32s\tremaining: 12.4s\n",
      "96:\tlearn: 15.7443727\ttotal: 1.4s\tremaining: 13s\n",
      "97:\tlearn: 15.7196498\ttotal: 1.4s\tremaining: 12.9s\n",
      "98:\tlearn: 15.6984777\ttotal: 1.4s\tremaining: 12.8s\n",
      "99:\tlearn: 15.6868026\ttotal: 1.4s\tremaining: 12.6s\n",
      "100:\tlearn: 15.6695934\ttotal: 1.4s\tremaining: 12.5s\n",
      "101:\tlearn: 15.6540702\ttotal: 1.41s\tremaining: 12.4s\n",
      "102:\tlearn: 15.6407366\ttotal: 1.41s\tremaining: 12.3s\n",
      "103:\tlearn: 15.6133514\ttotal: 1.5s\tremaining: 12.9s\n",
      "104:\tlearn: 15.5796407\ttotal: 1.5s\tremaining: 12.8s\n",
      "105:\tlearn: 15.5666247\ttotal: 1.5s\tremaining: 12.6s\n",
      "106:\tlearn: 15.5389026\ttotal: 1.5s\tremaining: 12.5s\n",
      "107:\tlearn: 15.5339767\ttotal: 1.5s\tremaining: 12.4s\n",
      "108:\tlearn: 15.5292816\ttotal: 1.5s\tremaining: 12.3s\n",
      "109:\tlearn: 15.4992060\ttotal: 1.59s\tremaining: 12.9s\n",
      "110:\tlearn: 15.4807610\ttotal: 1.59s\tremaining: 12.8s\n",
      "111:\tlearn: 15.4723178\ttotal: 1.59s\tremaining: 12.6s\n",
      "112:\tlearn: 15.4554586\ttotal: 1.6s\tremaining: 12.5s\n",
      "113:\tlearn: 15.4383252\ttotal: 1.6s\tremaining: 12.4s\n",
      "114:\tlearn: 15.4244806\ttotal: 1.6s\tremaining: 12.3s\n",
      "115:\tlearn: 15.3955365\ttotal: 1.6s\tremaining: 12.2s\n",
      "116:\tlearn: 15.3776023\ttotal: 1.61s\tremaining: 12.1s\n",
      "117:\tlearn: 15.3689093\ttotal: 1.69s\tremaining: 12.6s\n",
      "118:\tlearn: 15.3447536\ttotal: 1.69s\tremaining: 12.5s\n",
      "119:\tlearn: 15.3378984\ttotal: 1.69s\tremaining: 12.4s\n",
      "120:\tlearn: 15.3143479\ttotal: 1.69s\tremaining: 12.3s\n",
      "121:\tlearn: 15.2983552\ttotal: 1.7s\tremaining: 12.2s\n",
      "122:\tlearn: 15.2658423\ttotal: 1.7s\tremaining: 12.1s\n",
      "123:\tlearn: 15.2515855\ttotal: 1.78s\tremaining: 12.6s\n",
      "124:\tlearn: 15.2301663\ttotal: 1.79s\tremaining: 12.5s\n",
      "125:\tlearn: 15.2212890\ttotal: 1.79s\tremaining: 12.4s\n",
      "126:\tlearn: 15.2078640\ttotal: 1.79s\tremaining: 12.3s\n",
      "127:\tlearn: 15.1832546\ttotal: 1.88s\tremaining: 12.8s\n",
      "128:\tlearn: 15.1768895\ttotal: 1.88s\tremaining: 12.7s\n",
      "129:\tlearn: 15.1563562\ttotal: 1.89s\tremaining: 12.6s\n",
      "130:\tlearn: 15.1347931\ttotal: 1.89s\tremaining: 12.5s\n",
      "131:\tlearn: 15.1073777\ttotal: 1.89s\tremaining: 12.4s\n",
      "132:\tlearn: 15.0901782\ttotal: 1.89s\tremaining: 12.3s\n",
      "133:\tlearn: 15.0744892\ttotal: 1.9s\tremaining: 12.2s\n",
      "134:\tlearn: 15.0552377\ttotal: 1.98s\tremaining: 12.7s\n",
      "135:\tlearn: 15.0391333\ttotal: 1.98s\tremaining: 12.6s\n",
      "136:\tlearn: 15.0142830\ttotal: 1.98s\tremaining: 12.5s\n",
      "137:\tlearn: 15.0103932\ttotal: 1.99s\tremaining: 12.4s\n",
      "138:\tlearn: 14.9909517\ttotal: 1.99s\tremaining: 12.3s\n",
      "139:\tlearn: 14.9643962\ttotal: 2s\tremaining: 12.3s\n",
      "140:\tlearn: 14.9470477\ttotal: 2s\tremaining: 12.2s\n",
      "141:\tlearn: 14.9261475\ttotal: 2.08s\tremaining: 12.6s\n",
      "142:\tlearn: 14.9142459\ttotal: 2.08s\tremaining: 12.5s\n",
      "143:\tlearn: 14.9065628\ttotal: 2.08s\tremaining: 12.4s\n",
      "144:\tlearn: 14.8922755\ttotal: 2.08s\tremaining: 12.3s\n",
      "145:\tlearn: 14.8755860\ttotal: 2.09s\tremaining: 12.2s\n",
      "146:\tlearn: 14.8570672\ttotal: 2.09s\tremaining: 12.1s\n",
      "147:\tlearn: 14.8444058\ttotal: 2.17s\tremaining: 12.5s\n",
      "148:\tlearn: 14.8114568\ttotal: 2.18s\tremaining: 12.4s\n",
      "149:\tlearn: 14.8006480\ttotal: 2.18s\tremaining: 12.3s\n",
      "150:\tlearn: 14.7821222\ttotal: 2.18s\tremaining: 12.3s\n",
      "151:\tlearn: 14.7584529\ttotal: 2.18s\tremaining: 12.2s\n",
      "152:\tlearn: 14.7483469\ttotal: 2.18s\tremaining: 12.1s\n",
      "153:\tlearn: 14.7209927\ttotal: 2.18s\tremaining: 12s\n",
      "154:\tlearn: 14.7125280\ttotal: 2.27s\tremaining: 12.4s\n",
      "155:\tlearn: 14.6907066\ttotal: 2.28s\tremaining: 12.3s\n",
      "156:\tlearn: 14.6768027\ttotal: 2.28s\tremaining: 12.2s\n",
      "157:\tlearn: 14.6560147\ttotal: 2.28s\tremaining: 12.2s\n",
      "158:\tlearn: 14.6372756\ttotal: 2.37s\tremaining: 12.5s\n",
      "159:\tlearn: 14.6245431\ttotal: 2.37s\tremaining: 12.5s\n",
      "160:\tlearn: 14.6135639\ttotal: 2.37s\tremaining: 12.4s\n",
      "161:\tlearn: 14.6059591\ttotal: 2.38s\tremaining: 12.3s\n",
      "162:\tlearn: 14.6029978\ttotal: 2.38s\tremaining: 12.2s\n",
      "163:\tlearn: 14.6019601\ttotal: 2.38s\tremaining: 12.1s\n",
      "164:\tlearn: 14.5762157\ttotal: 2.47s\tremaining: 12.5s\n",
      "165:\tlearn: 14.5615144\ttotal: 2.47s\tremaining: 12.4s\n",
      "166:\tlearn: 14.5361643\ttotal: 2.47s\tremaining: 12.3s\n",
      "167:\tlearn: 14.5238501\ttotal: 2.47s\tremaining: 12.2s\n",
      "168:\tlearn: 14.5106765\ttotal: 2.47s\tremaining: 12.2s\n",
      "169:\tlearn: 14.4897181\ttotal: 2.48s\tremaining: 12.1s\n",
      "170:\tlearn: 14.4698765\ttotal: 2.48s\tremaining: 12s\n",
      "171:\tlearn: 14.4579770\ttotal: 2.56s\tremaining: 12.3s\n",
      "172:\tlearn: 14.4448790\ttotal: 2.57s\tremaining: 12.3s\n",
      "173:\tlearn: 14.4312406\ttotal: 2.57s\tremaining: 12.2s\n",
      "174:\tlearn: 14.4160396\ttotal: 2.57s\tremaining: 12.1s\n",
      "175:\tlearn: 14.4152417\ttotal: 2.57s\tremaining: 12s\n",
      "176:\tlearn: 14.4015884\ttotal: 2.57s\tremaining: 12s\n",
      "177:\tlearn: 14.3915588\ttotal: 2.58s\tremaining: 11.9s\n",
      "178:\tlearn: 14.3906529\ttotal: 2.66s\tremaining: 12.2s\n",
      "179:\tlearn: 14.3799251\ttotal: 2.66s\tremaining: 12.1s\n",
      "180:\tlearn: 14.3605479\ttotal: 2.66s\tremaining: 12.1s\n",
      "181:\tlearn: 14.3441521\ttotal: 2.67s\tremaining: 12s\n",
      "182:\tlearn: 14.3228173\ttotal: 2.67s\tremaining: 11.9s\n",
      "183:\tlearn: 14.3078267\ttotal: 2.67s\tremaining: 11.8s\n",
      "184:\tlearn: 14.3074360\ttotal: 2.67s\tremaining: 11.8s\n",
      "185:\tlearn: 14.2882087\ttotal: 2.76s\tremaining: 12.1s\n",
      "186:\tlearn: 14.2749649\ttotal: 2.76s\tremaining: 12s\n",
      "187:\tlearn: 14.2608456\ttotal: 2.76s\tremaining: 11.9s\n",
      "188:\tlearn: 14.2579398\ttotal: 2.76s\tremaining: 11.9s\n",
      "189:\tlearn: 14.2425502\ttotal: 2.76s\tremaining: 11.8s\n",
      "190:\tlearn: 14.2294382\ttotal: 2.77s\tremaining: 11.7s\n",
      "191:\tlearn: 14.2206649\ttotal: 2.77s\tremaining: 11.6s\n",
      "192:\tlearn: 14.2089751\ttotal: 2.77s\tremaining: 11.6s\n",
      "193:\tlearn: 14.1885664\ttotal: 2.85s\tremaining: 11.9s\n",
      "194:\tlearn: 14.1718428\ttotal: 2.86s\tremaining: 11.8s\n",
      "195:\tlearn: 14.1711613\ttotal: 2.86s\tremaining: 11.7s\n",
      "196:\tlearn: 14.1705813\ttotal: 2.86s\tremaining: 11.7s\n",
      "197:\tlearn: 14.1568103\ttotal: 2.86s\tremaining: 11.6s\n",
      "198:\tlearn: 14.1344980\ttotal: 2.86s\tremaining: 11.5s\n",
      "199:\tlearn: 14.1138464\ttotal: 2.87s\tremaining: 11.5s\n",
      "200:\tlearn: 14.0996858\ttotal: 2.95s\tremaining: 11.7s\n",
      "201:\tlearn: 14.0912758\ttotal: 2.96s\tremaining: 11.7s\n",
      "202:\tlearn: 14.0648558\ttotal: 2.96s\tremaining: 11.6s\n",
      "203:\tlearn: 14.0551572\ttotal: 2.96s\tremaining: 11.6s\n",
      "204:\tlearn: 14.0414794\ttotal: 2.96s\tremaining: 11.5s\n",
      "205:\tlearn: 14.0382486\ttotal: 3.05s\tremaining: 11.8s\n",
      "206:\tlearn: 14.0270393\ttotal: 3.05s\tremaining: 11.7s\n",
      "207:\tlearn: 14.0151053\ttotal: 3.05s\tremaining: 11.6s\n",
      "208:\tlearn: 14.0119896\ttotal: 3.05s\tremaining: 11.6s\n",
      "209:\tlearn: 13.9929300\ttotal: 3.06s\tremaining: 11.5s\n",
      "210:\tlearn: 13.9791561\ttotal: 3.06s\tremaining: 11.4s\n",
      "211:\tlearn: 13.9668306\ttotal: 3.06s\tremaining: 11.4s\n",
      "212:\tlearn: 13.9645870\ttotal: 3.15s\tremaining: 11.6s\n",
      "213:\tlearn: 13.9516001\ttotal: 3.15s\tremaining: 11.6s\n",
      "214:\tlearn: 13.9347449\ttotal: 3.15s\tremaining: 11.5s\n",
      "215:\tlearn: 13.9135588\ttotal: 3.15s\tremaining: 11.4s\n",
      "216:\tlearn: 13.8983103\ttotal: 3.15s\tremaining: 11.4s\n",
      "217:\tlearn: 13.8857236\ttotal: 3.16s\tremaining: 11.3s\n",
      "218:\tlearn: 13.8647240\ttotal: 3.24s\tremaining: 11.6s\n",
      "219:\tlearn: 13.8527355\ttotal: 3.25s\tremaining: 11.5s\n",
      "220:\tlearn: 13.8447224\ttotal: 3.25s\tremaining: 11.4s\n",
      "221:\tlearn: 13.8234257\ttotal: 3.25s\tremaining: 11.4s\n",
      "222:\tlearn: 13.8137318\ttotal: 3.25s\tremaining: 11.3s\n",
      "223:\tlearn: 13.8119484\ttotal: 3.25s\tremaining: 11.3s\n",
      "224:\tlearn: 13.8006355\ttotal: 3.25s\tremaining: 11.2s\n",
      "225:\tlearn: 13.7999916\ttotal: 3.34s\tremaining: 11.4s\n",
      "226:\tlearn: 13.7895436\ttotal: 3.34s\tremaining: 11.4s\n",
      "227:\tlearn: 13.7731372\ttotal: 3.35s\tremaining: 11.3s\n",
      "228:\tlearn: 13.7581927\ttotal: 3.36s\tremaining: 11.3s\n",
      "229:\tlearn: 13.7546187\ttotal: 3.44s\tremaining: 11.5s\n",
      "230:\tlearn: 13.7493113\ttotal: 3.44s\tremaining: 11.5s\n",
      "231:\tlearn: 13.7375676\ttotal: 3.44s\tremaining: 11.4s\n",
      "232:\tlearn: 13.7168922\ttotal: 3.44s\tremaining: 11.3s\n",
      "233:\tlearn: 13.7023528\ttotal: 3.44s\tremaining: 11.3s\n",
      "234:\tlearn: 13.6876363\ttotal: 3.45s\tremaining: 11.2s\n",
      "235:\tlearn: 13.6733262\ttotal: 3.45s\tremaining: 11.2s\n",
      "236:\tlearn: 13.6643897\ttotal: 3.54s\tremaining: 11.4s\n",
      "237:\tlearn: 13.6541367\ttotal: 3.54s\tremaining: 11.3s\n",
      "238:\tlearn: 13.6510974\ttotal: 3.54s\tremaining: 11.3s\n",
      "239:\tlearn: 13.6489449\ttotal: 3.54s\tremaining: 11.2s\n",
      "240:\tlearn: 13.6355129\ttotal: 3.54s\tremaining: 11.2s\n",
      "241:\tlearn: 13.6261618\ttotal: 3.54s\tremaining: 11.1s\n",
      "242:\tlearn: 13.6144603\ttotal: 3.55s\tremaining: 11s\n",
      "243:\tlearn: 13.6046938\ttotal: 3.63s\tremaining: 11.3s\n",
      "244:\tlearn: 13.5890668\ttotal: 3.63s\tremaining: 11.2s\n",
      "245:\tlearn: 13.5737068\ttotal: 3.64s\tremaining: 11.1s\n",
      "246:\tlearn: 13.5637909\ttotal: 3.64s\tremaining: 11.1s\n",
      "247:\tlearn: 13.5587256\ttotal: 3.64s\tremaining: 11s\n",
      "248:\tlearn: 13.5583569\ttotal: 3.64s\tremaining: 11s\n",
      "249:\tlearn: 13.5501672\ttotal: 3.64s\tremaining: 10.9s\n",
      "250:\tlearn: 13.5384263\ttotal: 3.73s\tremaining: 11.1s\n",
      "251:\tlearn: 13.5291342\ttotal: 3.73s\tremaining: 11.1s\n",
      "252:\tlearn: 13.5268912\ttotal: 3.73s\tremaining: 11s\n",
      "253:\tlearn: 13.5193014\ttotal: 3.73s\tremaining: 11s\n",
      "254:\tlearn: 13.5074580\ttotal: 3.74s\tremaining: 10.9s\n",
      "255:\tlearn: 13.4981659\ttotal: 3.74s\tremaining: 10.9s\n",
      "256:\tlearn: 13.4840211\ttotal: 3.74s\tremaining: 10.8s\n",
      "257:\tlearn: 13.4775102\ttotal: 3.83s\tremaining: 11s\n",
      "258:\tlearn: 13.4611085\ttotal: 3.83s\tremaining: 11s\n",
      "259:\tlearn: 13.4494563\ttotal: 3.83s\tremaining: 10.9s\n",
      "260:\tlearn: 13.4377197\ttotal: 3.83s\tremaining: 10.8s\n",
      "261:\tlearn: 13.4336087\ttotal: 3.83s\tremaining: 10.8s\n",
      "262:\tlearn: 13.4272263\ttotal: 3.83s\tremaining: 10.7s\n",
      "263:\tlearn: 13.4201388\ttotal: 3.84s\tremaining: 10.7s\n",
      "264:\tlearn: 13.4103960\ttotal: 3.84s\tremaining: 10.6s\n",
      "265:\tlearn: 13.3945682\ttotal: 3.92s\tremaining: 10.8s\n",
      "266:\tlearn: 13.3825519\ttotal: 3.92s\tremaining: 10.8s\n",
      "267:\tlearn: 13.3799991\ttotal: 3.93s\tremaining: 10.7s\n",
      "268:\tlearn: 13.3742491\ttotal: 3.93s\tremaining: 10.7s\n",
      "269:\tlearn: 13.3655572\ttotal: 3.93s\tremaining: 10.6s\n",
      "270:\tlearn: 13.3475333\ttotal: 3.93s\tremaining: 10.6s\n",
      "271:\tlearn: 13.3415529\ttotal: 3.93s\tremaining: 10.5s\n",
      "272:\tlearn: 13.3291805\ttotal: 4.02s\tremaining: 10.7s\n",
      "273:\tlearn: 13.3137145\ttotal: 4.03s\tremaining: 10.7s\n",
      "274:\tlearn: 13.3025867\ttotal: 4.03s\tremaining: 10.6s\n",
      "275:\tlearn: 13.2942482\ttotal: 4.03s\tremaining: 10.6s\n",
      "276:\tlearn: 13.2841074\ttotal: 4.03s\tremaining: 10.5s\n",
      "277:\tlearn: 13.2732416\ttotal: 4.04s\tremaining: 10.5s\n",
      "278:\tlearn: 13.2604598\ttotal: 4.12s\tremaining: 10.6s\n",
      "279:\tlearn: 13.2471282\ttotal: 4.12s\tremaining: 10.6s\n",
      "280:\tlearn: 13.2379664\ttotal: 4.12s\tremaining: 10.5s\n",
      "281:\tlearn: 13.2225254\ttotal: 4.12s\tremaining: 10.5s\n",
      "282:\tlearn: 13.2118156\ttotal: 4.13s\tremaining: 10.5s\n",
      "283:\tlearn: 13.1980602\ttotal: 4.13s\tremaining: 10.4s\n",
      "284:\tlearn: 13.1937364\ttotal: 4.13s\tremaining: 10.4s\n",
      "285:\tlearn: 13.1817048\ttotal: 4.21s\tremaining: 10.5s\n",
      "286:\tlearn: 13.1684227\ttotal: 4.22s\tremaining: 10.5s\n",
      "287:\tlearn: 13.1515628\ttotal: 4.22s\tremaining: 10.4s\n",
      "288:\tlearn: 13.1426533\ttotal: 4.22s\tremaining: 10.4s\n",
      "289:\tlearn: 13.1269633\ttotal: 4.22s\tremaining: 10.3s\n",
      "290:\tlearn: 13.1092937\ttotal: 4.23s\tremaining: 10.3s\n",
      "291:\tlearn: 13.0953813\ttotal: 4.31s\tremaining: 10.5s\n",
      "292:\tlearn: 13.0916240\ttotal: 4.32s\tremaining: 10.4s\n",
      "293:\tlearn: 13.0788472\ttotal: 4.32s\tremaining: 10.4s\n",
      "294:\tlearn: 13.0681231\ttotal: 4.32s\tremaining: 10.3s\n",
      "295:\tlearn: 13.0524452\ttotal: 4.32s\tremaining: 10.3s\n",
      "296:\tlearn: 13.0408260\ttotal: 4.32s\tremaining: 10.2s\n",
      "297:\tlearn: 13.0292643\ttotal: 4.32s\tremaining: 10.2s\n",
      "298:\tlearn: 13.0174393\ttotal: 4.41s\tremaining: 10.3s\n",
      "299:\tlearn: 13.0028888\ttotal: 4.41s\tremaining: 10.3s\n",
      "300:\tlearn: 12.9903594\ttotal: 4.41s\tremaining: 10.2s\n",
      "301:\tlearn: 12.9773236\ttotal: 4.42s\tremaining: 10.2s\n",
      "302:\tlearn: 12.9701100\ttotal: 4.42s\tremaining: 10.2s\n",
      "303:\tlearn: 12.9570936\ttotal: 4.42s\tremaining: 10.1s\n",
      "304:\tlearn: 12.9488623\ttotal: 4.43s\tremaining: 10.1s\n",
      "305:\tlearn: 12.9419768\ttotal: 4.51s\tremaining: 10.2s\n",
      "306:\tlearn: 12.9314512\ttotal: 4.51s\tremaining: 10.2s\n",
      "307:\tlearn: 12.9190230\ttotal: 4.52s\tremaining: 10.2s\n",
      "308:\tlearn: 12.9104427\ttotal: 4.53s\tremaining: 10.1s\n",
      "309:\tlearn: 12.9011655\ttotal: 4.54s\tremaining: 10.1s\n",
      "310:\tlearn: 12.8898208\ttotal: 4.61s\tremaining: 10.2s\n",
      "311:\tlearn: 12.8754252\ttotal: 4.61s\tremaining: 10.2s\n",
      "312:\tlearn: 12.8572105\ttotal: 4.61s\tremaining: 10.1s\n",
      "313:\tlearn: 12.8521975\ttotal: 4.61s\tremaining: 10.1s\n",
      "314:\tlearn: 12.8445699\ttotal: 4.62s\tremaining: 10s\n",
      "315:\tlearn: 12.8349813\ttotal: 4.7s\tremaining: 10.2s\n",
      "316:\tlearn: 12.8238198\ttotal: 4.7s\tremaining: 10.1s\n",
      "317:\tlearn: 12.8180259\ttotal: 4.7s\tremaining: 10.1s\n",
      "318:\tlearn: 12.8034781\ttotal: 4.7s\tremaining: 10s\n",
      "319:\tlearn: 12.7974685\ttotal: 4.71s\tremaining: 10s\n",
      "320:\tlearn: 12.7871494\ttotal: 4.71s\tremaining: 9.96s\n",
      "321:\tlearn: 12.7730861\ttotal: 4.8s\tremaining: 10.1s\n",
      "322:\tlearn: 12.7630436\ttotal: 4.8s\tremaining: 10.1s\n",
      "323:\tlearn: 12.7566206\ttotal: 4.8s\tremaining: 10s\n",
      "324:\tlearn: 12.7478737\ttotal: 4.8s\tremaining: 9.97s\n",
      "325:\tlearn: 12.7400909\ttotal: 4.8s\tremaining: 9.93s\n",
      "326:\tlearn: 12.7277567\ttotal: 4.8s\tremaining: 9.89s\n",
      "327:\tlearn: 12.7179438\ttotal: 4.82s\tremaining: 9.87s\n",
      "328:\tlearn: 12.7085826\ttotal: 4.89s\tremaining: 9.98s\n",
      "329:\tlearn: 12.7004001\ttotal: 4.9s\tremaining: 9.94s\n",
      "330:\tlearn: 12.6893851\ttotal: 4.9s\tremaining: 9.9s\n",
      "331:\tlearn: 12.6793643\ttotal: 4.9s\tremaining: 9.86s\n",
      "332:\tlearn: 12.6675398\ttotal: 4.9s\tremaining: 9.82s\n",
      "333:\tlearn: 12.6551660\ttotal: 4.9s\tremaining: 9.78s\n",
      "334:\tlearn: 12.6447703\ttotal: 4.91s\tremaining: 9.75s\n",
      "335:\tlearn: 12.6368070\ttotal: 4.99s\tremaining: 9.86s\n",
      "336:\tlearn: 12.6294992\ttotal: 4.99s\tremaining: 9.82s\n",
      "337:\tlearn: 12.6228019\ttotal: 4.99s\tremaining: 9.78s\n",
      "338:\tlearn: 12.6076127\ttotal: 5s\tremaining: 9.74s\n",
      "339:\tlearn: 12.5978977\ttotal: 5s\tremaining: 9.7s\n",
      "340:\tlearn: 12.5904623\ttotal: 5s\tremaining: 9.66s\n",
      "341:\tlearn: 12.5823777\ttotal: 5.09s\tremaining: 9.79s\n",
      "342:\tlearn: 12.5740348\ttotal: 5.09s\tremaining: 9.75s\n",
      "343:\tlearn: 12.5640109\ttotal: 5.09s\tremaining: 9.71s\n",
      "344:\tlearn: 12.5505675\ttotal: 5.09s\tremaining: 9.67s\n",
      "345:\tlearn: 12.5437925\ttotal: 5.09s\tremaining: 9.63s\n",
      "346:\tlearn: 12.5372311\ttotal: 5.1s\tremaining: 9.59s\n",
      "347:\tlearn: 12.5294699\ttotal: 5.1s\tremaining: 9.56s\n",
      "348:\tlearn: 12.5213499\ttotal: 5.19s\tremaining: 9.68s\n",
      "349:\tlearn: 12.5087843\ttotal: 5.19s\tremaining: 9.64s\n",
      "350:\tlearn: 12.5020943\ttotal: 5.19s\tremaining: 9.6s\n",
      "351:\tlearn: 12.4990812\ttotal: 5.19s\tremaining: 9.56s\n",
      "352:\tlearn: 12.4920392\ttotal: 5.19s\tremaining: 9.52s\n",
      "353:\tlearn: 12.4830397\ttotal: 5.2s\tremaining: 9.48s\n",
      "354:\tlearn: 12.4679518\ttotal: 5.29s\tremaining: 9.61s\n",
      "355:\tlearn: 12.4618488\ttotal: 5.29s\tremaining: 9.57s\n",
      "356:\tlearn: 12.4510765\ttotal: 5.29s\tremaining: 9.54s\n",
      "357:\tlearn: 12.4409350\ttotal: 5.3s\tremaining: 9.51s\n",
      "358:\tlearn: 12.4293130\ttotal: 5.38s\tremaining: 9.61s\n",
      "359:\tlearn: 12.4187999\ttotal: 5.39s\tremaining: 9.58s\n",
      "360:\tlearn: 12.4140740\ttotal: 5.39s\tremaining: 9.54s\n",
      "361:\tlearn: 12.4054077\ttotal: 5.39s\tremaining: 9.51s\n",
      "362:\tlearn: 12.3928019\ttotal: 5.48s\tremaining: 9.62s\n",
      "363:\tlearn: 12.3853812\ttotal: 5.48s\tremaining: 9.58s\n",
      "364:\tlearn: 12.3822221\ttotal: 5.48s\tremaining: 9.54s\n",
      "365:\tlearn: 12.3761611\ttotal: 5.49s\tremaining: 9.5s\n",
      "366:\tlearn: 12.3654959\ttotal: 5.49s\tremaining: 9.46s\n",
      "367:\tlearn: 12.3566994\ttotal: 5.49s\tremaining: 9.44s\n",
      "368:\tlearn: 12.3459904\ttotal: 5.58s\tremaining: 9.54s\n",
      "369:\tlearn: 12.3342782\ttotal: 5.58s\tremaining: 9.5s\n",
      "370:\tlearn: 12.3220039\ttotal: 5.58s\tremaining: 9.46s\n",
      "371:\tlearn: 12.3049039\ttotal: 5.58s\tremaining: 9.42s\n",
      "372:\tlearn: 12.2906947\ttotal: 5.58s\tremaining: 9.39s\n",
      "373:\tlearn: 12.2835676\ttotal: 5.58s\tremaining: 9.35s\n",
      "374:\tlearn: 12.2789958\ttotal: 5.59s\tremaining: 9.32s\n",
      "375:\tlearn: 12.2720635\ttotal: 5.67s\tremaining: 9.41s\n",
      "376:\tlearn: 12.2653393\ttotal: 5.67s\tremaining: 9.38s\n",
      "377:\tlearn: 12.2546021\ttotal: 5.68s\tremaining: 9.34s\n",
      "378:\tlearn: 12.2475138\ttotal: 5.68s\tremaining: 9.3s\n",
      "379:\tlearn: 12.2364276\ttotal: 5.68s\tremaining: 9.27s\n",
      "380:\tlearn: 12.2267315\ttotal: 5.69s\tremaining: 9.24s\n",
      "381:\tlearn: 12.2195317\ttotal: 5.77s\tremaining: 9.34s\n",
      "382:\tlearn: 12.2153850\ttotal: 5.77s\tremaining: 9.3s\n",
      "383:\tlearn: 12.2089724\ttotal: 5.77s\tremaining: 9.26s\n",
      "384:\tlearn: 12.2005305\ttotal: 5.78s\tremaining: 9.22s\n",
      "385:\tlearn: 12.1935008\ttotal: 5.78s\tremaining: 9.19s\n",
      "386:\tlearn: 12.1859853\ttotal: 5.78s\tremaining: 9.15s\n",
      "387:\tlearn: 12.1771914\ttotal: 5.78s\tremaining: 9.12s\n",
      "388:\tlearn: 12.1707807\ttotal: 5.87s\tremaining: 9.22s\n",
      "389:\tlearn: 12.1620916\ttotal: 5.87s\tremaining: 9.18s\n",
      "390:\tlearn: 12.1523306\ttotal: 5.87s\tremaining: 9.14s\n",
      "391:\tlearn: 12.1430260\ttotal: 5.87s\tremaining: 9.11s\n",
      "392:\tlearn: 12.1352284\ttotal: 5.87s\tremaining: 9.07s\n",
      "393:\tlearn: 12.1287623\ttotal: 5.88s\tremaining: 9.04s\n",
      "394:\tlearn: 12.1219160\ttotal: 5.88s\tremaining: 9.01s\n",
      "395:\tlearn: 12.1158014\ttotal: 5.96s\tremaining: 9.1s\n",
      "396:\tlearn: 12.1078162\ttotal: 5.97s\tremaining: 9.06s\n",
      "397:\tlearn: 12.1022494\ttotal: 5.97s\tremaining: 9.03s\n",
      "398:\tlearn: 12.0943684\ttotal: 5.97s\tremaining: 8.99s\n",
      "399:\tlearn: 12.0850366\ttotal: 5.97s\tremaining: 8.96s\n",
      "400:\tlearn: 12.0750672\ttotal: 5.97s\tremaining: 8.92s\n",
      "401:\tlearn: 12.0686311\ttotal: 5.98s\tremaining: 8.89s\n",
      "402:\tlearn: 12.0592244\ttotal: 6.06s\tremaining: 8.98s\n",
      "403:\tlearn: 12.0539060\ttotal: 6.06s\tremaining: 8.94s\n",
      "404:\tlearn: 12.0460497\ttotal: 6.06s\tremaining: 8.91s\n",
      "405:\tlearn: 12.0407076\ttotal: 6.07s\tremaining: 8.88s\n",
      "406:\tlearn: 12.0322254\ttotal: 6.07s\tremaining: 8.84s\n",
      "407:\tlearn: 12.0267810\ttotal: 6.07s\tremaining: 8.81s\n",
      "408:\tlearn: 12.0163798\ttotal: 6.07s\tremaining: 8.78s\n",
      "409:\tlearn: 12.0101593\ttotal: 6.16s\tremaining: 8.86s\n",
      "410:\tlearn: 12.0072229\ttotal: 6.16s\tremaining: 8.83s\n",
      "411:\tlearn: 11.9983604\ttotal: 6.16s\tremaining: 8.79s\n",
      "412:\tlearn: 11.9910189\ttotal: 6.16s\tremaining: 8.76s\n",
      "413:\tlearn: 11.9843347\ttotal: 6.17s\tremaining: 8.73s\n",
      "414:\tlearn: 11.9797576\ttotal: 6.17s\tremaining: 8.69s\n",
      "415:\tlearn: 11.9746777\ttotal: 6.17s\tremaining: 8.67s\n",
      "416:\tlearn: 11.9683435\ttotal: 6.26s\tremaining: 8.75s\n",
      "417:\tlearn: 11.9610778\ttotal: 6.26s\tremaining: 8.71s\n",
      "418:\tlearn: 11.9531118\ttotal: 6.26s\tremaining: 8.68s\n",
      "419:\tlearn: 11.9427985\ttotal: 6.26s\tremaining: 8.65s\n",
      "420:\tlearn: 11.9334380\ttotal: 6.26s\tremaining: 8.61s\n",
      "421:\tlearn: 11.9227889\ttotal: 6.26s\tremaining: 8.58s\n",
      "422:\tlearn: 11.9123109\ttotal: 6.35s\tremaining: 8.66s\n",
      "423:\tlearn: 11.9046332\ttotal: 6.35s\tremaining: 8.63s\n",
      "424:\tlearn: 11.8947676\ttotal: 6.36s\tremaining: 8.6s\n",
      "425:\tlearn: 11.8861266\ttotal: 6.36s\tremaining: 8.57s\n",
      "426:\tlearn: 11.8748602\ttotal: 6.36s\tremaining: 8.53s\n",
      "427:\tlearn: 11.8680511\ttotal: 6.36s\tremaining: 8.5s\n",
      "428:\tlearn: 11.8577230\ttotal: 6.37s\tremaining: 8.47s\n",
      "429:\tlearn: 11.8482021\ttotal: 6.45s\tremaining: 8.55s\n",
      "430:\tlearn: 11.8375627\ttotal: 6.45s\tremaining: 8.52s\n",
      "431:\tlearn: 11.8326340\ttotal: 6.45s\tremaining: 8.48s\n",
      "432:\tlearn: 11.8190444\ttotal: 6.46s\tremaining: 8.45s\n",
      "433:\tlearn: 11.8144115\ttotal: 6.46s\tremaining: 8.42s\n",
      "434:\tlearn: 11.8120144\ttotal: 6.46s\tremaining: 8.39s\n",
      "435:\tlearn: 11.8050642\ttotal: 6.46s\tremaining: 8.36s\n",
      "436:\tlearn: 11.7951905\ttotal: 6.55s\tremaining: 8.43s\n",
      "437:\tlearn: 11.7894466\ttotal: 6.55s\tremaining: 8.4s\n",
      "438:\tlearn: 11.7808899\ttotal: 6.55s\tremaining: 8.37s\n",
      "439:\tlearn: 11.7756953\ttotal: 6.55s\tremaining: 8.34s\n",
      "440:\tlearn: 11.7677493\ttotal: 6.55s\tremaining: 8.31s\n",
      "441:\tlearn: 11.7595741\ttotal: 6.56s\tremaining: 8.28s\n",
      "442:\tlearn: 11.7524182\ttotal: 6.64s\tremaining: 8.35s\n",
      "443:\tlearn: 11.7483600\ttotal: 6.64s\tremaining: 8.32s\n",
      "444:\tlearn: 11.7364783\ttotal: 6.65s\tremaining: 8.29s\n",
      "445:\tlearn: 11.7290592\ttotal: 6.65s\tremaining: 8.26s\n",
      "446:\tlearn: 11.7233169\ttotal: 6.65s\tremaining: 8.23s\n",
      "447:\tlearn: 11.7143554\ttotal: 6.65s\tremaining: 8.19s\n",
      "448:\tlearn: 11.7063763\ttotal: 6.66s\tremaining: 8.17s\n",
      "449:\tlearn: 11.6989486\ttotal: 6.74s\tremaining: 8.24s\n",
      "450:\tlearn: 11.6903576\ttotal: 6.74s\tremaining: 8.21s\n",
      "451:\tlearn: 11.6813507\ttotal: 6.74s\tremaining: 8.18s\n",
      "452:\tlearn: 11.6760935\ttotal: 6.75s\tremaining: 8.14s\n",
      "453:\tlearn: 11.6744874\ttotal: 6.75s\tremaining: 8.11s\n",
      "454:\tlearn: 11.6678674\ttotal: 6.75s\tremaining: 8.08s\n",
      "455:\tlearn: 11.6584524\ttotal: 6.76s\tremaining: 8.06s\n",
      "456:\tlearn: 11.6536494\ttotal: 6.84s\tremaining: 8.12s\n",
      "457:\tlearn: 11.6531651\ttotal: 6.84s\tremaining: 8.09s\n",
      "458:\tlearn: 11.6504349\ttotal: 6.84s\tremaining: 8.06s\n",
      "459:\tlearn: 11.6421068\ttotal: 6.84s\tremaining: 8.03s\n",
      "460:\tlearn: 11.6354437\ttotal: 6.84s\tremaining: 8s\n",
      "461:\tlearn: 11.6283540\ttotal: 6.84s\tremaining: 7.97s\n",
      "462:\tlearn: 11.6144376\ttotal: 6.85s\tremaining: 7.95s\n",
      "463:\tlearn: 11.6065622\ttotal: 6.93s\tremaining: 8.01s\n",
      "464:\tlearn: 11.5981450\ttotal: 6.93s\tremaining: 7.98s\n",
      "465:\tlearn: 11.5900819\ttotal: 6.94s\tremaining: 7.95s\n",
      "466:\tlearn: 11.5838452\ttotal: 6.94s\tremaining: 7.92s\n",
      "467:\tlearn: 11.5781412\ttotal: 6.94s\tremaining: 7.89s\n",
      "468:\tlearn: 11.5724581\ttotal: 6.95s\tremaining: 7.86s\n",
      "469:\tlearn: 11.5679118\ttotal: 7.03s\tremaining: 7.93s\n",
      "470:\tlearn: 11.5634607\ttotal: 7.03s\tremaining: 7.9s\n",
      "471:\tlearn: 11.5603745\ttotal: 7.03s\tremaining: 7.87s\n",
      "472:\tlearn: 11.5548837\ttotal: 7.04s\tremaining: 7.84s\n",
      "473:\tlearn: 11.5487652\ttotal: 7.04s\tremaining: 7.81s\n",
      "474:\tlearn: 11.5445627\ttotal: 7.04s\tremaining: 7.79s\n",
      "475:\tlearn: 11.5343478\ttotal: 7.13s\tremaining: 7.85s\n",
      "476:\tlearn: 11.5249732\ttotal: 7.13s\tremaining: 7.82s\n",
      "477:\tlearn: 11.5193305\ttotal: 7.13s\tremaining: 7.79s\n",
      "478:\tlearn: 11.5077168\ttotal: 7.13s\tremaining: 7.76s\n",
      "479:\tlearn: 11.5032505\ttotal: 7.13s\tremaining: 7.73s\n",
      "480:\tlearn: 11.4968545\ttotal: 7.14s\tremaining: 7.7s\n",
      "481:\tlearn: 11.4923204\ttotal: 7.14s\tremaining: 7.67s\n",
      "482:\tlearn: 11.4797270\ttotal: 7.22s\tremaining: 7.73s\n",
      "483:\tlearn: 11.4734419\ttotal: 7.23s\tremaining: 7.71s\n",
      "484:\tlearn: 11.4684164\ttotal: 7.23s\tremaining: 7.68s\n",
      "485:\tlearn: 11.4613750\ttotal: 7.23s\tremaining: 7.65s\n",
      "486:\tlearn: 11.4556992\ttotal: 7.23s\tremaining: 7.62s\n",
      "487:\tlearn: 11.4483675\ttotal: 7.23s\tremaining: 7.59s\n",
      "488:\tlearn: 11.4405247\ttotal: 7.24s\tremaining: 7.57s\n",
      "489:\tlearn: 11.4359542\ttotal: 7.32s\tremaining: 7.62s\n",
      "490:\tlearn: 11.4256566\ttotal: 7.32s\tremaining: 7.59s\n",
      "491:\tlearn: 11.4151610\ttotal: 7.33s\tremaining: 7.56s\n",
      "492:\tlearn: 11.4105246\ttotal: 7.33s\tremaining: 7.54s\n",
      "493:\tlearn: 11.4075067\ttotal: 7.33s\tremaining: 7.51s\n",
      "494:\tlearn: 11.4045432\ttotal: 7.33s\tremaining: 7.48s\n",
      "495:\tlearn: 11.3954349\ttotal: 7.34s\tremaining: 7.46s\n",
      "496:\tlearn: 11.3876504\ttotal: 7.42s\tremaining: 7.51s\n",
      "497:\tlearn: 11.3748430\ttotal: 7.42s\tremaining: 7.48s\n",
      "498:\tlearn: 11.3702591\ttotal: 7.42s\tremaining: 7.45s\n",
      "499:\tlearn: 11.3622985\ttotal: 7.42s\tremaining: 7.42s\n",
      "500:\tlearn: 11.3555497\ttotal: 7.43s\tremaining: 7.4s\n",
      "501:\tlearn: 11.3532992\ttotal: 7.43s\tremaining: 7.37s\n",
      "502:\tlearn: 11.3466408\ttotal: 7.52s\tremaining: 7.43s\n",
      "503:\tlearn: 11.3392237\ttotal: 7.52s\tremaining: 7.4s\n",
      "504:\tlearn: 11.3320752\ttotal: 7.52s\tremaining: 7.37s\n",
      "505:\tlearn: 11.3241703\ttotal: 7.52s\tremaining: 7.34s\n",
      "506:\tlearn: 11.3183783\ttotal: 7.52s\tremaining: 7.31s\n",
      "507:\tlearn: 11.3114273\ttotal: 7.52s\tremaining: 7.29s\n",
      "508:\tlearn: 11.3112013\ttotal: 7.53s\tremaining: 7.26s\n",
      "509:\tlearn: 11.3103826\ttotal: 7.61s\tremaining: 7.32s\n",
      "510:\tlearn: 11.3067417\ttotal: 7.62s\tremaining: 7.29s\n",
      "511:\tlearn: 11.3004479\ttotal: 7.62s\tremaining: 7.26s\n",
      "512:\tlearn: 11.2948432\ttotal: 7.62s\tremaining: 7.23s\n",
      "513:\tlearn: 11.2904750\ttotal: 7.62s\tremaining: 7.21s\n",
      "514:\tlearn: 11.2799508\ttotal: 7.62s\tremaining: 7.18s\n",
      "515:\tlearn: 11.2749515\ttotal: 7.63s\tremaining: 7.16s\n",
      "516:\tlearn: 11.2731662\ttotal: 7.71s\tremaining: 7.2s\n",
      "517:\tlearn: 11.2689876\ttotal: 7.71s\tremaining: 7.18s\n",
      "518:\tlearn: 11.2637096\ttotal: 7.71s\tremaining: 7.15s\n",
      "519:\tlearn: 11.2514933\ttotal: 7.71s\tremaining: 7.12s\n",
      "520:\tlearn: 11.2472344\ttotal: 7.72s\tremaining: 7.09s\n",
      "521:\tlearn: 11.2365481\ttotal: 7.72s\tremaining: 7.07s\n",
      "522:\tlearn: 11.2263499\ttotal: 7.72s\tremaining: 7.04s\n",
      "523:\tlearn: 11.2198392\ttotal: 7.81s\tremaining: 7.09s\n",
      "524:\tlearn: 11.2077242\ttotal: 7.81s\tremaining: 7.07s\n",
      "525:\tlearn: 11.2010231\ttotal: 7.81s\tremaining: 7.04s\n",
      "526:\tlearn: 11.1922851\ttotal: 7.82s\tremaining: 7.01s\n",
      "527:\tlearn: 11.1888758\ttotal: 7.82s\tremaining: 6.99s\n",
      "528:\tlearn: 11.1788565\ttotal: 7.82s\tremaining: 6.96s\n",
      "529:\tlearn: 11.1733118\ttotal: 7.9s\tremaining: 7.01s\n",
      "530:\tlearn: 11.1665114\ttotal: 7.91s\tremaining: 6.98s\n",
      "531:\tlearn: 11.1563771\ttotal: 7.91s\tremaining: 6.96s\n",
      "532:\tlearn: 11.1521648\ttotal: 7.91s\tremaining: 6.93s\n",
      "533:\tlearn: 11.1489988\ttotal: 7.91s\tremaining: 6.9s\n",
      "534:\tlearn: 11.1408256\ttotal: 7.91s\tremaining: 6.88s\n",
      "535:\tlearn: 11.1343048\ttotal: 7.92s\tremaining: 6.86s\n",
      "536:\tlearn: 11.1308631\ttotal: 8s\tremaining: 6.9s\n",
      "537:\tlearn: 11.1244241\ttotal: 8.01s\tremaining: 6.87s\n",
      "538:\tlearn: 11.1149468\ttotal: 8.01s\tremaining: 6.85s\n",
      "539:\tlearn: 11.1079292\ttotal: 8.01s\tremaining: 6.82s\n",
      "540:\tlearn: 11.1012645\ttotal: 8.01s\tremaining: 6.8s\n",
      "541:\tlearn: 11.0963692\ttotal: 8.1s\tremaining: 6.84s\n",
      "542:\tlearn: 11.0914776\ttotal: 8.1s\tremaining: 6.82s\n",
      "543:\tlearn: 11.0842171\ttotal: 8.1s\tremaining: 6.79s\n",
      "544:\tlearn: 11.0801615\ttotal: 8.1s\tremaining: 6.76s\n",
      "545:\tlearn: 11.0706696\ttotal: 8.11s\tremaining: 6.74s\n",
      "546:\tlearn: 11.0673295\ttotal: 8.11s\tremaining: 6.71s\n",
      "547:\tlearn: 11.0634693\ttotal: 8.12s\tremaining: 6.7s\n",
      "548:\tlearn: 11.0576846\ttotal: 8.2s\tremaining: 6.73s\n",
      "549:\tlearn: 11.0524880\ttotal: 8.2s\tremaining: 6.71s\n",
      "550:\tlearn: 11.0465736\ttotal: 8.2s\tremaining: 6.68s\n",
      "551:\tlearn: 11.0400163\ttotal: 8.2s\tremaining: 6.66s\n",
      "552:\tlearn: 11.0321443\ttotal: 8.2s\tremaining: 6.63s\n",
      "553:\tlearn: 11.0233402\ttotal: 8.21s\tremaining: 6.61s\n",
      "554:\tlearn: 11.0127105\ttotal: 8.21s\tremaining: 6.58s\n",
      "555:\tlearn: 11.0084523\ttotal: 8.29s\tremaining: 6.62s\n",
      "556:\tlearn: 11.0026126\ttotal: 8.29s\tremaining: 6.6s\n",
      "557:\tlearn: 10.9938394\ttotal: 8.3s\tremaining: 6.57s\n",
      "558:\tlearn: 10.9869670\ttotal: 8.3s\tremaining: 6.55s\n",
      "559:\tlearn: 10.9814390\ttotal: 8.3s\tremaining: 6.52s\n",
      "560:\tlearn: 10.9752376\ttotal: 8.3s\tremaining: 6.5s\n",
      "561:\tlearn: 10.9662982\ttotal: 8.31s\tremaining: 6.47s\n",
      "562:\tlearn: 10.9614609\ttotal: 8.39s\tremaining: 6.51s\n",
      "563:\tlearn: 10.9563357\ttotal: 8.39s\tremaining: 6.49s\n",
      "564:\tlearn: 10.9479054\ttotal: 8.39s\tremaining: 6.46s\n",
      "565:\tlearn: 10.9398577\ttotal: 8.39s\tremaining: 6.44s\n",
      "566:\tlearn: 10.9347455\ttotal: 8.39s\tremaining: 6.41s\n",
      "567:\tlearn: 10.9281188\ttotal: 8.4s\tremaining: 6.39s\n",
      "568:\tlearn: 10.9221440\ttotal: 8.4s\tremaining: 6.37s\n",
      "569:\tlearn: 10.9182034\ttotal: 8.49s\tremaining: 6.4s\n",
      "570:\tlearn: 10.9148857\ttotal: 8.49s\tremaining: 6.38s\n",
      "571:\tlearn: 10.9121120\ttotal: 8.49s\tremaining: 6.35s\n",
      "572:\tlearn: 10.9052565\ttotal: 8.49s\tremaining: 6.33s\n",
      "573:\tlearn: 10.8998945\ttotal: 8.49s\tremaining: 6.3s\n",
      "574:\tlearn: 10.8933347\ttotal: 8.5s\tremaining: 6.28s\n",
      "575:\tlearn: 10.8906792\ttotal: 8.58s\tremaining: 6.32s\n",
      "576:\tlearn: 10.8806770\ttotal: 8.59s\tremaining: 6.29s\n",
      "577:\tlearn: 10.8793310\ttotal: 8.59s\tremaining: 6.27s\n",
      "578:\tlearn: 10.8780404\ttotal: 8.59s\tremaining: 6.24s\n",
      "579:\tlearn: 10.8720171\ttotal: 8.59s\tremaining: 6.22s\n",
      "580:\tlearn: 10.8651790\ttotal: 8.59s\tremaining: 6.2s\n",
      "581:\tlearn: 10.8612289\ttotal: 8.68s\tremaining: 6.24s\n",
      "582:\tlearn: 10.8536660\ttotal: 8.68s\tremaining: 6.21s\n",
      "583:\tlearn: 10.8515451\ttotal: 8.69s\tremaining: 6.19s\n",
      "584:\tlearn: 10.8480325\ttotal: 8.69s\tremaining: 6.16s\n",
      "585:\tlearn: 10.8415129\ttotal: 8.69s\tremaining: 6.14s\n",
      "586:\tlearn: 10.8350044\ttotal: 8.69s\tremaining: 6.11s\n",
      "587:\tlearn: 10.8322814\ttotal: 8.78s\tremaining: 6.15s\n",
      "588:\tlearn: 10.8266642\ttotal: 8.78s\tremaining: 6.13s\n",
      "589:\tlearn: 10.8201911\ttotal: 8.78s\tremaining: 6.1s\n",
      "590:\tlearn: 10.8109720\ttotal: 8.78s\tremaining: 6.08s\n",
      "591:\tlearn: 10.8061613\ttotal: 8.79s\tremaining: 6.05s\n",
      "592:\tlearn: 10.7986258\ttotal: 8.79s\tremaining: 6.03s\n",
      "593:\tlearn: 10.7936348\ttotal: 8.79s\tremaining: 6.01s\n",
      "594:\tlearn: 10.7887678\ttotal: 8.88s\tremaining: 6.04s\n",
      "595:\tlearn: 10.7804267\ttotal: 8.88s\tremaining: 6.02s\n",
      "596:\tlearn: 10.7757447\ttotal: 8.88s\tremaining: 6s\n",
      "597:\tlearn: 10.7716876\ttotal: 8.88s\tremaining: 5.97s\n",
      "598:\tlearn: 10.7684663\ttotal: 8.88s\tremaining: 5.95s\n",
      "599:\tlearn: 10.7630506\ttotal: 8.89s\tremaining: 5.93s\n",
      "600:\tlearn: 10.7566876\ttotal: 8.97s\tremaining: 5.96s\n",
      "601:\tlearn: 10.7538939\ttotal: 8.97s\tremaining: 5.93s\n",
      "602:\tlearn: 10.7485626\ttotal: 8.97s\tremaining: 5.91s\n",
      "603:\tlearn: 10.7420904\ttotal: 8.98s\tremaining: 5.89s\n",
      "604:\tlearn: 10.7381393\ttotal: 8.98s\tremaining: 5.86s\n",
      "605:\tlearn: 10.7304600\ttotal: 8.99s\tremaining: 5.84s\n",
      "606:\tlearn: 10.7245742\ttotal: 9.07s\tremaining: 5.87s\n",
      "607:\tlearn: 10.7168743\ttotal: 9.07s\tremaining: 5.85s\n",
      "608:\tlearn: 10.7120642\ttotal: 9.07s\tremaining: 5.83s\n",
      "609:\tlearn: 10.7077816\ttotal: 9.08s\tremaining: 5.8s\n",
      "610:\tlearn: 10.7015324\ttotal: 9.08s\tremaining: 5.78s\n",
      "611:\tlearn: 10.6960285\ttotal: 9.17s\tremaining: 5.81s\n",
      "612:\tlearn: 10.6903875\ttotal: 9.17s\tremaining: 5.79s\n",
      "613:\tlearn: 10.6883033\ttotal: 9.17s\tremaining: 5.76s\n",
      "614:\tlearn: 10.6793713\ttotal: 9.17s\tremaining: 5.74s\n",
      "615:\tlearn: 10.6702225\ttotal: 9.17s\tremaining: 5.72s\n",
      "616:\tlearn: 10.6635732\ttotal: 9.18s\tremaining: 5.7s\n",
      "617:\tlearn: 10.6570646\ttotal: 9.18s\tremaining: 5.67s\n",
      "618:\tlearn: 10.6522851\ttotal: 9.26s\tremaining: 5.7s\n",
      "619:\tlearn: 10.6464633\ttotal: 9.27s\tremaining: 5.68s\n",
      "620:\tlearn: 10.6362121\ttotal: 9.27s\tremaining: 5.66s\n",
      "621:\tlearn: 10.6330324\ttotal: 9.27s\tremaining: 5.63s\n",
      "622:\tlearn: 10.6307409\ttotal: 9.27s\tremaining: 5.61s\n",
      "623:\tlearn: 10.6243061\ttotal: 9.27s\tremaining: 5.59s\n",
      "624:\tlearn: 10.6207459\ttotal: 9.36s\tremaining: 5.62s\n",
      "625:\tlearn: 10.6118297\ttotal: 9.36s\tremaining: 5.59s\n",
      "626:\tlearn: 10.6051885\ttotal: 9.36s\tremaining: 5.57s\n",
      "627:\tlearn: 10.5984816\ttotal: 9.37s\tremaining: 5.55s\n",
      "628:\tlearn: 10.5950126\ttotal: 9.37s\tremaining: 5.53s\n",
      "629:\tlearn: 10.5916935\ttotal: 9.37s\tremaining: 5.5s\n",
      "630:\tlearn: 10.5885302\ttotal: 9.46s\tremaining: 5.53s\n",
      "631:\tlearn: 10.5813244\ttotal: 9.46s\tremaining: 5.51s\n",
      "632:\tlearn: 10.5727079\ttotal: 9.46s\tremaining: 5.49s\n",
      "633:\tlearn: 10.5717159\ttotal: 9.46s\tremaining: 5.46s\n",
      "634:\tlearn: 10.5696235\ttotal: 9.46s\tremaining: 5.44s\n",
      "635:\tlearn: 10.5611740\ttotal: 9.47s\tremaining: 5.42s\n",
      "636:\tlearn: 10.5565817\ttotal: 9.47s\tremaining: 5.4s\n",
      "637:\tlearn: 10.5551488\ttotal: 9.55s\tremaining: 5.42s\n",
      "638:\tlearn: 10.5506017\ttotal: 9.56s\tremaining: 5.4s\n",
      "639:\tlearn: 10.5463575\ttotal: 9.56s\tremaining: 5.38s\n",
      "640:\tlearn: 10.5397426\ttotal: 9.56s\tremaining: 5.35s\n",
      "641:\tlearn: 10.5311398\ttotal: 9.56s\tremaining: 5.33s\n",
      "642:\tlearn: 10.5266526\ttotal: 9.57s\tremaining: 5.31s\n",
      "643:\tlearn: 10.5204499\ttotal: 9.65s\tremaining: 5.33s\n",
      "644:\tlearn: 10.5170611\ttotal: 9.65s\tremaining: 5.31s\n",
      "645:\tlearn: 10.5095331\ttotal: 9.65s\tremaining: 5.29s\n",
      "646:\tlearn: 10.5046858\ttotal: 9.65s\tremaining: 5.27s\n",
      "647:\tlearn: 10.5009857\ttotal: 9.66s\tremaining: 5.25s\n",
      "648:\tlearn: 10.4965023\ttotal: 9.66s\tremaining: 5.22s\n",
      "649:\tlearn: 10.4906671\ttotal: 9.75s\tremaining: 5.25s\n",
      "650:\tlearn: 10.4834516\ttotal: 9.75s\tremaining: 5.23s\n",
      "651:\tlearn: 10.4782261\ttotal: 9.76s\tremaining: 5.21s\n",
      "652:\tlearn: 10.4675442\ttotal: 9.76s\tremaining: 5.18s\n",
      "653:\tlearn: 10.4616754\ttotal: 9.76s\tremaining: 5.16s\n",
      "654:\tlearn: 10.4573800\ttotal: 9.77s\tremaining: 5.14s\n",
      "655:\tlearn: 10.4529708\ttotal: 9.85s\tremaining: 5.16s\n",
      "656:\tlearn: 10.4499174\ttotal: 9.85s\tremaining: 5.14s\n",
      "657:\tlearn: 10.4441701\ttotal: 9.85s\tremaining: 5.12s\n",
      "658:\tlearn: 10.4378760\ttotal: 9.85s\tremaining: 5.1s\n",
      "659:\tlearn: 10.4314672\ttotal: 9.85s\tremaining: 5.08s\n",
      "660:\tlearn: 10.4283186\ttotal: 9.86s\tremaining: 5.06s\n",
      "661:\tlearn: 10.4246890\ttotal: 9.94s\tremaining: 5.08s\n",
      "662:\tlearn: 10.4160686\ttotal: 9.94s\tremaining: 5.05s\n",
      "663:\tlearn: 10.4093134\ttotal: 9.95s\tremaining: 5.03s\n",
      "664:\tlearn: 10.4015703\ttotal: 9.95s\tremaining: 5.01s\n",
      "665:\tlearn: 10.3989124\ttotal: 9.95s\tremaining: 4.99s\n",
      "666:\tlearn: 10.3959609\ttotal: 9.95s\tremaining: 4.97s\n",
      "667:\tlearn: 10.3926098\ttotal: 9.96s\tremaining: 4.95s\n",
      "668:\tlearn: 10.3846404\ttotal: 10s\tremaining: 4.97s\n",
      "669:\tlearn: 10.3783297\ttotal: 10s\tremaining: 4.95s\n",
      "670:\tlearn: 10.3732779\ttotal: 10s\tremaining: 4.92s\n",
      "671:\tlearn: 10.3677895\ttotal: 10s\tremaining: 4.9s\n",
      "672:\tlearn: 10.3601855\ttotal: 10s\tremaining: 4.88s\n",
      "673:\tlearn: 10.3556379\ttotal: 10s\tremaining: 4.86s\n",
      "674:\tlearn: 10.3526548\ttotal: 10.1s\tremaining: 4.84s\n",
      "675:\tlearn: 10.3478069\ttotal: 10.1s\tremaining: 4.86s\n",
      "676:\tlearn: 10.3375349\ttotal: 10.1s\tremaining: 4.84s\n",
      "677:\tlearn: 10.3323292\ttotal: 10.1s\tremaining: 4.82s\n",
      "678:\tlearn: 10.3279584\ttotal: 10.1s\tremaining: 4.79s\n",
      "679:\tlearn: 10.3233962\ttotal: 10.1s\tremaining: 4.77s\n",
      "680:\tlearn: 10.3140898\ttotal: 10.1s\tremaining: 4.75s\n",
      "681:\tlearn: 10.3062222\ttotal: 10.2s\tremaining: 4.77s\n",
      "682:\tlearn: 10.3012249\ttotal: 10.2s\tremaining: 4.75s\n",
      "683:\tlearn: 10.2951172\ttotal: 10.2s\tremaining: 4.73s\n",
      "684:\tlearn: 10.2892766\ttotal: 10.2s\tremaining: 4.71s\n",
      "685:\tlearn: 10.2823778\ttotal: 10.2s\tremaining: 4.69s\n",
      "686:\tlearn: 10.2762351\ttotal: 10.2s\tremaining: 4.67s\n",
      "687:\tlearn: 10.2737263\ttotal: 10.3s\tremaining: 4.68s\n",
      "688:\tlearn: 10.2649343\ttotal: 10.3s\tremaining: 4.66s\n",
      "689:\tlearn: 10.2595764\ttotal: 10.3s\tremaining: 4.64s\n",
      "690:\tlearn: 10.2530591\ttotal: 10.3s\tremaining: 4.62s\n",
      "691:\tlearn: 10.2483604\ttotal: 10.3s\tremaining: 4.6s\n",
      "692:\tlearn: 10.2436431\ttotal: 10.3s\tremaining: 4.58s\n",
      "693:\tlearn: 10.2377111\ttotal: 10.3s\tremaining: 4.56s\n",
      "694:\tlearn: 10.2303621\ttotal: 10.3s\tremaining: 4.54s\n",
      "695:\tlearn: 10.2231401\ttotal: 10.4s\tremaining: 4.55s\n",
      "696:\tlearn: 10.2186213\ttotal: 10.4s\tremaining: 4.53s\n",
      "697:\tlearn: 10.2132011\ttotal: 10.4s\tremaining: 4.51s\n",
      "698:\tlearn: 10.2099924\ttotal: 10.4s\tremaining: 4.49s\n",
      "699:\tlearn: 10.2026960\ttotal: 10.4s\tremaining: 4.47s\n",
      "700:\tlearn: 10.1998800\ttotal: 10.4s\tremaining: 4.45s\n",
      "701:\tlearn: 10.1927734\ttotal: 10.4s\tremaining: 4.43s\n",
      "702:\tlearn: 10.1874105\ttotal: 10.5s\tremaining: 4.45s\n",
      "703:\tlearn: 10.1798343\ttotal: 10.5s\tremaining: 4.43s\n",
      "704:\tlearn: 10.1755381\ttotal: 10.5s\tremaining: 4.41s\n",
      "705:\tlearn: 10.1722917\ttotal: 10.5s\tremaining: 4.38s\n",
      "706:\tlearn: 10.1667641\ttotal: 10.5s\tremaining: 4.36s\n",
      "707:\tlearn: 10.1650017\ttotal: 10.5s\tremaining: 4.34s\n",
      "708:\tlearn: 10.1608159\ttotal: 10.6s\tremaining: 4.36s\n",
      "709:\tlearn: 10.1570065\ttotal: 10.6s\tremaining: 4.34s\n",
      "710:\tlearn: 10.1519316\ttotal: 10.6s\tremaining: 4.32s\n",
      "711:\tlearn: 10.1477606\ttotal: 10.6s\tremaining: 4.3s\n",
      "712:\tlearn: 10.1434991\ttotal: 10.6s\tremaining: 4.28s\n",
      "713:\tlearn: 10.1379338\ttotal: 10.7s\tremaining: 4.29s\n",
      "714:\tlearn: 10.1325094\ttotal: 10.7s\tremaining: 4.27s\n",
      "715:\tlearn: 10.1297474\ttotal: 10.7s\tremaining: 4.25s\n",
      "716:\tlearn: 10.1260294\ttotal: 10.7s\tremaining: 4.23s\n",
      "717:\tlearn: 10.1220489\ttotal: 10.7s\tremaining: 4.21s\n",
      "718:\tlearn: 10.1169911\ttotal: 10.7s\tremaining: 4.19s\n",
      "719:\tlearn: 10.1123365\ttotal: 10.7s\tremaining: 4.17s\n",
      "720:\tlearn: 10.1095991\ttotal: 10.8s\tremaining: 4.18s\n",
      "721:\tlearn: 10.1065054\ttotal: 10.8s\tremaining: 4.17s\n",
      "722:\tlearn: 10.1008014\ttotal: 10.8s\tremaining: 4.15s\n",
      "723:\tlearn: 10.0980370\ttotal: 10.8s\tremaining: 4.13s\n",
      "724:\tlearn: 10.0897024\ttotal: 10.9s\tremaining: 4.14s\n",
      "725:\tlearn: 10.0826147\ttotal: 10.9s\tremaining: 4.12s\n",
      "726:\tlearn: 10.0751631\ttotal: 10.9s\tremaining: 4.1s\n",
      "727:\tlearn: 10.0694955\ttotal: 10.9s\tremaining: 4.08s\n",
      "728:\tlearn: 10.0632133\ttotal: 10.9s\tremaining: 4.06s\n",
      "729:\tlearn: 10.0615266\ttotal: 10.9s\tremaining: 4.04s\n",
      "730:\tlearn: 10.0571392\ttotal: 10.9s\tremaining: 4.02s\n",
      "731:\tlearn: 10.0533535\ttotal: 11s\tremaining: 4.03s\n",
      "732:\tlearn: 10.0472006\ttotal: 11s\tremaining: 4.01s\n",
      "733:\tlearn: 10.0433150\ttotal: 11s\tremaining: 3.99s\n",
      "734:\tlearn: 10.0373529\ttotal: 11s\tremaining: 3.97s\n",
      "735:\tlearn: 10.0299613\ttotal: 11s\tremaining: 3.96s\n",
      "736:\tlearn: 10.0265879\ttotal: 11.1s\tremaining: 3.96s\n",
      "737:\tlearn: 10.0211565\ttotal: 11.1s\tremaining: 3.94s\n",
      "738:\tlearn: 10.0118339\ttotal: 11.1s\tremaining: 3.92s\n",
      "739:\tlearn: 10.0058008\ttotal: 11.1s\tremaining: 3.9s\n",
      "740:\tlearn: 10.0019306\ttotal: 11.1s\tremaining: 3.88s\n",
      "741:\tlearn: 9.9941111\ttotal: 11.1s\tremaining: 3.87s\n",
      "742:\tlearn: 9.9901671\ttotal: 11.1s\tremaining: 3.85s\n",
      "743:\tlearn: 9.9875104\ttotal: 11.2s\tremaining: 3.85s\n",
      "744:\tlearn: 9.9843824\ttotal: 11.2s\tremaining: 3.84s\n",
      "745:\tlearn: 9.9750181\ttotal: 11.2s\tremaining: 3.82s\n",
      "746:\tlearn: 9.9718511\ttotal: 11.2s\tremaining: 3.8s\n",
      "747:\tlearn: 9.9672029\ttotal: 11.2s\tremaining: 3.78s\n",
      "748:\tlearn: 9.9627152\ttotal: 11.2s\tremaining: 3.76s\n",
      "749:\tlearn: 9.9585260\ttotal: 11.2s\tremaining: 3.74s\n",
      "750:\tlearn: 9.9565612\ttotal: 11.3s\tremaining: 3.75s\n",
      "751:\tlearn: 9.9514601\ttotal: 11.3s\tremaining: 3.73s\n",
      "752:\tlearn: 9.9489940\ttotal: 11.3s\tremaining: 3.71s\n",
      "753:\tlearn: 9.9443243\ttotal: 11.3s\tremaining: 3.69s\n",
      "754:\tlearn: 9.9402084\ttotal: 11.3s\tremaining: 3.67s\n",
      "755:\tlearn: 9.9356495\ttotal: 11.3s\tremaining: 3.65s\n",
      "756:\tlearn: 9.9290202\ttotal: 11.3s\tremaining: 3.63s\n",
      "757:\tlearn: 9.9252875\ttotal: 11.4s\tremaining: 3.64s\n",
      "758:\tlearn: 9.9229387\ttotal: 11.4s\tremaining: 3.62s\n",
      "759:\tlearn: 9.9172850\ttotal: 11.4s\tremaining: 3.6s\n",
      "760:\tlearn: 9.9133257\ttotal: 11.4s\tremaining: 3.58s\n",
      "761:\tlearn: 9.9099797\ttotal: 11.4s\tremaining: 3.56s\n",
      "762:\tlearn: 9.9062957\ttotal: 11.4s\tremaining: 3.54s\n",
      "763:\tlearn: 9.9000265\ttotal: 11.4s\tremaining: 3.53s\n",
      "764:\tlearn: 9.8931819\ttotal: 11.5s\tremaining: 3.53s\n",
      "765:\tlearn: 9.8891131\ttotal: 11.5s\tremaining: 3.51s\n",
      "766:\tlearn: 9.8836011\ttotal: 11.5s\tremaining: 3.49s\n",
      "767:\tlearn: 9.8799016\ttotal: 11.5s\tremaining: 3.47s\n",
      "768:\tlearn: 9.8747401\ttotal: 11.5s\tremaining: 3.46s\n",
      "769:\tlearn: 9.8707714\ttotal: 11.5s\tremaining: 3.44s\n",
      "770:\tlearn: 9.8669822\ttotal: 11.6s\tremaining: 3.44s\n",
      "771:\tlearn: 9.8613204\ttotal: 11.6s\tremaining: 3.42s\n",
      "772:\tlearn: 9.8570147\ttotal: 11.6s\tremaining: 3.4s\n",
      "773:\tlearn: 9.8493400\ttotal: 11.6s\tremaining: 3.39s\n",
      "774:\tlearn: 9.8421236\ttotal: 11.6s\tremaining: 3.37s\n",
      "775:\tlearn: 9.8330829\ttotal: 11.6s\tremaining: 3.35s\n",
      "776:\tlearn: 9.8279961\ttotal: 11.6s\tremaining: 3.33s\n",
      "777:\tlearn: 9.8221692\ttotal: 11.7s\tremaining: 3.34s\n",
      "778:\tlearn: 9.8155219\ttotal: 11.7s\tremaining: 3.32s\n",
      "779:\tlearn: 9.8109463\ttotal: 11.7s\tremaining: 3.3s\n",
      "780:\tlearn: 9.8093893\ttotal: 11.7s\tremaining: 3.28s\n",
      "781:\tlearn: 9.8023138\ttotal: 11.7s\tremaining: 3.26s\n",
      "782:\tlearn: 9.7975395\ttotal: 11.8s\tremaining: 3.27s\n",
      "783:\tlearn: 9.7910373\ttotal: 11.8s\tremaining: 3.25s\n",
      "784:\tlearn: 9.7860784\ttotal: 11.8s\tremaining: 3.23s\n",
      "785:\tlearn: 9.7801967\ttotal: 11.8s\tremaining: 3.21s\n",
      "786:\tlearn: 9.7763383\ttotal: 11.8s\tremaining: 3.19s\n",
      "787:\tlearn: 9.7652466\ttotal: 11.8s\tremaining: 3.17s\n",
      "788:\tlearn: 9.7610571\ttotal: 11.8s\tremaining: 3.15s\n",
      "789:\tlearn: 9.7560062\ttotal: 11.9s\tremaining: 3.16s\n",
      "790:\tlearn: 9.7491120\ttotal: 11.9s\tremaining: 3.14s\n",
      "791:\tlearn: 9.7434068\ttotal: 11.9s\tremaining: 3.12s\n",
      "792:\tlearn: 9.7389387\ttotal: 11.9s\tremaining: 3.1s\n",
      "793:\tlearn: 9.7329251\ttotal: 11.9s\tremaining: 3.08s\n",
      "794:\tlearn: 9.7309872\ttotal: 11.9s\tremaining: 3.07s\n",
      "795:\tlearn: 9.7243532\ttotal: 11.9s\tremaining: 3.05s\n",
      "796:\tlearn: 9.7185405\ttotal: 12s\tremaining: 3.05s\n",
      "797:\tlearn: 9.7142652\ttotal: 12s\tremaining: 3.03s\n",
      "798:\tlearn: 9.7095066\ttotal: 12s\tremaining: 3.02s\n",
      "799:\tlearn: 9.7046904\ttotal: 12s\tremaining: 3s\n",
      "800:\tlearn: 9.6977952\ttotal: 12s\tremaining: 2.98s\n",
      "801:\tlearn: 9.6926558\ttotal: 12s\tremaining: 2.96s\n",
      "802:\tlearn: 9.6902226\ttotal: 12s\tremaining: 2.94s\n",
      "803:\tlearn: 9.6828927\ttotal: 12.1s\tremaining: 2.94s\n",
      "804:\tlearn: 9.6787915\ttotal: 12.1s\tremaining: 2.93s\n",
      "805:\tlearn: 9.6729272\ttotal: 12.1s\tremaining: 2.91s\n",
      "806:\tlearn: 9.6698583\ttotal: 12.1s\tremaining: 2.89s\n",
      "807:\tlearn: 9.6686536\ttotal: 12.1s\tremaining: 2.87s\n",
      "808:\tlearn: 9.6643529\ttotal: 12.1s\tremaining: 2.85s\n",
      "809:\tlearn: 9.6600279\ttotal: 12.2s\tremaining: 2.85s\n",
      "810:\tlearn: 9.6537675\ttotal: 12.2s\tremaining: 2.84s\n",
      "811:\tlearn: 9.6503406\ttotal: 12.2s\tremaining: 2.82s\n",
      "812:\tlearn: 9.6479466\ttotal: 12.2s\tremaining: 2.8s\n",
      "813:\tlearn: 9.6435579\ttotal: 12.2s\tremaining: 2.78s\n",
      "814:\tlearn: 9.6368805\ttotal: 12.2s\tremaining: 2.77s\n",
      "815:\tlearn: 9.6329656\ttotal: 12.2s\tremaining: 2.75s\n",
      "816:\tlearn: 9.6300773\ttotal: 12.3s\tremaining: 2.75s\n",
      "817:\tlearn: 9.6283269\ttotal: 12.3s\tremaining: 2.73s\n",
      "818:\tlearn: 9.6238428\ttotal: 12.3s\tremaining: 2.71s\n",
      "819:\tlearn: 9.6207246\ttotal: 12.3s\tremaining: 2.69s\n",
      "820:\tlearn: 9.6194191\ttotal: 12.3s\tremaining: 2.68s\n",
      "821:\tlearn: 9.6148760\ttotal: 12.3s\tremaining: 2.66s\n",
      "822:\tlearn: 9.6097794\ttotal: 12.4s\tremaining: 2.66s\n",
      "823:\tlearn: 9.6037542\ttotal: 12.4s\tremaining: 2.64s\n",
      "824:\tlearn: 9.6004211\ttotal: 12.4s\tremaining: 2.62s\n",
      "825:\tlearn: 9.5912034\ttotal: 12.4s\tremaining: 2.61s\n",
      "826:\tlearn: 9.5859132\ttotal: 12.4s\tremaining: 2.59s\n",
      "827:\tlearn: 9.5819519\ttotal: 12.4s\tremaining: 2.57s\n",
      "828:\tlearn: 9.5791944\ttotal: 12.4s\tremaining: 2.55s\n",
      "829:\tlearn: 9.5729702\ttotal: 12.5s\tremaining: 2.55s\n",
      "830:\tlearn: 9.5675855\ttotal: 12.5s\tremaining: 2.54s\n",
      "831:\tlearn: 9.5595020\ttotal: 12.5s\tremaining: 2.52s\n",
      "832:\tlearn: 9.5544787\ttotal: 12.5s\tremaining: 2.5s\n",
      "833:\tlearn: 9.5503793\ttotal: 12.5s\tremaining: 2.48s\n",
      "834:\tlearn: 9.5445394\ttotal: 12.5s\tremaining: 2.46s\n",
      "835:\tlearn: 9.5405694\ttotal: 12.6s\tremaining: 2.46s\n",
      "836:\tlearn: 9.5370992\ttotal: 12.6s\tremaining: 2.45s\n",
      "837:\tlearn: 9.5310627\ttotal: 12.6s\tremaining: 2.43s\n",
      "838:\tlearn: 9.5276716\ttotal: 12.6s\tremaining: 2.41s\n",
      "839:\tlearn: 9.5222873\ttotal: 12.6s\tremaining: 2.39s\n",
      "840:\tlearn: 9.5176277\ttotal: 12.6s\tremaining: 2.38s\n",
      "841:\tlearn: 9.5144531\ttotal: 12.6s\tremaining: 2.36s\n",
      "842:\tlearn: 9.5113895\ttotal: 12.7s\tremaining: 2.36s\n",
      "843:\tlearn: 9.5060396\ttotal: 12.7s\tremaining: 2.34s\n",
      "844:\tlearn: 9.4994336\ttotal: 12.7s\tremaining: 2.32s\n",
      "845:\tlearn: 9.4938601\ttotal: 12.7s\tremaining: 2.31s\n",
      "846:\tlearn: 9.4911715\ttotal: 12.7s\tremaining: 2.29s\n",
      "847:\tlearn: 9.4855104\ttotal: 12.7s\tremaining: 2.27s\n",
      "848:\tlearn: 9.4818206\ttotal: 12.7s\tremaining: 2.25s\n",
      "849:\tlearn: 9.4797613\ttotal: 12.8s\tremaining: 2.25s\n",
      "850:\tlearn: 9.4770563\ttotal: 12.8s\tremaining: 2.23s\n",
      "851:\tlearn: 9.4727194\ttotal: 12.8s\tremaining: 2.22s\n",
      "852:\tlearn: 9.4670462\ttotal: 12.8s\tremaining: 2.2s\n",
      "853:\tlearn: 9.4615720\ttotal: 12.8s\tremaining: 2.18s\n",
      "854:\tlearn: 9.4530058\ttotal: 12.8s\tremaining: 2.17s\n",
      "855:\tlearn: 9.4510643\ttotal: 12.8s\tremaining: 2.15s\n",
      "856:\tlearn: 9.4465170\ttotal: 12.9s\tremaining: 2.14s\n",
      "857:\tlearn: 9.4426767\ttotal: 12.9s\tremaining: 2.13s\n",
      "858:\tlearn: 9.4385311\ttotal: 12.9s\tremaining: 2.11s\n",
      "859:\tlearn: 9.4339383\ttotal: 12.9s\tremaining: 2.09s\n",
      "860:\tlearn: 9.4287022\ttotal: 12.9s\tremaining: 2.08s\n",
      "861:\tlearn: 9.4240573\ttotal: 12.9s\tremaining: 2.06s\n",
      "862:\tlearn: 9.4183495\ttotal: 12.9s\tremaining: 2.04s\n",
      "863:\tlearn: 9.4156153\ttotal: 13s\tremaining: 2.04s\n",
      "864:\tlearn: 9.4126357\ttotal: 13s\tremaining: 2.02s\n",
      "865:\tlearn: 9.4077969\ttotal: 13s\tremaining: 2s\n",
      "866:\tlearn: 9.4037413\ttotal: 13s\tremaining: 1.99s\n",
      "867:\tlearn: 9.4017667\ttotal: 13.1s\tremaining: 1.98s\n",
      "868:\tlearn: 9.3978780\ttotal: 13.1s\tremaining: 1.97s\n",
      "869:\tlearn: 9.3952662\ttotal: 13.1s\tremaining: 1.95s\n",
      "870:\tlearn: 9.3924377\ttotal: 13.1s\tremaining: 1.93s\n",
      "871:\tlearn: 9.3923023\ttotal: 13.1s\tremaining: 1.92s\n",
      "872:\tlearn: 9.3892955\ttotal: 13.1s\tremaining: 1.9s\n",
      "873:\tlearn: 9.3856565\ttotal: 13.1s\tremaining: 1.88s\n",
      "874:\tlearn: 9.3813633\ttotal: 13.1s\tremaining: 1.88s\n",
      "875:\tlearn: 9.3791099\ttotal: 13.1s\tremaining: 1.86s\n",
      "876:\tlearn: 9.3747592\ttotal: 13.2s\tremaining: 1.84s\n",
      "877:\tlearn: 9.3702662\ttotal: 13.2s\tremaining: 1.83s\n",
      "878:\tlearn: 9.3677320\ttotal: 13.2s\tremaining: 1.81s\n",
      "879:\tlearn: 9.3648089\ttotal: 13.2s\tremaining: 1.79s\n",
      "880:\tlearn: 9.3599281\ttotal: 13.2s\tremaining: 1.79s\n",
      "881:\tlearn: 9.3587456\ttotal: 13.2s\tremaining: 1.77s\n",
      "882:\tlearn: 9.3527295\ttotal: 13.2s\tremaining: 1.75s\n",
      "883:\tlearn: 9.3490830\ttotal: 13.2s\tremaining: 1.74s\n",
      "884:\tlearn: 9.3444017\ttotal: 13.3s\tremaining: 1.72s\n",
      "885:\tlearn: 9.3410253\ttotal: 13.3s\tremaining: 1.71s\n",
      "886:\tlearn: 9.3382947\ttotal: 13.3s\tremaining: 1.69s\n",
      "887:\tlearn: 9.3355823\ttotal: 13.3s\tremaining: 1.68s\n",
      "888:\tlearn: 9.3314836\ttotal: 13.3s\tremaining: 1.67s\n",
      "889:\tlearn: 9.3276174\ttotal: 13.3s\tremaining: 1.65s\n",
      "890:\tlearn: 9.3232134\ttotal: 13.3s\tremaining: 1.63s\n",
      "891:\tlearn: 9.3211059\ttotal: 13.3s\tremaining: 1.62s\n",
      "892:\tlearn: 9.3176693\ttotal: 13.3s\tremaining: 1.6s\n",
      "893:\tlearn: 9.3147632\ttotal: 13.3s\tremaining: 1.58s\n",
      "894:\tlearn: 9.3080814\ttotal: 13.4s\tremaining: 1.58s\n",
      "895:\tlearn: 9.3030878\ttotal: 13.4s\tremaining: 1.56s\n",
      "896:\tlearn: 9.2968897\ttotal: 13.4s\tremaining: 1.54s\n",
      "897:\tlearn: 9.2935378\ttotal: 13.4s\tremaining: 1.53s\n",
      "898:\tlearn: 9.2876485\ttotal: 13.4s\tremaining: 1.51s\n",
      "899:\tlearn: 9.2845955\ttotal: 13.4s\tremaining: 1.49s\n",
      "900:\tlearn: 9.2820378\ttotal: 13.4s\tremaining: 1.48s\n",
      "901:\tlearn: 9.2810075\ttotal: 13.5s\tremaining: 1.47s\n",
      "902:\tlearn: 9.2778260\ttotal: 13.5s\tremaining: 1.45s\n",
      "903:\tlearn: 9.2730638\ttotal: 13.5s\tremaining: 1.44s\n",
      "904:\tlearn: 9.2698125\ttotal: 13.5s\tremaining: 1.42s\n",
      "905:\tlearn: 9.2657593\ttotal: 13.5s\tremaining: 1.4s\n",
      "906:\tlearn: 9.2577279\ttotal: 13.5s\tremaining: 1.39s\n",
      "907:\tlearn: 9.2523289\ttotal: 13.6s\tremaining: 1.37s\n",
      "908:\tlearn: 9.2487038\ttotal: 13.6s\tremaining: 1.36s\n",
      "909:\tlearn: 9.2447947\ttotal: 13.6s\tremaining: 1.35s\n",
      "910:\tlearn: 9.2402993\ttotal: 13.6s\tremaining: 1.33s\n",
      "911:\tlearn: 9.2347629\ttotal: 13.6s\tremaining: 1.31s\n",
      "912:\tlearn: 9.2316400\ttotal: 13.6s\tremaining: 1.3s\n",
      "913:\tlearn: 9.2288881\ttotal: 13.6s\tremaining: 1.28s\n",
      "914:\tlearn: 9.2254512\ttotal: 13.7s\tremaining: 1.27s\n",
      "915:\tlearn: 9.2208160\ttotal: 13.7s\tremaining: 1.26s\n",
      "916:\tlearn: 9.2154553\ttotal: 13.7s\tremaining: 1.24s\n",
      "917:\tlearn: 9.2120766\ttotal: 13.7s\tremaining: 1.23s\n",
      "918:\tlearn: 9.2075929\ttotal: 13.7s\tremaining: 1.21s\n",
      "919:\tlearn: 9.2033866\ttotal: 13.7s\tremaining: 1.19s\n",
      "920:\tlearn: 9.1977866\ttotal: 13.7s\tremaining: 1.18s\n",
      "921:\tlearn: 9.1954143\ttotal: 13.8s\tremaining: 1.17s\n",
      "922:\tlearn: 9.1918905\ttotal: 13.8s\tremaining: 1.15s\n",
      "923:\tlearn: 9.1875435\ttotal: 13.8s\tremaining: 1.14s\n",
      "924:\tlearn: 9.1811171\ttotal: 13.8s\tremaining: 1.12s\n",
      "925:\tlearn: 9.1758250\ttotal: 13.8s\tremaining: 1.1s\n",
      "926:\tlearn: 9.1726785\ttotal: 13.8s\tremaining: 1.09s\n",
      "927:\tlearn: 9.1689794\ttotal: 13.8s\tremaining: 1.07s\n",
      "928:\tlearn: 9.1618226\ttotal: 13.9s\tremaining: 1.06s\n",
      "929:\tlearn: 9.1584327\ttotal: 13.9s\tremaining: 1.05s\n",
      "930:\tlearn: 9.1553095\ttotal: 13.9s\tremaining: 1.03s\n",
      "931:\tlearn: 9.1473996\ttotal: 13.9s\tremaining: 1.02s\n",
      "932:\tlearn: 9.1404418\ttotal: 13.9s\tremaining: 1s\n",
      "933:\tlearn: 9.1378281\ttotal: 13.9s\tremaining: 985ms\n",
      "934:\tlearn: 9.1356245\ttotal: 13.9s\tremaining: 969ms\n",
      "935:\tlearn: 9.1320850\ttotal: 14s\tremaining: 959ms\n",
      "936:\tlearn: 9.1271954\ttotal: 14s\tremaining: 943ms\n",
      "937:\tlearn: 9.1232856\ttotal: 14s\tremaining: 927ms\n",
      "938:\tlearn: 9.1207539\ttotal: 14s\tremaining: 911ms\n",
      "939:\tlearn: 9.1172778\ttotal: 14s\tremaining: 896ms\n",
      "940:\tlearn: 9.1152885\ttotal: 14.1s\tremaining: 885ms\n",
      "941:\tlearn: 9.1116719\ttotal: 14.1s\tremaining: 869ms\n",
      "942:\tlearn: 9.1090087\ttotal: 14.1s\tremaining: 854ms\n",
      "943:\tlearn: 9.1069423\ttotal: 14.1s\tremaining: 838ms\n",
      "944:\tlearn: 9.1026456\ttotal: 14.1s\tremaining: 822ms\n",
      "945:\tlearn: 9.0993438\ttotal: 14.1s\tremaining: 806ms\n",
      "946:\tlearn: 9.0976484\ttotal: 14.1s\tremaining: 791ms\n",
      "947:\tlearn: 9.0946198\ttotal: 14.2s\tremaining: 780ms\n",
      "948:\tlearn: 9.0924762\ttotal: 14.2s\tremaining: 764ms\n",
      "949:\tlearn: 9.0885688\ttotal: 14.2s\tremaining: 749ms\n",
      "950:\tlearn: 9.0851391\ttotal: 14.2s\tremaining: 733ms\n",
      "951:\tlearn: 9.0812338\ttotal: 14.3s\tremaining: 722ms\n",
      "952:\tlearn: 9.0769974\ttotal: 14.3s\tremaining: 706ms\n",
      "953:\tlearn: 9.0715369\ttotal: 14.3s\tremaining: 690ms\n",
      "954:\tlearn: 9.0644709\ttotal: 14.3s\tremaining: 675ms\n",
      "955:\tlearn: 9.0597807\ttotal: 14.3s\tremaining: 659ms\n",
      "956:\tlearn: 9.0540563\ttotal: 14.3s\tremaining: 643ms\n",
      "957:\tlearn: 9.0488840\ttotal: 14.3s\tremaining: 628ms\n",
      "958:\tlearn: 9.0445059\ttotal: 14.4s\tremaining: 616ms\n",
      "959:\tlearn: 9.0363080\ttotal: 14.4s\tremaining: 600ms\n",
      "960:\tlearn: 9.0310904\ttotal: 14.4s\tremaining: 585ms\n",
      "961:\tlearn: 9.0262746\ttotal: 14.4s\tremaining: 569ms\n",
      "962:\tlearn: 9.0226528\ttotal: 14.4s\tremaining: 554ms\n",
      "963:\tlearn: 9.0171919\ttotal: 14.4s\tremaining: 538ms\n",
      "964:\tlearn: 9.0105124\ttotal: 14.4s\tremaining: 523ms\n",
      "965:\tlearn: 9.0036678\ttotal: 14.5s\tremaining: 511ms\n",
      "966:\tlearn: 8.9990350\ttotal: 14.5s\tremaining: 495ms\n",
      "967:\tlearn: 8.9922370\ttotal: 14.5s\tremaining: 480ms\n",
      "968:\tlearn: 8.9877459\ttotal: 14.5s\tremaining: 464ms\n",
      "969:\tlearn: 8.9859454\ttotal: 14.5s\tremaining: 449ms\n",
      "970:\tlearn: 8.9820994\ttotal: 14.5s\tremaining: 433ms\n",
      "971:\tlearn: 8.9788646\ttotal: 14.6s\tremaining: 421ms\n",
      "972:\tlearn: 8.9755206\ttotal: 14.6s\tremaining: 405ms\n",
      "973:\tlearn: 8.9697575\ttotal: 14.6s\tremaining: 390ms\n",
      "974:\tlearn: 8.9673337\ttotal: 14.6s\tremaining: 375ms\n",
      "975:\tlearn: 8.9648414\ttotal: 14.6s\tremaining: 359ms\n",
      "976:\tlearn: 8.9594966\ttotal: 14.6s\tremaining: 344ms\n",
      "977:\tlearn: 8.9571079\ttotal: 14.6s\tremaining: 329ms\n",
      "978:\tlearn: 8.9481192\ttotal: 14.7s\tremaining: 315ms\n",
      "979:\tlearn: 8.9451912\ttotal: 14.7s\tremaining: 300ms\n",
      "980:\tlearn: 8.9404538\ttotal: 14.7s\tremaining: 285ms\n",
      "981:\tlearn: 8.9360137\ttotal: 14.7s\tremaining: 270ms\n",
      "982:\tlearn: 8.9328149\ttotal: 14.7s\tremaining: 254ms\n",
      "983:\tlearn: 8.9304299\ttotal: 14.7s\tremaining: 239ms\n",
      "984:\tlearn: 8.9265043\ttotal: 14.7s\tremaining: 224ms\n",
      "985:\tlearn: 8.9244556\ttotal: 14.8s\tremaining: 210ms\n",
      "986:\tlearn: 8.9223256\ttotal: 14.8s\tremaining: 195ms\n",
      "987:\tlearn: 8.9181758\ttotal: 14.8s\tremaining: 180ms\n",
      "988:\tlearn: 8.9166005\ttotal: 14.8s\tremaining: 165ms\n",
      "989:\tlearn: 8.9098736\ttotal: 14.8s\tremaining: 150ms\n",
      "990:\tlearn: 8.9069110\ttotal: 14.8s\tremaining: 134ms\n",
      "991:\tlearn: 8.9040284\ttotal: 14.8s\tremaining: 119ms\n",
      "992:\tlearn: 8.8985453\ttotal: 14.9s\tremaining: 105ms\n",
      "993:\tlearn: 8.8919202\ttotal: 14.9s\tremaining: 89.9ms\n",
      "994:\tlearn: 8.8886953\ttotal: 14.9s\tremaining: 74.9ms\n",
      "995:\tlearn: 8.8874011\ttotal: 14.9s\tremaining: 59.8ms\n",
      "996:\tlearn: 8.8849336\ttotal: 14.9s\tremaining: 44.8ms\n",
      "997:\tlearn: 8.8809088\ttotal: 14.9s\tremaining: 29.9ms\n",
      "998:\tlearn: 8.8771614\ttotal: 15s\tremaining: 15ms\n",
      "999:\tlearn: 8.8719987\ttotal: 15s\tremaining: 0us\n",
      "\u001b[1mМодель - CatBoostRegressor\u001b[0m\n",
      "Оптимальные гиперпараметры:\n",
      "{'depth': 5, 'learning_rate': 0.1}\n",
      "\n",
      "Train RMSE score - 8.871998663863927\n",
      "Test RMSE score - 37.7865682832038\n",
      "CPU times: user 23.7 s, sys: 3.34 s, total: 27 s\n",
      "Wall time: 48.6 s\n"
     ]
    }
   ],
   "source": [
    "%%time\n",
    "parametrs = {'learning_rate' : [0.05, 0.1], \n",
    "             'depth' : [5, 10]}\n",
    "model_testing(CatBoostRegressor, parametrs)"
   ]
  },
  {
   "cell_type": "markdown",
   "metadata": {},
   "source": [
    "Пока что модель кэтбуст показала наилучшие результаты по метрике RMSE - на тестовой выборке составило 24, но по затратам времени данная модель показывает худшие результаты. Теперь рассмотрим модель LGBM\n",
    "\n",
    "## 3.4. LGBM."
   ]
  },
  {
   "cell_type": "code",
   "execution_count": 23,
   "metadata": {},
   "outputs": [
    {
     "name": "stdout",
     "output_type": "stream",
     "text": [
      "\u001b[1mМодель - LGBM\u001b[0m\n",
      "Оптимальные гиперпараметры:\n",
      "{'learning_rate': 0.05, 'max_depth': 5}\n",
      "\n",
      "Train RMSE score - 14.381567667486609\n",
      "Test RMSE score - 38.3555373401387\n",
      "CPU times: user 30.4 s, sys: 450 ms, total: 30.9 s\n",
      "Wall time: 31.2 s\n"
     ]
    }
   ],
   "source": [
    "%%time\n",
    "parametrs = {'max_depth': range(1, 10, 2),\n",
    "            'learning_rate' : [0.01, 0.05, 0.1]}\n",
    "model_testing(LGBMRegressor, parametrs) "
   ]
  },
  {
   "cell_type": "markdown",
   "metadata": {},
   "source": [
    "LGBM занимает второе место по метрике RMSE на тестовой выборке, временные затраты также находятся на оптимальном уровне. Пока что это наилучший результат по соотношению время/качество.\n",
    "\n",
    "## 3.5. XGBoost."
   ]
  },
  {
   "cell_type": "code",
   "execution_count": 24,
   "metadata": {},
   "outputs": [
    {
     "name": "stdout",
     "output_type": "stream",
     "text": [
      "[12:50:11] WARNING: /workspace/src/objective/regression_obj.cu:152: reg:linear is now deprecated in favor of reg:squarederror.\n",
      "\u001b[1mМодель - XGBoost Regressor\u001b[0m\n",
      "Оптимальные гиперпараметры:\n",
      "{'colsample_bytree': 0.8, 'max_depth': 25, 'n_estimators': 20}\n",
      "\n",
      "Train RMSE score - 14.31679610774182\n",
      "Test RMSE score - 53.81603737944276\n"
     ]
    }
   ],
   "source": [
    "parametrs = {'n_estimators': range(5, 25, 5), \n",
    "             'colsample_bytree': [0.7, 0.8],\n",
    "             'max_depth': range(20, 50, 5)}\n",
    "model_testing(xgb.XGBRegressor, parametrs)"
   ]
  },
  {
   "cell_type": "markdown",
   "metadata": {},
   "source": [
    "XGBoost модель показала худшие результаты по метрике RMSE - 53, что является выше установленного порога."
   ]
  },
  {
   "cell_type": "markdown",
   "metadata": {},
   "source": [
    "# 4. Итоговый вывод."
   ]
  },
  {
   "cell_type": "code",
   "execution_count": 25,
   "metadata": {},
   "outputs": [
    {
     "data": {
      "text/html": [
       "<div>\n",
       "<style scoped>\n",
       "    .dataframe tbody tr th:only-of-type {\n",
       "        vertical-align: middle;\n",
       "    }\n",
       "\n",
       "    .dataframe tbody tr th {\n",
       "        vertical-align: top;\n",
       "    }\n",
       "\n",
       "    .dataframe thead th {\n",
       "        text-align: right;\n",
       "    }\n",
       "</style>\n",
       "<table border=\"1\" class=\"dataframe\">\n",
       "  <thead>\n",
       "    <tr style=\"text-align: right;\">\n",
       "      <th></th>\n",
       "      <th>Модель</th>\n",
       "      <th>Train RMSE score</th>\n",
       "      <th>Test RMSE score</th>\n",
       "    </tr>\n",
       "  </thead>\n",
       "  <tbody>\n",
       "    <tr>\n",
       "      <td>0</td>\n",
       "      <td>Дерево решений</td>\n",
       "      <td>16.247565</td>\n",
       "      <td>42.143293</td>\n",
       "    </tr>\n",
       "    <tr>\n",
       "      <td>1</td>\n",
       "      <td>Случайный лес</td>\n",
       "      <td>12.368967</td>\n",
       "      <td>40.358035</td>\n",
       "    </tr>\n",
       "    <tr>\n",
       "      <td>2</td>\n",
       "      <td>CatBoostRegressor</td>\n",
       "      <td>8.871999</td>\n",
       "      <td>37.786568</td>\n",
       "    </tr>\n",
       "    <tr>\n",
       "      <td>3</td>\n",
       "      <td>LGBM</td>\n",
       "      <td>14.381568</td>\n",
       "      <td>38.355537</td>\n",
       "    </tr>\n",
       "    <tr>\n",
       "      <td>4</td>\n",
       "      <td>XGBoost Regressor</td>\n",
       "      <td>14.316796</td>\n",
       "      <td>53.816037</td>\n",
       "    </tr>\n",
       "  </tbody>\n",
       "</table>\n",
       "</div>"
      ],
      "text/plain": [
       "              Модель  Train RMSE score  Test RMSE score\n",
       "0     Дерево решений         16.247565        42.143293\n",
       "1      Случайный лес         12.368967        40.358035\n",
       "2  CatBoostRegressor          8.871999        37.786568\n",
       "3               LGBM         14.381568        38.355537\n",
       "4  XGBoost Regressor         14.316796        53.816037"
      ]
     },
     "metadata": {},
     "output_type": "display_data"
    }
   ],
   "source": [
    "display(rmse_results)"
   ]
  },
  {
   "cell_type": "markdown",
   "metadata": {},
   "source": [
    "По итогам данного проекта нами были выполнены следующие шаги:\n",
    "\n",
    "- **Провели ресемплирование данных** по одному часу. Рассмотрели датасет на графиках - вычислили скользящую среднюю и стандартное отклонение. С помощью теста Дики-Фуллера **выяснили что временной ряд в нашем датасете является стационарным.**\n",
    "- **Создали признаки в датасете,** избавились от выбросов, удалили пропуски после создания признаков, разделили выборки на обучающую/валидационную/тестовую. \n",
    "- **Провели анализ моделей по нашему датасету:** лучшей моделью на тестовой выборке по метрике RMSE оказалась **модель CatBoostRegressor** с результатов в 37.78, однако данная модель затрачивает наибольшее количество временных ресурсов. **Самой оптимальной моделью в нашем случае оказалась модель LGBM** с результатом в 38.35 на тестовой выборке и средним уровнем временных затрат. **Модель XGBoost не прошла даже пороговое значение метрики** RMSE в 48."
   ]
  }
 ],
 "metadata": {
  "ExecuteTimeLog": [
   {
    "duration": 354,
    "start_time": "2021-07-13T09:38:14.424Z"
   },
   {
    "duration": 765,
    "start_time": "2021-07-13T09:38:15.923Z"
   },
   {
    "duration": 55,
    "start_time": "2021-07-13T09:38:17.619Z"
   },
   {
    "duration": 53,
    "start_time": "2021-07-13T09:38:44.476Z"
   },
   {
    "duration": 4,
    "start_time": "2021-07-13T09:46:21.843Z"
   },
   {
    "duration": 5,
    "start_time": "2021-07-13T09:48:14.041Z"
   },
   {
    "duration": 40,
    "start_time": "2021-07-13T09:58:23.489Z"
   },
   {
    "duration": 17,
    "start_time": "2021-07-13T09:58:24.831Z"
   },
   {
    "duration": 18,
    "start_time": "2021-07-13T09:58:30.825Z"
   },
   {
    "duration": 16,
    "start_time": "2021-07-13T09:58:34.600Z"
   },
   {
    "duration": 38,
    "start_time": "2021-07-13T09:58:49.735Z"
   },
   {
    "duration": 295,
    "start_time": "2021-07-13T09:58:52.409Z"
   },
   {
    "duration": 39,
    "start_time": "2021-07-13T09:58:58.928Z"
   },
   {
    "duration": 265,
    "start_time": "2021-07-13T09:59:00.952Z"
   },
   {
    "duration": 41,
    "start_time": "2021-07-13T09:59:03.927Z"
   },
   {
    "duration": 4,
    "start_time": "2021-07-13T09:59:05.448Z"
   },
   {
    "duration": 40,
    "start_time": "2021-07-13T09:59:14.696Z"
   },
   {
    "duration": 6,
    "start_time": "2021-07-13T09:59:16.040Z"
   },
   {
    "duration": 677,
    "start_time": "2021-07-13T10:01:09.194Z"
   },
   {
    "duration": 4,
    "start_time": "2021-07-13T10:01:18.821Z"
   },
   {
    "duration": 54,
    "start_time": "2021-07-13T10:01:18.828Z"
   },
   {
    "duration": 17,
    "start_time": "2021-07-13T10:01:18.885Z"
   },
   {
    "duration": 19,
    "start_time": "2021-07-13T10:01:18.904Z"
   },
   {
    "duration": 260,
    "start_time": "2021-07-13T10:01:20.720Z"
   },
   {
    "duration": 293,
    "start_time": "2021-07-13T10:03:09.637Z"
   },
   {
    "duration": 268,
    "start_time": "2021-07-13T10:03:40.445Z"
   },
   {
    "duration": 48,
    "start_time": "2021-07-13T10:03:49.869Z"
   },
   {
    "duration": 3,
    "start_time": "2021-07-13T10:03:53.399Z"
   },
   {
    "duration": 56,
    "start_time": "2021-07-13T10:03:53.404Z"
   },
   {
    "duration": 15,
    "start_time": "2021-07-13T10:03:53.463Z"
   },
   {
    "duration": 9,
    "start_time": "2021-07-13T10:03:53.480Z"
   },
   {
    "duration": 17,
    "start_time": "2021-07-13T10:03:54.925Z"
   },
   {
    "duration": 614,
    "start_time": "2021-07-13T10:05:05.511Z"
   },
   {
    "duration": 558,
    "start_time": "2021-07-13T10:06:59.841Z"
   },
   {
    "duration": 357,
    "start_time": "2021-07-13T10:07:17.352Z"
   },
   {
    "duration": 15,
    "start_time": "2021-07-13T10:07:38.449Z"
   },
   {
    "duration": 4,
    "start_time": "2021-07-13T10:07:43.453Z"
   },
   {
    "duration": 58,
    "start_time": "2021-07-13T10:07:43.461Z"
   },
   {
    "duration": 15,
    "start_time": "2021-07-13T10:07:43.522Z"
   },
   {
    "duration": 8,
    "start_time": "2021-07-13T10:07:45.401Z"
   },
   {
    "duration": 268,
    "start_time": "2021-07-13T10:07:50.409Z"
   },
   {
    "duration": 8,
    "start_time": "2021-07-13T10:09:27.427Z"
   },
   {
    "duration": 7,
    "start_time": "2021-07-13T10:09:31.251Z"
   },
   {
    "duration": 7,
    "start_time": "2021-07-13T10:09:44.626Z"
   },
   {
    "duration": 9,
    "start_time": "2021-07-13T10:10:17.668Z"
   },
   {
    "duration": 6728,
    "start_time": "2021-07-13T10:12:18.710Z"
   },
   {
    "duration": 7143,
    "start_time": "2021-07-13T10:12:34.470Z"
   },
   {
    "duration": 4,
    "start_time": "2021-07-13T11:57:32.981Z"
   },
   {
    "duration": 50,
    "start_time": "2021-07-13T11:57:32.989Z"
   },
   {
    "duration": 14,
    "start_time": "2021-07-13T11:57:33.042Z"
   },
   {
    "duration": 13,
    "start_time": "2021-07-13T11:57:33.060Z"
   },
   {
    "duration": 14,
    "start_time": "2021-07-13T11:57:33.075Z"
   },
   {
    "duration": 23,
    "start_time": "2021-07-13T11:57:33.091Z"
   },
   {
    "duration": 565,
    "start_time": "2021-07-13T11:57:33.116Z"
   },
   {
    "duration": 565,
    "start_time": "2021-07-13T11:57:33.684Z"
   },
   {
    "duration": 263,
    "start_time": "2021-07-13T12:04:55.922Z"
   },
   {
    "duration": 479,
    "start_time": "2021-07-13T12:06:35.651Z"
   },
   {
    "duration": 1224,
    "start_time": "2021-07-13T12:07:26.460Z"
   },
   {
    "duration": 1510,
    "start_time": "2021-07-13T12:07:44.700Z"
   },
   {
    "duration": 1709,
    "start_time": "2021-07-13T12:11:33.200Z"
   },
   {
    "duration": 1844,
    "start_time": "2021-07-13T12:11:40.248Z"
   },
   {
    "duration": 1911,
    "start_time": "2021-07-13T12:11:59.464Z"
   },
   {
    "duration": 2161,
    "start_time": "2021-07-13T12:12:04.832Z"
   },
   {
    "duration": 2371,
    "start_time": "2021-07-13T12:12:10.938Z"
   },
   {
    "duration": 2250,
    "start_time": "2021-07-13T12:13:25.093Z"
   },
   {
    "duration": 647,
    "start_time": "2021-07-13T12:17:11.551Z"
   },
   {
    "duration": 324,
    "start_time": "2021-07-13T12:18:18.711Z"
   },
   {
    "duration": 571,
    "start_time": "2021-07-13T12:18:32.567Z"
   },
   {
    "duration": 455,
    "start_time": "2021-07-13T12:18:38.455Z"
   },
   {
    "duration": 485,
    "start_time": "2021-07-13T12:19:18.576Z"
   },
   {
    "duration": 7004,
    "start_time": "2021-07-13T12:20:28.617Z"
   },
   {
    "duration": 441,
    "start_time": "2021-07-13T12:20:58.507Z"
   },
   {
    "duration": 543,
    "start_time": "2021-07-13T12:21:21.289Z"
   },
   {
    "duration": 605,
    "start_time": "2021-07-13T12:21:48.291Z"
   },
   {
    "duration": 540,
    "start_time": "2021-07-13T12:21:55.076Z"
   },
   {
    "duration": 560,
    "start_time": "2021-07-13T12:22:39.772Z"
   },
   {
    "duration": 555,
    "start_time": "2021-07-13T12:22:51.444Z"
   },
   {
    "duration": 555,
    "start_time": "2021-07-13T12:24:40.357Z"
   },
   {
    "duration": 587,
    "start_time": "2021-07-13T12:24:56.438Z"
   },
   {
    "duration": 825,
    "start_time": "2021-07-13T12:27:32.329Z"
   },
   {
    "duration": 598,
    "start_time": "2021-07-13T12:27:59.217Z"
   },
   {
    "duration": 679,
    "start_time": "2021-07-13T12:28:13.162Z"
   },
   {
    "duration": 730,
    "start_time": "2021-07-13T12:28:19.257Z"
   },
   {
    "duration": 941,
    "start_time": "2021-07-13T12:28:26.881Z"
   },
   {
    "duration": 2426,
    "start_time": "2021-07-13T12:29:25.394Z"
   },
   {
    "duration": 2210,
    "start_time": "2021-07-13T12:29:36.610Z"
   },
   {
    "duration": 2416,
    "start_time": "2021-07-13T12:30:16.203Z"
   },
   {
    "duration": 325,
    "start_time": "2021-07-13T12:31:54.949Z"
   },
   {
    "duration": 294,
    "start_time": "2021-07-13T12:32:00.845Z"
   },
   {
    "duration": 744,
    "start_time": "2021-07-13T12:32:49.918Z"
   },
   {
    "duration": 772,
    "start_time": "2021-07-13T12:33:00.071Z"
   },
   {
    "duration": 1041,
    "start_time": "2021-07-13T12:33:10.638Z"
   },
   {
    "duration": 2359,
    "start_time": "2021-07-13T12:33:19.334Z"
   },
   {
    "duration": 4,
    "start_time": "2021-07-13T12:33:35.977Z"
   },
   {
    "duration": 49,
    "start_time": "2021-07-13T12:33:35.984Z"
   },
   {
    "duration": 15,
    "start_time": "2021-07-13T12:33:36.036Z"
   },
   {
    "duration": 6,
    "start_time": "2021-07-13T12:33:36.054Z"
   },
   {
    "duration": 9,
    "start_time": "2021-07-13T12:33:36.063Z"
   },
   {
    "duration": 20,
    "start_time": "2021-07-13T12:33:36.075Z"
   },
   {
    "duration": 11,
    "start_time": "2021-07-13T12:33:36.098Z"
   },
   {
    "duration": 698,
    "start_time": "2021-07-13T12:33:36.112Z"
   },
   {
    "duration": 680,
    "start_time": "2021-07-13T12:33:36.813Z"
   },
   {
    "duration": 2494,
    "start_time": "2021-07-13T12:33:37.496Z"
   },
   {
    "duration": 28,
    "start_time": "2021-07-13T12:38:27.459Z"
   },
   {
    "duration": 772,
    "start_time": "2021-07-13T12:38:57.220Z"
   },
   {
    "duration": 280,
    "start_time": "2021-07-13T12:39:58.319Z"
   },
   {
    "duration": 307,
    "start_time": "2021-07-13T12:40:04.733Z"
   },
   {
    "duration": 754,
    "start_time": "2021-07-13T12:40:27.765Z"
   },
   {
    "duration": 772,
    "start_time": "2021-07-13T12:44:26.485Z"
   },
   {
    "duration": 868,
    "start_time": "2021-07-13T12:44:46.434Z"
   },
   {
    "duration": 787,
    "start_time": "2021-07-13T12:45:01.106Z"
   },
   {
    "duration": 746,
    "start_time": "2021-07-13T12:45:24.099Z"
   },
   {
    "duration": 896,
    "start_time": "2021-07-13T12:45:27.708Z"
   },
   {
    "duration": 895,
    "start_time": "2021-07-13T12:45:41.844Z"
   },
   {
    "duration": 5,
    "start_time": "2021-07-13T12:49:41.628Z"
   },
   {
    "duration": 684,
    "start_time": "2021-07-13T12:49:57.393Z"
   },
   {
    "duration": 1400,
    "start_time": "2021-07-13T12:50:39.854Z"
   },
   {
    "duration": 49,
    "start_time": "2021-07-13T12:50:41.257Z"
   },
   {
    "duration": 42,
    "start_time": "2021-07-13T12:50:41.314Z"
   },
   {
    "duration": 7,
    "start_time": "2021-07-13T12:50:41.359Z"
   },
   {
    "duration": 23,
    "start_time": "2021-07-13T12:50:41.370Z"
   },
   {
    "duration": 44,
    "start_time": "2021-07-13T12:50:41.396Z"
   },
   {
    "duration": 25,
    "start_time": "2021-07-13T12:50:41.445Z"
   },
   {
    "duration": 17,
    "start_time": "2021-07-13T12:50:41.474Z"
   },
   {
    "duration": 738,
    "start_time": "2021-07-13T12:50:41.493Z"
   },
   {
    "duration": 10097,
    "start_time": "2021-07-13T12:50:42.234Z"
   },
   {
    "duration": 16401,
    "start_time": "2021-07-13T12:50:35.933Z"
   },
   {
    "duration": 16401,
    "start_time": "2021-07-13T12:50:35.936Z"
   },
   {
    "duration": 7814,
    "start_time": "2021-07-13T12:51:05.272Z"
   },
   {
    "duration": 12,
    "start_time": "2021-07-13T12:51:30.447Z"
   },
   {
    "duration": 56,
    "start_time": "2021-07-13T12:51:50.071Z"
   },
   {
    "duration": 55,
    "start_time": "2021-07-13T12:51:57.072Z"
   },
   {
    "duration": 12,
    "start_time": "2021-07-13T12:54:12.394Z"
   },
   {
    "duration": 4,
    "start_time": "2021-07-13T12:54:15.653Z"
   },
   {
    "duration": 52,
    "start_time": "2021-07-13T12:54:15.660Z"
   },
   {
    "duration": 12,
    "start_time": "2021-07-13T12:54:17.027Z"
   },
   {
    "duration": 10,
    "start_time": "2021-07-13T12:55:28.996Z"
   },
   {
    "duration": 1398,
    "start_time": "2021-07-14T04:47:25.058Z"
   },
   {
    "duration": 49,
    "start_time": "2021-07-14T04:47:26.459Z"
   },
   {
    "duration": 13,
    "start_time": "2021-07-14T04:47:26.511Z"
   },
   {
    "duration": 32,
    "start_time": "2021-07-14T04:47:26.527Z"
   },
   {
    "duration": 6,
    "start_time": "2021-07-14T04:47:26.561Z"
   },
   {
    "duration": 6,
    "start_time": "2021-07-14T04:47:26.569Z"
   },
   {
    "duration": 19,
    "start_time": "2021-07-14T04:47:26.577Z"
   },
   {
    "duration": 16,
    "start_time": "2021-07-14T04:47:26.600Z"
   },
   {
    "duration": 10,
    "start_time": "2021-07-14T04:47:26.655Z"
   },
   {
    "duration": 723,
    "start_time": "2021-07-14T04:47:26.668Z"
   },
   {
    "duration": 70,
    "start_time": "2021-07-14T04:47:27.393Z"
   },
   {
    "duration": 7417,
    "start_time": "2021-07-14T04:47:27.466Z"
   },
   {
    "duration": 16377,
    "start_time": "2021-07-14T04:47:18.509Z"
   },
   {
    "duration": 16375,
    "start_time": "2021-07-14T04:47:18.512Z"
   },
   {
    "duration": 4,
    "start_time": "2021-07-14T04:47:38.502Z"
   },
   {
    "duration": 4,
    "start_time": "2021-07-14T04:48:06.801Z"
   },
   {
    "duration": 52,
    "start_time": "2021-07-14T04:48:06.807Z"
   },
   {
    "duration": 9,
    "start_time": "2021-07-14T04:48:06.861Z"
   },
   {
    "duration": 20,
    "start_time": "2021-07-14T04:48:06.873Z"
   },
   {
    "duration": 5,
    "start_time": "2021-07-14T04:48:06.895Z"
   },
   {
    "duration": 9,
    "start_time": "2021-07-14T04:48:06.902Z"
   },
   {
    "duration": 49,
    "start_time": "2021-07-14T04:48:06.913Z"
   },
   {
    "duration": 16,
    "start_time": "2021-07-14T04:48:06.965Z"
   },
   {
    "duration": 8,
    "start_time": "2021-07-14T04:48:06.984Z"
   },
   {
    "duration": 696,
    "start_time": "2021-07-14T04:48:06.995Z"
   },
   {
    "duration": 7380,
    "start_time": "2021-07-14T04:48:09.957Z"
   },
   {
    "duration": 6,
    "start_time": "2021-07-14T04:52:15.200Z"
   },
   {
    "duration": 47,
    "start_time": "2021-07-14T04:52:15.209Z"
   },
   {
    "duration": 11,
    "start_time": "2021-07-14T04:52:15.259Z"
   },
   {
    "duration": 21,
    "start_time": "2021-07-14T04:52:15.273Z"
   },
   {
    "duration": 6,
    "start_time": "2021-07-14T04:52:15.296Z"
   },
   {
    "duration": 9,
    "start_time": "2021-07-14T04:52:15.304Z"
   },
   {
    "duration": 16,
    "start_time": "2021-07-14T04:52:15.355Z"
   },
   {
    "duration": 15,
    "start_time": "2021-07-14T04:52:15.375Z"
   },
   {
    "duration": 9,
    "start_time": "2021-07-14T04:52:15.393Z"
   },
   {
    "duration": 850,
    "start_time": "2021-07-14T04:52:15.404Z"
   },
   {
    "duration": 11,
    "start_time": "2021-07-14T04:52:16.256Z"
   },
   {
    "duration": 685,
    "start_time": "2021-07-14T04:52:16.269Z"
   },
   {
    "duration": 797,
    "start_time": "2021-07-14T04:52:16.957Z"
   },
   {
    "duration": 2332,
    "start_time": "2021-07-14T04:52:17.756Z"
   },
   {
    "duration": 2031,
    "start_time": "2021-07-14T04:54:30.709Z"
   },
   {
    "duration": 21,
    "start_time": "2021-07-14T04:58:57.469Z"
   },
   {
    "duration": 315,
    "start_time": "2021-07-14T04:59:14.409Z"
   },
   {
    "duration": 17,
    "start_time": "2021-07-14T04:59:38.275Z"
   },
   {
    "duration": 8,
    "start_time": "2021-07-14T04:59:49.418Z"
   },
   {
    "duration": 10022,
    "start_time": "2021-07-14T04:59:54.826Z"
   },
   {
    "duration": 269,
    "start_time": "2021-07-14T05:00:15.883Z"
   },
   {
    "duration": 20,
    "start_time": "2021-07-14T05:02:26.933Z"
   },
   {
    "duration": 299,
    "start_time": "2021-07-14T05:02:28.316Z"
   },
   {
    "duration": 298,
    "start_time": "2021-07-14T05:02:45.860Z"
   },
   {
    "duration": 17,
    "start_time": "2021-07-14T05:03:13.910Z"
   },
   {
    "duration": 1747,
    "start_time": "2021-07-14T05:03:46.302Z"
   },
   {
    "duration": 2355,
    "start_time": "2021-07-14T05:04:28.399Z"
   },
   {
    "duration": 275,
    "start_time": "2021-07-14T05:04:51.895Z"
   },
   {
    "duration": 268,
    "start_time": "2021-07-14T05:04:55.903Z"
   },
   {
    "duration": 16,
    "start_time": "2021-07-14T05:09:29.458Z"
   },
   {
    "duration": 19,
    "start_time": "2021-07-14T05:09:38.183Z"
   },
   {
    "duration": 16,
    "start_time": "2021-07-14T05:10:21.751Z"
   },
   {
    "duration": 263,
    "start_time": "2021-07-14T05:10:36.600Z"
   },
   {
    "duration": 11,
    "start_time": "2021-07-14T05:11:10.440Z"
   },
   {
    "duration": 10,
    "start_time": "2021-07-14T05:11:20.304Z"
   },
   {
    "duration": 1349,
    "start_time": "2021-07-14T05:11:59.218Z"
   },
   {
    "duration": 1634,
    "start_time": "2021-07-14T05:12:04.945Z"
   },
   {
    "duration": 273,
    "start_time": "2021-07-14T05:12:34.466Z"
   },
   {
    "duration": 5,
    "start_time": "2021-07-14T05:12:38.379Z"
   },
   {
    "duration": 5,
    "start_time": "2021-07-14T05:13:13.838Z"
   },
   {
    "duration": 68,
    "start_time": "2021-07-14T05:13:13.845Z"
   },
   {
    "duration": 9,
    "start_time": "2021-07-14T05:13:13.915Z"
   },
   {
    "duration": 26,
    "start_time": "2021-07-14T05:13:13.927Z"
   },
   {
    "duration": 6,
    "start_time": "2021-07-14T05:13:13.955Z"
   },
   {
    "duration": 17,
    "start_time": "2021-07-14T05:13:13.963Z"
   },
   {
    "duration": 26,
    "start_time": "2021-07-14T05:13:13.982Z"
   },
   {
    "duration": 16,
    "start_time": "2021-07-14T05:13:14.012Z"
   },
   {
    "duration": 28,
    "start_time": "2021-07-14T05:13:14.031Z"
   },
   {
    "duration": 678,
    "start_time": "2021-07-14T05:13:14.061Z"
   },
   {
    "duration": 21,
    "start_time": "2021-07-14T05:13:14.741Z"
   },
   {
    "duration": 708,
    "start_time": "2021-07-14T05:13:14.765Z"
   },
   {
    "duration": 818,
    "start_time": "2021-07-14T05:13:15.476Z"
   },
   {
    "duration": 18,
    "start_time": "2021-07-14T05:13:16.297Z"
   },
   {
    "duration": 1726,
    "start_time": "2021-07-14T05:13:19.194Z"
   },
   {
    "duration": 1775,
    "start_time": "2021-07-14T05:13:55.867Z"
   },
   {
    "duration": 291,
    "start_time": "2021-07-14T05:16:44.678Z"
   },
   {
    "duration": 384,
    "start_time": "2021-07-14T05:16:59.654Z"
   },
   {
    "duration": 375,
    "start_time": "2021-07-14T05:17:03.838Z"
   },
   {
    "duration": 9344,
    "start_time": "2021-07-14T05:22:55.902Z"
   },
   {
    "duration": 284,
    "start_time": "2021-07-14T05:26:11.514Z"
   },
   {
    "duration": 286,
    "start_time": "2021-07-14T05:26:24.465Z"
   },
   {
    "duration": 1682,
    "start_time": "2021-07-14T05:26:33.137Z"
   },
   {
    "duration": 1644,
    "start_time": "2021-07-14T05:26:41.770Z"
   },
   {
    "duration": 9,
    "start_time": "2021-07-14T05:30:13.109Z"
   },
   {
    "duration": 18,
    "start_time": "2021-07-14T05:31:55.745Z"
   },
   {
    "duration": 10,
    "start_time": "2021-07-14T05:31:58.030Z"
   },
   {
    "duration": 350,
    "start_time": "2021-07-14T05:32:56.751Z"
   },
   {
    "duration": 2772,
    "start_time": "2021-07-14T05:35:03.930Z"
   },
   {
    "duration": 2785,
    "start_time": "2021-07-14T05:37:48.908Z"
   },
   {
    "duration": 2857,
    "start_time": "2021-07-14T05:37:56.542Z"
   },
   {
    "duration": 2738,
    "start_time": "2021-07-14T05:38:00.884Z"
   },
   {
    "duration": 2773,
    "start_time": "2021-07-14T05:38:08.164Z"
   },
   {
    "duration": 313,
    "start_time": "2021-07-14T05:38:13.317Z"
   },
   {
    "duration": 2745,
    "start_time": "2021-07-14T05:38:17.573Z"
   },
   {
    "duration": 2864,
    "start_time": "2021-07-14T05:38:25.917Z"
   },
   {
    "duration": 19,
    "start_time": "2021-07-14T05:43:23.194Z"
   },
   {
    "duration": 360,
    "start_time": "2021-07-14T05:43:33.699Z"
   },
   {
    "duration": 11,
    "start_time": "2021-07-14T05:43:46.043Z"
   },
   {
    "duration": 2831,
    "start_time": "2021-07-14T05:44:31.491Z"
   },
   {
    "duration": 2750,
    "start_time": "2021-07-14T05:55:50.105Z"
   },
   {
    "duration": 2863,
    "start_time": "2021-07-14T05:55:55.758Z"
   },
   {
    "duration": 2888,
    "start_time": "2021-07-14T05:55:59.838Z"
   },
   {
    "duration": 2767,
    "start_time": "2021-07-14T05:56:19.136Z"
   },
   {
    "duration": 9,
    "start_time": "2021-07-14T05:57:26.352Z"
   },
   {
    "duration": 1978,
    "start_time": "2021-07-14T05:57:50.705Z"
   },
   {
    "duration": 1407,
    "start_time": "2021-07-14T06:13:52.691Z"
   },
   {
    "duration": 50,
    "start_time": "2021-07-14T06:13:54.101Z"
   },
   {
    "duration": 14,
    "start_time": "2021-07-14T06:13:54.154Z"
   },
   {
    "duration": 25,
    "start_time": "2021-07-14T06:13:54.172Z"
   },
   {
    "duration": 6,
    "start_time": "2021-07-14T06:13:54.200Z"
   },
   {
    "duration": 7,
    "start_time": "2021-07-14T06:13:54.208Z"
   },
   {
    "duration": 56,
    "start_time": "2021-07-14T06:13:54.218Z"
   },
   {
    "duration": 23,
    "start_time": "2021-07-14T06:13:54.278Z"
   },
   {
    "duration": 11,
    "start_time": "2021-07-14T06:13:54.305Z"
   },
   {
    "duration": 725,
    "start_time": "2021-07-14T06:13:54.318Z"
   },
   {
    "duration": 23,
    "start_time": "2021-07-14T06:13:55.045Z"
   },
   {
    "duration": 809,
    "start_time": "2021-07-14T06:13:55.071Z"
   },
   {
    "duration": 733,
    "start_time": "2021-07-14T06:13:55.882Z"
   },
   {
    "duration": 2425,
    "start_time": "2021-07-14T06:13:56.617Z"
   },
   {
    "duration": 2098,
    "start_time": "2021-07-14T06:13:59.044Z"
   },
   {
    "duration": 148,
    "start_time": "2021-07-14T06:28:44.428Z"
   },
   {
    "duration": 437,
    "start_time": "2021-07-14T06:29:14.899Z"
   },
   {
    "duration": 82,
    "start_time": "2021-07-14T06:29:43.898Z"
   },
   {
    "duration": 785,
    "start_time": "2021-07-14T06:30:10.307Z"
   },
   {
    "duration": 1942,
    "start_time": "2021-07-14T06:30:16.818Z"
   },
   {
    "duration": 4,
    "start_time": "2021-07-14T06:51:33.469Z"
   },
   {
    "duration": 5,
    "start_time": "2021-07-14T06:51:43.979Z"
   },
   {
    "duration": 5,
    "start_time": "2021-07-14T06:51:51.138Z"
   },
   {
    "duration": 5,
    "start_time": "2021-07-14T06:52:05.178Z"
   },
   {
    "duration": 5,
    "start_time": "2021-07-14T06:52:10.425Z"
   },
   {
    "duration": 2377,
    "start_time": "2021-07-14T06:54:38.184Z"
   },
   {
    "duration": 2083,
    "start_time": "2021-07-14T06:54:45.380Z"
   },
   {
    "duration": 2032,
    "start_time": "2021-07-14T06:55:25.829Z"
   },
   {
    "duration": 2203,
    "start_time": "2021-07-14T06:55:31.853Z"
   },
   {
    "duration": 154,
    "start_time": "2021-07-14T07:29:22.155Z"
   },
   {
    "duration": 313,
    "start_time": "2021-07-14T07:42:56.843Z"
   },
   {
    "duration": 7,
    "start_time": "2021-07-14T07:43:00.126Z"
   },
   {
    "duration": 385,
    "start_time": "2021-07-14T07:43:01.599Z"
   },
   {
    "duration": 157,
    "start_time": "2021-07-14T07:43:45.600Z"
   },
   {
    "duration": 144,
    "start_time": "2021-07-14T07:44:03.648Z"
   },
   {
    "duration": 230,
    "start_time": "2021-07-14T07:45:21.425Z"
   },
   {
    "duration": 156,
    "start_time": "2021-07-14T07:45:32.298Z"
   },
   {
    "duration": 145,
    "start_time": "2021-07-14T07:45:58.641Z"
   },
   {
    "duration": 149,
    "start_time": "2021-07-14T07:46:05.314Z"
   },
   {
    "duration": 148,
    "start_time": "2021-07-14T07:46:13.082Z"
   },
   {
    "duration": 146,
    "start_time": "2021-07-14T07:46:17.177Z"
   },
   {
    "duration": 149,
    "start_time": "2021-07-14T07:46:22.242Z"
   },
   {
    "duration": 151,
    "start_time": "2021-07-14T07:46:29.961Z"
   },
   {
    "duration": 13,
    "start_time": "2021-07-14T07:48:07.963Z"
   },
   {
    "duration": 4,
    "start_time": "2021-07-14T07:48:10.147Z"
   },
   {
    "duration": 13,
    "start_time": "2021-07-14T07:53:45.939Z"
   },
   {
    "duration": 449,
    "start_time": "2021-07-14T07:53:48.649Z"
   },
   {
    "duration": 6,
    "start_time": "2021-07-14T07:53:55.098Z"
   },
   {
    "duration": 472,
    "start_time": "2021-07-14T07:53:58.363Z"
   },
   {
    "duration": 7,
    "start_time": "2021-07-14T07:55:45.707Z"
   },
   {
    "duration": 156,
    "start_time": "2021-07-14T07:55:47.139Z"
   },
   {
    "duration": 13,
    "start_time": "2021-07-14T07:55:51.787Z"
   },
   {
    "duration": 5,
    "start_time": "2021-07-14T07:55:54.363Z"
   },
   {
    "duration": 12,
    "start_time": "2021-07-14T07:55:58.372Z"
   },
   {
    "duration": 543,
    "start_time": "2021-07-14T07:56:00.302Z"
   },
   {
    "duration": 196,
    "start_time": "2021-07-14T07:56:49.524Z"
   },
   {
    "duration": 156,
    "start_time": "2021-07-14T07:57:06.252Z"
   },
   {
    "duration": 31,
    "start_time": "2021-07-14T07:57:16.180Z"
   },
   {
    "duration": 6,
    "start_time": "2021-07-14T07:57:31.952Z"
   },
   {
    "duration": 164,
    "start_time": "2021-07-14T07:57:33.829Z"
   },
   {
    "duration": 13,
    "start_time": "2021-07-14T07:57:37.389Z"
   },
   {
    "duration": 31,
    "start_time": "2021-07-14T07:57:45.805Z"
   },
   {
    "duration": 30,
    "start_time": "2021-07-14T07:58:55.190Z"
   },
   {
    "duration": 6,
    "start_time": "2021-07-14T07:58:59.799Z"
   },
   {
    "duration": 209,
    "start_time": "2021-07-14T07:59:01.175Z"
   },
   {
    "duration": 6,
    "start_time": "2021-07-14T07:59:08.657Z"
   },
   {
    "duration": 61,
    "start_time": "2021-07-14T07:59:08.666Z"
   },
   {
    "duration": 8,
    "start_time": "2021-07-14T07:59:08.730Z"
   },
   {
    "duration": 26,
    "start_time": "2021-07-14T07:59:08.741Z"
   },
   {
    "duration": 5,
    "start_time": "2021-07-14T07:59:08.770Z"
   },
   {
    "duration": 24,
    "start_time": "2021-07-14T07:59:08.778Z"
   },
   {
    "duration": 17,
    "start_time": "2021-07-14T07:59:08.805Z"
   },
   {
    "duration": 40,
    "start_time": "2021-07-14T07:59:08.826Z"
   },
   {
    "duration": 8,
    "start_time": "2021-07-14T07:59:08.869Z"
   },
   {
    "duration": 771,
    "start_time": "2021-07-14T07:59:08.880Z"
   },
   {
    "duration": 12,
    "start_time": "2021-07-14T07:59:09.653Z"
   },
   {
    "duration": 746,
    "start_time": "2021-07-14T07:59:09.668Z"
   },
   {
    "duration": 864,
    "start_time": "2021-07-14T07:59:10.416Z"
   },
   {
    "duration": 2412,
    "start_time": "2021-07-14T07:59:11.283Z"
   },
   {
    "duration": 2251,
    "start_time": "2021-07-14T07:59:13.698Z"
   },
   {
    "duration": 3010,
    "start_time": "2021-07-14T07:59:15.955Z"
   },
   {
    "duration": 94,
    "start_time": "2021-07-14T07:59:18.968Z"
   },
   {
    "duration": 396,
    "start_time": "2021-07-14T07:59:21.736Z"
   },
   {
    "duration": 7,
    "start_time": "2021-07-14T07:59:37.033Z"
   },
   {
    "duration": 55,
    "start_time": "2021-07-14T07:59:37.042Z"
   },
   {
    "duration": 8,
    "start_time": "2021-07-14T07:59:37.100Z"
   },
   {
    "duration": 21,
    "start_time": "2021-07-14T07:59:37.111Z"
   },
   {
    "duration": 5,
    "start_time": "2021-07-14T07:59:37.135Z"
   },
   {
    "duration": 18,
    "start_time": "2021-07-14T07:59:37.143Z"
   },
   {
    "duration": 24,
    "start_time": "2021-07-14T07:59:37.165Z"
   },
   {
    "duration": 18,
    "start_time": "2021-07-14T07:59:37.194Z"
   },
   {
    "duration": 46,
    "start_time": "2021-07-14T07:59:37.215Z"
   },
   {
    "duration": 828,
    "start_time": "2021-07-14T07:59:37.264Z"
   },
   {
    "duration": 15,
    "start_time": "2021-07-14T07:59:38.095Z"
   },
   {
    "duration": 736,
    "start_time": "2021-07-14T07:59:38.114Z"
   },
   {
    "duration": 749,
    "start_time": "2021-07-14T07:59:38.855Z"
   },
   {
    "duration": 2320,
    "start_time": "2021-07-14T07:59:39.607Z"
   },
   {
    "duration": 2185,
    "start_time": "2021-07-14T07:59:41.929Z"
   },
   {
    "duration": 2438,
    "start_time": "2021-07-14T07:59:44.117Z"
   },
   {
    "duration": 96,
    "start_time": "2021-07-14T07:59:46.559Z"
   },
   {
    "duration": 589,
    "start_time": "2021-07-14T07:59:48.208Z"
   },
   {
    "duration": 9,
    "start_time": "2021-07-14T08:00:08.127Z"
   },
   {
    "duration": 212,
    "start_time": "2021-07-14T08:00:09.552Z"
   },
   {
    "duration": 165,
    "start_time": "2021-07-14T08:00:31.713Z"
   },
   {
    "duration": 32,
    "start_time": "2021-07-14T08:00:34.553Z"
   },
   {
    "duration": 12,
    "start_time": "2021-07-14T08:00:39.080Z"
   },
   {
    "duration": 4,
    "start_time": "2021-07-14T08:00:43.302Z"
   },
   {
    "duration": 12,
    "start_time": "2021-07-14T08:00:44.232Z"
   },
   {
    "duration": 63488,
    "start_time": "2021-07-14T08:00:45.721Z"
   },
   {
    "duration": 11,
    "start_time": "2021-07-14T08:02:36.826Z"
   },
   {
    "duration": 6,
    "start_time": "2021-07-14T08:03:34.500Z"
   },
   {
    "duration": 705,
    "start_time": "2021-07-14T08:03:34.508Z"
   },
   {
    "duration": 9,
    "start_time": "2021-07-14T08:03:35.217Z"
   },
   {
    "duration": 17,
    "start_time": "2021-07-14T08:03:35.229Z"
   },
   {
    "duration": 7,
    "start_time": "2021-07-14T08:03:35.249Z"
   },
   {
    "duration": 21,
    "start_time": "2021-07-14T08:03:35.258Z"
   },
   {
    "duration": 17,
    "start_time": "2021-07-14T08:03:35.281Z"
   },
   {
    "duration": 27,
    "start_time": "2021-07-14T08:03:35.302Z"
   },
   {
    "duration": 21,
    "start_time": "2021-07-14T08:03:35.333Z"
   },
   {
    "duration": 697,
    "start_time": "2021-07-14T08:03:35.357Z"
   },
   {
    "duration": 13,
    "start_time": "2021-07-14T08:03:36.057Z"
   },
   {
    "duration": 1405,
    "start_time": "2021-07-14T08:03:36.072Z"
   },
   {
    "duration": 738,
    "start_time": "2021-07-14T08:03:37.480Z"
   },
   {
    "duration": 2371,
    "start_time": "2021-07-14T08:03:38.220Z"
   },
   {
    "duration": 2175,
    "start_time": "2021-07-14T08:03:40.593Z"
   },
   {
    "duration": 1084,
    "start_time": "2021-07-14T08:03:42.770Z"
   },
   {
    "duration": 7,
    "start_time": "2021-07-14T08:03:43.859Z"
   },
   {
    "duration": 403,
    "start_time": "2021-07-14T08:03:43.954Z"
   },
   {
    "duration": 12,
    "start_time": "2021-07-14T08:03:44.360Z"
   },
   {
    "duration": 8,
    "start_time": "2021-07-14T08:03:44.375Z"
   },
   {
    "duration": 13,
    "start_time": "2021-07-14T08:03:44.385Z"
   },
   {
    "duration": 73182,
    "start_time": "2021-07-14T08:03:44.401Z"
   },
   {
    "duration": 77206,
    "start_time": "2021-07-14T08:04:57.588Z"
   },
   {
    "duration": 17760,
    "start_time": "2021-07-14T08:06:14.796Z"
   },
   {
    "duration": 414566,
    "start_time": "2021-07-14T08:06:32.559Z"
   },
   {
    "duration": 13339,
    "start_time": "2021-07-14T08:13:27.127Z"
   },
   {
    "duration": 12,
    "start_time": "2021-07-14T08:13:40.469Z"
   },
   {
    "duration": 60845,
    "start_time": "2021-07-14T08:15:17.243Z"
   },
   {
    "duration": 1751,
    "start_time": "2021-07-14T08:16:45.808Z"
   },
   {
    "duration": 48,
    "start_time": "2021-07-14T08:16:47.562Z"
   },
   {
    "duration": 13,
    "start_time": "2021-07-14T08:16:47.614Z"
   },
   {
    "duration": 32,
    "start_time": "2021-07-14T08:16:47.630Z"
   },
   {
    "duration": 5,
    "start_time": "2021-07-14T08:16:47.665Z"
   },
   {
    "duration": 13,
    "start_time": "2021-07-14T08:16:47.672Z"
   },
   {
    "duration": 28,
    "start_time": "2021-07-14T08:16:47.687Z"
   },
   {
    "duration": 42,
    "start_time": "2021-07-14T08:16:47.719Z"
   },
   {
    "duration": 10,
    "start_time": "2021-07-14T08:16:47.764Z"
   },
   {
    "duration": 708,
    "start_time": "2021-07-14T08:16:47.777Z"
   },
   {
    "duration": 16,
    "start_time": "2021-07-14T08:16:48.488Z"
   },
   {
    "duration": 782,
    "start_time": "2021-07-14T08:16:48.506Z"
   },
   {
    "duration": 721,
    "start_time": "2021-07-14T08:16:49.291Z"
   },
   {
    "duration": 2288,
    "start_time": "2021-07-14T08:16:50.014Z"
   },
   {
    "duration": 1996,
    "start_time": "2021-07-14T08:16:52.304Z"
   },
   {
    "duration": 1759,
    "start_time": "2021-07-14T08:16:54.303Z"
   },
   {
    "duration": 9,
    "start_time": "2021-07-14T08:16:56.155Z"
   },
   {
    "duration": 438,
    "start_time": "2021-07-14T08:16:56.256Z"
   },
   {
    "duration": 36,
    "start_time": "2021-07-14T08:16:56.697Z"
   },
   {
    "duration": 26,
    "start_time": "2021-07-14T08:16:56.737Z"
   },
   {
    "duration": 31,
    "start_time": "2021-07-14T08:16:56.767Z"
   },
   {
    "duration": 67979,
    "start_time": "2021-07-14T08:16:56.803Z"
   },
   {
    "duration": 1771,
    "start_time": "2021-07-14T08:20:25.803Z"
   },
   {
    "duration": 49,
    "start_time": "2021-07-14T08:20:27.577Z"
   },
   {
    "duration": 25,
    "start_time": "2021-07-14T08:20:27.629Z"
   },
   {
    "duration": 19,
    "start_time": "2021-07-14T08:20:27.657Z"
   },
   {
    "duration": 8,
    "start_time": "2021-07-14T08:20:27.679Z"
   },
   {
    "duration": 15,
    "start_time": "2021-07-14T08:20:27.689Z"
   },
   {
    "duration": 60,
    "start_time": "2021-07-14T08:20:27.706Z"
   },
   {
    "duration": 27,
    "start_time": "2021-07-14T08:20:27.768Z"
   },
   {
    "duration": 12,
    "start_time": "2021-07-14T08:20:27.801Z"
   },
   {
    "duration": 718,
    "start_time": "2021-07-14T08:20:27.816Z"
   },
   {
    "duration": 29,
    "start_time": "2021-07-14T08:20:28.537Z"
   },
   {
    "duration": 804,
    "start_time": "2021-07-14T08:20:28.569Z"
   },
   {
    "duration": 889,
    "start_time": "2021-07-14T08:20:29.376Z"
   },
   {
    "duration": 2360,
    "start_time": "2021-07-14T08:20:30.267Z"
   },
   {
    "duration": 2174,
    "start_time": "2021-07-14T08:20:32.630Z"
   },
   {
    "duration": 2154,
    "start_time": "2021-07-14T08:20:34.806Z"
   },
   {
    "duration": 90,
    "start_time": "2021-07-14T08:20:36.966Z"
   },
   {
    "duration": 450,
    "start_time": "2021-07-14T08:20:37.060Z"
   },
   {
    "duration": 17,
    "start_time": "2021-07-14T08:20:37.513Z"
   },
   {
    "duration": 24,
    "start_time": "2021-07-14T08:20:37.533Z"
   },
   {
    "duration": 16,
    "start_time": "2021-07-14T08:20:37.560Z"
   },
   {
    "duration": 66137,
    "start_time": "2021-07-14T08:20:37.579Z"
   },
   {
    "duration": 272701,
    "start_time": "2021-07-14T08:21:43.718Z"
   },
   {
    "duration": 1705,
    "start_time": "2021-07-14T08:28:50.463Z"
   },
   {
    "duration": 49,
    "start_time": "2021-07-14T08:28:52.171Z"
   },
   {
    "duration": 15,
    "start_time": "2021-07-14T08:28:52.224Z"
   },
   {
    "duration": 19,
    "start_time": "2021-07-14T08:28:52.254Z"
   },
   {
    "duration": 7,
    "start_time": "2021-07-14T08:28:52.276Z"
   },
   {
    "duration": 6,
    "start_time": "2021-07-14T08:28:52.286Z"
   },
   {
    "duration": 69,
    "start_time": "2021-07-14T08:28:52.294Z"
   },
   {
    "duration": 16,
    "start_time": "2021-07-14T08:28:52.367Z"
   },
   {
    "duration": 26,
    "start_time": "2021-07-14T08:28:52.386Z"
   },
   {
    "duration": 694,
    "start_time": "2021-07-14T08:28:52.414Z"
   },
   {
    "duration": 18,
    "start_time": "2021-07-14T08:28:53.110Z"
   },
   {
    "duration": 785,
    "start_time": "2021-07-14T08:28:53.131Z"
   },
   {
    "duration": 727,
    "start_time": "2021-07-14T08:28:53.918Z"
   },
   {
    "duration": 2367,
    "start_time": "2021-07-14T08:28:54.648Z"
   },
   {
    "duration": 2022,
    "start_time": "2021-07-14T08:28:57.018Z"
   },
   {
    "duration": 2713,
    "start_time": "2021-07-14T08:28:59.043Z"
   },
   {
    "duration": 96,
    "start_time": "2021-07-14T08:29:01.759Z"
   },
   {
    "duration": 422,
    "start_time": "2021-07-14T08:29:01.858Z"
   },
   {
    "duration": 17,
    "start_time": "2021-07-14T08:29:02.282Z"
   },
   {
    "duration": 9,
    "start_time": "2021-07-14T08:29:02.301Z"
   },
   {
    "duration": 13,
    "start_time": "2021-07-14T08:29:02.312Z"
   },
   {
    "duration": 63953,
    "start_time": "2021-07-14T08:29:02.328Z"
   },
   {
    "duration": 273572,
    "start_time": "2021-07-14T08:30:06.285Z"
   },
   {
    "duration": 975321,
    "start_time": "2021-07-14T08:34:39.860Z"
   },
   {
    "duration": 181687,
    "start_time": "2021-07-14T08:50:55.184Z"
   },
   {
    "duration": 1871,
    "start_time": "2021-07-14T11:05:37.777Z"
   },
   {
    "duration": 51,
    "start_time": "2021-07-14T11:05:39.651Z"
   },
   {
    "duration": 27,
    "start_time": "2021-07-14T11:05:39.705Z"
   },
   {
    "duration": 48,
    "start_time": "2021-07-14T11:05:39.735Z"
   },
   {
    "duration": 23,
    "start_time": "2021-07-14T11:05:39.785Z"
   },
   {
    "duration": 47,
    "start_time": "2021-07-14T11:05:39.811Z"
   },
   {
    "duration": 34,
    "start_time": "2021-07-14T11:05:39.861Z"
   },
   {
    "duration": 41,
    "start_time": "2021-07-14T11:05:39.900Z"
   },
   {
    "duration": 30,
    "start_time": "2021-07-14T11:05:39.944Z"
   },
   {
    "duration": 729,
    "start_time": "2021-07-14T11:05:39.976Z"
   },
   {
    "duration": 17,
    "start_time": "2021-07-14T11:05:40.707Z"
   },
   {
    "duration": 805,
    "start_time": "2021-07-14T11:05:40.727Z"
   },
   {
    "duration": 770,
    "start_time": "2021-07-14T11:05:41.535Z"
   },
   {
    "duration": 2331,
    "start_time": "2021-07-14T11:05:42.307Z"
   },
   {
    "duration": 2056,
    "start_time": "2021-07-14T11:05:44.641Z"
   },
   {
    "duration": 2255,
    "start_time": "2021-07-14T11:05:46.699Z"
   },
   {
    "duration": 97,
    "start_time": "2021-07-14T11:05:48.958Z"
   },
   {
    "duration": 438,
    "start_time": "2021-07-14T11:05:49.057Z"
   },
   {
    "duration": 22,
    "start_time": "2021-07-14T11:05:49.498Z"
   },
   {
    "duration": 38,
    "start_time": "2021-07-14T11:05:49.523Z"
   },
   {
    "duration": 29,
    "start_time": "2021-07-14T11:05:49.564Z"
   },
   {
    "duration": 64334,
    "start_time": "2021-07-14T11:05:49.596Z"
   },
   {
    "duration": 280148,
    "start_time": "2021-07-14T11:06:53.935Z"
   },
   {
    "duration": 778261,
    "start_time": "2021-07-14T11:11:34.086Z"
   },
   {
    "duration": 10396,
    "start_time": "2021-07-14T11:24:32.350Z"
   },
   {
    "duration": 4221,
    "start_time": "2021-07-14T11:24:42.748Z"
   },
   {
    "duration": 16171,
    "start_time": "2021-07-14T11:24:30.801Z"
   },
   {
    "duration": 16171,
    "start_time": "2021-07-14T11:24:30.805Z"
   },
   {
    "duration": 288136,
    "start_time": "2021-07-14T11:24:51.858Z"
   },
   {
    "duration": 11,
    "start_time": "2021-07-14T11:29:39.997Z"
   },
   {
    "duration": 12,
    "start_time": "2021-07-14T11:29:42.848Z"
   },
   {
    "duration": 331612,
    "start_time": "2021-07-14T11:29:45.657Z"
   },
   {
    "duration": 38,
    "start_time": "2021-07-14T11:35:17.271Z"
   },
   {
    "duration": 83807,
    "start_time": "2021-07-14T12:02:08.686Z"
   },
   {
    "duration": 476728,
    "start_time": "2021-07-14T12:03:32.496Z"
   },
   {
    "duration": 14,
    "start_time": "2021-07-14T12:11:35.270Z"
   },
   {
    "duration": 6,
    "start_time": "2021-07-14T12:11:45.734Z"
   },
   {
    "duration": 60,
    "start_time": "2021-07-14T12:11:45.742Z"
   },
   {
    "duration": 9,
    "start_time": "2021-07-14T12:11:45.804Z"
   },
   {
    "duration": 14,
    "start_time": "2021-07-14T12:11:45.817Z"
   },
   {
    "duration": 6,
    "start_time": "2021-07-14T12:11:45.834Z"
   },
   {
    "duration": 12,
    "start_time": "2021-07-14T12:11:45.843Z"
   },
   {
    "duration": 34,
    "start_time": "2021-07-14T12:11:45.857Z"
   },
   {
    "duration": 8,
    "start_time": "2021-07-14T12:11:45.895Z"
   },
   {
    "duration": 718,
    "start_time": "2021-07-14T12:11:45.906Z"
   },
   {
    "duration": 12,
    "start_time": "2021-07-14T12:11:46.626Z"
   },
   {
    "duration": 718,
    "start_time": "2021-07-14T12:11:46.641Z"
   },
   {
    "duration": 2200,
    "start_time": "2021-07-14T12:11:47.361Z"
   },
   {
    "duration": 990,
    "start_time": "2021-07-14T12:11:49.564Z"
   },
   {
    "duration": 755,
    "start_time": "2021-07-14T12:11:53.052Z"
   },
   {
    "duration": 1724,
    "start_time": "2021-07-14T12:18:32.968Z"
   },
   {
    "duration": 47,
    "start_time": "2021-07-14T12:18:34.695Z"
   },
   {
    "duration": 15,
    "start_time": "2021-07-14T12:18:34.745Z"
   },
   {
    "duration": 22,
    "start_time": "2021-07-14T12:18:34.763Z"
   },
   {
    "duration": 7,
    "start_time": "2021-07-14T12:18:34.788Z"
   },
   {
    "duration": 16,
    "start_time": "2021-07-14T12:18:34.797Z"
   },
   {
    "duration": 58,
    "start_time": "2021-07-14T12:18:34.815Z"
   },
   {
    "duration": 10,
    "start_time": "2021-07-14T12:18:34.877Z"
   },
   {
    "duration": 706,
    "start_time": "2021-07-14T12:18:34.890Z"
   },
   {
    "duration": 17,
    "start_time": "2021-07-14T12:18:35.598Z"
   },
   {
    "duration": 791,
    "start_time": "2021-07-14T12:18:35.618Z"
   },
   {
    "duration": 2144,
    "start_time": "2021-07-14T12:18:36.412Z"
   },
   {
    "duration": 819,
    "start_time": "2021-07-14T12:18:38.559Z"
   },
   {
    "duration": 757,
    "start_time": "2021-07-14T12:18:39.380Z"
   },
   {
    "duration": 468,
    "start_time": "2021-07-14T12:18:40.140Z"
   },
   {
    "duration": 16340,
    "start_time": "2021-07-14T12:18:24.270Z"
   },
   {
    "duration": 16315,
    "start_time": "2021-07-14T12:18:24.297Z"
   },
   {
    "duration": 16314,
    "start_time": "2021-07-14T12:18:24.299Z"
   },
   {
    "duration": 16314,
    "start_time": "2021-07-14T12:18:24.301Z"
   },
   {
    "duration": 16313,
    "start_time": "2021-07-14T12:18:24.303Z"
   },
   {
    "duration": 16313,
    "start_time": "2021-07-14T12:18:24.305Z"
   },
   {
    "duration": 16313,
    "start_time": "2021-07-14T12:18:24.306Z"
   },
   {
    "duration": 16312,
    "start_time": "2021-07-14T12:18:24.308Z"
   },
   {
    "duration": 16311,
    "start_time": "2021-07-14T12:18:24.311Z"
   },
   {
    "duration": 16310,
    "start_time": "2021-07-14T12:18:24.313Z"
   },
   {
    "duration": 16309,
    "start_time": "2021-07-14T12:18:24.315Z"
   },
   {
    "duration": 6,
    "start_time": "2021-07-14T12:20:13.808Z"
   },
   {
    "duration": 314,
    "start_time": "2021-07-14T12:20:13.817Z"
   },
   {
    "duration": 27,
    "start_time": "2021-07-14T12:20:14.134Z"
   },
   {
    "duration": 43,
    "start_time": "2021-07-14T12:20:14.164Z"
   },
   {
    "duration": 24,
    "start_time": "2021-07-14T12:20:14.210Z"
   },
   {
    "duration": 39,
    "start_time": "2021-07-14T12:20:14.236Z"
   },
   {
    "duration": 74,
    "start_time": "2021-07-14T12:20:14.278Z"
   },
   {
    "duration": 40,
    "start_time": "2021-07-14T12:20:14.354Z"
   },
   {
    "duration": 727,
    "start_time": "2021-07-14T12:20:14.399Z"
   },
   {
    "duration": 28,
    "start_time": "2021-07-14T12:20:15.129Z"
   },
   {
    "duration": 807,
    "start_time": "2021-07-14T12:20:15.160Z"
   },
   {
    "duration": 2687,
    "start_time": "2021-07-14T12:20:15.969Z"
   },
   {
    "duration": 870,
    "start_time": "2021-07-14T12:20:18.664Z"
   },
   {
    "duration": 773,
    "start_time": "2021-07-14T12:20:19.537Z"
   },
   {
    "duration": 291,
    "start_time": "2021-07-14T12:20:20.312Z"
   },
   {
    "duration": 16340,
    "start_time": "2021-07-14T12:20:04.265Z"
   },
   {
    "duration": 16339,
    "start_time": "2021-07-14T12:20:04.267Z"
   },
   {
    "duration": 16320,
    "start_time": "2021-07-14T12:20:04.288Z"
   },
   {
    "duration": 16314,
    "start_time": "2021-07-14T12:20:04.295Z"
   },
   {
    "duration": 16313,
    "start_time": "2021-07-14T12:20:04.297Z"
   },
   {
    "duration": 16312,
    "start_time": "2021-07-14T12:20:04.299Z"
   },
   {
    "duration": 16312,
    "start_time": "2021-07-14T12:20:04.301Z"
   },
   {
    "duration": 16312,
    "start_time": "2021-07-14T12:20:04.302Z"
   },
   {
    "duration": 16312,
    "start_time": "2021-07-14T12:20:04.304Z"
   },
   {
    "duration": 16310,
    "start_time": "2021-07-14T12:20:04.307Z"
   },
   {
    "duration": 16309,
    "start_time": "2021-07-14T12:20:04.310Z"
   },
   {
    "duration": 7,
    "start_time": "2021-07-14T12:22:41.399Z"
   },
   {
    "duration": 305,
    "start_time": "2021-07-14T12:22:43.410Z"
   },
   {
    "duration": 275,
    "start_time": "2021-07-14T12:23:03.640Z"
   },
   {
    "duration": 1754,
    "start_time": "2021-07-14T12:25:08.786Z"
   },
   {
    "duration": 49,
    "start_time": "2021-07-14T12:25:10.543Z"
   },
   {
    "duration": 15,
    "start_time": "2021-07-14T12:25:10.595Z"
   },
   {
    "duration": 16,
    "start_time": "2021-07-14T12:25:10.612Z"
   },
   {
    "duration": 27,
    "start_time": "2021-07-14T12:25:10.631Z"
   },
   {
    "duration": 19,
    "start_time": "2021-07-14T12:25:10.661Z"
   },
   {
    "duration": 45,
    "start_time": "2021-07-14T12:25:10.683Z"
   },
   {
    "duration": 27,
    "start_time": "2021-07-14T12:25:10.732Z"
   },
   {
    "duration": 712,
    "start_time": "2021-07-14T12:25:10.762Z"
   },
   {
    "duration": 17,
    "start_time": "2021-07-14T12:25:11.477Z"
   },
   {
    "duration": 799,
    "start_time": "2021-07-14T12:25:11.496Z"
   },
   {
    "duration": 2658,
    "start_time": "2021-07-14T12:25:12.298Z"
   },
   {
    "duration": 837,
    "start_time": "2021-07-14T12:25:14.960Z"
   },
   {
    "duration": 2349,
    "start_time": "2021-07-14T12:25:15.799Z"
   },
   {
    "duration": 7,
    "start_time": "2021-07-14T12:25:18.154Z"
   },
   {
    "duration": 434,
    "start_time": "2021-07-14T12:25:18.164Z"
   },
   {
    "duration": 16,
    "start_time": "2021-07-14T12:25:18.601Z"
   },
   {
    "duration": 9,
    "start_time": "2021-07-14T12:25:18.620Z"
   },
   {
    "duration": 34,
    "start_time": "2021-07-14T12:25:18.632Z"
   },
   {
    "duration": 64863,
    "start_time": "2021-07-14T12:25:18.669Z"
   },
   {
    "duration": 272942,
    "start_time": "2021-07-14T12:26:23.535Z"
   },
   {
    "duration": 334500,
    "start_time": "2021-07-14T12:30:56.479Z"
   },
   {
    "duration": 182746,
    "start_time": "2021-07-14T12:36:30.985Z"
   },
   {
    "duration": 658134,
    "start_time": "2021-07-14T12:39:33.734Z"
   },
   {
    "duration": 16343,
    "start_time": "2021-07-14T12:50:15.529Z"
   },
   {
    "duration": 47321,
    "start_time": "2021-07-14T12:50:33.941Z"
   },
   {
    "duration": 120182,
    "start_time": "2021-07-14T12:51:39.067Z"
   },
   {
    "duration": 344,
    "start_time": "2021-07-15T07:22:06.663Z"
   },
   {
    "duration": 1754,
    "start_time": "2021-07-15T07:22:16.228Z"
   },
   {
    "duration": 46,
    "start_time": "2021-07-15T07:22:17.985Z"
   },
   {
    "duration": 22,
    "start_time": "2021-07-15T07:22:18.033Z"
   },
   {
    "duration": 9,
    "start_time": "2021-07-15T07:22:18.058Z"
   },
   {
    "duration": 6,
    "start_time": "2021-07-15T07:22:18.070Z"
   },
   {
    "duration": 13,
    "start_time": "2021-07-15T07:22:18.079Z"
   },
   {
    "duration": 82,
    "start_time": "2021-07-15T07:22:18.094Z"
   },
   {
    "duration": 10,
    "start_time": "2021-07-15T07:22:18.180Z"
   },
   {
    "duration": 682,
    "start_time": "2021-07-15T07:22:18.193Z"
   },
   {
    "duration": 19,
    "start_time": "2021-07-15T07:22:18.878Z"
   },
   {
    "duration": 857,
    "start_time": "2021-07-15T07:22:18.899Z"
   },
   {
    "duration": 2108,
    "start_time": "2021-07-15T07:22:19.759Z"
   },
   {
    "duration": 778,
    "start_time": "2021-07-15T07:22:21.959Z"
   },
   {
    "duration": 2328,
    "start_time": "2021-07-15T07:22:22.740Z"
   },
   {
    "duration": 6,
    "start_time": "2021-07-15T07:22:25.070Z"
   },
   {
    "duration": 439,
    "start_time": "2021-07-15T07:22:25.078Z"
   },
   {
    "duration": 14,
    "start_time": "2021-07-15T07:22:25.519Z"
   },
   {
    "duration": 11,
    "start_time": "2021-07-15T07:22:25.535Z"
   },
   {
    "duration": 12,
    "start_time": "2021-07-15T07:22:25.549Z"
   },
   {
    "duration": 61616,
    "start_time": "2021-07-15T07:22:25.564Z"
   },
   {
    "duration": 258587,
    "start_time": "2021-07-15T07:23:27.182Z"
   },
   {
    "duration": 330493,
    "start_time": "2021-07-15T07:27:45.771Z"
   },
   {
    "duration": 179190,
    "start_time": "2021-07-15T07:33:16.269Z"
   },
   {
    "duration": 117243,
    "start_time": "2021-07-15T07:36:15.462Z"
   },
   {
    "duration": 13,
    "start_time": "2021-07-15T07:38:12.708Z"
   },
   {
    "duration": 393,
    "start_time": "2021-07-15T12:02:28.632Z"
   },
   {
    "duration": 1765,
    "start_time": "2021-07-15T12:02:31.961Z"
   },
   {
    "duration": 47,
    "start_time": "2021-07-15T12:02:33.728Z"
   },
   {
    "duration": 14,
    "start_time": "2021-07-15T12:02:33.778Z"
   },
   {
    "duration": 19,
    "start_time": "2021-07-15T12:02:33.794Z"
   },
   {
    "duration": 16,
    "start_time": "2021-07-15T12:02:33.815Z"
   },
   {
    "duration": 22,
    "start_time": "2021-07-15T12:02:33.833Z"
   },
   {
    "duration": 41,
    "start_time": "2021-07-15T12:02:33.858Z"
   },
   {
    "duration": 10,
    "start_time": "2021-07-15T12:02:33.902Z"
   },
   {
    "duration": 753,
    "start_time": "2021-07-15T12:02:33.915Z"
   },
   {
    "duration": 15,
    "start_time": "2021-07-15T12:02:34.671Z"
   },
   {
    "duration": 806,
    "start_time": "2021-07-15T12:02:34.688Z"
   },
   {
    "duration": 2271,
    "start_time": "2021-07-15T12:02:35.497Z"
   },
   {
    "duration": 825,
    "start_time": "2021-07-15T12:02:37.772Z"
   },
   {
    "duration": 2883,
    "start_time": "2021-07-15T12:02:40.804Z"
   },
   {
    "duration": 2691,
    "start_time": "2021-07-15T12:02:49.276Z"
   },
   {
    "duration": 1738,
    "start_time": "2021-07-15T12:02:53.895Z"
   },
   {
    "duration": 2688,
    "start_time": "2021-07-15T12:04:56.351Z"
   },
   {
    "duration": 2640,
    "start_time": "2021-07-15T12:06:06.695Z"
   },
   {
    "duration": 2780,
    "start_time": "2021-07-15T12:06:24.648Z"
   },
   {
    "duration": 2491,
    "start_time": "2021-07-15T12:06:38.351Z"
   },
   {
    "duration": 2801,
    "start_time": "2021-07-15T12:12:17.044Z"
   },
   {
    "duration": 2154,
    "start_time": "2021-07-15T12:30:56.763Z"
   },
   {
    "duration": 374,
    "start_time": "2021-07-15T12:31:09.099Z"
   },
   {
    "duration": 5,
    "start_time": "2021-07-15T12:31:20.776Z"
   },
   {
    "duration": 1686,
    "start_time": "2021-07-15T12:31:28.273Z"
   },
   {
    "duration": 454,
    "start_time": "2021-07-15T12:31:47.264Z"
   },
   {
    "duration": 1778,
    "start_time": "2021-07-15T12:47:08.732Z"
   },
   {
    "duration": 54,
    "start_time": "2021-07-15T12:47:10.513Z"
   },
   {
    "duration": 15,
    "start_time": "2021-07-15T12:47:10.575Z"
   },
   {
    "duration": 11,
    "start_time": "2021-07-15T12:47:10.592Z"
   },
   {
    "duration": 5,
    "start_time": "2021-07-15T12:47:10.606Z"
   },
   {
    "duration": 7,
    "start_time": "2021-07-15T12:47:10.613Z"
   },
   {
    "duration": 71,
    "start_time": "2021-07-15T12:47:10.624Z"
   },
   {
    "duration": 10,
    "start_time": "2021-07-15T12:47:10.698Z"
   },
   {
    "duration": 728,
    "start_time": "2021-07-15T12:47:10.711Z"
   },
   {
    "duration": 28,
    "start_time": "2021-07-15T12:47:11.442Z"
   },
   {
    "duration": 805,
    "start_time": "2021-07-15T12:47:11.473Z"
   },
   {
    "duration": 2687,
    "start_time": "2021-07-15T12:47:12.281Z"
   },
   {
    "duration": 818,
    "start_time": "2021-07-15T12:47:14.972Z"
   },
   {
    "duration": 2822,
    "start_time": "2021-07-15T12:47:15.792Z"
   },
   {
    "duration": 9,
    "start_time": "2021-07-15T12:47:18.616Z"
   },
   {
    "duration": 933,
    "start_time": "2021-07-15T12:47:18.629Z"
   },
   {
    "duration": 16477,
    "start_time": "2021-07-15T12:47:03.089Z"
   },
   {
    "duration": 16475,
    "start_time": "2021-07-15T12:47:03.093Z"
   },
   {
    "duration": 16473,
    "start_time": "2021-07-15T12:47:03.097Z"
   },
   {
    "duration": 16469,
    "start_time": "2021-07-15T12:47:03.103Z"
   },
   {
    "duration": 16468,
    "start_time": "2021-07-15T12:47:03.106Z"
   },
   {
    "duration": 16468,
    "start_time": "2021-07-15T12:47:03.109Z"
   },
   {
    "duration": 16468,
    "start_time": "2021-07-15T12:47:03.111Z"
   },
   {
    "duration": 16466,
    "start_time": "2021-07-15T12:47:03.115Z"
   },
   {
    "duration": 16465,
    "start_time": "2021-07-15T12:47:03.118Z"
   },
   {
    "duration": 1794,
    "start_time": "2021-07-15T12:47:45.602Z"
   },
   {
    "duration": 47,
    "start_time": "2021-07-15T12:47:47.399Z"
   },
   {
    "duration": 24,
    "start_time": "2021-07-15T12:47:47.448Z"
   },
   {
    "duration": 14,
    "start_time": "2021-07-15T12:47:47.474Z"
   },
   {
    "duration": 7,
    "start_time": "2021-07-15T12:47:47.490Z"
   },
   {
    "duration": 9,
    "start_time": "2021-07-15T12:47:47.500Z"
   },
   {
    "duration": 66,
    "start_time": "2021-07-15T12:47:47.511Z"
   },
   {
    "duration": 11,
    "start_time": "2021-07-15T12:47:47.580Z"
   },
   {
    "duration": 752,
    "start_time": "2021-07-15T12:47:47.594Z"
   },
   {
    "duration": 32,
    "start_time": "2021-07-15T12:47:48.349Z"
   },
   {
    "duration": 811,
    "start_time": "2021-07-15T12:47:48.383Z"
   },
   {
    "duration": 1971,
    "start_time": "2021-07-15T12:47:49.197Z"
   },
   {
    "duration": 841,
    "start_time": "2021-07-15T12:47:51.172Z"
   },
   {
    "duration": 2680,
    "start_time": "2021-07-15T12:47:52.016Z"
   },
   {
    "duration": 8,
    "start_time": "2021-07-15T12:47:54.699Z"
   },
   {
    "duration": 427,
    "start_time": "2021-07-15T12:47:54.710Z"
   },
   {
    "duration": 607,
    "start_time": "2021-07-15T12:47:55.140Z"
   },
   {
    "duration": 16490,
    "start_time": "2021-07-15T12:47:39.260Z"
   },
   {
    "duration": 16484,
    "start_time": "2021-07-15T12:47:39.268Z"
   },
   {
    "duration": 16481,
    "start_time": "2021-07-15T12:47:39.273Z"
   },
   {
    "duration": 16481,
    "start_time": "2021-07-15T12:47:39.275Z"
   },
   {
    "duration": 16479,
    "start_time": "2021-07-15T12:47:39.279Z"
   },
   {
    "duration": 16477,
    "start_time": "2021-07-15T12:47:39.283Z"
   },
   {
    "duration": 16477,
    "start_time": "2021-07-15T12:47:39.286Z"
   },
   {
    "duration": 16477,
    "start_time": "2021-07-15T12:47:39.288Z"
   },
   {
    "duration": 7,
    "start_time": "2021-07-15T12:48:01.948Z"
   },
   {
    "duration": 1677,
    "start_time": "2021-07-15T12:48:08.118Z"
   },
   {
    "duration": 45,
    "start_time": "2021-07-15T12:48:09.798Z"
   },
   {
    "duration": 22,
    "start_time": "2021-07-15T12:48:09.846Z"
   },
   {
    "duration": 10,
    "start_time": "2021-07-15T12:48:09.871Z"
   },
   {
    "duration": 6,
    "start_time": "2021-07-15T12:48:09.884Z"
   },
   {
    "duration": 7,
    "start_time": "2021-07-15T12:48:09.892Z"
   },
   {
    "duration": 77,
    "start_time": "2021-07-15T12:48:09.902Z"
   },
   {
    "duration": 12,
    "start_time": "2021-07-15T12:48:09.984Z"
   },
   {
    "duration": 732,
    "start_time": "2021-07-15T12:48:09.999Z"
   },
   {
    "duration": 16,
    "start_time": "2021-07-15T12:48:10.734Z"
   },
   {
    "duration": 818,
    "start_time": "2021-07-15T12:48:10.753Z"
   },
   {
    "duration": 2102,
    "start_time": "2021-07-15T12:48:11.574Z"
   },
   {
    "duration": 833,
    "start_time": "2021-07-15T12:48:13.770Z"
   },
   {
    "duration": 2670,
    "start_time": "2021-07-15T12:48:14.606Z"
   },
   {
    "duration": 6,
    "start_time": "2021-07-15T12:48:17.279Z"
   },
   {
    "duration": 418,
    "start_time": "2021-07-15T12:48:17.288Z"
   },
   {
    "duration": 7,
    "start_time": "2021-07-15T12:48:17.709Z"
   },
   {
    "duration": 7,
    "start_time": "2021-07-15T12:48:17.718Z"
   },
   {
    "duration": 11,
    "start_time": "2021-07-15T12:48:17.728Z"
   },
   {
    "duration": 4345,
    "start_time": "2021-07-15T12:48:17.741Z"
   },
   {
    "duration": 16549,
    "start_time": "2021-07-15T12:48:22.089Z"
   },
   {
    "duration": 48581,
    "start_time": "2021-07-15T12:48:38.640Z"
   },
   {
    "duration": 31247,
    "start_time": "2021-07-15T12:49:27.225Z"
   },
   {
    "duration": 13734,
    "start_time": "2021-07-15T12:49:58.475Z"
   },
   {
    "duration": 10,
    "start_time": "2021-07-15T12:50:12.212Z"
   },
   {
    "duration": 1239,
    "start_time": "2021-07-16T07:39:55.550Z"
   },
   {
    "duration": 34,
    "start_time": "2021-07-16T07:39:56.790Z"
   },
   {
    "duration": 9,
    "start_time": "2021-07-16T07:39:56.825Z"
   },
   {
    "duration": 7,
    "start_time": "2021-07-16T07:39:56.836Z"
   },
   {
    "duration": 3,
    "start_time": "2021-07-16T07:39:56.845Z"
   },
   {
    "duration": 5,
    "start_time": "2021-07-16T07:39:56.849Z"
   },
   {
    "duration": 20,
    "start_time": "2021-07-16T07:39:56.855Z"
   },
   {
    "duration": 6,
    "start_time": "2021-07-16T07:39:56.892Z"
   },
   {
    "duration": 402,
    "start_time": "2021-07-16T07:39:56.900Z"
   },
   {
    "duration": 8,
    "start_time": "2021-07-16T07:39:57.303Z"
   },
   {
    "duration": 463,
    "start_time": "2021-07-16T07:39:57.313Z"
   },
   {
    "duration": 1122,
    "start_time": "2021-07-16T07:39:57.778Z"
   },
   {
    "duration": 562,
    "start_time": "2021-07-16T07:39:58.902Z"
   },
   {
    "duration": 1451,
    "start_time": "2021-07-16T07:39:59.466Z"
   },
   {
    "duration": 6,
    "start_time": "2021-07-16T07:40:00.919Z"
   },
   {
    "duration": 246,
    "start_time": "2021-07-16T07:40:00.927Z"
   },
   {
    "duration": 5,
    "start_time": "2021-07-16T07:40:01.176Z"
   },
   {
    "duration": 17,
    "start_time": "2021-07-16T07:40:01.188Z"
   },
   {
    "duration": 10,
    "start_time": "2021-07-16T07:40:01.210Z"
   },
   {
    "duration": 350,
    "start_time": "2021-07-16T07:41:02.133Z"
   },
   {
    "duration": 4,
    "start_time": "2021-07-16T07:41:06.372Z"
   },
   {
    "duration": 35,
    "start_time": "2021-07-16T07:41:06.378Z"
   },
   {
    "duration": 6,
    "start_time": "2021-07-16T07:41:06.414Z"
   },
   {
    "duration": 8,
    "start_time": "2021-07-16T07:41:06.421Z"
   },
   {
    "duration": 3,
    "start_time": "2021-07-16T07:41:06.431Z"
   },
   {
    "duration": 5,
    "start_time": "2021-07-16T07:41:06.435Z"
   },
   {
    "duration": 18,
    "start_time": "2021-07-16T07:41:06.441Z"
   },
   {
    "duration": 36,
    "start_time": "2021-07-16T07:41:06.460Z"
   },
   {
    "duration": 387,
    "start_time": "2021-07-16T07:41:06.497Z"
   },
   {
    "duration": 13,
    "start_time": "2021-07-16T07:41:06.886Z"
   },
   {
    "duration": 398,
    "start_time": "2021-07-16T07:41:06.900Z"
   },
   {
    "duration": 1299,
    "start_time": "2021-07-16T07:41:07.300Z"
   },
   {
    "duration": 633,
    "start_time": "2021-07-16T07:41:08.601Z"
   },
   {
    "duration": 1452,
    "start_time": "2021-07-16T07:41:09.236Z"
   },
   {
    "duration": 4,
    "start_time": "2021-07-16T07:41:10.689Z"
   },
   {
    "duration": 232,
    "start_time": "2021-07-16T07:41:10.695Z"
   },
   {
    "duration": 5,
    "start_time": "2021-07-16T07:41:10.929Z"
   },
   {
    "duration": 8,
    "start_time": "2021-07-16T07:41:10.935Z"
   },
   {
    "duration": 7,
    "start_time": "2021-07-16T07:41:10.945Z"
   },
   {
    "duration": 480,
    "start_time": "2021-07-16T07:42:09.207Z"
   },
   {
    "duration": 8,
    "start_time": "2021-07-16T07:42:42.615Z"
   },
   {
    "duration": 2729,
    "start_time": "2021-07-16T07:42:45.167Z"
   },
   {
    "duration": 1778,
    "start_time": "2021-07-19T09:29:07.911Z"
   },
   {
    "duration": 321,
    "start_time": "2021-07-19T09:29:17.342Z"
   },
   {
    "duration": 6,
    "start_time": "2021-07-19T09:29:33.831Z"
   },
   {
    "duration": 19131,
    "start_time": "2021-07-19T09:31:21.593Z"
   }
  ],
  "kernelspec": {
   "display_name": "Python 3 (ipykernel)",
   "language": "python",
   "name": "python3"
  },
  "language_info": {
   "codemirror_mode": {
    "name": "ipython",
    "version": 3
   },
   "file_extension": ".py",
   "mimetype": "text/x-python",
   "name": "python",
   "nbconvert_exporter": "python",
   "pygments_lexer": "ipython3",
   "version": "3.9.5"
  },
  "toc": {
   "base_numbering": 1,
   "nav_menu": {},
   "number_sections": false,
   "sideBar": true,
   "skip_h1_title": false,
   "title_cell": "Содержание",
   "title_sidebar": "Contents",
   "toc_cell": true,
   "toc_position": {},
   "toc_section_display": true,
   "toc_window_display": false
  }
 },
 "nbformat": 4,
 "nbformat_minor": 2
}
