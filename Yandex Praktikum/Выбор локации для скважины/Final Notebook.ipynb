{
 "cells": [
  {
   "cell_type": "markdown",
   "metadata": {},
   "source": [
    "# Выбор локации для скважины"
   ]
  },
  {
   "cell_type": "markdown",
   "metadata": {},
   "source": [
    "Допустим, вы работаете в добывающей компании «ГлавРосГосНефть». Нужно решить, где бурить новую скважину.\n",
    "\n",
    "Вам предоставлены пробы нефти в трёх регионах: в каждом 10 000 месторождений, где измерили качество нефти и объём её запасов. Постройте модель машинного обучения, которая поможет определить регион, где добыча принесёт наибольшую прибыль. Проанализируйте возможную прибыль и риски техникой *Bootstrap.*\n",
    "\n",
    "Шаги для выбора локации:\n",
    "\n",
    "- В избранном регионе ищут месторождения, для каждого определяют значения признаков;\n",
    "- Строят модель и оценивают объём запасов;\n",
    "- Выбирают месторождения с самым высокими оценками значений. Количество месторождений зависит от бюджета компании и стоимости разработки одной скважины;\n",
    "- Прибыль равна суммарной прибыли отобранных месторождений."
   ]
  },
  {
   "cell_type": "markdown",
   "metadata": {},
   "source": [
    "# Описание данных\n",
    "\n",
    "**Данные геологоразведки трёх регионов разбиты на три файла.**\n",
    "\n",
    "**Описание признаков**\n",
    "- **id** — уникальный идентификатор скважины;\n",
    "- **f0, f1, f2** — три признака точек (неважно, что они означают, но сами признаки значимы);\n",
    "- **product** — объём запасов в скважине (тыс. баррелей)."
   ]
  },
  {
   "cell_type": "markdown",
   "metadata": {},
   "source": [
    "# План работы:\n",
    "\n",
    "- **Загрузка и подготовка данных.**\n",
    "\n",
    "- **Обучение и проверки модели для каждого региона:**\n",
    "     - Разбивка данных на обучающую и валидационную выборку;\n",
    "     - Обучение модели и предсказание на валидационной выборке;\n",
    "     - Расчет среднего запаса предсказанного сырья и RMSE модели;\n",
    "     - Анализ результатов;\n",
    "     \n",
    "- **Подготовка к расчету прибыли:**\n",
    "    - Расчет достаточного объема сырья для безубыточной разработки новой скважины. Сравнение полученных результатов со средним запасом в каждом регионе;\n",
    "    - Анализ результатов;\n",
    "   \n",
    "- **Расчет прибыли:**\n",
    "    - Выбор скважин с максимальными значениями предсказаний;\n",
    "    - Суммирование целевого значения объема сырья, соответствующее этим предсказаниям;\n",
    "    - Непосредственный расчте прибыли для полученного объема сырья;\n",
    "    \n",
    "- **Расчет рисков и прибыли для каждого региона:**\n",
    "    - Применение техники Bootstrap с 1000 выборок, для поиска распределение прибыли;\n",
    "    - Расчет средней прибыли, 95%-ого доверительного интервала и риска убытков;\n",
    "    - Итоговый вывод;"
   ]
  },
  {
   "cell_type": "markdown",
   "metadata": {},
   "source": [
    "# Импорт библиотек:"
   ]
  },
  {
   "cell_type": "code",
   "execution_count": 2,
   "metadata": {},
   "outputs": [],
   "source": [
    "\n",
    "import warnings; warnings.filterwarnings(\"ignore\", category=Warning)\n",
    "\n",
    "import pandas as pd\n",
    "import numpy as np\n",
    "from scipy import stats as st\n",
    "\n",
    "from sklearn.model_selection import train_test_split\n",
    "from sklearn.model_selection import GridSearchCV\n",
    "\n",
    "from sklearn.linear_model import LinearRegression\n",
    "\n",
    "from sklearn.preprocessing import StandardScaler\n",
    "\n",
    "from sklearn.metrics import mean_squared_error\n",
    "from sklearn.metrics import r2_score\n",
    "from sklearn.metrics import mean_absolute_error\n",
    "\n",
    "pd.options.mode.chained_assignment = None"
   ]
  },
  {
   "cell_type": "markdown",
   "metadata": {},
   "source": [
    "# 1. Загрузка и подготовка данных"
   ]
  },
  {
   "cell_type": "code",
   "execution_count": 3,
   "metadata": {},
   "outputs": [],
   "source": [
    "df_region1 = pd.read_csv('/datasets/geo_data_0.csv')\n",
    "df_region2 = pd.read_csv('/datasets/geo_data_1.csv') \n",
    "df_region3 = pd.read_csv('/datasets/geo_data_2.csv') \n",
    "\n",
    "df_list = [df_region1, df_region2, df_region3]\n",
    "name_df_list = ['\"Регион №1\"', '\"Регион №2\"', '\"Регион №3\"']"
   ]
  },
  {
   "cell_type": "markdown",
   "metadata": {},
   "source": [
    "Данные загружены в переменные, теперь взглянем на их шапки, общую информацию, и выведем на экран конечное количество строк, пропущенных значений, и дубликатов"
   ]
  },
  {
   "cell_type": "code",
   "execution_count": 4,
   "metadata": {},
   "outputs": [
    {
     "name": "stdout",
     "output_type": "stream",
     "text": [
      "\u001b[1mНаименование датафрейма - \"Регион №1\" :\u001b[0m\n",
      "\u001b[1mШапка датафрейма:\u001b[0m\n"
     ]
    },
    {
     "data": {
      "text/html": [
       "<div>\n",
       "<style scoped>\n",
       "    .dataframe tbody tr th:only-of-type {\n",
       "        vertical-align: middle;\n",
       "    }\n",
       "\n",
       "    .dataframe tbody tr th {\n",
       "        vertical-align: top;\n",
       "    }\n",
       "\n",
       "    .dataframe thead th {\n",
       "        text-align: right;\n",
       "    }\n",
       "</style>\n",
       "<table border=\"1\" class=\"dataframe\">\n",
       "  <thead>\n",
       "    <tr style=\"text-align: right;\">\n",
       "      <th></th>\n",
       "      <th>id</th>\n",
       "      <th>f0</th>\n",
       "      <th>f1</th>\n",
       "      <th>f2</th>\n",
       "      <th>product</th>\n",
       "    </tr>\n",
       "  </thead>\n",
       "  <tbody>\n",
       "    <tr>\n",
       "      <td>0</td>\n",
       "      <td>txEyH</td>\n",
       "      <td>0.705745</td>\n",
       "      <td>-0.497823</td>\n",
       "      <td>1.221170</td>\n",
       "      <td>105.280062</td>\n",
       "    </tr>\n",
       "    <tr>\n",
       "      <td>1</td>\n",
       "      <td>2acmU</td>\n",
       "      <td>1.334711</td>\n",
       "      <td>-0.340164</td>\n",
       "      <td>4.365080</td>\n",
       "      <td>73.037750</td>\n",
       "    </tr>\n",
       "    <tr>\n",
       "      <td>2</td>\n",
       "      <td>409Wp</td>\n",
       "      <td>1.022732</td>\n",
       "      <td>0.151990</td>\n",
       "      <td>1.419926</td>\n",
       "      <td>85.265647</td>\n",
       "    </tr>\n",
       "    <tr>\n",
       "      <td>3</td>\n",
       "      <td>iJLyR</td>\n",
       "      <td>-0.032172</td>\n",
       "      <td>0.139033</td>\n",
       "      <td>2.978566</td>\n",
       "      <td>168.620776</td>\n",
       "    </tr>\n",
       "    <tr>\n",
       "      <td>4</td>\n",
       "      <td>Xdl7t</td>\n",
       "      <td>1.988431</td>\n",
       "      <td>0.155413</td>\n",
       "      <td>4.751769</td>\n",
       "      <td>154.036647</td>\n",
       "    </tr>\n",
       "  </tbody>\n",
       "</table>\n",
       "</div>"
      ],
      "text/plain": [
       "      id        f0        f1        f2     product\n",
       "0  txEyH  0.705745 -0.497823  1.221170  105.280062\n",
       "1  2acmU  1.334711 -0.340164  4.365080   73.037750\n",
       "2  409Wp  1.022732  0.151990  1.419926   85.265647\n",
       "3  iJLyR -0.032172  0.139033  2.978566  168.620776\n",
       "4  Xdl7t  1.988431  0.155413  4.751769  154.036647"
      ]
     },
     "metadata": {},
     "output_type": "display_data"
    },
    {
     "name": "stdout",
     "output_type": "stream",
     "text": [
      "\n",
      "\u001b[1mОбщая информация о датафрейме\u001b[0m\n",
      "<class 'pandas.core.frame.DataFrame'>\n",
      "RangeIndex: 100000 entries, 0 to 99999\n",
      "Data columns (total 5 columns):\n",
      "id         100000 non-null object\n",
      "f0         100000 non-null float64\n",
      "f1         100000 non-null float64\n",
      "f2         100000 non-null float64\n",
      "product    100000 non-null float64\n",
      "dtypes: float64(4), object(1)\n",
      "memory usage: 3.8+ MB\n"
     ]
    },
    {
     "data": {
      "text/plain": [
       "None"
      ]
     },
     "metadata": {},
     "output_type": "display_data"
    },
    {
     "name": "stdout",
     "output_type": "stream",
     "text": [
      "\u001b[1mИнформация о размере, пропусках и дубликатах в датафрейме\u001b[0m\n",
      "Количество строк - 100000\n",
      "Количество пропущенных значений - 0.0\n",
      "Количество дубликатов - 0\n",
      "\n",
      "\n",
      "\u001b[1mНаименование датафрейма - \"Регион №2\" :\u001b[0m\n",
      "\u001b[1mШапка датафрейма:\u001b[0m\n"
     ]
    },
    {
     "data": {
      "text/html": [
       "<div>\n",
       "<style scoped>\n",
       "    .dataframe tbody tr th:only-of-type {\n",
       "        vertical-align: middle;\n",
       "    }\n",
       "\n",
       "    .dataframe tbody tr th {\n",
       "        vertical-align: top;\n",
       "    }\n",
       "\n",
       "    .dataframe thead th {\n",
       "        text-align: right;\n",
       "    }\n",
       "</style>\n",
       "<table border=\"1\" class=\"dataframe\">\n",
       "  <thead>\n",
       "    <tr style=\"text-align: right;\">\n",
       "      <th></th>\n",
       "      <th>id</th>\n",
       "      <th>f0</th>\n",
       "      <th>f1</th>\n",
       "      <th>f2</th>\n",
       "      <th>product</th>\n",
       "    </tr>\n",
       "  </thead>\n",
       "  <tbody>\n",
       "    <tr>\n",
       "      <td>0</td>\n",
       "      <td>kBEdx</td>\n",
       "      <td>-15.001348</td>\n",
       "      <td>-8.276000</td>\n",
       "      <td>-0.005876</td>\n",
       "      <td>3.179103</td>\n",
       "    </tr>\n",
       "    <tr>\n",
       "      <td>1</td>\n",
       "      <td>62mP7</td>\n",
       "      <td>14.272088</td>\n",
       "      <td>-3.475083</td>\n",
       "      <td>0.999183</td>\n",
       "      <td>26.953261</td>\n",
       "    </tr>\n",
       "    <tr>\n",
       "      <td>2</td>\n",
       "      <td>vyE1P</td>\n",
       "      <td>6.263187</td>\n",
       "      <td>-5.948386</td>\n",
       "      <td>5.001160</td>\n",
       "      <td>134.766305</td>\n",
       "    </tr>\n",
       "    <tr>\n",
       "      <td>3</td>\n",
       "      <td>KcrkZ</td>\n",
       "      <td>-13.081196</td>\n",
       "      <td>-11.506057</td>\n",
       "      <td>4.999415</td>\n",
       "      <td>137.945408</td>\n",
       "    </tr>\n",
       "    <tr>\n",
       "      <td>4</td>\n",
       "      <td>AHL4O</td>\n",
       "      <td>12.702195</td>\n",
       "      <td>-8.147433</td>\n",
       "      <td>5.004363</td>\n",
       "      <td>134.766305</td>\n",
       "    </tr>\n",
       "  </tbody>\n",
       "</table>\n",
       "</div>"
      ],
      "text/plain": [
       "      id         f0         f1        f2     product\n",
       "0  kBEdx -15.001348  -8.276000 -0.005876    3.179103\n",
       "1  62mP7  14.272088  -3.475083  0.999183   26.953261\n",
       "2  vyE1P   6.263187  -5.948386  5.001160  134.766305\n",
       "3  KcrkZ -13.081196 -11.506057  4.999415  137.945408\n",
       "4  AHL4O  12.702195  -8.147433  5.004363  134.766305"
      ]
     },
     "metadata": {},
     "output_type": "display_data"
    },
    {
     "name": "stdout",
     "output_type": "stream",
     "text": [
      "\n",
      "\u001b[1mОбщая информация о датафрейме\u001b[0m\n",
      "<class 'pandas.core.frame.DataFrame'>\n",
      "RangeIndex: 100000 entries, 0 to 99999\n",
      "Data columns (total 5 columns):\n",
      "id         100000 non-null object\n",
      "f0         100000 non-null float64\n",
      "f1         100000 non-null float64\n",
      "f2         100000 non-null float64\n",
      "product    100000 non-null float64\n",
      "dtypes: float64(4), object(1)\n",
      "memory usage: 3.8+ MB\n"
     ]
    },
    {
     "data": {
      "text/plain": [
       "None"
      ]
     },
     "metadata": {},
     "output_type": "display_data"
    },
    {
     "name": "stdout",
     "output_type": "stream",
     "text": [
      "\u001b[1mИнформация о размере, пропусках и дубликатах в датафрейме\u001b[0m\n",
      "Количество строк - 100000\n",
      "Количество пропущенных значений - 0.0\n",
      "Количество дубликатов - 0\n",
      "\n",
      "\n",
      "\u001b[1mНаименование датафрейма - \"Регион №3\" :\u001b[0m\n",
      "\u001b[1mШапка датафрейма:\u001b[0m\n"
     ]
    },
    {
     "data": {
      "text/html": [
       "<div>\n",
       "<style scoped>\n",
       "    .dataframe tbody tr th:only-of-type {\n",
       "        vertical-align: middle;\n",
       "    }\n",
       "\n",
       "    .dataframe tbody tr th {\n",
       "        vertical-align: top;\n",
       "    }\n",
       "\n",
       "    .dataframe thead th {\n",
       "        text-align: right;\n",
       "    }\n",
       "</style>\n",
       "<table border=\"1\" class=\"dataframe\">\n",
       "  <thead>\n",
       "    <tr style=\"text-align: right;\">\n",
       "      <th></th>\n",
       "      <th>id</th>\n",
       "      <th>f0</th>\n",
       "      <th>f1</th>\n",
       "      <th>f2</th>\n",
       "      <th>product</th>\n",
       "    </tr>\n",
       "  </thead>\n",
       "  <tbody>\n",
       "    <tr>\n",
       "      <td>0</td>\n",
       "      <td>fwXo0</td>\n",
       "      <td>-1.146987</td>\n",
       "      <td>0.963328</td>\n",
       "      <td>-0.828965</td>\n",
       "      <td>27.758673</td>\n",
       "    </tr>\n",
       "    <tr>\n",
       "      <td>1</td>\n",
       "      <td>WJtFt</td>\n",
       "      <td>0.262778</td>\n",
       "      <td>0.269839</td>\n",
       "      <td>-2.530187</td>\n",
       "      <td>56.069697</td>\n",
       "    </tr>\n",
       "    <tr>\n",
       "      <td>2</td>\n",
       "      <td>ovLUW</td>\n",
       "      <td>0.194587</td>\n",
       "      <td>0.289035</td>\n",
       "      <td>-5.586433</td>\n",
       "      <td>62.871910</td>\n",
       "    </tr>\n",
       "    <tr>\n",
       "      <td>3</td>\n",
       "      <td>q6cA6</td>\n",
       "      <td>2.236060</td>\n",
       "      <td>-0.553760</td>\n",
       "      <td>0.930038</td>\n",
       "      <td>114.572842</td>\n",
       "    </tr>\n",
       "    <tr>\n",
       "      <td>4</td>\n",
       "      <td>WPMUX</td>\n",
       "      <td>-0.515993</td>\n",
       "      <td>1.716266</td>\n",
       "      <td>5.899011</td>\n",
       "      <td>149.600746</td>\n",
       "    </tr>\n",
       "  </tbody>\n",
       "</table>\n",
       "</div>"
      ],
      "text/plain": [
       "      id        f0        f1        f2     product\n",
       "0  fwXo0 -1.146987  0.963328 -0.828965   27.758673\n",
       "1  WJtFt  0.262778  0.269839 -2.530187   56.069697\n",
       "2  ovLUW  0.194587  0.289035 -5.586433   62.871910\n",
       "3  q6cA6  2.236060 -0.553760  0.930038  114.572842\n",
       "4  WPMUX -0.515993  1.716266  5.899011  149.600746"
      ]
     },
     "metadata": {},
     "output_type": "display_data"
    },
    {
     "name": "stdout",
     "output_type": "stream",
     "text": [
      "\n",
      "\u001b[1mОбщая информация о датафрейме\u001b[0m\n",
      "<class 'pandas.core.frame.DataFrame'>\n",
      "RangeIndex: 100000 entries, 0 to 99999\n",
      "Data columns (total 5 columns):\n",
      "id         100000 non-null object\n",
      "f0         100000 non-null float64\n",
      "f1         100000 non-null float64\n",
      "f2         100000 non-null float64\n",
      "product    100000 non-null float64\n",
      "dtypes: float64(4), object(1)\n",
      "memory usage: 3.8+ MB\n"
     ]
    },
    {
     "data": {
      "text/plain": [
       "None"
      ]
     },
     "metadata": {},
     "output_type": "display_data"
    },
    {
     "name": "stdout",
     "output_type": "stream",
     "text": [
      "\u001b[1mИнформация о размере, пропусках и дубликатах в датафрейме\u001b[0m\n",
      "Количество строк - 100000\n",
      "Количество пропущенных значений - 0.0\n",
      "Количество дубликатов - 0\n",
      "\n",
      "\n"
     ]
    }
   ],
   "source": [
    "for i in range(len(df_list)):\n",
    "    print('\\033[1m' + 'Наименование датафрейма - ' + name_df_list[i], ':' + '\\033[0m')\n",
    "    print('\\033[1m' + 'Шапка датафрейма:' + '\\033[0m')\n",
    "    display(df_list[i].head(5))\n",
    "    print('')\n",
    "    print('\\033[1m' + 'Общая информация о датафрейме' + '\\033[0m')\n",
    "    display(df_list[i].info())\n",
    "    print('\\033[1m' + 'Информация о размере, пропусках и дубликатах в датафрейме' + '\\033[0m')\n",
    "    print('Количество строк -', len(df_list[i]))\n",
    "    print('Количество пропущенных значений -', \n",
    "          df_list[1][df_list[1].isna() == True].sum().sum())\n",
    "    print('Количество дубликатов -', df_list[i].duplicated().sum())\n",
    "    print('')\n",
    "    print('')"
   ]
  },
  {
   "cell_type": "markdown",
   "metadata": {},
   "source": [
    "Наблюдаем, что в трех датафреймах одинаковое количество строк (100 тыс. значений), столбцов, отсутствуют пропущенные значения и дубликаты. Типы данных также находятся в полном порядке. Для окончательной подготовки данных к анализу нам необходимо лишь избавиться от столбца id, так как в дальнейшем он нам не понадобится."
   ]
  },
  {
   "cell_type": "code",
   "execution_count": 5,
   "metadata": {},
   "outputs": [],
   "source": [
    "for i in range(len(df_list)):\n",
    "    df_list[i] = df_list[i].drop(['id'], axis = 1)"
   ]
  },
  {
   "cell_type": "markdown",
   "metadata": {},
   "source": [
    "Столбец 'id' успешно удален, данные готовы к анализу. Переходим к следующему этапу."
   ]
  },
  {
   "cell_type": "markdown",
   "metadata": {},
   "source": [
    "# 2. Обучение и проверки модели для каждого региона:\n",
    "\n",
    "В первую очередь, подготовим списки с признаками и целевыми признаками по каждому региону."
   ]
  },
  {
   "cell_type": "code",
   "execution_count": 6,
   "metadata": {},
   "outputs": [],
   "source": [
    "x_par_list = []\n",
    "y_tar_list = []\n",
    "for i in range(len(df_list)):\n",
    "    x_par_list.append(df_list[i].drop(['product'], axis = 1))\n",
    "    y_tar_list.append(df_list[i]['product'])"
   ]
  },
  {
   "cell_type": "markdown",
   "metadata": {},
   "source": [
    "Данные подготовлены для разбивки, теперь напишем функцию, которая на входе получит пустые списки с признаками и целевыми признаками для тренировочной и валидационной выборки по каждому региону. Внутри функция выполнит масштабирование числовых признаков (т.е. всех), разобъет датафреймы на выборки, и добавит их в пустые списке. На выходе функция выдаст четыре списка , внутри которых будут находится тренировочные и валидационные выборки по трем регионам."
   ]
  },
  {
   "cell_type": "code",
   "execution_count": 7,
   "metadata": {},
   "outputs": [],
   "source": [
    "x_train_list = []\n",
    "x_valid_list = []\n",
    "y_train_list = []\n",
    "y_valid_list = []\n",
    "numeric = ['f0', 'f1', 'f2']\n",
    "def train_valid_splitter(x_train_list, x_valid_list, y_train_list, y_valid_list):\n",
    "    \n",
    "    for i in range(len(x_par_list)):\n",
    "                \n",
    "        features_train, features_valid, target_train, target_valid = train_test_split(\n",
    "            x_par_list[i], \n",
    "            y_tar_list[i], \n",
    "            test_size = 0.25)\n",
    "        \n",
    "        scaler = StandardScaler()\n",
    "        scaler.fit(features_train)\n",
    "        features_train = scaler.transform(features_train)\n",
    "        features_valid = scaler.transform(features_valid)\n",
    "        \n",
    "        print('\\033[1m' + 'Наименование исходного датафрейма - ' + name_df_list[i] + '\\033[0m')\n",
    "        print('Размер обучающей выборки: ', features_train.shape)\n",
    "        print('Размер валидационной выборки: ', features_valid.shape)\n",
    "        print('')\n",
    "        x_train_list.append(features_train)\n",
    "        x_valid_list.append(features_valid)\n",
    "        y_train_list.append(target_train)\n",
    "        y_valid_list.append(target_valid)\n",
    "        \n",
    "    return x_train_list, x_valid_list, y_train_list, y_valid_list"
   ]
  },
  {
   "cell_type": "markdown",
   "metadata": {},
   "source": [
    "Функция подготовлена, проверим её работоспособность."
   ]
  },
  {
   "cell_type": "code",
   "execution_count": 8,
   "metadata": {},
   "outputs": [
    {
     "name": "stdout",
     "output_type": "stream",
     "text": [
      "\u001b[1mНаименование исходного датафрейма - \"Регион №1\"\u001b[0m\n",
      "Размер обучающей выборки:  (75000, 3)\n",
      "Размер валидационной выборки:  (25000, 3)\n",
      "\n",
      "\u001b[1mНаименование исходного датафрейма - \"Регион №2\"\u001b[0m\n",
      "Размер обучающей выборки:  (75000, 3)\n",
      "Размер валидационной выборки:  (25000, 3)\n",
      "\n",
      "\u001b[1mНаименование исходного датафрейма - \"Регион №3\"\u001b[0m\n",
      "Размер обучающей выборки:  (75000, 3)\n",
      "Размер валидационной выборки:  (25000, 3)\n",
      "\n"
     ]
    }
   ],
   "source": [
    "x_train_list, x_valid_list, y_train_list, y_valid_list = train_valid_splitter(\n",
    "    x_train_list, x_valid_list, y_train_list, y_valid_list)"
   ]
  },
  {
   "cell_type": "markdown",
   "metadata": {},
   "source": [
    "Функция применена успешно, получили по три набора выборок. \n",
    "\n",
    "Теперь переходим непосредственно к обучению модели линейной регрессии, для этого будем использовать автоподбор гиперпараметров с помощью GridSearchCV. Также сразу же попробуем предсказать нужные нам значения на валидационной выборке, добавим их в пустой список, и рассчитаем метрики для оценки адекватности нашей модели - средний запас предсказанного сырья, RMSE, MAE и коэффициент детерминации. \n",
    "\n",
    "Полученные результаты выведем на экран."
   ]
  },
  {
   "cell_type": "code",
   "execution_count": 9,
   "metadata": {},
   "outputs": [
    {
     "name": "stdout",
     "output_type": "stream",
     "text": [
      "\n",
      "\u001b[1mДатафрейм - \"Регион №1\"\u001b[0m\n",
      "Средний запас предсказанного сырья в датафрейме составил - 92.448\n",
      "RMSE - 37.68\n",
      "MAE - 31.04\n",
      "Коэффициент детерминации - 0.27321\n",
      "\n",
      "\u001b[1mДатафрейм - \"Регион №2\"\u001b[0m\n",
      "Средний запас предсказанного сырья в датафрейме составил - 68.712\n",
      "RMSE - 0.893\n",
      "MAE - 0.72\n",
      "Коэффициент детерминации - 0.99962\n",
      "\n",
      "\u001b[1mДатафрейм - \"Регион №3\"\u001b[0m\n",
      "Средний запас предсказанного сырья в датафрейме составил - 95.055\n",
      "RMSE - 39.954\n",
      "MAE - 32.724\n",
      "Коэффициент детерминации - 0.20391\n"
     ]
    }
   ],
   "source": [
    "parametrs = {'fit_intercept':('True', 'False'), \n",
    "             'normalize':('True', 'False'), \n",
    "             'copy_X':('True', 'False')}\n",
    "results_list = []\n",
    "mean_results_list = []\n",
    "for i in range(len(x_train_list)):\n",
    "    \n",
    "    model_name = LinearRegression()\n",
    "    \n",
    "    grid = GridSearchCV(model_name, parametrs, cv = 5)\n",
    "    grid.fit(x_train_list[i], y_train_list[i])\n",
    "\n",
    "    model = LinearRegression(**grid.best_params_)\n",
    "    \n",
    "    model.fit(x_train_list[i], y_train_list[i])\n",
    "    \n",
    "    model_train_predictions = model.predict(x_train_list[i])\n",
    "    model_valid_predictions = model.predict(x_valid_list[i])\n",
    "    \n",
    "    results_list.append(model_valid_predictions)\n",
    "    mean_results_list.append(round(sum(results_list[i]) / len(results_list[i]), 3))\n",
    "    rmse = mean_squared_error(y_valid_list[i], model_valid_predictions) ** 0.5\n",
    "    mae = mean_absolute_error(y_valid_list[i], model_valid_predictions)\n",
    "    r2 = r2_score(y_valid_list[i], model_valid_predictions)\n",
    "    \n",
    "    print('')\n",
    "    print('\\033[1m' + 'Датафрейм -', name_df_list[i] + '\\033[0m')\n",
    "    print('Средний запас предсказанного сырья в датафрейме составил -', mean_results_list[i])\n",
    "    print('RMSE -', round(rmse, 3))\n",
    "    print('MAE -', round(mae, 3))\n",
    "    print('Коэффициент детерминации -', round(r2, 5))"
   ]
  },
  {
   "cell_type": "markdown",
   "metadata": {},
   "source": [
    "Исходя из полученных результатов, наблюдаем что наибольшие средние предсказанные запасы сырья находятся в регионах №1 и №3, однако в них наиболее высоки значения RMSE и MAE и низкий коэффициент детерминации - что в свою очередь, означает что связи между признаками и целевым признаком недостаточно существенны. В регионе №2 наиболее низкий средний предсказанный запас сырья, однако практически максимальный коэффициент детерминации (0.999), что указывает на полную взаимосвязь между признаками и целевым признаком, и наиболее низкие показатели RMSE и MAE."
   ]
  },
  {
   "cell_type": "markdown",
   "metadata": {},
   "source": [
    "# 3. Подготовка к расчёту прибыли\n",
    "\n",
    "**Для начала внесем необходимые для нас константы:**\n",
    " - BUDGET - бюджет на разработку скважин в регионе — 10 млрд рублей.\n",
    " - OILWELLS - 200 лучших месторождений при разведке региона\n",
    " - BUDGET_PER_OILWELL - бюджет на разработку одного месторождения\n",
    " - PROFIT_PER_PRODUCT - прибыль с одной единицы продукта - 450 тыс. руб.\n",
    " - MAX_RISK_PROB - вероятность убытков, не более 2.5%\n",
    " - MLRD - числовое значение миллиадра для удобства расчетов."
   ]
  },
  {
   "cell_type": "code",
   "execution_count": 10,
   "metadata": {},
   "outputs": [],
   "source": [
    "BUDGET = 10**10\n",
    "OILWELLS = 200\n",
    "BUDGET_PER_OILWELL = BUDGET / OILWELLS\n",
    "PROFIT_PER_PRODUCT = 450000\n",
    "MAX_RISK_PROB = 0.025\n",
    "MLRD = 1000000000"
   ]
  },
  {
   "cell_type": "markdown",
   "metadata": {},
   "source": [
    "Теперь рассчитаем объем сырья для безубыточности разработки новой скважины, и выведем его на экран. \n",
    "После этого также выведем на экран средний истинный объем сырья, средний предполагаемый объем сырья, абсолютные отклонения между средним истинным объемом сырья и объемом сырья для безубыточности, и между средним предполагаемым объемом сырья и объемом сырья для безубыточности по каждому региону."
   ]
  },
  {
   "cell_type": "code",
   "execution_count": 11,
   "metadata": {},
   "outputs": [
    {
     "name": "stdout",
     "output_type": "stream",
     "text": [
      "Объем сырья для безубыточности разработки новой скважины = 111.11\n",
      "\n",
      "\n",
      "\u001b[1m\"Регион №1\"\u001b[0m\n",
      "Средний истинный объем сырья = 92.5\n",
      "Абсолютное отклонение = -18.61\n",
      "\n",
      "Средний предполагаемый объем сырья = 92.448\n",
      "Абсолютное отклонение = -18.662\n",
      "\n",
      "\n",
      "\u001b[1m\"Регион №2\"\u001b[0m\n",
      "Средний истинный объем сырья = 68.825\n",
      "Абсолютное отклонение = -42.285\n",
      "\n",
      "Средний предполагаемый объем сырья = 68.712\n",
      "Абсолютное отклонение = -42.398\n",
      "\n",
      "\n",
      "\u001b[1m\"Регион №3\"\u001b[0m\n",
      "Средний истинный объем сырья = 95.0\n",
      "Абсолютное отклонение = -16.11\n",
      "\n",
      "Средний предполагаемый объем сырья = 95.055\n",
      "Абсолютное отклонение = -16.055\n"
     ]
    }
   ],
   "source": [
    "BREAKEVEN_POINT = round(BUDGET_PER_OILWELL / PROFIT_PER_PRODUCT, 2)\n",
    "print('Объем сырья для безубыточности разработки новой скважины =', BREAKEVEN_POINT)\n",
    "for i in range(len(mean_results_list)):\n",
    "    print(\"\")\n",
    "    print(\"\")\n",
    "    print('\\033[1m' + name_df_list[i] + '\\033[0m')\n",
    "    print('Средний истинный объем сырья =', round(y_tar_list[i].mean(), 3))\n",
    "    print('Абсолютное отклонение =', round(y_tar_list[i].mean() - BREAKEVEN_POINT, 3))\n",
    "    print('')\n",
    "    print('Средний предполагаемый объем сырья =', round(mean_results_list[i], 3))\n",
    "    print('Абсолютное отклонение =', round(mean_results_list[i] - BREAKEVEN_POINT, 3))"
   ]
  },
  {
   "cell_type": "markdown",
   "metadata": {},
   "source": [
    "Видим что по средним значениям ни один регион не подходит для разработки, отклонения наблюдаются в разбросе от 14 до 40%. Однако, в дальнейшем, мы будем исследовать лишь 200 наиболее прибыльных месторождений в каждом регионе.\n",
    "\n",
    "Подготовка к расчету прибыли завершена, переходим непосредственно к самому расчету прибыли и рисков."
   ]
  },
  {
   "cell_type": "markdown",
   "metadata": {},
   "source": [
    "# 4. Расчёт прибыли и рисков "
   ]
  },
  {
   "cell_type": "markdown",
   "metadata": {},
   "source": [
    "Для расчета прибыли и рисков, напишем функцию которая на входе будет получать переменную purpose для уточнения использования функции, и непосредственный датафрейм. На выходе функция либо выведет на экран итоговую прибыль по 200 наиболее прибыльным месторождениям в регионе, либо подготовит рассчитаную прибыль для использования её в методе Bootstrap."
   ]
  },
  {
   "cell_type": "code",
   "execution_count": 12,
   "metadata": {},
   "outputs": [],
   "source": [
    "def profit_calc(purpose, data):\n",
    "    if purpose == 'Расчет прибыли':\n",
    "        for i in range(len(df_list)):\n",
    "            top200 = pd.DataFrame(data[i], columns = ['predicted_results']).reset_index(drop = True)\n",
    "            top200 = top200.sort_values(by = 'predicted_results', ascending = False)[:OILWELLS]\n",
    "            profit = ((top200.sum() * PROFIT_PER_PRODUCT) - BUDGET) / MLRD\n",
    "            print('')\n",
    "            print('\\033[1m' + 'Наименование региона -', name_df_list[i]+ '\\033[0m')\n",
    "            print('Итоговая прибыль -', round(profit[0], 3), 'в млрд. руб.')\n",
    "    elif purpose == 'Bootstrap':\n",
    "        profit = ((data.sum() * PROFIT_PER_PRODUCT) - BUDGET) / MLRD\n",
    "        return profit"
   ]
  },
  {
   "cell_type": "markdown",
   "metadata": {},
   "source": [
    "Функция готова к применению, используем её."
   ]
  },
  {
   "cell_type": "code",
   "execution_count": 13,
   "metadata": {},
   "outputs": [
    {
     "name": "stdout",
     "output_type": "stream",
     "text": [
      "\n",
      "\u001b[1mНаименование региона - \"Регион №1\"\u001b[0m\n",
      "Итоговая прибыль - 3.934 в млрд. руб.\n",
      "\n",
      "\u001b[1mНаименование региона - \"Регион №2\"\u001b[0m\n",
      "Итоговая прибыль - 2.485 в млрд. руб.\n",
      "\n",
      "\u001b[1mНаименование региона - \"Регион №3\"\u001b[0m\n",
      "Итоговая прибыль - 3.392 в млрд. руб.\n"
     ]
    }
   ],
   "source": [
    "profit_calc('Расчет прибыли', results_list)"
   ]
  },
  {
   "cell_type": "markdown",
   "metadata": {},
   "source": [
    "Видим, что как и наблюдалось ранее - первый и третий регион наиболее прибыльны. Однако нам уже известны по какой причине они являются прибыльными, теперь же проверим их эффективность с помощью метода Bootstrap. После этого выведем на экран по каждому региону границы 95% доверительного интервала, среднюю прибыль, и риск убытков в %."
   ]
  },
  {
   "cell_type": "code",
   "execution_count": 24,
   "metadata": {},
   "outputs": [
    {
     "name": "stdout",
     "output_type": "stream",
     "text": [
      "\u001b[1mНаименование региона: \"Регион №1\"\u001b[0m\n",
      "Нижняя граница доверительного интервала: 0.3597 млрд. руб.\n",
      "Верхняя граница доверительного интервала: 0.3922 млрд. руб.\n",
      "Средняя прибыль: 0.3760 млрд. руб.\n",
      "Риск убытков: 7.80%.\n",
      "\n",
      "\u001b[1mНаименование региона: \"Регион №2\"\u001b[0m\n",
      "Нижняя граница доверительного интервала: 0.4394 млрд. руб.\n",
      "Верхняя граница доверительного интервала: 0.4652 млрд. руб.\n",
      "Средняя прибыль: 0.4523 млрд. руб.\n",
      "Риск убытков: 1.50%.\n",
      "\n",
      "\u001b[1mНаименование региона: \"Регион №3\"\u001b[0m\n",
      "Нижняя граница доверительного интервала: 0.3983 млрд. руб.\n",
      "Верхняя граница доверительного интервала: 0.4322 млрд. руб.\n",
      "Средняя прибыль: 0.4153 млрд. руб.\n",
      "Риск убытков: 6.00%.\n",
      "\n"
     ]
    }
   ],
   "source": [
    "state = np.random.RandomState(12345)\n",
    "\n",
    "for j in range(len(y_valid_list)):\n",
    "    values = []\n",
    "    \n",
    "    subsample = pd.Series(y_valid_list[j]) \n",
    "    \n",
    "    for i in range(1000):\n",
    "        predicted_top200 = pd.DataFrame(results_list[j], columns = ['product']).reset_index(drop = True)\n",
    "        predicted_top200 = predicted_top200.sample(n=500, replace=True, random_state=state)\n",
    "        predicted_top200 = predicted_top200.sort_values(by = 'product', ascending = False)\n",
    "        \n",
    "        subsample = pd.Series(y_valid_list[j]).reset_index(drop = True)\n",
    "        subsample = subsample[predicted_top200.index][:OILWELLS]\n",
    "        \n",
    "        values.append(profit_calc('Bootstrap', subsample))\n",
    "    \n",
    "    values = pd.Series(values)    \n",
    "    confidence_interval = st.t.interval(0.95, len(values)-1, values.mean(), values.sem())\n",
    "    mean = values.mean()\n",
    "    risk = (values < 0).mean()\n",
    "    \n",
    "    print('\\033[1m' + 'Наименование региона: ' + name_df_list[j] + '\\033[0m')\n",
    "    print(\"Нижняя граница доверительного интервала: {:,.4f} млрд. руб.\".format(confidence_interval[0]))\n",
    "    print(\"Верхняя граница доверительного интервала: {:,.4f} млрд. руб.\".format(confidence_interval[1]))\n",
    "    print(\"Средняя прибыль: {:,.4f} млрд. руб.\".format(mean))\n",
    "    print(\"Риск убытков: {:,.2%}.\".format(risk))\n",
    "    print('')"
   ]
  },
  {
   "cell_type": "markdown",
   "metadata": {},
   "source": [
    "Теперь же мы наблюдаем совершенно иные результаты - регион №2 имеет как наибольшую прибыль, так и наибольший доверительный интервал с наименьшими рисками убытков всего в 0.7%. Регион №1 и регион №3 по размерам прибыли являются оптимальными для разработки, однако риски убытков в этих регионах свыше 5.5%, что не допустимо для наших условий.\n",
    "\n",
    "# Итоговый вывод:\n",
    "\n",
    "Предварительно обработав данные, разбив их на обучающие и валидационные выборки, проведя построение модели линейной регрессии на полученных выборках, рассчитаев метрики для полученных моделей и получив доверительные интервалы и среднюю прибыль по каждому региону, можем сделать следующий вывод:\n",
    "\n",
    "- **Наиболее прибыльным регионом является регион №2**, т.к. в нем наиболее высокая средняя прибыль, максимальный коэффициент детерминации (что свидетельствует о наличии высокой взаимосвязи между признаками и целевым признаком), с наименьшими рисками убытков (0.7%).\n",
    "- Регионы №1 и №3 не рекомендуются к разработке за счет низкого значения коэффициента детерминации, сниженного объема прибыли и повышенных рисков убытков в 5.5-7%. "
   ]
  }
 ],
 "metadata": {
  "kernelspec": {
   "display_name": "Python 3 (ipykernel)",
   "language": "python",
   "name": "python3"
  },
  "language_info": {
   "codemirror_mode": {
    "name": "ipython",
    "version": 3
   },
   "file_extension": ".py",
   "mimetype": "text/x-python",
   "name": "python",
   "nbconvert_exporter": "python",
   "pygments_lexer": "ipython3",
   "version": "3.9.5"
  },
  "toc": {
   "base_numbering": 1,
   "nav_menu": {},
   "number_sections": false,
   "sideBar": true,
   "skip_h1_title": false,
   "title_cell": "Table of Contents",
   "title_sidebar": "Contents",
   "toc_cell": false,
   "toc_position": {
    "height": "calc(100% - 180px)",
    "left": "10px",
    "top": "150px",
    "width": "165px"
   },
   "toc_section_display": true,
   "toc_window_display": true
  }
 },
 "nbformat": 4,
 "nbformat_minor": 2
}
