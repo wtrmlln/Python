{
 "cells": [
  {
   "cell_type": "markdown",
   "metadata": {},
   "source": [
    "# Исследование надёжности заёмщиков\n",
    "\n",
    "Заказчик — кредитный отдел банка. Нужно разобраться, влияет ли семейное положение и количество детей клиента на факт погашения кредита в срок. Входные данные от банка — статистика о платёжеспособности клиентов.\n",
    "\n",
    "Результаты исследования будут учтены при построении модели **кредитного скоринга** — специальной системы, которая оценивает способность потенциального заёмщика вернуть кредит банку."
   ]
  },
  {
   "cell_type": "markdown",
   "metadata": {},
   "source": [
    "## Изучение общей информации\n",
    "\n",
    "\n",
    "### Описание данных: \n",
    "<br> 1. children — количество детей в семье\n",
    "<br> 2. days_employed — общий трудовой стаж в днях\n",
    "<br> 3. dob_years — возраст клиента в годах\n",
    "<br> 4. education — уровень образования клиента\n",
    "<br> 5. education_id — идентификатор уровня образования\n",
    "<br> 6. family_status — семейное положение\n",
    "<br> 7. family_status_id — идентификатор семейного положения\n",
    "<br> 8. gender — пол клиента\n",
    "<br> 9. income_type — тип занятости\n",
    "<br> 10. debt — имел ли задолженность по возврату кредитов\n",
    "<br> 11. total_income — ежемесячный доход\n",
    "<br> 12. purpose — цель получения кредита"
   ]
  },
  {
   "cell_type": "markdown",
   "metadata": {},
   "source": [
    "### Подключение библиотек:"
   ]
  },
  {
   "cell_type": "code",
   "execution_count": 2,
   "metadata": {},
   "outputs": [],
   "source": [
    "import pandas as pd\n",
    "import math\n",
    "from IPython.display import display\n",
    "from pymystem3 import Mystem\n",
    "from collections import Counter"
   ]
  },
  {
   "cell_type": "markdown",
   "metadata": {},
   "source": [
    "### Изучение общей информации:"
   ]
  },
  {
   "cell_type": "code",
   "execution_count": 2,
   "metadata": {},
   "outputs": [
    {
     "data": {
      "text/html": [
       "<div>\n",
       "<style scoped>\n",
       "    .dataframe tbody tr th:only-of-type {\n",
       "        vertical-align: middle;\n",
       "    }\n",
       "\n",
       "    .dataframe tbody tr th {\n",
       "        vertical-align: top;\n",
       "    }\n",
       "\n",
       "    .dataframe thead th {\n",
       "        text-align: right;\n",
       "    }\n",
       "</style>\n",
       "<table border=\"1\" class=\"dataframe\">\n",
       "  <thead>\n",
       "    <tr style=\"text-align: right;\">\n",
       "      <th></th>\n",
       "      <th>children</th>\n",
       "      <th>days_employed</th>\n",
       "      <th>dob_years</th>\n",
       "      <th>education</th>\n",
       "      <th>education_id</th>\n",
       "      <th>family_status</th>\n",
       "      <th>family_status_id</th>\n",
       "      <th>gender</th>\n",
       "      <th>income_type</th>\n",
       "      <th>debt</th>\n",
       "      <th>total_income</th>\n",
       "      <th>purpose</th>\n",
       "    </tr>\n",
       "  </thead>\n",
       "  <tbody>\n",
       "    <tr>\n",
       "      <td>0</td>\n",
       "      <td>1</td>\n",
       "      <td>-8437.673028</td>\n",
       "      <td>42</td>\n",
       "      <td>высшее</td>\n",
       "      <td>0</td>\n",
       "      <td>женат / замужем</td>\n",
       "      <td>0</td>\n",
       "      <td>F</td>\n",
       "      <td>сотрудник</td>\n",
       "      <td>0</td>\n",
       "      <td>253875.639453</td>\n",
       "      <td>покупка жилья</td>\n",
       "    </tr>\n",
       "    <tr>\n",
       "      <td>1</td>\n",
       "      <td>1</td>\n",
       "      <td>-4024.803754</td>\n",
       "      <td>36</td>\n",
       "      <td>среднее</td>\n",
       "      <td>1</td>\n",
       "      <td>женат / замужем</td>\n",
       "      <td>0</td>\n",
       "      <td>F</td>\n",
       "      <td>сотрудник</td>\n",
       "      <td>0</td>\n",
       "      <td>112080.014102</td>\n",
       "      <td>приобретение автомобиля</td>\n",
       "    </tr>\n",
       "    <tr>\n",
       "      <td>2</td>\n",
       "      <td>0</td>\n",
       "      <td>-5623.422610</td>\n",
       "      <td>33</td>\n",
       "      <td>Среднее</td>\n",
       "      <td>1</td>\n",
       "      <td>женат / замужем</td>\n",
       "      <td>0</td>\n",
       "      <td>M</td>\n",
       "      <td>сотрудник</td>\n",
       "      <td>0</td>\n",
       "      <td>145885.952297</td>\n",
       "      <td>покупка жилья</td>\n",
       "    </tr>\n",
       "    <tr>\n",
       "      <td>3</td>\n",
       "      <td>3</td>\n",
       "      <td>-4124.747207</td>\n",
       "      <td>32</td>\n",
       "      <td>среднее</td>\n",
       "      <td>1</td>\n",
       "      <td>женат / замужем</td>\n",
       "      <td>0</td>\n",
       "      <td>M</td>\n",
       "      <td>сотрудник</td>\n",
       "      <td>0</td>\n",
       "      <td>267628.550329</td>\n",
       "      <td>дополнительное образование</td>\n",
       "    </tr>\n",
       "    <tr>\n",
       "      <td>4</td>\n",
       "      <td>0</td>\n",
       "      <td>340266.072047</td>\n",
       "      <td>53</td>\n",
       "      <td>среднее</td>\n",
       "      <td>1</td>\n",
       "      <td>гражданский брак</td>\n",
       "      <td>1</td>\n",
       "      <td>F</td>\n",
       "      <td>пенсионер</td>\n",
       "      <td>0</td>\n",
       "      <td>158616.077870</td>\n",
       "      <td>сыграть свадьбу</td>\n",
       "    </tr>\n",
       "    <tr>\n",
       "      <td>5</td>\n",
       "      <td>0</td>\n",
       "      <td>-926.185831</td>\n",
       "      <td>27</td>\n",
       "      <td>высшее</td>\n",
       "      <td>0</td>\n",
       "      <td>гражданский брак</td>\n",
       "      <td>1</td>\n",
       "      <td>M</td>\n",
       "      <td>компаньон</td>\n",
       "      <td>0</td>\n",
       "      <td>255763.565419</td>\n",
       "      <td>покупка жилья</td>\n",
       "    </tr>\n",
       "    <tr>\n",
       "      <td>6</td>\n",
       "      <td>0</td>\n",
       "      <td>-2879.202052</td>\n",
       "      <td>43</td>\n",
       "      <td>высшее</td>\n",
       "      <td>0</td>\n",
       "      <td>женат / замужем</td>\n",
       "      <td>0</td>\n",
       "      <td>F</td>\n",
       "      <td>компаньон</td>\n",
       "      <td>0</td>\n",
       "      <td>240525.971920</td>\n",
       "      <td>операции с жильем</td>\n",
       "    </tr>\n",
       "    <tr>\n",
       "      <td>7</td>\n",
       "      <td>0</td>\n",
       "      <td>-152.779569</td>\n",
       "      <td>50</td>\n",
       "      <td>СРЕДНЕЕ</td>\n",
       "      <td>1</td>\n",
       "      <td>женат / замужем</td>\n",
       "      <td>0</td>\n",
       "      <td>M</td>\n",
       "      <td>сотрудник</td>\n",
       "      <td>0</td>\n",
       "      <td>135823.934197</td>\n",
       "      <td>образование</td>\n",
       "    </tr>\n",
       "    <tr>\n",
       "      <td>8</td>\n",
       "      <td>2</td>\n",
       "      <td>-6929.865299</td>\n",
       "      <td>35</td>\n",
       "      <td>ВЫСШЕЕ</td>\n",
       "      <td>0</td>\n",
       "      <td>гражданский брак</td>\n",
       "      <td>1</td>\n",
       "      <td>F</td>\n",
       "      <td>сотрудник</td>\n",
       "      <td>0</td>\n",
       "      <td>95856.832424</td>\n",
       "      <td>на проведение свадьбы</td>\n",
       "    </tr>\n",
       "    <tr>\n",
       "      <td>9</td>\n",
       "      <td>0</td>\n",
       "      <td>-2188.756445</td>\n",
       "      <td>41</td>\n",
       "      <td>среднее</td>\n",
       "      <td>1</td>\n",
       "      <td>женат / замужем</td>\n",
       "      <td>0</td>\n",
       "      <td>M</td>\n",
       "      <td>сотрудник</td>\n",
       "      <td>0</td>\n",
       "      <td>144425.938277</td>\n",
       "      <td>покупка жилья для семьи</td>\n",
       "    </tr>\n",
       "  </tbody>\n",
       "</table>\n",
       "</div>"
      ],
      "text/plain": [
       "   children  days_employed  dob_years education  education_id  \\\n",
       "0         1   -8437.673028         42    высшее             0   \n",
       "1         1   -4024.803754         36   среднее             1   \n",
       "2         0   -5623.422610         33   Среднее             1   \n",
       "3         3   -4124.747207         32   среднее             1   \n",
       "4         0  340266.072047         53   среднее             1   \n",
       "5         0    -926.185831         27    высшее             0   \n",
       "6         0   -2879.202052         43    высшее             0   \n",
       "7         0    -152.779569         50   СРЕДНЕЕ             1   \n",
       "8         2   -6929.865299         35    ВЫСШЕЕ             0   \n",
       "9         0   -2188.756445         41   среднее             1   \n",
       "\n",
       "      family_status  family_status_id gender income_type  debt   total_income  \\\n",
       "0   женат / замужем                 0      F   сотрудник     0  253875.639453   \n",
       "1   женат / замужем                 0      F   сотрудник     0  112080.014102   \n",
       "2   женат / замужем                 0      M   сотрудник     0  145885.952297   \n",
       "3   женат / замужем                 0      M   сотрудник     0  267628.550329   \n",
       "4  гражданский брак                 1      F   пенсионер     0  158616.077870   \n",
       "5  гражданский брак                 1      M   компаньон     0  255763.565419   \n",
       "6   женат / замужем                 0      F   компаньон     0  240525.971920   \n",
       "7   женат / замужем                 0      M   сотрудник     0  135823.934197   \n",
       "8  гражданский брак                 1      F   сотрудник     0   95856.832424   \n",
       "9   женат / замужем                 0      M   сотрудник     0  144425.938277   \n",
       "\n",
       "                      purpose  \n",
       "0               покупка жилья  \n",
       "1     приобретение автомобиля  \n",
       "2               покупка жилья  \n",
       "3  дополнительное образование  \n",
       "4             сыграть свадьбу  \n",
       "5               покупка жилья  \n",
       "6           операции с жильем  \n",
       "7                 образование  \n",
       "8       на проведение свадьбы  \n",
       "9     покупка жилья для семьи  "
      ]
     },
     "metadata": {},
     "output_type": "display_data"
    }
   ],
   "source": [
    "# Загрузим датастет и взглянем на его первые 10 строк\n",
    "df = pd.read_csv('/datasets/data.csv')\n",
    "display(df.head(10))"
   ]
  },
  {
   "cell_type": "markdown",
   "metadata": {},
   "source": [
    "Уже можно заметить следующие аномалии:\n",
    "1. Отрицательный стаж работы\n",
    "2. Разный регистр в столбце 'education'\n",
    "3. Формат данных в столбцах 'days_employed' и 'total_income' float64 (нужно исправить на int)"
   ]
  },
  {
   "cell_type": "code",
   "execution_count": 3,
   "metadata": {},
   "outputs": [
    {
     "name": "stdout",
     "output_type": "stream",
     "text": [
      "<class 'pandas.core.frame.DataFrame'>\n",
      "RangeIndex: 21525 entries, 0 to 21524\n",
      "Data columns (total 12 columns):\n",
      "children            21525 non-null int64\n",
      "days_employed       19351 non-null float64\n",
      "dob_years           21525 non-null int64\n",
      "education           21525 non-null object\n",
      "education_id        21525 non-null int64\n",
      "family_status       21525 non-null object\n",
      "family_status_id    21525 non-null int64\n",
      "gender              21525 non-null object\n",
      "income_type         21525 non-null object\n",
      "debt                21525 non-null int64\n",
      "total_income        19351 non-null float64\n",
      "purpose             21525 non-null object\n",
      "dtypes: float64(2), int64(5), object(5)\n",
      "memory usage: 2.0+ MB\n"
     ]
    }
   ],
   "source": [
    "# Взглянем на общую информацию о таблице:\n",
    "df.info()"
   ]
  },
  {
   "cell_type": "markdown",
   "metadata": {},
   "source": [
    "Видим, что есть пропуски в столбцах 'days_employed' и 'total_income'. \n",
    "В дальнейшем нужно будет проверить, находятся ли они в одних и тех же строках.\n",
    "А пока что взглянем на основные стат. данные по нашему датасету:"
   ]
  },
  {
   "cell_type": "code",
   "execution_count": 4,
   "metadata": {
    "scrolled": false
   },
   "outputs": [
    {
     "data": {
      "text/html": [
       "<div>\n",
       "<style scoped>\n",
       "    .dataframe tbody tr th:only-of-type {\n",
       "        vertical-align: middle;\n",
       "    }\n",
       "\n",
       "    .dataframe tbody tr th {\n",
       "        vertical-align: top;\n",
       "    }\n",
       "\n",
       "    .dataframe thead th {\n",
       "        text-align: right;\n",
       "    }\n",
       "</style>\n",
       "<table border=\"1\" class=\"dataframe\">\n",
       "  <thead>\n",
       "    <tr style=\"text-align: right;\">\n",
       "      <th></th>\n",
       "      <th>children</th>\n",
       "      <th>days_employed</th>\n",
       "      <th>dob_years</th>\n",
       "      <th>education_id</th>\n",
       "      <th>family_status_id</th>\n",
       "      <th>debt</th>\n",
       "      <th>total_income</th>\n",
       "    </tr>\n",
       "  </thead>\n",
       "  <tbody>\n",
       "    <tr>\n",
       "      <td>count</td>\n",
       "      <td>21525.000000</td>\n",
       "      <td>19351.000000</td>\n",
       "      <td>21525.000000</td>\n",
       "      <td>21525.000000</td>\n",
       "      <td>21525.000000</td>\n",
       "      <td>21525.000000</td>\n",
       "      <td>1.935100e+04</td>\n",
       "    </tr>\n",
       "    <tr>\n",
       "      <td>mean</td>\n",
       "      <td>0.538908</td>\n",
       "      <td>63046.497661</td>\n",
       "      <td>43.293380</td>\n",
       "      <td>0.817236</td>\n",
       "      <td>0.972544</td>\n",
       "      <td>0.080883</td>\n",
       "      <td>1.674223e+05</td>\n",
       "    </tr>\n",
       "    <tr>\n",
       "      <td>std</td>\n",
       "      <td>1.381587</td>\n",
       "      <td>140827.311974</td>\n",
       "      <td>12.574584</td>\n",
       "      <td>0.548138</td>\n",
       "      <td>1.420324</td>\n",
       "      <td>0.272661</td>\n",
       "      <td>1.029716e+05</td>\n",
       "    </tr>\n",
       "    <tr>\n",
       "      <td>min</td>\n",
       "      <td>-1.000000</td>\n",
       "      <td>-18388.949901</td>\n",
       "      <td>0.000000</td>\n",
       "      <td>0.000000</td>\n",
       "      <td>0.000000</td>\n",
       "      <td>0.000000</td>\n",
       "      <td>2.066726e+04</td>\n",
       "    </tr>\n",
       "    <tr>\n",
       "      <td>25%</td>\n",
       "      <td>0.000000</td>\n",
       "      <td>-2747.423625</td>\n",
       "      <td>33.000000</td>\n",
       "      <td>1.000000</td>\n",
       "      <td>0.000000</td>\n",
       "      <td>0.000000</td>\n",
       "      <td>1.030532e+05</td>\n",
       "    </tr>\n",
       "    <tr>\n",
       "      <td>50%</td>\n",
       "      <td>0.000000</td>\n",
       "      <td>-1203.369529</td>\n",
       "      <td>42.000000</td>\n",
       "      <td>1.000000</td>\n",
       "      <td>0.000000</td>\n",
       "      <td>0.000000</td>\n",
       "      <td>1.450179e+05</td>\n",
       "    </tr>\n",
       "    <tr>\n",
       "      <td>75%</td>\n",
       "      <td>1.000000</td>\n",
       "      <td>-291.095954</td>\n",
       "      <td>53.000000</td>\n",
       "      <td>1.000000</td>\n",
       "      <td>1.000000</td>\n",
       "      <td>0.000000</td>\n",
       "      <td>2.034351e+05</td>\n",
       "    </tr>\n",
       "    <tr>\n",
       "      <td>max</td>\n",
       "      <td>20.000000</td>\n",
       "      <td>401755.400475</td>\n",
       "      <td>75.000000</td>\n",
       "      <td>4.000000</td>\n",
       "      <td>4.000000</td>\n",
       "      <td>1.000000</td>\n",
       "      <td>2.265604e+06</td>\n",
       "    </tr>\n",
       "  </tbody>\n",
       "</table>\n",
       "</div>"
      ],
      "text/plain": [
       "           children  days_employed     dob_years  education_id  \\\n",
       "count  21525.000000   19351.000000  21525.000000  21525.000000   \n",
       "mean       0.538908   63046.497661     43.293380      0.817236   \n",
       "std        1.381587  140827.311974     12.574584      0.548138   \n",
       "min       -1.000000  -18388.949901      0.000000      0.000000   \n",
       "25%        0.000000   -2747.423625     33.000000      1.000000   \n",
       "50%        0.000000   -1203.369529     42.000000      1.000000   \n",
       "75%        1.000000    -291.095954     53.000000      1.000000   \n",
       "max       20.000000  401755.400475     75.000000      4.000000   \n",
       "\n",
       "       family_status_id          debt  total_income  \n",
       "count      21525.000000  21525.000000  1.935100e+04  \n",
       "mean           0.972544      0.080883  1.674223e+05  \n",
       "std            1.420324      0.272661  1.029716e+05  \n",
       "min            0.000000      0.000000  2.066726e+04  \n",
       "25%            0.000000      0.000000  1.030532e+05  \n",
       "50%            0.000000      0.000000  1.450179e+05  \n",
       "75%            1.000000      0.000000  2.034351e+05  \n",
       "max            4.000000      1.000000  2.265604e+06  "
      ]
     },
     "execution_count": 4,
     "metadata": {},
     "output_type": "execute_result"
    }
   ],
   "source": [
    "df.describe()"
   ]
  },
  {
   "cell_type": "markdown",
   "metadata": {},
   "source": [
    "**Вывод:**\n",
    "\n",
    "Видим следующие аномалии:\n",
    "1. Минимальное значение в столбце 'children' = -1\n",
    "2. Максимальное значение в столбце 'children' = 20\n",
    "3. Среднее значение стажа работы, переведенное в года = 172 года\n",
    "4. Отрицательные значения стажа работы\n",
    "5. Минимальное значение возраста = 0 лет\n",
    "6. Нечитабельные значения 'total_income' из-за формата float"
   ]
  },
  {
   "cell_type": "markdown",
   "metadata": {},
   "source": [
    "##  Предобработка данных\n",
    "\n",
    "### Обработка пропусков\n",
    "\n",
    "Начнем с проверки гипотезы: действительно ли пропуски в days_employed и total_income находятся в одной строке:"
   ]
  },
  {
   "cell_type": "code",
   "execution_count": 5,
   "metadata": {},
   "outputs": [
    {
     "name": "stdout",
     "output_type": "stream",
     "text": [
      "<class 'pandas.core.frame.DataFrame'>\n",
      "Int64Index: 2174 entries, 12 to 21510\n",
      "Data columns (total 12 columns):\n",
      "children            2174 non-null int64\n",
      "days_employed       0 non-null float64\n",
      "dob_years           2174 non-null int64\n",
      "education           2174 non-null object\n",
      "education_id        2174 non-null int64\n",
      "family_status       2174 non-null object\n",
      "family_status_id    2174 non-null int64\n",
      "gender              2174 non-null object\n",
      "income_type         2174 non-null object\n",
      "debt                2174 non-null int64\n",
      "total_income        0 non-null float64\n",
      "purpose             2174 non-null object\n",
      "dtypes: float64(2), int64(5), object(5)\n",
      "memory usage: 220.8+ KB\n",
      "None\n"
     ]
    }
   ],
   "source": [
    "data_gaps = df.loc[(df['days_employed'].isna() == True) & (df['total_income'].isna() == True)]\n",
    "\n",
    "print(data_gaps.info())"
   ]
  },
  {
   "cell_type": "markdown",
   "metadata": {},
   "source": [
    "<br> Действительно пропуски в days_employed и total_income находятся в одних и тех же строках.\n",
    "<br> Для заполнения данных пропусков, необходимо будет в первую очередь заменить отрицательные значения на положительные, и после этого рассчитать среднее значение для days_employed и медиану для total_income.\n",
    "\n",
    "<br> Для заполнения данных пропусков, будем действовать по следующему алгоритму:\n",
    "<br>  1. Заменим отрицательные значения на положительные.\n",
    "<br>  2. Отбросим невозможные значения стажа работы, за максимально возможное значение будем использовать \"более 60 лет\" (например, человек работает с 14 лет, с выходом на пенсию в 70 лет, ± 4 года на различные жизненные обстоятельства).\n",
    "<br>  3. После этого напишем функцию, которая установит числовой идентификатор (1 - подходит, 0 - не подходит), опираясь на пороговое значение."
   ]
  },
  {
   "cell_type": "code",
   "execution_count": 6,
   "metadata": {},
   "outputs": [
    {
     "name": "stdout",
     "output_type": "stream",
     "text": [
      "<class 'pandas.core.frame.DataFrame'>\n",
      "Int64Index: 0 entries\n",
      "Data columns (total 12 columns):\n",
      "children            0 non-null int64\n",
      "days_employed       0 non-null float64\n",
      "dob_years           0 non-null int64\n",
      "education           0 non-null object\n",
      "education_id        0 non-null int64\n",
      "family_status       0 non-null object\n",
      "family_status_id    0 non-null int64\n",
      "gender              0 non-null object\n",
      "income_type         0 non-null object\n",
      "debt                0 non-null int64\n",
      "total_income        0 non-null float64\n",
      "purpose             0 non-null object\n",
      "dtypes: float64(2), int64(5), object(5)\n",
      "memory usage: 0.0+ bytes\n"
     ]
    },
    {
     "data": {
      "text/plain": [
       "None"
      ]
     },
     "metadata": {},
     "output_type": "display_data"
    }
   ],
   "source": [
    "# Заменим отрицательные значения в days_employed на положительные:\n",
    "\n",
    "def negative_to_positive(value):\n",
    "    if value < 0:\n",
    "        value *= -1\n",
    "        return value\n",
    "    else:\n",
    "        return value\n",
    "    \n",
    "df['days_employed'] = df['days_employed'].apply(negative_to_positive)\n",
    " \n",
    "# Проверим правильность выполнения  \n",
    "display(df[df['days_employed'] < 0].info())"
   ]
  },
  {
   "cell_type": "markdown",
   "metadata": {},
   "source": [
    "Отрицательные числа устранены, теперь можно переходить к расстановке идентификаторов для стажа работы:"
   ]
  },
  {
   "cell_type": "code",
   "execution_count": 7,
   "metadata": {},
   "outputs": [
    {
     "data": {
      "text/html": [
       "<div>\n",
       "<style scoped>\n",
       "    .dataframe tbody tr th:only-of-type {\n",
       "        vertical-align: middle;\n",
       "    }\n",
       "\n",
       "    .dataframe tbody tr th {\n",
       "        vertical-align: top;\n",
       "    }\n",
       "\n",
       "    .dataframe thead th {\n",
       "        text-align: right;\n",
       "    }\n",
       "</style>\n",
       "<table border=\"1\" class=\"dataframe\">\n",
       "  <thead>\n",
       "    <tr style=\"text-align: right;\">\n",
       "      <th></th>\n",
       "      <th>children</th>\n",
       "      <th>days_employed</th>\n",
       "      <th>dob_years</th>\n",
       "      <th>education</th>\n",
       "      <th>education_id</th>\n",
       "      <th>family_status</th>\n",
       "      <th>family_status_id</th>\n",
       "      <th>gender</th>\n",
       "      <th>income_type</th>\n",
       "      <th>debt</th>\n",
       "      <th>total_income</th>\n",
       "      <th>purpose</th>\n",
       "      <th>years_employed_check</th>\n",
       "    </tr>\n",
       "  </thead>\n",
       "  <tbody>\n",
       "    <tr>\n",
       "      <td>0</td>\n",
       "      <td>1</td>\n",
       "      <td>8437.673028</td>\n",
       "      <td>42</td>\n",
       "      <td>высшее</td>\n",
       "      <td>0</td>\n",
       "      <td>женат / замужем</td>\n",
       "      <td>0</td>\n",
       "      <td>F</td>\n",
       "      <td>сотрудник</td>\n",
       "      <td>0</td>\n",
       "      <td>253875.639453</td>\n",
       "      <td>покупка жилья</td>\n",
       "      <td>1</td>\n",
       "    </tr>\n",
       "    <tr>\n",
       "      <td>1</td>\n",
       "      <td>1</td>\n",
       "      <td>4024.803754</td>\n",
       "      <td>36</td>\n",
       "      <td>среднее</td>\n",
       "      <td>1</td>\n",
       "      <td>женат / замужем</td>\n",
       "      <td>0</td>\n",
       "      <td>F</td>\n",
       "      <td>сотрудник</td>\n",
       "      <td>0</td>\n",
       "      <td>112080.014102</td>\n",
       "      <td>приобретение автомобиля</td>\n",
       "      <td>1</td>\n",
       "    </tr>\n",
       "    <tr>\n",
       "      <td>2</td>\n",
       "      <td>0</td>\n",
       "      <td>5623.422610</td>\n",
       "      <td>33</td>\n",
       "      <td>Среднее</td>\n",
       "      <td>1</td>\n",
       "      <td>женат / замужем</td>\n",
       "      <td>0</td>\n",
       "      <td>M</td>\n",
       "      <td>сотрудник</td>\n",
       "      <td>0</td>\n",
       "      <td>145885.952297</td>\n",
       "      <td>покупка жилья</td>\n",
       "      <td>1</td>\n",
       "    </tr>\n",
       "    <tr>\n",
       "      <td>3</td>\n",
       "      <td>3</td>\n",
       "      <td>4124.747207</td>\n",
       "      <td>32</td>\n",
       "      <td>среднее</td>\n",
       "      <td>1</td>\n",
       "      <td>женат / замужем</td>\n",
       "      <td>0</td>\n",
       "      <td>M</td>\n",
       "      <td>сотрудник</td>\n",
       "      <td>0</td>\n",
       "      <td>267628.550329</td>\n",
       "      <td>дополнительное образование</td>\n",
       "      <td>1</td>\n",
       "    </tr>\n",
       "    <tr>\n",
       "      <td>4</td>\n",
       "      <td>0</td>\n",
       "      <td>340266.072047</td>\n",
       "      <td>53</td>\n",
       "      <td>среднее</td>\n",
       "      <td>1</td>\n",
       "      <td>гражданский брак</td>\n",
       "      <td>1</td>\n",
       "      <td>F</td>\n",
       "      <td>пенсионер</td>\n",
       "      <td>0</td>\n",
       "      <td>158616.077870</td>\n",
       "      <td>сыграть свадьбу</td>\n",
       "      <td>0</td>\n",
       "    </tr>\n",
       "  </tbody>\n",
       "</table>\n",
       "</div>"
      ],
      "text/plain": [
       "   children  days_employed  dob_years education  education_id  \\\n",
       "0         1    8437.673028         42    высшее             0   \n",
       "1         1    4024.803754         36   среднее             1   \n",
       "2         0    5623.422610         33   Среднее             1   \n",
       "3         3    4124.747207         32   среднее             1   \n",
       "4         0  340266.072047         53   среднее             1   \n",
       "\n",
       "      family_status  family_status_id gender income_type  debt   total_income  \\\n",
       "0   женат / замужем                 0      F   сотрудник     0  253875.639453   \n",
       "1   женат / замужем                 0      F   сотрудник     0  112080.014102   \n",
       "2   женат / замужем                 0      M   сотрудник     0  145885.952297   \n",
       "3   женат / замужем                 0      M   сотрудник     0  267628.550329   \n",
       "4  гражданский брак                 1      F   пенсионер     0  158616.077870   \n",
       "\n",
       "                      purpose  years_employed_check  \n",
       "0               покупка жилья                     1  \n",
       "1     приобретение автомобиля                     1  \n",
       "2               покупка жилья                     1  \n",
       "3  дополнительное образование                     1  \n",
       "4             сыграть свадьбу                     0  "
      ]
     },
     "metadata": {},
     "output_type": "display_data"
    },
    {
     "data": {
      "text/plain": [
       "False    21525\n",
       "Name: years_employed_check, dtype: int64"
      ]
     },
     "metadata": {},
     "output_type": "display_data"
    }
   ],
   "source": [
    "def years_employed_check(days_employed):\n",
    "    try:\n",
    "        if days_employed == None or math.isnan(days_employed):\n",
    "            return 1\n",
    "        years_employed = math.floor(days_employed / 365)\n",
    "    except:\n",
    "        return 0\n",
    "    if years_employed <= 60:\n",
    "        return 1\n",
    "    else:\n",
    "        return 0\n",
    "\n",
    "# Применим функцию, и проверим правильность выполнения\n",
    "df['years_employed_check'] = df['days_employed'].apply(years_employed_check)\n",
    "display(df.head(5))\n",
    "display(df['years_employed_check'].isnull().value_counts())\n"
   ]
  },
  {
   "cell_type": "markdown",
   "metadata": {},
   "source": [
    "Вспомогательный столбик готов, приступим к заполнению пропусков:"
   ]
  },
  {
   "cell_type": "code",
   "execution_count": 8,
   "metadata": {
    "scrolled": false
   },
   "outputs": [
    {
     "name": "stdout",
     "output_type": "stream",
     "text": [
      "<class 'pandas.core.frame.DataFrame'>\n",
      "Int64Index: 18080 entries, 0 to 21524\n",
      "Data columns (total 13 columns):\n",
      "children                18080 non-null int64\n",
      "days_employed           15906 non-null float64\n",
      "dob_years               18080 non-null int64\n",
      "education               18080 non-null object\n",
      "education_id            18080 non-null int64\n",
      "family_status           18080 non-null object\n",
      "family_status_id        18080 non-null int64\n",
      "gender                  18080 non-null object\n",
      "income_type             18080 non-null object\n",
      "debt                    18080 non-null int64\n",
      "total_income            15906 non-null float64\n",
      "purpose                 18080 non-null object\n",
      "years_employed_check    18080 non-null int64\n",
      "dtypes: float64(2), int64(6), object(5)\n",
      "memory usage: 1.9+ MB\n",
      "None\n"
     ]
    },
    {
     "data": {
      "text/html": [
       "<div>\n",
       "<style scoped>\n",
       "    .dataframe tbody tr th:only-of-type {\n",
       "        vertical-align: middle;\n",
       "    }\n",
       "\n",
       "    .dataframe tbody tr th {\n",
       "        vertical-align: top;\n",
       "    }\n",
       "\n",
       "    .dataframe thead th {\n",
       "        text-align: right;\n",
       "    }\n",
       "</style>\n",
       "<table border=\"1\" class=\"dataframe\">\n",
       "  <thead>\n",
       "    <tr style=\"text-align: right;\">\n",
       "      <th></th>\n",
       "      <th>mean</th>\n",
       "    </tr>\n",
       "    <tr>\n",
       "      <th>dob_years</th>\n",
       "      <th></th>\n",
       "    </tr>\n",
       "  </thead>\n",
       "  <tbody>\n",
       "    <tr>\n",
       "      <td>0</td>\n",
       "      <td>2200.375775</td>\n",
       "    </tr>\n",
       "    <tr>\n",
       "      <td>19</td>\n",
       "      <td>633.678086</td>\n",
       "    </tr>\n",
       "    <tr>\n",
       "      <td>20</td>\n",
       "      <td>684.944308</td>\n",
       "    </tr>\n",
       "    <tr>\n",
       "      <td>21</td>\n",
       "      <td>709.440930</td>\n",
       "    </tr>\n",
       "    <tr>\n",
       "      <td>22</td>\n",
       "      <td>781.376775</td>\n",
       "    </tr>\n",
       "    <tr>\n",
       "      <td>23</td>\n",
       "      <td>827.309437</td>\n",
       "    </tr>\n",
       "    <tr>\n",
       "      <td>24</td>\n",
       "      <td>1026.405485</td>\n",
       "    </tr>\n",
       "    <tr>\n",
       "      <td>25</td>\n",
       "      <td>1088.406453</td>\n",
       "    </tr>\n",
       "    <tr>\n",
       "      <td>26</td>\n",
       "      <td>1200.288052</td>\n",
       "    </tr>\n",
       "    <tr>\n",
       "      <td>27</td>\n",
       "      <td>1358.153479</td>\n",
       "    </tr>\n",
       "    <tr>\n",
       "      <td>28</td>\n",
       "      <td>1397.672853</td>\n",
       "    </tr>\n",
       "    <tr>\n",
       "      <td>29</td>\n",
       "      <td>1553.823200</td>\n",
       "    </tr>\n",
       "    <tr>\n",
       "      <td>30</td>\n",
       "      <td>1696.039355</td>\n",
       "    </tr>\n",
       "    <tr>\n",
       "      <td>31</td>\n",
       "      <td>1652.717935</td>\n",
       "    </tr>\n",
       "    <tr>\n",
       "      <td>32</td>\n",
       "      <td>1735.782175</td>\n",
       "    </tr>\n",
       "    <tr>\n",
       "      <td>33</td>\n",
       "      <td>1868.655183</td>\n",
       "    </tr>\n",
       "    <tr>\n",
       "      <td>34</td>\n",
       "      <td>1983.724384</td>\n",
       "    </tr>\n",
       "    <tr>\n",
       "      <td>35</td>\n",
       "      <td>2108.881612</td>\n",
       "    </tr>\n",
       "    <tr>\n",
       "      <td>36</td>\n",
       "      <td>2272.773915</td>\n",
       "    </tr>\n",
       "    <tr>\n",
       "      <td>37</td>\n",
       "      <td>2178.934808</td>\n",
       "    </tr>\n",
       "    <tr>\n",
       "      <td>38</td>\n",
       "      <td>2307.062965</td>\n",
       "    </tr>\n",
       "    <tr>\n",
       "      <td>39</td>\n",
       "      <td>2406.564360</td>\n",
       "    </tr>\n",
       "    <tr>\n",
       "      <td>40</td>\n",
       "      <td>2345.284329</td>\n",
       "    </tr>\n",
       "    <tr>\n",
       "      <td>41</td>\n",
       "      <td>2433.612130</td>\n",
       "    </tr>\n",
       "    <tr>\n",
       "      <td>42</td>\n",
       "      <td>2793.169884</td>\n",
       "    </tr>\n",
       "    <tr>\n",
       "      <td>43</td>\n",
       "      <td>2492.648991</td>\n",
       "    </tr>\n",
       "    <tr>\n",
       "      <td>44</td>\n",
       "      <td>2814.375145</td>\n",
       "    </tr>\n",
       "    <tr>\n",
       "      <td>45</td>\n",
       "      <td>2791.307088</td>\n",
       "    </tr>\n",
       "    <tr>\n",
       "      <td>46</td>\n",
       "      <td>2867.112262</td>\n",
       "    </tr>\n",
       "    <tr>\n",
       "      <td>47</td>\n",
       "      <td>2963.394330</td>\n",
       "    </tr>\n",
       "    <tr>\n",
       "      <td>48</td>\n",
       "      <td>2898.197374</td>\n",
       "    </tr>\n",
       "    <tr>\n",
       "      <td>49</td>\n",
       "      <td>3096.942310</td>\n",
       "    </tr>\n",
       "    <tr>\n",
       "      <td>50</td>\n",
       "      <td>3096.417569</td>\n",
       "    </tr>\n",
       "    <tr>\n",
       "      <td>51</td>\n",
       "      <td>3050.331333</td>\n",
       "    </tr>\n",
       "    <tr>\n",
       "      <td>52</td>\n",
       "      <td>3262.730016</td>\n",
       "    </tr>\n",
       "    <tr>\n",
       "      <td>53</td>\n",
       "      <td>3280.806279</td>\n",
       "    </tr>\n",
       "    <tr>\n",
       "      <td>54</td>\n",
       "      <td>2979.965858</td>\n",
       "    </tr>\n",
       "    <tr>\n",
       "      <td>55</td>\n",
       "      <td>3577.539706</td>\n",
       "    </tr>\n",
       "    <tr>\n",
       "      <td>56</td>\n",
       "      <td>3271.207884</td>\n",
       "    </tr>\n",
       "    <tr>\n",
       "      <td>57</td>\n",
       "      <td>3436.439512</td>\n",
       "    </tr>\n",
       "    <tr>\n",
       "      <td>58</td>\n",
       "      <td>3269.127650</td>\n",
       "    </tr>\n",
       "    <tr>\n",
       "      <td>59</td>\n",
       "      <td>3865.467480</td>\n",
       "    </tr>\n",
       "    <tr>\n",
       "      <td>60</td>\n",
       "      <td>3789.996829</td>\n",
       "    </tr>\n",
       "    <tr>\n",
       "      <td>61</td>\n",
       "      <td>4033.667004</td>\n",
       "    </tr>\n",
       "    <tr>\n",
       "      <td>62</td>\n",
       "      <td>3029.123002</td>\n",
       "    </tr>\n",
       "    <tr>\n",
       "      <td>63</td>\n",
       "      <td>4385.872648</td>\n",
       "    </tr>\n",
       "    <tr>\n",
       "      <td>64</td>\n",
       "      <td>4045.360383</td>\n",
       "    </tr>\n",
       "    <tr>\n",
       "      <td>65</td>\n",
       "      <td>4059.315441</td>\n",
       "    </tr>\n",
       "    <tr>\n",
       "      <td>66</td>\n",
       "      <td>3899.935741</td>\n",
       "    </tr>\n",
       "    <tr>\n",
       "      <td>67</td>\n",
       "      <td>3614.078059</td>\n",
       "    </tr>\n",
       "    <tr>\n",
       "      <td>68</td>\n",
       "      <td>4551.440293</td>\n",
       "    </tr>\n",
       "    <tr>\n",
       "      <td>69</td>\n",
       "      <td>3775.909777</td>\n",
       "    </tr>\n",
       "    <tr>\n",
       "      <td>70</td>\n",
       "      <td>4666.178573</td>\n",
       "    </tr>\n",
       "    <tr>\n",
       "      <td>71</td>\n",
       "      <td>2774.862819</td>\n",
       "    </tr>\n",
       "    <tr>\n",
       "      <td>72</td>\n",
       "      <td>6603.920060</td>\n",
       "    </tr>\n",
       "    <tr>\n",
       "      <td>73</td>\n",
       "      <td>3429.205485</td>\n",
       "    </tr>\n",
       "    <tr>\n",
       "      <td>74</td>\n",
       "      <td>4206.250173</td>\n",
       "    </tr>\n",
       "    <tr>\n",
       "      <td>75</td>\n",
       "      <td>1678.969771</td>\n",
       "    </tr>\n",
       "  </tbody>\n",
       "</table>\n",
       "</div>"
      ],
      "text/plain": [
       "                  mean\n",
       "dob_years             \n",
       "0          2200.375775\n",
       "19          633.678086\n",
       "20          684.944308\n",
       "21          709.440930\n",
       "22          781.376775\n",
       "23          827.309437\n",
       "24         1026.405485\n",
       "25         1088.406453\n",
       "26         1200.288052\n",
       "27         1358.153479\n",
       "28         1397.672853\n",
       "29         1553.823200\n",
       "30         1696.039355\n",
       "31         1652.717935\n",
       "32         1735.782175\n",
       "33         1868.655183\n",
       "34         1983.724384\n",
       "35         2108.881612\n",
       "36         2272.773915\n",
       "37         2178.934808\n",
       "38         2307.062965\n",
       "39         2406.564360\n",
       "40         2345.284329\n",
       "41         2433.612130\n",
       "42         2793.169884\n",
       "43         2492.648991\n",
       "44         2814.375145\n",
       "45         2791.307088\n",
       "46         2867.112262\n",
       "47         2963.394330\n",
       "48         2898.197374\n",
       "49         3096.942310\n",
       "50         3096.417569\n",
       "51         3050.331333\n",
       "52         3262.730016\n",
       "53         3280.806279\n",
       "54         2979.965858\n",
       "55         3577.539706\n",
       "56         3271.207884\n",
       "57         3436.439512\n",
       "58         3269.127650\n",
       "59         3865.467480\n",
       "60         3789.996829\n",
       "61         4033.667004\n",
       "62         3029.123002\n",
       "63         4385.872648\n",
       "64         4045.360383\n",
       "65         4059.315441\n",
       "66         3899.935741\n",
       "67         3614.078059\n",
       "68         4551.440293\n",
       "69         3775.909777\n",
       "70         4666.178573\n",
       "71         2774.862819\n",
       "72         6603.920060\n",
       "73         3429.205485\n",
       "74         4206.250173\n",
       "75         1678.969771"
      ]
     },
     "metadata": {},
     "output_type": "display_data"
    }
   ],
   "source": [
    "#Отфильтруем таблицу с репрезентативными значениями стажа работы\n",
    "\n",
    "df_years_employed_check = df[df['years_employed_check'] == 1]\n",
    "print(df_years_employed_check.info())\n",
    "\n",
    "# Теперь взглянем на таблицу со средним стажем, сгруппированную по возрасту клиента\n",
    "mean_days_by_years = df_years_employed_check.groupby('dob_years')['days_employed'].aggregate(['mean'])\n",
    "display(mean_days_by_years)"
   ]
  },
  {
   "cell_type": "markdown",
   "metadata": {},
   "source": [
    "<br> Несмотря на то что у пенсионеров 71, 73 и 75 лет средний стаж работы отклоняется от общей тенденции,\n",
    "<br> в целом такие значения помогут составить более объективную картину после заполнения пропусков.\n"
   ]
  },
  {
   "cell_type": "code",
   "execution_count": 9,
   "metadata": {},
   "outputs": [
    {
     "name": "stdout",
     "output_type": "stream",
     "text": [
      "<class 'pandas.core.frame.DataFrame'>\n",
      "RangeIndex: 21525 entries, 0 to 21524\n",
      "Data columns (total 13 columns):\n",
      "children                21525 non-null int64\n",
      "days_employed           21525 non-null float64\n",
      "dob_years               21525 non-null int64\n",
      "education               21525 non-null object\n",
      "education_id            21525 non-null int64\n",
      "family_status           21525 non-null object\n",
      "family_status_id        21525 non-null int64\n",
      "gender                  21525 non-null object\n",
      "income_type             21525 non-null object\n",
      "debt                    21525 non-null int64\n",
      "total_income            19351 non-null float64\n",
      "purpose                 21525 non-null object\n",
      "years_employed_check    21525 non-null int64\n",
      "dtypes: float64(2), int64(6), object(5)\n",
      "memory usage: 2.1+ MB\n"
     ]
    },
    {
     "data": {
      "text/plain": [
       "None"
      ]
     },
     "metadata": {},
     "output_type": "display_data"
    },
    {
     "data": {
      "text/plain": [
       "count     21525.000000\n",
       "mean      60418.896545\n",
       "std      133240.056264\n",
       "min          24.141633\n",
       "25%        1013.920085\n",
       "50%        2307.062965\n",
       "75%        4781.798667\n",
       "max      401755.400475\n",
       "Name: days_employed, dtype: float64"
      ]
     },
     "metadata": {},
     "output_type": "display_data"
    }
   ],
   "source": [
    "# Теперь сгруппируем данные по возрасту клиента, \n",
    "# получим среднее значение стажа работы в зависимости от возраста, \n",
    "# и заполним данными значениями пропуски в соответствии с возрастом клиента\n",
    "df['days_employed'] = df['days_employed'].fillna(df_years_employed_check.groupby('dob_years')['days_employed'].transform('mean'))\n",
    "\n",
    "# Проверим правильность выполнения\n",
    "display(df.info())\n",
    "display(df['days_employed'].describe())"
   ]
  },
  {
   "cell_type": "markdown",
   "metadata": {},
   "source": [
    "Пропуски в 'days_employed' устранены, теперь перейдем к замене нулевых значений в столбце 'dob_years'"
   ]
  },
  {
   "cell_type": "code",
   "execution_count": 10,
   "metadata": {},
   "outputs": [
    {
     "data": {
      "text/plain": [
       "count    21525.000000\n",
       "mean        43.496522\n",
       "std         12.218174\n",
       "min         19.000000\n",
       "25%         34.000000\n",
       "50%         43.000000\n",
       "75%         53.000000\n",
       "max         75.000000\n",
       "Name: dob_years, dtype: float64"
      ]
     },
     "metadata": {},
     "output_type": "display_data"
    }
   ],
   "source": [
    "# нулевое значение возраста будем заполнять средним значением по выборке\n",
    "mean_dob_years = df['dob_years'].mean()\n",
    "df['dob_years'] = df['dob_years'].replace(0, mean_dob_years)\n",
    "\n",
    "# Проверим правильность выполнения\n",
    "display(df['dob_years'].describe())\n"
   ]
  },
  {
   "cell_type": "markdown",
   "metadata": {},
   "source": [
    "\n",
    "Теперь аналогично заполним пропуски в уровене дохода. За определяющие факторы попробуем использовать уровень образования и тип занятости. Так как, в основном, именно эти два фактора определяют уровень дохода у человека\n"
   ]
  },
  {
   "cell_type": "code",
   "execution_count": 11,
   "metadata": {},
   "outputs": [
    {
     "data": {
      "text/html": [
       "<div>\n",
       "<style scoped>\n",
       "    .dataframe tbody tr th:only-of-type {\n",
       "        vertical-align: middle;\n",
       "    }\n",
       "\n",
       "    .dataframe tbody tr th {\n",
       "        vertical-align: top;\n",
       "    }\n",
       "\n",
       "    .dataframe thead tr th {\n",
       "        text-align: left;\n",
       "    }\n",
       "\n",
       "    .dataframe thead tr:last-of-type th {\n",
       "        text-align: right;\n",
       "    }\n",
       "</style>\n",
       "<table border=\"1\" class=\"dataframe\">\n",
       "  <thead>\n",
       "    <tr>\n",
       "      <th></th>\n",
       "      <th></th>\n",
       "      <th>total_income</th>\n",
       "    </tr>\n",
       "    <tr>\n",
       "      <th></th>\n",
       "      <th></th>\n",
       "      <th>median</th>\n",
       "    </tr>\n",
       "    <tr>\n",
       "      <th>education_id</th>\n",
       "      <th>income_type</th>\n",
       "      <th></th>\n",
       "    </tr>\n",
       "  </thead>\n",
       "  <tbody>\n",
       "    <tr>\n",
       "      <td rowspan=\"7\" valign=\"top\">0</td>\n",
       "      <td>безработный</td>\n",
       "      <td>202722.511368</td>\n",
       "    </tr>\n",
       "    <tr>\n",
       "      <td>госслужащий</td>\n",
       "      <td>172511.107016</td>\n",
       "    </tr>\n",
       "    <tr>\n",
       "      <td>компаньон</td>\n",
       "      <td>201785.400018</td>\n",
       "    </tr>\n",
       "    <tr>\n",
       "      <td>пенсионер</td>\n",
       "      <td>144240.768611</td>\n",
       "    </tr>\n",
       "    <tr>\n",
       "      <td>предприниматель</td>\n",
       "      <td>499163.144947</td>\n",
       "    </tr>\n",
       "    <tr>\n",
       "      <td>сотрудник</td>\n",
       "      <td>165640.744634</td>\n",
       "    </tr>\n",
       "    <tr>\n",
       "      <td>студент</td>\n",
       "      <td>98201.625314</td>\n",
       "    </tr>\n",
       "    <tr>\n",
       "      <td rowspan=\"6\" valign=\"top\">1</td>\n",
       "      <td>безработный</td>\n",
       "      <td>59956.991984</td>\n",
       "    </tr>\n",
       "    <tr>\n",
       "      <td>в декрете</td>\n",
       "      <td>53829.130729</td>\n",
       "    </tr>\n",
       "    <tr>\n",
       "      <td>госслужащий</td>\n",
       "      <td>136652.970357</td>\n",
       "    </tr>\n",
       "    <tr>\n",
       "      <td>компаньон</td>\n",
       "      <td>159070.690289</td>\n",
       "    </tr>\n",
       "    <tr>\n",
       "      <td>пенсионер</td>\n",
       "      <td>114842.854099</td>\n",
       "    </tr>\n",
       "    <tr>\n",
       "      <td>сотрудник</td>\n",
       "      <td>136555.108821</td>\n",
       "    </tr>\n",
       "    <tr>\n",
       "      <td rowspan=\"4\" valign=\"top\">2</td>\n",
       "      <td>госслужащий</td>\n",
       "      <td>160592.345303</td>\n",
       "    </tr>\n",
       "    <tr>\n",
       "      <td>компаньон</td>\n",
       "      <td>179867.152890</td>\n",
       "    </tr>\n",
       "    <tr>\n",
       "      <td>пенсионер</td>\n",
       "      <td>120136.896353</td>\n",
       "    </tr>\n",
       "    <tr>\n",
       "      <td>сотрудник</td>\n",
       "      <td>151308.937846</td>\n",
       "    </tr>\n",
       "    <tr>\n",
       "      <td rowspan=\"4\" valign=\"top\">3</td>\n",
       "      <td>госслужащий</td>\n",
       "      <td>148339.290825</td>\n",
       "    </tr>\n",
       "    <tr>\n",
       "      <td>компаньон</td>\n",
       "      <td>136798.905143</td>\n",
       "    </tr>\n",
       "    <tr>\n",
       "      <td>пенсионер</td>\n",
       "      <td>102598.653164</td>\n",
       "    </tr>\n",
       "    <tr>\n",
       "      <td>сотрудник</td>\n",
       "      <td>125994.910603</td>\n",
       "    </tr>\n",
       "    <tr>\n",
       "      <td rowspan=\"3\" valign=\"top\">4</td>\n",
       "      <td>госслужащий</td>\n",
       "      <td>111392.231107</td>\n",
       "    </tr>\n",
       "    <tr>\n",
       "      <td>пенсионер</td>\n",
       "      <td>177088.845999</td>\n",
       "    </tr>\n",
       "    <tr>\n",
       "      <td>сотрудник</td>\n",
       "      <td>198570.757322</td>\n",
       "    </tr>\n",
       "  </tbody>\n",
       "</table>\n",
       "</div>"
      ],
      "text/plain": [
       "                               total_income\n",
       "                                     median\n",
       "education_id income_type                   \n",
       "0            безработный      202722.511368\n",
       "             госслужащий      172511.107016\n",
       "             компаньон        201785.400018\n",
       "             пенсионер        144240.768611\n",
       "             предприниматель  499163.144947\n",
       "             сотрудник        165640.744634\n",
       "             студент           98201.625314\n",
       "1            безработный       59956.991984\n",
       "             в декрете         53829.130729\n",
       "             госслужащий      136652.970357\n",
       "             компаньон        159070.690289\n",
       "             пенсионер        114842.854099\n",
       "             сотрудник        136555.108821\n",
       "2            госслужащий      160592.345303\n",
       "             компаньон        179867.152890\n",
       "             пенсионер        120136.896353\n",
       "             сотрудник        151308.937846\n",
       "3            госслужащий      148339.290825\n",
       "             компаньон        136798.905143\n",
       "             пенсионер        102598.653164\n",
       "             сотрудник        125994.910603\n",
       "4            госслужащий      111392.231107\n",
       "             пенсионер        177088.845999\n",
       "             сотрудник        198570.757322"
      ]
     },
     "metadata": {},
     "output_type": "display_data"
    }
   ],
   "source": [
    "# Так как для заполнения пропусков нам необходимы всего три показателя, \n",
    "# для удобства создадим отдельный срез таблицы\n",
    "\n",
    "df_education_inctype = df.loc[:, ['education_id', 'income_type', 'total_income']]\n",
    "\n",
    "#Сгруппируем по двум факторам, посчитаем среднее значение, и проверим правильность \n",
    "median_income_by_education_inctype = df_education_inctype.loc[:, ['education_id', 'income_type', 'total_income']].groupby(['education_id', 'income_type']).aggregate(['median'])\n",
    "display(median_income_by_education_inctype)"
   ]
  },
  {
   "cell_type": "markdown",
   "metadata": {},
   "source": [
    "Видим, что результаты не отображают объективную картину, так как у людей со средним образованием почему-то \n",
    "уровень дохода отличается от групп с высшим образованием, особенно у госслужащих и пенсионеров."
   ]
  },
  {
   "cell_type": "code",
   "execution_count": 12,
   "metadata": {},
   "outputs": [
    {
     "data": {
      "text/html": [
       "<div>\n",
       "<style scoped>\n",
       "    .dataframe tbody tr th:only-of-type {\n",
       "        vertical-align: middle;\n",
       "    }\n",
       "\n",
       "    .dataframe tbody tr th {\n",
       "        vertical-align: top;\n",
       "    }\n",
       "\n",
       "    .dataframe thead tr th {\n",
       "        text-align: left;\n",
       "    }\n",
       "\n",
       "    .dataframe thead tr:last-of-type th {\n",
       "        text-align: right;\n",
       "    }\n",
       "</style>\n",
       "<table border=\"1\" class=\"dataframe\">\n",
       "  <thead>\n",
       "    <tr>\n",
       "      <th></th>\n",
       "      <th>total_income</th>\n",
       "    </tr>\n",
       "    <tr>\n",
       "      <th></th>\n",
       "      <th>median</th>\n",
       "    </tr>\n",
       "    <tr>\n",
       "      <th>income_type</th>\n",
       "      <th></th>\n",
       "    </tr>\n",
       "  </thead>\n",
       "  <tbody>\n",
       "    <tr>\n",
       "      <td>безработный</td>\n",
       "      <td>131339.751676</td>\n",
       "    </tr>\n",
       "    <tr>\n",
       "      <td>в декрете</td>\n",
       "      <td>53829.130729</td>\n",
       "    </tr>\n",
       "    <tr>\n",
       "      <td>госслужащий</td>\n",
       "      <td>150447.935283</td>\n",
       "    </tr>\n",
       "    <tr>\n",
       "      <td>компаньон</td>\n",
       "      <td>172357.950966</td>\n",
       "    </tr>\n",
       "    <tr>\n",
       "      <td>пенсионер</td>\n",
       "      <td>118514.486412</td>\n",
       "    </tr>\n",
       "    <tr>\n",
       "      <td>предприниматель</td>\n",
       "      <td>499163.144947</td>\n",
       "    </tr>\n",
       "    <tr>\n",
       "      <td>сотрудник</td>\n",
       "      <td>142594.396847</td>\n",
       "    </tr>\n",
       "    <tr>\n",
       "      <td>студент</td>\n",
       "      <td>98201.625314</td>\n",
       "    </tr>\n",
       "  </tbody>\n",
       "</table>\n",
       "</div>"
      ],
      "text/plain": [
       "                  total_income\n",
       "                        median\n",
       "income_type                   \n",
       "безработный      131339.751676\n",
       "в декрете         53829.130729\n",
       "госслужащий      150447.935283\n",
       "компаньон        172357.950966\n",
       "пенсионер        118514.486412\n",
       "предприниматель  499163.144947\n",
       "сотрудник        142594.396847\n",
       "студент           98201.625314"
      ]
     },
     "metadata": {},
     "output_type": "display_data"
    }
   ],
   "source": [
    "# Тогда сгруппируем по одному фактору - типу занятости, и проверим правильность\n",
    "median_income_by_education_inctype = df_education_inctype.loc[:, ['income_type', 'total_income']].groupby(['income_type']).aggregate(['median'])\n",
    "display(median_income_by_education_inctype)"
   ]
  },
  {
   "cell_type": "markdown",
   "metadata": {},
   "source": [
    "Такие значения больше похожи на правду, и можно заметить что студенты, и люди в декрете\n",
    "получают наименьший доход в нашем датасете.\n"
   ]
  },
  {
   "cell_type": "code",
   "execution_count": 13,
   "metadata": {},
   "outputs": [
    {
     "name": "stdout",
     "output_type": "stream",
     "text": [
      "<class 'pandas.core.frame.DataFrame'>\n",
      "RangeIndex: 21525 entries, 0 to 21524\n",
      "Data columns (total 13 columns):\n",
      "children                21525 non-null int64\n",
      "days_employed           21525 non-null float64\n",
      "dob_years               21525 non-null float64\n",
      "education               21525 non-null object\n",
      "education_id            21525 non-null int64\n",
      "family_status           21525 non-null object\n",
      "family_status_id        21525 non-null int64\n",
      "gender                  21525 non-null object\n",
      "income_type             21525 non-null object\n",
      "debt                    21525 non-null int64\n",
      "total_income            21525 non-null float64\n",
      "purpose                 21525 non-null object\n",
      "years_employed_check    21525 non-null int64\n",
      "dtypes: float64(3), int64(5), object(5)\n",
      "memory usage: 2.1+ MB\n",
      "None\n"
     ]
    }
   ],
   "source": [
    "# Заполняем пропуски полученными результатами, и проверим правильность выполнения\n",
    "df['total_income'] = df['total_income'].fillna(df.groupby('income_type')['total_income'].transform('mean'))\n",
    "print(df.info())"
   ]
  },
  {
   "cell_type": "markdown",
   "metadata": {},
   "source": [
    "<br> Теперь, когда все пропуски заполнены, переходим к исправлению аномалий в количестве детей\n",
    "\n",
    "<br> Для начала узнаем сколько строк с количеством детей = 20 и = -1 присутствует\n",
    "<br> А также взглянем на уникальные значения в этом столбце"
   ]
  },
  {
   "cell_type": "code",
   "execution_count": 14,
   "metadata": {},
   "outputs": [
    {
     "data": {
      "text/plain": [
       " 0     14149\n",
       " 1      4818\n",
       " 2      2055\n",
       " 3       330\n",
       " 20       76\n",
       "-1        47\n",
       " 4        41\n",
       " 5         9\n",
       "Name: children, dtype: int64"
      ]
     },
     "metadata": {},
     "output_type": "display_data"
    },
    {
     "name": "stdout",
     "output_type": "stream",
     "text": [
      "Количество детей = 20, строк -  76\n",
      "Количество детей = -1, строк -  47\n"
     ]
    }
   ],
   "source": [
    "display(df['children'].value_counts())\n",
    "print('Количество детей = 20, строк - ', df[df['children'] == 20].count()[0])\n",
    "print('Количество детей = -1, строк - ', df[df['children'] == -1].count()[0])"
   ]
  },
  {
   "cell_type": "markdown",
   "metadata": {},
   "source": [
    "Видим, что аномалии не слишком распространены, поэтому будем принимать их значения 20 и -1 за опечатку, \n",
    "и заменим их на 2 и 1, соответственно,\n",
    "так как репрезентативность выборки от этого практически не пострадает."
   ]
  },
  {
   "cell_type": "code",
   "execution_count": 15,
   "metadata": {},
   "outputs": [
    {
     "data": {
      "text/plain": [
       "0    14149\n",
       "1     4865\n",
       "2     2131\n",
       "3      330\n",
       "4       41\n",
       "5        9\n",
       "Name: children, dtype: int64"
      ]
     },
     "metadata": {},
     "output_type": "display_data"
    }
   ],
   "source": [
    "df['children'] = df['children'].replace(20, 2)\n",
    "df['children'] = df['children'].replace(-1, 1)\n",
    "\n",
    "#Проверим правильность\n",
    "display(df['children'].value_counts())"
   ]
  },
  {
   "cell_type": "markdown",
   "metadata": {},
   "source": [
    "Также приведем к общему виду столбец \"education\", так как там наблюдается разный регистр букв"
   ]
  },
  {
   "cell_type": "code",
   "execution_count": 16,
   "metadata": {},
   "outputs": [
    {
     "data": {
      "text/plain": [
       "среднее                13750\n",
       "высшее                  4718\n",
       "СРЕДНЕЕ                  772\n",
       "Среднее                  711\n",
       "неоконченное высшее      668\n",
       "ВЫСШЕЕ                   274\n",
       "Высшее                   268\n",
       "начальное                250\n",
       "Неоконченное высшее       47\n",
       "НЕОКОНЧЕННОЕ ВЫСШЕЕ       29\n",
       "НАЧАЛЬНОЕ                 17\n",
       "Начальное                 15\n",
       "ученая степень             4\n",
       "УЧЕНАЯ СТЕПЕНЬ             1\n",
       "Ученая степень             1\n",
       "Name: education, dtype: int64"
      ]
     },
     "metadata": {},
     "output_type": "display_data"
    }
   ],
   "source": [
    "# Для начала проверим, не упускаем ли мы что-то помимо регистра букв\n",
    "display((df['education'].value_counts()))"
   ]
  },
  {
   "cell_type": "markdown",
   "metadata": {},
   "source": [
    "Различия наблюдаются только в регистре, поэтому спокойно приводим все значения к нижнему регистру"
   ]
  },
  {
   "cell_type": "code",
   "execution_count": 17,
   "metadata": {},
   "outputs": [
    {
     "data": {
      "text/plain": [
       "среднее                15233\n",
       "высшее                  5260\n",
       "неоконченное высшее      744\n",
       "начальное                282\n",
       "ученая степень             6\n",
       "Name: education, dtype: int64"
      ]
     },
     "metadata": {},
     "output_type": "display_data"
    }
   ],
   "source": [
    "df['education'] = df['education'].str.lower()\n",
    "\n",
    "#Проверим правильность\n",
    "display(df['education'].value_counts())"
   ]
  },
  {
   "cell_type": "markdown",
   "metadata": {},
   "source": [
    "Все пропуски и аномалии устранены, теперь переходим к замене типа данных в 'days_employed' и 'total_income'"
   ]
  },
  {
   "cell_type": "markdown",
   "metadata": {},
   "source": [
    "### Замена типа данных"
   ]
  },
  {
   "cell_type": "markdown",
   "metadata": {},
   "source": [
    "Для замены типа данных в обоих столбцах будем использовать astype() так как данные в этих столбцах чисты и имеют тип float64"
   ]
  },
  {
   "cell_type": "code",
   "execution_count": 18,
   "metadata": {},
   "outputs": [
    {
     "name": "stdout",
     "output_type": "stream",
     "text": [
      "<class 'pandas.core.frame.DataFrame'>\n",
      "RangeIndex: 21525 entries, 0 to 21524\n",
      "Data columns (total 13 columns):\n",
      "children                21525 non-null int64\n",
      "days_employed           21525 non-null int64\n",
      "dob_years               21525 non-null float64\n",
      "education               21525 non-null object\n",
      "education_id            21525 non-null int64\n",
      "family_status           21525 non-null object\n",
      "family_status_id        21525 non-null int64\n",
      "gender                  21525 non-null object\n",
      "income_type             21525 non-null object\n",
      "debt                    21525 non-null int64\n",
      "total_income            21525 non-null int64\n",
      "purpose                 21525 non-null object\n",
      "years_employed_check    21525 non-null int64\n",
      "dtypes: float64(1), int64(7), object(5)\n",
      "memory usage: 2.1+ MB\n"
     ]
    },
    {
     "data": {
      "text/plain": [
       "None"
      ]
     },
     "metadata": {},
     "output_type": "display_data"
    }
   ],
   "source": [
    "df['days_employed'] = df['days_employed'].astype(int)\n",
    "df['total_income'] = df['total_income'].astype(int)\n",
    "\n",
    "# Проверим:\n",
    "display(df.info())"
   ]
  },
  {
   "cell_type": "markdown",
   "metadata": {},
   "source": [
    "Теперь можем приступать к обработке дубликатов"
   ]
  },
  {
   "cell_type": "markdown",
   "metadata": {},
   "source": [
    "### Обработка дубликатов"
   ]
  },
  {
   "cell_type": "markdown",
   "metadata": {},
   "source": [
    "Для начала выясним, сколько всего потенциальных дубликатов имеется в нашем датасете:"
   ]
  },
  {
   "cell_type": "code",
   "execution_count": 19,
   "metadata": {},
   "outputs": [
    {
     "name": "stdout",
     "output_type": "stream",
     "text": [
      "71\n"
     ]
    }
   ],
   "source": [
    "print(df.duplicated().sum())"
   ]
  },
  {
   "cell_type": "markdown",
   "metadata": {},
   "source": [
    "Теперь взглянем на них:"
   ]
  },
  {
   "cell_type": "code",
   "execution_count": 20,
   "metadata": {},
   "outputs": [
    {
     "data": {
      "text/html": [
       "<div>\n",
       "<style scoped>\n",
       "    .dataframe tbody tr th:only-of-type {\n",
       "        vertical-align: middle;\n",
       "    }\n",
       "\n",
       "    .dataframe tbody tr th {\n",
       "        vertical-align: top;\n",
       "    }\n",
       "\n",
       "    .dataframe thead th {\n",
       "        text-align: right;\n",
       "    }\n",
       "</style>\n",
       "<table border=\"1\" class=\"dataframe\">\n",
       "  <thead>\n",
       "    <tr style=\"text-align: right;\">\n",
       "      <th></th>\n",
       "      <th>children</th>\n",
       "      <th>days_employed</th>\n",
       "      <th>dob_years</th>\n",
       "      <th>education</th>\n",
       "      <th>education_id</th>\n",
       "      <th>family_status</th>\n",
       "      <th>family_status_id</th>\n",
       "      <th>gender</th>\n",
       "      <th>income_type</th>\n",
       "      <th>debt</th>\n",
       "      <th>total_income</th>\n",
       "      <th>purpose</th>\n",
       "      <th>years_employed_check</th>\n",
       "    </tr>\n",
       "  </thead>\n",
       "  <tbody>\n",
       "    <tr>\n",
       "      <td>13035</td>\n",
       "      <td>0</td>\n",
       "      <td>4059</td>\n",
       "      <td>65.0</td>\n",
       "      <td>среднее</td>\n",
       "      <td>1</td>\n",
       "      <td>гражданский брак</td>\n",
       "      <td>1</td>\n",
       "      <td>F</td>\n",
       "      <td>пенсионер</td>\n",
       "      <td>0</td>\n",
       "      <td>137127</td>\n",
       "      <td>сыграть свадьбу</td>\n",
       "      <td>1</td>\n",
       "    </tr>\n",
       "    <tr>\n",
       "      <td>20187</td>\n",
       "      <td>0</td>\n",
       "      <td>4059</td>\n",
       "      <td>65.0</td>\n",
       "      <td>среднее</td>\n",
       "      <td>1</td>\n",
       "      <td>гражданский брак</td>\n",
       "      <td>1</td>\n",
       "      <td>F</td>\n",
       "      <td>пенсионер</td>\n",
       "      <td>0</td>\n",
       "      <td>137127</td>\n",
       "      <td>сыграть свадьбу</td>\n",
       "      <td>1</td>\n",
       "    </tr>\n",
       "    <tr>\n",
       "      <td>6674</td>\n",
       "      <td>0</td>\n",
       "      <td>4045</td>\n",
       "      <td>64.0</td>\n",
       "      <td>среднее</td>\n",
       "      <td>1</td>\n",
       "      <td>гражданский брак</td>\n",
       "      <td>1</td>\n",
       "      <td>F</td>\n",
       "      <td>пенсионер</td>\n",
       "      <td>0</td>\n",
       "      <td>137127</td>\n",
       "      <td>сыграть свадьбу</td>\n",
       "      <td>1</td>\n",
       "    </tr>\n",
       "    <tr>\n",
       "      <td>17338</td>\n",
       "      <td>0</td>\n",
       "      <td>4045</td>\n",
       "      <td>64.0</td>\n",
       "      <td>среднее</td>\n",
       "      <td>1</td>\n",
       "      <td>гражданский брак</td>\n",
       "      <td>1</td>\n",
       "      <td>F</td>\n",
       "      <td>пенсионер</td>\n",
       "      <td>0</td>\n",
       "      <td>137127</td>\n",
       "      <td>сыграть свадьбу</td>\n",
       "      <td>1</td>\n",
       "    </tr>\n",
       "    <tr>\n",
       "      <td>7313</td>\n",
       "      <td>0</td>\n",
       "      <td>4045</td>\n",
       "      <td>64.0</td>\n",
       "      <td>высшее</td>\n",
       "      <td>0</td>\n",
       "      <td>гражданский брак</td>\n",
       "      <td>1</td>\n",
       "      <td>F</td>\n",
       "      <td>пенсионер</td>\n",
       "      <td>0</td>\n",
       "      <td>137127</td>\n",
       "      <td>на проведение свадьбы</td>\n",
       "      <td>1</td>\n",
       "    </tr>\n",
       "    <tr>\n",
       "      <td>...</td>\n",
       "      <td>...</td>\n",
       "      <td>...</td>\n",
       "      <td>...</td>\n",
       "      <td>...</td>\n",
       "      <td>...</td>\n",
       "      <td>...</td>\n",
       "      <td>...</td>\n",
       "      <td>...</td>\n",
       "      <td>...</td>\n",
       "      <td>...</td>\n",
       "      <td>...</td>\n",
       "      <td>...</td>\n",
       "      <td>...</td>\n",
       "    </tr>\n",
       "    <tr>\n",
       "      <td>18328</td>\n",
       "      <td>0</td>\n",
       "      <td>1553</td>\n",
       "      <td>29.0</td>\n",
       "      <td>высшее</td>\n",
       "      <td>0</td>\n",
       "      <td>женат / замужем</td>\n",
       "      <td>0</td>\n",
       "      <td>M</td>\n",
       "      <td>сотрудник</td>\n",
       "      <td>0</td>\n",
       "      <td>161380</td>\n",
       "      <td>покупка жилой недвижимости</td>\n",
       "      <td>1</td>\n",
       "    </tr>\n",
       "    <tr>\n",
       "      <td>8853</td>\n",
       "      <td>1</td>\n",
       "      <td>827</td>\n",
       "      <td>23.0</td>\n",
       "      <td>среднее</td>\n",
       "      <td>1</td>\n",
       "      <td>гражданский брак</td>\n",
       "      <td>1</td>\n",
       "      <td>F</td>\n",
       "      <td>сотрудник</td>\n",
       "      <td>0</td>\n",
       "      <td>161380</td>\n",
       "      <td>сыграть свадьбу</td>\n",
       "      <td>1</td>\n",
       "    </tr>\n",
       "    <tr>\n",
       "      <td>20297</td>\n",
       "      <td>1</td>\n",
       "      <td>827</td>\n",
       "      <td>23.0</td>\n",
       "      <td>среднее</td>\n",
       "      <td>1</td>\n",
       "      <td>гражданский брак</td>\n",
       "      <td>1</td>\n",
       "      <td>F</td>\n",
       "      <td>сотрудник</td>\n",
       "      <td>0</td>\n",
       "      <td>161380</td>\n",
       "      <td>сыграть свадьбу</td>\n",
       "      <td>1</td>\n",
       "    </tr>\n",
       "    <tr>\n",
       "      <td>15892</td>\n",
       "      <td>0</td>\n",
       "      <td>827</td>\n",
       "      <td>23.0</td>\n",
       "      <td>среднее</td>\n",
       "      <td>1</td>\n",
       "      <td>Не женат / не замужем</td>\n",
       "      <td>4</td>\n",
       "      <td>F</td>\n",
       "      <td>сотрудник</td>\n",
       "      <td>0</td>\n",
       "      <td>161380</td>\n",
       "      <td>сделка с подержанным автомобилем</td>\n",
       "      <td>1</td>\n",
       "    </tr>\n",
       "    <tr>\n",
       "      <td>19321</td>\n",
       "      <td>0</td>\n",
       "      <td>827</td>\n",
       "      <td>23.0</td>\n",
       "      <td>среднее</td>\n",
       "      <td>1</td>\n",
       "      <td>Не женат / не замужем</td>\n",
       "      <td>4</td>\n",
       "      <td>F</td>\n",
       "      <td>сотрудник</td>\n",
       "      <td>0</td>\n",
       "      <td>161380</td>\n",
       "      <td>сделка с подержанным автомобилем</td>\n",
       "      <td>1</td>\n",
       "    </tr>\n",
       "  </tbody>\n",
       "</table>\n",
       "<p>137 rows × 13 columns</p>\n",
       "</div>"
      ],
      "text/plain": [
       "       children  days_employed  dob_years education  education_id  \\\n",
       "13035         0           4059       65.0   среднее             1   \n",
       "20187         0           4059       65.0   среднее             1   \n",
       "6674          0           4045       64.0   среднее             1   \n",
       "17338         0           4045       64.0   среднее             1   \n",
       "7313          0           4045       64.0    высшее             0   \n",
       "...         ...            ...        ...       ...           ...   \n",
       "18328         0           1553       29.0    высшее             0   \n",
       "8853          1            827       23.0   среднее             1   \n",
       "20297         1            827       23.0   среднее             1   \n",
       "15892         0            827       23.0   среднее             1   \n",
       "19321         0            827       23.0   среднее             1   \n",
       "\n",
       "               family_status  family_status_id gender income_type  debt  \\\n",
       "13035       гражданский брак                 1      F   пенсионер     0   \n",
       "20187       гражданский брак                 1      F   пенсионер     0   \n",
       "6674        гражданский брак                 1      F   пенсионер     0   \n",
       "17338       гражданский брак                 1      F   пенсионер     0   \n",
       "7313        гражданский брак                 1      F   пенсионер     0   \n",
       "...                      ...               ...    ...         ...   ...   \n",
       "18328        женат / замужем                 0      M   сотрудник     0   \n",
       "8853        гражданский брак                 1      F   сотрудник     0   \n",
       "20297       гражданский брак                 1      F   сотрудник     0   \n",
       "15892  Не женат / не замужем                 4      F   сотрудник     0   \n",
       "19321  Не женат / не замужем                 4      F   сотрудник     0   \n",
       "\n",
       "       total_income                           purpose  years_employed_check  \n",
       "13035        137127                   сыграть свадьбу                     1  \n",
       "20187        137127                   сыграть свадьбу                     1  \n",
       "6674         137127                   сыграть свадьбу                     1  \n",
       "17338        137127                   сыграть свадьбу                     1  \n",
       "7313         137127             на проведение свадьбы                     1  \n",
       "...             ...                               ...                   ...  \n",
       "18328        161380        покупка жилой недвижимости                     1  \n",
       "8853         161380                   сыграть свадьбу                     1  \n",
       "20297        161380                   сыграть свадьбу                     1  \n",
       "15892        161380  сделка с подержанным автомобилем                     1  \n",
       "19321        161380  сделка с подержанным автомобилем                     1  \n",
       "\n",
       "[137 rows x 13 columns]"
      ]
     },
     "metadata": {},
     "output_type": "display_data"
    }
   ],
   "source": [
    "display(df[df.duplicated(keep = False)].sort_values(by = ['days_employed', 'purpose'], ascending = False))"
   ]
  },
  {
   "cell_type": "markdown",
   "metadata": {},
   "source": [
    "Выглядят действительно как дубликаты, вполне вероятно что они возникли из-за человеческого фактора (по аналогии с 'children' = 20)\n",
    "<br> Необходимо избавиться от них:"
   ]
  },
  {
   "cell_type": "code",
   "execution_count": 21,
   "metadata": {},
   "outputs": [
    {
     "name": "stdout",
     "output_type": "stream",
     "text": [
      "0\n"
     ]
    }
   ],
   "source": [
    "df = df.drop_duplicates()\n",
    "\n",
    "#Проверим\n",
    "print(df.duplicated().sum())"
   ]
  },
  {
   "cell_type": "markdown",
   "metadata": {},
   "source": [
    "Теперь, когда датасет вычищен от пропусков, аномальных значений, и пропусков, переходим к лемматизации цели кредита"
   ]
  },
  {
   "cell_type": "markdown",
   "metadata": {},
   "source": [
    "### Лемматизация\n"
   ]
  },
  {
   "cell_type": "code",
   "execution_count": 22,
   "metadata": {},
   "outputs": [
    {
     "data": {
      "text/plain": [
       "array(['покупка жилья', 'приобретение автомобиля',\n",
       "       'дополнительное образование', 'сыграть свадьбу',\n",
       "       'операции с жильем', 'образование', 'на проведение свадьбы',\n",
       "       'покупка жилья для семьи', 'покупка недвижимости',\n",
       "       'покупка коммерческой недвижимости', 'покупка жилой недвижимости',\n",
       "       'строительство собственной недвижимости', 'недвижимость',\n",
       "       'строительство недвижимости', 'на покупку подержанного автомобиля',\n",
       "       'на покупку своего автомобиля',\n",
       "       'операции с коммерческой недвижимостью',\n",
       "       'строительство жилой недвижимости', 'жилье',\n",
       "       'операции со своей недвижимостью', 'автомобили',\n",
       "       'заняться образованием', 'сделка с подержанным автомобилем',\n",
       "       'получение образования', 'автомобиль', 'свадьба',\n",
       "       'получение дополнительного образования', 'покупка своего жилья',\n",
       "       'операции с недвижимостью', 'получение высшего образования',\n",
       "       'свой автомобиль', 'сделка с автомобилем',\n",
       "       'профильное образование', 'высшее образование',\n",
       "       'покупка жилья для сдачи', 'на покупку автомобиля', 'ремонт жилью',\n",
       "       'заняться высшим образованием'], dtype=object)"
      ]
     },
     "metadata": {},
     "output_type": "display_data"
    }
   ],
   "source": [
    "# Для начала взглянем на уникальные значения в столбце 'purpose'\n",
    "unique_purpose = df['purpose'].unique()\n",
    "display(unique_purpose)"
   ]
  },
  {
   "cell_type": "code",
   "execution_count": 23,
   "metadata": {},
   "outputs": [
    {
     "data": {
      "text/plain": [
       "[(' ', 59),\n",
       " ('\\n', 38),\n",
       " ('покупка', 10),\n",
       " ('недвижимость', 10),\n",
       " ('автомобиль', 9),\n",
       " ('образование', 9),\n",
       " ('жилье', 7),\n",
       " ('с', 5),\n",
       " ('операция', 4),\n",
       " ('на', 4),\n",
       " ('свой', 4),\n",
       " ('свадьба', 3),\n",
       " ('строительство', 3),\n",
       " ('получение', 3),\n",
       " ('высокий', 3),\n",
       " ('дополнительный', 2),\n",
       " ('для', 2),\n",
       " ('коммерческий', 2),\n",
       " ('жилой', 2),\n",
       " ('заниматься', 2),\n",
       " ('сделка', 2),\n",
       " ('приобретение', 1),\n",
       " ('сыграть', 1),\n",
       " ('проведение', 1),\n",
       " ('семья', 1),\n",
       " ('собственный', 1),\n",
       " ('подержать', 1),\n",
       " ('со', 1),\n",
       " ('подержанный', 1),\n",
       " ('профильный', 1),\n",
       " ('сдача', 1),\n",
       " ('ремонт', 1)]"
      ]
     },
     "execution_count": 23,
     "metadata": {},
     "output_type": "execute_result"
    }
   ],
   "source": [
    "# Используя этот список, начнем лемматизацию с помощью pymystem3\n",
    "m = Mystem()\n",
    "lemmatize_list = []\n",
    "for purpose in unique_purpose:\n",
    "    lemmatize_word = m.lemmatize(purpose)\n",
    "    lemmatize_list.extend(lemmatize_word)\n",
    "\n",
    "unique_lemmas = Counter(lemmatize_list)\n",
    "sorted(unique_lemmas.items(), key = lambda pair: pair[1], reverse = True)"
   ]
  },
  {
   "cell_type": "code",
   "execution_count": 24,
   "metadata": {},
   "outputs": [
    {
     "data": {
      "text/plain": [
       "[('покупка', 10),\n",
       " ('автомобиль', 9),\n",
       " ('образование', 9),\n",
       " ('жилье', 7),\n",
       " ('операция', 4),\n",
       " ('свадьба', 3),\n",
       " ('строительство', 3),\n",
       " ('получение', 3),\n",
       " ('сделка', 2),\n",
       " ('приобретение', 1),\n",
       " ('проведение', 1),\n",
       " ('семья', 1),\n",
       " ('сдача', 1),\n",
       " ('ремонт', 1)]"
      ]
     },
     "execution_count": 24,
     "metadata": {},
     "output_type": "execute_result"
    }
   ],
   "source": [
    "# Избавимся от предлогов, частиц, глаголов в инфинитиве и прилагательных:\n",
    "cleared_lemmatize_list = []\n",
    "for i in lemmatize_list:\n",
    "    if len(i) > 3 and i != ' ' and i != '\\n' and i.find('ть') == -1 and i.find('й', len(i)-1, len(i)) == -1:\n",
    "        cleared_lemmatize_list.append(i)\n",
    "\n",
    "cleared_unique_lemmas = Counter(cleared_lemmatize_list)\n",
    "sorted(cleared_unique_lemmas.items(), key = lambda pair: pair[1], reverse = True)"
   ]
  },
  {
   "cell_type": "markdown",
   "metadata": {},
   "source": [
    "Используя данный список, вполне можно начать проведение категоризации данных:"
   ]
  },
  {
   "cell_type": "markdown",
   "metadata": {},
   "source": [
    "### Категоризация данных"
   ]
  },
  {
   "cell_type": "markdown",
   "metadata": {},
   "source": [
    "Начнем с категоризации цели кредита, используя список полученный в прошлом пункте:\n",
    "Разделим его на четыре категории:\n",
    "    1. 'Покупка жилья'\n",
    "    2. 'Покупка автомобиля'\n",
    "    3. 'Получение образования'\n",
    "    4. 'Проведение свадьбы'\n",
    "Так как видно, что: \n",
    "    1. Леммы 'недвижимость', 'операция', 'жилье', 'строительство', 'ремонт', 'сдача', 'семья' - относятся к покупке жилья\n",
    "    2. Везде, где есть лемма 'автомобиль', 'сделка' - связаны с покупкой автомобиля\n",
    "    3. 'Образование', 'получение' связано с получением образованием\n",
    "    4. И 'проведение', 'свадьба' - связаны с проведением свадьбы\n"
   ]
  },
  {
   "cell_type": "code",
   "execution_count": 25,
   "metadata": {},
   "outputs": [
    {
     "name": "stdout",
     "output_type": "stream",
     "text": [
      "Покупка жилья            10811\n",
      "Покупка автомобиля        4306\n",
      "Получение образования     4013\n",
      "Проведение свадьбы        2324\n",
      "Name: purpose_category, dtype: int64\n",
      "Empty DataFrame\n",
      "Columns: [children, days_employed, dob_years, education, education_id, family_status, family_status_id, gender, income_type, debt, total_income, purpose, years_employed_check, purpose_category]\n",
      "Index: []\n"
     ]
    }
   ],
   "source": [
    "realty = ['покуп', 'жиль', 'строи', 'недвиж']\n",
    "car = ['автомоб']\n",
    "education = ['образов']\n",
    "marriage = ['свадьб']\n",
    "\n",
    "\n",
    "# Создадим функцию для внесения категории в новый столбец датасета\n",
    "df['purpose_category'] = 0\n",
    "def set_purpose_category(category_list, category):\n",
    "    join = '|'.join(category_list)\n",
    "    index = df[df['purpose'].str.lower().str.contains(join)].index.to_list()\n",
    "    for i in index:\n",
    "        df.loc[i, 'purpose_category'] = category\n",
    "    return df\n",
    "\n",
    "# Присвоим категории через созданную функцию\n",
    "set_purpose_category(realty, 'Покупка жилья') \n",
    "set_purpose_category(car, 'Покупка автомобиля') \n",
    "set_purpose_category(education, 'Получение образования') \n",
    "set_purpose_category(marriage, 'Проведение свадьбы') \n",
    "\n",
    "# Проверим не осталось ли пустых значений в новом столбце\n",
    "print(df['purpose_category'].value_counts())\n",
    "print(df.loc[(df['purpose_category'].isnull() == True)])"
   ]
  },
  {
   "cell_type": "markdown",
   "metadata": {},
   "source": [
    "Категоризация по цели кредита завершена, теперь организуем создание категорий для других показателей, начнем со стажа:\n",
    "Используя стаж работы в днях, преобразуем его в года, округляя вниз, и категоризируем:   "
   ]
  },
  {
   "cell_type": "code",
   "execution_count": 26,
   "metadata": {},
   "outputs": [
    {
     "data": {
      "text/plain": [
       "до 5 лет           10346\n",
       "от 5 до 10 лет      4838\n",
       "свыше 20 лет        4112\n",
       "от 10 до 20 лет     2158\n",
       "Name: days_employed_category, dtype: int64"
      ]
     },
     "metadata": {},
     "output_type": "display_data"
    }
   ],
   "source": [
    "def days_employed_categorize(days_employed):\n",
    "    years_employed = math.floor(days_employed / 365)\n",
    "    if years_employed <= 5:\n",
    "        return 'до 5 лет'\n",
    "    elif years_employed > 5 and years_employed <= 10:\n",
    "        return 'от 5 до 10 лет'\n",
    "    elif years_employed > 10 and years_employed <= 20:\n",
    "        return 'от 10 до 20 лет'\n",
    "    else:\n",
    "        return 'свыше 20 лет'\n",
    "\n",
    "# Применим функцию, и проверим её работоспособность\n",
    "df['days_employed_category'] = df['days_employed'].apply(days_employed_categorize)\n",
    "display(df['days_employed_category'].value_counts())"
   ]
  },
  {
   "cell_type": "markdown",
   "metadata": {},
   "source": [
    "<br> Теперь приступить к категоризации датасета по уровню дохода:\n",
    "<br> Категоризировать будем следующим образом:\n",
    "<br>    1. Низший класс\n",
    "<br>    2. Средний класс\n",
    "<br>    3. Высший класс\n",
    "<br> Так как нам неизвестно кредитный отдел какого банка, какого города, и какой страны выслал этот датасет, строить предположения на догадках будет неверно. \n",
    "Поэтому, сначала взглянем на общую стат. информацию по столбцу 'total_income', чтобы определиться с интервалом, по которому можно будет определить средний класс."
   ]
  },
  {
   "cell_type": "code",
   "execution_count": 27,
   "metadata": {},
   "outputs": [
    {
     "data": {
      "text/plain": [
       "count      21454\n",
       "mean      167431\n",
       "std        98060\n",
       "min        20667\n",
       "25%       107623\n",
       "50%       151887\n",
       "75%       202417\n",
       "max      2265604\n",
       "Name: total_income, dtype: int64"
      ]
     },
     "metadata": {},
     "output_type": "display_data"
    }
   ],
   "source": [
    "display(df['total_income'].describe().astype(int))"
   ]
  },
  {
   "cell_type": "markdown",
   "metadata": {},
   "source": [
    "Видим что медиана (50%) равна 150 тыс., 25% от датасета получают достаточно крупную сумму в месяц - 100 тыс., и 75% от датасета получают 200 тыс. в месяц.\n",
    "Поэтому основным показателем для установления интервала будем использовать медиану, сам интервал установим в ± 30 тысяч от медианы, так как он разобъет нашу выборку на три приблизительно равные части."
   ]
  },
  {
   "cell_type": "code",
   "execution_count": 28,
   "metadata": {},
   "outputs": [
    {
     "data": {
      "text/plain": [
       "Средний класс    7618\n",
       "Низший класс     7040\n",
       "Высший класс     6796\n",
       "Name: income_category, dtype: int64"
      ]
     },
     "metadata": {},
     "output_type": "display_data"
    }
   ],
   "source": [
    "medium_income = df['total_income'].median()\n",
    "floor_medium_income = medium_income - 30000\n",
    "ceil_medium_income = medium_income + 30000\n",
    "\n",
    "def income_categorize(total_income):\n",
    "    if total_income < floor_medium_income:\n",
    "        return 'Низший класс'\n",
    "    elif floor_medium_income < total_income and total_income < ceil_medium_income:\n",
    "        return 'Средний класс'\n",
    "    elif total_income > ceil_medium_income:\n",
    "        return 'Высший класс'\n",
    "        \n",
    "# Применим функцию, и проверим её работоспособность\n",
    "df['income_category'] = df['total_income'].apply(income_categorize)\n",
    "display(df['income_category'].value_counts())    "
   ]
  },
  {
   "cell_type": "markdown",
   "metadata": {},
   "source": [
    "И последним этапом в категоризации нашего датасета, будет категоризация по возрасту:"
   ]
  },
  {
   "cell_type": "code",
   "execution_count": 29,
   "metadata": {},
   "outputs": [
    {
     "data": {
      "text/plain": [
       "Средний возраст           12958\n",
       "Предпенсионный возраст     3884\n",
       "Молодежь                   3717\n",
       "Пенсионер                   895\n",
       "Name: dob_years_category, dtype: int64"
      ]
     },
     "metadata": {},
     "output_type": "display_data"
    }
   ],
   "source": [
    "def dob_years_categorize(dob_years):\n",
    "    if dob_years <= 30:\n",
    "        return 'Молодежь'\n",
    "    elif dob_years > 30 and dob_years < 55:\n",
    "        return 'Средний возраст'\n",
    "    elif dob_years >= 55 and dob_years < 65:\n",
    "        return 'Предпенсионный возраст'\n",
    "    elif dob_years >= 65:\n",
    "        return 'Пенсионер'\n",
    "\n",
    "# Применим функцию, и проверим её работоспособность\n",
    "df['dob_years_category'] = df['dob_years'].apply(dob_years_categorize)\n",
    "display(df['dob_years_category'].value_counts())"
   ]
  },
  {
   "cell_type": "markdown",
   "metadata": {},
   "source": [
    "И напоследок, сведем уже готовые категории по образованию, и типу занятости для наглядности:"
   ]
  },
  {
   "cell_type": "code",
   "execution_count": 30,
   "metadata": {},
   "outputs": [],
   "source": [
    "#display(df['education'].value_counts())"
   ]
  },
  {
   "cell_type": "markdown",
   "metadata": {},
   "source": [
    "При расчете зависимостей по образованию и возврату кредита в срок, следует обратить внимание, что клиентов с ученой степенью наименьшее количество."
   ]
  },
  {
   "cell_type": "code",
   "execution_count": 31,
   "metadata": {},
   "outputs": [],
   "source": [
    "#display(df['income_type'].value_counts())"
   ]
  },
  {
   "cell_type": "markdown",
   "metadata": {},
   "source": [
    "По аналогии с предыдущим выводом, следует обратить внимание, что категории 'безработный', 'предприниматель' 'в декрете' и 'студент' практически не влияют на выборку."
   ]
  },
  {
   "cell_type": "markdown",
   "metadata": {},
   "source": [
    "Для типа образования и семейного статуса в датасете присутствуют числовые идентификаторы, что намекает нам на готовую категоризацию по этим показателям, проверим, так ли это:"
   ]
  },
  {
   "cell_type": "code",
   "execution_count": 32,
   "metadata": {},
   "outputs": [
    {
     "data": {
      "text/plain": [
       "education\n",
       "высшее                 [0]\n",
       "начальное              [3]\n",
       "неоконченное высшее    [2]\n",
       "среднее                [1]\n",
       "ученая степень         [4]\n",
       "Name: education_id, dtype: object"
      ]
     },
     "metadata": {},
     "output_type": "display_data"
    },
    {
     "data": {
      "text/plain": [
       "family_status\n",
       "Не женат / не замужем    [4]\n",
       "в разводе                [3]\n",
       "вдовец / вдова           [2]\n",
       "гражданский брак         [1]\n",
       "женат / замужем          [0]\n",
       "Name: family_status_id, dtype: object"
      ]
     },
     "metadata": {},
     "output_type": "display_data"
    }
   ],
   "source": [
    "display(df.groupby('education')['education_id'].unique())\n",
    "display(df.groupby('family_status')['family_status_id'].unique())"
   ]
  },
  {
   "cell_type": "markdown",
   "metadata": {},
   "source": [
    "<br> Видим, что каждому уникальному типу образованию и семейному статусу соответствует свой уникальный числовой идентификатор.\n",
    "<br> Оставшуюся категоризацию по количеству детей выполнять не имеет практического смысла, так как количество детей само по себе уже является категорией. \n",
    "<br> Соответственно, категоризация завершена, теперь можно приступать к поиску зависимостей."
   ]
  },
  {
   "cell_type": "markdown",
   "metadata": {},
   "source": [
    "## Выявление зависимостей"
   ]
  },
  {
   "cell_type": "markdown",
   "metadata": {},
   "source": [
    "<br> Для выявления зависимости, будем использовать простой метод через среднее значение показателя 'debt':\n",
    "<br> Чем оно ближе к 1, тем меньше вероятность возврата кредита в срок\n",
    "<br> Чем оно ближе к 0, тем больше вероятность возврата кредита в срок\n",
    "\n",
    "<br> Используем для этого следующую функцию, которая на входе будет принимать столбец категории, \n",
    "<br> А на выходе выдавать сводную таблицу с количеством клиентов по категории, количеством должников, и вероятностью невозврата кредита в срок:"
   ]
  },
  {
   "cell_type": "code",
   "execution_count": 33,
   "metadata": {},
   "outputs": [],
   "source": [
    "def correlation(category):\n",
    "    corr_table = df.pivot_table(values = ['debt'], index = [category], aggfunc= {'debt': ['count', 'sum', 'mean']})\n",
    "    сorr_table = corr_table.rename({'count': 'Кол-во клиентов', 'mean' : 'Вероятность невозврата в срок', 'sum' : 'Кол-во должников'}, axis = 'columns', inplace = True)\n",
    "    return corr_table\n"
   ]
  },
  {
   "cell_type": "markdown",
   "metadata": {},
   "source": [
    "- Есть ли зависимость между наличием детей и возвратом кредита в срок?"
   ]
  },
  {
   "cell_type": "code",
   "execution_count": 34,
   "metadata": {},
   "outputs": [
    {
     "data": {
      "text/html": [
       "<div>\n",
       "<style scoped>\n",
       "    .dataframe tbody tr th:only-of-type {\n",
       "        vertical-align: middle;\n",
       "    }\n",
       "\n",
       "    .dataframe tbody tr th {\n",
       "        vertical-align: top;\n",
       "    }\n",
       "\n",
       "    .dataframe thead tr th {\n",
       "        text-align: left;\n",
       "    }\n",
       "\n",
       "    .dataframe thead tr:last-of-type th {\n",
       "        text-align: right;\n",
       "    }\n",
       "</style>\n",
       "<table border=\"1\" class=\"dataframe\">\n",
       "  <thead>\n",
       "    <tr>\n",
       "      <th></th>\n",
       "      <th colspan=\"3\" halign=\"left\">debt</th>\n",
       "    </tr>\n",
       "    <tr>\n",
       "      <th></th>\n",
       "      <th>Кол-во клиентов</th>\n",
       "      <th>Вероятность невозврата в срок</th>\n",
       "      <th>Кол-во должников</th>\n",
       "    </tr>\n",
       "    <tr>\n",
       "      <th>children</th>\n",
       "      <th></th>\n",
       "      <th></th>\n",
       "      <th></th>\n",
       "    </tr>\n",
       "  </thead>\n",
       "  <tbody>\n",
       "    <tr>\n",
       "      <td>0</td>\n",
       "      <td>14091.0</td>\n",
       "      <td>0.075438</td>\n",
       "      <td>1063.0</td>\n",
       "    </tr>\n",
       "    <tr>\n",
       "      <td>1</td>\n",
       "      <td>4855.0</td>\n",
       "      <td>0.091658</td>\n",
       "      <td>445.0</td>\n",
       "    </tr>\n",
       "    <tr>\n",
       "      <td>2</td>\n",
       "      <td>2128.0</td>\n",
       "      <td>0.094925</td>\n",
       "      <td>202.0</td>\n",
       "    </tr>\n",
       "    <tr>\n",
       "      <td>3</td>\n",
       "      <td>330.0</td>\n",
       "      <td>0.081818</td>\n",
       "      <td>27.0</td>\n",
       "    </tr>\n",
       "    <tr>\n",
       "      <td>4</td>\n",
       "      <td>41.0</td>\n",
       "      <td>0.097561</td>\n",
       "      <td>4.0</td>\n",
       "    </tr>\n",
       "    <tr>\n",
       "      <td>5</td>\n",
       "      <td>9.0</td>\n",
       "      <td>0.000000</td>\n",
       "      <td>0.0</td>\n",
       "    </tr>\n",
       "  </tbody>\n",
       "</table>\n",
       "</div>"
      ],
      "text/plain": [
       "                    debt                                               \n",
       "         Кол-во клиентов Вероятность невозврата в срок Кол-во должников\n",
       "children                                                               \n",
       "0                14091.0                      0.075438           1063.0\n",
       "1                 4855.0                      0.091658            445.0\n",
       "2                 2128.0                      0.094925            202.0\n",
       "3                  330.0                      0.081818             27.0\n",
       "4                   41.0                      0.097561              4.0\n",
       "5                    9.0                      0.000000              0.0"
      ]
     },
     "metadata": {},
     "output_type": "display_data"
    }
   ],
   "source": [
    "display(correlation('children').sort_values(by = 'children', ascending = True))"
   ]
  },
  {
   "cell_type": "markdown",
   "metadata": {},
   "source": [
    "**Вывод:** Зависимость между наличием детей и возвратом кредита в срок присутствует, клиенты у которых дети отсутствуют, возвращают кредит в срок чаще, чем клиенты у которых от 1 до 4 детей. Однако, лучше всего исполняют свои обязательства по выплатам клиенты, у которых пятеро детей. Чаще всего не выплачивают кредит в срок клиенты с 4-мя детьми, клиенты же с одним или двумя детьми приблизительно одинаково плохо исполняют свои обязательства. Однако, выбирая между клиентом с 1 или 2 детьми, всё же лучше обратить внимание на клиента с 1 ребенком."
   ]
  },
  {
   "cell_type": "markdown",
   "metadata": {},
   "source": [
    "- Есть ли зависимость между семейным положением и возвратом кредита в срок?"
   ]
  },
  {
   "cell_type": "code",
   "execution_count": 35,
   "metadata": {},
   "outputs": [
    {
     "data": {
      "text/html": [
       "<div>\n",
       "<style scoped>\n",
       "    .dataframe tbody tr th:only-of-type {\n",
       "        vertical-align: middle;\n",
       "    }\n",
       "\n",
       "    .dataframe tbody tr th {\n",
       "        vertical-align: top;\n",
       "    }\n",
       "\n",
       "    .dataframe thead tr th {\n",
       "        text-align: left;\n",
       "    }\n",
       "\n",
       "    .dataframe thead tr:last-of-type th {\n",
       "        text-align: right;\n",
       "    }\n",
       "</style>\n",
       "<table border=\"1\" class=\"dataframe\">\n",
       "  <thead>\n",
       "    <tr>\n",
       "      <th></th>\n",
       "      <th colspan=\"3\" halign=\"left\">debt</th>\n",
       "    </tr>\n",
       "    <tr>\n",
       "      <th></th>\n",
       "      <th>Кол-во клиентов</th>\n",
       "      <th>Вероятность невозврата в срок</th>\n",
       "      <th>Кол-во должников</th>\n",
       "    </tr>\n",
       "    <tr>\n",
       "      <th>family_status</th>\n",
       "      <th></th>\n",
       "      <th></th>\n",
       "      <th></th>\n",
       "    </tr>\n",
       "  </thead>\n",
       "  <tbody>\n",
       "    <tr>\n",
       "      <td>Не женат / не замужем</td>\n",
       "      <td>2810.0</td>\n",
       "      <td>0.097509</td>\n",
       "      <td>274.0</td>\n",
       "    </tr>\n",
       "    <tr>\n",
       "      <td>в разводе</td>\n",
       "      <td>1195.0</td>\n",
       "      <td>0.071130</td>\n",
       "      <td>85.0</td>\n",
       "    </tr>\n",
       "    <tr>\n",
       "      <td>вдовец / вдова</td>\n",
       "      <td>959.0</td>\n",
       "      <td>0.065693</td>\n",
       "      <td>63.0</td>\n",
       "    </tr>\n",
       "    <tr>\n",
       "      <td>гражданский брак</td>\n",
       "      <td>4151.0</td>\n",
       "      <td>0.093471</td>\n",
       "      <td>388.0</td>\n",
       "    </tr>\n",
       "    <tr>\n",
       "      <td>женат / замужем</td>\n",
       "      <td>12339.0</td>\n",
       "      <td>0.075452</td>\n",
       "      <td>931.0</td>\n",
       "    </tr>\n",
       "  </tbody>\n",
       "</table>\n",
       "</div>"
      ],
      "text/plain": [
       "                                 debt                                \\\n",
       "                      Кол-во клиентов Вероятность невозврата в срок   \n",
       "family_status                                                         \n",
       "Не женат / не замужем          2810.0                      0.097509   \n",
       "в разводе                      1195.0                      0.071130   \n",
       "вдовец / вдова                  959.0                      0.065693   \n",
       "гражданский брак               4151.0                      0.093471   \n",
       "женат / замужем               12339.0                      0.075452   \n",
       "\n",
       "                                        \n",
       "                      Кол-во должников  \n",
       "family_status                           \n",
       "Не женат / не замужем            274.0  \n",
       "в разводе                         85.0  \n",
       "вдовец / вдова                    63.0  \n",
       "гражданский брак                 388.0  \n",
       "женат / замужем                  931.0  "
      ]
     },
     "metadata": {},
     "output_type": "display_data"
    }
   ],
   "source": [
    "display(correlation('family_status'))"
   ]
  },
  {
   "cell_type": "markdown",
   "metadata": {},
   "source": [
    "**Вывод:** Вдовцы/вдовы, клиенты в разводе, женатые/замужние клиенты возвращают кредит в срок примерно с одинаковой вероятностью. Клиенты, находящиеся в гражданском браке, или не женатые/не замужние чаще нарушают сроки выплаты по кредиту."
   ]
  },
  {
   "cell_type": "markdown",
   "metadata": {},
   "source": [
    "<div class=\"alert alert-success\">\n",
    "<font size=\"5\"><b>Комментарий ревьюера</b></font>\n",
    "\n",
    "Вывод не противоречит полученному результату. \n",
    "\n",
    "</div>"
   ]
  },
  {
   "cell_type": "markdown",
   "metadata": {},
   "source": [
    "- Есть ли зависимость между уровнем дохода и возвратом кредита в срок?"
   ]
  },
  {
   "cell_type": "code",
   "execution_count": 36,
   "metadata": {},
   "outputs": [
    {
     "data": {
      "text/html": [
       "<div>\n",
       "<style scoped>\n",
       "    .dataframe tbody tr th:only-of-type {\n",
       "        vertical-align: middle;\n",
       "    }\n",
       "\n",
       "    .dataframe tbody tr th {\n",
       "        vertical-align: top;\n",
       "    }\n",
       "\n",
       "    .dataframe thead tr th {\n",
       "        text-align: left;\n",
       "    }\n",
       "\n",
       "    .dataframe thead tr:last-of-type th {\n",
       "        text-align: right;\n",
       "    }\n",
       "</style>\n",
       "<table border=\"1\" class=\"dataframe\">\n",
       "  <thead>\n",
       "    <tr>\n",
       "      <th></th>\n",
       "      <th colspan=\"3\" halign=\"left\">debt</th>\n",
       "    </tr>\n",
       "    <tr>\n",
       "      <th></th>\n",
       "      <th>Кол-во клиентов</th>\n",
       "      <th>Вероятность невозврата в срок</th>\n",
       "      <th>Кол-во должников</th>\n",
       "    </tr>\n",
       "    <tr>\n",
       "      <th>income_category</th>\n",
       "      <th></th>\n",
       "      <th></th>\n",
       "      <th></th>\n",
       "    </tr>\n",
       "  </thead>\n",
       "  <tbody>\n",
       "    <tr>\n",
       "      <td>Высший класс</td>\n",
       "      <td>6796.0</td>\n",
       "      <td>0.073573</td>\n",
       "      <td>500.0</td>\n",
       "    </tr>\n",
       "    <tr>\n",
       "      <td>Низший класс</td>\n",
       "      <td>7040.0</td>\n",
       "      <td>0.081392</td>\n",
       "      <td>573.0</td>\n",
       "    </tr>\n",
       "    <tr>\n",
       "      <td>Средний класс</td>\n",
       "      <td>7618.0</td>\n",
       "      <td>0.087687</td>\n",
       "      <td>668.0</td>\n",
       "    </tr>\n",
       "  </tbody>\n",
       "</table>\n",
       "</div>"
      ],
      "text/plain": [
       "                           debt                                               \n",
       "                Кол-во клиентов Вероятность невозврата в срок Кол-во должников\n",
       "income_category                                                               \n",
       "Высший класс             6796.0                      0.073573            500.0\n",
       "Низший класс             7040.0                      0.081392            573.0\n",
       "Средний класс            7618.0                      0.087687            668.0"
      ]
     },
     "metadata": {},
     "output_type": "display_data"
    }
   ],
   "source": [
    "display(correlation('income_category'))"
   ]
  },
  {
   "cell_type": "markdown",
   "metadata": {},
   "source": [
    "**Вывод:** Довольно очевидно, что клиенты с более высоким заработком возвращают кредит в срок. Однако, клиенты с низким заработком чаще соблюдают сроки выплаты по кредиту, чем клиенты со средним заработком."
   ]
  },
  {
   "cell_type": "markdown",
   "metadata": {},
   "source": [
    "- Как разные цели кредита влияют на его возврат в срок?"
   ]
  },
  {
   "cell_type": "markdown",
   "metadata": {},
   "source": [
    "Проверим зависимость между стажем работы и возвратом кредита в срок:"
   ]
  },
  {
   "cell_type": "code",
   "execution_count": 37,
   "metadata": {},
   "outputs": [
    {
     "data": {
      "text/html": [
       "<div>\n",
       "<style scoped>\n",
       "    .dataframe tbody tr th:only-of-type {\n",
       "        vertical-align: middle;\n",
       "    }\n",
       "\n",
       "    .dataframe tbody tr th {\n",
       "        vertical-align: top;\n",
       "    }\n",
       "\n",
       "    .dataframe thead tr th {\n",
       "        text-align: left;\n",
       "    }\n",
       "\n",
       "    .dataframe thead tr:last-of-type th {\n",
       "        text-align: right;\n",
       "    }\n",
       "</style>\n",
       "<table border=\"1\" class=\"dataframe\">\n",
       "  <thead>\n",
       "    <tr>\n",
       "      <th></th>\n",
       "      <th colspan=\"3\" halign=\"left\">debt</th>\n",
       "    </tr>\n",
       "    <tr>\n",
       "      <th></th>\n",
       "      <th>Кол-во клиентов</th>\n",
       "      <th>Вероятность невозврата в срок</th>\n",
       "      <th>Кол-во должников</th>\n",
       "    </tr>\n",
       "    <tr>\n",
       "      <th>days_employed_category</th>\n",
       "      <th></th>\n",
       "      <th></th>\n",
       "      <th></th>\n",
       "    </tr>\n",
       "  </thead>\n",
       "  <tbody>\n",
       "    <tr>\n",
       "      <td>до 5 лет</td>\n",
       "      <td>10346.0</td>\n",
       "      <td>0.100425</td>\n",
       "      <td>1039.0</td>\n",
       "    </tr>\n",
       "    <tr>\n",
       "      <td>от 10 до 20 лет</td>\n",
       "      <td>2158.0</td>\n",
       "      <td>0.054680</td>\n",
       "      <td>118.0</td>\n",
       "    </tr>\n",
       "    <tr>\n",
       "      <td>от 5 до 10 лет</td>\n",
       "      <td>4838.0</td>\n",
       "      <td>0.077511</td>\n",
       "      <td>375.0</td>\n",
       "    </tr>\n",
       "    <tr>\n",
       "      <td>свыше 20 лет</td>\n",
       "      <td>4112.0</td>\n",
       "      <td>0.050827</td>\n",
       "      <td>209.0</td>\n",
       "    </tr>\n",
       "  </tbody>\n",
       "</table>\n",
       "</div>"
      ],
      "text/plain": [
       "                                  debt                                \\\n",
       "                       Кол-во клиентов Вероятность невозврата в срок   \n",
       "days_employed_category                                                 \n",
       "до 5 лет                       10346.0                      0.100425   \n",
       "от 10 до 20 лет                 2158.0                      0.054680   \n",
       "от 5 до 10 лет                  4838.0                      0.077511   \n",
       "свыше 20 лет                    4112.0                      0.050827   \n",
       "\n",
       "                                         \n",
       "                       Кол-во должников  \n",
       "days_employed_category                   \n",
       "до 5 лет                         1039.0  \n",
       "от 10 до 20 лет                   118.0  \n",
       "от 5 до 10 лет                    375.0  \n",
       "свыше 20 лет                      209.0  "
      ]
     },
     "metadata": {},
     "output_type": "display_data"
    }
   ],
   "source": [
    "display(correlation('days_employed_category'))"
   ]
  },
  {
   "cell_type": "markdown",
   "metadata": {},
   "source": [
    "**Вывод:** Так же достаточно очевиден, чем больше стаж работы, тем клиент менее склонен к просрочкам по выплатам"
   ]
  },
  {
   "cell_type": "markdown",
   "metadata": {},
   "source": [
    "Проверим зависимость между возрастом клиента и возвратом кредита в срок:"
   ]
  },
  {
   "cell_type": "code",
   "execution_count": 38,
   "metadata": {},
   "outputs": [
    {
     "data": {
      "text/html": [
       "<div>\n",
       "<style scoped>\n",
       "    .dataframe tbody tr th:only-of-type {\n",
       "        vertical-align: middle;\n",
       "    }\n",
       "\n",
       "    .dataframe tbody tr th {\n",
       "        vertical-align: top;\n",
       "    }\n",
       "\n",
       "    .dataframe thead tr th {\n",
       "        text-align: left;\n",
       "    }\n",
       "\n",
       "    .dataframe thead tr:last-of-type th {\n",
       "        text-align: right;\n",
       "    }\n",
       "</style>\n",
       "<table border=\"1\" class=\"dataframe\">\n",
       "  <thead>\n",
       "    <tr>\n",
       "      <th></th>\n",
       "      <th colspan=\"3\" halign=\"left\">debt</th>\n",
       "    </tr>\n",
       "    <tr>\n",
       "      <th></th>\n",
       "      <th>Кол-во клиентов</th>\n",
       "      <th>Вероятность невозврата в срок</th>\n",
       "      <th>Кол-во должников</th>\n",
       "    </tr>\n",
       "    <tr>\n",
       "      <th>dob_years_category</th>\n",
       "      <th></th>\n",
       "      <th></th>\n",
       "      <th></th>\n",
       "    </tr>\n",
       "  </thead>\n",
       "  <tbody>\n",
       "    <tr>\n",
       "      <td>Молодежь</td>\n",
       "      <td>3717.0</td>\n",
       "      <td>0.108421</td>\n",
       "      <td>403.0</td>\n",
       "    </tr>\n",
       "    <tr>\n",
       "      <td>Пенсионер</td>\n",
       "      <td>895.0</td>\n",
       "      <td>0.054749</td>\n",
       "      <td>49.0</td>\n",
       "    </tr>\n",
       "    <tr>\n",
       "      <td>Предпенсионный возраст</td>\n",
       "      <td>3884.0</td>\n",
       "      <td>0.055098</td>\n",
       "      <td>214.0</td>\n",
       "    </tr>\n",
       "    <tr>\n",
       "      <td>Средний возраст</td>\n",
       "      <td>12958.0</td>\n",
       "      <td>0.082960</td>\n",
       "      <td>1075.0</td>\n",
       "    </tr>\n",
       "  </tbody>\n",
       "</table>\n",
       "</div>"
      ],
      "text/plain": [
       "                                  debt                                \\\n",
       "                       Кол-во клиентов Вероятность невозврата в срок   \n",
       "dob_years_category                                                     \n",
       "Молодежь                        3717.0                      0.108421   \n",
       "Пенсионер                        895.0                      0.054749   \n",
       "Предпенсионный возраст          3884.0                      0.055098   \n",
       "Средний возраст                12958.0                      0.082960   \n",
       "\n",
       "                                         \n",
       "                       Кол-во должников  \n",
       "dob_years_category                       \n",
       "Молодежь                          403.0  \n",
       "Пенсионер                          49.0  \n",
       "Предпенсионный возраст            214.0  \n",
       "Средний возраст                  1075.0  "
      ]
     },
     "metadata": {},
     "output_type": "display_data"
    }
   ],
   "source": [
    "display(correlation('dob_years_category'))"
   ]
  },
  {
   "cell_type": "markdown",
   "metadata": {},
   "source": [
    "**Вывод:** Аналогично с предыдущим выводом, чем старше клиент, тем реже он нарушает свои обязательства по выплатам"
   ]
  },
  {
   "cell_type": "markdown",
   "metadata": {},
   "source": [
    "Проверим зависимость между целями кредита и возвратом кредита в срок:"
   ]
  },
  {
   "cell_type": "code",
   "execution_count": 39,
   "metadata": {},
   "outputs": [
    {
     "data": {
      "text/html": [
       "<div>\n",
       "<style scoped>\n",
       "    .dataframe tbody tr th:only-of-type {\n",
       "        vertical-align: middle;\n",
       "    }\n",
       "\n",
       "    .dataframe tbody tr th {\n",
       "        vertical-align: top;\n",
       "    }\n",
       "\n",
       "    .dataframe thead tr th {\n",
       "        text-align: left;\n",
       "    }\n",
       "\n",
       "    .dataframe thead tr:last-of-type th {\n",
       "        text-align: right;\n",
       "    }\n",
       "</style>\n",
       "<table border=\"1\" class=\"dataframe\">\n",
       "  <thead>\n",
       "    <tr>\n",
       "      <th></th>\n",
       "      <th colspan=\"3\" halign=\"left\">debt</th>\n",
       "    </tr>\n",
       "    <tr>\n",
       "      <th></th>\n",
       "      <th>Кол-во клиентов</th>\n",
       "      <th>Вероятность невозврата в срок</th>\n",
       "      <th>Кол-во должников</th>\n",
       "    </tr>\n",
       "    <tr>\n",
       "      <th>purpose_category</th>\n",
       "      <th></th>\n",
       "      <th></th>\n",
       "      <th></th>\n",
       "    </tr>\n",
       "  </thead>\n",
       "  <tbody>\n",
       "    <tr>\n",
       "      <td>Покупка автомобиля</td>\n",
       "      <td>4306.0</td>\n",
       "      <td>0.093590</td>\n",
       "      <td>403.0</td>\n",
       "    </tr>\n",
       "    <tr>\n",
       "      <td>Покупка жилья</td>\n",
       "      <td>10811.0</td>\n",
       "      <td>0.072334</td>\n",
       "      <td>782.0</td>\n",
       "    </tr>\n",
       "    <tr>\n",
       "      <td>Получение образования</td>\n",
       "      <td>4013.0</td>\n",
       "      <td>0.092200</td>\n",
       "      <td>370.0</td>\n",
       "    </tr>\n",
       "    <tr>\n",
       "      <td>Проведение свадьбы</td>\n",
       "      <td>2324.0</td>\n",
       "      <td>0.080034</td>\n",
       "      <td>186.0</td>\n",
       "    </tr>\n",
       "  </tbody>\n",
       "</table>\n",
       "</div>"
      ],
      "text/plain": [
       "                                 debt                                \\\n",
       "                      Кол-во клиентов Вероятность невозврата в срок   \n",
       "purpose_category                                                      \n",
       "Покупка автомобиля             4306.0                      0.093590   \n",
       "Покупка жилья                 10811.0                      0.072334   \n",
       "Получение образования          4013.0                      0.092200   \n",
       "Проведение свадьбы             2324.0                      0.080034   \n",
       "\n",
       "                                        \n",
       "                      Кол-во должников  \n",
       "purpose_category                        \n",
       "Покупка автомобиля               403.0  \n",
       "Покупка жилья                    782.0  \n",
       "Получение образования            370.0  \n",
       "Проведение свадьбы               186.0  "
      ]
     },
     "metadata": {},
     "output_type": "display_data"
    }
   ],
   "source": [
    "display(correlation('purpose_category'))"
   ]
  },
  {
   "cell_type": "markdown",
   "metadata": {},
   "source": [
    "**Вывод:** Покупка жилья и проведение свадьбы для большинства людей это более серьезный и ответственный шаг, чем покупка автомобиля и получение образования. Поэтому такая зависимость вполне закономерна."
   ]
  },
  {
   "cell_type": "markdown",
   "metadata": {},
   "source": [
    "Проверим зависимость между образованием клиента и возвратом кредита в срок:"
   ]
  },
  {
   "cell_type": "code",
   "execution_count": 40,
   "metadata": {},
   "outputs": [
    {
     "data": {
      "text/html": [
       "<div>\n",
       "<style scoped>\n",
       "    .dataframe tbody tr th:only-of-type {\n",
       "        vertical-align: middle;\n",
       "    }\n",
       "\n",
       "    .dataframe tbody tr th {\n",
       "        vertical-align: top;\n",
       "    }\n",
       "\n",
       "    .dataframe thead tr th {\n",
       "        text-align: left;\n",
       "    }\n",
       "\n",
       "    .dataframe thead tr:last-of-type th {\n",
       "        text-align: right;\n",
       "    }\n",
       "</style>\n",
       "<table border=\"1\" class=\"dataframe\">\n",
       "  <thead>\n",
       "    <tr>\n",
       "      <th></th>\n",
       "      <th colspan=\"3\" halign=\"left\">debt</th>\n",
       "    </tr>\n",
       "    <tr>\n",
       "      <th></th>\n",
       "      <th>Кол-во клиентов</th>\n",
       "      <th>Вероятность невозврата в срок</th>\n",
       "      <th>Кол-во должников</th>\n",
       "    </tr>\n",
       "    <tr>\n",
       "      <th>education</th>\n",
       "      <th></th>\n",
       "      <th></th>\n",
       "      <th></th>\n",
       "    </tr>\n",
       "  </thead>\n",
       "  <tbody>\n",
       "    <tr>\n",
       "      <td>высшее</td>\n",
       "      <td>5250.0</td>\n",
       "      <td>0.052952</td>\n",
       "      <td>278.0</td>\n",
       "    </tr>\n",
       "    <tr>\n",
       "      <td>начальное</td>\n",
       "      <td>282.0</td>\n",
       "      <td>0.109929</td>\n",
       "      <td>31.0</td>\n",
       "    </tr>\n",
       "    <tr>\n",
       "      <td>неоконченное высшее</td>\n",
       "      <td>744.0</td>\n",
       "      <td>0.091398</td>\n",
       "      <td>68.0</td>\n",
       "    </tr>\n",
       "    <tr>\n",
       "      <td>среднее</td>\n",
       "      <td>15172.0</td>\n",
       "      <td>0.089902</td>\n",
       "      <td>1364.0</td>\n",
       "    </tr>\n",
       "    <tr>\n",
       "      <td>ученая степень</td>\n",
       "      <td>6.0</td>\n",
       "      <td>0.000000</td>\n",
       "      <td>0.0</td>\n",
       "    </tr>\n",
       "  </tbody>\n",
       "</table>\n",
       "</div>"
      ],
      "text/plain": [
       "                               debt                                \\\n",
       "                    Кол-во клиентов Вероятность невозврата в срок   \n",
       "education                                                           \n",
       "высшее                       5250.0                      0.052952   \n",
       "начальное                     282.0                      0.109929   \n",
       "неоконченное высшее           744.0                      0.091398   \n",
       "среднее                     15172.0                      0.089902   \n",
       "ученая степень                  6.0                      0.000000   \n",
       "\n",
       "                                      \n",
       "                    Кол-во должников  \n",
       "education                             \n",
       "высшее                         278.0  \n",
       "начальное                       31.0  \n",
       "неоконченное высшее             68.0  \n",
       "среднее                       1364.0  \n",
       "ученая степень                   0.0  "
      ]
     },
     "metadata": {},
     "output_type": "display_data"
    }
   ],
   "source": [
    "display(correlation('education'))"
   ]
  },
  {
   "cell_type": "markdown",
   "metadata": {},
   "source": [
    "**Вывод:** Как уже было сказано в конце пункта категоризации данных, размер выборки клиентов с ученой степенью достаточно мал. Поэтому делать вывод о том, что все люди с ученой степенью, всегда выплачивают кредит в указанный срок - пока что рано. Однако, именно в этом датасете, так и произошло. \n",
    "В остальном, вывод тоже достаточно закономерен, чем выше качество образования у клиента - тем реже он пропускает установленные сроки выплаты по кредиту"
   ]
  },
  {
   "cell_type": "markdown",
   "metadata": {},
   "source": [
    "И напоследок, проверим зависимость между типом занятости и возвратом кредита в срок. Для получения более корректных значений, будем использовать два фактора: категория доходов и тип занятости. \n",
    "Для этого вместо функции, создадим сводную таблицу, и применим к ней aggfunc для расчета зависимости."
   ]
  },
  {
   "cell_type": "code",
   "execution_count": 41,
   "metadata": {},
   "outputs": [
    {
     "data": {
      "text/html": [
       "<div>\n",
       "<style scoped>\n",
       "    .dataframe tbody tr th:only-of-type {\n",
       "        vertical-align: middle;\n",
       "    }\n",
       "\n",
       "    .dataframe tbody tr th {\n",
       "        vertical-align: top;\n",
       "    }\n",
       "\n",
       "    .dataframe thead th {\n",
       "        text-align: right;\n",
       "    }\n",
       "</style>\n",
       "<table border=\"1\" class=\"dataframe\">\n",
       "  <thead>\n",
       "    <tr style=\"text-align: right;\">\n",
       "      <th></th>\n",
       "      <th></th>\n",
       "      <th>debt</th>\n",
       "    </tr>\n",
       "    <tr>\n",
       "      <th>income_category</th>\n",
       "      <th>income_type</th>\n",
       "      <th></th>\n",
       "    </tr>\n",
       "  </thead>\n",
       "  <tbody>\n",
       "    <tr>\n",
       "      <td rowspan=\"6\" valign=\"top\">Высший класс</td>\n",
       "      <td>безработный</td>\n",
       "      <td>0.000000</td>\n",
       "    </tr>\n",
       "    <tr>\n",
       "      <td>госслужащий</td>\n",
       "      <td>0.057778</td>\n",
       "    </tr>\n",
       "    <tr>\n",
       "      <td>компаньон</td>\n",
       "      <td>0.065749</td>\n",
       "    </tr>\n",
       "    <tr>\n",
       "      <td>пенсионер</td>\n",
       "      <td>0.060056</td>\n",
       "    </tr>\n",
       "    <tr>\n",
       "      <td>предприниматель</td>\n",
       "      <td>0.000000</td>\n",
       "    </tr>\n",
       "    <tr>\n",
       "      <td>сотрудник</td>\n",
       "      <td>0.086018</td>\n",
       "    </tr>\n",
       "    <tr>\n",
       "      <td rowspan=\"7\" valign=\"top\">Низший класс</td>\n",
       "      <td>безработный</td>\n",
       "      <td>1.000000</td>\n",
       "    </tr>\n",
       "    <tr>\n",
       "      <td>в декрете</td>\n",
       "      <td>1.000000</td>\n",
       "    </tr>\n",
       "    <tr>\n",
       "      <td>госслужащий</td>\n",
       "      <td>0.069717</td>\n",
       "    </tr>\n",
       "    <tr>\n",
       "      <td>компаньон</td>\n",
       "      <td>0.086142</td>\n",
       "    </tr>\n",
       "    <tr>\n",
       "      <td>пенсионер</td>\n",
       "      <td>0.047513</td>\n",
       "    </tr>\n",
       "    <tr>\n",
       "      <td>сотрудник</td>\n",
       "      <td>0.097286</td>\n",
       "    </tr>\n",
       "    <tr>\n",
       "      <td>студент</td>\n",
       "      <td>0.000000</td>\n",
       "    </tr>\n",
       "    <tr>\n",
       "      <td rowspan=\"4\" valign=\"top\">Средний класс</td>\n",
       "      <td>госслужащий</td>\n",
       "      <td>0.051095</td>\n",
       "    </tr>\n",
       "    <tr>\n",
       "      <td>компаньон</td>\n",
       "      <td>0.080344</td>\n",
       "    </tr>\n",
       "    <tr>\n",
       "      <td>пенсионер</td>\n",
       "      <td>0.066465</td>\n",
       "    </tr>\n",
       "    <tr>\n",
       "      <td>сотрудник</td>\n",
       "      <td>0.101103</td>\n",
       "    </tr>\n",
       "  </tbody>\n",
       "</table>\n",
       "</div>"
      ],
      "text/plain": [
       "                                     debt\n",
       "income_category income_type              \n",
       "Высший класс    безработный      0.000000\n",
       "                госслужащий      0.057778\n",
       "                компаньон        0.065749\n",
       "                пенсионер        0.060056\n",
       "                предприниматель  0.000000\n",
       "                сотрудник        0.086018\n",
       "Низший класс    безработный      1.000000\n",
       "                в декрете        1.000000\n",
       "                госслужащий      0.069717\n",
       "                компаньон        0.086142\n",
       "                пенсионер        0.047513\n",
       "                сотрудник        0.097286\n",
       "                студент          0.000000\n",
       "Средний класс   госслужащий      0.051095\n",
       "                компаньон        0.080344\n",
       "                пенсионер        0.066465\n",
       "                сотрудник        0.101103"
      ]
     },
     "metadata": {},
     "output_type": "display_data"
    }
   ],
   "source": [
    "correlation_pivot_table = df.pivot_table(values = ['debt'], index = ['income_category', 'income_type'], aggfunc= 'mean')\n",
    "display(correlation_pivot_table)"
   ]
  },
  {
   "cell_type": "markdown",
   "metadata": {},
   "source": [
    "**Вывод:** По аналогии с предыдущим выводом, делать выводы о предпринимателях, студентах, безработных и людей в декрете - не имеет практического смысла. По оставшимся категориям, можно заметить что пенсионеры и госслужащие вдвое чаще выплачивают кредиты в срок, нежели простые наемные сотрудники. "
   ]
  },
  {
   "cell_type": "markdown",
   "metadata": {},
   "source": [
    "## Общий вывод"
   ]
  },
  {
   "cell_type": "markdown",
   "metadata": {},
   "source": [
    "<br> **Используя полученные результаты, мы вполне можем составить картину *идеального кандидата* для получения кредита:**\n",
    "<br>     · Дети: *более 2-х детей (либо отсутствуют)*\n",
    "<br>     · Семейное положение: *состоит/состоял в официальном браке*\n",
    "<br>     · Уровень доходов: *относится к высшему классу*\n",
    "<br>     · Стаж работы: *более 10 лет*\n",
    "<br>     · Возраст: *больше 55 лет*\n",
    "<br>     · Цель кредита: *покупка жилья*\n",
    "<br>     · Уровень образования: *высшее*\n",
    "<br>     · Тип занятости: *на пенсии, либо на госслужбе*\n",
    "\n",
    "<br> **Положительно-нейтральный кандидат выглядит следующим образом**:\n",
    "<br>     · Дети: *более 2-х детей*\n",
    "<br>     · Семейное положение: *в официальном или гражданском браке*\n",
    "<br>     · Уровень доходов: *не относится к высшему классу*\n",
    "<br>     · Стаж работы: *от 5 до 10 лет*\n",
    "<br>     · Возраст: *от 30 до 55 лет*\n",
    "<br>     · Цель кредита: *покупка жилья или проведение свадьбы*\n",
    "<br>     · Уровень образования: *высшее или среднее*\n",
    "<br>     · Тип занятости: *госслужащий, либо компаньон*\n",
    "\n",
    "<br> **Негативно-нейтральный кандидат выглядит так**:\n",
    "<br>     · Дети: *есть*\n",
    "<br>     · Семейное положение: *в официальном или гражданском браке, либо никогда не был(а) женат/замужем*\n",
    "<br>     · Уровень доходов: *не относится к высшему классу*\n",
    "<br>     · Стаж работы: *от 5 до 10 лет*\n",
    "<br>     · Возраст: *от 30 до 55 лет*\n",
    "<br>     · Цель кредита: *хочет получить образование, либо приобрести автомобиль*\n",
    "<br>     · Уровень образования: *среднее, или неоконченное высшее*\n",
    "<br>     · Тип занятости: *компаньон, либо наемный работником*\n",
    "\n",
    "<br> **Картина отрицательного кандидата выглядит следующим образом**:\n",
    "<br>     · Дети: *от 1 до 2-х*\n",
    "<br>     · Семейное положение: *в гражданском браке, либо никогда не был(а) женат/замужем*\n",
    "<br>     · Уровень доходов: *средний*\n",
    "<br>     · Стаж работы: *менее 5 лет*\n",
    "<br>     · Возраст: *до 30*\n",
    "<br>     · Цель кредита: *желает получить образование, либо приобрести автомобиль*\n",
    "<br>     · Уровень образования: *неоконченное высшее, среднее, либо начальное образование*\n",
    "<br>     · Тип занятости: *наемный работник*"
   ]
  }
 ],
 "metadata": {
  "ExecuteTimeLog": [
   {
    "duration": 729,
    "start_time": "2021-06-23T10:40:07.098Z"
   },
   {
    "duration": 4,
    "start_time": "2021-06-23T10:40:41.872Z"
   }
  ],
  "kernelspec": {
   "display_name": "Python 3 (ipykernel)",
   "language": "python",
   "name": "python3"
  },
  "language_info": {
   "codemirror_mode": {
    "name": "ipython",
    "version": 3
   },
   "file_extension": ".py",
   "mimetype": "text/x-python",
   "name": "python",
   "nbconvert_exporter": "python",
   "pygments_lexer": "ipython3",
   "version": "3.9.5"
  },
  "toc": {
   "base_numbering": 1,
   "nav_menu": {},
   "number_sections": true,
   "sideBar": true,
   "skip_h1_title": true,
   "title_cell": "Table of Contents",
   "title_sidebar": "Contents",
   "toc_cell": false,
   "toc_position": {
    "height": "calc(100% - 180px)",
    "left": "10px",
    "top": "150px",
    "width": "165px"
   },
   "toc_section_display": true,
   "toc_window_display": false
  }
 },
 "nbformat": 4,
 "nbformat_minor": 2
}
