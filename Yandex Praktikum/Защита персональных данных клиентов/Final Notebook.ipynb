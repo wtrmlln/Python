{
 "cells": [
  {
   "cell_type": "markdown",
   "metadata": {
    "toc": true
   },
   "source": [
    "<h1>Содержание<span class=\"tocSkip\"></span></h1>\n",
    "<div class=\"toc\"><ul class=\"toc-item\"><li><span><a href=\"#Защита-персональных-данных-клиентов\" data-toc-modified-id=\"Защита-персональных-данных-клиентов-1\">Защита персональных данных клиентов</a></span></li><li><span><a href=\"#Описание-данных:\" data-toc-modified-id=\"Описание-данных:-2\">Описание данных:</a></span></li><li><span><a href=\"#План-работы:\" data-toc-modified-id=\"План-работы:-3\">План работы:</a></span></li><li><span><a href=\"#1.-Загрузка-и-изучение-данных.\" data-toc-modified-id=\"1.-Загрузка-и-изучение-данных.-4\">1. Загрузка и изучение данных.</a></span></li><li><span><a href=\"#2.-Проверка-изменения-качества-линейной-регрессии-при-умножении-признаков-на-обратимую-матрицу\" data-toc-modified-id=\"2.-Проверка-изменения-качества-линейной-регрессии-при-умножении-признаков-на-обратимую-матрицу-5\">2. Проверка изменения качества линейной регрессии при умножении признаков на обратимую матрицу</a></span></li><li><span><a href=\"#3.-Алгоритм-преобразования\" data-toc-modified-id=\"3.-Алгоритм-преобразования-6\">3. Алгоритм преобразования</a></span></li><li><span><a href=\"#4.-Проверка-алгоритма\" data-toc-modified-id=\"4.-Проверка-алгоритма-7\">4. Проверка алгоритма</a></span><ul class=\"toc-item\"><li><span><a href=\"#4.1.-Подготовка-для-преобразования-данных.\" data-toc-modified-id=\"4.1.-Подготовка-для-преобразования-данных.-7.1\">4.1. Подготовка для преобразования данных.</a></span></li><li><span><a href=\"#4.2.-Проверка-модели-на-исходных-данных.\" data-toc-modified-id=\"4.2.-Проверка-модели-на-исходных-данных.-7.2\">4.2. Проверка модели на исходных данных.</a></span></li><li><span><a href=\"#4.3.-Проверка-модели-на-преобразованных-и-обратнопреобразованных-данных,-сравнение-результатов.\" data-toc-modified-id=\"4.3.-Проверка-модели-на-преобразованных-и-обратнопреобразованных-данных,-сравнение-результатов.-7.3\">4.3. Проверка модели на преобразованных и обратнопреобразованных данных, сравнение результатов.</a></span></li><li><span><a href=\"#Чек-лист-проверки\" data-toc-modified-id=\"Чек-лист-проверки-7.4\">Чек-лист проверки</a></span></li></ul></li></ul></div>"
   ]
  },
  {
   "cell_type": "markdown",
   "metadata": {},
   "source": [
    "# Защита персональных данных клиентов"
   ]
  },
  {
   "cell_type": "markdown",
   "metadata": {},
   "source": [
    "Необходимо разработать такой метод преобразования данных, чтобы по ним было сложно восстановить персональную информацию и обосновать корректность его работы. Данные необходимо защитить так, чтобы при преобразовании качество моделей машинного обучения не ухудшилось.\n",
    "\n",
    "# Описание данных:\n",
    "\n",
    "Набор данных находится в файле \"/datasets/insurance.csv.\"\n",
    "\n",
    "**Признаки:** пол, возраст и зарплата застрахованного, количество членов его семьи.\n",
    "\n",
    "**Целевой признак:** количество страховых выплат клиенту за последние 5 лет.\n",
    "\n",
    "# План работы:\n",
    "\n",
    "1. Загрузка и изучение данных\n",
    "2. Проверка изменения качества линейной регрессии при умножении признаков на обратимую матрицу, обоснование решения.\n",
    "3. Разработка алгоритма преобразования данных для решения задачи.\n",
    "4. Программирование разработанного алгоритма с использованием матричных операций. Проверка различий в качестве линейной регрессии из sklearn до и после преобразования с помощью метрики R2.\n"
   ]
  },
  {
   "cell_type": "markdown",
   "metadata": {},
   "source": [
    "# 1. Загрузка и изучение данных."
   ]
  },
  {
   "cell_type": "code",
   "execution_count": 1,
   "metadata": {},
   "outputs": [],
   "source": [
    "import pandas as pd\n",
    "import numpy as np\n",
    "import matplotlib.pyplot as plt\n",
    "import random\n",
    "from sklearn.linear_model import LinearRegression\n",
    "from sklearn.model_selection import train_test_split\n",
    "from sklearn.metrics import r2_score"
   ]
  },
  {
   "cell_type": "code",
   "execution_count": 2,
   "metadata": {},
   "outputs": [
    {
     "data": {
      "text/html": [
       "<div>\n",
       "<style scoped>\n",
       "    .dataframe tbody tr th:only-of-type {\n",
       "        vertical-align: middle;\n",
       "    }\n",
       "\n",
       "    .dataframe tbody tr th {\n",
       "        vertical-align: top;\n",
       "    }\n",
       "\n",
       "    .dataframe thead th {\n",
       "        text-align: right;\n",
       "    }\n",
       "</style>\n",
       "<table border=\"1\" class=\"dataframe\">\n",
       "  <thead>\n",
       "    <tr style=\"text-align: right;\">\n",
       "      <th></th>\n",
       "      <th>Пол</th>\n",
       "      <th>Возраст</th>\n",
       "      <th>Зарплата</th>\n",
       "      <th>Члены семьи</th>\n",
       "      <th>Страховые выплаты</th>\n",
       "    </tr>\n",
       "  </thead>\n",
       "  <tbody>\n",
       "    <tr>\n",
       "      <td>0</td>\n",
       "      <td>1</td>\n",
       "      <td>41.0</td>\n",
       "      <td>49600.0</td>\n",
       "      <td>1</td>\n",
       "      <td>0</td>\n",
       "    </tr>\n",
       "    <tr>\n",
       "      <td>1</td>\n",
       "      <td>0</td>\n",
       "      <td>46.0</td>\n",
       "      <td>38000.0</td>\n",
       "      <td>1</td>\n",
       "      <td>1</td>\n",
       "    </tr>\n",
       "    <tr>\n",
       "      <td>2</td>\n",
       "      <td>0</td>\n",
       "      <td>29.0</td>\n",
       "      <td>21000.0</td>\n",
       "      <td>0</td>\n",
       "      <td>0</td>\n",
       "    </tr>\n",
       "    <tr>\n",
       "      <td>3</td>\n",
       "      <td>0</td>\n",
       "      <td>21.0</td>\n",
       "      <td>41700.0</td>\n",
       "      <td>2</td>\n",
       "      <td>0</td>\n",
       "    </tr>\n",
       "    <tr>\n",
       "      <td>4</td>\n",
       "      <td>1</td>\n",
       "      <td>28.0</td>\n",
       "      <td>26100.0</td>\n",
       "      <td>0</td>\n",
       "      <td>0</td>\n",
       "    </tr>\n",
       "  </tbody>\n",
       "</table>\n",
       "</div>"
      ],
      "text/plain": [
       "   Пол  Возраст  Зарплата  Члены семьи  Страховые выплаты\n",
       "0    1     41.0   49600.0            1                  0\n",
       "1    0     46.0   38000.0            1                  1\n",
       "2    0     29.0   21000.0            0                  0\n",
       "3    0     21.0   41700.0            2                  0\n",
       "4    1     28.0   26100.0            0                  0"
      ]
     },
     "execution_count": 2,
     "metadata": {},
     "output_type": "execute_result"
    }
   ],
   "source": [
    "df = pd.read_csv(\"/datasets/insurance.csv\")\n",
    "df.head(5)"
   ]
  },
  {
   "cell_type": "code",
   "execution_count": 3,
   "metadata": {},
   "outputs": [
    {
     "name": "stdout",
     "output_type": "stream",
     "text": [
      "<class 'pandas.core.frame.DataFrame'>\n",
      "RangeIndex: 5000 entries, 0 to 4999\n",
      "Data columns (total 5 columns):\n",
      "Пол                  5000 non-null int64\n",
      "Возраст              5000 non-null float64\n",
      "Зарплата             5000 non-null float64\n",
      "Члены семьи          5000 non-null int64\n",
      "Страховые выплаты    5000 non-null int64\n",
      "dtypes: float64(2), int64(3)\n",
      "memory usage: 195.4 KB\n"
     ]
    }
   ],
   "source": [
    "df.info()"
   ]
  },
  {
   "cell_type": "markdown",
   "metadata": {},
   "source": [
    "Пропуски в данных отсутствуют, однако всё же необходимо проверить датасет на дубликаты, и возможность оптимизировать типы данных в наших столбцах."
   ]
  },
  {
   "cell_type": "code",
   "execution_count": 4,
   "metadata": {},
   "outputs": [
    {
     "name": "stdout",
     "output_type": "stream",
     "text": [
      "Количество пропусков - 0.0\n",
      "Количество нулевых значений - 0.0\n",
      "Количество дубликатов - 153\n",
      "Количество строк с дробной частью не равной нулю по столбцу \"Возраст\" - 0\n",
      "Количество строк с дробной частью не равной нулю по столбцу \"Зарплата\" - 40\n"
     ]
    }
   ],
   "source": [
    "print('Количество пропусков -', df[df.isna() == True].sum().sum())\n",
    "print('Количество нулевых значений -', df[df.isnull() == True].sum().sum())\n",
    "print('Количество дубликатов -', df.duplicated().sum())\n",
    "print('Количество строк с дробной частью не равной нулю по столбцу \"Возраст\" -', len(df[df['Возраст'] % 1 != 0]))\n",
    "print('Количество строк с дробной частью не равной нулю по столбцу \"Зарплата\" -', len(df[df['Зарплата'] % 1 != 0]))"
   ]
  },
  {
   "cell_type": "markdown",
   "metadata": {},
   "source": [
    "Нашли 153 дубликата, однозначно необходимо от них избавиться. Также видим что в столбце \"Возраст\" дробная часть всегда равна нулю, а в столбце \"Зарплата\" есть строки с дробной частью больше нуля. Однако строк всего 40, поэтому особого влияния на репрезентативность данных отброс дробной части иметь не будет.\n",
    "\n",
    "Прежде чем проводить изменение типов данных в столбцах необходимо взглянуть на распределение в возрасте/зарплате, а также взглянуть на уникальные значения по столбцах \"Пол\"/\"Члены семьи\"/\"Страховые выплаты\""
   ]
  },
  {
   "cell_type": "code",
   "execution_count": 5,
   "metadata": {},
   "outputs": [
    {
     "name": "stdout",
     "output_type": "stream",
     "text": [
      "Количество строк после удаления дубликатов - 4847\n"
     ]
    }
   ],
   "source": [
    "df = df.drop_duplicates()\n",
    "print('Количество строк после удаления дубликатов -', len(df))"
   ]
  },
  {
   "cell_type": "markdown",
   "metadata": {},
   "source": [
    "От дубликатов избавились, переходим к построению графиков распределения заработной платы и возраста клиентов."
   ]
  },
  {
   "cell_type": "code",
   "execution_count": 6,
   "metadata": {},
   "outputs": [],
   "source": [
    "def info_plotting(x, xlabel_name):\n",
    "    x = x\n",
    "    \n",
    "    if xlabel_name == 'Возраст клиентов':\n",
    "        bins = 50\n",
    "    elif xlabel_name == 'Размер заработной платы клиентов':\n",
    "        bins = 100\n",
    "    \n",
    "    plt.figure(figsize=(12, 2), dpi = 200)\n",
    "    plt.hist(x, bins=bins, \n",
    "             range=(x.min(), x.max()), \n",
    "             color ='green',\n",
    "             alpha = 0.7,\n",
    "             edgecolor = 'black')\n",
    "    plt.ylabel('Кол-во клиентов')\n",
    "    plt.xlabel(xlabel_name);\n",
    "    plt.yticks(fontsize=6)\n",
    "    plt.xticks(fontsize=10)\n",
    "    plt.show()"
   ]
  },
  {
   "cell_type": "code",
   "execution_count": 7,
   "metadata": {},
   "outputs": [
    {
     "data": {
      "image/png": "[encoded data removed]",
      "text/plain": [
       "<Figure size 2400x400 with 1 Axes>"
      ]
     },
     "metadata": {
      "needs_background": "light"
     },
     "output_type": "display_data"
    }
   ],
   "source": [
    "info_plotting(df['Возраст'], 'Возраст клиентов')"
   ]
  },
  {
   "cell_type": "markdown",
   "metadata": {},
   "source": [
    "С данными по возрасту клиентов всё в порядке, аномальных выбросов не наблюдается. Переходим к распределению заработной платы."
   ]
  },
  {
   "cell_type": "code",
   "execution_count": 8,
   "metadata": {},
   "outputs": [
    {
     "data": {
      "image/png": "[encoded data removed]",
      "text/plain": [
       "<Figure size 2400x400 with 1 Axes>"
      ]
     },
     "metadata": {
      "needs_background": "light"
     },
     "output_type": "display_data"
    }
   ],
   "source": [
    "info_plotting(df['Зарплата'], 'Размер заработной платы клиентов')"
   ]
  },
  {
   "cell_type": "markdown",
   "metadata": {},
   "source": [
    "Аналогичная ситуация как с возрастом, выбросы отсутствуют. Переходим к просмотру уникальных значений по полу, членам семьи и страховым выплатам."
   ]
  },
  {
   "cell_type": "code",
   "execution_count": 9,
   "metadata": {},
   "outputs": [
    {
     "data": {
      "text/plain": [
       "0    2431\n",
       "1    2416\n",
       "Name: Пол, dtype: int64"
      ]
     },
     "metadata": {},
     "output_type": "display_data"
    },
    {
     "data": {
      "text/plain": [
       "1    1748\n",
       "0    1461\n",
       "2    1038\n",
       "3     437\n",
       "4     124\n",
       "5      32\n",
       "6       7\n",
       "Name: Члены семьи, dtype: int64"
      ]
     },
     "metadata": {},
     "output_type": "display_data"
    },
    {
     "data": {
      "text/plain": [
       "0    4284\n",
       "1     423\n",
       "2     114\n",
       "3      18\n",
       "4       7\n",
       "5       1\n",
       "Name: Страховые выплаты, dtype: int64"
      ]
     },
     "metadata": {},
     "output_type": "display_data"
    }
   ],
   "source": [
    "col_names = ['Пол', 'Члены семьи', 'Страховые выплаты']\n",
    "for i in range(0, 3):\n",
    "    display(df[col_names[i]].value_counts())"
   ]
  },
  {
   "cell_type": "markdown",
   "metadata": {},
   "source": [
    "Выбросы также отсутствуют, соответственно можем привести данные к нужным нам типам."
   ]
  },
  {
   "cell_type": "code",
   "execution_count": 10,
   "metadata": {},
   "outputs": [
    {
     "data": {
      "text/html": [
       "<div>\n",
       "<style scoped>\n",
       "    .dataframe tbody tr th:only-of-type {\n",
       "        vertical-align: middle;\n",
       "    }\n",
       "\n",
       "    .dataframe tbody tr th {\n",
       "        vertical-align: top;\n",
       "    }\n",
       "\n",
       "    .dataframe thead th {\n",
       "        text-align: right;\n",
       "    }\n",
       "</style>\n",
       "<table border=\"1\" class=\"dataframe\">\n",
       "  <thead>\n",
       "    <tr style=\"text-align: right;\">\n",
       "      <th></th>\n",
       "      <th>Пол</th>\n",
       "      <th>Возраст</th>\n",
       "      <th>Зарплата</th>\n",
       "      <th>Члены семьи</th>\n",
       "      <th>Страховые выплаты</th>\n",
       "    </tr>\n",
       "  </thead>\n",
       "  <tbody>\n",
       "    <tr>\n",
       "      <td>0</td>\n",
       "      <td>1</td>\n",
       "      <td>41.0</td>\n",
       "      <td>49600.0</td>\n",
       "      <td>1</td>\n",
       "      <td>0</td>\n",
       "    </tr>\n",
       "    <tr>\n",
       "      <td>1</td>\n",
       "      <td>0</td>\n",
       "      <td>46.0</td>\n",
       "      <td>38000.0</td>\n",
       "      <td>1</td>\n",
       "      <td>1</td>\n",
       "    </tr>\n",
       "    <tr>\n",
       "      <td>2</td>\n",
       "      <td>0</td>\n",
       "      <td>29.0</td>\n",
       "      <td>21000.0</td>\n",
       "      <td>0</td>\n",
       "      <td>0</td>\n",
       "    </tr>\n",
       "    <tr>\n",
       "      <td>3</td>\n",
       "      <td>0</td>\n",
       "      <td>21.0</td>\n",
       "      <td>41700.0</td>\n",
       "      <td>2</td>\n",
       "      <td>0</td>\n",
       "    </tr>\n",
       "    <tr>\n",
       "      <td>4</td>\n",
       "      <td>1</td>\n",
       "      <td>28.0</td>\n",
       "      <td>26100.0</td>\n",
       "      <td>0</td>\n",
       "      <td>0</td>\n",
       "    </tr>\n",
       "  </tbody>\n",
       "</table>\n",
       "</div>"
      ],
      "text/plain": [
       "   Пол  Возраст  Зарплата  Члены семьи  Страховые выплаты\n",
       "0    1     41.0   49600.0            1                  0\n",
       "1    0     46.0   38000.0            1                  1\n",
       "2    0     29.0   21000.0            0                  0\n",
       "3    0     21.0   41700.0            2                  0\n",
       "4    1     28.0   26100.0            0                  0"
      ]
     },
     "metadata": {},
     "output_type": "display_data"
    },
    {
     "name": "stdout",
     "output_type": "stream",
     "text": [
      "<class 'pandas.core.frame.DataFrame'>\n",
      "Int64Index: 4847 entries, 0 to 4999\n",
      "Data columns (total 5 columns):\n",
      "sex                 4847 non-null uint8\n",
      "age                 4847 non-null uint8\n",
      "income              4847 non-null uint32\n",
      "family_members      4847 non-null uint8\n",
      "insurance_payout    4847 non-null uint8\n",
      "dtypes: uint32(1), uint8(4)\n",
      "memory usage: 75.7 KB\n"
     ]
    }
   ],
   "source": [
    "display(df.head(5))\n",
    "df['Пол'] = np.uint8(df['Пол'])\n",
    "df['Возраст'] = np.uint8(df['Возраст'])\n",
    "df['Зарплата'] = np.uint32(df['Зарплата'])\n",
    "df['Члены семьи'] = np.uint8(df['Члены семьи'])\n",
    "df['Страховые выплаты'] = np.uint8(df['Страховые выплаты'])\n",
    "\n",
    "df = df.rename(columns={'Пол' : 'sex', 'Возраст' : 'age', 'Зарплата' : 'income', \n",
    "                        'Члены семьи' : 'family_members', 'Страховые выплаты' : 'insurance_payout'})\n",
    "\n",
    "df.info()"
   ]
  },
  {
   "cell_type": "markdown",
   "metadata": {},
   "source": [
    "# 2. Проверка изменения качества линейной регрессии при умножении признаков на обратимую матрицу"
   ]
  },
  {
   "cell_type": "markdown",
   "metadata": {},
   "source": [
    "Обозначения:\n",
    "\n",
    "- $X$ — матрица признаков (нулевой столбец состоит из единиц)\n",
    "\n",
    "- $y$ — вектор целевого признака\n",
    "\n",
    "- $P$ — матрица, на которую умножаются признаки\n",
    "\n",
    "- $w$ — вектор весов линейной регрессии (нулевой элемент равен сдвигу)"
   ]
  },
  {
   "cell_type": "markdown",
   "metadata": {},
   "source": [
    "**Предсказания:**\n",
    "\n",
    "$$\n",
    "a = Xw\n",
    "$$\n",
    "\n",
    "**Задача обучения:**\n",
    "\n",
    "$$\n",
    "w = \\arg\\min_w MSE(Xw, y)\n",
    "$$\n",
    "\n",
    "**Формула обучения:**\n",
    "\n",
    "$$\n",
    "w = (X^T*X)^{-1}*X^T*y\n",
    "$$"
   ]
  },
  {
   "cell_type": "markdown",
   "metadata": {},
   "source": [
    "**Будем считать что качество линейной регрессии при умножении матрицы признаков на обратимую матрицу не изменится.**\n",
    "\n",
    "**Обоснование:** \n",
    "\n",
    "Допустим что: $K = X * P$, где $P$ - обратимая матрица. Тогда заменим $X$ на $К$ в формуле предсказаний, предварительно заменив $X$ на $K$ в формуле обучения:\n",
    "<br>\n",
    "$a = XP *((XP)^T*XP)^{-1}*(XP)^Ty $\n",
    "\n",
    "Так как существует следующее свойство матриц: $(AB)^{-1} = B^{-1}A^{-1}$\n",
    "\n",
    "то мы можем применить его в нашем уравнении:\n",
    "<br>\n",
    "$ a = XP*(XP)^{-1}*((XP)^T)^{-1}*(XP)^T*y $\n",
    "<br>\n",
    "<br>\n",
    "\n",
    "Также применим следующее свойство матриц:$ (AB)^T=B^TA^T $\n",
    "<br>\n",
    "$a = XP*P^{-1}*X^{-1}*(X^T)^{-1}*(P^T)^{-1}*P^TX^T*y$\n",
    "<br>\n",
    "\n",
    "Так же избавимся от единичных матриц которые получаются с помощью следующих свойств:\n",
    "<br>\n",
    "$A*A^{-1} = E$\n",
    "<br>\n",
    "$A * E = A$\n",
    "<br>\n",
    "\n",
    "<br>\n",
    "$a = X*E*X^{-1}*(X^T)^{-1}*E*X^Ty$\n",
    "<br>\n",
    "$a = X*X^{-1}(X^T)^{-1}X^T*y$\n",
    "<br>\n",
    "\n",
    "И применим уже использовавшееся ранее свойство: $B^{-1}A^{-1} = (AB)^{-1}$\n",
    "\n",
    "<br>\n",
    "$a = X * (X^T*X)^{-1}*X^T*y$\n",
    "<br>\n",
    "\n",
    "Соответственно, видим что при умножении матрицы признаков($X$) на обратимую матрицу($P$) **качество линейной регрессии не изменится.**"
   ]
  },
  {
   "cell_type": "markdown",
   "metadata": {},
   "source": [
    "# 3. Алгоритм преобразования"
   ]
  },
  {
   "cell_type": "markdown",
   "metadata": {},
   "source": [
    "**Алгоритм**\n",
    "\n",
    "1. Преобразуем таблицу с признаками ($X$) в матрицу.\n",
    "2. Создадим случайную обратимую матрицу ($P$).\n",
    "3. Умножим таблицу с признаками ($X$) на случайную обратимую матрицу($P$)\n",
    "4. Обучим модель и предскажем результаты на исходных данных, сохраним их в отдельные переменные\n",
    "5. Обучим модель и предскажем результаты на преобразованных данных, сравним результаты по r2_score между исходными и преобразованными данными.\n",
    "6. Обратно преобразуем преобразованные данные, обучим модель и предскажем результаты, также сравним результаты по r2_score межуд исходными и преобразованными данными."
   ]
  },
  {
   "cell_type": "markdown",
   "metadata": {},
   "source": [
    "# 4. Проверка алгоритма\n",
    "\n",
    "## 4.1. Подготовка для преобразования данных.\n",
    "\n",
    "Для начала напишем две функции:\n",
    "1. Первая функция будет преобразовывать исходные признаки в матрицу, создаст случайную матрицу такой же размерности как матрица с исходными признаками, умножит матрицу исходных признаков на случайную матрицу и на выходе вернет преобразованную матрицу с признаками и случайную матрицу (для обратного преобразования)\n",
    "2. Вторая функция будет производить восстановление данных, используя преобразованную и случайную матрицы. На выходе вернет исходную таблицу с признаками."
   ]
  },
  {
   "cell_type": "code",
   "execution_count": 11,
   "metadata": {},
   "outputs": [],
   "source": [
    "def x_transformation(x):\n",
    "    x_matrix = x.values\n",
    "    random_matrix = np.random.randint(random.randint(1, 100), random.randint(101, 1000), (x_matrix.shape[1], x_matrix.shape[1]))\n",
    "    x_matrix = x_matrix @ random_matrix\n",
    "    return x_matrix, random_matrix\n",
    "\n",
    "def reverse_x_transformation(x_matrix, random_matrix):\n",
    "    return x_matrix.dot(np.linalg.inv(random_matrix))   "
   ]
  },
  {
   "cell_type": "markdown",
   "metadata": {},
   "source": [
    "Функции подготовлены, теперь предскажем результаты на исходных данных и сохраним их."
   ]
  },
  {
   "cell_type": "markdown",
   "metadata": {},
   "source": [
    "## 4.2. Проверка модели на исходных данных."
   ]
  },
  {
   "cell_type": "code",
   "execution_count": 12,
   "metadata": {},
   "outputs": [],
   "source": [
    "random_state = 12345\n",
    "x = df.drop(['insurance_payout'], axis = 1)\n",
    "y = df['insurance_payout']\n",
    "x_train, x_valid, y_train, y_valid = train_test_split(x, y, test_size = 0.25, random_state = random_state)"
   ]
  },
  {
   "cell_type": "code",
   "execution_count": 13,
   "metadata": {},
   "outputs": [
    {
     "name": "stdout",
     "output_type": "stream",
     "text": [
      "0.43215820265809746\n",
      "0.4230772761583642\n"
     ]
    }
   ],
   "source": [
    "x_train, x_valid, y_train, y_valid = train_test_split(x, y, test_size = 0.25, random_state = random_state)\n",
    "model = LinearRegression()\n",
    "model.fit(x_train, y_train)\n",
    "\n",
    "model_train_predictions = model.predict(x_train)\n",
    "model_valid_predictions = model.predict(x_valid)\n",
    "sk_r2_train_score = r2_score(y_train, model_train_predictions)\n",
    "sk_r2_valid_score = r2_score(y_valid, model_valid_predictions)\n",
    "print(sk_r2_train_score)\n",
    "print(sk_r2_valid_score)"
   ]
  },
  {
   "cell_type": "markdown",
   "metadata": {},
   "source": [
    "Теперь, используя созданные нами функции, проведем одновременное сравнение результатов на преобразованных данных и обратнопреобразованных данных."
   ]
  },
  {
   "cell_type": "markdown",
   "metadata": {},
   "source": [
    "## 4.3. Проверка модели на преобразованных и обратнопреобразованных данных, сравнение результатов."
   ]
  },
  {
   "cell_type": "code",
   "execution_count": 14,
   "metadata": {},
   "outputs": [
    {
     "name": "stdout",
     "output_type": "stream",
     "text": [
      "\u001b[1mКоэффициенты детерминации на преобразованных данных:\u001b[0m\n",
      "Обучающая выборка: 0.43215820265806615\n",
      "Валидационная выборка: 0.42307727615841884\n",
      "\n",
      "\u001b[1mРазность в коэффициентах детерминации на преобразованных данных:\u001b[0m\n",
      "Обучающая выборка: 0.0\n",
      "Валидационная выборка: -0.0\n",
      "\n",
      "\u001b[1mКоэффициенты детерминации на обратнопреобразованных данных:\u001b[0m\n",
      "Обучающая выборка: 0.4321582026580716\n",
      "Валидационная выборка: 0.4230772761583016\n",
      "\n",
      "\u001b[1mРазность в коэффициентах детерминации на обратнопреобразованных данных:\u001b[0m\n",
      "Обучающая выборка: 0.0\n",
      "Валидационная выборка: 0.0\n",
      "\n"
     ]
    }
   ],
   "source": [
    "results_list = []\n",
    "name_list = ['преобразованных', 'обратнопреобразованных']\n",
    "for i in range(0, 2):\n",
    "    if i == 0:\n",
    "        \n",
    "        x_transformed, random_matrix = x_transformation(x)\n",
    "    elif i == 1:\n",
    "        \n",
    "        x_transformed = reverse_x_transformation(x_transformed, random_matrix) \n",
    "    x_train, x_valid, y_train, y_valid = train_test_split(x_transformed, y, test_size = 0.25, random_state = random_state)\n",
    "    model = LinearRegression()\n",
    "    model.fit(x_train, y_train)\n",
    "    results_list.append([model.predict(x_train), model.predict(x_valid)])\n",
    "    r2_score_train = r2_score(y_train, results_list[i][0])\n",
    "    r2_score_valid = r2_score(y_valid, results_list[i][1])\n",
    "    print('\\033[1m'+ 'Коэффициенты детерминации на ' + name_list[i] + ' данных:' + '\\033[0m')\n",
    "    print('Обучающая выборка:', r2_score_train)\n",
    "    print('Валидационная выборка:', r2_score_valid)\n",
    "    print('')\n",
    "    print('\\033[1m'+ 'Разность в коэффициентах детерминации на ' + name_list[i] + ' данных:' + '\\033[0m')\n",
    "    print('Обучающая выборка:', round(sk_r2_train_score - r2_score_train, 12))\n",
    "    print('Валидационная выборка:', round(sk_r2_valid_score - r2_score_valid, 12))\n",
    "    print('')"
   ]
  },
  {
   "cell_type": "markdown",
   "metadata": {},
   "source": [
    "Видим что **разница в коэффициентах детерминации как на преобразованных, так и на обратнопреобразованных данных практически отсутствует или минимальна**, соответственно поставленная перед нами задача в виде защиты персональных данных клиентов выполнена без ущерба качеству моделей машинного обучения."
   ]
  }
 ],
 "metadata": {
  "ExecuteTimeLog": [
   {
    "duration": 807,
    "start_time": "2021-06-17T07:35:48.868Z"
   },
   {
    "duration": 20,
    "start_time": "2021-06-17T07:35:50.558Z"
   },
   {
    "duration": 40,
    "start_time": "2021-06-17T07:35:53.559Z"
   },
   {
    "duration": 24,
    "start_time": "2021-06-17T07:36:01.904Z"
   },
   {
    "duration": 10,
    "start_time": "2021-06-17T10:55:14.965Z"
   },
   {
    "duration": 20,
    "start_time": "2021-06-17T10:55:41.924Z"
   },
   {
    "duration": 18,
    "start_time": "2021-06-17T10:55:46.846Z"
   },
   {
    "duration": 32,
    "start_time": "2021-06-17T10:56:59.285Z"
   },
   {
    "duration": 515,
    "start_time": "2021-06-17T10:57:31.775Z"
   },
   {
    "duration": 32,
    "start_time": "2021-06-17T10:57:37.942Z"
   },
   {
    "duration": 29,
    "start_time": "2021-06-17T10:58:06.167Z"
   },
   {
    "duration": 35,
    "start_time": "2021-06-17T10:58:09.486Z"
   },
   {
    "duration": 9,
    "start_time": "2021-06-17T10:59:20.871Z"
   },
   {
    "duration": 10,
    "start_time": "2021-06-17T11:00:56.249Z"
   },
   {
    "duration": 11,
    "start_time": "2021-06-17T11:01:06.657Z"
   },
   {
    "duration": 9,
    "start_time": "2021-06-17T11:01:31.258Z"
   },
   {
    "duration": 9,
    "start_time": "2021-06-17T11:02:29.979Z"
   },
   {
    "duration": 7,
    "start_time": "2021-06-17T11:02:34.899Z"
   },
   {
    "duration": 7,
    "start_time": "2021-06-17T11:02:40.346Z"
   },
   {
    "duration": 150,
    "start_time": "2021-06-17T11:03:13.324Z"
   },
   {
    "duration": 29,
    "start_time": "2021-06-17T11:03:20.075Z"
   },
   {
    "duration": 32,
    "start_time": "2021-06-17T11:03:24.515Z"
   },
   {
    "duration": 34,
    "start_time": "2021-06-17T11:10:29.979Z"
   },
   {
    "duration": 11,
    "start_time": "2021-06-17T11:10:43.987Z"
   },
   {
    "duration": 7,
    "start_time": "2021-06-17T11:10:59.998Z"
   },
   {
    "duration": 12,
    "start_time": "2021-06-17T11:11:04.779Z"
   },
   {
    "duration": 6,
    "start_time": "2021-06-17T11:18:12.664Z"
   },
   {
    "duration": 6,
    "start_time": "2021-06-17T11:18:23.724Z"
   },
   {
    "duration": 7,
    "start_time": "2021-06-17T11:18:49.308Z"
   },
   {
    "duration": 7,
    "start_time": "2021-06-17T11:18:53.395Z"
   },
   {
    "duration": 9,
    "start_time": "2021-06-17T11:19:05.268Z"
   },
   {
    "duration": 603,
    "start_time": "2021-06-17T11:20:18.789Z"
   },
   {
    "duration": 438,
    "start_time": "2021-06-17T11:20:45.750Z"
   },
   {
    "duration": 4,
    "start_time": "2021-06-17T11:21:02.101Z"
   },
   {
    "duration": 1067,
    "start_time": "2021-06-17T11:21:04.766Z"
   },
   {
    "duration": 846,
    "start_time": "2021-06-17T11:21:23.887Z"
   },
   {
    "duration": 646,
    "start_time": "2021-06-17T11:21:49.792Z"
   },
   {
    "duration": 776,
    "start_time": "2021-06-17T11:21:55.728Z"
   },
   {
    "duration": 718,
    "start_time": "2021-06-17T11:22:00.720Z"
   },
   {
    "duration": 642,
    "start_time": "2021-06-17T11:22:04.270Z"
   },
   {
    "duration": 3108,
    "start_time": "2021-06-17T11:22:14.367Z"
   },
   {
    "duration": 1044,
    "start_time": "2021-06-17T11:22:22.056Z"
   },
   {
    "duration": 981,
    "start_time": "2021-06-17T11:22:35.039Z"
   },
   {
    "duration": 926,
    "start_time": "2021-06-17T11:23:13.049Z"
   },
   {
    "duration": 411,
    "start_time": "2021-06-17T11:24:13.222Z"
   },
   {
    "duration": 11,
    "start_time": "2021-06-17T11:24:16.706Z"
   },
   {
    "duration": 893,
    "start_time": "2021-06-17T11:24:18.609Z"
   },
   {
    "duration": 949,
    "start_time": "2021-06-17T11:24:36.241Z"
   },
   {
    "duration": 6,
    "start_time": "2021-06-17T11:25:16.459Z"
   },
   {
    "duration": 7,
    "start_time": "2021-06-17T11:25:55.195Z"
   },
   {
    "duration": 8,
    "start_time": "2021-06-17T11:26:06.866Z"
   },
   {
    "duration": 9,
    "start_time": "2021-06-17T11:26:25.979Z"
   },
   {
    "duration": 4,
    "start_time": "2021-06-17T11:27:54.861Z"
   },
   {
    "duration": 16,
    "start_time": "2021-06-17T11:30:24.434Z"
   },
   {
    "duration": 24,
    "start_time": "2021-06-17T11:31:05.440Z"
   },
   {
    "duration": 21,
    "start_time": "2021-06-17T11:31:21.945Z"
   },
   {
    "duration": 8,
    "start_time": "2021-06-17T11:32:09.780Z"
   },
   {
    "duration": 13,
    "start_time": "2021-06-17T11:32:24.242Z"
   },
   {
    "duration": 15,
    "start_time": "2021-06-17T11:34:28.444Z"
   },
   {
    "duration": 20,
    "start_time": "2021-06-17T11:35:55.518Z"
   },
   {
    "duration": 10,
    "start_time": "2021-06-17T11:36:10.312Z"
   },
   {
    "duration": 8,
    "start_time": "2021-06-17T11:36:13.551Z"
   },
   {
    "duration": 9,
    "start_time": "2021-06-17T11:36:37.582Z"
   },
   {
    "duration": 3,
    "start_time": "2021-06-17T11:36:40.829Z"
   },
   {
    "duration": 33,
    "start_time": "2021-06-17T11:36:40.835Z"
   },
   {
    "duration": 9,
    "start_time": "2021-06-17T11:36:40.870Z"
   },
   {
    "duration": 39,
    "start_time": "2021-06-17T11:36:40.881Z"
   },
   {
    "duration": 8,
    "start_time": "2021-06-17T11:36:40.922Z"
   },
   {
    "duration": 6,
    "start_time": "2021-06-17T11:36:40.932Z"
   },
   {
    "duration": 962,
    "start_time": "2021-06-17T11:36:40.940Z"
   },
   {
    "duration": 903,
    "start_time": "2021-06-17T11:36:41.909Z"
   },
   {
    "duration": 16,
    "start_time": "2021-06-17T11:36:42.814Z"
   },
   {
    "duration": 17,
    "start_time": "2021-06-17T11:36:42.832Z"
   },
   {
    "duration": 7,
    "start_time": "2021-06-17T11:37:41.097Z"
   },
   {
    "duration": 8477,
    "start_time": "2021-06-17T11:37:42.385Z"
   },
   {
    "duration": 4,
    "start_time": "2021-06-17T11:38:05.523Z"
   },
   {
    "duration": 43,
    "start_time": "2021-06-17T11:38:05.530Z"
   },
   {
    "duration": 10,
    "start_time": "2021-06-17T11:38:05.576Z"
   },
   {
    "duration": 45,
    "start_time": "2021-06-17T11:38:05.589Z"
   },
   {
    "duration": 9,
    "start_time": "2021-06-17T11:38:05.636Z"
   },
   {
    "duration": 44,
    "start_time": "2021-06-17T11:38:05.647Z"
   },
   {
    "duration": 756,
    "start_time": "2021-06-17T11:38:05.694Z"
   },
   {
    "duration": 911,
    "start_time": "2021-06-17T11:38:06.453Z"
   },
   {
    "duration": 16,
    "start_time": "2021-06-17T11:38:07.367Z"
   },
   {
    "duration": 40,
    "start_time": "2021-06-17T11:38:07.385Z"
   },
   {
    "duration": 7151,
    "start_time": "2021-06-17T11:40:41.494Z"
   },
   {
    "duration": 7149,
    "start_time": "2021-06-17T11:40:41.498Z"
   },
   {
    "duration": 7149,
    "start_time": "2021-06-17T11:40:41.499Z"
   },
   {
    "duration": 7149,
    "start_time": "2021-06-17T11:40:41.501Z"
   },
   {
    "duration": 7148,
    "start_time": "2021-06-17T11:40:41.503Z"
   },
   {
    "duration": 7147,
    "start_time": "2021-06-17T11:40:41.505Z"
   },
   {
    "duration": 7148,
    "start_time": "2021-06-17T11:40:41.506Z"
   },
   {
    "duration": 7147,
    "start_time": "2021-06-17T11:40:41.508Z"
   },
   {
    "duration": 7146,
    "start_time": "2021-06-17T11:40:41.510Z"
   },
   {
    "duration": 7146,
    "start_time": "2021-06-17T11:40:41.512Z"
   },
   {
    "duration": 4,
    "start_time": "2021-06-17T11:40:56.183Z"
   },
   {
    "duration": 28,
    "start_time": "2021-06-17T11:40:56.189Z"
   },
   {
    "duration": 8,
    "start_time": "2021-06-17T11:40:56.220Z"
   },
   {
    "duration": 33,
    "start_time": "2021-06-17T11:40:56.231Z"
   },
   {
    "duration": 45,
    "start_time": "2021-06-17T11:40:56.266Z"
   },
   {
    "duration": 6,
    "start_time": "2021-06-17T11:40:56.313Z"
   },
   {
    "duration": 902,
    "start_time": "2021-06-17T11:40:56.321Z"
   },
   {
    "duration": 1014,
    "start_time": "2021-06-17T11:40:57.226Z"
   },
   {
    "duration": 12,
    "start_time": "2021-06-17T11:40:58.243Z"
   },
   {
    "duration": 17,
    "start_time": "2021-06-17T11:40:58.258Z"
   },
   {
    "duration": 4,
    "start_time": "2021-06-17T11:41:09.397Z"
   },
   {
    "duration": 31,
    "start_time": "2021-06-17T11:41:09.404Z"
   },
   {
    "duration": 9,
    "start_time": "2021-06-17T11:41:09.437Z"
   },
   {
    "duration": 36,
    "start_time": "2021-06-17T11:41:09.448Z"
   },
   {
    "duration": 24,
    "start_time": "2021-06-17T11:41:09.486Z"
   },
   {
    "duration": 6,
    "start_time": "2021-06-17T11:41:09.513Z"
   },
   {
    "duration": 740,
    "start_time": "2021-06-17T11:41:09.521Z"
   },
   {
    "duration": 982,
    "start_time": "2021-06-17T11:41:10.265Z"
   },
   {
    "duration": 16,
    "start_time": "2021-06-17T11:41:11.250Z"
   },
   {
    "duration": 44,
    "start_time": "2021-06-17T11:41:11.269Z"
   },
   {
    "duration": 831,
    "start_time": "2021-06-18T11:20:42.069Z"
   },
   {
    "duration": 40,
    "start_time": "2021-06-18T11:20:42.902Z"
   },
   {
    "duration": 10,
    "start_time": "2021-06-18T11:20:42.945Z"
   },
   {
    "duration": 33,
    "start_time": "2021-06-18T11:20:42.958Z"
   },
   {
    "duration": 34,
    "start_time": "2021-06-18T11:20:42.993Z"
   },
   {
    "duration": 7,
    "start_time": "2021-06-18T11:20:43.045Z"
   },
   {
    "duration": 750,
    "start_time": "2021-06-18T11:20:43.054Z"
   },
   {
    "duration": 913,
    "start_time": "2021-06-18T11:20:43.808Z"
   },
   {
    "duration": 21,
    "start_time": "2021-06-18T11:20:44.725Z"
   },
   {
    "duration": 16,
    "start_time": "2021-06-18T11:20:44.749Z"
   },
   {
    "duration": 4,
    "start_time": "2021-06-18T11:24:39.193Z"
   },
   {
    "duration": 31,
    "start_time": "2021-06-18T11:24:39.200Z"
   },
   {
    "duration": 14,
    "start_time": "2021-06-18T11:24:39.234Z"
   },
   {
    "duration": 101,
    "start_time": "2021-06-18T11:24:39.251Z"
   },
   {
    "duration": 10,
    "start_time": "2021-06-18T11:24:39.355Z"
   },
   {
    "duration": 7,
    "start_time": "2021-06-18T11:24:39.369Z"
   },
   {
    "duration": 768,
    "start_time": "2021-06-18T11:24:39.385Z"
   },
   {
    "duration": 922,
    "start_time": "2021-06-18T11:24:40.156Z"
   },
   {
    "duration": 15,
    "start_time": "2021-06-18T11:24:41.081Z"
   },
   {
    "duration": 36,
    "start_time": "2021-06-18T11:24:41.098Z"
   },
   {
    "duration": 530,
    "start_time": "2021-06-18T11:46:03.085Z"
   },
   {
    "duration": 3,
    "start_time": "2021-06-18T11:46:13.810Z"
   },
   {
    "duration": 5,
    "start_time": "2021-06-18T11:46:39.096Z"
   },
   {
    "duration": 4,
    "start_time": "2021-06-18T11:46:41.602Z"
   },
   {
    "duration": 9,
    "start_time": "2021-06-18T11:47:16.771Z"
   },
   {
    "duration": 552,
    "start_time": "2021-06-18T11:47:32.370Z"
   },
   {
    "duration": 6,
    "start_time": "2021-06-18T11:47:51.067Z"
   },
   {
    "duration": 10,
    "start_time": "2021-06-18T11:48:34.396Z"
   },
   {
    "duration": 291,
    "start_time": "2021-06-18T11:48:35.564Z"
   },
   {
    "duration": 5,
    "start_time": "2021-06-18T11:48:37.244Z"
   },
   {
    "duration": 5,
    "start_time": "2021-06-18T11:49:07.900Z"
   },
   {
    "duration": 5,
    "start_time": "2021-06-18T11:49:18.724Z"
   },
   {
    "duration": 277,
    "start_time": "2021-06-18T11:49:47.869Z"
   },
   {
    "duration": 3,
    "start_time": "2021-06-18T11:50:39.206Z"
   },
   {
    "duration": 110,
    "start_time": "2021-06-18T11:51:46.047Z"
   },
   {
    "duration": 304,
    "start_time": "2021-06-18T11:51:49.600Z"
   },
   {
    "duration": 373,
    "start_time": "2021-06-18T11:52:02.359Z"
   },
   {
    "duration": 4,
    "start_time": "2021-06-18T11:52:20.304Z"
   },
   {
    "duration": 14,
    "start_time": "2021-06-18T11:52:23.503Z"
   },
   {
    "duration": 1040,
    "start_time": "2021-06-20T09:25:49.702Z"
   },
   {
    "duration": 26,
    "start_time": "2021-06-20T09:25:50.744Z"
   },
   {
    "duration": 6,
    "start_time": "2021-06-20T09:25:50.771Z"
   },
   {
    "duration": 22,
    "start_time": "2021-06-20T09:25:50.778Z"
   },
   {
    "duration": 5,
    "start_time": "2021-06-20T09:25:50.802Z"
   },
   {
    "duration": 5,
    "start_time": "2021-06-20T09:25:50.808Z"
   },
   {
    "duration": 433,
    "start_time": "2021-06-20T09:25:50.815Z"
   },
   {
    "duration": 512,
    "start_time": "2021-06-20T09:25:51.250Z"
   },
   {
    "duration": 22,
    "start_time": "2021-06-20T09:25:51.764Z"
   },
   {
    "duration": 10,
    "start_time": "2021-06-20T09:25:51.787Z"
   },
   {
    "duration": 7,
    "start_time": "2021-06-20T09:25:51.798Z"
   },
   {
    "duration": 11,
    "start_time": "2021-06-20T09:25:51.807Z"
   },
   {
    "duration": 67,
    "start_time": "2021-06-20T09:25:51.819Z"
   },
   {
    "duration": 163,
    "start_time": "2021-06-20T09:25:51.888Z"
   },
   {
    "duration": 59,
    "start_time": "2021-06-20T09:25:58.893Z"
   },
   {
    "duration": 280,
    "start_time": "2021-06-20T09:26:02.966Z"
   },
   {
    "duration": 181,
    "start_time": "2021-06-20T09:26:13.031Z"
   },
   {
    "duration": 297,
    "start_time": "2021-06-20T09:26:28.040Z"
   },
   {
    "duration": 247,
    "start_time": "2021-06-20T09:26:44.600Z"
   },
   {
    "duration": 257,
    "start_time": "2021-06-20T09:27:06.289Z"
   },
   {
    "duration": 14,
    "start_time": "2021-06-20T09:27:40.669Z"
   },
   {
    "duration": 12,
    "start_time": "2021-06-20T09:27:54.646Z"
   },
   {
    "duration": 12,
    "start_time": "2021-06-20T09:27:58.917Z"
   },
   {
    "duration": 13,
    "start_time": "2021-06-20T09:28:05.315Z"
   },
   {
    "duration": 307,
    "start_time": "2021-06-20T09:34:08.527Z"
   },
   {
    "duration": 4,
    "start_time": "2021-06-20T09:34:55.646Z"
   },
   {
    "duration": 7,
    "start_time": "2021-06-20T09:35:04.457Z"
   },
   {
    "duration": 9,
    "start_time": "2021-06-20T09:35:32.600Z"
   },
   {
    "duration": 8,
    "start_time": "2021-06-20T09:35:46.437Z"
   },
   {
    "duration": 7,
    "start_time": "2021-06-20T09:36:37.513Z"
   },
   {
    "duration": 12,
    "start_time": "2021-06-20T09:36:38.661Z"
   },
   {
    "duration": 4,
    "start_time": "2021-06-20T09:36:40.000Z"
   },
   {
    "duration": 5,
    "start_time": "2021-06-20T09:36:44.751Z"
   },
   {
    "duration": 13,
    "start_time": "2021-06-20T09:37:45.799Z"
   },
   {
    "duration": 5,
    "start_time": "2021-06-20T09:42:11.090Z"
   },
   {
    "duration": 184,
    "start_time": "2021-06-20T09:44:57.831Z"
   },
   {
    "duration": 177,
    "start_time": "2021-06-20T09:45:35.180Z"
   },
   {
    "duration": 14,
    "start_time": "2021-06-20T09:45:40.393Z"
   },
   {
    "duration": 6,
    "start_time": "2021-06-20T09:47:16.638Z"
   },
   {
    "duration": 16,
    "start_time": "2021-06-20T09:47:27.775Z"
   },
   {
    "duration": 16,
    "start_time": "2021-06-20T09:47:30.021Z"
   },
   {
    "duration": 13,
    "start_time": "2021-06-20T09:47:53.477Z"
   },
   {
    "duration": 294,
    "start_time": "2021-06-20T09:47:54.994Z"
   },
   {
    "duration": 13,
    "start_time": "2021-06-20T09:48:33.226Z"
   },
   {
    "duration": 15,
    "start_time": "2021-06-20T09:48:34.470Z"
   },
   {
    "duration": 20,
    "start_time": "2021-06-20T09:49:03.294Z"
   },
   {
    "duration": 9,
    "start_time": "2021-06-20T09:49:04.782Z"
   },
   {
    "duration": 208,
    "start_time": "2021-06-20T09:50:02.191Z"
   },
   {
    "duration": 5,
    "start_time": "2021-06-20T09:50:13.482Z"
   },
   {
    "duration": 235,
    "start_time": "2021-06-20T09:50:19.209Z"
   },
   {
    "duration": 14,
    "start_time": "2021-06-20T09:50:21.422Z"
   },
   {
    "duration": 501,
    "start_time": "2021-06-20T09:50:35.162Z"
   },
   {
    "duration": 241,
    "start_time": "2021-06-20T09:50:45.445Z"
   },
   {
    "duration": 235,
    "start_time": "2021-06-20T09:50:50.915Z"
   },
   {
    "duration": 238,
    "start_time": "2021-06-20T09:51:00.151Z"
   },
   {
    "duration": 7,
    "start_time": "2021-06-20T09:51:05.458Z"
   },
   {
    "duration": 7,
    "start_time": "2021-06-20T09:51:18.140Z"
   },
   {
    "duration": 186,
    "start_time": "2021-06-20T09:51:34.886Z"
   },
   {
    "duration": 10,
    "start_time": "2021-06-20T09:52:19.022Z"
   },
   {
    "duration": 205,
    "start_time": "2021-06-20T09:54:55.678Z"
   },
   {
    "duration": 6,
    "start_time": "2021-06-20T09:55:02.578Z"
   },
   {
    "duration": 180,
    "start_time": "2021-06-20T09:55:03.933Z"
   },
   {
    "duration": 279,
    "start_time": "2021-06-20T09:55:11.921Z"
   },
   {
    "duration": 3,
    "start_time": "2021-06-20T09:56:14.424Z"
   },
   {
    "duration": 27,
    "start_time": "2021-06-20T09:56:14.428Z"
   },
   {
    "duration": 6,
    "start_time": "2021-06-20T09:56:14.457Z"
   },
   {
    "duration": 22,
    "start_time": "2021-06-20T09:56:14.466Z"
   },
   {
    "duration": 7,
    "start_time": "2021-06-20T09:56:14.490Z"
   },
   {
    "duration": 6,
    "start_time": "2021-06-20T09:56:14.498Z"
   },
   {
    "duration": 527,
    "start_time": "2021-06-20T09:56:14.506Z"
   },
   {
    "duration": 531,
    "start_time": "2021-06-20T09:56:15.036Z"
   },
   {
    "duration": 19,
    "start_time": "2021-06-20T09:56:15.570Z"
   },
   {
    "duration": 10,
    "start_time": "2021-06-20T09:56:15.590Z"
   },
   {
    "duration": 18,
    "start_time": "2021-06-20T09:56:15.601Z"
   },
   {
    "duration": 22,
    "start_time": "2021-06-20T09:56:15.621Z"
   },
   {
    "duration": 4,
    "start_time": "2021-06-20T09:56:15.645Z"
   },
   {
    "duration": 43,
    "start_time": "2021-06-20T09:56:15.650Z"
   },
   {
    "duration": 98,
    "start_time": "2021-06-20T09:56:15.695Z"
   },
   {
    "duration": 427,
    "start_time": "2021-06-20T09:56:15.795Z"
   },
   {
    "duration": 4,
    "start_time": "2021-06-20T09:56:38.278Z"
   },
   {
    "duration": 16,
    "start_time": "2021-06-20T09:56:40.357Z"
   },
   {
    "duration": 87,
    "start_time": "2021-06-20T09:56:41.900Z"
   },
   {
    "duration": 5,
    "start_time": "2021-06-20T09:58:14.515Z"
   },
   {
    "duration": 26,
    "start_time": "2021-06-20T09:58:16.260Z"
   },
   {
    "duration": 12,
    "start_time": "2021-06-20T09:58:18.960Z"
   },
   {
    "duration": 4,
    "start_time": "2021-06-20T09:58:20.890Z"
   },
   {
    "duration": 13,
    "start_time": "2021-06-20T09:58:21.990Z"
   },
   {
    "duration": 4,
    "start_time": "2021-06-20T09:58:23.058Z"
   },
   {
    "duration": 15,
    "start_time": "2021-06-20T09:58:24.002Z"
   },
   {
    "duration": 16,
    "start_time": "2021-06-20T09:58:29.457Z"
   },
   {
    "duration": 5,
    "start_time": "2021-06-20T09:58:32.072Z"
   },
   {
    "duration": 14,
    "start_time": "2021-06-20T09:58:33.582Z"
   },
   {
    "duration": 5,
    "start_time": "2021-06-20T09:58:34.753Z"
   },
   {
    "duration": 15,
    "start_time": "2021-06-20T09:58:35.997Z"
   },
   {
    "duration": 5,
    "start_time": "2021-06-20T09:58:38.834Z"
   },
   {
    "duration": 83,
    "start_time": "2021-06-20T09:58:40.207Z"
   },
   {
    "duration": 3,
    "start_time": "2021-06-20T09:59:29.029Z"
   },
   {
    "duration": 1188,
    "start_time": "2021-06-20T09:59:45.650Z"
   },
   {
    "duration": 4,
    "start_time": "2021-06-20T10:00:28.183Z"
   },
   {
    "duration": 63,
    "start_time": "2021-06-20T10:00:29.727Z"
   },
   {
    "duration": 5,
    "start_time": "2021-06-20T10:00:31.983Z"
   },
   {
    "duration": 13,
    "start_time": "2021-06-20T10:00:33.284Z"
   },
   {
    "duration": 4,
    "start_time": "2021-06-20T10:00:34.604Z"
   },
   {
    "duration": 82,
    "start_time": "2021-06-20T10:00:35.703Z"
   },
   {
    "duration": 14,
    "start_time": "2021-06-20T10:00:47.662Z"
   },
   {
    "duration": 6,
    "start_time": "2021-06-20T10:00:49.271Z"
   },
   {
    "duration": 5,
    "start_time": "2021-06-20T10:00:50.942Z"
   },
   {
    "duration": 15,
    "start_time": "2021-06-20T10:00:51.448Z"
   },
   {
    "duration": 6,
    "start_time": "2021-06-20T10:00:52.775Z"
   },
   {
    "duration": 6,
    "start_time": "2021-06-20T10:00:53.864Z"
   },
   {
    "duration": 5,
    "start_time": "2021-06-20T10:00:54.873Z"
   },
   {
    "duration": 5,
    "start_time": "2021-06-20T10:00:55.843Z"
   },
   {
    "duration": 5,
    "start_time": "2021-06-20T10:00:56.748Z"
   },
   {
    "duration": 5,
    "start_time": "2021-06-20T10:00:57.696Z"
   },
   {
    "duration": 5,
    "start_time": "2021-06-20T10:00:58.808Z"
   },
   {
    "duration": 5,
    "start_time": "2021-06-20T10:00:59.737Z"
   },
   {
    "duration": 6,
    "start_time": "2021-06-20T10:01:00.911Z"
   },
   {
    "duration": 6,
    "start_time": "2021-06-20T10:01:02.083Z"
   },
   {
    "duration": 6,
    "start_time": "2021-06-20T10:01:03.265Z"
   },
   {
    "duration": 5,
    "start_time": "2021-06-20T10:01:04.762Z"
   },
   {
    "duration": 5,
    "start_time": "2021-06-20T10:01:07.030Z"
   },
   {
    "duration": 6,
    "start_time": "2021-06-20T10:01:08.112Z"
   },
   {
    "duration": 79,
    "start_time": "2021-06-20T10:01:28.712Z"
   },
   {
    "duration": 6,
    "start_time": "2021-06-20T10:02:00.260Z"
   },
   {
    "duration": 182,
    "start_time": "2021-06-20T10:02:34.661Z"
   },
   {
    "duration": 24,
    "start_time": "2021-06-20T10:02:44.369Z"
   },
   {
    "duration": 18,
    "start_time": "2021-06-20T10:02:46.931Z"
   },
   {
    "duration": 14,
    "start_time": "2021-06-20T10:02:47.652Z"
   },
   {
    "duration": 19,
    "start_time": "2021-06-20T10:02:56.930Z"
   },
   {
    "duration": 19,
    "start_time": "2021-06-20T10:02:57.421Z"
   },
   {
    "duration": 17,
    "start_time": "2021-06-20T10:02:58.181Z"
   },
   {
    "duration": 23,
    "start_time": "2021-06-20T10:02:58.517Z"
   },
   {
    "duration": 17,
    "start_time": "2021-06-20T10:02:58.821Z"
   },
   {
    "duration": 17,
    "start_time": "2021-06-20T10:02:59.101Z"
   },
   {
    "duration": 18,
    "start_time": "2021-06-20T10:02:59.389Z"
   },
   {
    "duration": 19,
    "start_time": "2021-06-20T10:02:59.677Z"
   },
   {
    "duration": 19,
    "start_time": "2021-06-20T10:02:59.941Z"
   },
   {
    "duration": 20,
    "start_time": "2021-06-20T10:03:00.205Z"
   },
   {
    "duration": 108,
    "start_time": "2021-06-20T10:03:00.794Z"
   },
   {
    "duration": 17,
    "start_time": "2021-06-20T10:03:01.373Z"
   },
   {
    "duration": 16,
    "start_time": "2021-06-20T10:03:01.685Z"
   },
   {
    "duration": 19,
    "start_time": "2021-06-20T10:03:01.989Z"
   },
   {
    "duration": 16,
    "start_time": "2021-06-20T10:03:02.285Z"
   },
   {
    "duration": 20,
    "start_time": "2021-06-20T10:03:02.549Z"
   },
   {
    "duration": 17,
    "start_time": "2021-06-20T10:03:02.821Z"
   },
   {
    "duration": 17,
    "start_time": "2021-06-20T10:03:03.165Z"
   },
   {
    "duration": 19,
    "start_time": "2021-06-20T10:03:03.468Z"
   },
   {
    "duration": 16,
    "start_time": "2021-06-20T10:03:03.773Z"
   },
   {
    "duration": 18,
    "start_time": "2021-06-20T10:03:04.053Z"
   },
   {
    "duration": 18,
    "start_time": "2021-06-20T10:03:04.341Z"
   },
   {
    "duration": 16,
    "start_time": "2021-06-20T10:03:06.733Z"
   },
   {
    "duration": 18,
    "start_time": "2021-06-20T10:03:07.789Z"
   },
   {
    "duration": 18,
    "start_time": "2021-06-20T10:03:08.198Z"
   },
   {
    "duration": 14,
    "start_time": "2021-06-20T10:03:08.518Z"
   },
   {
    "duration": 17,
    "start_time": "2021-06-20T10:03:08.821Z"
   },
   {
    "duration": 21,
    "start_time": "2021-06-20T10:03:09.117Z"
   },
   {
    "duration": 18,
    "start_time": "2021-06-20T10:03:09.454Z"
   },
   {
    "duration": 18,
    "start_time": "2021-06-20T10:03:09.765Z"
   },
   {
    "duration": 19,
    "start_time": "2021-06-20T10:03:10.070Z"
   },
   {
    "duration": 16,
    "start_time": "2021-06-20T10:03:10.286Z"
   },
   {
    "duration": 17,
    "start_time": "2021-06-20T10:03:10.501Z"
   },
   {
    "duration": 18,
    "start_time": "2021-06-20T10:03:10.686Z"
   },
   {
    "duration": 195,
    "start_time": "2021-06-20T10:03:11.296Z"
   },
   {
    "duration": 19,
    "start_time": "2021-06-20T10:03:11.893Z"
   },
   {
    "duration": 16,
    "start_time": "2021-06-20T10:03:12.197Z"
   },
   {
    "duration": 38,
    "start_time": "2021-06-20T10:03:12.482Z"
   },
   {
    "duration": 17,
    "start_time": "2021-06-20T10:03:12.741Z"
   },
   {
    "duration": 17,
    "start_time": "2021-06-20T10:03:12.997Z"
   },
   {
    "duration": 16,
    "start_time": "2021-06-20T10:03:13.252Z"
   },
   {
    "duration": 16,
    "start_time": "2021-06-20T10:03:13.477Z"
   },
   {
    "duration": 21,
    "start_time": "2021-06-20T10:03:13.805Z"
   },
   {
    "duration": 193,
    "start_time": "2021-06-20T10:03:14.197Z"
   },
   {
    "duration": 261,
    "start_time": "2021-06-20T10:08:56.787Z"
   },
   {
    "duration": 348,
    "start_time": "2021-06-20T10:09:01.916Z"
   },
   {
    "duration": 201,
    "start_time": "2021-06-20T10:10:16.175Z"
   },
   {
    "duration": 398,
    "start_time": "2021-06-20T10:10:32.668Z"
   },
   {
    "duration": 16,
    "start_time": "2021-06-20T10:12:41.162Z"
   },
   {
    "duration": 273,
    "start_time": "2021-06-20T10:13:23.078Z"
   },
   {
    "duration": 198,
    "start_time": "2021-06-20T10:13:34.189Z"
   },
   {
    "duration": 48,
    "start_time": "2021-06-20T10:13:40.441Z"
   },
   {
    "duration": 381,
    "start_time": "2021-06-20T10:15:38.340Z"
   },
   {
    "duration": 93,
    "start_time": "2021-06-20T10:15:47.695Z"
   },
   {
    "duration": 78,
    "start_time": "2021-06-20T10:17:11.515Z"
   },
   {
    "duration": 4,
    "start_time": "2021-06-20T10:17:47.734Z"
   },
   {
    "duration": 32,
    "start_time": "2021-06-20T10:17:47.741Z"
   },
   {
    "duration": 6,
    "start_time": "2021-06-20T10:17:47.775Z"
   },
   {
    "duration": 31,
    "start_time": "2021-06-20T10:17:47.783Z"
   },
   {
    "duration": 7,
    "start_time": "2021-06-20T10:17:47.817Z"
   },
   {
    "duration": 6,
    "start_time": "2021-06-20T10:17:47.826Z"
   },
   {
    "duration": 450,
    "start_time": "2021-06-20T10:17:47.835Z"
   },
   {
    "duration": 508,
    "start_time": "2021-06-20T10:17:48.286Z"
   },
   {
    "duration": 10,
    "start_time": "2021-06-20T10:17:48.796Z"
   },
   {
    "duration": 14,
    "start_time": "2021-06-20T10:17:48.807Z"
   },
   {
    "duration": 4,
    "start_time": "2021-06-20T10:17:48.823Z"
   },
   {
    "duration": 16,
    "start_time": "2021-06-20T10:17:48.828Z"
   },
   {
    "duration": 5,
    "start_time": "2021-06-20T10:17:48.845Z"
   },
   {
    "duration": 142,
    "start_time": "2021-06-20T10:17:48.851Z"
   },
   {
    "duration": 11,
    "start_time": "2021-06-20T10:17:49.085Z"
   },
   {
    "duration": 428,
    "start_time": "2021-06-20T10:17:49.098Z"
   },
   {
    "duration": 3,
    "start_time": "2021-06-20T10:18:31.005Z"
   },
   {
    "duration": 34,
    "start_time": "2021-06-20T10:18:31.011Z"
   },
   {
    "duration": 10,
    "start_time": "2021-06-20T10:18:31.047Z"
   },
   {
    "duration": 23,
    "start_time": "2021-06-20T10:18:31.059Z"
   },
   {
    "duration": 6,
    "start_time": "2021-06-20T10:18:31.083Z"
   },
   {
    "duration": 12,
    "start_time": "2021-06-20T10:18:31.090Z"
   },
   {
    "duration": 442,
    "start_time": "2021-06-20T10:18:31.104Z"
   },
   {
    "duration": 524,
    "start_time": "2021-06-20T10:18:31.547Z"
   },
   {
    "duration": 14,
    "start_time": "2021-06-20T10:18:32.073Z"
   },
   {
    "duration": 18,
    "start_time": "2021-06-20T10:18:32.089Z"
   },
   {
    "duration": 5,
    "start_time": "2021-06-20T10:18:32.108Z"
   },
   {
    "duration": 14,
    "start_time": "2021-06-20T10:18:32.114Z"
   },
   {
    "duration": 5,
    "start_time": "2021-06-20T10:18:32.129Z"
   },
   {
    "duration": 153,
    "start_time": "2021-06-20T10:18:32.135Z"
   },
   {
    "duration": 102,
    "start_time": "2021-06-20T10:18:32.290Z"
   },
   {
    "duration": 426,
    "start_time": "2021-06-20T10:18:32.395Z"
   },
   {
    "duration": 4,
    "start_time": "2021-06-20T10:18:58.783Z"
   },
   {
    "duration": 24,
    "start_time": "2021-06-20T10:18:58.789Z"
   },
   {
    "duration": 5,
    "start_time": "2021-06-20T10:18:58.815Z"
   },
   {
    "duration": 18,
    "start_time": "2021-06-20T10:18:58.822Z"
   },
   {
    "duration": 5,
    "start_time": "2021-06-20T10:18:58.841Z"
   },
   {
    "duration": 6,
    "start_time": "2021-06-20T10:18:58.847Z"
   },
   {
    "duration": 423,
    "start_time": "2021-06-20T10:18:58.855Z"
   },
   {
    "duration": 647,
    "start_time": "2021-06-20T10:18:59.280Z"
   },
   {
    "duration": 10,
    "start_time": "2021-06-20T10:18:59.929Z"
   },
   {
    "duration": 14,
    "start_time": "2021-06-20T10:18:59.942Z"
   },
   {
    "duration": 29,
    "start_time": "2021-06-20T10:18:59.957Z"
   },
   {
    "duration": 12,
    "start_time": "2021-06-20T10:18:59.988Z"
   },
   {
    "duration": 9,
    "start_time": "2021-06-20T10:19:00.001Z"
   },
   {
    "duration": 172,
    "start_time": "2021-06-20T10:19:00.012Z"
   },
   {
    "duration": 10,
    "start_time": "2021-06-20T10:19:00.187Z"
   },
   {
    "duration": 484,
    "start_time": "2021-06-20T10:19:00.199Z"
   },
   {
    "duration": 46,
    "start_time": "2021-06-20T10:19:26.741Z"
   },
   {
    "duration": 190,
    "start_time": "2021-06-20T10:19:35.695Z"
   },
   {
    "duration": 3,
    "start_time": "2021-06-20T10:20:29.214Z"
   },
   {
    "duration": 26,
    "start_time": "2021-06-20T10:20:29.219Z"
   },
   {
    "duration": 5,
    "start_time": "2021-06-20T10:20:29.247Z"
   },
   {
    "duration": 32,
    "start_time": "2021-06-20T10:20:29.254Z"
   },
   {
    "duration": 7,
    "start_time": "2021-06-20T10:20:29.287Z"
   },
   {
    "duration": 4,
    "start_time": "2021-06-20T10:20:29.295Z"
   },
   {
    "duration": 427,
    "start_time": "2021-06-20T10:20:29.301Z"
   },
   {
    "duration": 528,
    "start_time": "2021-06-20T10:20:29.729Z"
   },
   {
    "duration": 11,
    "start_time": "2021-06-20T10:20:30.260Z"
   },
   {
    "duration": 16,
    "start_time": "2021-06-20T10:20:30.285Z"
   },
   {
    "duration": 13,
    "start_time": "2021-06-20T10:20:30.303Z"
   },
   {
    "duration": 15,
    "start_time": "2021-06-20T10:20:30.317Z"
   },
   {
    "duration": 12,
    "start_time": "2021-06-20T10:20:30.333Z"
   },
   {
    "duration": 239,
    "start_time": "2021-06-20T10:20:30.347Z"
   },
   {
    "duration": 11,
    "start_time": "2021-06-20T10:20:30.587Z"
   },
   {
    "duration": 481,
    "start_time": "2021-06-20T10:20:30.601Z"
   },
   {
    "duration": 3,
    "start_time": "2021-06-20T10:21:28.219Z"
   },
   {
    "duration": 25,
    "start_time": "2021-06-20T10:21:28.224Z"
   },
   {
    "duration": 5,
    "start_time": "2021-06-20T10:21:28.251Z"
   },
   {
    "duration": 20,
    "start_time": "2021-06-20T10:21:28.258Z"
   },
   {
    "duration": 5,
    "start_time": "2021-06-20T10:21:28.280Z"
   },
   {
    "duration": 7,
    "start_time": "2021-06-20T10:21:28.286Z"
   },
   {
    "duration": 423,
    "start_time": "2021-06-20T10:21:28.294Z"
   },
   {
    "duration": 521,
    "start_time": "2021-06-20T10:21:28.720Z"
   },
   {
    "duration": 10,
    "start_time": "2021-06-20T10:21:29.243Z"
   },
   {
    "duration": 15,
    "start_time": "2021-06-20T10:21:29.254Z"
   },
   {
    "duration": 15,
    "start_time": "2021-06-20T10:21:29.270Z"
   },
   {
    "duration": 13,
    "start_time": "2021-06-20T10:21:29.286Z"
   },
   {
    "duration": 84,
    "start_time": "2021-06-20T10:21:29.301Z"
   },
   {
    "duration": 104,
    "start_time": "2021-06-20T10:21:29.387Z"
   },
   {
    "duration": 638,
    "start_time": "2021-06-20T10:21:29.493Z"
   },
   {
    "duration": 3,
    "start_time": "2021-06-20T10:22:52.478Z"
   },
   {
    "duration": 28,
    "start_time": "2021-06-20T10:22:52.482Z"
   },
   {
    "duration": 7,
    "start_time": "2021-06-20T10:22:52.512Z"
   },
   {
    "duration": 21,
    "start_time": "2021-06-20T10:22:52.521Z"
   },
   {
    "duration": 7,
    "start_time": "2021-06-20T10:22:52.544Z"
   },
   {
    "duration": 7,
    "start_time": "2021-06-20T10:22:52.552Z"
   },
   {
    "duration": 443,
    "start_time": "2021-06-20T10:22:52.585Z"
   },
   {
    "duration": 540,
    "start_time": "2021-06-20T10:22:53.030Z"
   },
   {
    "duration": 16,
    "start_time": "2021-06-20T10:22:53.572Z"
   },
   {
    "duration": 15,
    "start_time": "2021-06-20T10:22:53.590Z"
   },
   {
    "duration": 5,
    "start_time": "2021-06-20T10:22:53.606Z"
   },
   {
    "duration": 14,
    "start_time": "2021-06-20T10:22:53.613Z"
   },
   {
    "duration": 357,
    "start_time": "2021-06-20T10:22:53.629Z"
   },
   {
    "duration": 102,
    "start_time": "2021-06-20T10:22:53.988Z"
   },
   {
    "duration": 4,
    "start_time": "2021-06-20T10:22:54.092Z"
   },
   {
    "duration": 3,
    "start_time": "2021-06-20T10:23:35.645Z"
   },
   {
    "duration": 26,
    "start_time": "2021-06-20T10:23:35.650Z"
   },
   {
    "duration": 5,
    "start_time": "2021-06-20T10:23:35.678Z"
   },
   {
    "duration": 22,
    "start_time": "2021-06-20T10:23:35.685Z"
   },
   {
    "duration": 6,
    "start_time": "2021-06-20T10:23:35.708Z"
   },
   {
    "duration": 8,
    "start_time": "2021-06-20T10:23:35.716Z"
   },
   {
    "duration": 439,
    "start_time": "2021-06-20T10:23:35.726Z"
   },
   {
    "duration": 510,
    "start_time": "2021-06-20T10:23:36.166Z"
   },
   {
    "duration": 14,
    "start_time": "2021-06-20T10:23:36.678Z"
   },
   {
    "duration": 22,
    "start_time": "2021-06-20T10:23:36.694Z"
   },
   {
    "duration": 6,
    "start_time": "2021-06-20T10:23:36.718Z"
   },
   {
    "duration": 16,
    "start_time": "2021-06-20T10:23:36.725Z"
   },
   {
    "duration": 243,
    "start_time": "2021-06-20T10:23:36.743Z"
   },
   {
    "duration": 10,
    "start_time": "2021-06-20T10:23:36.988Z"
   },
   {
    "duration": 3,
    "start_time": "2021-06-20T10:23:37.001Z"
   },
   {
    "duration": 100,
    "start_time": "2021-06-20T10:28:10.586Z"
   },
   {
    "duration": 14,
    "start_time": "2021-06-20T10:28:38.773Z"
   },
   {
    "duration": 282,
    "start_time": "2021-06-20T10:29:37.866Z"
   },
   {
    "duration": 199,
    "start_time": "2021-06-20T10:30:11.414Z"
   },
   {
    "duration": 17,
    "start_time": "2021-06-20T10:33:54.354Z"
   },
   {
    "duration": 15,
    "start_time": "2021-06-20T10:34:10.072Z"
   },
   {
    "duration": 16,
    "start_time": "2021-06-20T10:34:39.887Z"
   },
   {
    "duration": 263,
    "start_time": "2021-06-20T10:34:44.336Z"
   },
   {
    "duration": 16,
    "start_time": "2021-06-20T10:34:47.691Z"
   },
   {
    "duration": 90,
    "start_time": "2021-06-20T10:35:26.499Z"
   },
   {
    "duration": 7,
    "start_time": "2021-06-20T10:52:47.682Z"
   },
   {
    "duration": 3,
    "start_time": "2021-06-20T10:56:35.495Z"
   },
   {
    "duration": 13,
    "start_time": "2021-06-20T10:56:55.062Z"
   },
   {
    "duration": 10,
    "start_time": "2021-06-20T11:00:18.190Z"
   },
   {
    "duration": 267,
    "start_time": "2021-06-20T11:07:21.798Z"
   },
   {
    "duration": 12,
    "start_time": "2021-06-20T11:07:38.626Z"
   },
   {
    "duration": 13,
    "start_time": "2021-06-20T11:07:40.995Z"
   },
   {
    "duration": 62,
    "start_time": "2021-06-20T11:07:58.957Z"
   },
   {
    "duration": 12,
    "start_time": "2021-06-20T11:08:05.262Z"
   },
   {
    "duration": 11,
    "start_time": "2021-06-20T11:08:09.464Z"
   },
   {
    "duration": 11,
    "start_time": "2021-06-20T11:08:13.046Z"
   },
   {
    "duration": 13,
    "start_time": "2021-06-20T11:08:16.252Z"
   },
   {
    "duration": 11,
    "start_time": "2021-06-20T11:08:44.561Z"
   },
   {
    "duration": 11,
    "start_time": "2021-06-20T11:08:52.329Z"
   },
   {
    "duration": 11,
    "start_time": "2021-06-20T11:09:57.330Z"
   },
   {
    "duration": 195,
    "start_time": "2021-06-20T11:10:39.843Z"
   },
   {
    "duration": 12,
    "start_time": "2021-06-20T11:10:49.822Z"
   },
   {
    "duration": 3,
    "start_time": "2021-06-20T11:11:08.882Z"
   },
   {
    "duration": 215,
    "start_time": "2021-06-20T11:16:21.728Z"
   },
   {
    "duration": 65,
    "start_time": "2021-06-20T11:17:12.781Z"
   },
   {
    "duration": 262,
    "start_time": "2021-06-20T11:17:27.246Z"
   },
   {
    "duration": 314,
    "start_time": "2021-06-20T11:17:49.686Z"
   },
   {
    "duration": 293,
    "start_time": "2021-06-20T11:18:08.572Z"
   },
   {
    "duration": 263,
    "start_time": "2021-06-20T11:18:31.904Z"
   },
   {
    "duration": 275,
    "start_time": "2021-06-20T11:19:00.528Z"
   },
   {
    "duration": 725,
    "start_time": "2021-06-20T11:25:09.874Z"
   },
   {
    "duration": 227,
    "start_time": "2021-06-20T11:25:16.479Z"
   },
   {
    "duration": 4,
    "start_time": "2021-06-20T11:26:06.153Z"
   },
   {
    "duration": 3,
    "start_time": "2021-06-20T11:26:20.080Z"
   },
   {
    "duration": 32,
    "start_time": "2021-06-20T11:26:39.154Z"
   },
   {
    "duration": 18,
    "start_time": "2021-06-20T11:26:42.536Z"
   },
   {
    "duration": 18,
    "start_time": "2021-06-20T11:26:45.919Z"
   },
   {
    "duration": 17,
    "start_time": "2021-06-20T11:26:57.431Z"
   },
   {
    "duration": 4674,
    "start_time": "2021-06-20T11:27:27.674Z"
   },
   {
    "duration": 1052,
    "start_time": "2021-06-20T11:27:55.131Z"
   },
   {
    "duration": 27,
    "start_time": "2021-06-20T11:27:56.185Z"
   },
   {
    "duration": 8,
    "start_time": "2021-06-20T11:27:56.215Z"
   },
   {
    "duration": 25,
    "start_time": "2021-06-20T11:27:56.225Z"
   },
   {
    "duration": 5,
    "start_time": "2021-06-20T11:27:56.252Z"
   },
   {
    "duration": 26,
    "start_time": "2021-06-20T11:27:56.259Z"
   },
   {
    "duration": 453,
    "start_time": "2021-06-20T11:27:56.286Z"
   },
   {
    "duration": 524,
    "start_time": "2021-06-20T11:27:56.742Z"
   },
   {
    "duration": 19,
    "start_time": "2021-06-20T11:27:57.268Z"
   },
   {
    "duration": 14,
    "start_time": "2021-06-20T11:27:57.289Z"
   },
   {
    "duration": 9,
    "start_time": "2021-06-20T11:27:57.305Z"
   },
   {
    "duration": 15,
    "start_time": "2021-06-20T11:27:57.315Z"
   },
   {
    "duration": 6,
    "start_time": "2021-06-20T11:27:57.388Z"
   },
   {
    "duration": 18,
    "start_time": "2021-06-20T11:27:57.486Z"
   },
   {
    "duration": 27,
    "start_time": "2021-06-20T11:30:12.561Z"
   },
   {
    "duration": 18,
    "start_time": "2021-06-20T11:30:17.462Z"
   },
   {
    "duration": 63,
    "start_time": "2021-06-20T11:31:30.147Z"
   },
   {
    "duration": 62,
    "start_time": "2021-06-20T11:31:34.414Z"
   },
   {
    "duration": 107,
    "start_time": "2021-06-20T11:31:40.678Z"
   },
   {
    "duration": 19,
    "start_time": "2021-06-20T11:31:51.879Z"
   },
   {
    "duration": 18,
    "start_time": "2021-06-20T11:32:26.371Z"
   },
   {
    "duration": 22,
    "start_time": "2021-06-20T11:33:38.262Z"
   },
   {
    "duration": 4,
    "start_time": "2021-06-20T11:41:45.847Z"
   },
   {
    "duration": 1019,
    "start_time": "2021-06-20T11:44:50.566Z"
   },
   {
    "duration": 26,
    "start_time": "2021-06-20T11:44:51.586Z"
   },
   {
    "duration": 6,
    "start_time": "2021-06-20T11:44:51.614Z"
   },
   {
    "duration": 25,
    "start_time": "2021-06-20T11:44:51.622Z"
   },
   {
    "duration": 6,
    "start_time": "2021-06-20T11:44:51.649Z"
   },
   {
    "duration": 14,
    "start_time": "2021-06-20T11:44:51.656Z"
   },
   {
    "duration": 427,
    "start_time": "2021-06-20T11:44:51.671Z"
   },
   {
    "duration": 510,
    "start_time": "2021-06-20T11:44:52.100Z"
   },
   {
    "duration": 10,
    "start_time": "2021-06-20T11:44:52.613Z"
   },
   {
    "duration": 18,
    "start_time": "2021-06-20T11:44:52.625Z"
   },
   {
    "duration": 9,
    "start_time": "2021-06-20T11:44:52.645Z"
   },
   {
    "duration": 14,
    "start_time": "2021-06-20T11:44:52.655Z"
   },
   {
    "duration": 16,
    "start_time": "2021-06-20T11:44:52.685Z"
   },
   {
    "duration": 191,
    "start_time": "2021-06-20T11:44:52.703Z"
   },
   {
    "duration": 1396,
    "start_time": "2021-06-20T12:04:04.523Z"
   },
   {
    "duration": 34,
    "start_time": "2021-06-20T12:04:05.921Z"
   },
   {
    "duration": 10,
    "start_time": "2021-06-20T12:04:05.957Z"
   },
   {
    "duration": 46,
    "start_time": "2021-06-20T12:04:05.969Z"
   },
   {
    "duration": 8,
    "start_time": "2021-06-20T12:04:06.017Z"
   },
   {
    "duration": 6,
    "start_time": "2021-06-20T12:04:06.028Z"
   },
   {
    "duration": 728,
    "start_time": "2021-06-20T12:04:06.037Z"
   },
   {
    "duration": 849,
    "start_time": "2021-06-20T12:04:06.769Z"
   },
   {
    "duration": 17,
    "start_time": "2021-06-20T12:04:07.622Z"
   },
   {
    "duration": 60,
    "start_time": "2021-06-20T12:04:07.642Z"
   },
   {
    "duration": 5,
    "start_time": "2021-06-20T12:04:07.705Z"
   },
   {
    "duration": 409,
    "start_time": "2021-06-20T12:04:07.713Z"
   },
   {
    "duration": -23,
    "start_time": "2021-06-20T12:04:08.148Z"
   },
   {
    "duration": -26,
    "start_time": "2021-06-20T12:04:08.152Z"
   },
   {
    "duration": -28,
    "start_time": "2021-06-20T12:04:08.156Z"
   },
   {
    "duration": 285,
    "start_time": "2021-06-20T12:05:04.320Z"
   },
   {
    "duration": 89,
    "start_time": "2021-06-20T12:06:12.337Z"
   },
   {
    "duration": 4,
    "start_time": "2021-06-20T12:06:23.083Z"
   },
   {
    "duration": 5,
    "start_time": "2021-06-20T12:06:28.558Z"
   },
   {
    "duration": 106,
    "start_time": "2021-06-20T12:06:35.742Z"
   },
   {
    "duration": 90,
    "start_time": "2021-06-20T12:06:45.756Z"
   },
   {
    "duration": 4,
    "start_time": "2021-06-20T12:07:04.758Z"
   },
   {
    "duration": 6,
    "start_time": "2021-06-20T12:07:10.146Z"
   },
   {
    "duration": 2649,
    "start_time": "2021-06-20T12:07:38.900Z"
   },
   {
    "duration": 4,
    "start_time": "2021-06-20T12:07:48.541Z"
   },
   {
    "duration": 5,
    "start_time": "2021-06-20T12:07:49.309Z"
   },
   {
    "duration": 1875,
    "start_time": "2021-06-20T12:07:55.874Z"
   },
   {
    "duration": 1384,
    "start_time": "2021-06-20T12:08:21.216Z"
   },
   {
    "duration": 33,
    "start_time": "2021-06-20T12:08:22.603Z"
   },
   {
    "duration": 10,
    "start_time": "2021-06-20T12:08:22.640Z"
   },
   {
    "duration": 54,
    "start_time": "2021-06-20T12:08:22.654Z"
   },
   {
    "duration": 8,
    "start_time": "2021-06-20T12:08:22.711Z"
   },
   {
    "duration": 10,
    "start_time": "2021-06-20T12:08:22.722Z"
   },
   {
    "duration": 730,
    "start_time": "2021-06-20T12:08:22.735Z"
   },
   {
    "duration": 870,
    "start_time": "2021-06-20T12:08:23.467Z"
   },
   {
    "duration": 21,
    "start_time": "2021-06-20T12:08:24.342Z"
   },
   {
    "duration": 50,
    "start_time": "2021-06-20T12:08:24.367Z"
   },
   {
    "duration": 5,
    "start_time": "2021-06-20T12:08:24.420Z"
   },
   {
    "duration": 11,
    "start_time": "2021-06-20T12:08:24.428Z"
   },
   {
    "duration": 67,
    "start_time": "2021-06-20T12:08:24.441Z"
   },
   {
    "duration": 194,
    "start_time": "2021-06-20T12:08:24.511Z"
   },
   {
    "duration": 1451,
    "start_time": "2021-06-20T12:10:02.632Z"
   },
   {
    "duration": 34,
    "start_time": "2021-06-20T12:10:04.086Z"
   },
   {
    "duration": 10,
    "start_time": "2021-06-20T12:10:04.123Z"
   },
   {
    "duration": 36,
    "start_time": "2021-06-20T12:10:04.136Z"
   },
   {
    "duration": 9,
    "start_time": "2021-06-20T12:10:04.201Z"
   },
   {
    "duration": 6,
    "start_time": "2021-06-20T12:10:04.213Z"
   },
   {
    "duration": 736,
    "start_time": "2021-06-20T12:10:04.222Z"
   },
   {
    "duration": 884,
    "start_time": "2021-06-20T12:10:04.960Z"
   },
   {
    "duration": 17,
    "start_time": "2021-06-20T12:10:05.848Z"
   },
   {
    "duration": 51,
    "start_time": "2021-06-20T12:10:05.869Z"
   },
   {
    "duration": 5,
    "start_time": "2021-06-20T12:10:05.923Z"
   },
   {
    "duration": 24,
    "start_time": "2021-06-20T12:10:05.930Z"
   },
   {
    "duration": 49,
    "start_time": "2021-06-20T12:10:05.956Z"
   },
   {
    "duration": 204,
    "start_time": "2021-06-20T12:10:06.009Z"
   },
   {
    "duration": 86,
    "start_time": "2021-06-23T10:53:34.820Z"
   },
   {
    "duration": 3000,
    "start_time": "2021-06-23T10:55:43.196Z"
   },
   {
    "duration": 83,
    "start_time": "2021-06-23T10:56:45.917Z"
   },
   {
    "duration": 810,
    "start_time": "2021-06-23T11:00:33.781Z"
   },
   {
    "duration": 8397,
    "start_time": "2021-06-23T11:00:49.905Z"
   },
   {
    "duration": 101,
    "start_time": "2021-06-23T11:01:36.875Z"
   },
   {
    "duration": 903,
    "start_time": "2021-06-23T11:01:45.274Z"
   },
   {
    "duration": 3300,
    "start_time": "2021-06-23T11:01:50.954Z"
   },
   {
    "duration": 2715,
    "start_time": "2021-06-23T11:02:42.348Z"
   },
   {
    "duration": 3454,
    "start_time": "2021-06-23T11:02:46.666Z"
   },
   {
    "duration": 91,
    "start_time": "2021-06-23T11:02:56.140Z"
   },
   {
    "duration": 123,
    "start_time": "2021-06-23T11:03:14.452Z"
   },
   {
    "duration": 944,
    "start_time": "2021-06-23T11:03:30.868Z"
   },
   {
    "duration": 110,
    "start_time": "2021-06-23T11:05:56.302Z"
   },
   {
    "duration": 29,
    "start_time": "2021-06-23T11:06:12.040Z"
   },
   {
    "duration": 98,
    "start_time": "2021-06-23T11:07:30.144Z"
   },
   {
    "duration": 5948,
    "start_time": "2021-06-23T11:07:40.321Z"
   },
   {
    "duration": 3389,
    "start_time": "2021-06-23T11:08:35.865Z"
   },
   {
    "duration": 805,
    "start_time": "2021-06-23T11:09:08.793Z"
   },
   {
    "duration": 788,
    "start_time": "2021-06-29T13:14:39.231Z"
   }
  ],
  "kernelspec": {
   "display_name": "Python 3 (ipykernel)",
   "language": "python",
   "name": "python3"
  },
  "language_info": {
   "codemirror_mode": {
    "name": "ipython",
    "version": 3
   },
   "file_extension": ".py",
   "mimetype": "text/x-python",
   "name": "python",
   "nbconvert_exporter": "python",
   "pygments_lexer": "ipython3",
   "version": "3.9.5"
  },
  "toc": {
   "base_numbering": 1,
   "nav_menu": {},
   "number_sections": false,
   "sideBar": true,
   "skip_h1_title": false,
   "title_cell": "Содержание",
   "title_sidebar": "Contents",
   "toc_cell": true,
   "toc_position": {},
   "toc_section_display": true,
   "toc_window_display": true
  }
 },
 "nbformat": 4,
 "nbformat_minor": 2
}
