{
 "cells": [
  {
   "cell_type": "markdown",
   "metadata": {
    "toc": true
   },
   "source": [
    "<h1>Содержание<span class=\"tocSkip\"></span></h1>\n",
    "<div class=\"toc\"><ul class=\"toc-item\"><li><span><a href=\"#Спрос-на-рейсы-авиакомпании\" data-toc-modified-id=\"Спрос-на-рейсы-авиакомпании-1\">Спрос на рейсы авиакомпании</a></span></li><li><span><a href=\"#Подключение-библиотек:\" data-toc-modified-id=\"Подключение-библиотек:-2\">Подключение библиотек:</a></span></li><li><span><a href=\"#1.-Загрузка-данных\" data-toc-modified-id=\"1.-Загрузка-данных-3\">1. Загрузка данных</a></span></li><li><span><a href=\"#2.-Построение-графиков\" data-toc-modified-id=\"2.-Построение-графиков-4\">2. Построение графиков</a></span><ul class=\"toc-item\"><li><span><a href=\"#2.1.-Топ-10-городов-по-количеству-рейсов.\" data-toc-modified-id=\"2.1.-Топ-10-городов-по-количеству-рейсов.-4.1\">2.1. Топ-10 городов по количеству рейсов.</a></span></li><li><span><a href=\"#2.2.-График-количества-рейсов-по-городам.\" data-toc-modified-id=\"2.2.-График-количества-рейсов-по-городам.-4.2\">2.2. График количества рейсов по городам.</a></span></li><li><span><a href=\"#2.3.-График-количества-рейсов-по-моделям-самолетов.\" data-toc-modified-id=\"2.3.-График-количества-рейсов-по-моделям-самолетов.-4.3\">2.3. График количества рейсов по моделям самолетов.</a></span></li></ul></li><li><span><a href=\"#3.-Итоговый-вывод.\" data-toc-modified-id=\"3.-Итоговый-вывод.-5\">3. Итоговый вывод.</a></span><ul class=\"toc-item\"><li><span><a href=\"#Чек-лист-проверки\" data-toc-modified-id=\"Чек-лист-проверки-5.1\">Чек-лист проверки</a></span></li></ul></li></ul></div>"
   ]
  },
  {
   "cell_type": "markdown",
   "metadata": {},
   "source": [
    "# Спрос на рейсы авиакомпании"
   ]
  },
  {
   "cell_type": "markdown",
   "metadata": {},
   "source": [
    "Вы аналитик российской авиакомпании F9, выполняющей внутренние пассажирские перевозки. Важно понять предпочтения пользователей, покупающих билеты на разные направления.\n",
    "\n",
    "Вам предстоит изучить базу данных и проанализировать спрос пассажиров на рейсы в города, где проходят крупнейшие культурные фестивали."
   ]
  },
  {
   "cell_type": "markdown",
   "metadata": {},
   "source": [
    "У вас есть файлы с результатами запросов из предыдущих заданий.\n",
    "\n",
    "**query_1.csv** — результат первого запроса. В нём содержится такая информация:\n",
    "\n",
    "- *model* — **модель самолета;\n",
    "- *flights_amount* — количество рейсов для каждой модели самолетов *model* в сентябре 2018 года.\n",
    "\n",
    "**query_3.csv** — результат третьего запроса. В нём содержится такая информация:\n",
    "\n",
    "- *city* — город;\n",
    "- *average_flights* — среднее количество рейсов, прибывающих в город (*city*) за день в сентябре 2018 года.\n",
    "\n",
    " Для этих двух наборов данных нужно:\n",
    "\n",
    "- импортировать файлы;\n",
    "- изучить данные в них;\n",
    "- проверить типы данных на корректность;\n",
    "- выбрать топ-10 городов по количеству рейсов;\n",
    "- построить графики: модели самолётов и количество рейсов, города и количество рейсов, топ-10 городов и количество рейсов;\n",
    "- сделать выводы по каждому из графиков, пояснить результат.\n"
   ]
  },
  {
   "cell_type": "markdown",
   "metadata": {},
   "source": [
    "# Подключение библиотек:"
   ]
  },
  {
   "cell_type": "code",
   "execution_count": 1,
   "metadata": {},
   "outputs": [],
   "source": [
    "import pandas as pd\n",
    "import matplotlib.pyplot as plt"
   ]
  },
  {
   "cell_type": "markdown",
   "metadata": {},
   "source": [
    "# 1. Загрузка данных\n",
    "\n",
    "В первую очередь загрузим датасеты и взглянем на них."
   ]
  },
  {
   "cell_type": "code",
   "execution_count": 2,
   "metadata": {},
   "outputs": [
    {
     "data": {
      "text/html": [
       "<div>\n",
       "<style scoped>\n",
       "    .dataframe tbody tr th:only-of-type {\n",
       "        vertical-align: middle;\n",
       "    }\n",
       "\n",
       "    .dataframe tbody tr th {\n",
       "        vertical-align: top;\n",
       "    }\n",
       "\n",
       "    .dataframe thead th {\n",
       "        text-align: right;\n",
       "    }\n",
       "</style>\n",
       "<table border=\"1\" class=\"dataframe\">\n",
       "  <thead>\n",
       "    <tr style=\"text-align: right;\">\n",
       "      <th></th>\n",
       "      <th>model</th>\n",
       "      <th>flights_amount</th>\n",
       "    </tr>\n",
       "  </thead>\n",
       "  <tbody>\n",
       "    <tr>\n",
       "      <td>0</td>\n",
       "      <td>Airbus A319-100</td>\n",
       "      <td>607</td>\n",
       "    </tr>\n",
       "    <tr>\n",
       "      <td>1</td>\n",
       "      <td>Airbus A321-200</td>\n",
       "      <td>960</td>\n",
       "    </tr>\n",
       "    <tr>\n",
       "      <td>2</td>\n",
       "      <td>Boeing 737-300</td>\n",
       "      <td>630</td>\n",
       "    </tr>\n",
       "    <tr>\n",
       "      <td>3</td>\n",
       "      <td>Boeing 767-300</td>\n",
       "      <td>600</td>\n",
       "    </tr>\n",
       "    <tr>\n",
       "      <td>4</td>\n",
       "      <td>Boeing 777-300</td>\n",
       "      <td>300</td>\n",
       "    </tr>\n",
       "  </tbody>\n",
       "</table>\n",
       "</div>"
      ],
      "text/plain": [
       "             model  flights_amount\n",
       "0  Airbus A319-100             607\n",
       "1  Airbus A321-200             960\n",
       "2   Boeing 737-300             630\n",
       "3   Boeing 767-300             600\n",
       "4   Boeing 777-300             300"
      ]
     },
     "metadata": {},
     "output_type": "display_data"
    },
    {
     "data": {
      "text/html": [
       "<div>\n",
       "<style scoped>\n",
       "    .dataframe tbody tr th:only-of-type {\n",
       "        vertical-align: middle;\n",
       "    }\n",
       "\n",
       "    .dataframe tbody tr th {\n",
       "        vertical-align: top;\n",
       "    }\n",
       "\n",
       "    .dataframe thead th {\n",
       "        text-align: right;\n",
       "    }\n",
       "</style>\n",
       "<table border=\"1\" class=\"dataframe\">\n",
       "  <thead>\n",
       "    <tr style=\"text-align: right;\">\n",
       "      <th></th>\n",
       "      <th>city</th>\n",
       "      <th>average_flights</th>\n",
       "    </tr>\n",
       "  </thead>\n",
       "  <tbody>\n",
       "    <tr>\n",
       "      <td>0</td>\n",
       "      <td>Абакан</td>\n",
       "      <td>3.870968</td>\n",
       "    </tr>\n",
       "    <tr>\n",
       "      <td>1</td>\n",
       "      <td>Анадырь</td>\n",
       "      <td>1.000000</td>\n",
       "    </tr>\n",
       "    <tr>\n",
       "      <td>2</td>\n",
       "      <td>Анапа</td>\n",
       "      <td>2.161290</td>\n",
       "    </tr>\n",
       "    <tr>\n",
       "      <td>3</td>\n",
       "      <td>Архангельск</td>\n",
       "      <td>5.354839</td>\n",
       "    </tr>\n",
       "    <tr>\n",
       "      <td>4</td>\n",
       "      <td>Астрахань</td>\n",
       "      <td>2.451613</td>\n",
       "    </tr>\n",
       "  </tbody>\n",
       "</table>\n",
       "</div>"
      ],
      "text/plain": [
       "          city  average_flights\n",
       "0       Абакан         3.870968\n",
       "1      Анадырь         1.000000\n",
       "2        Анапа         2.161290\n",
       "3  Архангельск         5.354839\n",
       "4    Астрахань         2.451613"
      ]
     },
     "metadata": {},
     "output_type": "display_data"
    }
   ],
   "source": [
    "query_1 = pd.read_csv('/datasets/query_1.csv')\n",
    "query_3 = pd.read_csv('/datasets/query_3.csv')\n",
    "\n",
    "display(query_1.head(5))\n",
    "display(query_3.head(5))"
   ]
  },
  {
   "cell_type": "code",
   "execution_count": 3,
   "metadata": {},
   "outputs": [
    {
     "name": "stdout",
     "output_type": "stream",
     "text": [
      "<class 'pandas.core.frame.DataFrame'>\n",
      "RangeIndex: 8 entries, 0 to 7\n",
      "Data columns (total 2 columns):\n",
      "model             8 non-null object\n",
      "flights_amount    8 non-null int64\n",
      "dtypes: int64(1), object(1)\n",
      "memory usage: 256.0+ bytes\n"
     ]
    },
    {
     "data": {
      "text/plain": [
       "None"
      ]
     },
     "metadata": {},
     "output_type": "display_data"
    },
    {
     "name": "stdout",
     "output_type": "stream",
     "text": [
      "\u001b[1mКоличество дубликатов в запросе №1 -\u001b[0m 0\n"
     ]
    },
    {
     "data": {
      "text/plain": [
       "Airbus A321-200        1\n",
       "Boeing 777-300         1\n",
       "Cessna 208 Caravan     1\n",
       "Sukhoi SuperJet-100    1\n",
       "Boeing 767-300         1\n",
       "Airbus A319-100        1\n",
       "Boeing 737-300         1\n",
       "Bombardier CRJ-200     1\n",
       "Name: model, dtype: int64"
      ]
     },
     "metadata": {},
     "output_type": "display_data"
    }
   ],
   "source": [
    "display(query_1.info())\n",
    "print('\\033[1m' + 'Количество дубликатов в запросе №1 -' + '\\033[0m', query_1.duplicated().sum())\n",
    "display(query_1['model'].value_counts())"
   ]
  },
  {
   "cell_type": "code",
   "execution_count": 4,
   "metadata": {},
   "outputs": [
    {
     "name": "stdout",
     "output_type": "stream",
     "text": [
      "<class 'pandas.core.frame.DataFrame'>\n",
      "RangeIndex: 101 entries, 0 to 100\n",
      "Data columns (total 2 columns):\n",
      "city               101 non-null object\n",
      "average_flights    101 non-null float64\n",
      "dtypes: float64(1), object(1)\n",
      "memory usage: 1.7+ KB\n"
     ]
    },
    {
     "data": {
      "text/plain": [
       "None"
      ]
     },
     "metadata": {},
     "output_type": "display_data"
    },
    {
     "name": "stdout",
     "output_type": "stream",
     "text": [
      "\u001b[1mКоличество дубликатов в запросе №1 -\u001b[0m 0\n"
     ]
    }
   ],
   "source": [
    "display(query_3.info())\n",
    "print('\\033[1m' + 'Количество дубликатов в запросе №1 -' + '\\033[0m', query_3.duplicated().sum())"
   ]
  },
  {
   "cell_type": "markdown",
   "metadata": {},
   "source": [
    "Дубликатов нет, визуально с данными и их типами всё в порядке, переходим к построению графиков.\n",
    "\n",
    "# 2. Построение графиков\n",
    "\n",
    "## 2.1. Топ-10 городов по количеству рейсов."
   ]
  },
  {
   "cell_type": "code",
   "execution_count": 5,
   "metadata": {},
   "outputs": [
    {
     "data": {
      "image/png": "[encoded data removed]",
      "text/plain": [
       "<Figure size 1440x576 with 1 Axes>"
      ]
     },
     "metadata": {
      "needs_background": "light"
     },
     "output_type": "display_data"
    }
   ],
   "source": [
    "query_3.sort_values(by='average_flights', ascending = False).head(10).plot(x='city', \n",
    "                 y=\"average_flights\", \n",
    "                 kind='bar', \n",
    "                 ec='black', \n",
    "                 legend=None, \n",
    "                 figsize=(20,8))\n",
    "plt.xlabel('Город', size = 15)\n",
    "plt.ylabel('Среднее количество рейсов за день', size = 15)\n",
    "plt.grid(axis='y')\n",
    "plt.xticks(fontsize=15)\n",
    "plt.yticks(fontsize=15)\n",
    "plt.show()"
   ]
  },
  {
   "cell_type": "markdown",
   "metadata": {},
   "source": [
    "С помощью полученного графика можем наблюдать следующее:\n",
    "- **Москва лидирует по среднему количеству средних рейсов** почти в 10 раз по сравнению со всеми остальными городами в РФ, что достаточно очевидно, так как Москва является столицей и самым крупным городом РФ с четырьмя аэропортами. \n",
    "- **За Москвой с большим отставанием следует Санкт-Петербург**, также один из крупнейших городов РФ с четырьями аэропортами и возможностью перелетов в другие страны.\n",
    "- На третьем месте оказался Новосибирск, так как это третий город по численности населения РФ, тоже находящийся в непосредственной близости с границами других стран.\n",
    "- Остальные города, находящиеся в топ-10, являются либо также одними из самых крупных в РФ, либо являются курортными городами.\n",
    "\n",
    "## 2.2. График количества рейсов по городам."
   ]
  },
  {
   "cell_type": "code",
   "execution_count": 6,
   "metadata": {},
   "outputs": [
    {
     "data": {
      "image/png": "[encoded data removed]",
      "text/plain": [
       "<Figure size 1440x576 with 1 Axes>"
      ]
     },
     "metadata": {
      "needs_background": "light"
     },
     "output_type": "display_data"
    }
   ],
   "source": [
    "query_3.sort_values(by='average_flights', ascending = False).plot(x='city', \n",
    "             y=\"average_flights\", \n",
    "             kind='bar', \n",
    "             ec='black', \n",
    "             legend=None, \n",
    "             figsize=(20,8))\n",
    "plt.xlabel(\"Город\", fontsize = 15)\n",
    "plt.ylabel(\"Среднее количество рейсов за день\", fontsize = 15)\n",
    "plt.grid(axis='y')\n",
    "plt.xticks(rotation=90, fontsize = 10)\n",
    "plt.yticks(list(range(0, int(query_3['average_flights'].max()+10), 10)), fontsize = 15)\n",
    "plt.title(\"Среднее количество рейсов, прибывающих в город за день в сентябре 2018 года\")\n",
    "plt.show()"
   ]
  },
  {
   "cell_type": "markdown",
   "metadata": {},
   "source": [
    "По данному графику можем наблюдать насколько сильный отрыв в количестве рейсов между Москвой/Санкт-Петербургом/Новосибирском и остальными городами РФ. Во всех городах, не находящихся в топ-10 по количеству рейсов, в среднем за день наблюдается не более 10 рейсов в день.\n",
    "\n",
    "## 2.3. График количества рейсов по моделям самолетов."
   ]
  },
  {
   "cell_type": "code",
   "execution_count": 7,
   "metadata": {},
   "outputs": [
    {
     "data": {
      "image/png": "[encoded data removed]",
      "text/plain": [
       "<Figure size 1440x360 with 1 Axes>"
      ]
     },
     "metadata": {
      "needs_background": "light"
     },
     "output_type": "display_data"
    }
   ],
   "source": [
    "query_1.sort_values(by='flights_amount', ascending = False).plot(x='model', \n",
    "             y=\"flights_amount\", \n",
    "             kind='bar', \n",
    "             ec='black', \n",
    "             legend=None, \n",
    "             figsize=(20,5))\n",
    "plt.xlabel('Модель самолета', size = 15)\n",
    "plt.ylabel('Количество рейсов в сентябре 2018г.', size = 15)\n",
    "plt.xticks(fontsize=15)\n",
    "plt.yticks(fontsize=15)\n",
    "plt.show()"
   ]
  },
  {
   "cell_type": "markdown",
   "metadata": {},
   "source": [
    "Исходя из полученного графика, мы можем сделать следующие выводы:\n",
    "- Наибольшее количество рейсов за месяц наблюдается у трех моделей самолетов: Cessna 208 Caravan, Bombardier CRJ-200, Sukhoi SuperJet-100. Такой сильный отрыв обусловлен тем что у этих трех моделей небольшая вместимость, и они предназначены для рейсов на небольшую дистанцию. \n",
    "- Соответственно, оставшиеся модели самолетов Boeing и Airbus имеют большую вместимость (> 150 чел.) и предназначены на более дальние дистанции. Малое количество рейсов у них обусловлено тем, что данные модели самолетов достаточно накладно обслуживать, и экономически не выгодно часто отправлять их в рейсы, например, на малые дистанции."
   ]
  },
  {
   "cell_type": "code",
   "execution_count": 8,
   "metadata": {},
   "outputs": [
    {
     "data": {
      "text/html": [
       "<div>\n",
       "<style scoped>\n",
       "    .dataframe tbody tr th:only-of-type {\n",
       "        vertical-align: middle;\n",
       "    }\n",
       "\n",
       "    .dataframe tbody tr th {\n",
       "        vertical-align: top;\n",
       "    }\n",
       "\n",
       "    .dataframe thead th {\n",
       "        text-align: right;\n",
       "    }\n",
       "</style>\n",
       "<table border=\"1\" class=\"dataframe\">\n",
       "  <thead>\n",
       "    <tr style=\"text-align: right;\">\n",
       "      <th></th>\n",
       "      <th>city</th>\n",
       "      <th>average_flights</th>\n",
       "    </tr>\n",
       "  </thead>\n",
       "  <tbody>\n",
       "    <tr>\n",
       "      <td>43</td>\n",
       "      <td>Москва</td>\n",
       "      <td>129.774194</td>\n",
       "    </tr>\n",
       "    <tr>\n",
       "      <td>70</td>\n",
       "      <td>Санкт-Петербург</td>\n",
       "      <td>31.161290</td>\n",
       "    </tr>\n",
       "    <tr>\n",
       "      <td>54</td>\n",
       "      <td>Новосибирск</td>\n",
       "      <td>17.322581</td>\n",
       "    </tr>\n",
       "    <tr>\n",
       "      <td>33</td>\n",
       "      <td>Красноярск</td>\n",
       "      <td>11.580645</td>\n",
       "    </tr>\n",
       "    <tr>\n",
       "      <td>20</td>\n",
       "      <td>Екатеринбург</td>\n",
       "      <td>11.322581</td>\n",
       "    </tr>\n",
       "    <tr>\n",
       "      <td>67</td>\n",
       "      <td>Ростов-на-Дону</td>\n",
       "      <td>10.193548</td>\n",
       "    </tr>\n",
       "    <tr>\n",
       "      <td>63</td>\n",
       "      <td>Пермь</td>\n",
       "      <td>10.129032</td>\n",
       "    </tr>\n",
       "    <tr>\n",
       "      <td>10</td>\n",
       "      <td>Брянск</td>\n",
       "      <td>10.000000</td>\n",
       "    </tr>\n",
       "    <tr>\n",
       "      <td>74</td>\n",
       "      <td>Сочи</td>\n",
       "      <td>9.612903</td>\n",
       "    </tr>\n",
       "    <tr>\n",
       "      <td>84</td>\n",
       "      <td>Ульяновск</td>\n",
       "      <td>9.580645</td>\n",
       "    </tr>\n",
       "  </tbody>\n",
       "</table>\n",
       "</div>"
      ],
      "text/plain": [
       "               city  average_flights\n",
       "43           Москва       129.774194\n",
       "70  Санкт-Петербург        31.161290\n",
       "54      Новосибирск        17.322581\n",
       "33       Красноярск        11.580645\n",
       "20     Екатеринбург        11.322581\n",
       "67   Ростов-на-Дону        10.193548\n",
       "63            Пермь        10.129032\n",
       "10           Брянск        10.000000\n",
       "74             Сочи         9.612903\n",
       "84        Ульяновск         9.580645"
      ]
     },
     "metadata": {},
     "output_type": "display_data"
    }
   ],
   "source": [
    "display(query_3.sort_values(by='average_flights', ascending = False).head(10))"
   ]
  },
  {
   "cell_type": "markdown",
   "metadata": {},
   "source": [
    "# 3. Итоговый вывод.\n",
    "\n",
    "Проанализировав два датасета, мы выявили следующее:\n",
    "- В топ-10 городов по количеству рейсов в день находятся следующие города: Москва, Санкт-Петербург, Новосибирск, Красноярск, Екатерингбург, Ростов-на-Дону, Пермь, Брянск, Сочи, Ульяновск. Москва лидирует по среднему количество рейсов почти в 10 раз по сравнению с остальными городами РФ. Оставшиеся города, входящие в топ-10, являются либо одними из самых крупных по населению в РФ, либо являются курортными городами. В городах, невходящих в топ-10, в среднем за день наблюдается не более 10 рейсов за день.\n",
    "- По количеству рейсов за месяц лидируют три модели самолетов: Cessna 208 Caravan, Bombardier CRJ-200, Sukhoi SuperJet-100. Эти самолеты имеют небольшую вместимость и предназначены для рейсов на небольшую дистанцию. Модели самолетов Boeing и Airbus имеют большую вместимость (> 150 чел.) и предназначены на более дальние дистанции. Именно по этому у данных моделей самолетов наблюдается относительно мало количество рейсов по сравнению с моделями самолетов в топ-3."
   ]
  }
 ],
 "metadata": {
  "ExecuteTimeLog": [
   {
    "duration": 1272,
    "start_time": "2021-08-19T09:42:52.861Z"
   },
   {
    "duration": 28,
    "start_time": "2021-08-19T09:43:33.587Z"
   },
   {
    "duration": 36,
    "start_time": "2021-08-19T09:43:40.236Z"
   },
   {
    "duration": 36,
    "start_time": "2021-08-19T09:43:49.517Z"
   },
   {
    "duration": 10,
    "start_time": "2021-08-19T09:44:11.811Z"
   },
   {
    "duration": 11,
    "start_time": "2021-08-19T09:44:22.347Z"
   },
   {
    "duration": 12,
    "start_time": "2021-08-19T09:44:58.726Z"
   },
   {
    "duration": 14,
    "start_time": "2021-08-19T09:45:05.548Z"
   },
   {
    "duration": 20,
    "start_time": "2021-08-19T09:45:31.286Z"
   },
   {
    "duration": 17,
    "start_time": "2021-08-19T09:45:55.621Z"
   },
   {
    "duration": 2108,
    "start_time": "2021-08-19T09:48:29.192Z"
   },
   {
    "duration": 486,
    "start_time": "2021-08-19T09:48:59.155Z"
   },
   {
    "duration": 325,
    "start_time": "2021-08-19T09:49:09.448Z"
   },
   {
    "duration": 98,
    "start_time": "2021-08-19T09:49:32.665Z"
   },
   {
    "duration": 16,
    "start_time": "2021-08-19T09:49:38.273Z"
   },
   {
    "duration": 15,
    "start_time": "2021-08-19T09:49:55.961Z"
   },
   {
    "duration": 333,
    "start_time": "2021-08-19T09:50:03.514Z"
   },
   {
    "duration": 319,
    "start_time": "2021-08-19T09:53:43.933Z"
   },
   {
    "duration": 347,
    "start_time": "2021-08-19T09:53:46.766Z"
   },
   {
    "duration": 351,
    "start_time": "2021-08-19T09:53:49.916Z"
   },
   {
    "duration": 343,
    "start_time": "2021-08-19T09:54:02.598Z"
   },
   {
    "duration": 397,
    "start_time": "2021-08-19T09:54:21.822Z"
   },
   {
    "duration": 330,
    "start_time": "2021-08-19T09:54:39.527Z"
   },
   {
    "duration": 358,
    "start_time": "2021-08-19T09:54:43.214Z"
   },
   {
    "duration": 544,
    "start_time": "2021-08-19T09:54:57.887Z"
   },
   {
    "duration": 481,
    "start_time": "2021-08-19T09:55:03.318Z"
   },
   {
    "duration": 441,
    "start_time": "2021-08-19T09:55:09.358Z"
   },
   {
    "duration": 425,
    "start_time": "2021-08-19T09:55:13.591Z"
   },
   {
    "duration": 231,
    "start_time": "2021-08-19T09:56:09.864Z"
   },
   {
    "duration": 681,
    "start_time": "2021-08-19T09:56:14.448Z"
   },
   {
    "duration": 760,
    "start_time": "2021-08-19T09:56:20.240Z"
   },
   {
    "duration": 438,
    "start_time": "2021-08-19T09:56:27.161Z"
   },
   {
    "duration": 188,
    "start_time": "2021-08-19T09:57:26.128Z"
   },
   {
    "duration": 437,
    "start_time": "2021-08-19T09:57:43.537Z"
   },
   {
    "duration": 460,
    "start_time": "2021-08-19T09:58:42.274Z"
   },
   {
    "duration": 548,
    "start_time": "2021-08-19T09:59:00.492Z"
   },
   {
    "duration": 553,
    "start_time": "2021-08-19T10:00:38.750Z"
   },
   {
    "duration": 534,
    "start_time": "2021-08-19T10:00:59.277Z"
   },
   {
    "duration": 437,
    "start_time": "2021-08-19T10:01:19.092Z"
   },
   {
    "duration": 550,
    "start_time": "2021-08-19T10:01:28.500Z"
   },
   {
    "duration": 2374,
    "start_time": "2021-08-19T10:03:50.919Z"
   },
   {
    "duration": 2991,
    "start_time": "2021-08-19T10:04:16.911Z"
   },
   {
    "duration": 2876,
    "start_time": "2021-08-19T10:04:29.840Z"
   },
   {
    "duration": 2209,
    "start_time": "2021-08-19T10:04:56.695Z"
   },
   {
    "duration": 2545,
    "start_time": "2021-08-19T10:05:43.825Z"
   },
   {
    "duration": 557,
    "start_time": "2021-08-19T10:06:05.329Z"
   },
   {
    "duration": 547,
    "start_time": "2021-08-19T10:06:58.722Z"
   },
   {
    "duration": 575,
    "start_time": "2021-08-19T10:07:17.250Z"
   },
   {
    "duration": 687,
    "start_time": "2021-08-19T10:07:21.266Z"
   },
   {
    "duration": 2369,
    "start_time": "2021-08-19T10:07:34.779Z"
   },
   {
    "duration": 2422,
    "start_time": "2021-08-19T10:07:43.706Z"
   },
   {
    "duration": 2383,
    "start_time": "2021-08-19T10:07:49.218Z"
   },
   {
    "duration": 2758,
    "start_time": "2021-08-19T10:07:56.491Z"
   },
   {
    "duration": 2359,
    "start_time": "2021-08-19T10:08:04.563Z"
   },
   {
    "duration": 2519,
    "start_time": "2021-08-19T10:08:25.852Z"
   },
   {
    "duration": 2483,
    "start_time": "2021-08-19T10:08:31.547Z"
   },
   {
    "duration": 2552,
    "start_time": "2021-08-19T10:08:39.284Z"
   },
   {
    "duration": 2586,
    "start_time": "2021-08-19T10:09:00.956Z"
   },
   {
    "duration": 2378,
    "start_time": "2021-08-19T10:09:22.212Z"
   },
   {
    "duration": 533,
    "start_time": "2021-08-19T10:09:50.794Z"
   },
   {
    "duration": 1595,
    "start_time": "2021-08-19T10:12:09.931Z"
   },
   {
    "duration": 42,
    "start_time": "2021-08-19T10:12:11.529Z"
   },
   {
    "duration": 24,
    "start_time": "2021-08-19T10:12:11.574Z"
   },
   {
    "duration": 14,
    "start_time": "2021-08-19T10:12:11.602Z"
   },
   {
    "duration": 597,
    "start_time": "2021-08-19T10:12:11.618Z"
   },
   {
    "duration": 2631,
    "start_time": "2021-08-19T10:12:12.217Z"
   },
   {
    "duration": 457,
    "start_time": "2021-08-19T10:12:14.850Z"
   },
   {
    "duration": 375,
    "start_time": "2021-08-19T10:48:55.806Z"
   },
   {
    "duration": 11,
    "start_time": "2021-08-19T10:49:04.244Z"
   },
   {
    "duration": 1120,
    "start_time": "2021-08-19T10:53:17.696Z"
   },
   {
    "duration": 27186,
    "start_time": "2021-08-19T10:52:51.632Z"
   },
   {
    "duration": 27186,
    "start_time": "2021-08-19T10:52:51.634Z"
   },
   {
    "duration": 27184,
    "start_time": "2021-08-19T10:52:51.637Z"
   },
   {
    "duration": 27176,
    "start_time": "2021-08-19T10:52:51.647Z"
   },
   {
    "duration": 27175,
    "start_time": "2021-08-19T10:52:51.649Z"
   },
   {
    "duration": 27175,
    "start_time": "2021-08-19T10:52:51.651Z"
   },
   {
    "duration": 27174,
    "start_time": "2021-08-19T10:52:51.653Z"
   },
   {
    "duration": 1314,
    "start_time": "2021-08-19T10:53:29.623Z"
   },
   {
    "duration": 46,
    "start_time": "2021-08-19T10:53:30.940Z"
   },
   {
    "duration": 20,
    "start_time": "2021-08-19T10:53:30.993Z"
   },
   {
    "duration": 17,
    "start_time": "2021-08-19T10:53:31.016Z"
   },
   {
    "duration": 578,
    "start_time": "2021-08-19T10:53:31.035Z"
   },
   {
    "duration": 2395,
    "start_time": "2021-08-19T10:53:31.616Z"
   },
   {
    "duration": 442,
    "start_time": "2021-08-19T10:53:34.015Z"
   },
   {
    "duration": 23,
    "start_time": "2021-08-19T10:53:34.459Z"
   },
   {
    "duration": 922,
    "start_time": "2021-08-19T11:25:24.957Z"
   },
   {
    "duration": 50,
    "start_time": "2021-08-19T11:25:25.882Z"
   },
   {
    "duration": 22,
    "start_time": "2021-08-19T11:25:25.935Z"
   },
   {
    "duration": 19,
    "start_time": "2021-08-19T11:25:25.960Z"
   },
   {
    "duration": 583,
    "start_time": "2021-08-19T11:25:25.982Z"
   },
   {
    "duration": 2897,
    "start_time": "2021-08-19T11:25:26.569Z"
   },
   {
    "duration": 627,
    "start_time": "2021-08-19T11:25:29.469Z"
   },
   {
    "duration": 15,
    "start_time": "2021-08-19T11:25:30.100Z"
   }
  ],
  "kernelspec": {
   "display_name": "Python 3 (ipykernel)",
   "language": "python",
   "name": "python3"
  },
  "language_info": {
   "codemirror_mode": {
    "name": "ipython",
    "version": 3
   },
   "file_extension": ".py",
   "mimetype": "text/x-python",
   "name": "python",
   "nbconvert_exporter": "python",
   "pygments_lexer": "ipython3",
   "version": "3.9.5"
  },
  "toc": {
   "base_numbering": 1,
   "nav_menu": {},
   "number_sections": false,
   "sideBar": true,
   "skip_h1_title": false,
   "title_cell": "Содержание",
   "title_sidebar": "Contents",
   "toc_cell": true,
   "toc_position": {},
   "toc_section_display": true,
   "toc_window_display": true
  }
 },
 "nbformat": 4,
 "nbformat_minor": 2
}
