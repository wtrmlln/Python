{
 "cells": [
  {
   "cell_type": "markdown",
   "metadata": {
    "id": "WrqxiWd_H7Q5"
   },
   "source": [
    "# **Прогнозирование оттока клиентов**\n",
    "\n",
    "Оператор связи «Ниединогоразрыва.ком» хочет научиться прогнозировать отток клиентов. Если выяснится, что пользователь планирует уйти, ему будут предложены промокоды и специальные условия. Команда оператора собрала персональные данные о некоторых клиентах, информацию об их тарифах и договорах.\n",
    "\n",
    "# **Описание данных**\n",
    "Данные состоят из файлов, полученных из разных источников:\n",
    "\n",
    "- `contract.csv` — информация о договоре;\n",
    "- `personal.csv` — персональные данные клиента;\n",
    "- `internet.csv` — информация об интернет-услугах;\n",
    "- `phone.csv` — информация об услугах телефонии.\n",
    "\n",
    "Во всех файлах столбец `customerID` содержит код клиента.\n",
    "\n",
    "Информация о договорах актуальна на 1 февраля 2020.\n",
    "\n",
    "\n",
    "# **План работы**\n",
    " - 1. Загрузим данные, проведем первичный анализ данных, взглянем на пропуски/дубликаты/типы данных, объединим датасеты.\n",
    " - 2. Проведем предобработку данных - обработаем пропуски, преобразуем признаки с помощью OHE, попытаемся создать какие-либо новые признаки (например, продолжительность договора до ухода клиента) и выделим целевой признак.\n",
    " - 3. Подробнее рассмотрим признаки - построим графики распределения, корреляционную матрицу, сделаем некоторые промежуточные выводы. Также попытаемся решить проблему с дисбалансом классов (если таковая будет присутствовать).\n",
    " - 4. Обучим модели и проверим их на тестовой выборке. Для оценки качества будем использовать ROC-AUC и Accuracy.\n",
    "\n",
    "# 1. Загрузка данных и первичный анализ"
   ]
  },
  {
   "cell_type": "code",
   "execution_count": 37,
   "metadata": {
    "id": "mnxOgDRJCQPd"
   },
   "outputs": [],
   "source": [
    "import warnings; warnings.filterwarnings(\"ignore\", category=Warning)\n",
    "\n",
    "import pandas as pd\n",
    "import matplotlib.pyplot as plt\n",
    "import numpy as np\n",
    "import xgboost as xgb\n",
    "import re\n",
    "import seaborn as sns\n",
    "\n",
    "from sklearn.model_selection import GridSearchCV\n",
    "from sklearn.model_selection import train_test_split\n",
    "from lightgbm import LGBMClassifier\n",
    "from catboost import CatBoostClassifier, Pool\n",
    "from sklearn.ensemble import RandomForestClassifier\n",
    "from sklearn.linear_model import LogisticRegression\n",
    "\n",
    "from sklearn.metrics import accuracy_score\n",
    "from sklearn.metrics import precision_score\n",
    "from sklearn.metrics import recall_score\n",
    "from sklearn.metrics import f1_score\n",
    "from sklearn.metrics import roc_curve\n",
    "from sklearn.metrics import roc_auc_score\n",
    "from sklearn.metrics import make_scorer\n",
    "\n",
    "from sklearn.preprocessing import StandardScaler"
   ]
  },
  {
   "cell_type": "code",
   "execution_count": 2,
   "metadata": {
    "id": "pDQAscrwCRmK"
   },
   "outputs": [],
   "source": [
    "try:\n",
    "    path = '/content/'\n",
    "    df_contract = pd.read_csv(path + 'contract.csv')\n",
    "    df_internet = pd.read_csv(path + 'internet.csv')\n",
    "    df_personal = pd.read_csv(path + 'personal.csv')\n",
    "    df_phone = pd.read_csv(path + 'phone.csv')\n",
    "except:\n",
    "    path = '/datasets/final_provider/'\n",
    "    df_contract = pd.read_csv(path + 'contract.csv')\n",
    "    df_internet = pd.read_csv(path + 'internet.csv')\n",
    "    df_personal = pd.read_csv(path + 'personal.csv')\n",
    "    df_phone = pd.read_csv(path + 'phone.csv')"
   ]
  },
  {
   "cell_type": "code",
   "execution_count": 3,
   "metadata": {
    "id": "KCLLEZSrCTCC"
   },
   "outputs": [],
   "source": [
    "df_list = [[df_contract, 'Информация о договорах'], [df_personal, 'Персональные данные клиентов'], \n",
    "           [df_internet, 'Информациях об интернет-услугах'], [df_phone, 'Информация об услугах телефонии']]"
   ]
  },
  {
   "cell_type": "markdown",
   "metadata": {
    "id": "sBs0A61_acuU"
   },
   "source": [
    "Данные загружены, теперь взглянем на каждый датасет по отдельности:"
   ]
  },
  {
   "cell_type": "code",
   "execution_count": 4,
   "metadata": {
    "colab": {
     "base_uri": "https://localhost:8080/",
     "height": 1000
    },
    "id": "9UXzxK9pCUib",
    "outputId": "e21a7426-2f51-4e5d-837f-6c2e6a043af6"
   },
   "outputs": [
    {
     "name": "stdout",
     "output_type": "stream",
     "text": [
      "\u001b[1mИнформация о договорах\u001b[0m\n"
     ]
    },
    {
     "data": {
      "text/html": [
       "<div>\n",
       "<style scoped>\n",
       "    .dataframe tbody tr th:only-of-type {\n",
       "        vertical-align: middle;\n",
       "    }\n",
       "\n",
       "    .dataframe tbody tr th {\n",
       "        vertical-align: top;\n",
       "    }\n",
       "\n",
       "    .dataframe thead th {\n",
       "        text-align: right;\n",
       "    }\n",
       "</style>\n",
       "<table border=\"1\" class=\"dataframe\">\n",
       "  <thead>\n",
       "    <tr style=\"text-align: right;\">\n",
       "      <th></th>\n",
       "      <th>customerID</th>\n",
       "      <th>BeginDate</th>\n",
       "      <th>EndDate</th>\n",
       "      <th>Type</th>\n",
       "      <th>PaperlessBilling</th>\n",
       "      <th>PaymentMethod</th>\n",
       "      <th>MonthlyCharges</th>\n",
       "      <th>TotalCharges</th>\n",
       "    </tr>\n",
       "  </thead>\n",
       "  <tbody>\n",
       "    <tr>\n",
       "      <td>0</td>\n",
       "      <td>7590-VHVEG</td>\n",
       "      <td>2020-01-01</td>\n",
       "      <td>No</td>\n",
       "      <td>Month-to-month</td>\n",
       "      <td>Yes</td>\n",
       "      <td>Electronic check</td>\n",
       "      <td>29.85</td>\n",
       "      <td>29.85</td>\n",
       "    </tr>\n",
       "    <tr>\n",
       "      <td>1</td>\n",
       "      <td>5575-GNVDE</td>\n",
       "      <td>2017-04-01</td>\n",
       "      <td>No</td>\n",
       "      <td>One year</td>\n",
       "      <td>No</td>\n",
       "      <td>Mailed check</td>\n",
       "      <td>56.95</td>\n",
       "      <td>1889.5</td>\n",
       "    </tr>\n",
       "    <tr>\n",
       "      <td>2</td>\n",
       "      <td>3668-QPYBK</td>\n",
       "      <td>2019-10-01</td>\n",
       "      <td>2019-12-01 00:00:00</td>\n",
       "      <td>Month-to-month</td>\n",
       "      <td>Yes</td>\n",
       "      <td>Mailed check</td>\n",
       "      <td>53.85</td>\n",
       "      <td>108.15</td>\n",
       "    </tr>\n",
       "  </tbody>\n",
       "</table>\n",
       "</div>"
      ],
      "text/plain": [
       "   customerID   BeginDate              EndDate            Type  \\\n",
       "0  7590-VHVEG  2020-01-01                   No  Month-to-month   \n",
       "1  5575-GNVDE  2017-04-01                   No        One year   \n",
       "2  3668-QPYBK  2019-10-01  2019-12-01 00:00:00  Month-to-month   \n",
       "\n",
       "  PaperlessBilling     PaymentMethod  MonthlyCharges TotalCharges  \n",
       "0              Yes  Electronic check           29.85        29.85  \n",
       "1               No      Mailed check           56.95       1889.5  \n",
       "2              Yes      Mailed check           53.85       108.15  "
      ]
     },
     "metadata": {},
     "output_type": "display_data"
    },
    {
     "name": "stdout",
     "output_type": "stream",
     "text": [
      "<class 'pandas.core.frame.DataFrame'>\n",
      "RangeIndex: 7043 entries, 0 to 7042\n",
      "Data columns (total 8 columns):\n",
      "customerID          7043 non-null object\n",
      "BeginDate           7043 non-null object\n",
      "EndDate             7043 non-null object\n",
      "Type                7043 non-null object\n",
      "PaperlessBilling    7043 non-null object\n",
      "PaymentMethod       7043 non-null object\n",
      "MonthlyCharges      7043 non-null float64\n",
      "TotalCharges        7043 non-null object\n",
      "dtypes: float64(1), object(7)"
     ]
    },
    {
     "data": {
      "text/plain": [
       "None"
      ]
     },
     "metadata": {},
     "output_type": "display_data"
    },
    {
     "name": "stdout",
     "output_type": "stream",
     "text": [
      "\n",
      "Количество дубликатов - 0\n",
      "Количество пустых значений - 0\n",
      "//////////////////////////////////////////////////\n",
      "\n",
      "\u001b[1mПерсональные данные клиентов\u001b[0m\n"
     ]
    },
    {
     "data": {
      "text/html": [
       "<div>\n",
       "<style scoped>\n",
       "    .dataframe tbody tr th:only-of-type {\n",
       "        vertical-align: middle;\n",
       "    }\n",
       "\n",
       "    .dataframe tbody tr th {\n",
       "        vertical-align: top;\n",
       "    }\n",
       "\n",
       "    .dataframe thead th {\n",
       "        text-align: right;\n",
       "    }\n",
       "</style>\n",
       "<table border=\"1\" class=\"dataframe\">\n",
       "  <thead>\n",
       "    <tr style=\"text-align: right;\">\n",
       "      <th></th>\n",
       "      <th>customerID</th>\n",
       "      <th>gender</th>\n",
       "      <th>SeniorCitizen</th>\n",
       "      <th>Partner</th>\n",
       "      <th>Dependents</th>\n",
       "    </tr>\n",
       "  </thead>\n",
       "  <tbody>\n",
       "    <tr>\n",
       "      <td>0</td>\n",
       "      <td>7590-VHVEG</td>\n",
       "      <td>Female</td>\n",
       "      <td>0</td>\n",
       "      <td>Yes</td>\n",
       "      <td>No</td>\n",
       "    </tr>\n",
       "    <tr>\n",
       "      <td>1</td>\n",
       "      <td>5575-GNVDE</td>\n",
       "      <td>Male</td>\n",
       "      <td>0</td>\n",
       "      <td>No</td>\n",
       "      <td>No</td>\n",
       "    </tr>\n",
       "    <tr>\n",
       "      <td>2</td>\n",
       "      <td>3668-QPYBK</td>\n",
       "      <td>Male</td>\n",
       "      <td>0</td>\n",
       "      <td>No</td>\n",
       "      <td>No</td>\n",
       "    </tr>\n",
       "  </tbody>\n",
       "</table>\n",
       "</div>"
      ],
      "text/plain": [
       "   customerID  gender  SeniorCitizen Partner Dependents\n",
       "0  7590-VHVEG  Female              0     Yes         No\n",
       "1  5575-GNVDE    Male              0      No         No\n",
       "2  3668-QPYBK    Male              0      No         No"
      ]
     },
     "metadata": {},
     "output_type": "display_data"
    },
    {
     "name": "stdout",
     "output_type": "stream",
     "text": [
      "<class 'pandas.core.frame.DataFrame'>\n",
      "RangeIndex: 7043 entries, 0 to 7042\n",
      "Data columns (total 5 columns):\n",
      "customerID       7043 non-null object\n",
      "gender           7043 non-null object\n",
      "SeniorCitizen    7043 non-null int64\n",
      "Partner          7043 non-null object\n",
      "Dependents       7043 non-null object\n",
      "dtypes: int64(1), object(4)"
     ]
    },
    {
     "data": {
      "text/plain": [
       "None"
      ]
     },
     "metadata": {},
     "output_type": "display_data"
    },
    {
     "name": "stdout",
     "output_type": "stream",
     "text": [
      "\n",
      "Количество дубликатов - 0\n",
      "Количество пустых значений - 0\n",
      "//////////////////////////////////////////////////\n",
      "\n",
      "\u001b[1mИнформациях об интернет-услугах\u001b[0m\n"
     ]
    },
    {
     "data": {
      "text/html": [
       "<div>\n",
       "<style scoped>\n",
       "    .dataframe tbody tr th:only-of-type {\n",
       "        vertical-align: middle;\n",
       "    }\n",
       "\n",
       "    .dataframe tbody tr th {\n",
       "        vertical-align: top;\n",
       "    }\n",
       "\n",
       "    .dataframe thead th {\n",
       "        text-align: right;\n",
       "    }\n",
       "</style>\n",
       "<table border=\"1\" class=\"dataframe\">\n",
       "  <thead>\n",
       "    <tr style=\"text-align: right;\">\n",
       "      <th></th>\n",
       "      <th>customerID</th>\n",
       "      <th>InternetService</th>\n",
       "      <th>OnlineSecurity</th>\n",
       "      <th>OnlineBackup</th>\n",
       "      <th>DeviceProtection</th>\n",
       "      <th>TechSupport</th>\n",
       "      <th>StreamingTV</th>\n",
       "      <th>StreamingMovies</th>\n",
       "    </tr>\n",
       "  </thead>\n",
       "  <tbody>\n",
       "    <tr>\n",
       "      <td>0</td>\n",
       "      <td>7590-VHVEG</td>\n",
       "      <td>DSL</td>\n",
       "      <td>No</td>\n",
       "      <td>Yes</td>\n",
       "      <td>No</td>\n",
       "      <td>No</td>\n",
       "      <td>No</td>\n",
       "      <td>No</td>\n",
       "    </tr>\n",
       "    <tr>\n",
       "      <td>1</td>\n",
       "      <td>5575-GNVDE</td>\n",
       "      <td>DSL</td>\n",
       "      <td>Yes</td>\n",
       "      <td>No</td>\n",
       "      <td>Yes</td>\n",
       "      <td>No</td>\n",
       "      <td>No</td>\n",
       "      <td>No</td>\n",
       "    </tr>\n",
       "    <tr>\n",
       "      <td>2</td>\n",
       "      <td>3668-QPYBK</td>\n",
       "      <td>DSL</td>\n",
       "      <td>Yes</td>\n",
       "      <td>Yes</td>\n",
       "      <td>No</td>\n",
       "      <td>No</td>\n",
       "      <td>No</td>\n",
       "      <td>No</td>\n",
       "    </tr>\n",
       "  </tbody>\n",
       "</table>\n",
       "</div>"
      ],
      "text/plain": [
       "   customerID InternetService OnlineSecurity OnlineBackup DeviceProtection  \\\n",
       "0  7590-VHVEG             DSL             No          Yes               No   \n",
       "1  5575-GNVDE             DSL            Yes           No              Yes   \n",
       "2  3668-QPYBK             DSL            Yes          Yes               No   \n",
       "\n",
       "  TechSupport StreamingTV StreamingMovies  \n",
       "0          No          No              No  \n",
       "1          No          No              No  \n",
       "2          No          No              No  "
      ]
     },
     "metadata": {},
     "output_type": "display_data"
    },
    {
     "name": "stdout",
     "output_type": "stream",
     "text": [
      "<class 'pandas.core.frame.DataFrame'>\n",
      "RangeIndex: 5517 entries, 0 to 5516\n",
      "Data columns (total 8 columns):\n",
      "customerID          5517 non-null object\n",
      "InternetService     5517 non-null object\n",
      "OnlineSecurity      5517 non-null object\n",
      "OnlineBackup        5517 non-null object\n",
      "DeviceProtection    5517 non-null object\n",
      "TechSupport         5517 non-null object\n",
      "StreamingTV         5517 non-null object\n",
      "StreamingMovies     5517 non-null object\n",
      "dtypes: object(8)"
     ]
    },
    {
     "data": {
      "text/plain": [
       "None"
      ]
     },
     "metadata": {},
     "output_type": "display_data"
    },
    {
     "name": "stdout",
     "output_type": "stream",
     "text": [
      "\n",
      "Количество дубликатов - 0\n",
      "Количество пустых значений - 0\n",
      "//////////////////////////////////////////////////\n",
      "\n",
      "\u001b[1mИнформация об услугах телефонии\u001b[0m\n"
     ]
    },
    {
     "data": {
      "text/html": [
       "<div>\n",
       "<style scoped>\n",
       "    .dataframe tbody tr th:only-of-type {\n",
       "        vertical-align: middle;\n",
       "    }\n",
       "\n",
       "    .dataframe tbody tr th {\n",
       "        vertical-align: top;\n",
       "    }\n",
       "\n",
       "    .dataframe thead th {\n",
       "        text-align: right;\n",
       "    }\n",
       "</style>\n",
       "<table border=\"1\" class=\"dataframe\">\n",
       "  <thead>\n",
       "    <tr style=\"text-align: right;\">\n",
       "      <th></th>\n",
       "      <th>customerID</th>\n",
       "      <th>MultipleLines</th>\n",
       "    </tr>\n",
       "  </thead>\n",
       "  <tbody>\n",
       "    <tr>\n",
       "      <td>0</td>\n",
       "      <td>5575-GNVDE</td>\n",
       "      <td>No</td>\n",
       "    </tr>\n",
       "    <tr>\n",
       "      <td>1</td>\n",
       "      <td>3668-QPYBK</td>\n",
       "      <td>No</td>\n",
       "    </tr>\n",
       "    <tr>\n",
       "      <td>2</td>\n",
       "      <td>9237-HQITU</td>\n",
       "      <td>No</td>\n",
       "    </tr>\n",
       "  </tbody>\n",
       "</table>\n",
       "</div>"
      ],
      "text/plain": [
       "   customerID MultipleLines\n",
       "0  5575-GNVDE            No\n",
       "1  3668-QPYBK            No\n",
       "2  9237-HQITU            No"
      ]
     },
     "metadata": {},
     "output_type": "display_data"
    },
    {
     "name": "stdout",
     "output_type": "stream",
     "text": [
      "<class 'pandas.core.frame.DataFrame'>\n",
      "RangeIndex: 6361 entries, 0 to 6360\n",
      "Data columns (total 2 columns):\n",
      "customerID       6361 non-null object\n",
      "MultipleLines    6361 non-null object\n",
      "dtypes: object(2)"
     ]
    },
    {
     "data": {
      "text/plain": [
       "None"
      ]
     },
     "metadata": {},
     "output_type": "display_data"
    },
    {
     "name": "stdout",
     "output_type": "stream",
     "text": [
      "\n",
      "Количество дубликатов - 0\n",
      "Количество пустых значений - 0\n",
      "//////////////////////////////////////////////////\n",
      "\n"
     ]
    }
   ],
   "source": [
    "for df in df_list:\n",
    "    print('\\033[1m' + df[1] + '\\033[0m')\n",
    "    display(df[0].head(3))\n",
    "    display(df[0].info(memory_usage=False))\n",
    "    print('')\n",
    "    print('Количество дубликатов -', df[0].duplicated().sum())\n",
    "    print('Количество пустых значений -', df[0].isnull().sum().sum())\n",
    "    print('/'*50)\n",
    "    print('')"
   ]
  },
  {
   "cell_type": "markdown",
   "metadata": {
    "id": "Ef57HhRNahAW"
   },
   "source": [
    "Наблюдаем что по отдельности в каждом датасете отсутствуют пропуски и дубликаты. Однако различное количество строк дает нам понять что не все клиенты пользуются дополнительными интернет-услугами и телефонии. Теперь объединим датасет и еще раз взглянем на него."
   ]
  },
  {
   "cell_type": "code",
   "execution_count": 5,
   "metadata": {
    "colab": {
     "base_uri": "https://localhost:8080/",
     "height": 887
    },
    "id": "s99Q1EE1CVzQ",
    "outputId": "9e48c401-7aa3-4fab-e353-ea45e4bb2186"
   },
   "outputs": [
    {
     "name": "stdout",
     "output_type": "stream",
     "text": [
      "\u001b[1mОбъединенный датасет\u001b[0m\n"
     ]
    },
    {
     "data": {
      "text/html": [
       "<div>\n",
       "<style scoped>\n",
       "    .dataframe tbody tr th:only-of-type {\n",
       "        vertical-align: middle;\n",
       "    }\n",
       "\n",
       "    .dataframe tbody tr th {\n",
       "        vertical-align: top;\n",
       "    }\n",
       "\n",
       "    .dataframe thead th {\n",
       "        text-align: right;\n",
       "    }\n",
       "</style>\n",
       "<table border=\"1\" class=\"dataframe\">\n",
       "  <thead>\n",
       "    <tr style=\"text-align: right;\">\n",
       "      <th></th>\n",
       "      <th>CustomerID</th>\n",
       "      <th>BeginDate</th>\n",
       "      <th>EndDate</th>\n",
       "      <th>Type</th>\n",
       "      <th>PaperlessBilling</th>\n",
       "      <th>PaymentMethod</th>\n",
       "      <th>MonthlyCharges</th>\n",
       "      <th>TotalCharges</th>\n",
       "      <th>MultipleLines</th>\n",
       "      <th>Gender</th>\n",
       "      <th>SeniorCitizen</th>\n",
       "      <th>Partner</th>\n",
       "      <th>Dependents</th>\n",
       "      <th>InternetService</th>\n",
       "      <th>OnlineSecurity</th>\n",
       "      <th>OnlineBackup</th>\n",
       "      <th>DeviceProtection</th>\n",
       "      <th>TechSupport</th>\n",
       "      <th>StreamingTV</th>\n",
       "      <th>StreamingMovies</th>\n",
       "    </tr>\n",
       "  </thead>\n",
       "  <tbody>\n",
       "    <tr>\n",
       "      <td>0</td>\n",
       "      <td>7590-VHVEG</td>\n",
       "      <td>2020-01-01</td>\n",
       "      <td>No</td>\n",
       "      <td>Month-to-month</td>\n",
       "      <td>Yes</td>\n",
       "      <td>Electronic check</td>\n",
       "      <td>29.85</td>\n",
       "      <td>29.85</td>\n",
       "      <td>NaN</td>\n",
       "      <td>Female</td>\n",
       "      <td>0</td>\n",
       "      <td>Yes</td>\n",
       "      <td>No</td>\n",
       "      <td>DSL</td>\n",
       "      <td>No</td>\n",
       "      <td>Yes</td>\n",
       "      <td>No</td>\n",
       "      <td>No</td>\n",
       "      <td>No</td>\n",
       "      <td>No</td>\n",
       "    </tr>\n",
       "    <tr>\n",
       "      <td>1</td>\n",
       "      <td>5575-GNVDE</td>\n",
       "      <td>2017-04-01</td>\n",
       "      <td>No</td>\n",
       "      <td>One year</td>\n",
       "      <td>No</td>\n",
       "      <td>Mailed check</td>\n",
       "      <td>56.95</td>\n",
       "      <td>1889.5</td>\n",
       "      <td>No</td>\n",
       "      <td>Male</td>\n",
       "      <td>0</td>\n",
       "      <td>No</td>\n",
       "      <td>No</td>\n",
       "      <td>DSL</td>\n",
       "      <td>Yes</td>\n",
       "      <td>No</td>\n",
       "      <td>Yes</td>\n",
       "      <td>No</td>\n",
       "      <td>No</td>\n",
       "      <td>No</td>\n",
       "    </tr>\n",
       "    <tr>\n",
       "      <td>2</td>\n",
       "      <td>3668-QPYBK</td>\n",
       "      <td>2019-10-01</td>\n",
       "      <td>2019-12-01 00:00:00</td>\n",
       "      <td>Month-to-month</td>\n",
       "      <td>Yes</td>\n",
       "      <td>Mailed check</td>\n",
       "      <td>53.85</td>\n",
       "      <td>108.15</td>\n",
       "      <td>No</td>\n",
       "      <td>Male</td>\n",
       "      <td>0</td>\n",
       "      <td>No</td>\n",
       "      <td>No</td>\n",
       "      <td>DSL</td>\n",
       "      <td>Yes</td>\n",
       "      <td>Yes</td>\n",
       "      <td>No</td>\n",
       "      <td>No</td>\n",
       "      <td>No</td>\n",
       "      <td>No</td>\n",
       "    </tr>\n",
       "    <tr>\n",
       "      <td>3</td>\n",
       "      <td>7795-CFOCW</td>\n",
       "      <td>2016-05-01</td>\n",
       "      <td>No</td>\n",
       "      <td>One year</td>\n",
       "      <td>No</td>\n",
       "      <td>Bank transfer (automatic)</td>\n",
       "      <td>42.30</td>\n",
       "      <td>1840.75</td>\n",
       "      <td>NaN</td>\n",
       "      <td>Male</td>\n",
       "      <td>0</td>\n",
       "      <td>No</td>\n",
       "      <td>No</td>\n",
       "      <td>DSL</td>\n",
       "      <td>Yes</td>\n",
       "      <td>No</td>\n",
       "      <td>Yes</td>\n",
       "      <td>Yes</td>\n",
       "      <td>No</td>\n",
       "      <td>No</td>\n",
       "    </tr>\n",
       "    <tr>\n",
       "      <td>4</td>\n",
       "      <td>9237-HQITU</td>\n",
       "      <td>2019-09-01</td>\n",
       "      <td>2019-11-01 00:00:00</td>\n",
       "      <td>Month-to-month</td>\n",
       "      <td>Yes</td>\n",
       "      <td>Electronic check</td>\n",
       "      <td>70.70</td>\n",
       "      <td>151.65</td>\n",
       "      <td>No</td>\n",
       "      <td>Female</td>\n",
       "      <td>0</td>\n",
       "      <td>No</td>\n",
       "      <td>No</td>\n",
       "      <td>Fiber optic</td>\n",
       "      <td>No</td>\n",
       "      <td>No</td>\n",
       "      <td>No</td>\n",
       "      <td>No</td>\n",
       "      <td>No</td>\n",
       "      <td>No</td>\n",
       "    </tr>\n",
       "  </tbody>\n",
       "</table>\n",
       "</div>"
      ],
      "text/plain": [
       "   CustomerID   BeginDate              EndDate            Type  \\\n",
       "0  7590-VHVEG  2020-01-01                   No  Month-to-month   \n",
       "1  5575-GNVDE  2017-04-01                   No        One year   \n",
       "2  3668-QPYBK  2019-10-01  2019-12-01 00:00:00  Month-to-month   \n",
       "3  7795-CFOCW  2016-05-01                   No        One year   \n",
       "4  9237-HQITU  2019-09-01  2019-11-01 00:00:00  Month-to-month   \n",
       "\n",
       "  PaperlessBilling              PaymentMethod  MonthlyCharges TotalCharges  \\\n",
       "0              Yes           Electronic check           29.85        29.85   \n",
       "1               No               Mailed check           56.95       1889.5   \n",
       "2              Yes               Mailed check           53.85       108.15   \n",
       "3               No  Bank transfer (automatic)           42.30      1840.75   \n",
       "4              Yes           Electronic check           70.70       151.65   \n",
       "\n",
       "  MultipleLines  Gender  SeniorCitizen Partner Dependents InternetService  \\\n",
       "0           NaN  Female              0     Yes         No             DSL   \n",
       "1            No    Male              0      No         No             DSL   \n",
       "2            No    Male              0      No         No             DSL   \n",
       "3           NaN    Male              0      No         No             DSL   \n",
       "4            No  Female              0      No         No     Fiber optic   \n",
       "\n",
       "  OnlineSecurity OnlineBackup DeviceProtection TechSupport StreamingTV  \\\n",
       "0             No          Yes               No          No          No   \n",
       "1            Yes           No              Yes          No          No   \n",
       "2            Yes          Yes               No          No          No   \n",
       "3            Yes           No              Yes         Yes          No   \n",
       "4             No           No               No          No          No   \n",
       "\n",
       "  StreamingMovies  \n",
       "0              No  \n",
       "1              No  \n",
       "2              No  \n",
       "3              No  \n",
       "4              No  "
      ]
     },
     "metadata": {},
     "output_type": "display_data"
    },
    {
     "name": "stdout",
     "output_type": "stream",
     "text": [
      "<class 'pandas.core.frame.DataFrame'>\n",
      "RangeIndex: 7043 entries, 0 to 7042\n",
      "Data columns (total 20 columns):\n",
      "CustomerID          7043 non-null object\n",
      "BeginDate           7043 non-null object\n",
      "EndDate             7043 non-null object\n",
      "Type                7043 non-null object\n",
      "PaperlessBilling    7043 non-null object\n",
      "PaymentMethod       7043 non-null object\n",
      "MonthlyCharges      7043 non-null float64\n",
      "TotalCharges        7043 non-null object\n",
      "MultipleLines       6361 non-null object\n",
      "Gender              7043 non-null object\n",
      "SeniorCitizen       7043 non-null int64\n",
      "Partner             7043 non-null object\n",
      "Dependents          7043 non-null object\n",
      "InternetService     5517 non-null object\n",
      "OnlineSecurity      5517 non-null object\n",
      "OnlineBackup        5517 non-null object\n",
      "DeviceProtection    5517 non-null object\n",
      "TechSupport         5517 non-null object\n",
      "StreamingTV         5517 non-null object\n",
      "StreamingMovies     5517 non-null object\n",
      "dtypes: float64(1), int64(1), object(18)"
     ]
    },
    {
     "data": {
      "text/plain": [
       "None"
      ]
     },
     "metadata": {},
     "output_type": "display_data"
    },
    {
     "name": "stdout",
     "output_type": "stream",
     "text": [
      "\n",
      "Количество дубликатов по столбцу CustomerID - 0\n",
      "Количество пустых значений - 11364\n"
     ]
    }
   ],
   "source": [
    "df = df_contract.set_index('customerID').join(df_phone.set_index('customerID'))\n",
    "df = df.join(df_personal.set_index('customerID'))\n",
    "df = df.join(df_internet.set_index('customerID'))\n",
    "df = df.rename_axis('customerID').reset_index()\n",
    "df = df.rename({'gender': 'Gender', 'customerID': 'CustomerID'}, axis='columns')\n",
    "\n",
    "print('\\033[1m' + 'Объединенный датасет'+ '\\033[0m')\n",
    "display(df.head(5))\n",
    "display(df.info(memory_usage=False))\n",
    "print('')\n",
    "print('Количество дубликатов по столбцу CustomerID -', df['CustomerID'].duplicated().sum())\n",
    "print('Количество пустых значений -', df.isnull().sum().sum())"
   ]
  },
  {
   "cell_type": "markdown",
   "metadata": {
    "id": "T9RfDYAGVZ2h"
   },
   "source": [
    "Датасет успешно объединен, теперь переходим к обработке данных и подробному рассмотрению признаков.\n",
    "\n",
    "# 2. Предобработка данных и исследовательский анализ.\n",
    "\n",
    "## 2.1. Обработка пропусков"
   ]
  },
  {
   "cell_type": "markdown",
   "metadata": {
    "id": "jLE_ddQWay8S"
   },
   "source": [
    "После объединения датасета, однако как и предполагалось - не все клиенты пользуются дополнительными услугами, соответственно вместо пропусков можем сразу же проставить этим клиентам значение 'No'."
   ]
  },
  {
   "cell_type": "code",
   "execution_count": 6,
   "metadata": {
    "id": "uqdkK-AaMJzy"
   },
   "outputs": [],
   "source": [
    "empty_cols = ['MultipleLines', 'InternetService', 'OnlineSecurity', 'OnlineBackup', \n",
    "              'DeviceProtection', 'TechSupport', 'StreamingTV', 'StreamingMovies']\n",
    "df[empty_cols] = df[empty_cols].fillna('No')"
   ]
  },
  {
   "cell_type": "markdown",
   "metadata": {
    "id": "wxyz3SYrbF9N"
   },
   "source": [
    "Пропуски обработаны, теперь переведем тип данных в некоторых столбцах к необходимому, создадим новый столбец со значениями продолжительности договора, приведем столбец TotalCharges к числовому типу и извлечем целевой признак создав новый столбец ClientOut."
   ]
  },
  {
   "cell_type": "code",
   "execution_count": 7,
   "metadata": {
    "colab": {
     "base_uri": "https://localhost:8080/",
     "height": 102
    },
    "id": "pYU0iTnRMM8G",
    "outputId": "c2eb7d48-f8be-4b94-e33f-e0509d7a67e3"
   },
   "outputs": [
    {
     "data": {
      "text/plain": [
       "0    5174\n",
       "1    1869\n",
       "Name: ClientOut, dtype: int64"
      ]
     },
     "metadata": {},
     "output_type": "display_data"
    },
    {
     "data": {
      "text/plain": [
       "False    7043\n",
       "Name: FixedEndDate, dtype: int64"
      ]
     },
     "metadata": {},
     "output_type": "display_data"
    }
   ],
   "source": [
    "df['BeginDate'] = pd.to_datetime(df['BeginDate'],format = '%Y-%m-%d')\n",
    "df['FixedEndDate'] = pd.to_datetime(df['EndDate'][df['EndDate'] != 'No'], format = '%Y-%m-%dT%H:%M:%S')\n",
    "\n",
    "df['ClientOut'] = np.where((df['FixedEndDate'].isnull() != True ), 1, 0)\n",
    "\n",
    "df['FixedEndDate'][df['FixedEndDate'].isnull() == True] = pd.Timestamp('2020-02-01')\n",
    "\n",
    "df['Duration'] = df['FixedEndDate'] - df['BeginDate']\n",
    "df['TotalCharges'] = pd.to_numeric(df['TotalCharges'].str.replace(r'^\\s+', ''))\n",
    "df['TotalCharges'] = df['TotalCharges'].fillna(0)\n",
    "\n",
    "display(df['ClientOut'].value_counts())\n",
    "display(df['FixedEndDate'].isnull().value_counts())"
   ]
  },
  {
   "cell_type": "code",
   "execution_count": 8,
   "metadata": {},
   "outputs": [
    {
     "name": "stdout",
     "output_type": "stream",
     "text": [
      "<class 'pandas.core.frame.DataFrame'>\n",
      "RangeIndex: 7043 entries, 0 to 7042\n",
      "Data columns (total 23 columns):\n",
      "CustomerID          7043 non-null object\n",
      "BeginDate           7043 non-null datetime64[ns]\n",
      "EndDate             7043 non-null object\n",
      "Type                7043 non-null object\n",
      "PaperlessBilling    7043 non-null object\n",
      "PaymentMethod       7043 non-null object\n",
      "MonthlyCharges      7043 non-null float64\n",
      "TotalCharges        7043 non-null float64\n",
      "MultipleLines       7043 non-null object\n",
      "Gender              7043 non-null object\n",
      "SeniorCitizen       7043 non-null int64\n",
      "Partner             7043 non-null object\n",
      "Dependents          7043 non-null object\n",
      "InternetService     7043 non-null object\n",
      "OnlineSecurity      7043 non-null object\n",
      "OnlineBackup        7043 non-null object\n",
      "DeviceProtection    7043 non-null object\n",
      "TechSupport         7043 non-null object\n",
      "StreamingTV         7043 non-null object\n",
      "StreamingMovies     7043 non-null object\n",
      "FixedEndDate        7043 non-null datetime64[ns]\n",
      "ClientOut           7043 non-null int64\n",
      "Duration            7043 non-null timedelta64[ns]\n",
      "dtypes: datetime64[ns](2), float64(2), int64(2), object(16), timedelta64[ns](1)\n",
      "memory usage: 1.2+ MB\n"
     ]
    }
   ],
   "source": [
    "df.info()"
   ]
  },
  {
   "cell_type": "code",
   "execution_count": 9,
   "metadata": {},
   "outputs": [
    {
     "data": {
      "text/html": [
       "<div>\n",
       "<style scoped>\n",
       "    .dataframe tbody tr th:only-of-type {\n",
       "        vertical-align: middle;\n",
       "    }\n",
       "\n",
       "    .dataframe tbody tr th {\n",
       "        vertical-align: top;\n",
       "    }\n",
       "\n",
       "    .dataframe thead th {\n",
       "        text-align: right;\n",
       "    }\n",
       "</style>\n",
       "<table border=\"1\" class=\"dataframe\">\n",
       "  <thead>\n",
       "    <tr style=\"text-align: right;\">\n",
       "      <th></th>\n",
       "      <th>CustomerID</th>\n",
       "      <th>BeginDate</th>\n",
       "      <th>EndDate</th>\n",
       "      <th>Type</th>\n",
       "      <th>PaperlessBilling</th>\n",
       "      <th>PaymentMethod</th>\n",
       "      <th>MonthlyCharges</th>\n",
       "      <th>TotalCharges</th>\n",
       "      <th>MultipleLines</th>\n",
       "      <th>Gender</th>\n",
       "      <th>...</th>\n",
       "      <th>InternetService</th>\n",
       "      <th>OnlineSecurity</th>\n",
       "      <th>OnlineBackup</th>\n",
       "      <th>DeviceProtection</th>\n",
       "      <th>TechSupport</th>\n",
       "      <th>StreamingTV</th>\n",
       "      <th>StreamingMovies</th>\n",
       "      <th>FixedEndDate</th>\n",
       "      <th>ClientOut</th>\n",
       "      <th>Duration</th>\n",
       "    </tr>\n",
       "  </thead>\n",
       "  <tbody>\n",
       "    <tr>\n",
       "      <td>0</td>\n",
       "      <td>7590-VHVEG</td>\n",
       "      <td>2020-01-01</td>\n",
       "      <td>No</td>\n",
       "      <td>Month-to-month</td>\n",
       "      <td>Yes</td>\n",
       "      <td>Electronic check</td>\n",
       "      <td>29.85</td>\n",
       "      <td>29.85</td>\n",
       "      <td>No</td>\n",
       "      <td>Female</td>\n",
       "      <td>...</td>\n",
       "      <td>DSL</td>\n",
       "      <td>No</td>\n",
       "      <td>Yes</td>\n",
       "      <td>No</td>\n",
       "      <td>No</td>\n",
       "      <td>No</td>\n",
       "      <td>No</td>\n",
       "      <td>2020-02-01</td>\n",
       "      <td>0</td>\n",
       "      <td>31 days</td>\n",
       "    </tr>\n",
       "    <tr>\n",
       "      <td>1</td>\n",
       "      <td>5575-GNVDE</td>\n",
       "      <td>2017-04-01</td>\n",
       "      <td>No</td>\n",
       "      <td>One year</td>\n",
       "      <td>No</td>\n",
       "      <td>Mailed check</td>\n",
       "      <td>56.95</td>\n",
       "      <td>1889.50</td>\n",
       "      <td>No</td>\n",
       "      <td>Male</td>\n",
       "      <td>...</td>\n",
       "      <td>DSL</td>\n",
       "      <td>Yes</td>\n",
       "      <td>No</td>\n",
       "      <td>Yes</td>\n",
       "      <td>No</td>\n",
       "      <td>No</td>\n",
       "      <td>No</td>\n",
       "      <td>2020-02-01</td>\n",
       "      <td>0</td>\n",
       "      <td>1036 days</td>\n",
       "    </tr>\n",
       "    <tr>\n",
       "      <td>2</td>\n",
       "      <td>3668-QPYBK</td>\n",
       "      <td>2019-10-01</td>\n",
       "      <td>2019-12-01 00:00:00</td>\n",
       "      <td>Month-to-month</td>\n",
       "      <td>Yes</td>\n",
       "      <td>Mailed check</td>\n",
       "      <td>53.85</td>\n",
       "      <td>108.15</td>\n",
       "      <td>No</td>\n",
       "      <td>Male</td>\n",
       "      <td>...</td>\n",
       "      <td>DSL</td>\n",
       "      <td>Yes</td>\n",
       "      <td>Yes</td>\n",
       "      <td>No</td>\n",
       "      <td>No</td>\n",
       "      <td>No</td>\n",
       "      <td>No</td>\n",
       "      <td>2019-12-01</td>\n",
       "      <td>1</td>\n",
       "      <td>61 days</td>\n",
       "    </tr>\n",
       "  </tbody>\n",
       "</table>\n",
       "<p>3 rows × 23 columns</p>\n",
       "</div>"
      ],
      "text/plain": [
       "   CustomerID  BeginDate              EndDate            Type  \\\n",
       "0  7590-VHVEG 2020-01-01                   No  Month-to-month   \n",
       "1  5575-GNVDE 2017-04-01                   No        One year   \n",
       "2  3668-QPYBK 2019-10-01  2019-12-01 00:00:00  Month-to-month   \n",
       "\n",
       "  PaperlessBilling     PaymentMethod  MonthlyCharges  TotalCharges  \\\n",
       "0              Yes  Electronic check           29.85         29.85   \n",
       "1               No      Mailed check           56.95       1889.50   \n",
       "2              Yes      Mailed check           53.85        108.15   \n",
       "\n",
       "  MultipleLines  Gender  ...  InternetService OnlineSecurity OnlineBackup  \\\n",
       "0            No  Female  ...              DSL             No          Yes   \n",
       "1            No    Male  ...              DSL            Yes           No   \n",
       "2            No    Male  ...              DSL            Yes          Yes   \n",
       "\n",
       "  DeviceProtection TechSupport StreamingTV StreamingMovies FixedEndDate  \\\n",
       "0               No          No          No              No   2020-02-01   \n",
       "1              Yes          No          No              No   2020-02-01   \n",
       "2               No          No          No              No   2019-12-01   \n",
       "\n",
       "  ClientOut  Duration  \n",
       "0         0   31 days  \n",
       "1         0 1036 days  \n",
       "2         1   61 days  \n",
       "\n",
       "[3 rows x 23 columns]"
      ]
     },
     "execution_count": 9,
     "metadata": {},
     "output_type": "execute_result"
    }
   ],
   "source": [
    "df.head(3)"
   ]
  },
  {
   "cell_type": "markdown",
   "metadata": {
    "id": "Wd6B_w2gbVeS"
   },
   "source": [
    "Данные обработаны, теперь переходим к рассмотрению распределения признаков в датасете.\n",
    "\n",
    "# 2.2. Исследовательский анализ данных\n",
    "\n",
    "В первую очередь создаим функцию которая будет выводить график распределения того или иного признака."
   ]
  },
  {
   "cell_type": "code",
   "execution_count": 10,
   "metadata": {
    "id": "B7TgoY6fCrDe"
   },
   "outputs": [],
   "source": [
    "def plotting(x, xlabel_name, nbins=0, purpose='Boolean'):\n",
    "    if purpose == 'Boolean':\n",
    "        labels, counts = np.unique(x, return_counts=True)\n",
    "        plt.figure(figsize=(x.nunique()*2, 2), dpi = 100)\n",
    "        plt.bar(labels, \n",
    "                counts, \n",
    "                align='center', \n",
    "                color='green', \n",
    "                alpha=0.7, \n",
    "                edgecolor='black')\n",
    "        for i in range(len(labels)):\n",
    "            plt.text(i, counts[i]//2, counts[i], ha = 'center')\n",
    "    elif purpose == 'Numeric':\n",
    "        plt.figure(figsize=(10, 2), dpi = 100)\n",
    "        plt.hist(x=x, \n",
    "                 color='green', \n",
    "                 alpha=0.7, \n",
    "                 edgecolor='black',\n",
    "                 bins=nbins)\n",
    "    plt.grid(axis='y')\n",
    "    plt.ylabel('Кол-во клиентов')\n",
    "    plt.xlabel(xlabel_name);\n",
    "    plt.yticks(fontsize=8)\n",
    "    plt.xticks(fontsize=8)\n",
    "    plt.show()"
   ]
  },
  {
   "cell_type": "markdown",
   "metadata": {
    "id": "Ih3V1IUOpD9a"
   },
   "source": [
    "Функция подготовлена, начнем рассмотрение с социальных признаков клиентов."
   ]
  },
  {
   "cell_type": "code",
   "execution_count": 11,
   "metadata": {
    "colab": {
     "base_uri": "https://localhost:8080/",
     "height": 227
    },
    "id": "1BQqwS6dIBxx",
    "outputId": "e15d338d-74be-46a2-bfcc-6eabcb982906"
   },
   "outputs": [
    {
     "data": {
      "image/png": "[encoded data removed]",
      "text/plain": [
       "<Figure size 400x200 with 1 Axes>"
      ]
     },
     "metadata": {
      "needs_background": "light"
     },
     "output_type": "display_data"
    }
   ],
   "source": [
    "plotting(df['Partner'], 'Имеется ли муж/жена')"
   ]
  },
  {
   "cell_type": "markdown",
   "metadata": {
    "id": "gbhmEMG5pZrR"
   },
   "source": [
    "По признаку семейного положения клиенты разделились примерно половну - 51.5% клиентов не имеют мужа/жены, 48% клиентов замужем или женаты."
   ]
  },
  {
   "cell_type": "code",
   "execution_count": 12,
   "metadata": {
    "colab": {
     "base_uri": "https://localhost:8080/",
     "height": 227
    },
    "id": "xDgtvhwXI8GJ",
    "outputId": "d7432587-2d59-47ff-c42f-5bee6387967f"
   },
   "outputs": [
    {
     "data": {
      "image/png": "[encoded data removed]",
      "text/plain": [
       "<Figure size 400x200 with 1 Axes>"
      ]
     },
     "metadata": {
      "needs_background": "light"
     },
     "output_type": "display_data"
    }
   ],
   "source": [
    "plotting(df['Dependents'], 'Имеются ли дети')"
   ]
  },
  {
   "cell_type": "markdown",
   "metadata": {
    "id": "-ZFyhmWupsVD"
   },
   "source": [
    "Примерно у 30% клиентов имеются дети, у оставшихся 70% клиентов дети отсутствуют."
   ]
  },
  {
   "cell_type": "code",
   "execution_count": 13,
   "metadata": {
    "colab": {
     "base_uri": "https://localhost:8080/",
     "height": 227
    },
    "id": "6JYDL4QMIY1b",
    "outputId": "4c9341b2-cb58-4453-e4c4-7845fa5d2f85"
   },
   "outputs": [
    {
     "data": {
      "image/png": "[encoded data removed]",
      "text/plain": [
       "<Figure size 400x200 with 1 Axes>"
      ]
     },
     "metadata": {
      "needs_background": "light"
     },
     "output_type": "display_data"
    }
   ],
   "source": [
    "plotting(df['Gender'], 'Пол клиентов')"
   ]
  },
  {
   "cell_type": "markdown",
   "metadata": {
    "id": "geI94h7Np2Lx"
   },
   "source": [
    "По гендерному признаку клиенты распределены поровну, переходим дальше"
   ]
  },
  {
   "cell_type": "code",
   "execution_count": 14,
   "metadata": {
    "colab": {
     "base_uri": "https://localhost:8080/",
     "height": 227
    },
    "id": "I9OjUl4zJHrn",
    "outputId": "a1b263c2-82f4-47b0-d026-12051629d998"
   },
   "outputs": [
    {
     "data": {
      "image/png": "[encoded data removed]",
      "text/plain": [
       "<Figure size 400x200 with 1 Axes>"
      ]
     },
     "metadata": {
      "needs_background": "light"
     },
     "output_type": "display_data"
    }
   ],
   "source": [
    "plotting(df['SeniorCitizen'], 'Статус пенсионера')"
   ]
  },
  {
   "cell_type": "markdown",
   "metadata": {
    "id": "yueXv6lsp6tx"
   },
   "source": [
    "Примерно 16% клиентов имеют статус пенсионера или находятся в пожилом возрасте"
   ]
  },
  {
   "cell_type": "code",
   "execution_count": 15,
   "metadata": {
    "colab": {
     "base_uri": "https://localhost:8080/",
     "height": 228
    },
    "id": "ZFY0BBPaD8Qy",
    "outputId": "c1658e65-90a5-4847-e9ce-5a215b97c8ca"
   },
   "outputs": [
    {
     "data": {
      "image/png": "[encoded data removed]",
      "text/plain": [
       "<Figure size 600x200 with 1 Axes>"
      ]
     },
     "metadata": {
      "needs_background": "light"
     },
     "output_type": "display_data"
    }
   ],
   "source": [
    "plotting(df['Type'], 'Тип договора')"
   ]
  },
  {
   "cell_type": "markdown",
   "metadata": {
    "id": "gGcO-WOtbaSk"
   },
   "source": [
    "Видим что наибольшей популярностью пользуется месячный тип договора, однако годовой и двухгодовой тип договора в целом тоже пользуются достаточным успехом у клиентов."
   ]
  },
  {
   "cell_type": "code",
   "execution_count": 16,
   "metadata": {
    "colab": {
     "base_uri": "https://localhost:8080/",
     "height": 227
    },
    "id": "TQw0dWlhEb-v",
    "outputId": "a88e01be-fada-466c-d4eb-4034a769137b"
   },
   "outputs": [
    {
     "data": {
      "image/png": "[encoded data removed]",
      "text/plain": [
       "<Figure size 800x200 with 1 Axes>"
      ]
     },
     "metadata": {
      "needs_background": "light"
     },
     "output_type": "display_data"
    }
   ],
   "source": [
    "plotting(df['PaymentMethod'], 'Способ оплаты')"
   ]
  },
  {
   "cell_type": "markdown",
   "metadata": {
    "id": "2tT8RHJjblNC"
   },
   "source": [
    "Наиболее популярным способом оплаты у клиентов является судя по всему ручная электронная оплата, оставшиеся способы оплаты занимают между собой приблизительно равные места"
   ]
  },
  {
   "cell_type": "code",
   "execution_count": 17,
   "metadata": {
    "colab": {
     "base_uri": "https://localhost:8080/",
     "height": 227
    },
    "id": "duhwkt0PEpzA",
    "outputId": "bee680e8-4b37-45d0-b0e7-c29c75a02453"
   },
   "outputs": [
    {
     "data": {
      "image/png": "[encoded data removed]",
      "text/plain": [
       "<Figure size 400x200 with 1 Axes>"
      ]
     },
     "metadata": {
      "needs_background": "light"
     },
     "output_type": "display_data"
    }
   ],
   "source": [
    "plotting(df['OnlineSecurity'], 'Подключение блокировки небезопасных сайтов')"
   ]
  },
  {
   "cell_type": "markdown",
   "metadata": {
    "id": "e5-jqjSCcDNX"
   },
   "source": [
    "Примерно 30% клиентов используют услугу блокировки небезопасных сайтов, что является вполне неплохим результатом"
   ]
  },
  {
   "cell_type": "code",
   "execution_count": 18,
   "metadata": {
    "colab": {
     "base_uri": "https://localhost:8080/",
     "height": 227
    },
    "id": "b-e-IDMIFcIE",
    "outputId": "8ad6d2bd-c335-4826-d9ba-6283355cc317"
   },
   "outputs": [
    {
     "data": {
      "image/png": "[encoded data removed]",
      "text/plain": [
       "<Figure size 400x200 with 1 Axes>"
      ]
     },
     "metadata": {
      "needs_background": "light"
     },
     "output_type": "display_data"
    }
   ],
   "source": [
    "plotting(df['OnlineBackup'], 'Подключение облачного хранилища данных')"
   ]
  },
  {
   "cell_type": "markdown",
   "metadata": {
    "id": "hZBrA00ScK8U"
   },
   "source": [
    "Около 35% клиентов пользуются услугой облачного хранилища данных, услуга более популярна чем блокировка небезопасных сайтов"
   ]
  },
  {
   "cell_type": "code",
   "execution_count": 19,
   "metadata": {
    "colab": {
     "base_uri": "https://localhost:8080/",
     "height": 227
    },
    "id": "DsfDgREYFaLf",
    "outputId": "47e3c93a-0a0a-45ac-9ad8-f65cfca37e67"
   },
   "outputs": [
    {
     "data": {
      "image/png": "[encoded data removed]",
      "text/plain": [
       "<Figure size 400x200 with 1 Axes>"
      ]
     },
     "metadata": {
      "needs_background": "light"
     },
     "output_type": "display_data"
    }
   ],
   "source": [
    "plotting(df['DeviceProtection'], 'Подключение антивируса')"
   ]
  },
  {
   "cell_type": "markdown",
   "metadata": {
    "id": "n4gQN7H_cUOD"
   },
   "source": [
    "Подключением антивируса воспользовались примерно 35% пользователей, тоже достаточно хороший показатель"
   ]
  },
  {
   "cell_type": "code",
   "execution_count": 20,
   "metadata": {
    "colab": {
     "base_uri": "https://localhost:8080/",
     "height": 227
    },
    "id": "jo2DbXCPFht1",
    "outputId": "85844b93-ccc9-45e6-9ab2-e25abf7912a0"
   },
   "outputs": [
    {
     "data": {
      "image/png": "[encoded data removed]",
      "text/plain": [
       "<Figure size 400x200 with 1 Axes>"
      ]
     },
     "metadata": {
      "needs_background": "light"
     },
     "output_type": "display_data"
    }
   ],
   "source": [
    "plotting(df['TechSupport'], 'Подключение выделенной линии техподдержки')"
   ]
  },
  {
   "cell_type": "markdown",
   "metadata": {
    "id": "HQecrPoVcf7K"
   },
   "source": [
    "По популярности подключение выделенной линии техподдержки на данный момент находится примерно на одном уровне с блокировкой небезопасных сайтов - 28-29% клиентов пользуется данной услугой"
   ]
  },
  {
   "cell_type": "code",
   "execution_count": 21,
   "metadata": {
    "colab": {
     "base_uri": "https://localhost:8080/",
     "height": 227
    },
    "id": "TRwwRSUmFkuD",
    "outputId": "88916c32-83ae-4689-d264-d65797761f7b"
   },
   "outputs": [
    {
     "data": {
      "image/png": "[encoded data removed]",
      "text/plain": [
       "<Figure size 400x200 with 1 Axes>"
      ]
     },
     "metadata": {
      "needs_background": "light"
     },
     "output_type": "display_data"
    }
   ],
   "source": [
    "plotting(df['StreamingTV'], 'Подключение стримингового ТВ')"
   ]
  },
  {
   "cell_type": "markdown",
   "metadata": {
    "id": "bhLz9FAjct7G"
   },
   "source": [
    "Стриминговым телевидением пользуется около 40% клиентов, что сразу же выводит её в ряд наиболее популярных и полезных услуг"
   ]
  },
  {
   "cell_type": "code",
   "execution_count": 22,
   "metadata": {
    "colab": {
     "base_uri": "https://localhost:8080/",
     "height": 227
    },
    "id": "KpjcfOJxFoDv",
    "outputId": "13cc072a-0d39-4962-8e21-fcf1d3fd06f0"
   },
   "outputs": [
    {
     "data": {
      "image/png": "[encoded data removed]",
      "text/plain": [
       "<Figure size 400x200 with 1 Axes>"
      ]
     },
     "metadata": {
      "needs_background": "light"
     },
     "output_type": "display_data"
    }
   ],
   "source": [
    "plotting(df['StreamingMovies'], 'Подключение каталога фильмов')"
   ]
  },
  {
   "cell_type": "markdown",
   "metadata": {
    "id": "GymwShhTc3aF"
   },
   "source": [
    "Судя по всему подключением каталога фильмов пользуются одновременно с подключением стримингового телевидения, поэтому эта услуга является также наиболее популярной у клиентов."
   ]
  },
  {
   "cell_type": "code",
   "execution_count": 23,
   "metadata": {
    "colab": {
     "base_uri": "https://localhost:8080/",
     "height": 227
    },
    "id": "8HJ0QofRLBi0",
    "outputId": "3ab2779a-45ad-4cd7-b931-4e23ee49d3af"
   },
   "outputs": [
    {
     "data": {
      "image/png": "[encoded data removed]",
      "text/plain": [
       "<Figure size 1000x200 with 1 Axes>"
      ]
     },
     "metadata": {
      "needs_background": "light"
     },
     "output_type": "display_data"
    }
   ],
   "source": [
    "plotting(df['MonthlyCharges'], 'Распределение ежемесячных платежей', 25, 'Numeric')"
   ]
  },
  {
   "cell_type": "markdown",
   "metadata": {
    "id": "rqowOBq0dTBL"
   },
   "source": [
    "Наибольшая часть клиентов в месяц платит минимальную сумму - возможно это клиенты у которых не подключена ни одна дополнительная услуга. "
   ]
  },
  {
   "cell_type": "code",
   "execution_count": 24,
   "metadata": {
    "colab": {
     "base_uri": "https://localhost:8080/",
     "height": 227
    },
    "id": "MQurWQVfRmT_",
    "outputId": "5859faca-3854-4740-91a2-5d7e58ad5379"
   },
   "outputs": [
    {
     "data": {
      "image/png": "[encoded data removed]",
      "text/plain": [
       "<Figure size 1000x200 with 1 Axes>"
      ]
     },
     "metadata": {
      "needs_background": "light"
     },
     "output_type": "display_data"
    }
   ],
   "source": [
    "plotting(df['TotalCharges'], 'Распределение итоговых платежей', 75, 'Numeric')"
   ]
  },
  {
   "cell_type": "markdown",
   "metadata": {
    "id": "d-UVcVmUeKw3"
   },
   "source": [
    "По распределению итоговых платежей можно сказать что оно распределено нормально, большая доля небольших сумм итоговых платежей судя по всему связана с оттоком старых клиентов и появлением новых."
   ]
  },
  {
   "cell_type": "code",
   "execution_count": 25,
   "metadata": {
    "colab": {
     "base_uri": "https://localhost:8080/",
     "height": 227
    },
    "id": "6uTxv_CUTEpM",
    "outputId": "5630ce01-b185-4f1c-805f-d5847df63aec"
   },
   "outputs": [
    {
     "data": {
      "image/png": "[encoded data removed]",
      "text/plain": [
       "<Figure size 1000x200 with 1 Axes>"
      ]
     },
     "metadata": {
      "needs_background": "light"
     },
     "output_type": "display_data"
    }
   ],
   "source": [
    "plotting(df['BeginDate'], 'Распределение появления новых клиентов по месяцам', 75, 'Numeric')"
   ]
  },
  {
   "cell_type": "markdown",
   "metadata": {
    "id": "44NAUh0FqGvX"
   },
   "source": [
    "Наблюдаем что наибольший прирост клиентов наблюдался в начале 2014 года (возможно связано с началом сбора подобных данных в компании), после этого в период с 2015 по 2018 гг. количество новых клиентов составляло примерно 50-100 человек в месяц. В 2019 и 2020 году эти цифры начинают расти и доходят до 200 человек в месяц."
   ]
  },
  {
   "cell_type": "code",
   "execution_count": 26,
   "metadata": {
    "colab": {
     "base_uri": "https://localhost:8080/",
     "height": 227
    },
    "id": "ow1Q0UKOZia5",
    "outputId": "e27a3c3f-cc4e-4270-a262-d5a14497a312"
   },
   "outputs": [
    {
     "data": {
      "image/png": "[encoded data removed]",
      "text/plain": [
       "<Figure size 400x200 with 1 Axes>"
      ]
     },
     "metadata": {
      "needs_background": "light"
     },
     "output_type": "display_data"
    }
   ],
   "source": [
    "plotting(df['MultipleLines'], 'Подключение телефона к нескольким линиям')"
   ]
  },
  {
   "cell_type": "markdown",
   "metadata": {
    "id": "x3CwfDSvaPEY"
   },
   "source": [
    "Около 40% процентов клиентов используют дополнительные линии при подключении телефона, если эти клиенты используют данную услугу в коммерческих целях - в таком случае это достаточно хороший показатель."
   ]
  },
  {
   "cell_type": "code",
   "execution_count": 27,
   "metadata": {
    "colab": {
     "base_uri": "https://localhost:8080/",
     "height": 227
    },
    "id": "RkAk9qBZZ3Zi",
    "outputId": "08af21c1-1ee3-4331-de40-26fabb9fbcf7"
   },
   "outputs": [
    {
     "data": {
      "image/png": "[encoded data removed]",
      "text/plain": [
       "<Figure size 600x200 with 1 Axes>"
      ]
     },
     "metadata": {
      "needs_background": "light"
     },
     "output_type": "display_data"
    }
   ],
   "source": [
    "plotting(df['InternetService'], 'Подключение к Интернету')"
   ]
  },
  {
   "cell_type": "markdown",
   "metadata": {
    "id": "r2v6D9H4a7vr"
   },
   "source": [
    "Около 20% пользователей не подключены к интернету у данного провайдера, большинство клиентов подключены к интернету с помощью оптоволоконного кабеля, 35% клиентов подключены к интернету с помощью телефонной линии."
   ]
  },
  {
   "cell_type": "code",
   "execution_count": 28,
   "metadata": {},
   "outputs": [
    {
     "data": {
      "image/png": "[encoded data removed]",
      "text/plain": [
       "<Figure size 800x200 with 1 Axes>"
      ]
     },
     "metadata": {
      "needs_background": "light"
     },
     "output_type": "display_data"
    }
   ],
   "source": [
    "plotting(df.loc[(df['ClientOut'] == 1), 'FixedEndDate'].dt.strftime('%Y-%m-%d'), 'Распределения ухода клиентов по месяцам')"
   ]
  },
  {
   "cell_type": "code",
   "execution_count": 29,
   "metadata": {},
   "outputs": [
    {
     "data": {
      "image/png": "[encoded data removed]",
      "text/plain": [
       "<Figure size 1296x432 with 1 Axes>"
      ]
     },
     "metadata": {
      "needs_background": "light"
     },
     "output_type": "display_data"
    }
   ],
   "source": [
    "monthlycharges_list = [df.query('ClientOut == 0')['MonthlyCharges'], \n",
    "                       df.query('ClientOut == 1')['MonthlyCharges']]\n",
    "colorlist = ['#7BC8F6', '#15B01A']\n",
    "quantile_list=[0.25, 0.75]\n",
    "\n",
    "ax = plt.gca()\n",
    "xlim = [df['MonthlyCharges'].min(), df['MonthlyCharges'].max()]\n",
    "title = 'Распределение ежемесячных платежей'\n",
    "\n",
    "for i in range(len(monthlycharges_list)):\n",
    "    monthlycharges_list[i].plot(kind='hist', bins=70, figsize=(18, 6), ec='black', ax=ax, \n",
    "                                color=colorlist[i], title=title, xlim=xlim)\n",
    "    plt.axvline(x=monthlycharges_list[i].mean(), linewidth=1.5, linestyle='--', color=colorlist[i])\n",
    "    plt.axvline(x=monthlycharges_list[i].median(), linewidth=1.25, linestyle='dashdot', color=colorlist[i])\n",
    "    plt.axvline(x=monthlycharges_list[i].max(), linewidth=1, linestyle='dotted', color=colorlist[i])\n",
    "    plt.axvline(x=monthlycharges_list[i].min(), linewidth=1, linestyle='dotted', color=colorlist[i])\n",
    "    for j in range(len(quantile_list)):\n",
    "        plt.axvline(x=monthlycharges_list[i].quantile(j, interpolation='nearest'), linewidth=0.5, color=colorlist[i])\n",
    "\n",
    "ax.set_facecolor('0.925')\n",
    "plt.xlabel('Суммарная продолжительность звонков в месяц', fontsize=14)\n",
    "plt.ylabel('Частота показателя', fontsize=14)\n",
    "plt.legend(['Лимит минут по тарифу \"Смарт\"', 'Лимит минут по тарифу \"Ультра\"', \n",
    "            'Суммарная продолжительность звонков в месяц по тарифу \"Смарт\"', \n",
    "            'Суммарная продолжительность звонков в месяц по тарифу \"Ультра\"', \n",
    "           '1',\n",
    "           '2',\n",
    "           '3',\n",
    "           '4',\n",
    "           '5',\n",
    "           '6',\n",
    "           '7',\n",
    "           '8',\n",
    "           '9',\n",
    "           '10'], \n",
    "           prop={'size':10})\n",
    "plt.show()"
   ]
  },
  {
   "cell_type": "code",
   "execution_count": 30,
   "metadata": {},
   "outputs": [
    {
     "data": {
      "image/png": "[encoded data removed]",
      "text/plain": [
       "<Figure size 1000x600 with 1 Axes>"
      ]
     },
     "metadata": {
      "needs_background": "light"
     },
     "output_type": "display_data"
    }
   ],
   "source": [
    "labels, counts = np.unique(df.query('ClientOut == 0')['InternetService'], return_counts=True)\n",
    "plt.figure(figsize=(10, 6), dpi = 100)\n",
    "plt.bar(labels, \n",
    "        counts, \n",
    "        align='center', \n",
    "        color='green', \n",
    "        alpha=0.7, \n",
    "        edgecolor='black')\n",
    "for i in range(len(labels)):\n",
    "    plt.text(i, counts[i]//2, counts[i], ha = 'center')\n",
    "labels, counts = np.unique(df.query('ClientOut == 1')['InternetService'], return_counts=True)\n",
    "#plt.figure(figsize=(df.query('ClientOut == 1')['InternetService'].nunique()*2, 2), dpi = 100)\n",
    "plt.bar(labels, \n",
    "        counts, \n",
    "        align='center', \n",
    "        color='green', \n",
    "        alpha=0.7, \n",
    "        edgecolor='black')\n",
    "for i in range(len(labels)):\n",
    "    plt.text(i, counts[i]//2, counts[i], ha = 'center')"
   ]
  },
  {
   "cell_type": "markdown",
   "metadata": {
    "id": "bc5MO3VyrC9Z"
   },
   "source": [
    "На основании собранных данных можно сделать вывод о том что за период с октября 2019 года по январь 2020 года количество ушедших клиентов в среднем составляет 450-500 человек в месяц.\n",
    "\n",
    "## 2.2.1. Промежуточные выводы:\n",
    "\n",
    "Рассмотрев основные признаки из объединеннего датасета, мы можем сделать **следующие выводы:**\n",
    "\n",
    "- **В среднем около 30-35% клиентов пользуются дополнительными услугами** - блокировка небезопасных сайтов, облачное хранилище данных, подключение антивируса, выделенная линия техподдержки, стриминговое ТВ и каталог фильмов.\n",
    "- **Подключение телефона к нескольким линиям** в 2019-2020 у данного провайдера **пользуется наибольшей популярностью**, данной услугой воспользовались 42% клиентов.\n",
    "- Большинство клиентов в качестве способа оплаты **предпочитают банковские переводы, оплаты кредитной или дебетовой картой**.\n",
    "- **Тип договора у 55% клиентов ежемесячный**, оставшаяся доля клиентов заключает договор либо на один год, либо на два.\n",
    "- **Около 16% клиентов являются пенсионерами** либо пожилыми людьми.\n",
    "- **У 30% клиентов имеются дети**.\n",
    "- **С 2019 года наблюдается повышенный прирост новых клиентов** (100-200 чел. в месяц), который на протяжении периода с 2015 по 2018 года оставался на примерно одном и том же уровне (50-100 чел. в месяц).\n",
    "- **Большая часть клиентов платит минимальную сумму по договору**, возможно что это клиенты не использующие никаких дополнительных услуг.\n",
    "\n",
    "Теперь можем переходить к обучению и проверкам моделей.\n",
    "\n",
    "# 3. Обучение и проверка моделей.\n",
    "\n",
    "## 3.1 Преобразование признаков\n",
    "\n",
    "В первую очередь преобразуем столбцы со значениями Yes/No в числовые 0/1."
   ]
  },
  {
   "cell_type": "code",
   "execution_count": 31,
   "metadata": {
    "colab": {
     "base_uri": "https://localhost:8080/"
    },
    "id": "ec8smG30KLeN",
    "outputId": "c6c65c1a-5b16-4c76-bddc-49a156b1b4fa"
   },
   "outputs": [
    {
     "data": {
      "text/plain": [
       "0    4311\n",
       "1    2732\n",
       "Name: StreamingMovies, dtype: int64"
      ]
     },
     "execution_count": 31,
     "metadata": {},
     "output_type": "execute_result"
    }
   ],
   "source": [
    "yes_no_columns = ['StreamingMovies', 'StreamingTV', 'TechSupport', 'DeviceProtection', \n",
    "                  'OnlineBackup', 'OnlineSecurity', 'Dependents', 'Partner', 'PaperlessBilling', 'MultipleLines']\n",
    "df[yes_no_columns] = df[yes_no_columns].replace(to_replace=['No', 'Yes'], value=[0, 1])\n",
    "df['StreamingMovies'].value_counts()"
   ]
  },
  {
   "cell_type": "markdown",
   "metadata": {
    "id": "tm16fmrEdVyD"
   },
   "source": [
    "Столбцы преобразованы успешно, теперь создадим новый признак, который будет означать что пользователь является новым клиентом. За интервал возьмем ноябрь 2019 года по февраль 2020 года."
   ]
  },
  {
   "cell_type": "code",
   "execution_count": 32,
   "metadata": {
    "colab": {
     "base_uri": "https://localhost:8080/"
    },
    "id": "mcNepfJ5QCbf",
    "outputId": "d92bf01e-220c-4ec5-8fcb-f7bc900477d9"
   },
   "outputs": [
    {
     "data": {
      "text/plain": [
       "1    6342\n",
       "0     701\n",
       "Name: NewClient, dtype: int64"
      ]
     },
     "execution_count": 32,
     "metadata": {},
     "output_type": "execute_result"
    }
   ],
   "source": [
    "df['NewClient'] = np.where((df['BeginDate'] > '2019-10-30') & (df['BeginDate'] < '2020-02-02') != True, 1, 0)\n",
    "df['NewClient'].value_counts()"
   ]
  },
  {
   "cell_type": "markdown",
   "metadata": {
    "id": "jywvn4T6dlal"
   },
   "source": [
    "Столбец успешно создан, теперь избавимся от лишних столбцов с датой и ID пользователей, преобразуем тип данных столбца Duration в числовой, и переведем оставшиеся столбцы с текстовыми значениями к числовым значениям с помощью OHE."
   ]
  },
  {
   "cell_type": "code",
   "execution_count": 33,
   "metadata": {
    "colab": {
     "base_uri": "https://localhost:8080/",
     "height": 179
    },
    "id": "kEy6yq48VK8l",
    "outputId": "e379526e-b560-4314-c8db-52bb84585833"
   },
   "outputs": [
    {
     "data": {
      "text/html": [
       "<div>\n",
       "<style scoped>\n",
       "    .dataframe tbody tr th:only-of-type {\n",
       "        vertical-align: middle;\n",
       "    }\n",
       "\n",
       "    .dataframe tbody tr th {\n",
       "        vertical-align: top;\n",
       "    }\n",
       "\n",
       "    .dataframe thead th {\n",
       "        text-align: right;\n",
       "    }\n",
       "</style>\n",
       "<table border=\"1\" class=\"dataframe\">\n",
       "  <thead>\n",
       "    <tr style=\"text-align: right;\">\n",
       "      <th></th>\n",
       "      <th>PaperlessBilling</th>\n",
       "      <th>MonthlyCharges</th>\n",
       "      <th>TotalCharges</th>\n",
       "      <th>MultipleLines</th>\n",
       "      <th>SeniorCitizen</th>\n",
       "      <th>Partner</th>\n",
       "      <th>Dependents</th>\n",
       "      <th>OnlineSecurity</th>\n",
       "      <th>OnlineBackup</th>\n",
       "      <th>DeviceProtection</th>\n",
       "      <th>...</th>\n",
       "      <th>Duration</th>\n",
       "      <th>NewClient</th>\n",
       "      <th>Gender_Male</th>\n",
       "      <th>Type_One year</th>\n",
       "      <th>Type_Two year</th>\n",
       "      <th>PaymentMethod_Credit card (automatic)</th>\n",
       "      <th>PaymentMethod_Electronic check</th>\n",
       "      <th>PaymentMethod_Mailed check</th>\n",
       "      <th>InternetService_Fiber optic</th>\n",
       "      <th>InternetService_No</th>\n",
       "    </tr>\n",
       "  </thead>\n",
       "  <tbody>\n",
       "    <tr>\n",
       "      <td>0</td>\n",
       "      <td>1</td>\n",
       "      <td>29.85</td>\n",
       "      <td>29.85</td>\n",
       "      <td>0</td>\n",
       "      <td>0</td>\n",
       "      <td>1</td>\n",
       "      <td>0</td>\n",
       "      <td>0</td>\n",
       "      <td>1</td>\n",
       "      <td>0</td>\n",
       "      <td>...</td>\n",
       "      <td>31</td>\n",
       "      <td>0</td>\n",
       "      <td>0</td>\n",
       "      <td>0</td>\n",
       "      <td>0</td>\n",
       "      <td>0</td>\n",
       "      <td>1</td>\n",
       "      <td>0</td>\n",
       "      <td>0</td>\n",
       "      <td>0</td>\n",
       "    </tr>\n",
       "    <tr>\n",
       "      <td>1</td>\n",
       "      <td>0</td>\n",
       "      <td>56.95</td>\n",
       "      <td>1889.50</td>\n",
       "      <td>0</td>\n",
       "      <td>0</td>\n",
       "      <td>0</td>\n",
       "      <td>0</td>\n",
       "      <td>1</td>\n",
       "      <td>0</td>\n",
       "      <td>1</td>\n",
       "      <td>...</td>\n",
       "      <td>1036</td>\n",
       "      <td>1</td>\n",
       "      <td>1</td>\n",
       "      <td>1</td>\n",
       "      <td>0</td>\n",
       "      <td>0</td>\n",
       "      <td>0</td>\n",
       "      <td>1</td>\n",
       "      <td>0</td>\n",
       "      <td>0</td>\n",
       "    </tr>\n",
       "    <tr>\n",
       "      <td>2</td>\n",
       "      <td>1</td>\n",
       "      <td>53.85</td>\n",
       "      <td>108.15</td>\n",
       "      <td>0</td>\n",
       "      <td>0</td>\n",
       "      <td>0</td>\n",
       "      <td>0</td>\n",
       "      <td>1</td>\n",
       "      <td>1</td>\n",
       "      <td>0</td>\n",
       "      <td>...</td>\n",
       "      <td>61</td>\n",
       "      <td>1</td>\n",
       "      <td>1</td>\n",
       "      <td>0</td>\n",
       "      <td>0</td>\n",
       "      <td>0</td>\n",
       "      <td>0</td>\n",
       "      <td>1</td>\n",
       "      <td>0</td>\n",
       "      <td>0</td>\n",
       "    </tr>\n",
       "  </tbody>\n",
       "</table>\n",
       "<p>3 rows × 24 columns</p>\n",
       "</div>"
      ],
      "text/plain": [
       "   PaperlessBilling  MonthlyCharges  TotalCharges  MultipleLines  \\\n",
       "0                 1           29.85         29.85              0   \n",
       "1                 0           56.95       1889.50              0   \n",
       "2                 1           53.85        108.15              0   \n",
       "\n",
       "   SeniorCitizen  Partner  Dependents  OnlineSecurity  OnlineBackup  \\\n",
       "0              0        1           0               0             1   \n",
       "1              0        0           0               1             0   \n",
       "2              0        0           0               1             1   \n",
       "\n",
       "   DeviceProtection  ...  Duration  NewClient  Gender_Male  Type_One year  \\\n",
       "0                 0  ...        31          0            0              0   \n",
       "1                 1  ...      1036          1            1              1   \n",
       "2                 0  ...        61          1            1              0   \n",
       "\n",
       "   Type_Two year  PaymentMethod_Credit card (automatic)  \\\n",
       "0              0                                      0   \n",
       "1              0                                      0   \n",
       "2              0                                      0   \n",
       "\n",
       "   PaymentMethod_Electronic check  PaymentMethod_Mailed check  \\\n",
       "0                               1                           0   \n",
       "1                               0                           1   \n",
       "2                               0                           1   \n",
       "\n",
       "   InternetService_Fiber optic  InternetService_No  \n",
       "0                            0                   0  \n",
       "1                            0                   0  \n",
       "2                            0                   0  \n",
       "\n",
       "[3 rows x 24 columns]"
      ]
     },
     "metadata": {},
     "output_type": "display_data"
    }
   ],
   "source": [
    "df = df.drop(['BeginDate', 'EndDate', 'FixedEndDate', 'CustomerID'], axis=1)\n",
    "\n",
    "df['Duration'] = df['Duration'].dt.days\n",
    "df = pd.get_dummies(df, columns = ['Gender', 'Type', 'PaymentMethod', 'InternetService'], drop_first = True)\n",
    "display(df.head(3))"
   ]
  },
  {
   "cell_type": "markdown",
   "metadata": {
    "id": "UdGKx1xsd-44"
   },
   "source": [
    "Указанные выше шаги выполнены успешно, теперь построим корреляционную матрицу для уточнения взаимосвязей между признаками и целевым признаком."
   ]
  },
  {
   "cell_type": "code",
   "execution_count": 34,
   "metadata": {},
   "outputs": [
    {
     "data": {
      "image/png": "[encoded data removed]",
      "text/plain": [
       "<Figure size 400x400 with 2 Axes>"
      ]
     },
     "metadata": {
      "needs_background": "light"
     },
     "output_type": "display_data"
    }
   ],
   "source": [
    "corr_clientout  = df[['TotalCharges', 'MonthlyCharges', 'Duration', 'ClientOut']].corr()\n",
    "corr_clientout = corr_clientout.sort_values(by='ClientOut', ascending=False)\n",
    "plt.figure(figsize=(4,4), dpi= 100)\n",
    "\n",
    "sns.heatmap(corr_clientout, cmap='RdYlGn', center=0, \n",
    "            annot=True, fmt='.2f', vmin=-1, vmax=1, square = True)\n",
    "\n",
    "plt.xticks(fontsize=6, rotation=45)\n",
    "plt.yticks(fontsize=6)\n",
    "plt.show()"
   ]
  },
  {
   "cell_type": "markdown",
   "metadata": {},
   "source": [
    "Наблюдаем высокую взаимосвязь между TotalCharges и оставшимися количественными признаками, поэтому лучше всего будет избавиться от этого столбца."
   ]
  },
  {
   "cell_type": "code",
   "execution_count": 35,
   "metadata": {},
   "outputs": [],
   "source": [
    "df = df.drop(['TotalCharges'], axis=1)"
   ]
  },
  {
   "cell_type": "markdown",
   "metadata": {},
   "source": [
    "Обратите внимание на то, что целевая функция предсталвляет собой бинарную переменную. Теоретически, это не помешает рассчиать, например, корреляцию Пирсона между непрерывной переменной и целевой функцией, онднако анализиоовать полученные результаты будет сложно, корреляция Пирсона просто не рассчитана на такое применение. Кто уже забыл, как действовать в такой ситуации - вспоминить можно вот здесь: https://stepik.org/lesson/90035/step/3?unit=66281\n",
    "\n",
    "Между категориальными и числовыми признаками корреляцию считать не нужно.\n",
    "Поскольку признаки имеют разную природу считать корреляцию Пирсона/Спирмена не имеет смысла.\n",
    "Для расчета корреляции используем следующую меру:\n",
    "Признаки будут коррелированны положительно, если E(X1|X2=1) > E(X1|X2=-1), отрицательно наоборот; За меру корреляции возьмем разность мат.ожиданий E(X1|X2=1) - E(X1|X2=-1)\n",
    "\n",
    "функция, которая будем считать эту меру"
   ]
  },
  {
   "cell_type": "code",
   "execution_count": 47,
   "metadata": {},
   "outputs": [],
   "source": [
    "# создадим функцию, которая считает корреляциооную меру E(X1|X2=1) - E(X1|X2=-1)\n",
    "\n",
    "data_corr=df.copy() # создадим копию исходного датасета без столбцов в которых только пропуски\n",
    "scaler = StandardScaler() # нормализация данных \n",
    "\n",
    "def corr_calculation (column):\n",
    "    matrix = pd.concat((data_corr[column], pd.Series(np.ravel(label))), axis=1) # создает таблицу со столбцом признака и метки\n",
    "    # ravel - для перевод данных в массив \n",
    "    matrix = matrix.dropna() # удаляет пустые значение в этой таблице\n",
    "    \n",
    "    #Данные имеют разный масштаб и их нужно сравнивать между собой, произведем нормализацию при помощи Slacer\n",
    "    # scaler - вычитает среднее и делит на стандартное отклонение\n",
    "    matrix[column] = scaler.fit_transform(matrix[column].values.reshape(-1, 1)) # reshape - длятрансформации массива в кортеж \n",
    "    \n",
    "    # Расчет E(X1|X2=1)\n",
    "    E_X_churn = matrix[matrix[0] == 1][column].mean() # мат. ожидания для по объектам, где target = 1 (был отток)\n",
    "    \n",
    "    # Расчет E(X1|X2=0)\n",
    "    E_X_notchurn = matrix[matrix[0] == 0][column].mean() # мат. ожидания для по объектам, где target = 0 ( не было оттока)\n",
    "    \n",
    "    #корреляционный коэффициент\n",
    "    сorr = E_X_churn - E_X_notchurn\n",
    "    #знак корреляции не важен, найдем только коррелирующие переменные\n",
    "    return np.abs(E_X_churn - E_X_notchurn)"
   ]
  },
  {
   "cell_type": "code",
   "execution_count": 50,
   "metadata": {},
   "outputs": [
    {
     "data": {
      "text/html": [
       "<div>\n",
       "<style scoped>\n",
       "    .dataframe tbody tr th:only-of-type {\n",
       "        vertical-align: middle;\n",
       "    }\n",
       "\n",
       "    .dataframe tbody tr th {\n",
       "        vertical-align: top;\n",
       "    }\n",
       "\n",
       "    .dataframe thead th {\n",
       "        text-align: right;\n",
       "    }\n",
       "</style>\n",
       "<table border=\"1\" class=\"dataframe\">\n",
       "  <thead>\n",
       "    <tr style=\"text-align: right;\">\n",
       "      <th></th>\n",
       "      <th>correlation</th>\n",
       "      <th>variable</th>\n",
       "    </tr>\n",
       "  </thead>\n",
       "  <tbody>\n",
       "    <tr>\n",
       "      <td>19</td>\n",
       "      <td>0.697619</td>\n",
       "      <td>InternetService_Fiber optic</td>\n",
       "    </tr>\n",
       "    <tr>\n",
       "      <td>15</td>\n",
       "      <td>0.684559</td>\n",
       "      <td>Type_Two year</td>\n",
       "    </tr>\n",
       "    <tr>\n",
       "      <td>17</td>\n",
       "      <td>0.683801</td>\n",
       "      <td>PaymentMethod_Electronic check</td>\n",
       "    </tr>\n",
       "    <tr>\n",
       "      <td>20</td>\n",
       "      <td>0.516138</td>\n",
       "      <td>InternetService_No</td>\n",
       "    </tr>\n",
       "    <tr>\n",
       "      <td>1</td>\n",
       "      <td>0.437924</td>\n",
       "      <td>MonthlyCharges</td>\n",
       "    </tr>\n",
       "    <tr>\n",
       "      <td>0</td>\n",
       "      <td>0.434456</td>\n",
       "      <td>PaperlessBilling</td>\n",
       "    </tr>\n",
       "    <tr>\n",
       "      <td>14</td>\n",
       "      <td>0.402736</td>\n",
       "      <td>Type_One year</td>\n",
       "    </tr>\n",
       "    <tr>\n",
       "      <td>6</td>\n",
       "      <td>0.387802</td>\n",
       "      <td>OnlineSecurity</td>\n",
       "    </tr>\n",
       "    <tr>\n",
       "      <td>9</td>\n",
       "      <td>0.372961</td>\n",
       "      <td>TechSupport</td>\n",
       "    </tr>\n",
       "    <tr>\n",
       "      <td>5</td>\n",
       "      <td>0.371937</td>\n",
       "      <td>Dependents</td>\n",
       "    </tr>\n",
       "  </tbody>\n",
       "</table>\n",
       "</div>"
      ],
      "text/plain": [
       "    correlation                        variable\n",
       "19     0.697619     InternetService_Fiber optic\n",
       "15     0.684559                   Type_Two year\n",
       "17     0.683801  PaymentMethod_Electronic check\n",
       "20     0.516138              InternetService_No\n",
       "1      0.437924                  MonthlyCharges\n",
       "0      0.434456                PaperlessBilling\n",
       "14     0.402736                   Type_One year\n",
       "6      0.387802                  OnlineSecurity\n",
       "9      0.372961                     TechSupport\n",
       "5      0.371937                      Dependents"
      ]
     },
     "execution_count": 50,
     "metadata": {},
     "output_type": "execute_result"
    }
   ],
   "source": [
    "num_cols = df.dtypes[df.dtypes != 'object'].index\n",
    "num_cols = num_cols.drop(['ClientOut', 'Duration'])\n",
    "label = df['ClientOut']\n",
    "#Посчитаем корреляции между признаками\n",
    "#хранить будем в переменной\n",
    "correlation_list = []\n",
    "\n",
    "#по всем колонкам с целочисленными значениями вычисляем корреляции и записываем в лист : [0.0739153726574856, 'Var56']\n",
    "for column in num_cols:\n",
    "    correlation_list.append([corr_calculation(column), column])\n",
    "    \n",
    "#pandas объект для хранения корреляций\n",
    "df_corr = pd.DataFrame(correlation_list, columns=['correlation', 'variable']).sort_values(\n",
    "    by='correlation',  ascending=False)  \n",
    "df_corr.head(10)"
   ]
  },
  {
   "cell_type": "markdown",
   "metadata": {
    "id": "Nj0bsoQ-eGpb"
   },
   "source": [
    "Наблюдаем что все три рассмотренных признака имеют взаимосвязь с целевым признаком, наиболее значимым из которых является продолжительность договора.\n",
    "\n",
    "Теперь разобъем датасет на тренировочную и тестовую выборку, выделим признаки и целевой признак.\n",
    "\n",
    "## 3.2. Разбиение признаков"
   ]
  },
  {
   "cell_type": "code",
   "execution_count": 34,
   "metadata": {
    "colab": {
     "base_uri": "https://localhost:8080/"
    },
    "id": "PxVQoIwdXJRK",
    "outputId": "a713e380-9559-434b-e5fb-7ecb658afcee"
   },
   "outputs": [
    {
     "name": "stdout",
     "output_type": "stream",
     "text": [
      "\u001b[1mОбучающая выборка\u001b[0m\n",
      "Размер: (5282, 23)\n",
      "Доля от исходного датасета: 75.0 %\n",
      "\n",
      "\u001b[1mТестовая выборка\u001b[0m\n",
      "Размер: (1761, 23)\n",
      "Доля от исходного датасета: 25.0 %\n",
      "\n"
     ]
    }
   ],
   "source": [
    "random_state = 12345\n",
    "\n",
    "train, test = train_test_split(df, test_size = 0.25, random_state=random_state)\n",
    "\n",
    "df_list = [train, test]\n",
    "df_names = ['Обучающая выборка', 'Тестовая выборка']\n",
    "for i in range(len(df_list)):\n",
    "    print('\\033[1m' + df_names[i] + '\\033[0m')\n",
    "    print('Размер:', df_list[i].shape)\n",
    "    print('Доля от исходного датасета:', round(len(df_list[i]) / len(df) * 100, 2), '%')\n",
    "    print('')"
   ]
  },
  {
   "cell_type": "markdown",
   "metadata": {
    "id": "yb_zK2I-gpEy"
   },
   "source": [
    "Обучающая и тестовая выборка сформированы, теперь выделим в них целевой признак и сформируем признаки."
   ]
  },
  {
   "cell_type": "code",
   "execution_count": 35,
   "metadata": {
    "id": "NIxm4aIGXBMc"
   },
   "outputs": [],
   "source": [
    "features_train = train.drop(['ClientOut'], axis=1)\n",
    "target_train = train['ClientOut']\n",
    "   \n",
    "features_test = test.drop(['ClientOut'], axis=1)\n",
    "target_test = test['ClientOut']"
   ]
  },
  {
   "cell_type": "markdown",
   "metadata": {
    "id": "ih_D-iffgvXt"
   },
   "source": [
    "Признаки сформированы, теперь переходим к обучению и тестированию моделей.\n",
    "\n",
    "# 3.3. Тестирование моделей.\n",
    "\n",
    "Для этого напишем функцию, которая на входе будет принимать наименование модели и набор гиперпараметров, а внутри с помощью GridSearchCV определит наиболее оптимальный набор гиперпараметров, обучит и проверит модель на Accuracy Score/Precision/Recall/F1 и рассчитает ROC-AUC метрику.\n",
    "\n",
    "В качестве моделей будут использованы:\n",
    "- **Логистическая регрессия**\n",
    "- **Случайный лес**\n",
    "- **CatBoost**\n",
    "- **XGBoost**\n",
    "- **LGBM**"
   ]
  },
  {
   "cell_type": "code",
   "execution_count": 36,
   "metadata": {
    "id": "e61wBVYXjCq7"
   },
   "outputs": [],
   "source": [
    "fpr_list = []\n",
    "tpr_list = []\n",
    "model_name_list = []\n",
    "def model_testing(model_name, parametrs):\n",
    "    \n",
    "    rocauc = make_scorer(roc_auc_score, greater_is_better=True, needs_threshold=True)\n",
    "    \n",
    "    model = model_name()\n",
    "\n",
    "    grid = GridSearchCV(model, parametrs, cv=5, scoring=rocauc)\n",
    "    grid.fit(features_train, target_train)\n",
    "    \n",
    "    test_model = model_name(**grid.best_params_, random_state=random_state)\n",
    "    test_model.fit(features_train, target_train)\n",
    "\n",
    "    model_train_predictions = test_model.predict(features_train)\n",
    "    model_test_predictions = test_model.predict(features_test)\n",
    "\n",
    "    train_accuracy_score = accuracy_score(target_train, model_train_predictions)\n",
    "    valid_accuracy_score = accuracy_score(target_test, model_test_predictions)\n",
    "    precision = precision_score(target_test, model_test_predictions)\n",
    "    recall = recall_score(target_test, model_test_predictions)\n",
    "    f1 = f1_score(target_test, model_test_predictions)\n",
    "    \n",
    "    probabilities = test_model.predict_proba(features_test)\n",
    "    probabilities_one = probabilities[:,1]\n",
    "    auc_roc = roc_auc_score(target_test, probabilities_one)\n",
    "    fpr, tpr, thresholds = roc_curve(target_test, probabilities_one)\n",
    "    \n",
    "    fpr_list.append(fpr)\n",
    "    tpr_list.append(tpr)\n",
    "    model_name_list.append(type(test_model).__name__)\n",
    "    \n",
    "    if type(test_model).__name__ == 'RandomForestClassifier' \\\n",
    "    or type(test_model).__name__ == 'LGBMClassifier':\n",
    "        plt.figure(figsize=(7, 7), dpi=100)\n",
    "        plt.barh(features_train.columns, test_model.feature_importances_,\n",
    "                 color='green',\n",
    "                 alpha=0.7,\n",
    "                 edgecolor='black')\n",
    "        plt.show()\n",
    "    elif type(test_model).__name__ == 'CatBoostClassifier':\n",
    "        feature_import = test_model.get_feature_importance(Pool(features_train, target_train), prettified = True)\n",
    "        plt.figure(figsize=(7, 7), dpi=100)\n",
    "        plt.barh(feature_import['Feature Id'],feature_import['Importances'],\n",
    "                 color='green',\n",
    "                 alpha=0.7,\n",
    "                 edgecolor='black')\n",
    "        plt.show()\n",
    "    print('Результаты модели \"'+ '\\033[1m' + type(test_model).__name__ + '\\033[0m' +'\":')\n",
    "    print('AUC-ROC - ', round(auc_roc, 3))\n",
    "    print('F1-мера -', round(f1, 3))\n",
    "    print('Точность -', round(precision, 3))\n",
    "    print('Полнота -', round(recall, 3))\n",
    "    print('Accuracy Score на обучающей выборке - ', round(train_accuracy_score, 3))\n",
    "    print('Accuracy Score на валидационной выборке - ', round(valid_accuracy_score, 3))\n",
    "    print('Параметры модели:')\n",
    "    print(grid.best_params_)"
   ]
  },
  {
   "cell_type": "markdown",
   "metadata": {
    "id": "dAqpuy-nhDR5"
   },
   "source": [
    "Функция подготовлена, начнем тестирование с модели линейной регресии. \n",
    "### 3.3.1. Логистическая регрессия"
   ]
  },
  {
   "cell_type": "code",
   "execution_count": 37,
   "metadata": {
    "colab": {
     "base_uri": "https://localhost:8080/"
    },
    "id": "FZGqzUwjnHcz",
    "outputId": "c7f9470b-a4dc-4cf3-e76b-1e4d9189d90c"
   },
   "outputs": [
    {
     "name": "stdout",
     "output_type": "stream",
     "text": [
      "Результаты модели \"\u001b[1mLogisticRegression\u001b[0m\":\n",
      "AUC-ROC -  0.842\n",
      "F1-мера - 0.63\n",
      "Точность - 0.518\n",
      "Полнота - 0.804\n",
      "Accuracy Score на обучающей выборке -  0.754\n",
      "Accuracy Score на валидационной выборке -  0.746\n",
      "Параметры модели:\n",
      "{'C': 2, 'class_weight': 'balanced', 'intercept_scaling': 6.0, 'solver': 'liblinear'}\n",
      "CPU times: user 8.49 s, sys: 6.42 s, total: 14.9 s\n",
      "Wall time: 14.9 s\n"
     ]
    }
   ],
   "source": [
    "%%time\n",
    "parametrs = {'solver': ['liblinear'],\n",
    "             'intercept_scaling': [4.0, 4.5, 5.0, 5.5, 6.0],\n",
    "             'class_weight': ['balanced'],\n",
    "             'C': [1.5, 1.75, 2]}\n",
    "model_testing(LogisticRegression, parametrs)"
   ]
  },
  {
   "cell_type": "markdown",
   "metadata": {
    "id": "xNf2c0rihhR7"
   },
   "source": [
    "Для максимально простой модели - логистическая регрессия показала достаточно хорошие результаты - 0.837 по метрике ROC-AUC, однако значения Accuracy Score хромают, переходим к модели случайного леса."
   ]
  },
  {
   "cell_type": "markdown",
   "metadata": {
    "id": "9BwrNkG7pQof"
   },
   "source": [
    "### 3.3.2. Случайный лес"
   ]
  },
  {
   "cell_type": "code",
   "execution_count": 38,
   "metadata": {
    "colab": {
     "base_uri": "https://localhost:8080/"
    },
    "id": "ZI3_wVPQjK7I",
    "outputId": "df4421be-c776-4ffe-b246-dd72d23e2c11"
   },
   "outputs": [
    {
     "data": {
      "image/png": "[encoded data removed]",
      "text/plain": [
       "<Figure size 700x700 with 1 Axes>"
      ]
     },
     "metadata": {
      "needs_background": "light"
     },
     "output_type": "display_data"
    },
    {
     "name": "stdout",
     "output_type": "stream",
     "text": [
      "Результаты модели \"\u001b[1mRandomForestClassifier\u001b[0m\":\n",
      "AUC-ROC -  0.868\n",
      "F1-мера - 0.616\n",
      "Точность - 0.729\n",
      "Полнота - 0.534\n",
      "Accuracy Score на обучающей выборке -  0.866\n",
      "Accuracy Score на валидационной выборке -  0.821\n",
      "Параметры модели:\n",
      "{'max_depth': 20, 'min_samples_leaf': 7, 'min_samples_split': 7, 'n_estimators': 40}\n",
      "CPU times: user 1min 18s, sys: 478 ms, total: 1min 19s\n",
      "Wall time: 1min 19s\n"
     ]
    }
   ],
   "source": [
    "%%time\n",
    "parametrs = {'max_depth': range (20, 30, 5),\n",
    "             'min_samples_leaf': range (5, 8),\n",
    "             'min_samples_split': range (5, 8),\n",
    "             'n_estimators': range (30, 50, 5)}\n",
    "model_testing(RandomForestClassifier, parametrs)"
   ]
  },
  {
   "cell_type": "markdown",
   "metadata": {
    "id": "21SL4bQuhq9c"
   },
   "source": [
    "Случайный лес как по метрике ROC-AUC так и по Accuracy Score работает слегка лучше чем логистическая регрессия, однако временные затраты у данной модели куда больше чем у логистической регрессии. Переходим к CatBoost Classifier"
   ]
  },
  {
   "cell_type": "markdown",
   "metadata": {
    "id": "THvzJWmRpSqn"
   },
   "source": [
    "### 3.3.3. CatBoost Classifier"
   ]
  },
  {
   "cell_type": "code",
   "execution_count": 39,
   "metadata": {
    "colab": {
     "base_uri": "https://localhost:8080/"
    },
    "id": "zO6AuiTWpryK",
    "outputId": "4106425e-9a26-4221-a171-5417e3180d13"
   },
   "outputs": [
    {
     "data": {
      "image/png": "[encoded data removed]",
      "text/plain": [
       "<Figure size 700x700 with 1 Axes>"
      ]
     },
     "metadata": {
      "needs_background": "light"
     },
     "output_type": "display_data"
    },
    {
     "name": "stdout",
     "output_type": "stream",
     "text": [
      "Результаты модели \"\u001b[1mCatBoostClassifier\u001b[0m\":\n",
      "AUC-ROC -  0.918\n",
      "F1-мера - 0.73\n",
      "Точность - 0.847\n",
      "Полнота - 0.641\n",
      "Accuracy Score на обучающей выборке -  0.898\n",
      "Accuracy Score на валидационной выборке -  0.872\n",
      "Параметры модели:\n",
      "{'eval_metric': 'AUC', 'iterations': 200, 'logging_level': 'Silent', 'loss_function': 'Logloss', 'max_depth': 4}\n",
      "CPU times: user 1min 12s, sys: 11.9 s, total: 1min 24s\n",
      "Wall time: 1min 50s\n"
     ]
    }
   ],
   "source": [
    "%%time\n",
    "parametrs = {'max_depth' : [4], \n",
    "             'loss_function' : ['Logloss'], \n",
    "             'eval_metric' : ['AUC'], \n",
    "             'logging_level' : ['Silent'], \n",
    "             'iterations' : [175, 200, 225]}\n",
    "model_testing(CatBoostClassifier, parametrs)"
   ]
  },
  {
   "cell_type": "markdown",
   "metadata": {
    "id": "AQMRQDSAh4xo"
   },
   "source": [
    "На данный момент CatBoost показывает наилучшие результаты по метрике ROC-AUC - 0.902, однако Accuracy Score и временные затраты меньше чем у случайного леса, переходим к XGBoost "
   ]
  },
  {
   "cell_type": "markdown",
   "metadata": {
    "id": "Y6q0CAsNpUCD"
   },
   "source": [
    "### 3.3.4. XGBoost Classifier"
   ]
  },
  {
   "cell_type": "code",
   "execution_count": 40,
   "metadata": {
    "colab": {
     "base_uri": "https://localhost:8080/"
    },
    "id": "9P4OPuH8pvKd",
    "outputId": "444b49dc-4f67-4b75-f27d-d0096ece6154"
   },
   "outputs": [
    {
     "name": "stdout",
     "output_type": "stream",
     "text": [
      "Результаты модели \"\u001b[1mXGBClassifier\u001b[0m\":\n",
      "AUC-ROC -  0.888\n",
      "F1-мера - 0.674\n",
      "Точность - 0.763\n",
      "Полнота - 0.603\n",
      "Accuracy Score на обучающей выборке -  0.994\n",
      "Accuracy Score на валидационной выборке -  0.843\n",
      "Параметры модели:\n",
      "{'max_depth': 20, 'n_estimators': 70, 'scale_pos_weight': 1, 'silent': True}\n",
      "CPU times: user 3min 19s, sys: 685 ms, total: 3min 20s\n",
      "Wall time: 3min 21s\n"
     ]
    }
   ],
   "source": [
    "%%time\n",
    "parametrs = {'n_estimators': range(40, 80, 10), \n",
    "             'max_depth': range(20, 50, 5), \n",
    "             'silent' : [True],\n",
    "             'scale_pos_weight': [1]}\n",
    "model_testing(xgb.XGBClassifier, parametrs)"
   ]
  },
  {
   "cell_type": "markdown",
   "metadata": {
    "id": "9wly8mNCiJIL"
   },
   "source": [
    "На валидационной выборке XGBoost показывает наилучшие результаты по Accuracy Score, ROC-AUC метрика слегка меньше чем у CatBoost, однако временные затраты оказались в несколько раз больше того же CatBoostа. Переходим к последней модели - LGBM Classifier."
   ]
  },
  {
   "cell_type": "markdown",
   "metadata": {
    "id": "VGsGXVx4pXLQ"
   },
   "source": [
    "### 3.3.5. LGBM Classifier"
   ]
  },
  {
   "cell_type": "code",
   "execution_count": 41,
   "metadata": {
    "colab": {
     "base_uri": "https://localhost:8080/"
    },
    "id": "u-xCg4cOppbY",
    "outputId": "3004d480-90f6-40db-d5ed-294a030e40a6"
   },
   "outputs": [
    {
     "data": {
      "image/png": "[encoded data removed]",
      "text/plain": [
       "<Figure size 700x700 with 1 Axes>"
      ]
     },
     "metadata": {
      "needs_background": "light"
     },
     "output_type": "display_data"
    },
    {
     "name": "stdout",
     "output_type": "stream",
     "text": [
      "Результаты модели \"\u001b[1mLGBMClassifier\u001b[0m\":\n",
      "AUC-ROC -  0.905\n",
      "F1-мера - 0.711\n",
      "Точность - 0.805\n",
      "Полнота - 0.637\n",
      "Accuracy Score на обучающей выборке -  0.92\n",
      "Accuracy Score на валидационной выборке -  0.861\n",
      "Параметры модели:\n",
      "{'learning_rate': 0.1, 'max_depth': 9}\n",
      "CPU times: user 15.1 s, sys: 508 ms, total: 15.7 s\n",
      "Wall time: 15.7 s\n"
     ]
    }
   ],
   "source": [
    "%%time\n",
    "parametrs = {'max_depth': range(1, 10, 2),\n",
    "            'learning_rate' : [0.01, 0.05, 0.1]}\n",
    "model_testing(LGBMClassifier, parametrs)"
   ]
  },
  {
   "cell_type": "markdown",
   "metadata": {
    "id": "n96lczHqiY3l"
   },
   "source": [
    "LGBM показал достаточно крепкие результаты наравне с CatBoost и LGBM, лучший Accuracy Score на валидационной выборке, и второе место по ROC-AUC метрике.\n",
    "\n",
    "Теперь когда все модели прошли тестирование, построим график ROC-кривой и выведем окончательные выводы."
   ]
  },
  {
   "cell_type": "code",
   "execution_count": 42,
   "metadata": {
    "colab": {
     "base_uri": "https://localhost:8080/",
     "height": 530
    },
    "id": "E7TzU_T2nMwi",
    "outputId": "d166fb27-6cac-40c5-dbfa-e5e9b07a1f0e"
   },
   "outputs": [
    {
     "data": {
      "text/plain": [
       "<Figure size 432x288 with 0 Axes>"
      ]
     },
     "metadata": {},
     "output_type": "display_data"
    },
    {
     "data": {
      "image/png": "[encoded data removed]",
      "text/plain": [
       "<Figure size 1152x576 with 1 Axes>"
      ]
     },
     "metadata": {
      "needs_background": "light"
     },
     "output_type": "display_data"
    }
   ],
   "source": [
    "plt.figure()\n",
    "plt.figure(figsize=(16,8))\n",
    "plt.plot([0, 1], [0, 1], linestyle='--', label='Случайная модель')\n",
    "plt.xlim([0.0, 1.0])\n",
    "plt.ylim([0.0, 1.0])\n",
    "for i in range(len(fpr_list)):\n",
    "    plt.plot(fpr_list[i], tpr_list[i], label=model_name_list[i])\n",
    "plt.xlabel('False Positive Rate')\n",
    "plt.ylabel('True Positive Rate')\n",
    "plt.title('ROC-кривая')\n",
    "plt.legend(loc= 'upper left') \n",
    "plt.show()"
   ]
  },
  {
   "cell_type": "markdown",
   "metadata": {
    "id": "FqRq8NKAirH4"
   },
   "source": [
    "По результатам тестирования **наилучшие показатели по метрикам ROC-AUC и Accuracy Score показала модель LGBM Classifier** - 0.905 и 0.861 на тестовой выборке. По соотношению метрик и временных затрат лучший результат также дает модель LGBM Classifier. Результаты оставшихся моделей следующие:\n",
    "\n",
    "- **Логистическая регрессия:**\n",
    "    - ROC-AUC - 0.842\n",
    "    - Accuracy Score - 0.754\n",
    "    - Затрачиваемое время - 4 секунды\n",
    "- **Случайный лес:**\n",
    "    - ROC-AUC - 0.866\n",
    "    - Accuracy Score - 0.823\n",
    "    - Затрачиваемое время - 1 минута\n",
    "- **CatBoost Classifier:**\n",
    "    - ROC-AUC - 0.918\n",
    "    - Accuracy Score - 0.872\n",
    "    - Затрачиваемое время - 10 секунд\n",
    "- **XGBoost Classifier:**\n",
    "    - ROC-AUC - 0.888\n",
    "    - Accuracy Score - 0.843\n",
    "    - Затрачиваемое время - 2 минуты и 30 секунд."
   ]
  },
  {
   "cell_type": "markdown",
   "metadata": {
    "id": "aLB1vl2Mio3G"
   },
   "source": [
    "# 4. Итоговый вывод\n",
    "\n",
    "По результатам проведенного анализа датасета и работы моделей мы можем сделать следующие выводы:\n",
    "\n",
    "- **В среднем около 30-35% клиентов пользуются дополнительными услугами**\n",
    "- **Тип договора у 55% клиентов ежемесячный**, оставшаяся доля клиентов заключает договор либо на один год, либо на два.\n",
    "- **С 2019 года наблюдается повышенный прирост новых клиентов**\n",
    "- **Большая часть клиентов платит минимальную сумму по договору**\n",
    "- **Наибольшую корреляцию с целевым признаком имеют следующие показатели**:\n",
    "    - Тип договора\n",
    "    - Продолжительность договора с момента заключения\n",
    "    - Размер выплат по договору\n",
    "    - Подключение к интернету\n",
    "    - Дополнительные услуги (за исключением стримингового ТВ, каталога фильмов и подключения антивируса)\n",
    "- **В качестве основной рабочей модели предлагается модель LGBM Classifier** с результатами по метрикам ROC-AUC и Accuracy Score - 0.897 и 0.854, соответственно. По временным затратам эта модель также является наиболее оптимальной."
   ]
  }
 ],
 "metadata": {
  "ExecuteTimeLog": [
   {
    "duration": 67992,
    "start_time": "2021-09-26T11:00:35.997Z"
   },
   {
    "duration": 1262,
    "start_time": "2021-09-26T11:01:43.991Z"
   },
   {
    "duration": 4262,
    "start_time": "2021-09-26T11:01:45.256Z"
   },
   {
    "duration": 102,
    "start_time": "2021-09-26T11:02:36.821Z"
   },
   {
    "duration": 3,
    "start_time": "2021-09-26T11:11:50.754Z"
   },
   {
    "duration": 83,
    "start_time": "2021-09-26T11:11:51.780Z"
   },
   {
    "duration": 63,
    "start_time": "2021-09-26T11:11:52.650Z"
   },
   {
    "duration": 12,
    "start_time": "2021-09-26T11:12:41.661Z"
   },
   {
    "duration": 34,
    "start_time": "2021-09-26T11:13:06.812Z"
   },
   {
    "duration": 21,
    "start_time": "2021-09-26T11:13:51.295Z"
   },
   {
    "duration": 6,
    "start_time": "2021-09-26T11:15:53.928Z"
   },
   {
    "duration": 123,
    "start_time": "2021-09-26T11:15:54.969Z"
   },
   {
    "duration": 118,
    "start_time": "2021-09-26T11:15:56.288Z"
   },
   {
    "duration": 120,
    "start_time": "2021-09-26T11:15:57.138Z"
   },
   {
    "duration": 140,
    "start_time": "2021-09-26T11:15:57.456Z"
   },
   {
    "duration": 215,
    "start_time": "2021-09-26T11:15:57.952Z"
   },
   {
    "duration": 152,
    "start_time": "2021-09-26T11:15:58.300Z"
   },
   {
    "duration": 133,
    "start_time": "2021-09-26T11:15:58.844Z"
   },
   {
    "duration": 123,
    "start_time": "2021-09-26T11:15:59.381Z"
   },
   {
    "duration": 129,
    "start_time": "2021-09-26T11:15:59.738Z"
   },
   {
    "duration": 122,
    "start_time": "2021-09-26T11:16:00.088Z"
   },
   {
    "duration": 126,
    "start_time": "2021-09-26T11:16:00.407Z"
   },
   {
    "duration": 125,
    "start_time": "2021-09-26T11:16:00.781Z"
   },
   {
    "duration": 229,
    "start_time": "2021-09-26T11:16:01.160Z"
   },
   {
    "duration": 308,
    "start_time": "2021-09-26T11:16:01.857Z"
   },
   {
    "duration": 399,
    "start_time": "2021-09-26T11:16:02.203Z"
   },
   {
    "duration": 140,
    "start_time": "2021-09-26T11:16:02.604Z"
   },
   {
    "duration": 130,
    "start_time": "2021-09-26T11:16:02.896Z"
   },
   {
    "duration": 794,
    "start_time": "2021-09-26T11:16:03.252Z"
   },
   {
    "duration": 479,
    "start_time": "2021-09-26T11:16:03.569Z"
   },
   {
    "duration": 38,
    "start_time": "2021-09-26T11:19:46.222Z"
   },
   {
    "duration": 9,
    "start_time": "2021-09-26T11:19:47.871Z"
   },
   {
    "duration": 35,
    "start_time": "2021-09-26T11:19:48.737Z"
   },
   {
    "duration": 7348,
    "start_time": "2021-09-26T11:20:38.082Z"
   },
   {
    "duration": 6733,
    "start_time": "2021-09-26T11:21:23.341Z"
   },
   {
    "duration": 102,
    "start_time": "2021-09-26T11:21:52.695Z"
   },
   {
    "duration": 4,
    "start_time": "2021-09-26T11:21:53.567Z"
   },
   {
    "duration": 69,
    "start_time": "2021-09-26T11:21:53.880Z"
   },
   {
    "duration": 62,
    "start_time": "2021-09-26T11:21:54.152Z"
   },
   {
    "duration": 11,
    "start_time": "2021-09-26T11:21:54.759Z"
   },
   {
    "duration": 30,
    "start_time": "2021-09-26T11:21:55.197Z"
   },
   {
    "duration": 15,
    "start_time": "2021-09-26T11:21:55.350Z"
   },
   {
    "duration": 20,
    "start_time": "2021-09-26T11:21:55.508Z"
   },
   {
    "duration": 6,
    "start_time": "2021-09-26T11:21:55.976Z"
   },
   {
    "duration": 131,
    "start_time": "2021-09-26T11:21:56.324Z"
   },
   {
    "duration": 114,
    "start_time": "2021-09-26T11:21:57.375Z"
   },
   {
    "duration": 115,
    "start_time": "2021-09-26T11:21:57.694Z"
   },
   {
    "duration": 146,
    "start_time": "2021-09-26T11:21:58.005Z"
   },
   {
    "duration": 143,
    "start_time": "2021-09-26T11:21:58.297Z"
   },
   {
    "duration": 167,
    "start_time": "2021-09-26T11:21:58.607Z"
   },
   {
    "duration": 126,
    "start_time": "2021-09-26T11:21:59.345Z"
   },
   {
    "duration": 131,
    "start_time": "2021-09-26T11:21:59.870Z"
   },
   {
    "duration": 131,
    "start_time": "2021-09-26T11:22:00.212Z"
   },
   {
    "duration": 124,
    "start_time": "2021-09-26T11:22:00.566Z"
   },
   {
    "duration": 134,
    "start_time": "2021-09-26T11:22:00.873Z"
   },
   {
    "duration": 239,
    "start_time": "2021-09-26T11:22:01.198Z"
   },
   {
    "duration": 231,
    "start_time": "2021-09-26T11:22:01.786Z"
   },
   {
    "duration": 314,
    "start_time": "2021-09-26T11:22:02.271Z"
   },
   {
    "duration": 311,
    "start_time": "2021-09-26T11:22:02.640Z"
   },
   {
    "duration": 126,
    "start_time": "2021-09-26T11:22:02.956Z"
   },
   {
    "duration": 135,
    "start_time": "2021-09-26T11:22:03.273Z"
   },
   {
    "duration": 730,
    "start_time": "2021-09-26T11:22:05.277Z"
   },
   {
    "duration": 35,
    "start_time": "2021-09-26T11:23:01.794Z"
   },
   {
    "duration": 10,
    "start_time": "2021-09-26T11:23:02.658Z"
   },
   {
    "duration": 28,
    "start_time": "2021-09-26T11:23:03.827Z"
   },
   {
    "duration": 516,
    "start_time": "2021-09-26T11:23:04.573Z"
   },
   {
    "duration": 11,
    "start_time": "2021-09-26T11:23:06.850Z"
   },
   {
    "duration": 7,
    "start_time": "2021-09-26T11:23:07.476Z"
   },
   {
    "duration": 8,
    "start_time": "2021-09-26T11:23:08.389Z"
   },
   {
    "duration": 15261,
    "start_time": "2021-09-26T11:23:09.397Z"
   },
   {
    "duration": 48077,
    "start_time": "2021-09-26T11:23:24.751Z"
   },
   {
    "duration": 3117,
    "start_time": "2021-09-26T11:24:12.830Z"
   },
   {
    "duration": 121530,
    "start_time": "2021-09-26T11:24:15.949Z"
   },
   {
    "duration": 8914,
    "start_time": "2021-09-26T11:26:17.481Z"
   },
   {
    "duration": 318,
    "start_time": "2021-09-26T11:26:26.397Z"
   },
   {
    "duration": 3907,
    "start_time": "2021-09-26T11:41:38.814Z"
   },
   {
    "duration": 1722,
    "start_time": "2021-09-26T11:41:42.724Z"
   },
   {
    "duration": 105,
    "start_time": "2021-09-26T11:41:44.449Z"
   },
   {
    "duration": 4,
    "start_time": "2021-09-26T11:41:44.557Z"
   },
   {
    "duration": 160,
    "start_time": "2021-09-26T11:41:44.563Z"
   },
   {
    "duration": 158,
    "start_time": "2021-09-26T11:41:44.726Z"
   },
   {
    "duration": 16,
    "start_time": "2021-09-26T11:41:44.888Z"
   },
   {
    "duration": 9385,
    "start_time": "2021-09-26T11:42:03.107Z"
   },
   {
    "duration": 52,
    "start_time": "2021-09-26T11:42:23.480Z"
   },
   {
    "duration": 18,
    "start_time": "2021-09-26T11:44:05.439Z"
   },
   {
    "duration": 293,
    "start_time": "2021-09-26T11:45:14.437Z"
   },
   {
    "duration": 405,
    "start_time": "2021-09-26T11:45:50.549Z"
   },
   {
    "duration": 3473,
    "start_time": "2021-09-26T11:46:52.027Z"
   },
   {
    "duration": 9,
    "start_time": "2021-09-26T11:46:55.504Z"
   },
   {
    "duration": 108,
    "start_time": "2021-09-26T11:46:55.516Z"
   },
   {
    "duration": 6,
    "start_time": "2021-09-26T11:46:55.627Z"
   },
   {
    "duration": 158,
    "start_time": "2021-09-26T11:46:55.636Z"
   },
   {
    "duration": 121,
    "start_time": "2021-09-26T11:46:55.797Z"
   },
   {
    "duration": 16,
    "start_time": "2021-09-26T11:46:55.920Z"
   },
   {
    "duration": 48,
    "start_time": "2021-09-26T11:46:59.989Z"
   },
   {
    "duration": 24,
    "start_time": "2021-09-26T11:47:04.064Z"
   },
   {
    "duration": 53,
    "start_time": "2021-09-26T11:47:09.999Z"
   },
   {
    "duration": 10,
    "start_time": "2021-09-26T11:47:16.115Z"
   },
   {
    "duration": 226,
    "start_time": "2021-09-26T11:47:17.598Z"
   },
   {
    "duration": 210,
    "start_time": "2021-09-26T11:47:19.376Z"
   },
   {
    "duration": 181,
    "start_time": "2021-09-26T11:47:21.010Z"
   },
   {
    "duration": 235,
    "start_time": "2021-09-26T11:47:22.629Z"
   },
   {
    "duration": 340,
    "start_time": "2021-09-26T11:47:24.259Z"
   },
   {
    "duration": 393,
    "start_time": "2021-09-26T11:47:25.724Z"
   },
   {
    "duration": 302,
    "start_time": "2021-09-26T11:47:27.243Z"
   },
   {
    "duration": 222,
    "start_time": "2021-09-26T11:47:31.343Z"
   },
   {
    "duration": 218,
    "start_time": "2021-09-26T11:47:33.082Z"
   },
   {
    "duration": 235,
    "start_time": "2021-09-26T11:47:34.664Z"
   },
   {
    "duration": 231,
    "start_time": "2021-09-26T11:47:37.210Z"
   },
   {
    "duration": 246,
    "start_time": "2021-09-26T11:47:39.551Z"
   },
   {
    "duration": 565,
    "start_time": "2021-09-26T11:47:41.593Z"
   },
   {
    "duration": 776,
    "start_time": "2021-09-26T11:47:45.271Z"
   },
   {
    "duration": 677,
    "start_time": "2021-09-26T11:47:47.546Z"
   },
   {
    "duration": 312,
    "start_time": "2021-09-26T11:47:49.569Z"
   },
   {
    "duration": 267,
    "start_time": "2021-09-26T11:47:51.154Z"
   },
   {
    "duration": 1159,
    "start_time": "2021-09-26T11:47:52.847Z"
   },
   {
    "duration": 24,
    "start_time": "2021-09-26T11:48:40.226Z"
   },
   {
    "duration": 313,
    "start_time": "2021-09-26T11:49:02.009Z"
   },
   {
    "duration": 1134,
    "start_time": "2021-09-26T11:49:18.937Z"
   },
   {
    "duration": 369,
    "start_time": "2021-09-26T11:49:25.843Z"
   },
   {
    "duration": 3563,
    "start_time": "2021-09-26T11:52:08.215Z"
   },
   {
    "duration": 7,
    "start_time": "2021-09-26T11:52:11.782Z"
   },
   {
    "duration": 103,
    "start_time": "2021-09-26T11:52:11.792Z"
   },
   {
    "duration": 5,
    "start_time": "2021-09-26T11:52:11.898Z"
   },
   {
    "duration": 172,
    "start_time": "2021-09-26T11:52:11.906Z"
   },
   {
    "duration": 131,
    "start_time": "2021-09-26T11:52:12.082Z"
   },
   {
    "duration": 14,
    "start_time": "2021-09-26T11:52:12.215Z"
   },
   {
    "duration": 77,
    "start_time": "2021-09-26T11:52:12.233Z"
   },
   {
    "duration": 17,
    "start_time": "2021-09-26T11:52:12.313Z"
   },
   {
    "duration": 59,
    "start_time": "2021-09-26T11:52:12.333Z"
   },
   {
    "duration": 8,
    "start_time": "2021-09-26T11:52:12.395Z"
   },
   {
    "duration": 217,
    "start_time": "2021-09-26T11:52:12.406Z"
   },
   {
    "duration": 213,
    "start_time": "2021-09-26T11:52:12.626Z"
   },
   {
    "duration": 196,
    "start_time": "2021-09-26T11:52:12.841Z"
   },
   {
    "duration": 251,
    "start_time": "2021-09-26T11:52:13.040Z"
   },
   {
    "duration": 257,
    "start_time": "2021-09-26T11:52:13.294Z"
   },
   {
    "duration": 301,
    "start_time": "2021-09-26T11:52:13.553Z"
   },
   {
    "duration": 226,
    "start_time": "2021-09-26T11:52:13.861Z"
   },
   {
    "duration": 228,
    "start_time": "2021-09-26T11:52:14.089Z"
   },
   {
    "duration": 322,
    "start_time": "2021-09-26T11:52:14.319Z"
   },
   {
    "duration": 209,
    "start_time": "2021-09-26T11:52:14.643Z"
   },
   {
    "duration": 239,
    "start_time": "2021-09-26T11:52:14.862Z"
   },
   {
    "duration": 236,
    "start_time": "2021-09-26T11:52:15.106Z"
   },
   {
    "duration": 438,
    "start_time": "2021-09-26T11:52:15.344Z"
   },
   {
    "duration": 564,
    "start_time": "2021-09-26T11:52:15.786Z"
   },
   {
    "duration": 537,
    "start_time": "2021-09-26T11:52:16.353Z"
   },
   {
    "duration": 226,
    "start_time": "2021-09-26T11:52:16.893Z"
   },
   {
    "duration": 252,
    "start_time": "2021-09-26T11:52:17.121Z"
   },
   {
    "duration": 385,
    "start_time": "2021-09-26T11:52:17.377Z"
   },
   {
    "duration": 56,
    "start_time": "2021-09-26T11:52:17.765Z"
   },
   {
    "duration": 12,
    "start_time": "2021-09-26T11:52:17.824Z"
   },
   {
    "duration": 52,
    "start_time": "2021-09-26T11:52:17.862Z"
   },
   {
    "duration": 8559,
    "start_time": "2021-09-26T11:52:20.079Z"
   },
   {
    "duration": 419,
    "start_time": "2021-09-26T11:52:56.897Z"
   },
   {
    "duration": 3,
    "start_time": "2021-09-26T11:56:22.311Z"
   },
   {
    "duration": 7,
    "start_time": "2021-09-26T11:56:22.317Z"
   },
   {
    "duration": 100,
    "start_time": "2021-09-26T11:56:22.327Z"
   },
   {
    "duration": 5,
    "start_time": "2021-09-26T11:56:22.430Z"
   },
   {
    "duration": 158,
    "start_time": "2021-09-26T11:56:22.438Z"
   },
   {
    "duration": 120,
    "start_time": "2021-09-26T11:56:22.598Z"
   },
   {
    "duration": 40,
    "start_time": "2021-09-26T11:56:22.722Z"
   },
   {
    "duration": 48,
    "start_time": "2021-09-26T11:56:22.766Z"
   },
   {
    "duration": 16,
    "start_time": "2021-09-26T11:56:22.816Z"
   },
   {
    "duration": 40,
    "start_time": "2021-09-26T11:56:22.862Z"
   },
   {
    "duration": 8,
    "start_time": "2021-09-26T11:56:22.905Z"
   },
   {
    "duration": 219,
    "start_time": "2021-09-26T11:56:22.915Z"
   },
   {
    "duration": 195,
    "start_time": "2021-09-26T11:56:23.136Z"
   },
   {
    "duration": 209,
    "start_time": "2021-09-26T11:56:23.334Z"
   },
   {
    "duration": 253,
    "start_time": "2021-09-26T11:56:23.546Z"
   },
   {
    "duration": 268,
    "start_time": "2021-09-26T11:56:23.802Z"
   },
   {
    "duration": 301,
    "start_time": "2021-09-26T11:56:24.073Z"
   },
   {
    "duration": 198,
    "start_time": "2021-09-26T11:56:24.376Z"
   },
   {
    "duration": 220,
    "start_time": "2021-09-26T11:56:24.579Z"
   },
   {
    "duration": 213,
    "start_time": "2021-09-26T11:56:24.802Z"
   },
   {
    "duration": 207,
    "start_time": "2021-09-26T11:56:25.018Z"
   },
   {
    "duration": 217,
    "start_time": "2021-09-26T11:56:25.227Z"
   },
   {
    "duration": 210,
    "start_time": "2021-09-26T11:56:25.447Z"
   },
   {
    "duration": 498,
    "start_time": "2021-09-26T11:56:25.666Z"
   },
   {
    "duration": 563,
    "start_time": "2021-09-26T11:56:26.168Z"
   },
   {
    "duration": 534,
    "start_time": "2021-09-26T11:56:26.733Z"
   },
   {
    "duration": 267,
    "start_time": "2021-09-26T11:56:27.271Z"
   },
   {
    "duration": 234,
    "start_time": "2021-09-26T11:56:27.540Z"
   },
   {
    "duration": 265,
    "start_time": "2021-09-26T11:56:27.777Z"
   },
   {
    "duration": 60,
    "start_time": "2021-09-26T11:56:28.045Z"
   },
   {
    "duration": 11,
    "start_time": "2021-09-26T11:56:28.108Z"
   },
   {
    "duration": 66,
    "start_time": "2021-09-26T11:56:28.121Z"
   },
   {
    "duration": 372,
    "start_time": "2021-09-26T11:56:28.190Z"
   },
   {
    "duration": 17,
    "start_time": "2021-09-26T11:56:28.564Z"
   },
   {
    "duration": 8,
    "start_time": "2021-09-26T11:56:28.584Z"
   },
   {
    "duration": 12,
    "start_time": "2021-09-26T11:56:28.594Z"
   },
   {
    "duration": 15256,
    "start_time": "2021-09-26T11:56:28.609Z"
   },
   {
    "duration": 77516,
    "start_time": "2021-09-26T11:56:43.868Z"
   },
   {
    "duration": 2121,
    "start_time": "2021-09-26T11:58:01.388Z"
   },
   {
    "duration": 196464,
    "start_time": "2021-09-26T11:58:03.512Z"
   },
   {
    "duration": 14650,
    "start_time": "2021-09-26T12:01:19.980Z"
   },
   {
    "duration": 537,
    "start_time": "2021-09-26T12:01:34.633Z"
   },
   {
    "duration": 14,
    "start_time": "2021-09-26T12:02:18.670Z"
   },
   {
    "duration": 15696,
    "start_time": "2021-09-26T12:02:21.535Z"
   },
   {
    "duration": 79854,
    "start_time": "2021-09-26T12:03:14.592Z"
   },
   {
    "duration": 3175,
    "start_time": "2021-09-26T12:04:34.448Z"
   },
   {
    "duration": 203382,
    "start_time": "2021-09-26T12:04:37.626Z"
   },
   {
    "duration": 14744,
    "start_time": "2021-09-26T12:08:01.011Z"
   },
   {
    "duration": 119,
    "start_time": "2021-09-26T12:08:15.761Z"
   },
   {
    "duration": 356,
    "start_time": "2021-09-26T12:08:15.527Z"
   },
   {
    "duration": 11,
    "start_time": "2021-09-26T12:12:18.659Z"
   },
   {
    "duration": 1848,
    "start_time": "2021-09-26T12:12:18.673Z"
   },
   {
    "duration": 109,
    "start_time": "2021-09-26T12:12:20.524Z"
   },
   {
    "duration": 3,
    "start_time": "2021-09-26T12:12:20.636Z"
   },
   {
    "duration": 178,
    "start_time": "2021-09-26T12:12:20.642Z"
   },
   {
    "duration": 152,
    "start_time": "2021-09-26T12:12:20.823Z"
   },
   {
    "duration": 36,
    "start_time": "2021-09-26T12:12:20.979Z"
   },
   {
    "duration": 59,
    "start_time": "2021-09-26T12:12:21.019Z"
   },
   {
    "duration": 24,
    "start_time": "2021-09-26T12:12:21.082Z"
   },
   {
    "duration": 64,
    "start_time": "2021-09-26T12:12:21.109Z"
   },
   {
    "duration": 13,
    "start_time": "2021-09-26T12:12:21.176Z"
   },
   {
    "duration": 272,
    "start_time": "2021-09-26T12:12:21.193Z"
   },
   {
    "duration": 224,
    "start_time": "2021-09-26T12:12:21.469Z"
   },
   {
    "duration": 249,
    "start_time": "2021-09-26T12:12:21.696Z"
   },
   {
    "duration": 295,
    "start_time": "2021-09-26T12:12:21.947Z"
   },
   {
    "duration": 421,
    "start_time": "2021-09-26T12:12:22.244Z"
   },
   {
    "duration": 287,
    "start_time": "2021-09-26T12:12:22.669Z"
   },
   {
    "duration": 215,
    "start_time": "2021-09-26T12:12:22.958Z"
   },
   {
    "duration": 245,
    "start_time": "2021-09-26T12:12:23.185Z"
   },
   {
    "duration": 287,
    "start_time": "2021-09-26T12:12:23.432Z"
   },
   {
    "duration": 265,
    "start_time": "2021-09-26T12:12:23.721Z"
   },
   {
    "duration": 254,
    "start_time": "2021-09-26T12:12:23.990Z"
   },
   {
    "duration": 238,
    "start_time": "2021-09-26T12:12:24.252Z"
   },
   {
    "duration": 480,
    "start_time": "2021-09-26T12:12:24.492Z"
   },
   {
    "duration": 663,
    "start_time": "2021-09-26T12:12:24.976Z"
   },
   {
    "duration": 789,
    "start_time": "2021-09-26T12:12:25.641Z"
   },
   {
    "duration": 263,
    "start_time": "2021-09-26T12:12:26.433Z"
   },
   {
    "duration": 233,
    "start_time": "2021-09-26T12:12:26.702Z"
   },
   {
    "duration": 307,
    "start_time": "2021-09-26T12:12:26.938Z"
   },
   {
    "duration": 91,
    "start_time": "2021-09-26T12:12:27.248Z"
   },
   {
    "duration": 30,
    "start_time": "2021-09-26T12:12:27.341Z"
   },
   {
    "duration": 65,
    "start_time": "2021-09-26T12:12:27.375Z"
   },
   {
    "duration": 452,
    "start_time": "2021-09-26T12:12:27.443Z"
   },
   {
    "duration": 14,
    "start_time": "2021-09-26T12:12:27.899Z"
   },
   {
    "duration": 9,
    "start_time": "2021-09-26T12:12:27.916Z"
   },
   {
    "duration": 117,
    "start_time": "2021-09-26T12:12:27.927Z"
   },
   {
    "duration": 356,
    "start_time": "2021-09-26T12:12:27.691Z"
   },
   {
    "duration": 351,
    "start_time": "2021-09-26T12:12:27.697Z"
   },
   {
    "duration": 346,
    "start_time": "2021-09-26T12:12:27.703Z"
   },
   {
    "duration": 340,
    "start_time": "2021-09-26T12:12:27.711Z"
   },
   {
    "duration": 336,
    "start_time": "2021-09-26T12:12:27.716Z"
   },
   {
    "duration": 333,
    "start_time": "2021-09-26T12:12:27.721Z"
   },
   {
    "duration": 374,
    "start_time": "2021-09-26T12:12:41.550Z"
   },
   {
    "duration": 21,
    "start_time": "2021-09-26T12:12:59.554Z"
   },
   {
    "duration": 15427,
    "start_time": "2021-09-26T12:13:01.058Z"
   },
   {
    "duration": 92923,
    "start_time": "2021-09-26T12:13:16.561Z"
   },
   {
    "duration": 108528,
    "start_time": "2021-09-26T12:14:49.489Z"
   },
   {
    "duration": 184442,
    "start_time": "2021-09-26T12:16:38.020Z"
   },
   {
    "duration": 12,
    "start_time": "2021-09-26T12:20:01.592Z"
   },
   {
    "duration": 1624,
    "start_time": "2021-09-26T12:20:01.608Z"
   },
   {
    "duration": 109,
    "start_time": "2021-09-26T12:20:03.236Z"
   },
   {
    "duration": 4,
    "start_time": "2021-09-26T12:20:03.349Z"
   },
   {
    "duration": 160,
    "start_time": "2021-09-26T12:20:03.356Z"
   },
   {
    "duration": 124,
    "start_time": "2021-09-26T12:20:03.519Z"
   },
   {
    "duration": 29,
    "start_time": "2021-09-26T12:20:03.646Z"
   },
   {
    "duration": 61,
    "start_time": "2021-09-26T12:20:03.679Z"
   },
   {
    "duration": 43,
    "start_time": "2021-09-26T12:20:03.743Z"
   },
   {
    "duration": 40,
    "start_time": "2021-09-26T12:20:03.790Z"
   },
   {
    "duration": 9,
    "start_time": "2021-09-26T12:20:03.832Z"
   },
   {
    "duration": 255,
    "start_time": "2021-09-26T12:20:03.862Z"
   },
   {
    "duration": 190,
    "start_time": "2021-09-26T12:20:04.119Z"
   },
   {
    "duration": 199,
    "start_time": "2021-09-26T12:20:04.313Z"
   },
   {
    "duration": 239,
    "start_time": "2021-09-26T12:20:04.515Z"
   },
   {
    "duration": 360,
    "start_time": "2021-09-26T12:20:04.761Z"
   },
   {
    "duration": 316,
    "start_time": "2021-09-26T12:20:05.124Z"
   },
   {
    "duration": 241,
    "start_time": "2021-09-26T12:20:05.443Z"
   },
   {
    "duration": 239,
    "start_time": "2021-09-26T12:20:05.688Z"
   },
   {
    "duration": 245,
    "start_time": "2021-09-26T12:20:05.930Z"
   },
   {
    "duration": 231,
    "start_time": "2021-09-26T12:20:06.178Z"
   },
   {
    "duration": 223,
    "start_time": "2021-09-26T12:20:06.411Z"
   },
   {
    "duration": 214,
    "start_time": "2021-09-26T12:20:06.639Z"
   },
   {
    "duration": 391,
    "start_time": "2021-09-26T12:20:06.856Z"
   },
   {
    "duration": 602,
    "start_time": "2021-09-26T12:20:07.249Z"
   },
   {
    "duration": 819,
    "start_time": "2021-09-26T12:20:07.853Z"
   },
   {
    "duration": 243,
    "start_time": "2021-09-26T12:20:08.677Z"
   },
   {
    "duration": 261,
    "start_time": "2021-09-26T12:20:08.923Z"
   },
   {
    "duration": 313,
    "start_time": "2021-09-26T12:20:09.187Z"
   },
   {
    "duration": 76,
    "start_time": "2021-09-26T12:20:09.503Z"
   },
   {
    "duration": 18,
    "start_time": "2021-09-26T12:20:09.582Z"
   },
   {
    "duration": 59,
    "start_time": "2021-09-26T12:20:09.603Z"
   },
   {
    "duration": 378,
    "start_time": "2021-09-26T12:20:09.665Z"
   },
   {
    "duration": 17,
    "start_time": "2021-09-26T12:20:10.046Z"
   },
   {
    "duration": 14,
    "start_time": "2021-09-26T12:20:10.067Z"
   },
   {
    "duration": 19,
    "start_time": "2021-09-26T12:20:10.085Z"
   },
   {
    "duration": 14771,
    "start_time": "2021-09-26T12:20:10.109Z"
   },
   {
    "duration": 90122,
    "start_time": "2021-09-26T12:20:24.885Z"
   },
   {
    "duration": 103391,
    "start_time": "2021-09-26T12:21:55.010Z"
   },
   {
    "duration": 211005,
    "start_time": "2021-09-26T12:23:38.404Z"
   },
   {
    "duration": 16480,
    "start_time": "2021-09-26T12:27:09.412Z"
   },
   {
    "duration": 521,
    "start_time": "2021-09-26T12:27:25.895Z"
   },
   {
    "duration": 14,
    "start_time": "2021-09-26T12:29:33.736Z"
   },
   {
    "duration": 19,
    "start_time": "2021-09-26T12:30:16.217Z"
   },
   {
    "duration": 15024,
    "start_time": "2021-09-26T12:30:19.166Z"
   },
   {
    "duration": 105418,
    "start_time": "2021-09-26T12:30:34.194Z"
   },
   {
    "duration": 27,
    "start_time": "2021-09-26T12:34:34.257Z"
   },
   {
    "duration": 206580,
    "start_time": "2021-09-26T12:34:39.060Z"
   },
   {
    "duration": 32,
    "start_time": "2021-09-26T12:38:05.643Z"
   },
   {
    "duration": 9,
    "start_time": "2021-09-26T12:39:57.515Z"
   },
   {
    "duration": 15,
    "start_time": "2021-09-26T12:40:08.410Z"
   },
   {
    "duration": 111792,
    "start_time": "2021-09-26T12:40:14.084Z"
   },
   {
    "duration": 15133,
    "start_time": "2021-09-26T12:42:05.879Z"
   },
   {
    "duration": 29,
    "start_time": "2021-09-26T12:43:47.667Z"
   },
   {
    "duration": 107380,
    "start_time": "2021-09-26T12:43:50.925Z"
   },
   {
    "duration": 122,
    "start_time": "2021-09-26T12:47:46.851Z"
   },
   {
    "duration": 132,
    "start_time": "2021-09-26T12:48:10.791Z"
   },
   {
    "duration": 24,
    "start_time": "2021-09-26T12:48:13.462Z"
   },
   {
    "duration": 479,
    "start_time": "2021-09-26T12:56:00.213Z"
   },
   {
    "duration": 372,
    "start_time": "2021-09-26T12:56:22.193Z"
   },
   {
    "duration": 376,
    "start_time": "2021-09-26T12:56:37.769Z"
   },
   {
    "duration": 493,
    "start_time": "2021-09-26T12:56:45.904Z"
   },
   {
    "duration": 454,
    "start_time": "2021-09-26T12:56:50.959Z"
   },
   {
    "duration": 431,
    "start_time": "2021-09-26T12:56:55.125Z"
   },
   {
    "duration": 381,
    "start_time": "2021-09-26T12:56:58.546Z"
   },
   {
    "duration": 480,
    "start_time": "2021-09-26T12:57:02.021Z"
   },
   {
    "duration": 460,
    "start_time": "2021-09-26T12:57:06.017Z"
   },
   {
    "duration": 454,
    "start_time": "2021-09-26T12:57:09.453Z"
   },
   {
    "duration": 446,
    "start_time": "2021-09-26T12:57:22.933Z"
   },
   {
    "duration": 4,
    "start_time": "2021-09-26T13:00:21.660Z"
   },
   {
    "duration": 1728,
    "start_time": "2021-09-26T13:00:21.667Z"
   },
   {
    "duration": 107,
    "start_time": "2021-09-26T13:00:23.399Z"
   },
   {
    "duration": 4,
    "start_time": "2021-09-26T13:00:23.509Z"
   },
   {
    "duration": 176,
    "start_time": "2021-09-26T13:00:23.515Z"
   },
   {
    "duration": 126,
    "start_time": "2021-09-26T13:00:23.694Z"
   },
   {
    "duration": 15,
    "start_time": "2021-09-26T13:00:23.822Z"
   },
   {
    "duration": 54,
    "start_time": "2021-09-26T13:00:23.864Z"
   },
   {
    "duration": 42,
    "start_time": "2021-09-26T13:00:23.921Z"
   },
   {
    "duration": 51,
    "start_time": "2021-09-26T13:00:23.967Z"
   },
   {
    "duration": 13,
    "start_time": "2021-09-26T13:00:24.021Z"
   },
   {
    "duration": 293,
    "start_time": "2021-09-26T13:00:24.038Z"
   },
   {
    "duration": 221,
    "start_time": "2021-09-26T13:00:24.333Z"
   },
   {
    "duration": 256,
    "start_time": "2021-09-26T13:00:24.561Z"
   },
   {
    "duration": 258,
    "start_time": "2021-09-26T13:00:24.820Z"
   },
   {
    "duration": 326,
    "start_time": "2021-09-26T13:00:25.081Z"
   },
   {
    "duration": 272,
    "start_time": "2021-09-26T13:00:25.409Z"
   },
   {
    "duration": 221,
    "start_time": "2021-09-26T13:00:25.684Z"
   },
   {
    "duration": 231,
    "start_time": "2021-09-26T13:00:25.908Z"
   },
   {
    "duration": 238,
    "start_time": "2021-09-26T13:00:26.141Z"
   },
   {
    "duration": 217,
    "start_time": "2021-09-26T13:00:26.383Z"
   },
   {
    "duration": 225,
    "start_time": "2021-09-26T13:00:26.603Z"
   },
   {
    "duration": 223,
    "start_time": "2021-09-26T13:00:26.833Z"
   },
   {
    "duration": 412,
    "start_time": "2021-09-26T13:00:27.063Z"
   },
   {
    "duration": 793,
    "start_time": "2021-09-26T13:00:27.478Z"
   },
   {
    "duration": 609,
    "start_time": "2021-09-26T13:00:28.274Z"
   },
   {
    "duration": 232,
    "start_time": "2021-09-26T13:00:28.886Z"
   },
   {
    "duration": 229,
    "start_time": "2021-09-26T13:00:29.121Z"
   },
   {
    "duration": 278,
    "start_time": "2021-09-26T13:00:29.353Z"
   },
   {
    "duration": 56,
    "start_time": "2021-09-26T13:00:29.634Z"
   },
   {
    "duration": 13,
    "start_time": "2021-09-26T13:00:29.693Z"
   },
   {
    "duration": 67,
    "start_time": "2021-09-26T13:00:29.709Z"
   },
   {
    "duration": 1152,
    "start_time": "2021-09-26T13:00:29.778Z"
   },
   {
    "duration": 429,
    "start_time": "2021-09-26T13:00:30.504Z"
   },
   {
    "duration": 426,
    "start_time": "2021-09-26T13:00:30.508Z"
   },
   {
    "duration": 424,
    "start_time": "2021-09-26T13:00:30.512Z"
   },
   {
    "duration": 420,
    "start_time": "2021-09-26T13:00:30.517Z"
   },
   {
    "duration": 418,
    "start_time": "2021-09-26T13:00:30.520Z"
   },
   {
    "duration": 417,
    "start_time": "2021-09-26T13:00:30.523Z"
   },
   {
    "duration": 415,
    "start_time": "2021-09-26T13:00:30.527Z"
   },
   {
    "duration": 411,
    "start_time": "2021-09-26T13:00:30.532Z"
   },
   {
    "duration": 407,
    "start_time": "2021-09-26T13:00:30.538Z"
   },
   {
    "duration": 444,
    "start_time": "2021-09-26T13:02:07.771Z"
   },
   {
    "duration": 4,
    "start_time": "2021-09-26T13:02:10.734Z"
   },
   {
    "duration": 8,
    "start_time": "2021-09-26T13:02:10.741Z"
   },
   {
    "duration": 120,
    "start_time": "2021-09-26T13:02:10.753Z"
   },
   {
    "duration": 5,
    "start_time": "2021-09-26T13:02:10.875Z"
   },
   {
    "duration": 185,
    "start_time": "2021-09-26T13:02:10.884Z"
   },
   {
    "duration": 119,
    "start_time": "2021-09-26T13:02:11.071Z"
   },
   {
    "duration": 16,
    "start_time": "2021-09-26T13:02:11.193Z"
   },
   {
    "duration": 94,
    "start_time": "2021-09-26T13:02:11.214Z"
   },
   {
    "duration": 18,
    "start_time": "2021-09-26T13:02:11.312Z"
   },
   {
    "duration": 69,
    "start_time": "2021-09-26T13:02:11.332Z"
   },
   {
    "duration": 11,
    "start_time": "2021-09-26T13:02:11.404Z"
   },
   {
    "duration": 234,
    "start_time": "2021-09-26T13:02:11.417Z"
   },
   {
    "duration": 215,
    "start_time": "2021-09-26T13:02:11.653Z"
   },
   {
    "duration": 229,
    "start_time": "2021-09-26T13:02:11.871Z"
   },
   {
    "duration": 282,
    "start_time": "2021-09-26T13:02:12.103Z"
   },
   {
    "duration": 279,
    "start_time": "2021-09-26T13:02:12.389Z"
   },
   {
    "duration": 308,
    "start_time": "2021-09-26T13:02:12.671Z"
   },
   {
    "duration": 222,
    "start_time": "2021-09-26T13:02:12.982Z"
   },
   {
    "duration": 217,
    "start_time": "2021-09-26T13:02:13.206Z"
   },
   {
    "duration": 211,
    "start_time": "2021-09-26T13:02:13.426Z"
   },
   {
    "duration": 307,
    "start_time": "2021-09-26T13:02:13.640Z"
   },
   {
    "duration": 214,
    "start_time": "2021-09-26T13:02:13.950Z"
   },
   {
    "duration": 309,
    "start_time": "2021-09-26T13:02:14.169Z"
   },
   {
    "duration": 659,
    "start_time": "2021-09-26T13:02:14.481Z"
   },
   {
    "duration": 552,
    "start_time": "2021-09-26T13:02:15.144Z"
   },
   {
    "duration": 699,
    "start_time": "2021-09-26T13:02:15.699Z"
   },
   {
    "duration": 312,
    "start_time": "2021-09-26T13:02:16.401Z"
   },
   {
    "duration": 275,
    "start_time": "2021-09-26T13:02:16.716Z"
   },
   {
    "duration": 279,
    "start_time": "2021-09-26T13:02:16.994Z"
   },
   {
    "duration": 54,
    "start_time": "2021-09-26T13:02:17.276Z"
   },
   {
    "duration": 40,
    "start_time": "2021-09-26T13:02:17.333Z"
   },
   {
    "duration": 47,
    "start_time": "2021-09-26T13:02:17.376Z"
   },
   {
    "duration": 585,
    "start_time": "2021-09-26T13:02:21.597Z"
   },
   {
    "duration": 428,
    "start_time": "2021-09-26T13:02:25.404Z"
   },
   {
    "duration": 26,
    "start_time": "2021-09-26T13:02:25.835Z"
   },
   {
    "duration": 12,
    "start_time": "2021-09-26T13:02:25.865Z"
   },
   {
    "duration": 15,
    "start_time": "2021-09-26T13:02:25.880Z"
   },
   {
    "duration": 15075,
    "start_time": "2021-09-26T13:02:25.898Z"
   },
   {
    "duration": 85787,
    "start_time": "2021-09-26T13:02:40.983Z"
   },
   {
    "duration": 102732,
    "start_time": "2021-09-26T13:04:06.773Z"
   },
   {
    "duration": 202619,
    "start_time": "2021-09-26T13:05:49.510Z"
   },
   {
    "duration": 15898,
    "start_time": "2021-09-26T13:09:12.132Z"
   },
   {
    "duration": 796,
    "start_time": "2021-09-26T13:09:28.033Z"
   },
   {
    "duration": 3,
    "start_time": "2021-09-26T13:13:08.015Z"
   },
   {
    "duration": 12,
    "start_time": "2021-09-26T13:13:08.022Z"
   },
   {
    "duration": 1787,
    "start_time": "2021-09-26T13:13:08.038Z"
   },
   {
    "duration": 9,
    "start_time": "2021-09-26T13:13:09.829Z"
   },
   {
    "duration": 205,
    "start_time": "2021-09-26T13:13:09.842Z"
   },
   {
    "duration": 128,
    "start_time": "2021-09-26T13:13:10.051Z"
   },
   {
    "duration": 15,
    "start_time": "2021-09-26T13:13:10.183Z"
   },
   {
    "duration": 190,
    "start_time": "2021-09-26T13:13:10.201Z"
   },
   {
    "duration": 20,
    "start_time": "2021-09-26T13:13:10.395Z"
   },
   {
    "duration": 31,
    "start_time": "2021-09-26T13:13:10.418Z"
   },
   {
    "duration": 21,
    "start_time": "2021-09-26T13:13:10.452Z"
   },
   {
    "duration": 272,
    "start_time": "2021-09-26T13:13:10.476Z"
   },
   {
    "duration": 240,
    "start_time": "2021-09-26T13:13:10.751Z"
   },
   {
    "duration": 385,
    "start_time": "2021-09-26T13:13:10.994Z"
   },
   {
    "duration": 240,
    "start_time": "2021-09-26T13:13:11.386Z"
   },
   {
    "duration": 236,
    "start_time": "2021-09-26T13:13:11.628Z"
   },
   {
    "duration": 269,
    "start_time": "2021-09-26T13:13:11.870Z"
   },
   {
    "duration": 284,
    "start_time": "2021-09-26T13:13:12.142Z"
   },
   {
    "duration": 335,
    "start_time": "2021-09-26T13:13:12.430Z"
   },
   {
    "duration": 263,
    "start_time": "2021-09-26T13:13:12.768Z"
   },
   {
    "duration": 225,
    "start_time": "2021-09-26T13:13:13.033Z"
   },
   {
    "duration": 274,
    "start_time": "2021-09-26T13:13:13.269Z"
   },
   {
    "duration": 226,
    "start_time": "2021-09-26T13:13:13.546Z"
   },
   {
    "duration": 739,
    "start_time": "2021-09-26T13:13:13.775Z"
   },
   {
    "duration": 697,
    "start_time": "2021-09-26T13:13:14.517Z"
   },
   {
    "duration": 525,
    "start_time": "2021-09-26T13:13:15.217Z"
   },
   {
    "duration": 295,
    "start_time": "2021-09-26T13:13:15.745Z"
   },
   {
    "duration": 240,
    "start_time": "2021-09-26T13:13:16.043Z"
   },
   {
    "duration": 381,
    "start_time": "2021-09-26T13:13:16.285Z"
   },
   {
    "duration": 79,
    "start_time": "2021-09-26T13:13:16.672Z"
   },
   {
    "duration": 24,
    "start_time": "2021-09-26T13:13:16.754Z"
   },
   {
    "duration": 66,
    "start_time": "2021-09-26T13:13:16.784Z"
   },
   {
    "duration": 486,
    "start_time": "2021-09-26T13:13:16.861Z"
   },
   {
    "duration": 7,
    "start_time": "2021-09-26T13:14:07.867Z"
   },
   {
    "duration": 1882,
    "start_time": "2021-09-26T13:21:17.032Z"
   },
   {
    "duration": 108,
    "start_time": "2021-09-26T13:21:18.917Z"
   },
   {
    "duration": 4,
    "start_time": "2021-09-26T13:21:19.028Z"
   },
   {
    "duration": 163,
    "start_time": "2021-09-26T13:21:19.035Z"
   },
   {
    "duration": 125,
    "start_time": "2021-09-26T13:21:19.200Z"
   },
   {
    "duration": 14,
    "start_time": "2021-09-26T13:21:19.327Z"
   },
   {
    "duration": 68,
    "start_time": "2021-09-26T13:21:19.343Z"
   },
   {
    "duration": 18,
    "start_time": "2021-09-26T13:21:19.415Z"
   },
   {
    "duration": 73,
    "start_time": "2021-09-26T13:21:19.436Z"
   },
   {
    "duration": 9,
    "start_time": "2021-09-26T13:21:19.512Z"
   },
   {
    "duration": 234,
    "start_time": "2021-09-26T13:21:19.523Z"
   },
   {
    "duration": 224,
    "start_time": "2021-09-26T13:21:19.760Z"
   },
   {
    "duration": 238,
    "start_time": "2021-09-26T13:21:19.987Z"
   },
   {
    "duration": 278,
    "start_time": "2021-09-26T13:21:20.227Z"
   },
   {
    "duration": 362,
    "start_time": "2021-09-26T13:21:20.508Z"
   },
   {
    "duration": 322,
    "start_time": "2021-09-26T13:21:20.877Z"
   },
   {
    "duration": 227,
    "start_time": "2021-09-26T13:21:21.202Z"
   },
   {
    "duration": 252,
    "start_time": "2021-09-26T13:21:21.432Z"
   },
   {
    "duration": 231,
    "start_time": "2021-09-26T13:21:21.686Z"
   },
   {
    "duration": 241,
    "start_time": "2021-09-26T13:21:21.919Z"
   },
   {
    "duration": 245,
    "start_time": "2021-09-26T13:21:22.174Z"
   },
   {
    "duration": 239,
    "start_time": "2021-09-26T13:21:22.421Z"
   },
   {
    "duration": 462,
    "start_time": "2021-09-26T13:21:22.675Z"
   },
   {
    "duration": 744,
    "start_time": "2021-09-26T13:21:23.140Z"
   },
   {
    "duration": 717,
    "start_time": "2021-09-26T13:21:23.891Z"
   },
   {
    "duration": 240,
    "start_time": "2021-09-26T13:21:24.611Z"
   },
   {
    "duration": 234,
    "start_time": "2021-09-26T13:21:24.854Z"
   },
   {
    "duration": 313,
    "start_time": "2021-09-26T13:21:25.091Z"
   },
   {
    "duration": 66,
    "start_time": "2021-09-26T13:21:25.407Z"
   },
   {
    "duration": 20,
    "start_time": "2021-09-26T13:21:25.477Z"
   },
   {
    "duration": 41,
    "start_time": "2021-09-26T13:21:25.501Z"
   },
   {
    "duration": 489,
    "start_time": "2021-09-26T13:21:25.545Z"
   },
   {
    "duration": 5,
    "start_time": "2021-09-26T13:21:26.037Z"
   },
   {
    "duration": 27,
    "start_time": "2021-09-26T13:21:26.045Z"
   },
   {
    "duration": 12,
    "start_time": "2021-09-26T13:21:26.081Z"
   },
   {
    "duration": 26,
    "start_time": "2021-09-26T13:21:26.096Z"
   },
   {
    "duration": 15251,
    "start_time": "2021-09-26T13:21:26.125Z"
   },
   {
    "duration": 81709,
    "start_time": "2021-09-26T13:21:41.401Z"
   },
   {
    "duration": 1835,
    "start_time": "2021-09-26T13:24:26.147Z"
   },
   {
    "duration": 110,
    "start_time": "2021-09-26T13:24:27.985Z"
   },
   {
    "duration": 5,
    "start_time": "2021-09-26T13:24:28.099Z"
   },
   {
    "duration": 170,
    "start_time": "2021-09-26T13:24:28.107Z"
   },
   {
    "duration": 126,
    "start_time": "2021-09-26T13:24:28.279Z"
   },
   {
    "duration": 15,
    "start_time": "2021-09-26T13:24:28.408Z"
   },
   {
    "duration": 88,
    "start_time": "2021-09-26T13:24:28.426Z"
   },
   {
    "duration": 18,
    "start_time": "2021-09-26T13:24:28.520Z"
   },
   {
    "duration": 61,
    "start_time": "2021-09-26T13:24:28.542Z"
   },
   {
    "duration": 11,
    "start_time": "2021-09-26T13:24:28.605Z"
   },
   {
    "duration": 221,
    "start_time": "2021-09-26T13:24:28.619Z"
   },
   {
    "duration": 191,
    "start_time": "2021-09-26T13:24:28.843Z"
   },
   {
    "duration": 229,
    "start_time": "2021-09-26T13:24:29.037Z"
   },
   {
    "duration": 266,
    "start_time": "2021-09-26T13:24:29.273Z"
   },
   {
    "duration": 345,
    "start_time": "2021-09-26T13:24:29.542Z"
   },
   {
    "duration": 301,
    "start_time": "2021-09-26T13:24:29.890Z"
   },
   {
    "duration": 222,
    "start_time": "2021-09-26T13:24:30.195Z"
   },
   {
    "duration": 222,
    "start_time": "2021-09-26T13:24:30.420Z"
   },
   {
    "duration": 205,
    "start_time": "2021-09-26T13:24:30.644Z"
   },
   {
    "duration": 202,
    "start_time": "2021-09-26T13:24:30.851Z"
   },
   {
    "duration": 196,
    "start_time": "2021-09-26T13:24:31.061Z"
   },
   {
    "duration": 225,
    "start_time": "2021-09-26T13:24:31.268Z"
   },
   {
    "duration": 448,
    "start_time": "2021-09-26T13:24:31.501Z"
   },
   {
    "duration": 576,
    "start_time": "2021-09-26T13:24:31.952Z"
   },
   {
    "duration": 644,
    "start_time": "2021-09-26T13:24:32.530Z"
   },
   {
    "duration": 240,
    "start_time": "2021-09-26T13:24:33.178Z"
   },
   {
    "duration": 289,
    "start_time": "2021-09-26T13:24:33.420Z"
   },
   {
    "duration": 327,
    "start_time": "2021-09-26T13:24:33.713Z"
   },
   {
    "duration": 82,
    "start_time": "2021-09-26T13:24:34.042Z"
   },
   {
    "duration": 12,
    "start_time": "2021-09-26T13:24:34.126Z"
   },
   {
    "duration": 74,
    "start_time": "2021-09-26T13:24:34.140Z"
   },
   {
    "duration": 514,
    "start_time": "2021-09-26T13:24:34.217Z"
   },
   {
    "duration": 6,
    "start_time": "2021-09-26T13:24:34.735Z"
   },
   {
    "duration": 18,
    "start_time": "2021-09-26T13:24:34.761Z"
   },
   {
    "duration": 14,
    "start_time": "2021-09-26T13:24:34.783Z"
   },
   {
    "duration": 17,
    "start_time": "2021-09-26T13:24:34.805Z"
   },
   {
    "duration": 14964,
    "start_time": "2021-09-26T13:24:34.825Z"
   },
   {
    "duration": 79836,
    "start_time": "2021-09-26T13:24:49.797Z"
   },
   {
    "duration": 110940,
    "start_time": "2021-09-26T13:26:09.636Z"
   },
   {
    "duration": 201505,
    "start_time": "2021-09-26T13:28:00.580Z"
   },
   {
    "duration": 15707,
    "start_time": "2021-09-26T13:31:22.088Z"
   },
   {
    "duration": 613,
    "start_time": "2021-09-26T13:31:37.798Z"
   },
   {
    "duration": 1689,
    "start_time": "2021-09-30T04:03:32.948Z"
   },
   {
    "duration": 99,
    "start_time": "2021-09-30T04:03:34.639Z"
   },
   {
    "duration": 4,
    "start_time": "2021-09-30T04:03:34.741Z"
   },
   {
    "duration": 146,
    "start_time": "2021-09-30T04:03:34.748Z"
   },
   {
    "duration": 106,
    "start_time": "2021-09-30T04:03:34.897Z"
   },
   {
    "duration": 14,
    "start_time": "2021-09-30T04:03:35.006Z"
   },
   {
    "duration": 71,
    "start_time": "2021-09-30T04:03:35.023Z"
   },
   {
    "duration": 17,
    "start_time": "2021-09-30T04:03:35.098Z"
   },
   {
    "duration": 31,
    "start_time": "2021-09-30T04:03:35.118Z"
   },
   {
    "duration": 10,
    "start_time": "2021-09-30T04:03:35.182Z"
   },
   {
    "duration": 202,
    "start_time": "2021-09-30T04:03:35.194Z"
   },
   {
    "duration": 195,
    "start_time": "2021-09-30T04:03:35.399Z"
   },
   {
    "duration": 192,
    "start_time": "2021-09-30T04:03:35.596Z"
   },
   {
    "duration": 230,
    "start_time": "2021-09-30T04:03:35.791Z"
   },
   {
    "duration": 303,
    "start_time": "2021-09-30T04:03:36.024Z"
   },
   {
    "duration": 256,
    "start_time": "2021-09-30T04:03:36.329Z"
   },
   {
    "duration": 194,
    "start_time": "2021-09-30T04:03:36.588Z"
   },
   {
    "duration": 200,
    "start_time": "2021-09-30T04:03:36.784Z"
   },
   {
    "duration": 205,
    "start_time": "2021-09-30T04:03:36.987Z"
   },
   {
    "duration": 204,
    "start_time": "2021-09-30T04:03:37.194Z"
   },
   {
    "duration": 215,
    "start_time": "2021-09-30T04:03:37.401Z"
   },
   {
    "duration": 208,
    "start_time": "2021-09-30T04:03:37.618Z"
   },
   {
    "duration": 363,
    "start_time": "2021-09-30T04:03:37.830Z"
   },
   {
    "duration": 486,
    "start_time": "2021-09-30T04:03:38.197Z"
   },
   {
    "duration": 545,
    "start_time": "2021-09-30T04:03:38.685Z"
   },
   {
    "duration": 194,
    "start_time": "2021-09-30T04:03:39.233Z"
   },
   {
    "duration": 223,
    "start_time": "2021-09-30T04:03:39.429Z"
   },
   {
    "duration": 253,
    "start_time": "2021-09-30T04:03:39.654Z"
   },
   {
    "duration": 10,
    "start_time": "2021-09-30T04:11:00.494Z"
   },
   {
    "duration": 9,
    "start_time": "2021-09-30T04:11:06.171Z"
   },
   {
    "duration": 35754,
    "start_time": "2021-09-30T04:10:42.291Z"
   },
   {
    "duration": 9,
    "start_time": "2021-09-30T04:11:20.643Z"
   },
   {
    "duration": 8,
    "start_time": "2021-09-30T04:11:28.467Z"
   },
   {
    "duration": 9,
    "start_time": "2021-09-30T04:11:32.555Z"
   },
   {
    "duration": 8,
    "start_time": "2021-09-30T04:13:02.606Z"
   },
   {
    "duration": 367,
    "start_time": "2021-09-30T04:13:09.638Z"
   },
   {
    "duration": 10,
    "start_time": "2021-09-30T04:13:14.077Z"
   },
   {
    "duration": 243,
    "start_time": "2021-09-30T04:14:14.326Z"
   },
   {
    "duration": 79,
    "start_time": "2021-09-30T04:14:16.870Z"
   },
   {
    "duration": 9,
    "start_time": "2021-09-30T04:14:18.366Z"
   },
   {
    "duration": 9,
    "start_time": "2021-09-30T04:14:21.535Z"
   },
   {
    "duration": 11,
    "start_time": "2021-09-30T04:14:43.686Z"
   },
   {
    "duration": 957,
    "start_time": "2021-09-30T04:15:34.243Z"
   },
   {
    "duration": 1001,
    "start_time": "2021-09-30T04:16:53.219Z"
   },
   {
    "duration": 1099,
    "start_time": "2021-09-30T04:28:04.128Z"
   },
   {
    "duration": 739,
    "start_time": "2021-09-30T04:37:09.185Z"
   },
   {
    "duration": 387,
    "start_time": "2021-09-30T04:38:18.083Z"
   },
   {
    "duration": 13,
    "start_time": "2021-09-30T04:38:56.590Z"
   },
   {
    "duration": 276,
    "start_time": "2021-09-30T04:39:42.912Z"
   },
   {
    "duration": 406,
    "start_time": "2021-09-30T04:39:59.665Z"
   },
   {
    "duration": 238,
    "start_time": "2021-09-30T04:40:09.708Z"
   },
   {
    "duration": 279,
    "start_time": "2021-09-30T04:40:25.336Z"
   },
   {
    "duration": 106,
    "start_time": "2021-09-30T04:40:34.096Z"
   },
   {
    "duration": 100,
    "start_time": "2021-09-30T04:40:41.953Z"
   },
   {
    "duration": 271,
    "start_time": "2021-09-30T04:40:46.953Z"
   },
   {
    "duration": 424,
    "start_time": "2021-09-30T04:40:50.681Z"
   },
   {
    "duration": 668,
    "start_time": "2021-09-30T04:41:01.425Z"
   },
   {
    "duration": 415,
    "start_time": "2021-09-30T04:41:29.050Z"
   },
   {
    "duration": 651,
    "start_time": "2021-09-30T04:41:40.474Z"
   },
   {
    "duration": 681,
    "start_time": "2021-09-30T04:41:56.468Z"
   },
   {
    "duration": 429,
    "start_time": "2021-09-30T04:42:02.379Z"
   },
   {
    "duration": 14,
    "start_time": "2021-09-30T04:55:11.714Z"
   },
   {
    "duration": 14,
    "start_time": "2021-09-30T04:55:17.247Z"
   },
   {
    "duration": 17,
    "start_time": "2021-09-30T04:55:20.792Z"
   },
   {
    "duration": 279,
    "start_time": "2021-09-30T04:57:13.012Z"
   },
   {
    "duration": 389,
    "start_time": "2021-09-30T04:57:30.908Z"
   },
   {
    "duration": 12,
    "start_time": "2021-09-30T04:57:40.202Z"
   },
   {
    "duration": 4,
    "start_time": "2021-09-30T04:57:46.386Z"
   },
   {
    "duration": 4,
    "start_time": "2021-09-30T04:57:48.522Z"
   },
   {
    "duration": 6,
    "start_time": "2021-09-30T04:57:53.290Z"
   },
   {
    "duration": 335,
    "start_time": "2021-09-30T04:58:08.387Z"
   },
   {
    "duration": 532,
    "start_time": "2021-09-30T04:58:22.771Z"
   },
   {
    "duration": 521,
    "start_time": "2021-09-30T04:58:31.395Z"
   },
   {
    "duration": 922,
    "start_time": "2021-09-30T05:09:42.874Z"
   },
   {
    "duration": 905,
    "start_time": "2021-09-30T05:10:07.983Z"
   },
   {
    "duration": 937,
    "start_time": "2021-09-30T05:10:30.616Z"
   },
   {
    "duration": 1215,
    "start_time": "2021-09-30T05:10:44.456Z"
   },
   {
    "duration": 1172,
    "start_time": "2021-09-30T05:12:28.562Z"
   },
   {
    "duration": 1291,
    "start_time": "2021-09-30T05:13:26.515Z"
   },
   {
    "duration": 1236,
    "start_time": "2021-09-30T05:14:36.683Z"
   },
   {
    "duration": 1195,
    "start_time": "2021-09-30T05:15:28.749Z"
   },
   {
    "duration": 1278,
    "start_time": "2021-09-30T05:15:49.269Z"
   },
   {
    "duration": 1325,
    "start_time": "2021-09-30T05:16:29.333Z"
   },
   {
    "duration": 1257,
    "start_time": "2021-09-30T05:16:41.909Z"
   },
   {
    "duration": 1279,
    "start_time": "2021-09-30T05:16:52.486Z"
   },
   {
    "duration": 1223,
    "start_time": "2021-09-30T05:17:34.823Z"
   },
   {
    "duration": 1762,
    "start_time": "2021-09-30T05:17:51.271Z"
   },
   {
    "duration": 1257,
    "start_time": "2021-09-30T05:18:32.609Z"
   },
   {
    "duration": 1336,
    "start_time": "2021-09-30T05:18:37.631Z"
   },
   {
    "duration": 1371,
    "start_time": "2021-09-30T05:18:42.896Z"
   },
   {
    "duration": 1263,
    "start_time": "2021-09-30T05:18:48.728Z"
   },
   {
    "duration": 1318,
    "start_time": "2021-09-30T05:19:23.385Z"
   },
   {
    "duration": 1302,
    "start_time": "2021-09-30T05:19:31.712Z"
   },
   {
    "duration": 1612,
    "start_time": "2021-10-04T04:46:37.580Z"
   },
   {
    "duration": 114,
    "start_time": "2021-10-04T04:46:39.194Z"
   },
   {
    "duration": 4,
    "start_time": "2021-10-04T04:46:39.311Z"
   },
   {
    "duration": 145,
    "start_time": "2021-10-04T04:46:39.317Z"
   },
   {
    "duration": 107,
    "start_time": "2021-10-04T04:46:39.465Z"
   },
   {
    "duration": 14,
    "start_time": "2021-10-04T04:46:39.574Z"
   },
   {
    "duration": 72,
    "start_time": "2021-10-04T04:46:39.590Z"
   },
   {
    "duration": 17,
    "start_time": "2021-10-04T04:46:39.665Z"
   },
   {
    "duration": 32,
    "start_time": "2021-10-04T04:46:39.685Z"
   },
   {
    "duration": 40,
    "start_time": "2021-10-04T04:46:39.720Z"
   },
   {
    "duration": 197,
    "start_time": "2021-10-04T04:46:39.762Z"
   },
   {
    "duration": 196,
    "start_time": "2021-10-04T04:46:39.961Z"
   },
   {
    "duration": 200,
    "start_time": "2021-10-04T04:46:40.160Z"
   },
   {
    "duration": 237,
    "start_time": "2021-10-04T04:46:40.362Z"
   },
   {
    "duration": 301,
    "start_time": "2021-10-04T04:46:40.601Z"
   },
   {
    "duration": 258,
    "start_time": "2021-10-04T04:46:40.905Z"
   },
   {
    "duration": 196,
    "start_time": "2021-10-04T04:46:41.166Z"
   },
   {
    "duration": 201,
    "start_time": "2021-10-04T04:46:41.365Z"
   },
   {
    "duration": 218,
    "start_time": "2021-10-04T04:46:41.568Z"
   },
   {
    "duration": 192,
    "start_time": "2021-10-04T04:46:41.789Z"
   },
   {
    "duration": 204,
    "start_time": "2021-10-04T04:46:41.983Z"
   },
   {
    "duration": 208,
    "start_time": "2021-10-04T04:46:42.189Z"
   },
   {
    "duration": 378,
    "start_time": "2021-10-04T04:46:42.401Z"
   },
   {
    "duration": 509,
    "start_time": "2021-10-04T04:46:42.781Z"
   },
   {
    "duration": 581,
    "start_time": "2021-10-04T04:46:43.292Z"
   },
   {
    "duration": 215,
    "start_time": "2021-10-04T04:46:43.876Z"
   },
   {
    "duration": 222,
    "start_time": "2021-10-04T04:46:44.094Z"
   },
   {
    "duration": 252,
    "start_time": "2021-10-04T04:46:44.318Z"
   },
   {
    "duration": 1347,
    "start_time": "2021-10-04T04:46:44.572Z"
   },
   {
    "duration": 415,
    "start_time": "2021-10-04T04:46:45.922Z"
   },
   {
    "duration": 58,
    "start_time": "2021-10-04T04:46:46.341Z"
   },
   {
    "duration": 14,
    "start_time": "2021-10-04T04:46:46.403Z"
   },
   {
    "duration": 70,
    "start_time": "2021-10-04T04:46:46.419Z"
   },
   {
    "duration": 473,
    "start_time": "2021-10-04T04:46:46.492Z"
   },
   {
    "duration": 7,
    "start_time": "2021-10-04T04:46:46.968Z"
   },
   {
    "duration": 544,
    "start_time": "2021-10-04T04:47:47.713Z"
   },
   {
    "duration": 7,
    "start_time": "2021-10-04T04:48:12.413Z"
   },
   {
    "duration": 9,
    "start_time": "2021-10-04T04:48:22.058Z"
   },
   {
    "duration": 732,
    "start_time": "2021-10-04T04:48:24.161Z"
   },
   {
    "duration": 9,
    "start_time": "2021-10-04T04:49:12.459Z"
   },
   {
    "duration": 2041,
    "start_time": "2021-10-04T04:49:14.243Z"
   },
   {
    "duration": 8,
    "start_time": "2021-10-04T04:49:26.755Z"
   },
   {
    "duration": 175,
    "start_time": "2021-10-04T04:49:27.595Z"
   },
   {
    "duration": 6,
    "start_time": "2021-10-04T04:50:15.436Z"
   },
   {
    "duration": 6,
    "start_time": "2021-10-04T04:50:23.102Z"
   },
   {
    "duration": 6,
    "start_time": "2021-10-04T04:50:25.116Z"
   },
   {
    "duration": 7,
    "start_time": "2021-10-04T04:50:37.692Z"
   },
   {
    "duration": 174,
    "start_time": "2021-10-04T04:50:38.572Z"
   },
   {
    "duration": 170,
    "start_time": "2021-10-04T04:50:44.485Z"
   },
   {
    "duration": 164,
    "start_time": "2021-10-04T04:51:01.805Z"
   },
   {
    "duration": 361,
    "start_time": "2021-10-04T04:52:15.579Z"
   },
   {
    "duration": 368,
    "start_time": "2021-10-04T04:52:23.368Z"
   },
   {
    "duration": 21,
    "start_time": "2021-10-04T04:52:38.191Z"
   },
   {
    "duration": 12,
    "start_time": "2021-10-04T04:52:53.407Z"
   },
   {
    "duration": 386,
    "start_time": "2021-10-04T04:53:02.848Z"
   },
   {
    "duration": 10,
    "start_time": "2021-10-04T04:53:20.680Z"
   },
   {
    "duration": 2473,
    "start_time": "2021-10-04T04:53:36.304Z"
   },
   {
    "duration": 2423,
    "start_time": "2021-10-04T04:53:56.815Z"
   },
   {
    "duration": 395,
    "start_time": "2021-10-04T04:54:09.368Z"
   },
   {
    "duration": 2430,
    "start_time": "2021-10-04T04:54:26.528Z"
   },
   {
    "duration": 40,
    "start_time": "2021-10-04T04:54:31.743Z"
   },
   {
    "duration": 6,
    "start_time": "2021-10-04T04:54:48.101Z"
   }
  ],
  "colab": {
   "collapsed_sections": [],
   "name": "Project.ipynb",
   "provenance": []
  },
  "kernelspec": {
   "display_name": "Python 3 (ipykernel)",
   "language": "python",
   "name": "python3"
  },
  "language_info": {
   "codemirror_mode": {
    "name": "ipython",
    "version": 3
   },
   "file_extension": ".py",
   "mimetype": "text/x-python",
   "name": "python",
   "nbconvert_exporter": "python",
   "pygments_lexer": "ipython3",
   "version": "3.9.5"
  },
  "toc": {
   "base_numbering": 1,
   "nav_menu": {},
   "number_sections": false,
   "sideBar": true,
   "skip_h1_title": false,
   "title_cell": "Table of Contents",
   "title_sidebar": "Contents",
   "toc_cell": false,
   "toc_position": {},
   "toc_section_display": true,
   "toc_window_display": false
  }
 },
 "nbformat": 4,
 "nbformat_minor": 1
}
