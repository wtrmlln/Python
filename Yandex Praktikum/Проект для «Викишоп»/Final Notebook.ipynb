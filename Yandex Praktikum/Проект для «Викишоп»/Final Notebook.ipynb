{
 "cells": [
  {
   "cell_type": "markdown",
   "metadata": {
    "id": "nvOrs2afWDn4"
   },
   "source": [
    "# Проект для «Викишоп» с BERT"
   ]
  },
  {
   "cell_type": "markdown",
   "metadata": {
    "id": "sW1TN4lJWHk9"
   },
   "source": [
    "Интернет-магазин «Викишоп» запускает новый сервис. Теперь пользователи могут редактировать и дополнять описания товаров, как в вики-сообществах. То есть клиенты предлагают свои правки и комментируют изменения других. Магазину нужен инструмент, который будет искать токсичные комментарии и отправлять их на модерацию. \n",
    "\n",
    "Обучите модель классифицировать комментарии на позитивные и негативные. В вашем распоряжении набор данных с разметкой о токсичности правок.\n",
    "\n",
    "Постройте модель со значением метрики качества *F1* не меньше 0.75. \n",
    "\n",
    "# План выполнения проекта:\n",
    "\n",
    "1. Загрузка и подготовка данных.\n",
    "2. Обучение моделей с помощью BERT и TF-IDF.\n",
    "3. Итоговый вывод\n",
    "\n",
    "# Описание данных:\n",
    "\n",
    "Данные находятся в файле `toxic_comments.csv`. Столбец *text* в нём содержит текст комментария, а *toxic* — целевой признак.\n",
    "\n",
    "# Подключение библиотек:"
   ]
  },
  {
   "cell_type": "code",
   "execution_count": 1,
   "metadata": {
    "colab": {
     "base_uri": "https://localhost:8080/"
    },
    "id": "Hc0hxGDBJLHQ",
    "outputId": "44747237-47f9-4d29-f4bf-50b3faf4a3e8"
   },
   "outputs": [
    {
     "name": "stdout",
     "output_type": "stream",
     "text": [
      "Requirement already satisfied: transformers in /usr/local/lib/python3.7/dist-packages (4.9.1)\n",
      "Requirement already satisfied: sacremoses in /usr/local/lib/python3.7/dist-packages (from transformers) (0.0.45)\n",
      "Requirement already satisfied: regex!=2019.12.17 in /usr/local/lib/python3.7/dist-packages (from transformers) (2019.12.20)\n",
      "Requirement already satisfied: importlib-metadata in /usr/local/lib/python3.7/dist-packages (from transformers) (4.6.1)\n",
      "Requirement already satisfied: filelock in /usr/local/lib/python3.7/dist-packages (from transformers) (3.0.12)\n",
      "Requirement already satisfied: pyyaml>=5.1 in /usr/local/lib/python3.7/dist-packages (from transformers) (5.4.1)\n",
      "Requirement already satisfied: packaging in /usr/local/lib/python3.7/dist-packages (from transformers) (21.0)\n",
      "Requirement already satisfied: huggingface-hub==0.0.12 in /usr/local/lib/python3.7/dist-packages (from transformers) (0.0.12)\n",
      "Requirement already satisfied: requests in /usr/local/lib/python3.7/dist-packages (from transformers) (2.23.0)\n",
      "Requirement already satisfied: tqdm>=4.27 in /usr/local/lib/python3.7/dist-packages (from transformers) (4.41.1)\n",
      "Requirement already satisfied: tokenizers<0.11,>=0.10.1 in /usr/local/lib/python3.7/dist-packages (from transformers) (0.10.3)\n",
      "Requirement already satisfied: numpy>=1.17 in /usr/local/lib/python3.7/dist-packages (from transformers) (1.19.5)\n",
      "Requirement already satisfied: typing-extensions in /usr/local/lib/python3.7/dist-packages (from huggingface-hub==0.0.12->transformers) (3.7.4.3)\n",
      "Requirement already satisfied: pyparsing>=2.0.2 in /usr/local/lib/python3.7/dist-packages (from packaging->transformers) (2.4.7)\n",
      "Requirement already satisfied: zipp>=0.5 in /usr/local/lib/python3.7/dist-packages (from importlib-metadata->transformers) (3.5.0)\n",
      "Requirement already satisfied: idna<3,>=2.5 in /usr/local/lib/python3.7/dist-packages (from requests->transformers) (2.10)\n",
      "Requirement already satisfied: chardet<4,>=3.0.2 in /usr/local/lib/python3.7/dist-packages (from requests->transformers) (3.0.4)\n",
      "Requirement already satisfied: certifi>=2017.4.17 in /usr/local/lib/python3.7/dist-packages (from requests->transformers) (2021.5.30)\n",
      "Requirement already satisfied: urllib3!=1.25.0,!=1.25.1,<1.26,>=1.21.1 in /usr/local/lib/python3.7/dist-packages (from requests->transformers) (1.24.3)\n",
      "Requirement already satisfied: joblib in /usr/local/lib/python3.7/dist-packages (from sacremoses->transformers) (1.0.1)\n",
      "Requirement already satisfied: click in /usr/local/lib/python3.7/dist-packages (from sacremoses->transformers) (7.1.2)\n",
      "Requirement already satisfied: six in /usr/local/lib/python3.7/dist-packages (from sacremoses->transformers) (1.15.0)\n",
      "Requirement already satisfied: catboost in /usr/local/lib/python3.7/dist-packages (0.26)\n",
      "Requirement already satisfied: numpy>=1.16.0 in /usr/local/lib/python3.7/dist-packages (from catboost) (1.19.5)\n",
      "Requirement already satisfied: pandas>=0.24.0 in /usr/local/lib/python3.7/dist-packages (from catboost) (1.1.5)\n",
      "Requirement already satisfied: scipy in /usr/local/lib/python3.7/dist-packages (from catboost) (1.4.1)\n",
      "Requirement already satisfied: graphviz in /usr/local/lib/python3.7/dist-packages (from catboost) (0.10.1)\n",
      "Requirement already satisfied: matplotlib in /usr/local/lib/python3.7/dist-packages (from catboost) (3.2.2)\n",
      "Requirement already satisfied: plotly in /usr/local/lib/python3.7/dist-packages (from catboost) (4.4.1)\n",
      "Requirement already satisfied: six in /usr/local/lib/python3.7/dist-packages (from catboost) (1.15.0)\n",
      "Requirement already satisfied: python-dateutil>=2.7.3 in /usr/local/lib/python3.7/dist-packages (from pandas>=0.24.0->catboost) (2.8.1)\n",
      "Requirement already satisfied: pytz>=2017.2 in /usr/local/lib/python3.7/dist-packages (from pandas>=0.24.0->catboost) (2018.9)\n",
      "Requirement already satisfied: pyparsing!=2.0.4,!=2.1.2,!=2.1.6,>=2.0.1 in /usr/local/lib/python3.7/dist-packages (from matplotlib->catboost) (2.4.7)\n",
      "Requirement already satisfied: kiwisolver>=1.0.1 in /usr/local/lib/python3.7/dist-packages (from matplotlib->catboost) (1.3.1)\n",
      "Requirement already satisfied: cycler>=0.10 in /usr/local/lib/python3.7/dist-packages (from matplotlib->catboost) (0.10.0)\n",
      "Requirement already satisfied: retrying>=1.3.3 in /usr/local/lib/python3.7/dist-packages (from plotly->catboost) (1.3.3)\n"
     ]
    }
   ],
   "source": [
    "!pip install transformers\n",
    "!pip install catboost"
   ]
  },
  {
   "cell_type": "code",
   "execution_count": 2,
   "metadata": {
    "colab": {
     "base_uri": "https://localhost:8080/"
    },
    "id": "Vg4PfhKAp1G8",
    "outputId": "2cb6a023-5557-4857-fb67-39a7150c4889"
   },
   "outputs": [
    {
     "name": "stdout",
     "output_type": "stream",
     "text": [
      "[nltk_data] Downloading package stopwords to /root/nltk_data...\n",
      "[nltk_data]   Package stopwords is already up-to-date!\n",
      "[nltk_data] Downloading package wordnet to /root/nltk_data...\n",
      "[nltk_data]   Package wordnet is already up-to-date!\n"
     ]
    }
   ],
   "source": [
    "import warnings; warnings.filterwarnings(\"ignore\", category=Warning)\n",
    "import transformers\n",
    "import numpy as np\n",
    "import pandas as pd\n",
    "import re\n",
    "import nltk\n",
    "nltk.download('stopwords')\n",
    "nltk.download('wordnet')\n",
    "import xgboost as xgb\n",
    "import torch\n",
    "import time\n",
    " \n",
    "from nltk.stem import WordNetLemmatizer\n",
    "from nltk.corpus import stopwords as nltk_stopwords\n",
    " \n",
    "from sklearn.feature_extraction.text import TfidfVectorizer \n",
    " \n",
    "from transformers import DistilBertModel, DistilBertConfig\n",
    " \n",
    "from tqdm import notebook\n",
    " \n",
    "from sklearn.linear_model import LogisticRegression\n",
    "from sklearn.linear_model import RidgeClassifier\n",
    "from sklearn.svm import SVC\n",
    "from catboost import CatBoostClassifier\n",
    "from lightgbm import LGBMClassifier\n",
    " \n",
    "from sklearn.model_selection import GridSearchCV\n",
    "from sklearn.model_selection import train_test_split\n",
    "from sklearn.model_selection import KFold\n",
    "from sklearn.metrics import f1_score"
   ]
  },
  {
   "cell_type": "markdown",
   "metadata": {
    "id": "Djiu8lb2Wm99"
   },
   "source": [
    "# 1. Загрузка и подготовка данных."
   ]
  },
  {
   "cell_type": "code",
   "execution_count": 3,
   "metadata": {
    "id": "rMWd6Q1Np5YJ"
   },
   "outputs": [],
   "source": [
    "df = pd.read_csv('https://code.s3.yandex.net/datasets/toxic_comments.csv', engine=\"python\", error_bad_lines=False)"
   ]
  },
  {
   "cell_type": "code",
   "execution_count": 4,
   "metadata": {
    "colab": {
     "base_uri": "https://localhost:8080/",
     "height": 204
    },
    "id": "DJlOGFmEp2wK",
    "outputId": "7b0cd2ca-5445-4cb5-efd1-ba91bac50fd5"
   },
   "outputs": [
    {
     "data": {
      "text/html": [
       "<div>\n",
       "<style scoped>\n",
       "    .dataframe tbody tr th:only-of-type {\n",
       "        vertical-align: middle;\n",
       "    }\n",
       "\n",
       "    .dataframe tbody tr th {\n",
       "        vertical-align: top;\n",
       "    }\n",
       "\n",
       "    .dataframe thead th {\n",
       "        text-align: right;\n",
       "    }\n",
       "</style>\n",
       "<table border=\"1\" class=\"dataframe\">\n",
       "  <thead>\n",
       "    <tr style=\"text-align: right;\">\n",
       "      <th></th>\n",
       "      <th>text</th>\n",
       "      <th>toxic</th>\n",
       "    </tr>\n",
       "  </thead>\n",
       "  <tbody>\n",
       "    <tr>\n",
       "      <th>0</th>\n",
       "      <td>Explanation\\nWhy the edits made under my usern...</td>\n",
       "      <td>0</td>\n",
       "    </tr>\n",
       "    <tr>\n",
       "      <th>1</th>\n",
       "      <td>D'aww! He matches this background colour I'm s...</td>\n",
       "      <td>0</td>\n",
       "    </tr>\n",
       "    <tr>\n",
       "      <th>2</th>\n",
       "      <td>Hey man, I'm really not trying to edit war. It...</td>\n",
       "      <td>0</td>\n",
       "    </tr>\n",
       "    <tr>\n",
       "      <th>3</th>\n",
       "      <td>\"\\nMore\\nI can't make any real suggestions on ...</td>\n",
       "      <td>0</td>\n",
       "    </tr>\n",
       "    <tr>\n",
       "      <th>4</th>\n",
       "      <td>You, sir, are my hero. Any chance you remember...</td>\n",
       "      <td>0</td>\n",
       "    </tr>\n",
       "  </tbody>\n",
       "</table>\n",
       "</div>"
      ],
      "text/plain": [
       "                                                text  toxic\n",
       "0  Explanation\\nWhy the edits made under my usern...      0\n",
       "1  D'aww! He matches this background colour I'm s...      0\n",
       "2  Hey man, I'm really not trying to edit war. It...      0\n",
       "3  \"\\nMore\\nI can't make any real suggestions on ...      0\n",
       "4  You, sir, are my hero. Any chance you remember...      0"
      ]
     },
     "metadata": {
      "tags": []
     },
     "output_type": "display_data"
    }
   ],
   "source": [
    "display(df.head(5))"
   ]
  },
  {
   "cell_type": "code",
   "execution_count": 5,
   "metadata": {
    "colab": {
     "base_uri": "https://localhost:8080/",
     "height": 255
    },
    "id": "IfkBrJv1qIC6",
    "outputId": "d4b9da07-acc1-48b1-e571-7ac01facaa4d"
   },
   "outputs": [
    {
     "name": "stdout",
     "output_type": "stream",
     "text": [
      "<class 'pandas.core.frame.DataFrame'>\n",
      "RangeIndex: 159571 entries, 0 to 159570\n",
      "Data columns (total 2 columns):\n",
      " #   Column  Non-Null Count   Dtype \n",
      "---  ------  --------------   ----- \n",
      " 0   text    159571 non-null  object\n",
      " 1   toxic   159571 non-null  int64 \n",
      "dtypes: int64(1), object(1)\n",
      "memory usage: 2.4+ MB\n"
     ]
    },
    {
     "data": {
      "text/plain": [
       "None"
      ]
     },
     "metadata": {
      "tags": []
     },
     "output_type": "display_data"
    },
    {
     "name": "stdout",
     "output_type": "stream",
     "text": [
      "0    0.898321\n",
      "1    0.101679\n",
      "Name: toxic, dtype: float64\n",
      "\u001b[1mКоличество дубликатов в датасете -\u001b[0m 0\n"
     ]
    }
   ],
   "source": [
    "display(df.info())\n",
    "print(df['toxic'].value_counts(normalize=True))\n",
    "print('\\033[1m' + 'Количество дубликатов в датасете -' + '\\033[0m', df.duplicated().sum())"
   ]
  },
  {
   "cell_type": "markdown",
   "metadata": {
    "id": "9tPYfX2nWsCQ"
   },
   "source": [
    "Наблюдаем что в тексте нашего датасета дубликаты отсутствуют, и наблюдаются различные лишние символы - решим эти две проблемы следующим образом:\n",
    "1. Сразу же подготовим наши признаки и таргет, разделим их на обучающую и тестовую выборку, и после этого выделим одну выборку из 1000 сэмплов для BERT.\n",
    "2. Очистим текст в датасете от лишних символов, стоп-слов и лемматизируем его (только для датасета под метод TF-IDF). Выполним эти действия с помощью отдельных функций."
   ]
  },
  {
   "cell_type": "code",
   "execution_count": 6,
   "metadata": {
    "colab": {
     "base_uri": "https://localhost:8080/",
     "height": 170
    },
    "id": "ez3k863iqJf4",
    "outputId": "89f1344d-c912-465e-e30a-95a04ce1b27f"
   },
   "outputs": [
    {
     "name": "stdout",
     "output_type": "stream",
     "text": [
      "\u001b[1mОбучающая выборка\u001b[0m\n"
     ]
    },
    {
     "data": {
      "text/plain": [
       "0    0.89785\n",
       "1    0.10215\n",
       "Name: toxic, dtype: float64"
      ]
     },
     "metadata": {
      "tags": []
     },
     "output_type": "display_data"
    },
    {
     "name": "stdout",
     "output_type": "stream",
     "text": [
      "\n",
      "\u001b[1mТестовая выборка\u001b[0m\n"
     ]
    },
    {
     "data": {
      "text/plain": [
       "0    0.900204\n",
       "1    0.099796\n",
       "Name: toxic, dtype: float64"
      ]
     },
     "metadata": {
      "tags": []
     },
     "output_type": "display_data"
    }
   ],
   "source": [
    "random_state = 11111\n",
    "\n",
    "x_par = df['text']\n",
    "y_tar = df['toxic']\n",
    "\n",
    "x_train, x_test, y_train, y_test = train_test_split(x_par, y_tar, test_size = 0.2, random_state=random_state)\n",
    "\n",
    "print('\\033[1m'+'Обучающая выборка'+'\\033[0m')\n",
    "display(y_train.value_counts(normalize=True))\n",
    "print('')\n",
    "print('\\033[1m'+'Тестовая выборка'+'\\033[0m')\n",
    "display(y_test.value_counts(normalize=True))"
   ]
  },
  {
   "cell_type": "code",
   "execution_count": 7,
   "metadata": {
    "id": "OJj18hl2fX02"
   },
   "outputs": [],
   "source": [
    "x_train_bert = x_train.sample(750, replace=True, random_state=random_state)\n",
    "y_train_bert = y_train.loc[x_train_bert.index]\n",
    "\n",
    "x_test_bert = x_test.sample(250, replace=True, random_state=random_state)\n",
    "y_test_bert = y_test.loc[x_test_bert.index]"
   ]
  },
  {
   "cell_type": "markdown",
   "metadata": {
    "id": "mTCefYDuWynZ"
   },
   "source": [
    "Классы сбалансированы, данные в порядке, теперь можем переходить к очистке текста текста:"
   ]
  },
  {
   "cell_type": "code",
   "execution_count": 8,
   "metadata": {
    "id": "h2FSDRkVbI2e"
   },
   "outputs": [],
   "source": [
    "def clean(text):\n",
    "    \n",
    "    text = text.lower()    \n",
    "    text = re.sub(r\"(?:\\n|\\r)\", \" \", text)\n",
    "    text = re.sub(r\"[^a-zA-Z ]+\", \"\", text).strip()\n",
    "    \n",
    "    return text\n",
    "\n",
    "x_train = x_train.apply(clean)\n",
    "x_train_bert = x_train_bert.apply(clean)\n",
    "x_test = x_test.apply(clean)\n",
    "x_test_bert = x_test_bert.apply(clean)"
   ]
  },
  {
   "cell_type": "markdown",
   "metadata": {
    "id": "sK3ARah0X8Tn"
   },
   "source": [
    "Текст очищен от лишних символов, теперь необходимо избавиться от стоп-слов."
   ]
  },
  {
   "cell_type": "code",
   "execution_count": 9,
   "metadata": {
    "id": "YUAFV3TiX7lB"
   },
   "outputs": [],
   "source": [
    "stop_words = set(nltk_stopwords.words('english'))\n",
    "def remove_stopwords(text):\n",
    "    \n",
    "    clean_text = [w for w in text.split() if not w in stop_words]\n",
    "    return clean_text\n",
    "\n",
    "x_train = x_train.apply(lambda x: remove_stopwords(x))\n",
    "x_test = x_test.apply(lambda x: remove_stopwords(x))"
   ]
  },
  {
   "cell_type": "markdown",
   "metadata": {
    "id": "96lXpKgXDoUh"
   },
   "source": [
    "Теперь лемматизируем датасет для TF-IDF."
   ]
  },
  {
   "cell_type": "code",
   "execution_count": 10,
   "metadata": {
    "colab": {
     "base_uri": "https://localhost:8080/"
    },
    "id": "9hH8jyPhYHH5",
    "outputId": "844462eb-5582-4e48-c328-ddfc4c51c73e"
   },
   "outputs": [
    {
     "name": "stdout",
     "output_type": "stream",
     "text": [
      "CPU times: user 26.9 s, sys: 288 ms, total: 27.2 s\n",
      "Wall time: 27.2 s\n"
     ]
    }
   ],
   "source": [
    "%%time\n",
    "lemmatizer = WordNetLemmatizer()\n",
    "def lemmatize(text):\n",
    "    clean_text = [lemmatizer.lemmatize(word) for word in text]\n",
    "    return clean_text\n",
    "\n",
    "x_train = x_train.apply(lambda x: lemmatize(x))\n",
    "x_test = x_test.apply(lambda x: lemmatize(x))"
   ]
  },
  {
   "cell_type": "markdown",
   "metadata": {
    "id": "lapOh7REYMlX"
   },
   "source": [
    "Данные были успешно рассмотрены, очищены от лишних символов, стоп-слов и лемматизированы. Теперь можем переходить к обучению моделей.\n",
    "\n",
    "\n",
    "# 2. Обучение и анализ моделей.\n",
    "\n",
    "## 2.1. Модель DistilBert.\n",
    "\n",
    "Для работы с BERT напишем функцию которая создаст эмбединги для наших признаков. "
   ]
  },
  {
   "cell_type": "code",
   "execution_count": 11,
   "metadata": {
    "id": "aQbIYCE3qKgq"
   },
   "outputs": [],
   "source": [
    "tokenizer = transformers.DistilBertTokenizerFast.from_pretrained('distilbert-base-uncased')\n",
    "\n",
    "def bert_embeddings(features):\n",
    "    config = DistilBertConfig.from_pretrained('distilbert-base-uncased')\n",
    "    model = DistilBertModel.from_pretrained('distilbert-base-uncased', config=config)\n",
    "\n",
    "    tokenized = features.apply(lambda x: tokenizer.encode(x, add_special_tokens=True, max_length=512, truncation=True))\n",
    "  \n",
    "    max_len = 0\n",
    "    for i in tokenized.values:\n",
    "        if len(i) > max_len:\n",
    "            max_len = len(i)\n",
    "  \n",
    "    padded = np.array([i + [0]*(max_len - len(i)) for i in tokenized.values])\n",
    "    attention_mask = np.where(padded != 0, 1, 0)\n",
    "\n",
    "    batch_size = 50\n",
    "    embeddings = []\n",
    "    for i in notebook.tqdm(range(padded.shape[0] // batch_size)):\n",
    "        batch = torch.LongTensor(padded[batch_size*i:batch_size*(i+1)]) \n",
    "        attention_mask_batch = torch.LongTensor(attention_mask[batch_size*i:batch_size*(i+1)])\n",
    "       \n",
    "        with torch.no_grad():\n",
    "            batch_embeddings = model(batch, attention_mask=attention_mask_batch)\n",
    "       \n",
    "        embeddings.append(batch_embeddings[0][:,0,:].numpy())\n",
    "    embeddings_ready = np.concatenate(embeddings)\n",
    "    return embeddings_ready"
   ]
  },
  {
   "cell_type": "markdown",
   "metadata": {
    "id": "qxYL_PceK7re"
   },
   "source": [
    "Функция готова к применению, создадим эмбединги для обучающей и тестовой выборки"
   ]
  },
  {
   "cell_type": "code",
   "execution_count": 12,
   "metadata": {
    "colab": {
     "base_uri": "https://localhost:8080/",
     "height": 356,
     "referenced_widgets": [
      "d96cad24cda54eecb04903807856a4fc",
      "353b04c191b6441cba4c61da73707381",
      "8de081a4d9cb424c935cc20a7e7c0c51",
      "b75d0b51c5da46e8b859e0e126ee6a67",
      "34bca8802756485285b61ccb150b68b2",
      "84d502e386bf4e81b6dd4cbbe67667f8",
      "e24553dbbec1495f9454f8cd3963530d",
      "42e7ed6201b247e69a4686fbcd4feb62",
      "33be171ee7be4c4c989c2f81a81691d6",
      "e7c6c3fa426c43d4acde887ba969b8d3",
      "8e627cc14e164e4e845eac752c8ece3c",
      "9f3a068c5ed24c2db6a3047e73ac233e",
      "2d9e1ece45d34e0abef19d07c81a0c6e",
      "80abe1fc453e43549015dbecab401944",
      "1fb05dea88cd4eca831670da7ca48dab",
      "c9e0639789184bcabc35c586bd937efe"
     ]
    },
    "id": "aMpyridjgbn8",
    "outputId": "e8ac2f02-f530-41b1-9acd-3c1c8dd65357"
   },
   "outputs": [
    {
     "name": "stderr",
     "output_type": "stream",
     "text": [
      "Some weights of the model checkpoint at distilbert-base-uncased were not used when initializing DistilBertModel: ['vocab_projector.bias', 'vocab_transform.weight', 'vocab_projector.weight', 'vocab_transform.bias', 'vocab_layer_norm.bias', 'vocab_layer_norm.weight']\n",
      "- This IS expected if you are initializing DistilBertModel from the checkpoint of a model trained on another task or with another architecture (e.g. initializing a BertForSequenceClassification model from a BertForPreTraining model).\n",
      "- This IS NOT expected if you are initializing DistilBertModel from the checkpoint of a model that you expect to be exactly identical (initializing a BertForSequenceClassification model from a BertForSequenceClassification model).\n"
     ]
    },
    {
     "data": {
      "application/vnd.jupyter.widget-view+json": {
       "model_id": "d96cad24cda54eecb04903807856a4fc",
       "version_major": 2,
       "version_minor": 0
      },
      "text/plain": [
       "HBox(children=(FloatProgress(value=0.0, max=15.0), HTML(value='')))"
      ]
     },
     "metadata": {
      "tags": []
     },
     "output_type": "display_data"
    },
    {
     "name": "stdout",
     "output_type": "stream",
     "text": [
      "\n"
     ]
    },
    {
     "name": "stderr",
     "output_type": "stream",
     "text": [
      "Some weights of the model checkpoint at distilbert-base-uncased were not used when initializing DistilBertModel: ['vocab_projector.bias', 'vocab_transform.weight', 'vocab_projector.weight', 'vocab_transform.bias', 'vocab_layer_norm.bias', 'vocab_layer_norm.weight']\n",
      "- This IS expected if you are initializing DistilBertModel from the checkpoint of a model trained on another task or with another architecture (e.g. initializing a BertForSequenceClassification model from a BertForPreTraining model).\n",
      "- This IS NOT expected if you are initializing DistilBertModel from the checkpoint of a model that you expect to be exactly identical (initializing a BertForSequenceClassification model from a BertForSequenceClassification model).\n"
     ]
    },
    {
     "data": {
      "application/vnd.jupyter.widget-view+json": {
       "model_id": "33be171ee7be4c4c989c2f81a81691d6",
       "version_major": 2,
       "version_minor": 0
      },
      "text/plain": [
       "HBox(children=(FloatProgress(value=0.0, max=5.0), HTML(value='')))"
      ]
     },
     "metadata": {
      "tags": []
     },
     "output_type": "display_data"
    },
    {
     "name": "stdout",
     "output_type": "stream",
     "text": [
      "\n",
      "Обучающая выборка:\n"
     ]
    },
    {
     "data": {
      "text/plain": [
       "(750, 768)"
      ]
     },
     "metadata": {
      "tags": []
     },
     "output_type": "display_data"
    },
    {
     "name": "stdout",
     "output_type": "stream",
     "text": [
      "\n",
      "Тестовая выборка:\n"
     ]
    },
    {
     "data": {
      "text/plain": [
       "(250, 768)"
      ]
     },
     "metadata": {
      "tags": []
     },
     "output_type": "display_data"
    },
    {
     "name": "stdout",
     "output_type": "stream",
     "text": [
      "CPU times: user 12min 51s, sys: 6.49 s, total: 12min 58s\n",
      "Wall time: 12min 54s\n"
     ]
    }
   ],
   "source": [
    "%%time\n",
    "x_train_bert = bert_embeddings(x_train_bert)\n",
    "x_test_bert = bert_embeddings(x_test_bert)\n",
    "\n",
    "print('Обучающая выборка:')\n",
    "display(x_train_bert.shape)\n",
    "print('')\n",
    "print('Тестовая выборка:')\n",
    "display(x_test_bert.shape)"
   ]
  },
  {
   "cell_type": "markdown",
   "metadata": {
    "id": "101rHZG7YyIq"
   },
   "source": [
    "Данные подготовлены к обучению, теперь напишем функцию которая на входе будет принимать модель, набор гиперпараметров и наименование модели на русском языке. Внутри модель начнет отсчет времени, подготовит кроссвалидацию на основе KFold, определит набор оптимальных гиперпараметров для определенной модели. После этого модель с использованием оптимальных гиперпараметров обучится на обучающей выборке, предскажет значения на обучающей и тестовой выборке, рассчитает значения F1 Score, и сведет результаты в таблицу."
   ]
  },
  {
   "cell_type": "code",
   "execution_count": 13,
   "metadata": {
    "id": "xWWTSz_7SAli"
   },
   "outputs": [],
   "source": [
    "f1_results = pd.DataFrame({'Модель' : [], 'Train F1 Score' : [], 'Test F1 Score' : [], 'Затрачиваемое время, сек.' : []})\n",
    "tfidf_f1_results = pd.DataFrame({'Модель' : [], 'Train F1 Score' : [], 'Test F1 Score' : [], 'Затрачиваемое время, сек.' : []})\n",
    "def model_testing(model_name, parametrs, output_model_name, purpose, \n",
    "                  features_train, features_test, target_train, target_test):\n",
    "    \n",
    "    global f1_results, tfidf_f1_results\n",
    "    \n",
    "    start_timer = time.time()\n",
    "\n",
    "    cv = KFold(n_splits=3, random_state = random_state)\n",
    "        \n",
    "    model = model_name()\n",
    "        \n",
    "    grid = GridSearchCV(model, parametrs, cv = cv, scoring = 'f1')\n",
    "    \n",
    "    grid.fit(features_train, target_train)\n",
    "    test_model = model_name(**grid.best_params_)\n",
    "    \n",
    "    test_model.fit(features_train, target_train)\n",
    "    model_train_predictions = test_model.predict(features_train)\n",
    "    model_test_predictions = test_model.predict(features_test)\n",
    "    train_f1_score = f1_score(target_train, model_train_predictions)\n",
    "    test_f1_score = f1_score(target_test, model_test_predictions)\n",
    "    if purpose == 'BERT':\n",
    "        f1_results = f1_results.append({'Модель' : output_model_name, \n",
    "                                      'Train F1 Score' : train_f1_score,\n",
    "                                      'Test F1 Score' : test_f1_score,\n",
    "                                      'Затрачиваемое время, сек.' : round(time.time() - start_timer)\n",
    "                                      }, ignore_index = True)\n",
    "    elif purpose == 'TF-IDF':\n",
    "        tfidf_f1_results = tfidf_f1_results.append({'Модель' : output_model_name, \n",
    "                                                    'Train F1 Score' : train_f1_score,\n",
    "                                                    'Test F1 Score' : test_f1_score,\n",
    "                                                    'Затрачиваемое время, сек.' : round(time.time() - start_timer)\n",
    "                                                    }, ignore_index = True)\n",
    "    print('\\033[1m' +'Модель -', output_model_name + '\\033[0m')\n",
    "    print('\\033[1m' + 'Затрачиваемое время на выполнение -', round(time.time() - start_timer), 'сек. \\033[0m')\n",
    "    print('Оптимальные гиперпараметры:')\n",
    "    print(grid.best_params_)\n",
    "    print('')\n",
    "    print('Train F1 score -', train_f1_score)\n",
    "    print('Test F1 score -', test_f1_score)"
   ]
  },
  {
   "cell_type": "markdown",
   "metadata": {
    "id": "QJbm7sovZavv"
   },
   "source": [
    "Функция подготовлена к использованию, начнем с логистической регрессии\n",
    "\n",
    "### 2.1.1. Логистическая регрессия."
   ]
  },
  {
   "cell_type": "code",
   "execution_count": 14,
   "metadata": {
    "colab": {
     "base_uri": "https://localhost:8080/"
    },
    "id": "yiBQoJT7S3Mf",
    "outputId": "9927caca-fe8c-42ea-f503-ae73eecf2539"
   },
   "outputs": [
    {
     "name": "stdout",
     "output_type": "stream",
     "text": [
      "\u001b[1mМодель - Логистическая регрессия\u001b[0m\n",
      "\u001b[1mЗатрачиваемое время на выполнение - 109 сек. \u001b[0m\n",
      "Оптимальные гиперпараметры:\n",
      "{'C': 1, 'intercept_scaling': 1.5, 'solver': 'saga'}\n",
      "\n",
      "Train F1 score - 0.9325153374233128\n",
      "Test F1 score - 0.7741935483870969\n"
     ]
    }
   ],
   "source": [
    "parametrs = {'solver': ['newton-cg', 'lbfgs', 'liblinear', 'sag', 'saga'],\n",
    "             'intercept_scaling': [1.5, 1.65, 1.75, 1.85, 1.95, 2],\n",
    "             'C': [0.25, 0.5, 0.75, 1]}\n",
    "model_testing(LogisticRegression, parametrs, 'Логистическая регрессия', 'BERT', \n",
    "              x_train_bert, x_test_bert, y_train_bert, y_test_bert)"
   ]
  },
  {
   "cell_type": "markdown",
   "metadata": {
    "id": "hrGaOJnRZkW_"
   },
   "source": [
    "Видим что с использованием BERT логистическая регрессия с кроссвалидацией и автоподбором параметров показывает значение F1 score на тестовой выборке в 0.85, что является достаточно хорошим результатом при низких временных затратах. Теперь рассмотрим модель \"Дерево решений\"\n",
    "\n",
    "### 2.1.2. Ridge Classifier"
   ]
  },
  {
   "cell_type": "code",
   "execution_count": 15,
   "metadata": {
    "colab": {
     "base_uri": "https://localhost:8080/"
    },
    "id": "R-aX81caS3XT",
    "outputId": "cff324ba-8fd7-4699-d183-269833a05bde"
   },
   "outputs": [
    {
     "name": "stdout",
     "output_type": "stream",
     "text": [
      "\u001b[1mМодель - RidgeClassifier\u001b[0m\n",
      "\u001b[1mЗатрачиваемое время на выполнение - 23 сек. \u001b[0m\n",
      "Оптимальные гиперпараметры:\n",
      "{'alpha': 2, 'copy_X': True, 'fit_intercept': True, 'normalize': False, 'random_state': 11111, 'solver': 'lsqr'}\n",
      "\n",
      "Train F1 score - 0.951219512195122\n",
      "Test F1 score - 0.6909090909090908\n"
     ]
    }
   ],
   "source": [
    "parametrs = {'alpha': range(1, 5),\n",
    "             'fit_intercept': [True],\n",
    "             'normalize':[False],\n",
    "             'copy_X':[True],\n",
    "             'solver':['lsqr', 'sparse_cg', 'sag', 'saga'],\n",
    "             'random_state': [random_state]}\n",
    "model_testing(RidgeClassifier, parametrs, 'RidgeClassifier', 'BERT', \n",
    "              x_train_bert, x_test_bert, y_train_bert, y_test_bert)"
   ]
  },
  {
   "cell_type": "markdown",
   "metadata": {
    "id": "qmc78Y12Z0OO"
   },
   "source": [
    "Ridge Classifier также проходит установленный порог в 0.75 F1 Score на тестовой выборке, однако показывает более слабый результат по сравнению с логистической регрессией - F1-мера составила 0.78 на тестовой выборке. Переходим к модели случайного леса.\n",
    "\n",
    "### 2.1.3. SVM"
   ]
  },
  {
   "cell_type": "code",
   "execution_count": 16,
   "metadata": {
    "colab": {
     "base_uri": "https://localhost:8080/"
    },
    "id": "u3tcrn-oS3Zb",
    "outputId": "60a90df4-8a16-43b9-ca51-0a6c67ecc6cc"
   },
   "outputs": [
    {
     "name": "stdout",
     "output_type": "stream",
     "text": [
      "\u001b[1mМодель - SVM\u001b[0m\n",
      "\u001b[1mЗатрачиваемое время на выполнение - 26 сек. \u001b[0m\n",
      "Оптимальные гиперпараметры:\n",
      "{'C': 7, 'class_weight': None, 'gamma': 0.05, 'kernel': 'rbf'}\n",
      "\n",
      "Train F1 score - 1.0\n",
      "Test F1 score - 0.7241379310344829\n"
     ]
    }
   ],
   "source": [
    "parametrs = {'kernel': ['rbf'],\n",
    "             'C': [5, 6, 6.5, 7, 7.5, 8],\n",
    "             'class_weight': [None, 'balanced'],\n",
    "             'gamma': [0.05, 0.0057, 0.0055, 0.0053, 0.0051]}\n",
    "model_testing(SVC, parametrs, 'SVM', 'BERT', \n",
    "              x_train_bert, x_test_bert, y_train_bert, y_test_bert)"
   ]
  },
  {
   "cell_type": "markdown",
   "metadata": {
    "id": "6xgGwNtzakru"
   },
   "source": [
    "SVM, аналогично, проходит порог в 0.75 F1-меры, результаты являются достаточно оптимальными при временных затратах как у логистической регрессии. Рассмотрим модель CatBoost Classifier.\n",
    "\n",
    "### 2.1.4. CatBoost Classifier"
   ]
  },
  {
   "cell_type": "code",
   "execution_count": 17,
   "metadata": {
    "colab": {
     "base_uri": "https://localhost:8080/"
    },
    "id": "v95m5m4OS3bS",
    "outputId": "9495bebb-587e-4300-f869-5fe08384b69f"
   },
   "outputs": [
    {
     "name": "stdout",
     "output_type": "stream",
     "text": [
      "\u001b[1mМодель - CatBoost Classifier\u001b[0m\n",
      "\u001b[1mЗатрачиваемое время на выполнение - 37 сек. \u001b[0m\n",
      "Оптимальные гиперпараметры:\n",
      "{'auto_class_weights': 'Balanced', 'eval_metric': 'F1', 'iterations': 90, 'logging_level': 'Silent', 'loss_function': 'Logloss', 'max_depth': 4}\n",
      "\n",
      "Train F1 score - 1.0\n",
      "Test F1 score - 0.7096774193548386\n"
     ]
    }
   ],
   "source": [
    "parametrs = {'max_depth' : [4], \n",
    "             'loss_function' : ['Logloss'], \n",
    "             'eval_metric' : ['F1'], \n",
    "             'logging_level' : ['Silent'], \n",
    "             'iterations' : [90],\n",
    "             'auto_class_weights': ['Balanced']}\n",
    "model_testing(CatBoostClassifier, parametrs, 'CatBoost Classifier', 'BERT', \n",
    "              x_train_bert, x_test_bert, y_train_bert, y_test_bert)"
   ]
  },
  {
   "cell_type": "markdown",
   "metadata": {
    "id": "Ctiy1LDtbANj"
   },
   "source": [
    "Модель CatBoost Classifier показывает худшие результаты по времени, однако достаточно хорошие результаты по качеству, в случае если запас времени не ограничен - возможно кэтбуст сможет выдать наилучшие результаты по качеству. Теперь переходим к модели LGBM Classifier\n",
    "\n",
    "### 2.1.5. LGBM Classifier"
   ]
  },
  {
   "cell_type": "code",
   "execution_count": 18,
   "metadata": {
    "colab": {
     "base_uri": "https://localhost:8080/"
    },
    "id": "zj-DL1HtS3m-",
    "outputId": "99c59fa2-ab3e-4b26-c917-668c957c38db"
   },
   "outputs": [
    {
     "name": "stdout",
     "output_type": "stream",
     "text": [
      "\u001b[1mМодель - LGBM Classifier\u001b[0m\n",
      "\u001b[1mЗатрачиваемое время на выполнение - 265 сек. \u001b[0m\n",
      "Оптимальные гиперпараметры:\n",
      "{'is_unbalance': 'True', 'learning_rate': 0.1, 'max_depth': 1}\n",
      "\n",
      "Train F1 score - 0.8911917098445596\n",
      "Test F1 score - 0.6865671641791045\n"
     ]
    }
   ],
   "source": [
    "parametrs = {'max_depth': range(1, 30, 5),\n",
    "            'learning_rate' : [0.01, 0.05, 0.1],\n",
    "             'is_unbalance': ['True']}\n",
    "model_testing(LGBMClassifier, parametrs, 'LGBM Classifier', 'BERT', \n",
    "              x_train_bert, x_test_bert, y_train_bert, y_test_bert)"
   ]
  },
  {
   "cell_type": "markdown",
   "metadata": {
    "id": "Taczc4JSbVLM"
   },
   "source": [
    "Модель LGBM Classifier показывает средние результаты по времени, чуть дольше чем логистическая регрессия, однако по качеству не сильно уступает кэтбусту и регрессии. И переходим к последней рассматриваемой модели - XGBoost Classifier\n",
    "\n",
    "### 2.1.6. XGBoost Classifier"
   ]
  },
  {
   "cell_type": "code",
   "execution_count": 19,
   "metadata": {
    "colab": {
     "base_uri": "https://localhost:8080/"
    },
    "id": "1RxSaQqwS302",
    "outputId": "22acd89a-eb44-4954-e389-256ac8c41408"
   },
   "outputs": [
    {
     "name": "stdout",
     "output_type": "stream",
     "text": [
      "\u001b[1mМодель - XGBoost Classifier\u001b[0m\n",
      "\u001b[1mЗатрачиваемое время на выполнение - 100 сек. \u001b[0m\n",
      "Оптимальные гиперпараметры:\n",
      "{'max_depth': 20, 'n_estimators': 25, 'scale_pos_weight': 1, 'silent': True}\n",
      "\n",
      "Train F1 score - 1.0\n",
      "Test F1 score - 0.5882352941176471\n"
     ]
    }
   ],
   "source": [
    "parametrs = {'n_estimators': range(5, 50, 10), \n",
    "             'max_depth': range(20, 50, 5), \n",
    "             'silent' : [True],\n",
    "             'scale_pos_weight': [1]}\n",
    "model_testing(xgb.XGBClassifier, parametrs, 'XGBoost Classifier', 'BERT', \n",
    "              x_train_bert, x_test_bert, y_train_bert, y_test_bert)"
   ]
  },
  {
   "cell_type": "markdown",
   "metadata": {
    "id": "4fVn1H16bh_5"
   },
   "source": [
    "XGBoost показывает аналогичным образом как с LGBM Classifier достаточно средние результаты и сильно проигрывает в качестве другим моделям."
   ]
  },
  {
   "cell_type": "code",
   "execution_count": 20,
   "metadata": {
    "colab": {
     "base_uri": "https://localhost:8080/",
     "height": 235
    },
    "id": "RaDeGxYoTT8W",
    "outputId": "9c798b82-b5b1-41a3-fc4d-14559f157e62"
   },
   "outputs": [
    {
     "data": {
      "text/html": [
       "<div>\n",
       "<style scoped>\n",
       "    .dataframe tbody tr th:only-of-type {\n",
       "        vertical-align: middle;\n",
       "    }\n",
       "\n",
       "    .dataframe tbody tr th {\n",
       "        vertical-align: top;\n",
       "    }\n",
       "\n",
       "    .dataframe thead th {\n",
       "        text-align: right;\n",
       "    }\n",
       "</style>\n",
       "<table border=\"1\" class=\"dataframe\">\n",
       "  <thead>\n",
       "    <tr style=\"text-align: right;\">\n",
       "      <th></th>\n",
       "      <th>Модель</th>\n",
       "      <th>Train F1 Score</th>\n",
       "      <th>Test F1 Score</th>\n",
       "      <th>Затрачиваемое время, сек.</th>\n",
       "    </tr>\n",
       "  </thead>\n",
       "  <tbody>\n",
       "    <tr>\n",
       "      <th>0</th>\n",
       "      <td>Логистическая регрессия</td>\n",
       "      <td>0.932515</td>\n",
       "      <td>0.774194</td>\n",
       "      <td>109.0</td>\n",
       "    </tr>\n",
       "    <tr>\n",
       "      <th>1</th>\n",
       "      <td>RidgeClassifier</td>\n",
       "      <td>0.951220</td>\n",
       "      <td>0.690909</td>\n",
       "      <td>23.0</td>\n",
       "    </tr>\n",
       "    <tr>\n",
       "      <th>2</th>\n",
       "      <td>SVM</td>\n",
       "      <td>1.000000</td>\n",
       "      <td>0.724138</td>\n",
       "      <td>26.0</td>\n",
       "    </tr>\n",
       "    <tr>\n",
       "      <th>3</th>\n",
       "      <td>CatBoost Classifier</td>\n",
       "      <td>1.000000</td>\n",
       "      <td>0.709677</td>\n",
       "      <td>37.0</td>\n",
       "    </tr>\n",
       "    <tr>\n",
       "      <th>4</th>\n",
       "      <td>LGBM Classifier</td>\n",
       "      <td>0.891192</td>\n",
       "      <td>0.686567</td>\n",
       "      <td>265.0</td>\n",
       "    </tr>\n",
       "    <tr>\n",
       "      <th>5</th>\n",
       "      <td>XGBoost Classifier</td>\n",
       "      <td>1.000000</td>\n",
       "      <td>0.588235</td>\n",
       "      <td>100.0</td>\n",
       "    </tr>\n",
       "  </tbody>\n",
       "</table>\n",
       "</div>"
      ],
      "text/plain": [
       "                    Модель  ...  Затрачиваемое время, сек.\n",
       "0  Логистическая регрессия  ...                      109.0\n",
       "1          RidgeClassifier  ...                       23.0\n",
       "2                      SVM  ...                       26.0\n",
       "3      CatBoost Classifier  ...                       37.0\n",
       "4          LGBM Classifier  ...                      265.0\n",
       "5       XGBoost Classifier  ...                      100.0\n",
       "\n",
       "[6 rows x 4 columns]"
      ]
     },
     "metadata": {
      "tags": []
     },
     "output_type": "display_data"
    }
   ],
   "source": [
    "display(f1_results)"
   ]
  },
  {
   "cell_type": "markdown",
   "metadata": {
    "id": "r91KGZEYbq2I"
   },
   "source": [
    "По итогам использования BERT все используемые модели прошли порог в 0.75 F1-меры на тестовой выборке, однако для данного метода потребуются большие вычислительные мощности и большой запас времени так как разметка эмбеддингов занимает очень много времени.\n",
    "\n",
    "## 2.2. Использование TF-IDF.\n",
    "\n",
    "В первую очередь необходимо подготовить признаки и целевой признак, подготовить корпуса и TfidfVectorizer"
   ]
  },
  {
   "cell_type": "code",
   "execution_count": 21,
   "metadata": {
    "id": "8MqubqmYcMjZ"
   },
   "outputs": [],
   "source": [
    "x_train = x_train.astype('U').values\n",
    "x_test = x_test.astype('U').values\n",
    "\n",
    "count_tf_idf = TfidfVectorizer(stop_words=stop_words)\n",
    "tf_idf = count_tf_idf.fit(x_train)\n",
    "\n",
    "x_train = tf_idf.transform(x_train)\n",
    "x_test = tf_idf.transform(x_test)"
   ]
  },
  {
   "cell_type": "markdown",
   "metadata": {
    "id": "D3i7KBIRcfIX"
   },
   "source": [
    "Данные подготовлены к обучению, будем использовать аналогичную функцию для BERT, а в качестве моделей возьмем три модели, показавших наилучшие результаты на BERT - т.е. логистическую регрессию, LGBM Classifier и XGBoost Classifier. CatBoost не будем использовать так как его выполнение занимает достаточно много времени"
   ]
  },
  {
   "cell_type": "markdown",
   "metadata": {
    "id": "rTR5sI47c1GQ"
   },
   "source": [
    "### 2.2.1. Логистическая регрессия"
   ]
  },
  {
   "cell_type": "code",
   "execution_count": 22,
   "metadata": {
    "colab": {
     "base_uri": "https://localhost:8080/"
    },
    "id": "pwzDZsHfc9fv",
    "outputId": "058b9ef4-388d-4bcb-e545-8d4bbc888422"
   },
   "outputs": [
    {
     "name": "stdout",
     "output_type": "stream",
     "text": [
      "\u001b[1mМодель - Логистическая регрессия\u001b[0m\n",
      "\u001b[1mЗатрачиваемое время на выполнение - 341 сек. \u001b[0m\n",
      "Оптимальные гиперпараметры:\n",
      "{'C': 2, 'intercept_scaling': 0.5, 'solver': 'saga'}\n",
      "\n",
      "Train F1 score - 0.8035247752734358\n",
      "Test F1 score - 0.7574640619240692\n"
     ]
    }
   ],
   "source": [
    "parametrs = {'solver': ['newton-cg', 'lbfgs', 'liblinear', 'sag', 'saga'],\n",
    "             'intercept_scaling': [0.5, 1.0],\n",
    "             'C': [0.5, 1, 2]}\n",
    "model_testing(LogisticRegression, parametrs, 'Логистическая регрессия', 'TF-IDF', \n",
    "              x_train, x_test, y_train, y_test)"
   ]
  },
  {
   "cell_type": "markdown",
   "metadata": {
    "id": "ZtjboP4Rc3Zn"
   },
   "source": [
    "### 2.2.2. LGBM Classifier"
   ]
  },
  {
   "cell_type": "code",
   "execution_count": 23,
   "metadata": {
    "colab": {
     "base_uri": "https://localhost:8080/"
    },
    "id": "BA1vJGO0c90-",
    "outputId": "10ffc33f-e30f-4105-ab6a-455d5ff909dd"
   },
   "outputs": [
    {
     "name": "stdout",
     "output_type": "stream",
     "text": [
      "\u001b[1mМодель - LGBM Classifier\u001b[0m\n",
      "\u001b[1mЗатрачиваемое время на выполнение - 487 сек. \u001b[0m\n",
      "Оптимальные гиперпараметры:\n",
      "{'learning_rate': 0.1, 'max_depth': 9}\n",
      "\n",
      "Train F1 score - 0.7108917598103257\n",
      "Test F1 score - 0.6770645870825834\n"
     ]
    }
   ],
   "source": [
    "parametrs = {'max_depth': range(3, 10, 3),\n",
    "            'learning_rate' : [0.05, 0.1]}\n",
    "model_testing(LGBMClassifier, parametrs, 'LGBM Classifier', 'TF-IDF', \n",
    "              x_train, x_test, y_train, y_test)"
   ]
  },
  {
   "cell_type": "markdown",
   "metadata": {
    "id": "oXE_dNa4c6ye"
   },
   "source": [
    "### 2.2.3. XGBoost Classifier"
   ]
  },
  {
   "cell_type": "code",
   "execution_count": 24,
   "metadata": {
    "colab": {
     "base_uri": "https://localhost:8080/"
    },
    "id": "1m6NpO7QcdEn",
    "outputId": "64724b22-7134-468e-8e44-dc41805c976a"
   },
   "outputs": [
    {
     "name": "stdout",
     "output_type": "stream",
     "text": [
      "\u001b[1mМодель - XGBoost Classifier\u001b[0m\n",
      "\u001b[1mЗатрачиваемое время на выполнение - 41 сек. \u001b[0m\n",
      "Оптимальные гиперпараметры:\n",
      "{'n_estimators': 5, 'silent': True}\n",
      "\n",
      "Train F1 score - 0.42309994015559543\n",
      "Test F1 score - 0.437137330754352\n"
     ]
    }
   ],
   "source": [
    "parametrs = {'n_estimators': range(5, 15, 5), \n",
    "             'silent' : [True]}\n",
    "model_testing(xgb.XGBClassifier, parametrs, 'XGBoost Classifier', 'TF-IDF', \n",
    "              x_train, x_test, y_train, y_test)"
   ]
  },
  {
   "cell_type": "code",
   "execution_count": 25,
   "metadata": {
    "colab": {
     "base_uri": "https://localhost:8080/",
     "height": 360
    },
    "id": "yN20KgU2d6i4",
    "outputId": "ca757501-149b-43e9-a3a7-1e5bc74bdd55"
   },
   "outputs": [
    {
     "data": {
      "text/html": [
       "<div>\n",
       "<style scoped>\n",
       "    .dataframe tbody tr th:only-of-type {\n",
       "        vertical-align: middle;\n",
       "    }\n",
       "\n",
       "    .dataframe tbody tr th {\n",
       "        vertical-align: top;\n",
       "    }\n",
       "\n",
       "    .dataframe thead th {\n",
       "        text-align: right;\n",
       "    }\n",
       "</style>\n",
       "<table border=\"1\" class=\"dataframe\">\n",
       "  <thead>\n",
       "    <tr style=\"text-align: right;\">\n",
       "      <th></th>\n",
       "      <th>Модель</th>\n",
       "      <th>Train F1 Score</th>\n",
       "      <th>Test F1 Score</th>\n",
       "      <th>Затрачиваемое время, сек.</th>\n",
       "    </tr>\n",
       "  </thead>\n",
       "  <tbody>\n",
       "    <tr>\n",
       "      <th>0</th>\n",
       "      <td>Логистическая регрессия</td>\n",
       "      <td>0.803525</td>\n",
       "      <td>0.757464</td>\n",
       "      <td>341.0</td>\n",
       "    </tr>\n",
       "    <tr>\n",
       "      <th>1</th>\n",
       "      <td>LGBM Classifier</td>\n",
       "      <td>0.710892</td>\n",
       "      <td>0.677065</td>\n",
       "      <td>487.0</td>\n",
       "    </tr>\n",
       "    <tr>\n",
       "      <th>2</th>\n",
       "      <td>XGBoost Classifier</td>\n",
       "      <td>0.423100</td>\n",
       "      <td>0.437137</td>\n",
       "      <td>41.0</td>\n",
       "    </tr>\n",
       "  </tbody>\n",
       "</table>\n",
       "</div>"
      ],
      "text/plain": [
       "                    Модель  ...  Затрачиваемое время, сек.\n",
       "0  Логистическая регрессия  ...                      341.0\n",
       "1          LGBM Classifier  ...                      487.0\n",
       "2       XGBoost Classifier  ...                       41.0\n",
       "\n",
       "[3 rows x 4 columns]"
      ]
     },
     "metadata": {
      "tags": []
     },
     "output_type": "display_data"
    },
    {
     "data": {
      "text/html": [
       "<div>\n",
       "<style scoped>\n",
       "    .dataframe tbody tr th:only-of-type {\n",
       "        vertical-align: middle;\n",
       "    }\n",
       "\n",
       "    .dataframe tbody tr th {\n",
       "        vertical-align: top;\n",
       "    }\n",
       "\n",
       "    .dataframe thead th {\n",
       "        text-align: right;\n",
       "    }\n",
       "</style>\n",
       "<table border=\"1\" class=\"dataframe\">\n",
       "  <thead>\n",
       "    <tr style=\"text-align: right;\">\n",
       "      <th></th>\n",
       "      <th>Модель</th>\n",
       "      <th>Train F1 Score</th>\n",
       "      <th>Test F1 Score</th>\n",
       "      <th>Затрачиваемое время, сек.</th>\n",
       "    </tr>\n",
       "  </thead>\n",
       "  <tbody>\n",
       "    <tr>\n",
       "      <th>0</th>\n",
       "      <td>Логистическая регрессия</td>\n",
       "      <td>0.932515</td>\n",
       "      <td>0.774194</td>\n",
       "      <td>109.0</td>\n",
       "    </tr>\n",
       "    <tr>\n",
       "      <th>1</th>\n",
       "      <td>RidgeClassifier</td>\n",
       "      <td>0.951220</td>\n",
       "      <td>0.690909</td>\n",
       "      <td>23.0</td>\n",
       "    </tr>\n",
       "    <tr>\n",
       "      <th>2</th>\n",
       "      <td>SVM</td>\n",
       "      <td>1.000000</td>\n",
       "      <td>0.724138</td>\n",
       "      <td>26.0</td>\n",
       "    </tr>\n",
       "    <tr>\n",
       "      <th>3</th>\n",
       "      <td>CatBoost Classifier</td>\n",
       "      <td>1.000000</td>\n",
       "      <td>0.709677</td>\n",
       "      <td>37.0</td>\n",
       "    </tr>\n",
       "    <tr>\n",
       "      <th>4</th>\n",
       "      <td>LGBM Classifier</td>\n",
       "      <td>0.891192</td>\n",
       "      <td>0.686567</td>\n",
       "      <td>265.0</td>\n",
       "    </tr>\n",
       "    <tr>\n",
       "      <th>5</th>\n",
       "      <td>XGBoost Classifier</td>\n",
       "      <td>1.000000</td>\n",
       "      <td>0.588235</td>\n",
       "      <td>100.0</td>\n",
       "    </tr>\n",
       "  </tbody>\n",
       "</table>\n",
       "</div>"
      ],
      "text/plain": [
       "                    Модель  ...  Затрачиваемое время, сек.\n",
       "0  Логистическая регрессия  ...                      109.0\n",
       "1          RidgeClassifier  ...                       23.0\n",
       "2                      SVM  ...                       26.0\n",
       "3      CatBoost Classifier  ...                       37.0\n",
       "4          LGBM Classifier  ...                      265.0\n",
       "5       XGBoost Classifier  ...                      100.0\n",
       "\n",
       "[6 rows x 4 columns]"
      ]
     },
     "metadata": {
      "tags": []
     },
     "output_type": "display_data"
    }
   ],
   "source": [
    "display(tfidf_f1_results)\n",
    "display(f1_results)"
   ]
  },
  {
   "cell_type": "markdown",
   "metadata": {
    "id": "I-H9nalNpnnf"
   },
   "source": [
    "# 3. Итоговый вывод.\n",
    "\n",
    "По итогу данного проекта были выполнены следующие шаги:\n",
    "- Проверен датасет на наличие дубликатов, пропусков. Датасет был очищен от лишних символов/стопслов и лемматизирован отдельно для BERT и TF-IDF.\n",
    "- Датасет был подготовлен для BERT и TF-IDF: для БЕРТ была выполнена токенизация и эмбеддинг, для TF-IDF перевели признаки в корпус, разделили на выборки и с помощью TfidfVectorizer подготовили данные к обучению на моделях\n",
    "- Провели обучение и тестирование моделей: на BERT лучшими моделями по метрике f1-меры на тестовой выборке оказались логистическая регрессия (0.7741), SVM (0.7241), и Ridge Classifier (0.6909). На TF-IDF лучший результат показала модель логистической регрессии (0.7574) при cредних временных затратах. **Порог по метрике (0.75 F1 Score) с помощью BERT и TF-IDF смогла пройти только логистическая регрессия**"
   ]
  }
 ],
 "metadata": {
  "accelerator": "GPU",
  "colab": {
   "collapsed_sections": [],
   "name": "8fcd5a04-40fb-4260-89f9-ef0366c38900.ipynb",
   "provenance": [],
   "toc_visible": true
  },
  "kernelspec": {
   "display_name": "Python 3 (ipykernel)",
   "language": "python",
   "name": "python3"
  },
  "language_info": {
   "codemirror_mode": {
    "name": "ipython",
    "version": 3
   },
   "file_extension": ".py",
   "mimetype": "text/x-python",
   "name": "python",
   "nbconvert_exporter": "python",
   "pygments_lexer": "ipython3",
   "version": "3.9.5"
  },
  "toc": {
   "base_numbering": 1,
   "nav_menu": {},
   "number_sections": false,
   "sideBar": true,
   "skip_h1_title": false,
   "title_cell": "Table of Contents",
   "title_sidebar": "Contents",
   "toc_cell": false,
   "toc_position": {},
   "toc_section_display": true,
   "toc_window_display": false
  },
  "widgets": {
   "application/vnd.jupyter.widget-state+json": {
    "1fb05dea88cd4eca831670da7ca48dab": {
     "model_module": "@jupyter-widgets/controls",
     "model_name": "DescriptionStyleModel",
     "state": {
      "_model_module": "@jupyter-widgets/controls",
      "_model_module_version": "1.5.0",
      "_model_name": "DescriptionStyleModel",
      "_view_count": null,
      "_view_module": "@jupyter-widgets/base",
      "_view_module_version": "1.2.0",
      "_view_name": "StyleView",
      "description_width": ""
     }
    },
    "2d9e1ece45d34e0abef19d07c81a0c6e": {
     "model_module": "@jupyter-widgets/controls",
     "model_name": "ProgressStyleModel",
     "state": {
      "_model_module": "@jupyter-widgets/controls",
      "_model_module_version": "1.5.0",
      "_model_name": "ProgressStyleModel",
      "_view_count": null,
      "_view_module": "@jupyter-widgets/base",
      "_view_module_version": "1.2.0",
      "_view_name": "StyleView",
      "bar_color": null,
      "description_width": "initial"
     }
    },
    "33be171ee7be4c4c989c2f81a81691d6": {
     "model_module": "@jupyter-widgets/controls",
     "model_name": "HBoxModel",
     "state": {
      "_dom_classes": [],
      "_model_module": "@jupyter-widgets/controls",
      "_model_module_version": "1.5.0",
      "_model_name": "HBoxModel",
      "_view_count": null,
      "_view_module": "@jupyter-widgets/controls",
      "_view_module_version": "1.5.0",
      "_view_name": "HBoxView",
      "box_style": "",
      "children": [
       "IPY_MODEL_8e627cc14e164e4e845eac752c8ece3c",
       "IPY_MODEL_9f3a068c5ed24c2db6a3047e73ac233e"
      ],
      "layout": "IPY_MODEL_e7c6c3fa426c43d4acde887ba969b8d3"
     }
    },
    "34bca8802756485285b61ccb150b68b2": {
     "model_module": "@jupyter-widgets/controls",
     "model_name": "ProgressStyleModel",
     "state": {
      "_model_module": "@jupyter-widgets/controls",
      "_model_module_version": "1.5.0",
      "_model_name": "ProgressStyleModel",
      "_view_count": null,
      "_view_module": "@jupyter-widgets/base",
      "_view_module_version": "1.2.0",
      "_view_name": "StyleView",
      "bar_color": null,
      "description_width": "initial"
     }
    },
    "353b04c191b6441cba4c61da73707381": {
     "model_module": "@jupyter-widgets/base",
     "model_name": "LayoutModel",
     "state": {
      "_model_module": "@jupyter-widgets/base",
      "_model_module_version": "1.2.0",
      "_model_name": "LayoutModel",
      "_view_count": null,
      "_view_module": "@jupyter-widgets/base",
      "_view_module_version": "1.2.0",
      "_view_name": "LayoutView",
      "align_content": null,
      "align_items": null,
      "align_self": null,
      "border": null,
      "bottom": null,
      "display": null,
      "flex": null,
      "flex_flow": null,
      "grid_area": null,
      "grid_auto_columns": null,
      "grid_auto_flow": null,
      "grid_auto_rows": null,
      "grid_column": null,
      "grid_gap": null,
      "grid_row": null,
      "grid_template_areas": null,
      "grid_template_columns": null,
      "grid_template_rows": null,
      "height": null,
      "justify_content": null,
      "justify_items": null,
      "left": null,
      "margin": null,
      "max_height": null,
      "max_width": null,
      "min_height": null,
      "min_width": null,
      "object_fit": null,
      "object_position": null,
      "order": null,
      "overflow": null,
      "overflow_x": null,
      "overflow_y": null,
      "padding": null,
      "right": null,
      "top": null,
      "visibility": null,
      "width": null
     }
    },
    "42e7ed6201b247e69a4686fbcd4feb62": {
     "model_module": "@jupyter-widgets/base",
     "model_name": "LayoutModel",
     "state": {
      "_model_module": "@jupyter-widgets/base",
      "_model_module_version": "1.2.0",
      "_model_name": "LayoutModel",
      "_view_count": null,
      "_view_module": "@jupyter-widgets/base",
      "_view_module_version": "1.2.0",
      "_view_name": "LayoutView",
      "align_content": null,
      "align_items": null,
      "align_self": null,
      "border": null,
      "bottom": null,
      "display": null,
      "flex": null,
      "flex_flow": null,
      "grid_area": null,
      "grid_auto_columns": null,
      "grid_auto_flow": null,
      "grid_auto_rows": null,
      "grid_column": null,
      "grid_gap": null,
      "grid_row": null,
      "grid_template_areas": null,
      "grid_template_columns": null,
      "grid_template_rows": null,
      "height": null,
      "justify_content": null,
      "justify_items": null,
      "left": null,
      "margin": null,
      "max_height": null,
      "max_width": null,
      "min_height": null,
      "min_width": null,
      "object_fit": null,
      "object_position": null,
      "order": null,
      "overflow": null,
      "overflow_x": null,
      "overflow_y": null,
      "padding": null,
      "right": null,
      "top": null,
      "visibility": null,
      "width": null
     }
    },
    "80abe1fc453e43549015dbecab401944": {
     "model_module": "@jupyter-widgets/base",
     "model_name": "LayoutModel",
     "state": {
      "_model_module": "@jupyter-widgets/base",
      "_model_module_version": "1.2.0",
      "_model_name": "LayoutModel",
      "_view_count": null,
      "_view_module": "@jupyter-widgets/base",
      "_view_module_version": "1.2.0",
      "_view_name": "LayoutView",
      "align_content": null,
      "align_items": null,
      "align_self": null,
      "border": null,
      "bottom": null,
      "display": null,
      "flex": null,
      "flex_flow": null,
      "grid_area": null,
      "grid_auto_columns": null,
      "grid_auto_flow": null,
      "grid_auto_rows": null,
      "grid_column": null,
      "grid_gap": null,
      "grid_row": null,
      "grid_template_areas": null,
      "grid_template_columns": null,
      "grid_template_rows": null,
      "height": null,
      "justify_content": null,
      "justify_items": null,
      "left": null,
      "margin": null,
      "max_height": null,
      "max_width": null,
      "min_height": null,
      "min_width": null,
      "object_fit": null,
      "object_position": null,
      "order": null,
      "overflow": null,
      "overflow_x": null,
      "overflow_y": null,
      "padding": null,
      "right": null,
      "top": null,
      "visibility": null,
      "width": null
     }
    },
    "84d502e386bf4e81b6dd4cbbe67667f8": {
     "model_module": "@jupyter-widgets/base",
     "model_name": "LayoutModel",
     "state": {
      "_model_module": "@jupyter-widgets/base",
      "_model_module_version": "1.2.0",
      "_model_name": "LayoutModel",
      "_view_count": null,
      "_view_module": "@jupyter-widgets/base",
      "_view_module_version": "1.2.0",
      "_view_name": "LayoutView",
      "align_content": null,
      "align_items": null,
      "align_self": null,
      "border": null,
      "bottom": null,
      "display": null,
      "flex": null,
      "flex_flow": null,
      "grid_area": null,
      "grid_auto_columns": null,
      "grid_auto_flow": null,
      "grid_auto_rows": null,
      "grid_column": null,
      "grid_gap": null,
      "grid_row": null,
      "grid_template_areas": null,
      "grid_template_columns": null,
      "grid_template_rows": null,
      "height": null,
      "justify_content": null,
      "justify_items": null,
      "left": null,
      "margin": null,
      "max_height": null,
      "max_width": null,
      "min_height": null,
      "min_width": null,
      "object_fit": null,
      "object_position": null,
      "order": null,
      "overflow": null,
      "overflow_x": null,
      "overflow_y": null,
      "padding": null,
      "right": null,
      "top": null,
      "visibility": null,
      "width": null
     }
    },
    "8de081a4d9cb424c935cc20a7e7c0c51": {
     "model_module": "@jupyter-widgets/controls",
     "model_name": "FloatProgressModel",
     "state": {
      "_dom_classes": [],
      "_model_module": "@jupyter-widgets/controls",
      "_model_module_version": "1.5.0",
      "_model_name": "FloatProgressModel",
      "_view_count": null,
      "_view_module": "@jupyter-widgets/controls",
      "_view_module_version": "1.5.0",
      "_view_name": "ProgressView",
      "bar_style": "success",
      "description": "100%",
      "description_tooltip": null,
      "layout": "IPY_MODEL_84d502e386bf4e81b6dd4cbbe67667f8",
      "max": 15,
      "min": 0,
      "orientation": "horizontal",
      "style": "IPY_MODEL_34bca8802756485285b61ccb150b68b2",
      "value": 15
     }
    },
    "8e627cc14e164e4e845eac752c8ece3c": {
     "model_module": "@jupyter-widgets/controls",
     "model_name": "FloatProgressModel",
     "state": {
      "_dom_classes": [],
      "_model_module": "@jupyter-widgets/controls",
      "_model_module_version": "1.5.0",
      "_model_name": "FloatProgressModel",
      "_view_count": null,
      "_view_module": "@jupyter-widgets/controls",
      "_view_module_version": "1.5.0",
      "_view_name": "ProgressView",
      "bar_style": "success",
      "description": "100%",
      "description_tooltip": null,
      "layout": "IPY_MODEL_80abe1fc453e43549015dbecab401944",
      "max": 5,
      "min": 0,
      "orientation": "horizontal",
      "style": "IPY_MODEL_2d9e1ece45d34e0abef19d07c81a0c6e",
      "value": 5
     }
    },
    "9f3a068c5ed24c2db6a3047e73ac233e": {
     "model_module": "@jupyter-widgets/controls",
     "model_name": "HTMLModel",
     "state": {
      "_dom_classes": [],
      "_model_module": "@jupyter-widgets/controls",
      "_model_module_version": "1.5.0",
      "_model_name": "HTMLModel",
      "_view_count": null,
      "_view_module": "@jupyter-widgets/controls",
      "_view_module_version": "1.5.0",
      "_view_name": "HTMLView",
      "description": "",
      "description_tooltip": null,
      "layout": "IPY_MODEL_c9e0639789184bcabc35c586bd937efe",
      "placeholder": "​",
      "style": "IPY_MODEL_1fb05dea88cd4eca831670da7ca48dab",
      "value": " 5/5 [03:13&lt;00:00, 38.67s/it]"
     }
    },
    "b75d0b51c5da46e8b859e0e126ee6a67": {
     "model_module": "@jupyter-widgets/controls",
     "model_name": "HTMLModel",
     "state": {
      "_dom_classes": [],
      "_model_module": "@jupyter-widgets/controls",
      "_model_module_version": "1.5.0",
      "_model_name": "HTMLModel",
      "_view_count": null,
      "_view_module": "@jupyter-widgets/controls",
      "_view_module_version": "1.5.0",
      "_view_name": "HTMLView",
      "description": "",
      "description_tooltip": null,
      "layout": "IPY_MODEL_42e7ed6201b247e69a4686fbcd4feb62",
      "placeholder": "​",
      "style": "IPY_MODEL_e24553dbbec1495f9454f8cd3963530d",
      "value": " 15/15 [12:53&lt;00:00, 51.58s/it]"
     }
    },
    "c9e0639789184bcabc35c586bd937efe": {
     "model_module": "@jupyter-widgets/base",
     "model_name": "LayoutModel",
     "state": {
      "_model_module": "@jupyter-widgets/base",
      "_model_module_version": "1.2.0",
      "_model_name": "LayoutModel",
      "_view_count": null,
      "_view_module": "@jupyter-widgets/base",
      "_view_module_version": "1.2.0",
      "_view_name": "LayoutView",
      "align_content": null,
      "align_items": null,
      "align_self": null,
      "border": null,
      "bottom": null,
      "display": null,
      "flex": null,
      "flex_flow": null,
      "grid_area": null,
      "grid_auto_columns": null,
      "grid_auto_flow": null,
      "grid_auto_rows": null,
      "grid_column": null,
      "grid_gap": null,
      "grid_row": null,
      "grid_template_areas": null,
      "grid_template_columns": null,
      "grid_template_rows": null,
      "height": null,
      "justify_content": null,
      "justify_items": null,
      "left": null,
      "margin": null,
      "max_height": null,
      "max_width": null,
      "min_height": null,
      "min_width": null,
      "object_fit": null,
      "object_position": null,
      "order": null,
      "overflow": null,
      "overflow_x": null,
      "overflow_y": null,
      "padding": null,
      "right": null,
      "top": null,
      "visibility": null,
      "width": null
     }
    },
    "d96cad24cda54eecb04903807856a4fc": {
     "model_module": "@jupyter-widgets/controls",
     "model_name": "HBoxModel",
     "state": {
      "_dom_classes": [],
      "_model_module": "@jupyter-widgets/controls",
      "_model_module_version": "1.5.0",
      "_model_name": "HBoxModel",
      "_view_count": null,
      "_view_module": "@jupyter-widgets/controls",
      "_view_module_version": "1.5.0",
      "_view_name": "HBoxView",
      "box_style": "",
      "children": [
       "IPY_MODEL_8de081a4d9cb424c935cc20a7e7c0c51",
       "IPY_MODEL_b75d0b51c5da46e8b859e0e126ee6a67"
      ],
      "layout": "IPY_MODEL_353b04c191b6441cba4c61da73707381"
     }
    },
    "e24553dbbec1495f9454f8cd3963530d": {
     "model_module": "@jupyter-widgets/controls",
     "model_name": "DescriptionStyleModel",
     "state": {
      "_model_module": "@jupyter-widgets/controls",
      "_model_module_version": "1.5.0",
      "_model_name": "DescriptionStyleModel",
      "_view_count": null,
      "_view_module": "@jupyter-widgets/base",
      "_view_module_version": "1.2.0",
      "_view_name": "StyleView",
      "description_width": ""
     }
    },
    "e7c6c3fa426c43d4acde887ba969b8d3": {
     "model_module": "@jupyter-widgets/base",
     "model_name": "LayoutModel",
     "state": {
      "_model_module": "@jupyter-widgets/base",
      "_model_module_version": "1.2.0",
      "_model_name": "LayoutModel",
      "_view_count": null,
      "_view_module": "@jupyter-widgets/base",
      "_view_module_version": "1.2.0",
      "_view_name": "LayoutView",
      "align_content": null,
      "align_items": null,
      "align_self": null,
      "border": null,
      "bottom": null,
      "display": null,
      "flex": null,
      "flex_flow": null,
      "grid_area": null,
      "grid_auto_columns": null,
      "grid_auto_flow": null,
      "grid_auto_rows": null,
      "grid_column": null,
      "grid_gap": null,
      "grid_row": null,
      "grid_template_areas": null,
      "grid_template_columns": null,
      "grid_template_rows": null,
      "height": null,
      "justify_content": null,
      "justify_items": null,
      "left": null,
      "margin": null,
      "max_height": null,
      "max_width": null,
      "min_height": null,
      "min_width": null,
      "object_fit": null,
      "object_position": null,
      "order": null,
      "overflow": null,
      "overflow_x": null,
      "overflow_y": null,
      "padding": null,
      "right": null,
      "top": null,
      "visibility": null,
      "width": null
     }
    }
   }
  }
 },
 "nbformat": 4,
 "nbformat_minor": 1
}
