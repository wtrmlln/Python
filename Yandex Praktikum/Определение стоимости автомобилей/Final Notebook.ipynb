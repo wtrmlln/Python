{
 "cells": [
  {
   "cell_type": "markdown",
   "metadata": {},
   "source": [
    "# Определение стоимости автомобилей"
   ]
  },
  {
   "cell_type": "markdown",
   "metadata": {},
   "source": [
    "Сервис по продаже автомобилей с пробегом «Не бит, не крашен» разрабатывает приложение для привлечения новых клиентов. В нём можно быстро узнать рыночную стоимость своего автомобиля. В вашем распоряжении исторические данные: технические характеристики, комплектации и цены автомобилей. Вам нужно построить модель для определения стоимости. \n",
    "\n",
    "Заказчику важны:\n",
    "\n",
    "- качество предсказания;\n",
    "- скорость предсказания;\n",
    "- время обучения."
   ]
  },
  {
   "cell_type": "markdown",
   "metadata": {},
   "source": [
    "# Описание данных:\n",
    "\n",
    "## Признаки:\n",
    "- **DateCrawled** — дата скачивания анкеты из базы\n",
    "- **VehicleType** — тип автомобильного кузова\n",
    "- **RegistrationYear** — год регистрации автомобиля\n",
    "- **Gearbox** — тип коробки передач\n",
    "- **Power** — мощность (л. с.)\n",
    "- **Model** — модель автомобиля\n",
    "- **Kilometer** — пробег (км)\n",
    "- **RegistrationMonth** — месяц регистрации автомобиля\n",
    "- **FuelType** — тип топлива\n",
    "- **Brand** — марка автомобиля\n",
    "- **NotRepaired** — была машина в ремонте или нет\n",
    "- **DateCreated** — дата создания анкеты\n",
    "- **NumberOfPictures** — количество фотографий автомобиля\n",
    "- **PostalCode** — почтовый индекс владельца анкеты (пользователя)\n",
    "- **LastSeen** — дата последней активности пользователя\n",
    "\n",
    "## Целевой признак:\n",
    "- **Price** — цена (евро)"
   ]
  },
  {
   "cell_type": "markdown",
   "metadata": {},
   "source": [
    "Чтобы усилить исследование, не ограничивайтесь градиентным бустингом. Попробуйте более простые модели — иногда они работают лучше. Это редкие случаи, которые легко пропустить, если всегда применять только бустинг.\n",
    "Самостоятельно освойте библиотеку LightGBM и её средствами постройте модели градиентного бустинга.\n",
    "Поскольку модель градиентного бустинга может обучаться долго, измените у неё только два-три параметра."
   ]
  },
  {
   "cell_type": "markdown",
   "metadata": {},
   "source": [
    "# План работы:\n",
    "\n",
    "1. Загрузка и подготовка данных\n",
    "2. Обучение разных моделях на разных гиперпараметрах\n",
    "3. Анализ скорости и качества работы разных моделей. Оценка качества будет производиться с помощью метрики RMSE."
   ]
  },
  {
   "cell_type": "markdown",
   "metadata": {},
   "source": [
    "# Загрузка библиотек:"
   ]
  },
  {
   "cell_type": "code",
   "execution_count": 1,
   "metadata": {},
   "outputs": [],
   "source": [
    "import warnings; warnings.filterwarnings(\"ignore\", category=Warning)\n",
    "\n",
    "import pandas as pd\n",
    "import numpy as np\n",
    "import matplotlib.pyplot as plt\n",
    "import lightgbm as ltb\n",
    "import seaborn as sns\n",
    "\n",
    "from sklearn.linear_model import LinearRegression\n",
    "from sklearn.tree import DecisionTreeRegressor\n",
    "from sklearn.ensemble import RandomForestRegressor\n",
    "from catboost import CatBoostRegressor\n",
    "from lightgbm import LGBMRegressor\n",
    "\n",
    "from sklearn.model_selection import GridSearchCV\n",
    "from sklearn.model_selection import KFold\n",
    "\n",
    "from sklearn.model_selection import train_test_split\n",
    "\n",
    "from sklearn.metrics import mean_squared_error\n",
    "from sklearn.metrics import make_scorer\n",
    "\n",
    "from sklearn.preprocessing import StandardScaler\n",
    "from sklearn.preprocessing import OrdinalEncoder"
   ]
  },
  {
   "cell_type": "markdown",
   "metadata": {},
   "source": [
    "# 1. Загрузка и подготовка данных"
   ]
  },
  {
   "cell_type": "code",
   "execution_count": 2,
   "metadata": {},
   "outputs": [
    {
     "data": {
      "text/html": [
       "<div>\n",
       "<style scoped>\n",
       "    .dataframe tbody tr th:only-of-type {\n",
       "        vertical-align: middle;\n",
       "    }\n",
       "\n",
       "    .dataframe tbody tr th {\n",
       "        vertical-align: top;\n",
       "    }\n",
       "\n",
       "    .dataframe thead th {\n",
       "        text-align: right;\n",
       "    }\n",
       "</style>\n",
       "<table border=\"1\" class=\"dataframe\">\n",
       "  <thead>\n",
       "    <tr style=\"text-align: right;\">\n",
       "      <th></th>\n",
       "      <th>DateCrawled</th>\n",
       "      <th>Price</th>\n",
       "      <th>VehicleType</th>\n",
       "      <th>RegistrationYear</th>\n",
       "      <th>Gearbox</th>\n",
       "      <th>Power</th>\n",
       "      <th>Model</th>\n",
       "      <th>Kilometer</th>\n",
       "      <th>RegistrationMonth</th>\n",
       "      <th>FuelType</th>\n",
       "      <th>Brand</th>\n",
       "      <th>NotRepaired</th>\n",
       "      <th>DateCreated</th>\n",
       "      <th>NumberOfPictures</th>\n",
       "      <th>PostalCode</th>\n",
       "      <th>LastSeen</th>\n",
       "    </tr>\n",
       "  </thead>\n",
       "  <tbody>\n",
       "    <tr>\n",
       "      <td>0</td>\n",
       "      <td>2016-03-24 11:52:17</td>\n",
       "      <td>480</td>\n",
       "      <td>NaN</td>\n",
       "      <td>1993</td>\n",
       "      <td>manual</td>\n",
       "      <td>0</td>\n",
       "      <td>golf</td>\n",
       "      <td>150000</td>\n",
       "      <td>0</td>\n",
       "      <td>petrol</td>\n",
       "      <td>volkswagen</td>\n",
       "      <td>NaN</td>\n",
       "      <td>2016-03-24 00:00:00</td>\n",
       "      <td>0</td>\n",
       "      <td>70435</td>\n",
       "      <td>2016-04-07 03:16:57</td>\n",
       "    </tr>\n",
       "    <tr>\n",
       "      <td>1</td>\n",
       "      <td>2016-03-24 10:58:45</td>\n",
       "      <td>18300</td>\n",
       "      <td>coupe</td>\n",
       "      <td>2011</td>\n",
       "      <td>manual</td>\n",
       "      <td>190</td>\n",
       "      <td>NaN</td>\n",
       "      <td>125000</td>\n",
       "      <td>5</td>\n",
       "      <td>gasoline</td>\n",
       "      <td>audi</td>\n",
       "      <td>yes</td>\n",
       "      <td>2016-03-24 00:00:00</td>\n",
       "      <td>0</td>\n",
       "      <td>66954</td>\n",
       "      <td>2016-04-07 01:46:50</td>\n",
       "    </tr>\n",
       "    <tr>\n",
       "      <td>2</td>\n",
       "      <td>2016-03-14 12:52:21</td>\n",
       "      <td>9800</td>\n",
       "      <td>suv</td>\n",
       "      <td>2004</td>\n",
       "      <td>auto</td>\n",
       "      <td>163</td>\n",
       "      <td>grand</td>\n",
       "      <td>125000</td>\n",
       "      <td>8</td>\n",
       "      <td>gasoline</td>\n",
       "      <td>jeep</td>\n",
       "      <td>NaN</td>\n",
       "      <td>2016-03-14 00:00:00</td>\n",
       "      <td>0</td>\n",
       "      <td>90480</td>\n",
       "      <td>2016-04-05 12:47:46</td>\n",
       "    </tr>\n",
       "    <tr>\n",
       "      <td>3</td>\n",
       "      <td>2016-03-17 16:54:04</td>\n",
       "      <td>1500</td>\n",
       "      <td>small</td>\n",
       "      <td>2001</td>\n",
       "      <td>manual</td>\n",
       "      <td>75</td>\n",
       "      <td>golf</td>\n",
       "      <td>150000</td>\n",
       "      <td>6</td>\n",
       "      <td>petrol</td>\n",
       "      <td>volkswagen</td>\n",
       "      <td>no</td>\n",
       "      <td>2016-03-17 00:00:00</td>\n",
       "      <td>0</td>\n",
       "      <td>91074</td>\n",
       "      <td>2016-03-17 17:40:17</td>\n",
       "    </tr>\n",
       "    <tr>\n",
       "      <td>4</td>\n",
       "      <td>2016-03-31 17:25:20</td>\n",
       "      <td>3600</td>\n",
       "      <td>small</td>\n",
       "      <td>2008</td>\n",
       "      <td>manual</td>\n",
       "      <td>69</td>\n",
       "      <td>fabia</td>\n",
       "      <td>90000</td>\n",
       "      <td>7</td>\n",
       "      <td>gasoline</td>\n",
       "      <td>skoda</td>\n",
       "      <td>no</td>\n",
       "      <td>2016-03-31 00:00:00</td>\n",
       "      <td>0</td>\n",
       "      <td>60437</td>\n",
       "      <td>2016-04-06 10:17:21</td>\n",
       "    </tr>\n",
       "  </tbody>\n",
       "</table>\n",
       "</div>"
      ],
      "text/plain": [
       "           DateCrawled  Price VehicleType  RegistrationYear Gearbox  Power  \\\n",
       "0  2016-03-24 11:52:17    480         NaN              1993  manual      0   \n",
       "1  2016-03-24 10:58:45  18300       coupe              2011  manual    190   \n",
       "2  2016-03-14 12:52:21   9800         suv              2004    auto    163   \n",
       "3  2016-03-17 16:54:04   1500       small              2001  manual     75   \n",
       "4  2016-03-31 17:25:20   3600       small              2008  manual     69   \n",
       "\n",
       "   Model  Kilometer  RegistrationMonth  FuelType       Brand NotRepaired  \\\n",
       "0   golf     150000                  0    petrol  volkswagen         NaN   \n",
       "1    NaN     125000                  5  gasoline        audi         yes   \n",
       "2  grand     125000                  8  gasoline        jeep         NaN   \n",
       "3   golf     150000                  6    petrol  volkswagen          no   \n",
       "4  fabia      90000                  7  gasoline       skoda          no   \n",
       "\n",
       "           DateCreated  NumberOfPictures  PostalCode             LastSeen  \n",
       "0  2016-03-24 00:00:00                 0       70435  2016-04-07 03:16:57  \n",
       "1  2016-03-24 00:00:00                 0       66954  2016-04-07 01:46:50  \n",
       "2  2016-03-14 00:00:00                 0       90480  2016-04-05 12:47:46  \n",
       "3  2016-03-17 00:00:00                 0       91074  2016-03-17 17:40:17  \n",
       "4  2016-03-31 00:00:00                 0       60437  2016-04-06 10:17:21  "
      ]
     },
     "execution_count": 2,
     "metadata": {},
     "output_type": "execute_result"
    }
   ],
   "source": [
    "df = pd.read_csv('/datasets/autos.csv')\n",
    "df.head(5)"
   ]
  },
  {
   "cell_type": "code",
   "execution_count": 3,
   "metadata": {},
   "outputs": [
    {
     "name": "stdout",
     "output_type": "stream",
     "text": [
      "<class 'pandas.core.frame.DataFrame'>\n",
      "RangeIndex: 354369 entries, 0 to 354368\n",
      "Data columns (total 16 columns):\n",
      "DateCrawled          354369 non-null object\n",
      "Price                354369 non-null int64\n",
      "VehicleType          316879 non-null object\n",
      "RegistrationYear     354369 non-null int64\n",
      "Gearbox              334536 non-null object\n",
      "Power                354369 non-null int64\n",
      "Model                334664 non-null object\n",
      "Kilometer            354369 non-null int64\n",
      "RegistrationMonth    354369 non-null int64\n",
      "FuelType             321474 non-null object\n",
      "Brand                354369 non-null object\n",
      "NotRepaired          283215 non-null object\n",
      "DateCreated          354369 non-null object\n",
      "NumberOfPictures     354369 non-null int64\n",
      "PostalCode           354369 non-null int64\n",
      "LastSeen             354369 non-null object\n",
      "dtypes: int64(7), object(9)\n",
      "memory usage: 43.3+ MB\n"
     ]
    }
   ],
   "source": [
    "df.info()"
   ]
  },
  {
   "cell_type": "markdown",
   "metadata": {},
   "source": [
    "С типами данных всё в порядке, однако присутствуют пропуски в различных столбцах, взглянем на них подробнее с помощью гистограммы."
   ]
  },
  {
   "cell_type": "code",
   "execution_count": 4,
   "metadata": {},
   "outputs": [
    {
     "data": {
      "image/png": "[encoded data removed]",
      "text/plain": [
       "<Figure size 432x288 with 1 Axes>"
      ]
     },
     "metadata": {
      "needs_background": "light"
     },
     "output_type": "display_data"
    }
   ],
   "source": [
    "percentage_of_nans = df.isna().mean().round(4) * 100\n",
    "percentage_of_nans = percentage_of_nans[percentage_of_nans > 0]\n",
    "percentage_of_nans.index = (['Была машина в ремонте', 'Тип топлива', 'Модель автомобиля', 'Тип коробки передач', 'Тип кузова'])\n",
    "percentage_of_nans = percentage_of_nans.sort_values(ascending = False)\n",
    "colors = ['yellowgreen','red','gold','lightskyblue','grey','lightcoral','blue','pink', 'darkgreen','yellow']\n",
    "\n",
    "x = percentage_of_nans.keys()\n",
    "y = percentage_of_nans.values\n",
    "\n",
    "fig, ax = plt.subplots()\n",
    "\n",
    "plt.yticks(fontsize=10)\n",
    "plt.xticks(fontsize=10)\n",
    "\n",
    "plt.grid(axis = 'x', color = 'black')\n",
    "plt.barh(x, y, color = colors, edgecolor = 'black', height = 0.5)\n",
    "plt.xlabel('% пропусков')\n",
    "plt.title('Процент пропусков в датасете по столбцам')\n",
    "plt.show()"
   ]
  },
  {
   "cell_type": "markdown",
   "metadata": {},
   "source": [
    "Видим что наибольшее количество пропусков находится в столбце \"Тип кузова\", также достаточно много (> 7.5%) пропусков в столбцах \"Тип коробки передачи\" и \"Была ли машина в ремонте\". В дальнейшем необходимо будет подробнее рассмотреть данные столбцы, при необходимости построить графики распределений, и принять решение - как следует поступить с пропусками в этих столбцах. \n",
    "\n",
    "Перед этим взглянем на коррелограмму по столбцам с числовыми значениями в нашем датасете."
   ]
  },
  {
   "cell_type": "code",
   "execution_count": 5,
   "metadata": {},
   "outputs": [
    {
     "data": {
      "image/png": "[encoded data removed]",
      "text/plain": [
       "<Figure size 3000x3000 with 2 Axes>"
      ]
     },
     "metadata": {
      "needs_background": "light"
     },
     "output_type": "display_data"
    }
   ],
   "source": [
    "correl_columns_y = ['1. Цена (евро)', '2. Год регистрации автомобиля', '3. Мощность (л.с)', '4. Пробег (км.)', \n",
    "                    '5. Месяц регистрации автомобиля', '6. Количество фотографий автомобиля', '7. Почтовый индекс пользователя']\n",
    "\n",
    "correl_columns_x = list(range(1, 8))\n",
    "plt.figure(figsize=(15,15), dpi=200)\n",
    "\n",
    "sns.heatmap(df.corr(), xticklabels = correl_columns_x, yticklabels=correl_columns_y, \n",
    "            cmap='RdYlGn', center=0, annot=True, fmt='.2f', vmin=-1, vmax=1, square = True)\n",
    "\n",
    "plt.xticks(fontsize=10)\n",
    "plt.yticks(fontsize=10)\n",
    "plt.show()"
   ]
  },
  {
   "cell_type": "markdown",
   "metadata": {},
   "source": [
    "Исходя из коррелограммы наблюдаем что наибольшее влияние на цену оказывает мощность, пробег, год и месяц регистрации автомобиля. Количество фотографий у автомобиля по какой-то причине не оказывает влияние на показатели цены автомобиля. Аномалия с почтовым индексом скорее всего объясняется тем что почтовый код указан в качестве чистого числового значения (по своей сути он нам не нужен и не должен оказывать влияние на итоговую цену автомобиля, соответственно мы избавимся от этого столбца в будущем).\n",
    "\n",
    "Теперь взглянем в чем причина нулевого влияния количества фотографий автомобиля на конечную цену:"
   ]
  },
  {
   "cell_type": "code",
   "execution_count": 6,
   "metadata": {},
   "outputs": [
    {
     "data": {
      "text/plain": [
       "0    354369\n",
       "Name: NumberOfPictures, dtype: int64"
      ]
     },
     "execution_count": 6,
     "metadata": {},
     "output_type": "execute_result"
    }
   ],
   "source": [
    "df['NumberOfPictures'].value_counts()"
   ]
  },
  {
   "cell_type": "markdown",
   "metadata": {},
   "source": [
    "Причина обнаружена - все значения в этом столбце всегда равны нулю, соответственно он нам не понадобится. Также сразу определим какие столбцы нам понадобятся для обучения и проверки моделей:\n",
    "\n",
    "- **VehicleType** - Тип машины обязательно необходим, чем больше возможносей у машины, тем выше цена.\n",
    "- **GearBox** - Тип коробки передач также определяет стоимость автомобиля - если это автомат, то стоимость машины возрастёт.\n",
    "- **Power** - По коррелограмме определили, что мощность автомобиля напрямую влияет на цену. \n",
    "- **Kilometr**- Также по коррелограмме определили, что чем меньше пробег у автомобиля - тем выше цена.\n",
    "- **FuelType** - Тип топлива тоже имеет косвенное влияние на стоимость автомобиля, так как оно определяет конструкцию двигателя\n",
    "- **Brand** - Бренд автомобиля напрямую влияет на стоимость автомобиля, так как доверие потребителей к разным брендам сильно варьируется\n",
    "- **NotRepaired** - Случались ли с автомобилем какие-либо технические неполадки, или же попадала ли она в ДТП - напрямую влияет на стоимость автомобиля.\n",
    "- **RegistrationYear** - Год регистрации определяет сколько уже лет машина на ходу. соответвенно, чем больше возраст, тем меньше цена.\n",
    "- **Model** - В совокупности с типом машины и брендом также может влиять на популярность у покупателей.\n",
    "\n",
    "Теперь определим от каких столбцов необходимо избавиться:\n",
    "\n",
    "- **DateCrawled** - дата скачивания анкеты из базы не имеет для нас практической необходимости\n",
    "- **RegistrationMonth** - особой необходимости содержать этот признак не имеет нужды так как у нас есть год регистрации\n",
    "- **DateCreated** - аналогично с датой скачивания анкеты из базы\n",
    "- **PostalCode** - лишняя информация не имеющая практической ценности\n",
    "- **LastSeen** - аналогично с почтовым индексом.\n",
    "\n",
    "От столбцов избавимся после полной обработки пропусков в данных. Теперь же взглянем на общее количество пропусков, нулевых значений и дубликатов."
   ]
  },
  {
   "cell_type": "markdown",
   "metadata": {},
   "source": [
    "Нашли четыре дубликата, взглянем на них подробнее."
   ]
  },
  {
   "cell_type": "code",
   "execution_count": 7,
   "metadata": {},
   "outputs": [
    {
     "name": "stdout",
     "output_type": "stream",
     "text": [
      "Количество пропусков - 181077\n",
      "Количество нулевых значений - 181077\n",
      "Количество дубликатов - 4\n"
     ]
    }
   ],
   "source": [
    "print('Количество пропусков -', df.isna().sum().sum())\n",
    "print('Количество нулевых значений -', df.isnull().sum().sum())\n",
    "print('Количество дубликатов -', df.duplicated().sum())"
   ]
  },
  {
   "cell_type": "code",
   "execution_count": 8,
   "metadata": {},
   "outputs": [
    {
     "data": {
      "text/html": [
       "<div>\n",
       "<style scoped>\n",
       "    .dataframe tbody tr th:only-of-type {\n",
       "        vertical-align: middle;\n",
       "    }\n",
       "\n",
       "    .dataframe tbody tr th {\n",
       "        vertical-align: top;\n",
       "    }\n",
       "\n",
       "    .dataframe thead th {\n",
       "        text-align: right;\n",
       "    }\n",
       "</style>\n",
       "<table border=\"1\" class=\"dataframe\">\n",
       "  <thead>\n",
       "    <tr style=\"text-align: right;\">\n",
       "      <th></th>\n",
       "      <th>DateCrawled</th>\n",
       "      <th>Price</th>\n",
       "      <th>VehicleType</th>\n",
       "      <th>RegistrationYear</th>\n",
       "      <th>Gearbox</th>\n",
       "      <th>Power</th>\n",
       "      <th>Model</th>\n",
       "      <th>Kilometer</th>\n",
       "      <th>RegistrationMonth</th>\n",
       "      <th>FuelType</th>\n",
       "      <th>Brand</th>\n",
       "      <th>NotRepaired</th>\n",
       "      <th>DateCreated</th>\n",
       "      <th>NumberOfPictures</th>\n",
       "      <th>PostalCode</th>\n",
       "      <th>LastSeen</th>\n",
       "    </tr>\n",
       "  </thead>\n",
       "  <tbody>\n",
       "    <tr>\n",
       "      <td>41529</td>\n",
       "      <td>2016-03-18 18:46:15</td>\n",
       "      <td>1999</td>\n",
       "      <td>wagon</td>\n",
       "      <td>2001</td>\n",
       "      <td>manual</td>\n",
       "      <td>131</td>\n",
       "      <td>passat</td>\n",
       "      <td>150000</td>\n",
       "      <td>7</td>\n",
       "      <td>gasoline</td>\n",
       "      <td>volkswagen</td>\n",
       "      <td>no</td>\n",
       "      <td>2016-03-18 00:00:00</td>\n",
       "      <td>0</td>\n",
       "      <td>36391</td>\n",
       "      <td>2016-03-18 18:46:15</td>\n",
       "    </tr>\n",
       "    <tr>\n",
       "      <td>88087</td>\n",
       "      <td>2016-03-08 18:42:48</td>\n",
       "      <td>1799</td>\n",
       "      <td>coupe</td>\n",
       "      <td>1999</td>\n",
       "      <td>auto</td>\n",
       "      <td>193</td>\n",
       "      <td>clk</td>\n",
       "      <td>20000</td>\n",
       "      <td>7</td>\n",
       "      <td>petrol</td>\n",
       "      <td>mercedes_benz</td>\n",
       "      <td>no</td>\n",
       "      <td>2016-03-08 00:00:00</td>\n",
       "      <td>0</td>\n",
       "      <td>89518</td>\n",
       "      <td>2016-03-09 09:46:57</td>\n",
       "    </tr>\n",
       "    <tr>\n",
       "      <td>90964</td>\n",
       "      <td>2016-03-28 00:56:10</td>\n",
       "      <td>1000</td>\n",
       "      <td>small</td>\n",
       "      <td>2002</td>\n",
       "      <td>manual</td>\n",
       "      <td>83</td>\n",
       "      <td>other</td>\n",
       "      <td>150000</td>\n",
       "      <td>1</td>\n",
       "      <td>petrol</td>\n",
       "      <td>suzuki</td>\n",
       "      <td>no</td>\n",
       "      <td>2016-03-28 00:00:00</td>\n",
       "      <td>0</td>\n",
       "      <td>66589</td>\n",
       "      <td>2016-03-28 08:46:21</td>\n",
       "    </tr>\n",
       "    <tr>\n",
       "      <td>171088</td>\n",
       "      <td>2016-03-08 18:42:48</td>\n",
       "      <td>1799</td>\n",
       "      <td>coupe</td>\n",
       "      <td>1999</td>\n",
       "      <td>auto</td>\n",
       "      <td>193</td>\n",
       "      <td>clk</td>\n",
       "      <td>20000</td>\n",
       "      <td>7</td>\n",
       "      <td>petrol</td>\n",
       "      <td>mercedes_benz</td>\n",
       "      <td>no</td>\n",
       "      <td>2016-03-08 00:00:00</td>\n",
       "      <td>0</td>\n",
       "      <td>89518</td>\n",
       "      <td>2016-03-09 09:46:57</td>\n",
       "    </tr>\n",
       "    <tr>\n",
       "      <td>187735</td>\n",
       "      <td>2016-04-03 09:01:15</td>\n",
       "      <td>4699</td>\n",
       "      <td>coupe</td>\n",
       "      <td>2003</td>\n",
       "      <td>auto</td>\n",
       "      <td>218</td>\n",
       "      <td>clk</td>\n",
       "      <td>125000</td>\n",
       "      <td>6</td>\n",
       "      <td>petrol</td>\n",
       "      <td>mercedes_benz</td>\n",
       "      <td>yes</td>\n",
       "      <td>2016-04-03 00:00:00</td>\n",
       "      <td>0</td>\n",
       "      <td>75196</td>\n",
       "      <td>2016-04-07 09:44:54</td>\n",
       "    </tr>\n",
       "    <tr>\n",
       "      <td>231258</td>\n",
       "      <td>2016-03-28 00:56:10</td>\n",
       "      <td>1000</td>\n",
       "      <td>small</td>\n",
       "      <td>2002</td>\n",
       "      <td>manual</td>\n",
       "      <td>83</td>\n",
       "      <td>other</td>\n",
       "      <td>150000</td>\n",
       "      <td>1</td>\n",
       "      <td>petrol</td>\n",
       "      <td>suzuki</td>\n",
       "      <td>no</td>\n",
       "      <td>2016-03-28 00:00:00</td>\n",
       "      <td>0</td>\n",
       "      <td>66589</td>\n",
       "      <td>2016-03-28 08:46:21</td>\n",
       "    </tr>\n",
       "    <tr>\n",
       "      <td>258109</td>\n",
       "      <td>2016-04-03 09:01:15</td>\n",
       "      <td>4699</td>\n",
       "      <td>coupe</td>\n",
       "      <td>2003</td>\n",
       "      <td>auto</td>\n",
       "      <td>218</td>\n",
       "      <td>clk</td>\n",
       "      <td>125000</td>\n",
       "      <td>6</td>\n",
       "      <td>petrol</td>\n",
       "      <td>mercedes_benz</td>\n",
       "      <td>yes</td>\n",
       "      <td>2016-04-03 00:00:00</td>\n",
       "      <td>0</td>\n",
       "      <td>75196</td>\n",
       "      <td>2016-04-07 09:44:54</td>\n",
       "    </tr>\n",
       "    <tr>\n",
       "      <td>325651</td>\n",
       "      <td>2016-03-18 18:46:15</td>\n",
       "      <td>1999</td>\n",
       "      <td>wagon</td>\n",
       "      <td>2001</td>\n",
       "      <td>manual</td>\n",
       "      <td>131</td>\n",
       "      <td>passat</td>\n",
       "      <td>150000</td>\n",
       "      <td>7</td>\n",
       "      <td>gasoline</td>\n",
       "      <td>volkswagen</td>\n",
       "      <td>no</td>\n",
       "      <td>2016-03-18 00:00:00</td>\n",
       "      <td>0</td>\n",
       "      <td>36391</td>\n",
       "      <td>2016-03-18 18:46:15</td>\n",
       "    </tr>\n",
       "  </tbody>\n",
       "</table>\n",
       "</div>"
      ],
      "text/plain": [
       "                DateCrawled  Price VehicleType  RegistrationYear Gearbox  \\\n",
       "41529   2016-03-18 18:46:15   1999       wagon              2001  manual   \n",
       "88087   2016-03-08 18:42:48   1799       coupe              1999    auto   \n",
       "90964   2016-03-28 00:56:10   1000       small              2002  manual   \n",
       "171088  2016-03-08 18:42:48   1799       coupe              1999    auto   \n",
       "187735  2016-04-03 09:01:15   4699       coupe              2003    auto   \n",
       "231258  2016-03-28 00:56:10   1000       small              2002  manual   \n",
       "258109  2016-04-03 09:01:15   4699       coupe              2003    auto   \n",
       "325651  2016-03-18 18:46:15   1999       wagon              2001  manual   \n",
       "\n",
       "        Power   Model  Kilometer  RegistrationMonth  FuelType          Brand  \\\n",
       "41529     131  passat     150000                  7  gasoline     volkswagen   \n",
       "88087     193     clk      20000                  7    petrol  mercedes_benz   \n",
       "90964      83   other     150000                  1    petrol         suzuki   \n",
       "171088    193     clk      20000                  7    petrol  mercedes_benz   \n",
       "187735    218     clk     125000                  6    petrol  mercedes_benz   \n",
       "231258     83   other     150000                  1    petrol         suzuki   \n",
       "258109    218     clk     125000                  6    petrol  mercedes_benz   \n",
       "325651    131  passat     150000                  7  gasoline     volkswagen   \n",
       "\n",
       "       NotRepaired          DateCreated  NumberOfPictures  PostalCode  \\\n",
       "41529           no  2016-03-18 00:00:00                 0       36391   \n",
       "88087           no  2016-03-08 00:00:00                 0       89518   \n",
       "90964           no  2016-03-28 00:00:00                 0       66589   \n",
       "171088          no  2016-03-08 00:00:00                 0       89518   \n",
       "187735         yes  2016-04-03 00:00:00                 0       75196   \n",
       "231258          no  2016-03-28 00:00:00                 0       66589   \n",
       "258109         yes  2016-04-03 00:00:00                 0       75196   \n",
       "325651          no  2016-03-18 00:00:00                 0       36391   \n",
       "\n",
       "                   LastSeen  \n",
       "41529   2016-03-18 18:46:15  \n",
       "88087   2016-03-09 09:46:57  \n",
       "90964   2016-03-28 08:46:21  \n",
       "171088  2016-03-09 09:46:57  \n",
       "187735  2016-04-07 09:44:54  \n",
       "231258  2016-03-28 08:46:21  \n",
       "258109  2016-04-07 09:44:54  \n",
       "325651  2016-03-18 18:46:15  "
      ]
     },
     "execution_count": 8,
     "metadata": {},
     "output_type": "execute_result"
    }
   ],
   "source": [
    "df[df.duplicated(keep = False)]"
   ]
  },
  {
   "cell_type": "markdown",
   "metadata": {},
   "source": [
    "Выглядят как абсолютные дубликаты - избавляемся от них"
   ]
  },
  {
   "cell_type": "code",
   "execution_count": 9,
   "metadata": {},
   "outputs": [],
   "source": [
    "df = df.drop_duplicates()"
   ]
  },
  {
   "cell_type": "markdown",
   "metadata": {},
   "source": [
    "Теперь взглянем подробнее на столбец **Gearbox**"
   ]
  },
  {
   "cell_type": "code",
   "execution_count": 10,
   "metadata": {},
   "outputs": [
    {
     "name": "stdout",
     "output_type": "stream",
     "text": [
      "manual    0.801863\n",
      "auto      0.198137\n",
      "Name: Gearbox, dtype: float64\n",
      "Количество пропусков в столбеце \"Gearbox\" -  19833\n"
     ]
    }
   ],
   "source": [
    "print(df['Gearbox'].value_counts(normalize = True))\n",
    "print('Количество пропусков в столбеце \"Gearbox\" - ', len(df[df['Gearbox'].isna() == True]))"
   ]
  },
  {
   "cell_type": "markdown",
   "metadata": {},
   "source": [
    "Видим что аномальных значений в столбец нет, однако присутствует почти 20 тыс. пропусков. Обработаем их равномерно распределив пропуски по уже существующему распределению чтобы исключить возможность перекоса данных. "
   ]
  },
  {
   "cell_type": "code",
   "execution_count": 11,
   "metadata": {},
   "outputs": [
    {
     "name": "stdout",
     "output_type": "stream",
     "text": [
      "manual    0.801862\n",
      "auto      0.198138\n",
      "Name: Gearbox, dtype: float64\n",
      "Количество пропусков в столбце \"Gearbox\" = 0\n"
     ]
    }
   ],
   "source": [
    "replace_list = [round(df['Gearbox'].value_counts(normalize = True)[0] * len(df[df['Gearbox'].isna() == True])), \n",
    "                round(df['Gearbox'].value_counts(normalize = True)[1] * len(df[df['Gearbox'].isna() == True]))]\n",
    "\n",
    "df['Gearbox'] = df['Gearbox'].fillna(value = 'manual', limit = replace_list[0])\n",
    "df['Gearbox'] = df['Gearbox'].fillna(value = 'auto', limit = replace_list[1])\n",
    "\n",
    "print(df['Gearbox'].value_counts(normalize = True))\n",
    "print('Количество пропусков в столбце \"Gearbox\" =', len(df[df['Gearbox'].isna() == True]))"
   ]
  },
  {
   "cell_type": "markdown",
   "metadata": {},
   "source": [
    "Переходим к столбцу **FuelType**. Взглянем на распределение значений."
   ]
  },
  {
   "cell_type": "code",
   "execution_count": 12,
   "metadata": {},
   "outputs": [
    {
     "name": "stdout",
     "output_type": "stream",
     "text": [
      "petrol      0.672999\n",
      "gasoline    0.307086\n",
      "lpg         0.016518\n",
      "cng         0.001758\n",
      "hybrid      0.000725\n",
      "other       0.000635\n",
      "electric    0.000280\n",
      "Name: FuelType, dtype: float64\n",
      "Количество пропусков в столбце \"FuelType\" 32895\n"
     ]
    }
   ],
   "source": [
    "print(df['FuelType'].value_counts(normalize = True))\n",
    "print('Количество пропусков в столбце \"FuelType\"', len(df[df['FuelType'].isna() == True]))"
   ]
  },
  {
   "cell_type": "markdown",
   "metadata": {},
   "source": [
    "Аномалии отсутствуют, однако опять же присутствует большое количество пропусков. Обработаем их аналогичным образом как со столбцом **Gearbox**"
   ]
  },
  {
   "cell_type": "code",
   "execution_count": 13,
   "metadata": {},
   "outputs": [
    {
     "name": "stdout",
     "output_type": "stream",
     "text": [
      "petrol      0.673314\n",
      "gasoline    0.307087\n",
      "lpg         0.016517\n",
      "cng         0.001594\n",
      "hybrid      0.000658\n",
      "other       0.000576\n",
      "electric    0.000254\n",
      "Name: FuelType, dtype: float64\n",
      "Количество пропусков в столбце \"FuelType\" = 0\n"
     ]
    }
   ],
   "source": [
    "replace_list = [round(df['FuelType'].value_counts(normalize = True)[0] * len(df[df['FuelType'].isna() == True])), \n",
    "                round(df['FuelType'].value_counts(normalize = True)[1] * len(df[df['FuelType'].isna() == True])),\n",
    "                round(df['FuelType'].value_counts(normalize = True)[2] * len(df[df['FuelType'].isna() == True]))]\n",
    "\n",
    "df['FuelType'] = df['FuelType'].fillna(value = 'gasoline', limit = replace_list[1])\n",
    "df['FuelType'] = df['FuelType'].fillna(value = 'lpg', limit = replace_list[2])\n",
    "df['FuelType'] = df['FuelType'].fillna(value = 'petrol')\n",
    "\n",
    "print(df['FuelType'].value_counts(normalize = True))\n",
    "print('Количество пропусков в столбце \"FuelType\" =', len(df[df['FuelType'].isna() == True]))"
   ]
  },
  {
   "cell_type": "markdown",
   "metadata": {},
   "source": [
    "Пропуски в данном столбце успешно обработаны, теперь переходим к столбцу **Brand**."
   ]
  },
  {
   "cell_type": "code",
   "execution_count": 14,
   "metadata": {},
   "outputs": [
    {
     "name": "stdout",
     "output_type": "stream",
     "text": [
      "volkswagen        77012\n",
      "opel              39931\n",
      "bmw               36914\n",
      "mercedes_benz     32044\n",
      "audi              29456\n",
      "ford              25179\n",
      "renault           17927\n",
      "peugeot           10998\n",
      "fiat               9643\n",
      "seat               6907\n",
      "mazda              5615\n",
      "skoda              5500\n",
      "smart              5246\n",
      "citroen            5148\n",
      "nissan             4941\n",
      "toyota             4606\n",
      "hyundai            3587\n",
      "sonstige_autos     3374\n",
      "volvo              3210\n",
      "mini               3202\n",
      "mitsubishi         3022\n",
      "honda              2817\n",
      "kia                2465\n",
      "suzuki             2322\n",
      "alfa_romeo         2314\n",
      "chevrolet          1754\n",
      "chrysler           1439\n",
      "dacia               900\n",
      "daihatsu            806\n",
      "subaru              762\n",
      "porsche             758\n",
      "jeep                677\n",
      "trabant             589\n",
      "land_rover          545\n",
      "daewoo              542\n",
      "saab                526\n",
      "jaguar              505\n",
      "rover               486\n",
      "lancia              471\n",
      "lada                225\n",
      "Name: Brand, dtype: int64\n",
      "Количество пропусков в столбце \"Brand\" - 0\n"
     ]
    }
   ],
   "source": [
    "print(df['Brand'].value_counts())\n",
    "print('Количество пропусков в столбце \"Brand\" -', len(df[df['Brand'].isna() == True]))"
   ]
  },
  {
   "cell_type": "markdown",
   "metadata": {},
   "source": [
    "Со значениями всё в порядке, пропуски отсутствуют. Переходим к столбцу **Price**.\n",
    "В первую очередь взглянем на распределение значений в этом столбце"
   ]
  },
  {
   "cell_type": "code",
   "execution_count": 15,
   "metadata": {},
   "outputs": [
    {
     "data": {
      "image/png": "[encoded data removed]",
      "text/plain": [
       "<Figure size 1296x360 with 1 Axes>"
      ]
     },
     "metadata": {
      "needs_background": "light"
     },
     "output_type": "display_data"
    }
   ],
   "source": [
    "plt.figure(figsize=(18,5))\n",
    "ax = sns.distplot(df['Price'])\n",
    "ax.set(xlabel='Стоимость автомобиля (евро) ', \n",
    "       title='Распределение стоимостей автомобилей')\n",
    "plt.show()"
   ]
  },
  {
   "cell_type": "markdown",
   "metadata": {},
   "source": [
    "Наблюдаем большое количество выборосов ровно на нулевой стоимости автомобиля, вполне возможно ресурс с которого производилась выгрузка анкет предоставляет возможность устанавливать \"договорную цену\" для пользователей которые хотят договариваться о цене с каждым покупателем индивидуально, поэтому при выгрузке такие значения проставились нулями. Или же возможен вариант обычной технической ошибки при выгрузке.\n",
    "Для обучения и анализа моделей такие значения в датасете нам не нужны, соответственно избавимся от этих значений."
   ]
  },
  {
   "cell_type": "code",
   "execution_count": 16,
   "metadata": {},
   "outputs": [],
   "source": [
    "df = df.query('Price > 0')"
   ]
  },
  {
   "cell_type": "markdown",
   "metadata": {},
   "source": [
    "Значения срезали, снова взглянем на распределение."
   ]
  },
  {
   "cell_type": "code",
   "execution_count": 17,
   "metadata": {},
   "outputs": [
    {
     "data": {
      "text/plain": [
       "count    343593.000000\n",
       "mean       4555.147363\n",
       "std        4515.076200\n",
       "min           1.000000\n",
       "25%        1200.000000\n",
       "50%        2890.000000\n",
       "75%        6500.000000\n",
       "max       20000.000000\n",
       "Name: Price, dtype: float64"
      ]
     },
     "execution_count": 17,
     "metadata": {},
     "output_type": "execute_result"
    }
   ],
   "source": [
    "df['Price'].describe()"
   ]
  },
  {
   "cell_type": "markdown",
   "metadata": {},
   "source": [
    "Видим что ситуация не стала существенно лучше - минимальное значение равно 1. Для более получения более репрезентативных значений срежем значения по квантилям 5% и 95%."
   ]
  },
  {
   "cell_type": "code",
   "execution_count": 18,
   "metadata": {},
   "outputs": [
    {
     "data": {
      "text/plain": [
       "0.05      350.0\n",
       "0.95    14800.0\n",
       "Name: Price, dtype: float64"
      ]
     },
     "execution_count": 18,
     "metadata": {},
     "output_type": "execute_result"
    }
   ],
   "source": [
    "df['Price'].quantile([0.05, 0.95])"
   ]
  },
  {
   "cell_type": "code",
   "execution_count": 19,
   "metadata": {},
   "outputs": [],
   "source": [
    "df = df.query('350 <= Price <= 14900')"
   ]
  },
  {
   "cell_type": "markdown",
   "metadata": {},
   "source": [
    "Значения срезали, для проверки еще раз взглянем на распределение стоимостей."
   ]
  },
  {
   "cell_type": "code",
   "execution_count": 20,
   "metadata": {},
   "outputs": [
    {
     "data": {
      "image/png": "[encoded data removed]",
      "text/plain": [
       "<Figure size 1296x360 with 1 Axes>"
      ]
     },
     "metadata": {
      "needs_background": "light"
     },
     "output_type": "display_data"
    }
   ],
   "source": [
    "plt.figure(figsize=(18,5))\n",
    "ax = sns.distplot(df['Price'])\n",
    "ax.set(xlabel='Стоимость автомобиля (евро) ', \n",
    "       title='Распределение стоимостей автомобилей')\n",
    "plt.show()"
   ]
  },
  {
   "cell_type": "markdown",
   "metadata": {},
   "source": [
    "Столбец с ценой успешно обработан, теперь переходим к столбцу **RegistrationYear**. В первую очередь, аналогично, взглянем на распределение по годам."
   ]
  },
  {
   "cell_type": "code",
   "execution_count": 21,
   "metadata": {},
   "outputs": [
    {
     "data": {
      "image/png": "[encoded data removed]",
      "text/plain": [
       "<Figure size 1800x500 with 1 Axes>"
      ]
     },
     "metadata": {
      "needs_background": "light"
     },
     "output_type": "display_data"
    }
   ],
   "source": [
    "x = df['RegistrationYear']\n",
    "plt.figure(figsize=(18, 5), dpi = 100)\n",
    "plt.hist(x, bins=100, \n",
    "         range=(x.min(), x.max()), \n",
    "         color ='green',\n",
    "         alpha = 0.7,\n",
    "         edgecolor = 'black')\n",
    "plt.ylabel('Кол-во объявлений')\n",
    "plt.xlabel('Год регистрации автомобиля');\n",
    "plt.yticks(fontsize=10)\n",
    "plt.xticks(fontsize=15)\n",
    "plt.show()"
   ]
  },
  {
   "cell_type": "markdown",
   "metadata": {},
   "source": [
    "Видим что присутствуют выбросы в виде неадекватных годов свыше 2021 и меньше 1900. Сразу же срежем - верхнюю границу получим с помощью последней даты выгрузки анкеты из базы, за нижнюю границу возьмем 1970 год (более ранние года брать не имеет смысла, так как раритетные и ретро-автомобили будем считать за выбросы)."
   ]
  },
  {
   "cell_type": "code",
   "execution_count": 22,
   "metadata": {},
   "outputs": [
    {
     "data": {
      "text/plain": [
       "'2016-04-07 14:36:58'"
      ]
     },
     "execution_count": 22,
     "metadata": {},
     "output_type": "execute_result"
    }
   ],
   "source": [
    "df['DateCrawled'].max()"
   ]
  },
  {
   "cell_type": "code",
   "execution_count": 23,
   "metadata": {},
   "outputs": [],
   "source": [
    "df = df.query('1970 < RegistrationYear < 2016')"
   ]
  },
  {
   "cell_type": "markdown",
   "metadata": {},
   "source": [
    "Значения срезали, взглянем еще раз на распределение значений."
   ]
  },
  {
   "cell_type": "code",
   "execution_count": 24,
   "metadata": {
    "scrolled": true
   },
   "outputs": [
    {
     "data": {
      "image/png": "[encoded data removed]",
      "text/plain": [
       "<Figure size 1800x500 with 1 Axes>"
      ]
     },
     "metadata": {
      "needs_background": "light"
     },
     "output_type": "display_data"
    }
   ],
   "source": [
    "x = df['RegistrationYear']\n",
    "plt.figure(figsize=(18, 5), dpi = 100)\n",
    "plt.hist(x, bins=100, \n",
    "         range=(x.min(), x.max()), \n",
    "         color ='green',\n",
    "         alpha = 0.7,\n",
    "         edgecolor = 'black')\n",
    "plt.ylabel('Кол-во объявлений')\n",
    "plt.xlabel('Год регистрации автомобиля');\n",
    "plt.yticks(fontsize=10)\n",
    "plt.xticks(fontsize=15)\n",
    "plt.show()"
   ]
  },
  {
   "cell_type": "markdown",
   "metadata": {},
   "source": [
    "Столбец с годами регистрации автомобилей обработан, переходим к столбцу **NotRepaired**."
   ]
  },
  {
   "cell_type": "code",
   "execution_count": 25,
   "metadata": {},
   "outputs": [
    {
     "name": "stdout",
     "output_type": "stream",
     "text": [
      "no     0.888596\n",
      "yes    0.111404\n",
      "Name: NotRepaired, dtype: float64\n",
      "Количество пропусков в столбце \"NotRepaired\" - 47977\n"
     ]
    }
   ],
   "source": [
    "print(df['NotRepaired'].value_counts(normalize = True))\n",
    "print('Количество пропусков в столбце \"NotRepaired\" -', len(df[df['NotRepaired'].isna() == True]))"
   ]
  },
  {
   "cell_type": "markdown",
   "metadata": {},
   "source": [
    "Аномальных значений так же не наблюдается, однако есть пропуски. Их обработаем уже по привычной схеме - равномерно распределив уже по имеющемуся распределнию значений."
   ]
  },
  {
   "cell_type": "code",
   "execution_count": 26,
   "metadata": {},
   "outputs": [
    {
     "name": "stdout",
     "output_type": "stream",
     "text": [
      "no     0.888596\n",
      "yes    0.111404\n",
      "Name: NotRepaired, dtype: float64\n",
      "Количество пропусков в столбце \"NotRepaired\" = 0\n"
     ]
    }
   ],
   "source": [
    "replace_list = [round(df['NotRepaired'].value_counts(normalize = True)[0] * len(df[df['NotRepaired'].isna() == True])), \n",
    "                round(df['NotRepaired'].value_counts(normalize = True)[1] * len(df[df['NotRepaired'].isna() == True]))]\n",
    "\n",
    "df['NotRepaired'] = df['NotRepaired'].fillna(value = 'no', limit = replace_list[0])\n",
    "df['NotRepaired'] = df['NotRepaired'].fillna(value = 'yes', limit = replace_list[1])\n",
    "\n",
    "print(df['NotRepaired'].value_counts(normalize = True))\n",
    "print('Количество пропусков в столбце \"NotRepaired\" =', len(df[df['NotRepaired'].isna() == True]))"
   ]
  },
  {
   "cell_type": "markdown",
   "metadata": {},
   "source": [
    "Столбец обработан - переходим к столбцу **Power**."
   ]
  },
  {
   "cell_type": "code",
   "execution_count": 27,
   "metadata": {},
   "outputs": [
    {
     "data": {
      "image/png": "[encoded data removed]",
      "text/plain": [
       "<Figure size 1296x360 with 1 Axes>"
      ]
     },
     "metadata": {
      "needs_background": "light"
     },
     "output_type": "display_data"
    }
   ],
   "source": [
    "plt.figure(figsize=(18,5))\n",
    "ax = sns.distplot(df['Power'])\n",
    "ax.set(xlabel='Мощность (л.с)', \n",
    "       title='Распределение мощностей (л.с) автомобилей')\n",
    "plt.show()"
   ]
  },
  {
   "cell_type": "markdown",
   "metadata": {},
   "source": [
    "Видим что опять присутствуют выбросы - автомобили с мощностью свыше 1 тыс. лошадиных сил присутствовать практически не могут по объективным причинам. Соответственно, срежем значения по этой границе и снова взглянем на распределение."
   ]
  },
  {
   "cell_type": "code",
   "execution_count": 28,
   "metadata": {},
   "outputs": [
    {
     "data": {
      "image/png": "[encoded data removed]",
      "text/plain": [
       "<Figure size 1296x360 with 1 Axes>"
      ]
     },
     "metadata": {
      "needs_background": "light"
     },
     "output_type": "display_data"
    }
   ],
   "source": [
    "df = df.query('Power < 1000')\n",
    "\n",
    "plt.figure(figsize=(18,5))\n",
    "ax = sns.distplot(df['Power'])\n",
    "ax.set(xlabel='Мощность (л.с)', \n",
    "       title='Распределение мощностей (л.с) автомобилей')\n",
    "plt.show()"
   ]
  },
  {
   "cell_type": "markdown",
   "metadata": {},
   "source": [
    "Значения стали чуть более репрезентативны, однако теперь присутствует большой хвост по значениям свыше 500 л.с. и выброс в виде очень низких мощностей автомобиля. Срежем значения по нижней границе в 30 л.с. и верхней границе в 500 л.с."
   ]
  },
  {
   "cell_type": "code",
   "execution_count": 29,
   "metadata": {},
   "outputs": [
    {
     "data": {
      "image/png": "[encoded data removed]",
      "text/plain": [
       "<Figure size 1296x360 with 1 Axes>"
      ]
     },
     "metadata": {
      "needs_background": "light"
     },
     "output_type": "display_data"
    }
   ],
   "source": [
    "df = df.query('30 < Power < 500')\n",
    "\n",
    "plt.figure(figsize=(18,5))\n",
    "ax = sns.distplot(df['Power'])\n",
    "ax.set(xlabel='Мощность (л.с)', \n",
    "       title='Распределение мощностей (л.с) автомобилей')\n",
    "plt.show()"
   ]
  },
  {
   "cell_type": "markdown",
   "metadata": {},
   "source": [
    "Столбец успешно обработан, переходим к столбцу **VehicleType**."
   ]
  },
  {
   "cell_type": "code",
   "execution_count": 30,
   "metadata": {},
   "outputs": [
    {
     "name": "stdout",
     "output_type": "stream",
     "text": [
      "sedan          76516\n",
      "small          64463\n",
      "wagon          54838\n",
      "bus            24511\n",
      "convertible    16555\n",
      "coupe          12427\n",
      "suv             8776\n",
      "other           2176\n",
      "Name: VehicleType, dtype: int64\n",
      "Количество пропусков в столбце \"VehicleType\" - 3753\n"
     ]
    }
   ],
   "source": [
    "print(df['VehicleType'].value_counts())\n",
    "print('Количество пропусков в столбце \"VehicleType\" -', len(df[df['VehicleType'].isna() == True]))"
   ]
  },
  {
   "cell_type": "markdown",
   "metadata": {},
   "source": [
    "Неизвестные нам значения в данном столбце отсутствуют, присутствуют пропуски в небольшом количестве - поэтому просто избавимся от них."
   ]
  },
  {
   "cell_type": "code",
   "execution_count": 31,
   "metadata": {},
   "outputs": [
    {
     "name": "stdout",
     "output_type": "stream",
     "text": [
      "Количество пропусков в столбце \"VehicleType\" - 0\n"
     ]
    }
   ],
   "source": [
    "df = df.drop((df[df['VehicleType'].isna() == True]).index)\n",
    "print('Количество пропусков в столбце \"VehicleType\" -', len(df[df['VehicleType'].isna() == True]))"
   ]
  },
  {
   "cell_type": "markdown",
   "metadata": {},
   "source": [
    "Переходим к столбцу **Model**."
   ]
  },
  {
   "cell_type": "code",
   "execution_count": 32,
   "metadata": {},
   "outputs": [
    {
     "name": "stdout",
     "output_type": "stream",
     "text": [
      "golf                  21371\n",
      "other                 17675\n",
      "3er                   15773\n",
      "polo                   9357\n",
      "corsa                  8715\n",
      "                      ...  \n",
      "q3                        2\n",
      "serie_3                   2\n",
      "range_rover_evoque        2\n",
      "serie_2                   2\n",
      "rangerover                1\n",
      "Name: Model, Length: 249, dtype: int64\n",
      "Количество пропусков в столбце \"Model\" - 8220\n"
     ]
    }
   ],
   "source": [
    "print(df['Model'].value_counts())\n",
    "print('Количество пропусков в столбце \"Model\" -', len(df[df['Model'].isna() == True]))"
   ]
  },
  {
   "cell_type": "markdown",
   "metadata": {},
   "source": [
    "Заполнить пропуски по этому столбцу не представляется возможным, плюс так как пропусков небольшое количество - избавимся от них."
   ]
  },
  {
   "cell_type": "code",
   "execution_count": 33,
   "metadata": {},
   "outputs": [
    {
     "name": "stdout",
     "output_type": "stream",
     "text": [
      "Количество пропусков в столбце \"Model\" - 0\n"
     ]
    }
   ],
   "source": [
    "df = df.drop((df[df['Model'].isna() == True]).index)\n",
    "print('Количество пропусков в столбце \"Model\" -', len(df[df['Model'].isna() == True]))"
   ]
  },
  {
   "cell_type": "markdown",
   "metadata": {},
   "source": [
    "Столбец успешно обработан, теперь избавляемся от лишних столбцов и взглянем на наш датасет."
   ]
  },
  {
   "cell_type": "code",
   "execution_count": 34,
   "metadata": {},
   "outputs": [
    {
     "name": "stdout",
     "output_type": "stream",
     "text": [
      "<class 'pandas.core.frame.DataFrame'>\n",
      "Int64Index: 252042 entries, 2 to 354368\n",
      "Data columns (total 10 columns):\n",
      "Price               252042 non-null int64\n",
      "VehicleType         252042 non-null object\n",
      "RegistrationYear    252042 non-null int64\n",
      "Gearbox             252042 non-null object\n",
      "Power               252042 non-null int64\n",
      "Model               252042 non-null object\n",
      "Kilometer           252042 non-null int64\n",
      "FuelType            252042 non-null object\n",
      "Brand               252042 non-null object\n",
      "NotRepaired         252042 non-null object\n",
      "dtypes: int64(4), object(6)\n",
      "memory usage: 21.2+ MB\n"
     ]
    }
   ],
   "source": [
    "df = df.drop(['DateCrawled', 'RegistrationMonth', 'DateCreated', 'PostalCode', 'LastSeen', 'NumberOfPictures'], axis = 1)\n",
    "df.info()"
   ]
  },
  {
   "cell_type": "markdown",
   "metadata": {},
   "source": [
    "Все пропуски успешно обработаны, лишние столбцы отсечены, можем переходить к обучению моделей."
   ]
  },
  {
   "cell_type": "markdown",
   "metadata": {},
   "source": [
    "# 2. Подготовка выборок для обучения.\n",
    "\n",
    "В первую очередь мы должны преобразовать категориальные признаки (VehicleType, Model, FuelType, Brand, Gearbox и NotRepaired) в численные. Для этого будем использовать OrdinalEncoder, так как уникальных значений в этих столбцах достаточно много.\n"
   ]
  },
  {
   "cell_type": "code",
   "execution_count": 35,
   "metadata": {},
   "outputs": [
    {
     "data": {
      "text/html": [
       "<div>\n",
       "<style scoped>\n",
       "    .dataframe tbody tr th:only-of-type {\n",
       "        vertical-align: middle;\n",
       "    }\n",
       "\n",
       "    .dataframe tbody tr th {\n",
       "        vertical-align: top;\n",
       "    }\n",
       "\n",
       "    .dataframe thead th {\n",
       "        text-align: right;\n",
       "    }\n",
       "</style>\n",
       "<table border=\"1\" class=\"dataframe\">\n",
       "  <thead>\n",
       "    <tr style=\"text-align: right;\">\n",
       "      <th></th>\n",
       "      <th>Price</th>\n",
       "      <th>VehicleType</th>\n",
       "      <th>RegistrationYear</th>\n",
       "      <th>Gearbox</th>\n",
       "      <th>Power</th>\n",
       "      <th>Model</th>\n",
       "      <th>Kilometer</th>\n",
       "      <th>FuelType</th>\n",
       "      <th>Brand</th>\n",
       "      <th>NotRepaired</th>\n",
       "    </tr>\n",
       "  </thead>\n",
       "  <tbody>\n",
       "    <tr>\n",
       "      <td>2</td>\n",
       "      <td>9800</td>\n",
       "      <td>6.0</td>\n",
       "      <td>2004</td>\n",
       "      <td>0.0</td>\n",
       "      <td>163</td>\n",
       "      <td>117.0</td>\n",
       "      <td>125000</td>\n",
       "      <td>2.0</td>\n",
       "      <td>14.0</td>\n",
       "      <td>0.0</td>\n",
       "    </tr>\n",
       "    <tr>\n",
       "      <td>3</td>\n",
       "      <td>1500</td>\n",
       "      <td>5.0</td>\n",
       "      <td>2001</td>\n",
       "      <td>1.0</td>\n",
       "      <td>75</td>\n",
       "      <td>116.0</td>\n",
       "      <td>150000</td>\n",
       "      <td>6.0</td>\n",
       "      <td>37.0</td>\n",
       "      <td>0.0</td>\n",
       "    </tr>\n",
       "    <tr>\n",
       "      <td>4</td>\n",
       "      <td>3600</td>\n",
       "      <td>5.0</td>\n",
       "      <td>2008</td>\n",
       "      <td>1.0</td>\n",
       "      <td>69</td>\n",
       "      <td>101.0</td>\n",
       "      <td>90000</td>\n",
       "      <td>2.0</td>\n",
       "      <td>31.0</td>\n",
       "      <td>0.0</td>\n",
       "    </tr>\n",
       "    <tr>\n",
       "      <td>5</td>\n",
       "      <td>650</td>\n",
       "      <td>4.0</td>\n",
       "      <td>1995</td>\n",
       "      <td>1.0</td>\n",
       "      <td>102</td>\n",
       "      <td>11.0</td>\n",
       "      <td>150000</td>\n",
       "      <td>6.0</td>\n",
       "      <td>2.0</td>\n",
       "      <td>1.0</td>\n",
       "    </tr>\n",
       "    <tr>\n",
       "      <td>6</td>\n",
       "      <td>2200</td>\n",
       "      <td>1.0</td>\n",
       "      <td>2004</td>\n",
       "      <td>1.0</td>\n",
       "      <td>109</td>\n",
       "      <td>8.0</td>\n",
       "      <td>150000</td>\n",
       "      <td>6.0</td>\n",
       "      <td>25.0</td>\n",
       "      <td>0.0</td>\n",
       "    </tr>\n",
       "  </tbody>\n",
       "</table>\n",
       "</div>"
      ],
      "text/plain": [
       "   Price  VehicleType  RegistrationYear  Gearbox  Power  Model  Kilometer  \\\n",
       "2   9800          6.0              2004      0.0    163  117.0     125000   \n",
       "3   1500          5.0              2001      1.0     75  116.0     150000   \n",
       "4   3600          5.0              2008      1.0     69  101.0      90000   \n",
       "5    650          4.0              1995      1.0    102   11.0     150000   \n",
       "6   2200          1.0              2004      1.0    109    8.0     150000   \n",
       "\n",
       "   FuelType  Brand  NotRepaired  \n",
       "2       2.0   14.0          0.0  \n",
       "3       6.0   37.0          0.0  \n",
       "4       2.0   31.0          0.0  \n",
       "5       6.0    2.0          1.0  \n",
       "6       6.0   25.0          0.0  "
      ]
     },
     "execution_count": 35,
     "metadata": {},
     "output_type": "execute_result"
    }
   ],
   "source": [
    "encoder = OrdinalEncoder()\n",
    "\n",
    "df.loc[:, ['VehicleType', 'Model', 'FuelType', 'Brand', 'Gearbox', 'NotRepaired']] = encoder.fit_transform(\n",
    "    df.loc[:, ['VehicleType', 'Model', 'FuelType', 'Brand', 'Gearbox', 'NotRepaired']])\n",
    "df.head(5)"
   ]
  },
  {
   "cell_type": "markdown",
   "metadata": {},
   "source": [
    "После этого нам необходимо разделить датасет на признаки и целевой признак, сразу же после этого разделим их на обучающую и тестовую выборку и масштабируем признаки с помощью StandardScaler"
   ]
  },
  {
   "cell_type": "code",
   "execution_count": 36,
   "metadata": {},
   "outputs": [],
   "source": [
    "random_state = 12345\n",
    "x_par = df.drop('Price', axis = 1)\n",
    "y_tar = df['Price']\n",
    "\n",
    "features_train, features_valid, target_train, target_valid = train_test_split(x_par, y_tar, test_size = 0.25, \n",
    "                                                                              random_state = random_state)\n",
    "\n",
    "numeric_par = ['RegistrationYear', 'Power', 'Kilometer']\n",
    "\n",
    "scaler = StandardScaler()\n",
    "scaler.fit(features_train[numeric_par])\n",
    "features_train[numeric_par] = scaler.transform(features_train[numeric_par])\n",
    "features_valid[numeric_par] = scaler.transform(features_valid[numeric_par])"
   ]
  },
  {
   "cell_type": "markdown",
   "metadata": {},
   "source": [
    "# 3. Обучение и анализ моделей."
   ]
  },
  {
   "cell_type": "markdown",
   "metadata": {},
   "source": [
    "В качестве моделей мы будем использовать следующие регрессоры:\n",
    "\n",
    "- Линейная регрессия\n",
    "- Дерево решений\n",
    "- Случайный лес\n",
    "- CatBoost\n",
    "- LGBM Regressor\n",
    "\n",
    "В качестве метрики для всех моделей будем использовать MSE и в финальной таблице переведем в RMSE. Качество моделей будем проверять на кроссвалидации.\n",
    "\n",
    "Теперь создадим скорер для оценки наших моделей."
   ]
  },
  {
   "cell_type": "code",
   "execution_count": 37,
   "metadata": {},
   "outputs": [],
   "source": [
    "def rmse(target, predictions):\n",
    "    return mean_squared_error(target, predictions) ** 0.5\n",
    "\n",
    "rmse_scorer = make_scorer(rmse, greater_is_better = False)"
   ]
  },
  {
   "cell_type": "markdown",
   "metadata": {},
   "source": [
    "Теперь напишем функцию, которая на входе будет получать наименование модели и набор гиперпараметров. Внутри функция проведет кроссвалидацию, подготовит модели, подберет оптимальные гиперпараметры, обучит модель и сохранит предсказания на обучающей и тестовой выборках, рассчитает значение RMSE и сохранит их в отдельную таблицу."
   ]
  },
  {
   "cell_type": "code",
   "execution_count": 38,
   "metadata": {},
   "outputs": [],
   "source": [
    "rmse_results = pd.DataFrame({'Модель' : [], 'Train RMSE score' : [], 'Valid RMSE score' : []})\n",
    "def model_testing(model_name, parametrs):\n",
    "    \n",
    "    global rmse_results\n",
    "    \n",
    "    cv = KFold(n_splits = 3, shuffle = False, random_state = random_state)\n",
    "    \n",
    "    if model_name == DecisionTreeRegressor:\n",
    "        output_model_name = 'Дерево решений'\n",
    "    elif model_name == LinearRegression:\n",
    "        output_model_name = 'Линейная регрессия'\n",
    "    elif model_name == RandomForestRegressor:\n",
    "        output_model_name = 'Случайный лес'\n",
    "    elif model_name == CatBoostRegressor:\n",
    "        output_model_name = 'CatBoostRegressor'\n",
    "    elif model_name == LGBMRegressor:\n",
    "        output_model_name = 'LGBM'\n",
    "    \n",
    "    if output_model_name == 'Линейная регрессия':\n",
    "        model = model_name()\n",
    "    elif output_model_name == 'CatBoostRegressor':\n",
    "        model = model_name(loss_function = 'RMSE', eval_metric = 'RMSE', random_state = random_state, \n",
    "                           logging_level = 'Silent')\n",
    "    else:\n",
    "        model = model_name(random_state = random_state)\n",
    "    \n",
    "    grid = GridSearchCV(model, parametrs, cv = cv, scoring = rmse_scorer)\n",
    "    \n",
    "    if output_model_name == 'Линейная регрессия':\n",
    "        grid.fit(features_train, target_train)\n",
    "        test_model = model_name(**grid.best_params_)\n",
    "    else:\n",
    "        grid.fit(features_train, target_train)\n",
    "        test_model = model_name(**grid.best_params_, random_state = random_state)\n",
    "        \n",
    "    test_model.fit(features_train, target_train)\n",
    "    model_train_predictions = test_model.predict(features_train)\n",
    "    model_valid_predictions = test_model.predict(features_valid)\n",
    "    train_rmse = rmse(target_train, model_train_predictions)\n",
    "    valid_rmse = rmse(target_valid, model_valid_predictions)\n",
    "    rmse_results = rmse_results.append({'Модель' : output_model_name, \n",
    "                                        'Train RMSE score' : train_rmse,\n",
    "                                        'Valid RMSE score' : valid_rmse}, ignore_index = True)\n",
    "    print('\\033[1m' +'Модель -', output_model_name + '\\033[0m')\n",
    "    print('Оптимальные гиперпараметры:')\n",
    "    print(grid.best_params_)\n",
    "    print('')\n",
    "    print('Train RMSE score -', train_rmse)\n",
    "    print('Valid RMSE score -', valid_rmse)"
   ]
  },
  {
   "cell_type": "markdown",
   "metadata": {},
   "source": [
    "Функция готова к применению, начнем с модели \"Дерево решений\"."
   ]
  },
  {
   "cell_type": "markdown",
   "metadata": {},
   "source": [
    "## 3.1. Дерево решений."
   ]
  },
  {
   "cell_type": "code",
   "execution_count": 39,
   "metadata": {},
   "outputs": [
    {
     "name": "stdout",
     "output_type": "stream",
     "text": [
      "\u001b[1mМодель - Дерево решений\u001b[0m\n",
      "Оптимальные гиперпараметры:\n",
      "{'max_depth': 19, 'min_samples_leaf': 5, 'min_samples_split': 2}\n",
      "\n",
      "Train RMSE score - 1143.8938910211089\n",
      "Valid RMSE score - 1417.5087285926943\n",
      "CPU times: user 1min 36s, sys: 64.5 ms, total: 1min 37s\n",
      "Wall time: 1min 37s\n"
     ]
    }
   ],
   "source": [
    "%%time\n",
    "parametrs = {'max_depth': range (1, 20, 3),\n",
    "             'min_samples_leaf': range (2,6),\n",
    "             'min_samples_split': range (2,6)}\n",
    "model_testing(DecisionTreeRegressor, parametrs)"
   ]
  },
  {
   "cell_type": "markdown",
   "metadata": {},
   "source": [
    "Дерево решений с гиперпараметрами максимальной глубины - 19, минимальным количеством выборок в листе - 5, и минимальным количеством выборок необходимым для разделения узла - 2, показало достаточно хороший результат - 1417.50 по метрике RMSE на тестовой выборке при средних временных затратах. "
   ]
  },
  {
   "cell_type": "markdown",
   "metadata": {},
   "source": [
    "## 3.2. Случайный лес."
   ]
  },
  {
   "cell_type": "code",
   "execution_count": 40,
   "metadata": {},
   "outputs": [
    {
     "name": "stdout",
     "output_type": "stream",
     "text": [
      "\u001b[1mМодель - Случайный лес\u001b[0m\n",
      "Оптимальные гиперпараметры:\n",
      "{'max_depth': 10, 'min_samples_leaf': 3, 'min_samples_split': 3, 'n_estimators': 13}\n",
      "\n",
      "Train RMSE score - 1478.7211251190256\n",
      "Valid RMSE score - 1518.1321376519866\n",
      "CPU times: user 1min 35s, sys: 116 ms, total: 1min 35s\n",
      "Wall time: 1min 36s\n"
     ]
    }
   ],
   "source": [
    "%%time\n",
    "parametrs = {'max_depth': range (5, 15, 5),\n",
    "             'min_samples_leaf': range (3, 5),\n",
    "             'min_samples_split': range (3, 5),\n",
    "             'n_estimators': range (3, 15, 5)}\n",
    "model_testing(RandomForestRegressor, parametrs)"
   ]
  },
  {
   "cell_type": "markdown",
   "metadata": {},
   "source": [
    "Модель случайного леса показывает приблизительно аналогичные результаты по сравнению с деревом решений. На наиболее оптимальных гиперпараметрах выдает 1518.13 по метрике RMSE на тестовой выборке при равных временных затратах."
   ]
  },
  {
   "cell_type": "markdown",
   "metadata": {},
   "source": [
    "## 3.3. Линейная регрессия."
   ]
  },
  {
   "cell_type": "code",
   "execution_count": 41,
   "metadata": {},
   "outputs": [
    {
     "name": "stdout",
     "output_type": "stream",
     "text": [
      "\u001b[1mМодель - Линейная регрессия\u001b[0m\n",
      "Оптимальные гиперпараметры:\n",
      "{'copy_X': 'True', 'fit_intercept': 'True', 'normalize': 'True'}\n",
      "\n",
      "Train RMSE score - 2294.4432006208663\n",
      "Valid RMSE score - 2276.7546980756224\n",
      "CPU times: user 2.75 s, sys: 2.95 s, total: 5.69 s\n",
      "Wall time: 5.8 s\n"
     ]
    }
   ],
   "source": [
    "%%time\n",
    "parametrs = {'fit_intercept':('True', 'False'), \n",
    "             'normalize':('True', 'False'), \n",
    "             'copy_X':('True', 'False')}\n",
    "model_testing(LinearRegression, parametrs)"
   ]
  },
  {
   "cell_type": "markdown",
   "metadata": {},
   "source": [
    "Пока что модель линейной регрессии показывает наиболее быстрый результат, однако наименее качественный. Разрыв в качестве практически в 50% по сравнению с моделями случайного леса и дерева решений, метрика RMSE на тестовой выборке равна 2276.75."
   ]
  },
  {
   "cell_type": "markdown",
   "metadata": {},
   "source": [
    "## 3.4. СatBoost."
   ]
  },
  {
   "cell_type": "code",
   "execution_count": 42,
   "metadata": {},
   "outputs": [
    {
     "name": "stdout",
     "output_type": "stream",
     "text": [
      "0:\tlearn: 3512.4784843\ttotal: 127ms\tremaining: 3.68s\n",
      "1:\tlearn: 3389.3008246\ttotal: 336ms\tremaining: 4.71s\n",
      "2:\tlearn: 3273.0503168\ttotal: 627ms\tremaining: 5.64s\n",
      "3:\tlearn: 3165.0347271\ttotal: 834ms\tremaining: 5.42s\n",
      "4:\tlearn: 3062.5983875\ttotal: 1.04s\tremaining: 5.21s\n",
      "5:\tlearn: 2967.2537596\ttotal: 1.32s\tremaining: 5.3s\n",
      "6:\tlearn: 2876.2245904\ttotal: 1.53s\tremaining: 5.04s\n",
      "7:\tlearn: 2793.2463168\ttotal: 1.82s\tremaining: 5.01s\n",
      "8:\tlearn: 2712.6932246\ttotal: 2.03s\tremaining: 4.74s\n",
      "9:\tlearn: 2638.6832043\ttotal: 2.23s\tremaining: 4.47s\n",
      "10:\tlearn: 2568.1582728\ttotal: 2.52s\tremaining: 4.36s\n",
      "11:\tlearn: 2502.4545644\ttotal: 2.73s\tremaining: 4.09s\n",
      "12:\tlearn: 2440.9632696\ttotal: 2.93s\tremaining: 3.84s\n",
      "13:\tlearn: 2382.4523804\ttotal: 3.21s\tremaining: 3.67s\n",
      "14:\tlearn: 2329.7177690\ttotal: 3.42s\tremaining: 3.42s\n",
      "15:\tlearn: 2277.7602781\ttotal: 3.62s\tremaining: 3.17s\n",
      "16:\tlearn: 2230.3222891\ttotal: 3.83s\tremaining: 2.93s\n",
      "17:\tlearn: 2185.7618194\ttotal: 4.12s\tremaining: 2.75s\n",
      "18:\tlearn: 2144.9247460\ttotal: 4.32s\tremaining: 2.5s\n",
      "19:\tlearn: 2106.5283574\ttotal: 4.61s\tremaining: 2.31s\n",
      "20:\tlearn: 2069.0061107\ttotal: 4.82s\tremaining: 2.07s\n",
      "21:\tlearn: 2035.6435116\ttotal: 5.03s\tremaining: 1.83s\n",
      "22:\tlearn: 2004.4968208\ttotal: 5.31s\tremaining: 1.62s\n",
      "23:\tlearn: 1973.1228155\ttotal: 5.52s\tremaining: 1.38s\n",
      "24:\tlearn: 1943.8924607\ttotal: 5.72s\tremaining: 1.14s\n",
      "25:\tlearn: 1918.9156499\ttotal: 6.01s\tremaining: 924ms\n",
      "26:\tlearn: 1892.5608573\ttotal: 6.21s\tremaining: 690ms\n",
      "27:\tlearn: 1866.8653524\ttotal: 6.42s\tremaining: 458ms\n",
      "28:\tlearn: 1844.2741296\ttotal: 6.71s\tremaining: 231ms\n",
      "29:\tlearn: 1823.7232652\ttotal: 6.91s\tremaining: 0us\n",
      "\u001b[1mМодель - CatBoostRegressor\u001b[0m\n",
      "Оптимальные гиперпараметры:\n",
      "{'depth': 10, 'iterations': 30, 'learning_rate': 0.05}\n",
      "\n",
      "Train RMSE score - 1823.7232651852974\n",
      "Valid RMSE score - 1822.3720819665418\n",
      "CPU times: user 1min 30s, sys: 13.4 s, total: 1min 44s\n",
      "Wall time: 2min 16s\n"
     ]
    }
   ],
   "source": [
    "%%time\n",
    "parametrs = {'iterations' : [20, 30], \n",
    "             'learning_rate' : [0.01, 0.05], \n",
    "             'depth' : [5, 10]}\n",
    "model_testing(CatBoostRegressor, parametrs)"
   ]
  },
  {
   "cell_type": "markdown",
   "metadata": {},
   "source": [
    "Модель CatBoost при тех же временных затратах что и у дерева решений и случайного леса теряет в качестве. Метрика RMSE на тестовой выборке равна 1822. Однако взглянув на оптимальные гиперпараметры и сравнив их с установленными нами диапазонами можно заметить что наилучшие гиперпараметры равны верхним границам в наших диапазонах - имея чуть больше вычислительной мощности или же временных ресурсов CatBoost вполне мог достичь наилучших результатов среди выбранных нами моделей."
   ]
  },
  {
   "cell_type": "markdown",
   "metadata": {},
   "source": [
    "## 3.5. LGBM Regressor."
   ]
  },
  {
   "cell_type": "code",
   "execution_count": 43,
   "metadata": {},
   "outputs": [
    {
     "name": "stdout",
     "output_type": "stream",
     "text": [
      "\u001b[1mМодель - LGBM\u001b[0m\n",
      "Оптимальные гиперпараметры:\n",
      "{'max_depth': 3}\n",
      "\n",
      "Train RMSE score - 1542.0278751878866\n",
      "Valid RMSE score - 1537.0322270221443\n",
      "CPU times: user 6min 45s, sys: 1.8 s, total: 6min 47s\n",
      "Wall time: 6min 49s\n"
     ]
    }
   ],
   "source": [
    "%%time\n",
    "parametrs = {'max_depth': range(1, 5, 2)}\n",
    "model_testing(LGBMRegressor, parametrs) "
   ]
  },
  {
   "cell_type": "markdown",
   "metadata": {},
   "source": [
    "При небольшом наборе гиперпараметров LGBM-модель показывает лучшие результаты по соотношению времени и качества. Разница в качестве между случайным лесом и LGBM-моделью практически минимальна, однако временные затраты меньше в три раза."
   ]
  },
  {
   "cell_type": "code",
   "execution_count": 44,
   "metadata": {},
   "outputs": [
    {
     "data": {
      "text/html": [
       "<div>\n",
       "<style scoped>\n",
       "    .dataframe tbody tr th:only-of-type {\n",
       "        vertical-align: middle;\n",
       "    }\n",
       "\n",
       "    .dataframe tbody tr th {\n",
       "        vertical-align: top;\n",
       "    }\n",
       "\n",
       "    .dataframe thead th {\n",
       "        text-align: right;\n",
       "    }\n",
       "</style>\n",
       "<table border=\"1\" class=\"dataframe\">\n",
       "  <thead>\n",
       "    <tr style=\"text-align: right;\">\n",
       "      <th></th>\n",
       "      <th>Модель</th>\n",
       "      <th>Train RMSE score</th>\n",
       "      <th>Valid RMSE score</th>\n",
       "    </tr>\n",
       "  </thead>\n",
       "  <tbody>\n",
       "    <tr>\n",
       "      <td>0</td>\n",
       "      <td>Дерево решений</td>\n",
       "      <td>1143.893891</td>\n",
       "      <td>1417.508729</td>\n",
       "    </tr>\n",
       "    <tr>\n",
       "      <td>1</td>\n",
       "      <td>Случайный лес</td>\n",
       "      <td>1478.721125</td>\n",
       "      <td>1518.132138</td>\n",
       "    </tr>\n",
       "    <tr>\n",
       "      <td>4</td>\n",
       "      <td>LGBM</td>\n",
       "      <td>1542.027875</td>\n",
       "      <td>1537.032227</td>\n",
       "    </tr>\n",
       "    <tr>\n",
       "      <td>3</td>\n",
       "      <td>CatBoostRegressor</td>\n",
       "      <td>1823.723265</td>\n",
       "      <td>1822.372082</td>\n",
       "    </tr>\n",
       "    <tr>\n",
       "      <td>2</td>\n",
       "      <td>Линейная регрессия</td>\n",
       "      <td>2294.443201</td>\n",
       "      <td>2276.754698</td>\n",
       "    </tr>\n",
       "  </tbody>\n",
       "</table>\n",
       "</div>"
      ],
      "text/plain": [
       "               Модель  Train RMSE score  Valid RMSE score\n",
       "0      Дерево решений       1143.893891       1417.508729\n",
       "1       Случайный лес       1478.721125       1518.132138\n",
       "4                LGBM       1542.027875       1537.032227\n",
       "3   CatBoostRegressor       1823.723265       1822.372082\n",
       "2  Линейная регрессия       2294.443201       2276.754698"
      ]
     },
     "metadata": {},
     "output_type": "display_data"
    }
   ],
   "source": [
    "display(rmse_results.sort_values(by = 'Valid RMSE score'))"
   ]
  },
  {
   "cell_type": "markdown",
   "metadata": {},
   "source": [
    "# 4. Итоговый вывод:\n",
    "\n",
    "В ходе выполнения данного проекта мы проделали следующие шаги:\n",
    "- **Провели предобработку данных** - проверили наличие пропусков, дубликатов, выбросов. **Выявленные пропуски, дубликаты и выбросы успешно обработали.**\n",
    "- **Перед обучением преобразовали категориальные признаки в числовые**. Разделили наш датасет на обучающую и тестовую выборки.\n",
    "- Для предсказания необходимого нам целевого признака - цены автомобиля, **выбрали пять моделей: дерево решений, случайный лес, линейная регрессия, CatBoost Regressor и LGBM Regressor.** Провели подбор гиперпараметров с помощью GridSearchCV, также провели кросс-валидацию. Вычислили значения RMSE по каждой модели на обучающей и тестовой выборке.\n",
    "- По результатам исследования моделей по метрике RMSE **наилучший результат на тестовой выборке показывает *модель дерева решений* с результатом в *1417.51***. Однако по временным затратам на обучение и предсказания на этой модели она и все остальные модели (за исключением LGBM и линейной регрессии) показывают наихудший результат, наиболее оптимальной моделью по соотношению времени и качества предсказаний является **LGBM в *1537.03* по метрике RMSE**. Линейная регрессия показала наиболее быстрый результат, однако наименее качественный. Случайный лес работает чуть качественнее чем модель случайного леса, однако использует очень много временных ресурсов даже на такой маленькой сетке гиперпараметров. CatBoost показывает средние результаты по соотношению времени и качества."
   ]
  }
 ],
 "metadata": {
  "ExecuteTimeLog": [
   {
    "duration": 315,
    "start_time": "2021-06-29T13:15:46.039Z"
   },
   {
    "duration": 1487,
    "start_time": "2021-06-29T13:15:48.297Z"
   },
   {
    "duration": 1062,
    "start_time": "2021-06-29T13:15:51.258Z"
   },
   {
    "duration": 1073,
    "start_time": "2021-06-29T13:15:57.135Z"
   },
   {
    "duration": 151,
    "start_time": "2021-06-29T13:16:07.824Z"
   },
   {
    "duration": 3129,
    "start_time": "2021-06-29T13:16:34.090Z"
   },
   {
    "duration": 321,
    "start_time": "2021-06-29T13:18:04.034Z"
   },
   {
    "duration": 1226,
    "start_time": "2021-06-29T13:19:32.554Z"
   },
   {
    "duration": 330,
    "start_time": "2021-06-29T13:19:39.786Z"
   },
   {
    "duration": 430,
    "start_time": "2021-06-29T13:19:43.878Z"
   },
   {
    "duration": 1071,
    "start_time": "2021-06-29T13:19:49.314Z"
   },
   {
    "duration": 148,
    "start_time": "2021-06-29T13:19:52.895Z"
   },
   {
    "duration": 3134,
    "start_time": "2021-06-29T13:20:15.603Z"
   },
   {
    "duration": 397,
    "start_time": "2021-06-29T13:20:31.466Z"
   },
   {
    "duration": 393,
    "start_time": "2021-06-29T13:22:14.143Z"
   },
   {
    "duration": 402,
    "start_time": "2021-06-29T13:22:55.210Z"
   },
   {
    "duration": 399,
    "start_time": "2021-06-29T13:23:08.719Z"
   },
   {
    "duration": 398,
    "start_time": "2021-06-29T13:23:15.324Z"
   },
   {
    "duration": 379,
    "start_time": "2021-06-29T13:23:30.172Z"
   },
   {
    "duration": 144,
    "start_time": "2021-06-29T13:23:51.300Z"
   },
   {
    "duration": 251,
    "start_time": "2021-06-29T13:23:55.342Z"
   },
   {
    "duration": 147,
    "start_time": "2021-06-29T13:24:08.529Z"
   },
   {
    "duration": 804,
    "start_time": "2021-06-29T13:24:24.488Z"
   },
   {
    "duration": 46,
    "start_time": "2021-06-29T13:30:14.982Z"
   },
   {
    "duration": 278,
    "start_time": "2021-06-29T13:33:00.800Z"
   },
   {
    "duration": 222,
    "start_time": "2021-06-29T13:33:12.261Z"
   },
   {
    "duration": 10596,
    "start_time": "2021-06-29T13:33:14.195Z"
   },
   {
    "duration": 8804,
    "start_time": "2021-06-29T13:33:54.124Z"
   },
   {
    "duration": 3613,
    "start_time": "2021-06-29T13:34:45.285Z"
   },
   {
    "duration": 4628,
    "start_time": "2021-06-29T13:34:53.974Z"
   },
   {
    "duration": 3051,
    "start_time": "2021-06-29T13:35:01.157Z"
   },
   {
    "duration": 2379,
    "start_time": "2021-06-29T13:37:37.589Z"
   },
   {
    "duration": 3244,
    "start_time": "2021-06-29T13:37:49.673Z"
   },
   {
    "duration": 3047,
    "start_time": "2021-06-29T13:38:00.438Z"
   },
   {
    "duration": 5217,
    "start_time": "2021-06-29T13:38:12.846Z"
   },
   {
    "duration": 655,
    "start_time": "2021-06-29T13:39:10.658Z"
   },
   {
    "duration": 81,
    "start_time": "2021-06-29T13:40:27.718Z"
   },
   {
    "duration": 7408,
    "start_time": "2021-06-29T13:40:39.307Z"
   },
   {
    "duration": 81,
    "start_time": "2021-06-29T13:40:48.239Z"
   },
   {
    "duration": 148,
    "start_time": "2021-06-29T13:40:58.687Z"
   },
   {
    "duration": 83,
    "start_time": "2021-06-29T13:41:10.063Z"
   },
   {
    "duration": 77,
    "start_time": "2021-06-29T13:41:13.099Z"
   },
   {
    "duration": 81,
    "start_time": "2021-06-29T13:41:24.719Z"
   },
   {
    "duration": 82,
    "start_time": "2021-06-29T13:42:00.057Z"
   },
   {
    "duration": 923,
    "start_time": "2021-06-29T13:43:54.161Z"
   },
   {
    "duration": 659,
    "start_time": "2021-06-29T13:44:15.496Z"
   },
   {
    "duration": 707,
    "start_time": "2021-06-29T13:44:20.429Z"
   },
   {
    "duration": 738,
    "start_time": "2021-06-29T13:46:59.358Z"
   },
   {
    "duration": 822,
    "start_time": "2021-06-29T13:47:05.088Z"
   },
   {
    "duration": 665,
    "start_time": "2021-06-29T13:47:22.147Z"
   },
   {
    "duration": 6527,
    "start_time": "2021-06-29T13:47:53.763Z"
   },
   {
    "duration": 3126,
    "start_time": "2021-06-29T13:50:18.813Z"
   },
   {
    "duration": 1941,
    "start_time": "2021-06-29T13:51:10.315Z"
   },
   {
    "duration": 284,
    "start_time": "2021-06-29T13:51:40.828Z"
   },
   {
    "duration": 271,
    "start_time": "2021-06-29T13:51:53.806Z"
   },
   {
    "duration": 844,
    "start_time": "2021-06-29T13:52:29.427Z"
   },
   {
    "duration": 25,
    "start_time": "2021-06-29T13:52:51.273Z"
   },
   {
    "duration": 61,
    "start_time": "2021-06-29T13:53:07.373Z"
   },
   {
    "duration": 341,
    "start_time": "2021-06-29T13:53:14.836Z"
   },
   {
    "duration": 21,
    "start_time": "2021-06-29T13:53:26.677Z"
   },
   {
    "duration": 13,
    "start_time": "2021-06-29T13:53:33.932Z"
   },
   {
    "duration": 13,
    "start_time": "2021-06-29T13:53:49.245Z"
   },
   {
    "duration": 14,
    "start_time": "2021-06-29T13:54:01.550Z"
   },
   {
    "duration": 5050,
    "start_time": "2021-06-29T13:54:23.463Z"
   },
   {
    "duration": 754,
    "start_time": "2021-06-29T13:54:56.901Z"
   },
   {
    "duration": 771,
    "start_time": "2021-06-29T13:55:03.692Z"
   },
   {
    "duration": 876,
    "start_time": "2021-06-29T13:55:30.221Z"
   },
   {
    "duration": 332,
    "start_time": "2021-06-30T08:59:21.284Z"
   },
   {
    "duration": 3,
    "start_time": "2021-06-30T08:59:23.682Z"
   },
   {
    "duration": 1593,
    "start_time": "2021-06-30T08:59:23.687Z"
   },
   {
    "duration": 1220,
    "start_time": "2021-06-30T08:59:25.283Z"
   },
   {
    "duration": 170,
    "start_time": "2021-06-30T08:59:26.507Z"
   },
   {
    "duration": 3870,
    "start_time": "2021-06-30T08:59:26.679Z"
   },
   {
    "duration": 1051,
    "start_time": "2021-06-30T08:59:30.551Z"
   },
   {
    "duration": 504,
    "start_time": "2021-06-30T08:59:31.605Z"
   },
   {
    "duration": 67,
    "start_time": "2021-06-30T08:59:32.114Z"
   },
   {
    "duration": 71,
    "start_time": "2021-06-30T08:59:32.184Z"
   },
   {
    "duration": 52,
    "start_time": "2021-06-30T08:59:32.257Z"
   },
   {
    "duration": 61,
    "start_time": "2021-06-30T08:59:32.311Z"
   },
   {
    "duration": 51,
    "start_time": "2021-06-30T08:59:32.374Z"
   },
   {
    "duration": 22,
    "start_time": "2021-06-30T08:59:35.782Z"
   },
   {
    "duration": 633,
    "start_time": "2021-06-30T09:02:00.090Z"
   },
   {
    "duration": 117,
    "start_time": "2021-06-30T09:02:22.712Z"
   },
   {
    "duration": 582,
    "start_time": "2021-06-30T09:02:46.694Z"
   },
   {
    "duration": 688,
    "start_time": "2021-06-30T09:03:33.703Z"
   },
   {
    "duration": 712,
    "start_time": "2021-06-30T09:04:38.799Z"
   },
   {
    "duration": 4,
    "start_time": "2021-06-30T09:04:45.005Z"
   },
   {
    "duration": 11,
    "start_time": "2021-06-30T09:04:45.012Z"
   },
   {
    "duration": 1183,
    "start_time": "2021-06-30T09:04:45.026Z"
   },
   {
    "duration": 168,
    "start_time": "2021-06-30T09:04:46.213Z"
   },
   {
    "duration": 3777,
    "start_time": "2021-06-30T09:04:46.384Z"
   },
   {
    "duration": 945,
    "start_time": "2021-06-30T09:04:50.163Z"
   },
   {
    "duration": 680,
    "start_time": "2021-06-30T09:04:51.111Z"
   },
   {
    "duration": 655,
    "start_time": "2021-06-30T09:04:51.794Z"
   },
   {
    "duration": 435,
    "start_time": "2021-06-30T09:04:52.452Z"
   },
   {
    "duration": 46,
    "start_time": "2021-06-30T09:04:52.890Z"
   },
   {
    "duration": 75,
    "start_time": "2021-06-30T09:04:52.938Z"
   },
   {
    "duration": 66,
    "start_time": "2021-06-30T09:04:53.016Z"
   },
   {
    "duration": 49,
    "start_time": "2021-06-30T09:04:53.085Z"
   },
   {
    "duration": 66,
    "start_time": "2021-06-30T09:04:53.137Z"
   },
   {
    "duration": 23,
    "start_time": "2021-06-30T09:04:53.206Z"
   },
   {
    "duration": 850,
    "start_time": "2021-06-30T09:04:53.231Z"
   },
   {
    "duration": 22,
    "start_time": "2021-06-30T09:04:54.084Z"
   },
   {
    "duration": 13,
    "start_time": "2021-06-30T09:04:54.108Z"
   },
   {
    "duration": 747,
    "start_time": "2021-06-30T09:04:54.124Z"
   },
   {
    "duration": 797,
    "start_time": "2021-06-30T09:04:54.873Z"
   },
   {
    "duration": 98,
    "start_time": "2021-06-30T09:05:53.481Z"
   },
   {
    "duration": 27,
    "start_time": "2021-06-30T09:05:55.517Z"
   },
   {
    "duration": 43,
    "start_time": "2021-06-30T09:06:58.784Z"
   },
   {
    "duration": 108,
    "start_time": "2021-06-30T09:07:04.473Z"
   },
   {
    "duration": 731,
    "start_time": "2021-06-30T09:07:13.707Z"
   },
   {
    "duration": 12,
    "start_time": "2021-06-30T09:10:11.102Z"
   },
   {
    "duration": 3,
    "start_time": "2021-06-30T09:10:48.915Z"
   },
   {
    "duration": 14,
    "start_time": "2021-06-30T09:10:48.921Z"
   },
   {
    "duration": 1392,
    "start_time": "2021-06-30T09:10:48.938Z"
   },
   {
    "duration": 202,
    "start_time": "2021-06-30T09:10:50.333Z"
   },
   {
    "duration": 3905,
    "start_time": "2021-06-30T09:10:50.537Z"
   },
   {
    "duration": 961,
    "start_time": "2021-06-30T09:10:54.444Z"
   },
   {
    "duration": 684,
    "start_time": "2021-06-30T09:10:55.407Z"
   },
   {
    "duration": 669,
    "start_time": "2021-06-30T09:10:56.094Z"
   },
   {
    "duration": 433,
    "start_time": "2021-06-30T09:10:56.770Z"
   },
   {
    "duration": 46,
    "start_time": "2021-06-30T09:10:57.207Z"
   },
   {
    "duration": 51,
    "start_time": "2021-06-30T09:10:57.268Z"
   },
   {
    "duration": 80,
    "start_time": "2021-06-30T09:10:57.321Z"
   },
   {
    "duration": 48,
    "start_time": "2021-06-30T09:10:57.404Z"
   },
   {
    "duration": 61,
    "start_time": "2021-06-30T09:10:57.455Z"
   },
   {
    "duration": 771,
    "start_time": "2021-06-30T09:10:57.518Z"
   },
   {
    "duration": 103,
    "start_time": "2021-06-30T09:10:58.292Z"
   },
   {
    "duration": 21,
    "start_time": "2021-06-30T09:10:58.397Z"
   },
   {
    "duration": 23,
    "start_time": "2021-06-30T09:10:58.420Z"
   },
   {
    "duration": 819,
    "start_time": "2021-06-30T09:10:58.467Z"
   },
   {
    "duration": 802,
    "start_time": "2021-06-30T09:10:59.289Z"
   },
   {
    "duration": 90,
    "start_time": "2021-06-30T09:11:00.093Z"
   },
   {
    "duration": 715,
    "start_time": "2021-06-30T09:11:00.186Z"
   },
   {
    "duration": 14,
    "start_time": "2021-06-30T09:11:00.903Z"
   },
   {
    "duration": 15,
    "start_time": "2021-06-30T09:11:48.202Z"
   },
   {
    "duration": 14,
    "start_time": "2021-06-30T09:12:02.729Z"
   },
   {
    "duration": 14,
    "start_time": "2021-06-30T09:12:12.479Z"
   },
   {
    "duration": 70,
    "start_time": "2021-06-30T09:12:43.441Z"
   },
   {
    "duration": 744,
    "start_time": "2021-06-30T09:12:45.246Z"
   },
   {
    "duration": 810,
    "start_time": "2021-06-30T09:12:49.670Z"
   },
   {
    "duration": 3,
    "start_time": "2021-06-30T09:13:27.659Z"
   },
   {
    "duration": 11,
    "start_time": "2021-06-30T09:13:27.664Z"
   },
   {
    "duration": 1140,
    "start_time": "2021-06-30T09:13:27.679Z"
   },
   {
    "duration": 181,
    "start_time": "2021-06-30T09:13:28.821Z"
   },
   {
    "duration": 3784,
    "start_time": "2021-06-30T09:13:29.005Z"
   },
   {
    "duration": 966,
    "start_time": "2021-06-30T09:13:32.792Z"
   },
   {
    "duration": 628,
    "start_time": "2021-06-30T09:13:33.768Z"
   },
   {
    "duration": 647,
    "start_time": "2021-06-30T09:13:34.398Z"
   },
   {
    "duration": 440,
    "start_time": "2021-06-30T09:13:35.050Z"
   },
   {
    "duration": 46,
    "start_time": "2021-06-30T09:13:35.493Z"
   },
   {
    "duration": 75,
    "start_time": "2021-06-30T09:13:35.541Z"
   },
   {
    "duration": 66,
    "start_time": "2021-06-30T09:13:35.619Z"
   },
   {
    "duration": 50,
    "start_time": "2021-06-30T09:13:35.688Z"
   },
   {
    "duration": 74,
    "start_time": "2021-06-30T09:13:35.740Z"
   },
   {
    "duration": 881,
    "start_time": "2021-06-30T09:13:35.817Z"
   },
   {
    "duration": 92,
    "start_time": "2021-06-30T09:13:36.700Z"
   },
   {
    "duration": 21,
    "start_time": "2021-06-30T09:13:36.795Z"
   },
   {
    "duration": 21,
    "start_time": "2021-06-30T09:13:36.819Z"
   },
   {
    "duration": 41,
    "start_time": "2021-06-30T09:13:36.843Z"
   },
   {
    "duration": 97,
    "start_time": "2021-06-30T09:13:36.887Z"
   },
   {
    "duration": 45,
    "start_time": "2021-06-30T09:13:43.854Z"
   },
   {
    "duration": 72,
    "start_time": "2021-06-30T09:14:03.340Z"
   },
   {
    "duration": 70,
    "start_time": "2021-06-30T09:14:07.189Z"
   },
   {
    "duration": 771,
    "start_time": "2021-06-30T09:14:16.040Z"
   },
   {
    "duration": 68,
    "start_time": "2021-06-30T09:14:40.620Z"
   },
   {
    "duration": 777,
    "start_time": "2021-06-30T09:14:41.963Z"
   },
   {
    "duration": 71,
    "start_time": "2021-06-30T09:14:49.099Z"
   },
   {
    "duration": 4,
    "start_time": "2021-06-30T09:14:53.530Z"
   },
   {
    "duration": 7,
    "start_time": "2021-06-30T09:14:53.536Z"
   },
   {
    "duration": 1134,
    "start_time": "2021-06-30T09:14:53.546Z"
   },
   {
    "duration": 168,
    "start_time": "2021-06-30T09:14:54.683Z"
   },
   {
    "duration": 3939,
    "start_time": "2021-06-30T09:14:54.854Z"
   },
   {
    "duration": 1375,
    "start_time": "2021-06-30T09:14:58.796Z"
   },
   {
    "duration": 785,
    "start_time": "2021-06-30T09:15:00.174Z"
   },
   {
    "duration": 685,
    "start_time": "2021-06-30T09:15:00.962Z"
   },
   {
    "duration": 499,
    "start_time": "2021-06-30T09:15:01.651Z"
   },
   {
    "duration": 56,
    "start_time": "2021-06-30T09:15:02.153Z"
   },
   {
    "duration": 65,
    "start_time": "2021-06-30T09:15:02.212Z"
   },
   {
    "duration": 53,
    "start_time": "2021-06-30T09:15:02.280Z"
   },
   {
    "duration": 84,
    "start_time": "2021-06-30T09:15:02.336Z"
   },
   {
    "duration": 67,
    "start_time": "2021-06-30T09:15:02.423Z"
   },
   {
    "duration": 784,
    "start_time": "2021-06-30T09:15:02.492Z"
   },
   {
    "duration": 88,
    "start_time": "2021-06-30T09:15:03.280Z"
   },
   {
    "duration": 22,
    "start_time": "2021-06-30T09:15:03.371Z"
   },
   {
    "duration": 20,
    "start_time": "2021-06-30T09:15:03.395Z"
   },
   {
    "duration": 15,
    "start_time": "2021-06-30T09:15:03.417Z"
   },
   {
    "duration": 106,
    "start_time": "2021-06-30T09:15:03.434Z"
   },
   {
    "duration": 777,
    "start_time": "2021-06-30T09:15:03.542Z"
   },
   {
    "duration": 58,
    "start_time": "2021-06-30T09:15:04.321Z"
   },
   {
    "duration": 85,
    "start_time": "2021-06-30T09:15:04.382Z"
   },
   {
    "duration": 841,
    "start_time": "2021-06-30T09:15:04.475Z"
   },
   {
    "duration": 12,
    "start_time": "2021-06-30T09:15:05.318Z"
   },
   {
    "duration": 400,
    "start_time": "2021-06-30T09:16:09.870Z"
   },
   {
    "duration": 151,
    "start_time": "2021-06-30T09:16:54.913Z"
   },
   {
    "duration": 39,
    "start_time": "2021-06-30T09:18:09.555Z"
   },
   {
    "duration": 41,
    "start_time": "2021-06-30T09:19:02.512Z"
   },
   {
    "duration": 70,
    "start_time": "2021-06-30T09:19:54.421Z"
   },
   {
    "duration": 70,
    "start_time": "2021-06-30T09:20:00.474Z"
   },
   {
    "duration": 466,
    "start_time": "2021-06-30T09:21:23.696Z"
   },
   {
    "duration": 71,
    "start_time": "2021-06-30T09:21:56.664Z"
   },
   {
    "duration": 72,
    "start_time": "2021-06-30T09:22:00.835Z"
   },
   {
    "duration": 436,
    "start_time": "2021-06-30T09:22:57.900Z"
   },
   {
    "duration": 241,
    "start_time": "2021-06-30T09:23:14.649Z"
   },
   {
    "duration": 235,
    "start_time": "2021-06-30T09:24:05.100Z"
   },
   {
    "duration": 439,
    "start_time": "2021-06-30T09:27:29.441Z"
   },
   {
    "duration": 207,
    "start_time": "2021-06-30T09:28:06.640Z"
   },
   {
    "duration": 3,
    "start_time": "2021-06-30T09:28:13.690Z"
   },
   {
    "duration": 18,
    "start_time": "2021-06-30T09:28:13.696Z"
   },
   {
    "duration": 1103,
    "start_time": "2021-06-30T09:28:13.718Z"
   },
   {
    "duration": 176,
    "start_time": "2021-06-30T09:28:14.824Z"
   },
   {
    "duration": 3724,
    "start_time": "2021-06-30T09:28:15.002Z"
   },
   {
    "duration": 920,
    "start_time": "2021-06-30T09:28:18.728Z"
   },
   {
    "duration": 689,
    "start_time": "2021-06-30T09:28:19.651Z"
   },
   {
    "duration": 672,
    "start_time": "2021-06-30T09:28:20.344Z"
   },
   {
    "duration": 416,
    "start_time": "2021-06-30T09:28:21.020Z"
   },
   {
    "duration": 54,
    "start_time": "2021-06-30T09:28:21.439Z"
   },
   {
    "duration": 47,
    "start_time": "2021-06-30T09:28:21.496Z"
   },
   {
    "duration": 60,
    "start_time": "2021-06-30T09:28:21.545Z"
   },
   {
    "duration": 65,
    "start_time": "2021-06-30T09:28:21.607Z"
   },
   {
    "duration": 48,
    "start_time": "2021-06-30T09:28:21.675Z"
   },
   {
    "duration": 741,
    "start_time": "2021-06-30T09:28:21.726Z"
   },
   {
    "duration": 108,
    "start_time": "2021-06-30T09:28:22.470Z"
   },
   {
    "duration": 21,
    "start_time": "2021-06-30T09:28:22.581Z"
   },
   {
    "duration": 21,
    "start_time": "2021-06-30T09:28:22.604Z"
   },
   {
    "duration": 47,
    "start_time": "2021-06-30T09:28:22.627Z"
   },
   {
    "duration": 91,
    "start_time": "2021-06-30T09:28:22.676Z"
   },
   {
    "duration": 688,
    "start_time": "2021-06-30T09:28:22.770Z"
   },
   {
    "duration": 48,
    "start_time": "2021-06-30T09:28:23.461Z"
   },
   {
    "duration": 93,
    "start_time": "2021-06-30T09:28:23.512Z"
   },
   {
    "duration": 734,
    "start_time": "2021-06-30T09:28:23.607Z"
   },
   {
    "duration": 25,
    "start_time": "2021-06-30T09:28:24.343Z"
   },
   {
    "duration": 141,
    "start_time": "2021-06-30T09:28:24.370Z"
   },
   {
    "duration": 252,
    "start_time": "2021-06-30T09:28:24.516Z"
   },
   {
    "duration": 130,
    "start_time": "2021-06-30T09:29:12.108Z"
   },
   {
    "duration": 3,
    "start_time": "2021-06-30T09:29:36.091Z"
   },
   {
    "duration": 9,
    "start_time": "2021-06-30T09:29:36.097Z"
   },
   {
    "duration": 1073,
    "start_time": "2021-06-30T09:29:36.109Z"
   },
   {
    "duration": 166,
    "start_time": "2021-06-30T09:29:37.185Z"
   },
   {
    "duration": 3713,
    "start_time": "2021-06-30T09:29:37.354Z"
   },
   {
    "duration": 896,
    "start_time": "2021-06-30T09:29:41.070Z"
   },
   {
    "duration": 608,
    "start_time": "2021-06-30T09:29:41.969Z"
   },
   {
    "duration": 624,
    "start_time": "2021-06-30T09:29:42.579Z"
   },
   {
    "duration": 517,
    "start_time": "2021-06-30T09:29:43.207Z"
   },
   {
    "duration": 53,
    "start_time": "2021-06-30T09:29:43.727Z"
   },
   {
    "duration": 47,
    "start_time": "2021-06-30T09:29:43.783Z"
   },
   {
    "duration": 70,
    "start_time": "2021-06-30T09:29:43.832Z"
   },
   {
    "duration": 51,
    "start_time": "2021-06-30T09:29:43.904Z"
   },
   {
    "duration": 47,
    "start_time": "2021-06-30T09:29:43.967Z"
   },
   {
    "duration": 753,
    "start_time": "2021-06-30T09:29:44.017Z"
   },
   {
    "duration": 79,
    "start_time": "2021-06-30T09:29:44.772Z"
   },
   {
    "duration": 31,
    "start_time": "2021-06-30T09:29:44.854Z"
   },
   {
    "duration": 22,
    "start_time": "2021-06-30T09:29:44.888Z"
   },
   {
    "duration": 15,
    "start_time": "2021-06-30T09:29:44.912Z"
   },
   {
    "duration": 105,
    "start_time": "2021-06-30T09:29:44.930Z"
   },
   {
    "duration": 699,
    "start_time": "2021-06-30T09:29:45.038Z"
   },
   {
    "duration": 49,
    "start_time": "2021-06-30T09:29:45.740Z"
   },
   {
    "duration": 88,
    "start_time": "2021-06-30T09:29:45.791Z"
   },
   {
    "duration": 740,
    "start_time": "2021-06-30T09:29:45.881Z"
   },
   {
    "duration": 13,
    "start_time": "2021-06-30T09:29:46.624Z"
   },
   {
    "duration": 155,
    "start_time": "2021-06-30T09:29:46.639Z"
   },
   {
    "duration": 110,
    "start_time": "2021-06-30T09:29:51.023Z"
   },
   {
    "duration": 38,
    "start_time": "2021-06-30T09:29:54.398Z"
   },
   {
    "duration": 38,
    "start_time": "2021-06-30T09:30:13.568Z"
   },
   {
    "duration": 67,
    "start_time": "2021-06-30T09:30:37.250Z"
   },
   {
    "duration": 36,
    "start_time": "2021-06-30T09:30:44.976Z"
   },
   {
    "duration": 3,
    "start_time": "2021-06-30T09:33:50.029Z"
   },
   {
    "duration": 8,
    "start_time": "2021-06-30T09:33:50.035Z"
   },
   {
    "duration": 1089,
    "start_time": "2021-06-30T09:33:50.047Z"
   },
   {
    "duration": 170,
    "start_time": "2021-06-30T09:33:51.139Z"
   },
   {
    "duration": 3625,
    "start_time": "2021-06-30T09:33:51.311Z"
   },
   {
    "duration": 913,
    "start_time": "2021-06-30T09:33:54.938Z"
   },
   {
    "duration": 672,
    "start_time": "2021-06-30T09:33:55.853Z"
   },
   {
    "duration": 655,
    "start_time": "2021-06-30T09:33:56.527Z"
   },
   {
    "duration": 412,
    "start_time": "2021-06-30T09:33:57.186Z"
   },
   {
    "duration": 47,
    "start_time": "2021-06-30T09:33:57.601Z"
   },
   {
    "duration": 47,
    "start_time": "2021-06-30T09:33:57.667Z"
   },
   {
    "duration": 68,
    "start_time": "2021-06-30T09:33:57.717Z"
   },
   {
    "duration": 49,
    "start_time": "2021-06-30T09:33:57.787Z"
   },
   {
    "duration": 64,
    "start_time": "2021-06-30T09:33:57.838Z"
   },
   {
    "duration": 737,
    "start_time": "2021-06-30T09:33:57.905Z"
   },
   {
    "duration": 95,
    "start_time": "2021-06-30T09:33:58.644Z"
   },
   {
    "duration": 26,
    "start_time": "2021-06-30T09:33:58.742Z"
   },
   {
    "duration": 22,
    "start_time": "2021-06-30T09:33:58.770Z"
   },
   {
    "duration": 16,
    "start_time": "2021-06-30T09:33:58.794Z"
   },
   {
    "duration": 115,
    "start_time": "2021-06-30T09:33:58.812Z"
   },
   {
    "duration": 692,
    "start_time": "2021-06-30T09:33:58.930Z"
   },
   {
    "duration": 54,
    "start_time": "2021-06-30T09:33:59.624Z"
   },
   {
    "duration": 90,
    "start_time": "2021-06-30T09:33:59.681Z"
   },
   {
    "duration": 828,
    "start_time": "2021-06-30T09:33:59.774Z"
   },
   {
    "duration": 12,
    "start_time": "2021-06-30T09:34:00.605Z"
   },
   {
    "duration": 148,
    "start_time": "2021-06-30T09:34:00.620Z"
   },
   {
    "duration": 101,
    "start_time": "2021-06-30T09:34:05.045Z"
   },
   {
    "duration": 6,
    "start_time": "2021-06-30T09:34:06.281Z"
   },
   {
    "duration": 99,
    "start_time": "2021-06-30T09:34:19.339Z"
   },
   {
    "duration": 5,
    "start_time": "2021-06-30T09:34:20.651Z"
   },
   {
    "duration": 208,
    "start_time": "2021-06-30T09:35:40.773Z"
   },
   {
    "duration": 6,
    "start_time": "2021-06-30T09:35:42.063Z"
   },
   {
    "duration": 40,
    "start_time": "2021-06-30T09:36:18.119Z"
   },
   {
    "duration": 3,
    "start_time": "2021-06-30T09:36:49.485Z"
   },
   {
    "duration": 23,
    "start_time": "2021-06-30T09:36:49.491Z"
   },
   {
    "duration": 1079,
    "start_time": "2021-06-30T09:36:49.518Z"
   },
   {
    "duration": 288,
    "start_time": "2021-06-30T09:36:50.600Z"
   },
   {
    "duration": 4980,
    "start_time": "2021-06-30T09:36:50.891Z"
   },
   {
    "duration": 1316,
    "start_time": "2021-06-30T09:36:55.874Z"
   },
   {
    "duration": 1045,
    "start_time": "2021-06-30T09:36:57.193Z"
   },
   {
    "duration": 957,
    "start_time": "2021-06-30T09:36:58.241Z"
   },
   {
    "duration": 693,
    "start_time": "2021-06-30T09:36:59.204Z"
   },
   {
    "duration": 91,
    "start_time": "2021-06-30T09:36:59.901Z"
   },
   {
    "duration": 93,
    "start_time": "2021-06-30T09:36:59.995Z"
   },
   {
    "duration": 95,
    "start_time": "2021-06-30T09:37:00.091Z"
   },
   {
    "duration": 98,
    "start_time": "2021-06-30T09:37:00.188Z"
   },
   {
    "duration": 60,
    "start_time": "2021-06-30T09:37:00.289Z"
   },
   {
    "duration": 722,
    "start_time": "2021-06-30T09:37:00.352Z"
   },
   {
    "duration": 103,
    "start_time": "2021-06-30T09:37:01.077Z"
   },
   {
    "duration": 23,
    "start_time": "2021-06-30T09:37:01.183Z"
   },
   {
    "duration": 24,
    "start_time": "2021-06-30T09:37:01.209Z"
   },
   {
    "duration": 16,
    "start_time": "2021-06-30T09:37:01.268Z"
   },
   {
    "duration": 96,
    "start_time": "2021-06-30T09:37:01.287Z"
   },
   {
    "duration": 947,
    "start_time": "2021-06-30T09:37:01.385Z"
   },
   {
    "duration": 78,
    "start_time": "2021-06-30T09:37:02.335Z"
   },
   {
    "duration": 97,
    "start_time": "2021-06-30T09:37:02.416Z"
   },
   {
    "duration": 791,
    "start_time": "2021-06-30T09:37:02.516Z"
   },
   {
    "duration": 14,
    "start_time": "2021-06-30T09:37:03.309Z"
   },
   {
    "duration": 42,
    "start_time": "2021-06-30T09:37:03.489Z"
   },
   {
    "duration": 240,
    "start_time": "2021-06-30T09:37:03.534Z"
   },
   {
    "duration": 140,
    "start_time": "2021-06-30T09:37:03.777Z"
   },
   {
    "duration": 1476,
    "start_time": "2021-06-30T09:37:32.136Z"
   },
   {
    "duration": 573,
    "start_time": "2021-06-30T09:37:43.896Z"
   },
   {
    "duration": 214,
    "start_time": "2021-06-30T09:38:55.868Z"
   },
   {
    "duration": 3,
    "start_time": "2021-06-30T09:39:02.577Z"
   },
   {
    "duration": 11,
    "start_time": "2021-06-30T09:39:02.583Z"
   },
   {
    "duration": 1074,
    "start_time": "2021-06-30T09:39:02.599Z"
   },
   {
    "duration": 280,
    "start_time": "2021-06-30T09:39:03.677Z"
   },
   {
    "duration": 5619,
    "start_time": "2021-06-30T09:39:03.968Z"
   },
   {
    "duration": 2026,
    "start_time": "2021-06-30T09:39:07.567Z"
   },
   {
    "duration": 2026,
    "start_time": "2021-06-30T09:39:07.569Z"
   },
   {
    "duration": 2027,
    "start_time": "2021-06-30T09:39:07.570Z"
   },
   {
    "duration": 2028,
    "start_time": "2021-06-30T09:39:07.571Z"
   },
   {
    "duration": 2029,
    "start_time": "2021-06-30T09:39:07.572Z"
   },
   {
    "duration": 2031,
    "start_time": "2021-06-30T09:39:07.573Z"
   },
   {
    "duration": 2031,
    "start_time": "2021-06-30T09:39:07.575Z"
   },
   {
    "duration": 2032,
    "start_time": "2021-06-30T09:39:07.576Z"
   },
   {
    "duration": 2033,
    "start_time": "2021-06-30T09:39:07.577Z"
   },
   {
    "duration": 2028,
    "start_time": "2021-06-30T09:39:07.584Z"
   },
   {
    "duration": 2024,
    "start_time": "2021-06-30T09:39:07.590Z"
   },
   {
    "duration": 2024,
    "start_time": "2021-06-30T09:39:07.592Z"
   },
   {
    "duration": 2020,
    "start_time": "2021-06-30T09:39:07.598Z"
   },
   {
    "duration": 2018,
    "start_time": "2021-06-30T09:39:07.601Z"
   },
   {
    "duration": 2019,
    "start_time": "2021-06-30T09:39:07.602Z"
   },
   {
    "duration": 2013,
    "start_time": "2021-06-30T09:39:07.610Z"
   },
   {
    "duration": 2014,
    "start_time": "2021-06-30T09:39:07.611Z"
   },
   {
    "duration": 2055,
    "start_time": "2021-06-30T09:39:07.612Z"
   },
   {
    "duration": 2055,
    "start_time": "2021-06-30T09:39:07.613Z"
   },
   {
    "duration": 2055,
    "start_time": "2021-06-30T09:39:07.615Z"
   },
   {
    "duration": 2055,
    "start_time": "2021-06-30T09:39:07.616Z"
   },
   {
    "duration": 2054,
    "start_time": "2021-06-30T09:39:07.618Z"
   },
   {
    "duration": 2048,
    "start_time": "2021-06-30T09:39:07.625Z"
   },
   {
    "duration": 3,
    "start_time": "2021-06-30T09:39:18.466Z"
   },
   {
    "duration": 8,
    "start_time": "2021-06-30T09:39:18.472Z"
   },
   {
    "duration": 1085,
    "start_time": "2021-06-30T09:39:18.483Z"
   },
   {
    "duration": 165,
    "start_time": "2021-06-30T09:39:19.571Z"
   },
   {
    "duration": 3837,
    "start_time": "2021-06-30T09:39:19.738Z"
   },
   {
    "duration": 923,
    "start_time": "2021-06-30T09:39:23.577Z"
   },
   {
    "duration": 644,
    "start_time": "2021-06-30T09:39:24.502Z"
   },
   {
    "duration": 659,
    "start_time": "2021-06-30T09:39:25.148Z"
   },
   {
    "duration": 407,
    "start_time": "2021-06-30T09:39:25.810Z"
   },
   {
    "duration": 55,
    "start_time": "2021-06-30T09:39:26.219Z"
   },
   {
    "duration": 44,
    "start_time": "2021-06-30T09:39:26.276Z"
   },
   {
    "duration": 49,
    "start_time": "2021-06-30T09:39:35.445Z"
   },
   {
    "duration": 261,
    "start_time": "2021-06-30T09:39:38.835Z"
   },
   {
    "duration": 595,
    "start_time": "2021-06-30T09:40:05.211Z"
   },
   {
    "duration": 3,
    "start_time": "2021-06-30T09:40:20.431Z"
   },
   {
    "duration": 10,
    "start_time": "2021-06-30T09:40:20.437Z"
   },
   {
    "duration": 1066,
    "start_time": "2021-06-30T09:40:20.450Z"
   },
   {
    "duration": 173,
    "start_time": "2021-06-30T09:40:21.519Z"
   },
   {
    "duration": 3751,
    "start_time": "2021-06-30T09:40:21.694Z"
   },
   {
    "duration": 995,
    "start_time": "2021-06-30T09:40:25.448Z"
   },
   {
    "duration": 736,
    "start_time": "2021-06-30T09:40:26.445Z"
   },
   {
    "duration": 663,
    "start_time": "2021-06-30T09:40:27.185Z"
   },
   {
    "duration": 519,
    "start_time": "2021-06-30T09:40:27.851Z"
   },
   {
    "duration": 47,
    "start_time": "2021-06-30T09:40:28.372Z"
   },
   {
    "duration": 72,
    "start_time": "2021-06-30T09:40:28.421Z"
   },
   {
    "duration": 263,
    "start_time": "2021-06-30T09:40:28.496Z"
   },
   {
    "duration": 51,
    "start_time": "2021-06-30T09:40:28.761Z"
   },
   {
    "duration": 63,
    "start_time": "2021-06-30T09:40:28.814Z"
   },
   {
    "duration": 46,
    "start_time": "2021-06-30T09:40:28.879Z"
   },
   {
    "duration": 1116,
    "start_time": "2021-06-30T09:40:28.929Z"
   },
   {
    "duration": 130,
    "start_time": "2021-06-30T09:40:30.049Z"
   },
   {
    "duration": 21,
    "start_time": "2021-06-30T09:40:30.182Z"
   },
   {
    "duration": 21,
    "start_time": "2021-06-30T09:40:30.206Z"
   },
   {
    "duration": 43,
    "start_time": "2021-06-30T09:40:30.229Z"
   },
   {
    "duration": 92,
    "start_time": "2021-06-30T09:40:30.275Z"
   },
   {
    "duration": 701,
    "start_time": "2021-06-30T09:40:30.369Z"
   },
   {
    "duration": 44,
    "start_time": "2021-06-30T09:40:31.074Z"
   },
   {
    "duration": 98,
    "start_time": "2021-06-30T09:40:31.121Z"
   },
   {
    "duration": 749,
    "start_time": "2021-06-30T09:40:31.222Z"
   },
   {
    "duration": 12,
    "start_time": "2021-06-30T09:40:31.973Z"
   },
   {
    "duration": 39,
    "start_time": "2021-06-30T09:40:31.987Z"
   },
   {
    "duration": 250,
    "start_time": "2021-06-30T09:40:32.028Z"
   },
   {
    "duration": 3,
    "start_time": "2021-06-30T09:44:03.051Z"
   },
   {
    "duration": 12,
    "start_time": "2021-06-30T09:44:03.057Z"
   },
   {
    "duration": 1073,
    "start_time": "2021-06-30T09:44:03.073Z"
   },
   {
    "duration": 170,
    "start_time": "2021-06-30T09:44:04.149Z"
   },
   {
    "duration": 3699,
    "start_time": "2021-06-30T09:44:04.321Z"
   },
   {
    "duration": 899,
    "start_time": "2021-06-30T09:44:08.022Z"
   },
   {
    "duration": 700,
    "start_time": "2021-06-30T09:44:08.923Z"
   },
   {
    "duration": 688,
    "start_time": "2021-06-30T09:44:09.627Z"
   },
   {
    "duration": 506,
    "start_time": "2021-06-30T09:44:10.318Z"
   },
   {
    "duration": 65,
    "start_time": "2021-06-30T09:44:10.826Z"
   },
   {
    "duration": 50,
    "start_time": "2021-06-30T09:44:10.894Z"
   },
   {
    "duration": 281,
    "start_time": "2021-06-30T09:44:10.947Z"
   },
   {
    "duration": 56,
    "start_time": "2021-06-30T09:44:11.230Z"
   },
   {
    "duration": 560,
    "start_time": "2021-06-30T09:44:11.288Z"
   },
   {
    "duration": 2045,
    "start_time": "2021-06-30T09:44:09.807Z"
   },
   {
    "duration": 2045,
    "start_time": "2021-06-30T09:44:09.809Z"
   },
   {
    "duration": 2045,
    "start_time": "2021-06-30T09:44:09.811Z"
   },
   {
    "duration": 2045,
    "start_time": "2021-06-30T09:44:09.813Z"
   },
   {
    "duration": 2046,
    "start_time": "2021-06-30T09:44:09.814Z"
   },
   {
    "duration": 2047,
    "start_time": "2021-06-30T09:44:09.815Z"
   },
   {
    "duration": 2047,
    "start_time": "2021-06-30T09:44:09.817Z"
   },
   {
    "duration": 2048,
    "start_time": "2021-06-30T09:44:09.818Z"
   },
   {
    "duration": 2050,
    "start_time": "2021-06-30T09:44:09.819Z"
   },
   {
    "duration": 2051,
    "start_time": "2021-06-30T09:44:09.820Z"
   },
   {
    "duration": 2052,
    "start_time": "2021-06-30T09:44:09.821Z"
   },
   {
    "duration": 2041,
    "start_time": "2021-06-30T09:44:09.834Z"
   },
   {
    "duration": 2039,
    "start_time": "2021-06-30T09:44:09.838Z"
   },
   {
    "duration": 2040,
    "start_time": "2021-06-30T09:44:09.839Z"
   },
   {
    "duration": 2041,
    "start_time": "2021-06-30T09:44:09.840Z"
   },
   {
    "duration": 172,
    "start_time": "2021-06-30T09:46:02.641Z"
   },
   {
    "duration": 5,
    "start_time": "2021-06-30T09:46:03.989Z"
   },
   {
    "duration": 3,
    "start_time": "2021-06-30T09:46:27.615Z"
   },
   {
    "duration": 6,
    "start_time": "2021-06-30T09:46:27.621Z"
   },
   {
    "duration": 1060,
    "start_time": "2021-06-30T09:46:27.630Z"
   },
   {
    "duration": 164,
    "start_time": "2021-06-30T09:46:28.693Z"
   },
   {
    "duration": 3650,
    "start_time": "2021-06-30T09:46:28.867Z"
   },
   {
    "duration": 885,
    "start_time": "2021-06-30T09:46:32.520Z"
   },
   {
    "duration": 629,
    "start_time": "2021-06-30T09:46:33.408Z"
   },
   {
    "duration": 621,
    "start_time": "2021-06-30T09:46:34.041Z"
   },
   {
    "duration": 432,
    "start_time": "2021-06-30T09:46:34.668Z"
   },
   {
    "duration": 46,
    "start_time": "2021-06-30T09:46:35.102Z"
   },
   {
    "duration": 59,
    "start_time": "2021-06-30T09:46:35.150Z"
   },
   {
    "duration": 273,
    "start_time": "2021-06-30T09:46:35.212Z"
   },
   {
    "duration": 45,
    "start_time": "2021-06-30T09:46:35.487Z"
   },
   {
    "duration": 204,
    "start_time": "2021-06-30T09:46:35.535Z"
   },
   {
    "duration": 5,
    "start_time": "2021-06-30T09:46:35.742Z"
   },
   {
    "duration": 371,
    "start_time": "2021-06-30T09:46:35.750Z"
   },
   {
    "duration": 56,
    "start_time": "2021-06-30T09:46:36.123Z"
   },
   {
    "duration": 52,
    "start_time": "2021-06-30T09:46:36.182Z"
   },
   {
    "duration": 839,
    "start_time": "2021-06-30T09:46:36.237Z"
   },
   {
    "duration": 96,
    "start_time": "2021-06-30T09:46:37.078Z"
   },
   {
    "duration": 21,
    "start_time": "2021-06-30T09:46:37.176Z"
   },
   {
    "duration": 20,
    "start_time": "2021-06-30T09:46:37.202Z"
   },
   {
    "duration": 43,
    "start_time": "2021-06-30T09:46:37.225Z"
   },
   {
    "duration": 79,
    "start_time": "2021-06-30T09:46:37.271Z"
   },
   {
    "duration": 703,
    "start_time": "2021-06-30T09:46:37.368Z"
   },
   {
    "duration": 41,
    "start_time": "2021-06-30T09:46:38.074Z"
   },
   {
    "duration": 96,
    "start_time": "2021-06-30T09:46:38.118Z"
   },
   {
    "duration": 727,
    "start_time": "2021-06-30T09:46:38.217Z"
   },
   {
    "duration": 22,
    "start_time": "2021-06-30T09:46:38.946Z"
   },
   {
    "duration": 39,
    "start_time": "2021-06-30T09:46:38.970Z"
   },
   {
    "duration": 240,
    "start_time": "2021-06-30T09:46:39.011Z"
   },
   {
    "duration": 1289,
    "start_time": "2021-06-30T09:47:20.551Z"
   },
   {
    "duration": 352,
    "start_time": "2021-06-30T09:47:26.240Z"
   },
   {
    "duration": 3,
    "start_time": "2021-06-30T09:48:21.430Z"
   },
   {
    "duration": 9,
    "start_time": "2021-06-30T09:48:21.436Z"
   },
   {
    "duration": 1072,
    "start_time": "2021-06-30T09:48:21.448Z"
   },
   {
    "duration": 168,
    "start_time": "2021-06-30T09:48:22.522Z"
   },
   {
    "duration": 3652,
    "start_time": "2021-06-30T09:48:22.692Z"
   },
   {
    "duration": 866,
    "start_time": "2021-06-30T09:48:26.347Z"
   },
   {
    "duration": 698,
    "start_time": "2021-06-30T09:48:27.215Z"
   },
   {
    "duration": 640,
    "start_time": "2021-06-30T09:48:27.916Z"
   },
   {
    "duration": 558,
    "start_time": "2021-06-30T09:48:28.560Z"
   },
   {
    "duration": 51,
    "start_time": "2021-06-30T09:48:29.121Z"
   },
   {
    "duration": 46,
    "start_time": "2021-06-30T09:48:29.174Z"
   },
   {
    "duration": 279,
    "start_time": "2021-06-30T09:48:29.222Z"
   },
   {
    "duration": 47,
    "start_time": "2021-06-30T09:48:29.503Z"
   },
   {
    "duration": 355,
    "start_time": "2021-06-30T09:48:29.567Z"
   },
   {
    "duration": 53,
    "start_time": "2021-06-30T09:48:29.924Z"
   },
   {
    "duration": 46,
    "start_time": "2021-06-30T09:48:29.979Z"
   },
   {
    "duration": 747,
    "start_time": "2021-06-30T09:48:30.028Z"
   },
   {
    "duration": 90,
    "start_time": "2021-06-30T09:48:30.777Z"
   },
   {
    "duration": 21,
    "start_time": "2021-06-30T09:48:30.870Z"
   },
   {
    "duration": 21,
    "start_time": "2021-06-30T09:48:30.893Z"
   },
   {
    "duration": 14,
    "start_time": "2021-06-30T09:48:30.917Z"
   },
   {
    "duration": 107,
    "start_time": "2021-06-30T09:48:30.933Z"
   },
   {
    "duration": 727,
    "start_time": "2021-06-30T09:48:31.043Z"
   },
   {
    "duration": 39,
    "start_time": "2021-06-30T09:48:31.772Z"
   },
   {
    "duration": 90,
    "start_time": "2021-06-30T09:48:31.813Z"
   },
   {
    "duration": 741,
    "start_time": "2021-06-30T09:48:31.905Z"
   },
   {
    "duration": 20,
    "start_time": "2021-06-30T09:48:32.650Z"
   },
   {
    "duration": 42,
    "start_time": "2021-06-30T09:48:32.673Z"
   },
   {
    "duration": 254,
    "start_time": "2021-06-30T09:48:32.717Z"
   },
   {
    "duration": 373,
    "start_time": "2021-06-30T09:48:32.973Z"
   },
   {
    "duration": 739,
    "start_time": "2021-06-30T09:50:27.600Z"
   },
   {
    "duration": 763,
    "start_time": "2021-06-30T09:50:55.322Z"
   },
   {
    "duration": 68,
    "start_time": "2021-06-30T10:01:07.733Z"
   },
   {
    "duration": 707,
    "start_time": "2021-06-30T10:01:08.763Z"
   },
   {
    "duration": 842,
    "start_time": "2021-06-30T10:03:11.032Z"
   },
   {
    "duration": 764,
    "start_time": "2021-06-30T10:03:14.049Z"
   },
   {
    "duration": 3,
    "start_time": "2021-06-30T10:03:53.418Z"
   },
   {
    "duration": 12,
    "start_time": "2021-06-30T10:03:53.423Z"
   },
   {
    "duration": 1096,
    "start_time": "2021-06-30T10:03:53.438Z"
   },
   {
    "duration": 183,
    "start_time": "2021-06-30T10:03:54.537Z"
   },
   {
    "duration": 3751,
    "start_time": "2021-06-30T10:03:54.723Z"
   },
   {
    "duration": 931,
    "start_time": "2021-06-30T10:03:58.476Z"
   },
   {
    "duration": 670,
    "start_time": "2021-06-30T10:03:59.409Z"
   },
   {
    "duration": 698,
    "start_time": "2021-06-30T10:04:00.081Z"
   },
   {
    "duration": 432,
    "start_time": "2021-06-30T10:04:00.783Z"
   },
   {
    "duration": 54,
    "start_time": "2021-06-30T10:04:01.218Z"
   },
   {
    "duration": 46,
    "start_time": "2021-06-30T10:04:01.275Z"
   },
   {
    "duration": 300,
    "start_time": "2021-06-30T10:04:01.324Z"
   },
   {
    "duration": 61,
    "start_time": "2021-06-30T10:04:01.627Z"
   },
   {
    "duration": 376,
    "start_time": "2021-06-30T10:04:01.691Z"
   },
   {
    "duration": 49,
    "start_time": "2021-06-30T10:04:02.069Z"
   },
   {
    "duration": 66,
    "start_time": "2021-06-30T10:04:02.120Z"
   },
   {
    "duration": 618,
    "start_time": "2021-06-30T10:04:02.188Z"
   },
   {
    "duration": 107,
    "start_time": "2021-06-30T10:04:02.808Z"
   },
   {
    "duration": 21,
    "start_time": "2021-06-30T10:04:02.918Z"
   },
   {
    "duration": 42,
    "start_time": "2021-06-30T10:04:02.941Z"
   },
   {
    "duration": 15,
    "start_time": "2021-06-30T10:04:02.985Z"
   },
   {
    "duration": 99,
    "start_time": "2021-06-30T10:04:03.002Z"
   },
   {
    "duration": 724,
    "start_time": "2021-06-30T10:04:03.103Z"
   },
   {
    "duration": 82,
    "start_time": "2021-06-30T10:04:03.830Z"
   },
   {
    "duration": 96,
    "start_time": "2021-06-30T10:04:03.915Z"
   },
   {
    "duration": 883,
    "start_time": "2021-06-30T10:04:04.014Z"
   },
   {
    "duration": 12,
    "start_time": "2021-06-30T10:04:04.902Z"
   },
   {
    "duration": 61,
    "start_time": "2021-06-30T10:04:04.916Z"
   },
   {
    "duration": 249,
    "start_time": "2021-06-30T10:04:04.980Z"
   },
   {
    "duration": 635,
    "start_time": "2021-06-30T10:04:05.231Z"
   },
   {
    "duration": 751,
    "start_time": "2021-06-30T10:04:05.869Z"
   },
   {
    "duration": 650,
    "start_time": "2021-06-30T10:04:06.622Z"
   },
   {
    "duration": 663,
    "start_time": "2021-06-30T10:04:38.758Z"
   },
   {
    "duration": 708,
    "start_time": "2021-06-30T10:04:43.693Z"
   },
   {
    "duration": 643,
    "start_time": "2021-06-30T10:04:49.076Z"
   },
   {
    "duration": 1011,
    "start_time": "2021-06-30T10:04:58.366Z"
   },
   {
    "duration": 1354,
    "start_time": "2021-06-30T10:05:05.687Z"
   },
   {
    "duration": 3,
    "start_time": "2021-06-30T10:05:36.487Z"
   },
   {
    "duration": 11,
    "start_time": "2021-06-30T10:05:36.493Z"
   },
   {
    "duration": 1094,
    "start_time": "2021-06-30T10:05:36.507Z"
   },
   {
    "duration": 171,
    "start_time": "2021-06-30T10:05:37.604Z"
   },
   {
    "duration": 3678,
    "start_time": "2021-06-30T10:05:37.777Z"
   },
   {
    "duration": 888,
    "start_time": "2021-06-30T10:05:41.457Z"
   },
   {
    "duration": 628,
    "start_time": "2021-06-30T10:05:42.347Z"
   },
   {
    "duration": 653,
    "start_time": "2021-06-30T10:05:42.977Z"
   },
   {
    "duration": 422,
    "start_time": "2021-06-30T10:05:43.634Z"
   },
   {
    "duration": 52,
    "start_time": "2021-06-30T10:05:44.060Z"
   },
   {
    "duration": 72,
    "start_time": "2021-06-30T10:05:44.115Z"
   },
   {
    "duration": 384,
    "start_time": "2021-06-30T10:05:44.191Z"
   },
   {
    "duration": 49,
    "start_time": "2021-06-30T10:05:44.578Z"
   },
   {
    "duration": 373,
    "start_time": "2021-06-30T10:05:44.629Z"
   },
   {
    "duration": 63,
    "start_time": "2021-06-30T10:05:45.004Z"
   },
   {
    "duration": 46,
    "start_time": "2021-06-30T10:05:45.070Z"
   },
   {
    "duration": 951,
    "start_time": "2021-06-30T10:05:45.119Z"
   },
   {
    "duration": 109,
    "start_time": "2021-06-30T10:05:46.073Z"
   },
   {
    "duration": 27,
    "start_time": "2021-06-30T10:05:46.185Z"
   },
   {
    "duration": 27,
    "start_time": "2021-06-30T10:05:46.215Z"
   },
   {
    "duration": 18,
    "start_time": "2021-06-30T10:05:46.269Z"
   },
   {
    "duration": 108,
    "start_time": "2021-06-30T10:05:46.290Z"
   },
   {
    "duration": 1335,
    "start_time": "2021-06-30T10:05:46.402Z"
   },
   {
    "duration": 48,
    "start_time": "2021-06-30T10:05:47.739Z"
   },
   {
    "duration": 89,
    "start_time": "2021-06-30T10:05:47.789Z"
   },
   {
    "duration": 835,
    "start_time": "2021-06-30T10:05:47.880Z"
   },
   {
    "duration": 11,
    "start_time": "2021-06-30T10:05:48.720Z"
   },
   {
    "duration": 61,
    "start_time": "2021-06-30T10:05:48.734Z"
   },
   {
    "duration": 226,
    "start_time": "2021-06-30T10:05:48.797Z"
   },
   {
    "duration": 617,
    "start_time": "2021-06-30T10:05:49.025Z"
   },
   {
    "duration": 655,
    "start_time": "2021-06-30T10:05:49.644Z"
   },
   {
    "duration": 772,
    "start_time": "2021-06-30T10:05:50.302Z"
   },
   {
    "duration": 1287,
    "start_time": "2021-06-30T10:07:02.929Z"
   },
   {
    "duration": 320,
    "start_time": "2021-06-30T10:07:25.058Z"
   },
   {
    "duration": 7735,
    "start_time": "2021-06-30T10:14:52.197Z"
   },
   {
    "duration": 23,
    "start_time": "2021-06-30T10:15:17.432Z"
   },
   {
    "duration": 122,
    "start_time": "2021-06-30T10:15:37.175Z"
   },
   {
    "duration": 101,
    "start_time": "2021-06-30T10:16:24.739Z"
   },
   {
    "duration": 126,
    "start_time": "2021-06-30T10:16:28.338Z"
   },
   {
    "duration": 35,
    "start_time": "2021-06-30T10:17:03.802Z"
   },
   {
    "duration": 122,
    "start_time": "2021-06-30T10:17:09.450Z"
   },
   {
    "duration": 184,
    "start_time": "2021-06-30T10:18:31.192Z"
   },
   {
    "duration": 122,
    "start_time": "2021-06-30T10:18:32.953Z"
   },
   {
    "duration": 317,
    "start_time": "2021-06-30T10:18:59.384Z"
   },
   {
    "duration": 3,
    "start_time": "2021-06-30T10:19:02.040Z"
   },
   {
    "duration": 17,
    "start_time": "2021-06-30T10:19:02.046Z"
   },
   {
    "duration": 1153,
    "start_time": "2021-06-30T10:19:02.066Z"
   },
   {
    "duration": 164,
    "start_time": "2021-06-30T10:19:03.222Z"
   },
   {
    "duration": 3703,
    "start_time": "2021-06-30T10:19:03.389Z"
   },
   {
    "duration": 846,
    "start_time": "2021-06-30T10:19:07.095Z"
   },
   {
    "duration": 581,
    "start_time": "2021-06-30T10:19:07.944Z"
   },
   {
    "duration": 628,
    "start_time": "2021-06-30T10:19:08.529Z"
   },
   {
    "duration": 521,
    "start_time": "2021-06-30T10:19:09.160Z"
   },
   {
    "duration": 45,
    "start_time": "2021-06-30T10:19:09.683Z"
   },
   {
    "duration": 65,
    "start_time": "2021-06-30T10:19:09.730Z"
   },
   {
    "duration": 267,
    "start_time": "2021-06-30T10:19:09.798Z"
   },
   {
    "duration": 47,
    "start_time": "2021-06-30T10:19:10.067Z"
   },
   {
    "duration": 374,
    "start_time": "2021-06-30T10:19:10.117Z"
   },
   {
    "duration": 47,
    "start_time": "2021-06-30T10:19:10.493Z"
   },
   {
    "duration": 63,
    "start_time": "2021-06-30T10:19:10.543Z"
   },
   {
    "duration": 647,
    "start_time": "2021-06-30T10:19:10.609Z"
   },
   {
    "duration": 83,
    "start_time": "2021-06-30T10:19:11.259Z"
   },
   {
    "duration": 34,
    "start_time": "2021-06-30T10:19:11.344Z"
   },
   {
    "duration": 20,
    "start_time": "2021-06-30T10:19:11.380Z"
   },
   {
    "duration": 13,
    "start_time": "2021-06-30T10:19:11.403Z"
   },
   {
    "duration": 106,
    "start_time": "2021-06-30T10:19:11.419Z"
   },
   {
    "duration": 821,
    "start_time": "2021-06-30T10:19:11.530Z"
   },
   {
    "duration": 51,
    "start_time": "2021-06-30T10:19:12.354Z"
   },
   {
    "duration": 86,
    "start_time": "2021-06-30T10:19:12.407Z"
   },
   {
    "duration": 850,
    "start_time": "2021-06-30T10:19:12.496Z"
   },
   {
    "duration": 20,
    "start_time": "2021-06-30T10:19:13.349Z"
   },
   {
    "duration": 39,
    "start_time": "2021-06-30T10:19:13.371Z"
   },
   {
    "duration": 247,
    "start_time": "2021-06-30T10:19:13.412Z"
   },
   {
    "duration": 640,
    "start_time": "2021-06-30T10:19:13.662Z"
   },
   {
    "duration": 663,
    "start_time": "2021-06-30T10:19:14.304Z"
   },
   {
    "duration": 681,
    "start_time": "2021-06-30T10:19:14.969Z"
   },
   {
    "duration": 316,
    "start_time": "2021-06-30T10:19:15.652Z"
   },
   {
    "duration": 1817,
    "start_time": "2021-06-30T10:19:51.342Z"
   },
   {
    "duration": 4,
    "start_time": "2021-06-30T10:19:59.080Z"
   },
   {
    "duration": 7,
    "start_time": "2021-06-30T10:19:59.087Z"
   },
   {
    "duration": 1086,
    "start_time": "2021-06-30T10:19:59.097Z"
   },
   {
    "duration": 175,
    "start_time": "2021-06-30T10:20:00.186Z"
   },
   {
    "duration": 420,
    "start_time": "2021-06-30T10:20:02.587Z"
   },
   {
    "duration": 13,
    "start_time": "2021-06-30T10:23:42.522Z"
   },
   {
    "duration": 16,
    "start_time": "2021-06-30T10:25:52.769Z"
   },
   {
    "duration": 1053,
    "start_time": "2021-06-30T10:26:18.165Z"
   },
   {
    "duration": 343,
    "start_time": "2021-06-30T10:26:50.749Z"
   },
   {
    "duration": 220,
    "start_time": "2021-06-30T10:27:10.318Z"
   },
   {
    "duration": 361,
    "start_time": "2021-06-30T10:27:15.313Z"
   },
   {
    "duration": 76,
    "start_time": "2021-06-30T10:38:38.359Z"
   },
   {
    "duration": 76,
    "start_time": "2021-06-30T10:39:36.991Z"
   },
   {
    "duration": 83,
    "start_time": "2021-06-30T10:39:57.600Z"
   },
   {
    "duration": 78,
    "start_time": "2021-06-30T10:41:55.724Z"
   },
   {
    "duration": 64,
    "start_time": "2021-06-30T10:43:55.000Z"
   },
   {
    "duration": 194,
    "start_time": "2021-06-30T10:45:50.427Z"
   },
   {
    "duration": 626,
    "start_time": "2021-06-30T10:49:02.198Z"
   },
   {
    "duration": 4,
    "start_time": "2021-06-30T10:49:07.561Z"
   },
   {
    "duration": 9,
    "start_time": "2021-06-30T10:49:07.568Z"
   },
   {
    "duration": 1086,
    "start_time": "2021-06-30T10:49:07.581Z"
   },
   {
    "duration": 164,
    "start_time": "2021-06-30T10:49:08.669Z"
   },
   {
    "duration": 422,
    "start_time": "2021-06-30T10:49:08.835Z"
   },
   {
    "duration": 3774,
    "start_time": "2021-06-30T10:49:09.267Z"
   },
   {
    "duration": 26,
    "start_time": "2021-06-30T10:49:13.043Z"
   },
   {
    "duration": 1104,
    "start_time": "2021-06-30T10:49:13.075Z"
   },
   {
    "duration": 676,
    "start_time": "2021-06-30T10:49:14.182Z"
   },
   {
    "duration": 698,
    "start_time": "2021-06-30T10:49:14.869Z"
   },
   {
    "duration": 80,
    "start_time": "2021-06-30T10:49:15.571Z"
   },
   {
    "duration": 295,
    "start_time": "2021-06-30T10:49:15.653Z"
   },
   {
    "duration": 96,
    "start_time": "2021-06-30T10:49:15.951Z"
   },
   {
    "duration": 392,
    "start_time": "2021-06-30T10:49:16.049Z"
   },
   {
    "duration": 78,
    "start_time": "2021-06-30T10:49:16.443Z"
   },
   {
    "duration": 688,
    "start_time": "2021-06-30T10:49:16.523Z"
   },
   {
    "duration": 108,
    "start_time": "2021-06-30T10:49:17.214Z"
   },
   {
    "duration": 21,
    "start_time": "2021-06-30T10:49:17.324Z"
   },
   {
    "duration": 32,
    "start_time": "2021-06-30T10:49:17.348Z"
   },
   {
    "duration": 97,
    "start_time": "2021-06-30T10:49:17.383Z"
   },
   {
    "duration": 670,
    "start_time": "2021-06-30T10:49:19.488Z"
   },
   {
    "duration": 4167,
    "start_time": "2021-06-30T10:49:56.973Z"
   },
   {
    "duration": 693,
    "start_time": "2021-06-30T10:50:13.169Z"
   },
   {
    "duration": 3,
    "start_time": "2021-06-30T10:53:22.594Z"
   },
   {
    "duration": 24,
    "start_time": "2021-06-30T10:53:22.599Z"
   },
   {
    "duration": 1114,
    "start_time": "2021-06-30T10:53:22.626Z"
   },
   {
    "duration": 168,
    "start_time": "2021-06-30T10:53:23.743Z"
   },
   {
    "duration": 419,
    "start_time": "2021-06-30T10:53:23.914Z"
   },
   {
    "duration": 3787,
    "start_time": "2021-06-30T10:53:24.335Z"
   },
   {
    "duration": 11,
    "start_time": "2021-06-30T10:53:28.125Z"
   },
   {
    "duration": 929,
    "start_time": "2021-06-30T10:53:28.138Z"
   },
   {
    "duration": 638,
    "start_time": "2021-06-30T10:53:29.071Z"
   },
   {
    "duration": 698,
    "start_time": "2021-06-30T10:53:29.712Z"
   },
   {
    "duration": 83,
    "start_time": "2021-06-30T10:53:30.412Z"
   },
   {
    "duration": 268,
    "start_time": "2021-06-30T10:53:30.497Z"
   },
   {
    "duration": 78,
    "start_time": "2021-06-30T10:53:30.768Z"
   },
   {
    "duration": 380,
    "start_time": "2021-06-30T10:53:30.867Z"
   },
   {
    "duration": 68,
    "start_time": "2021-06-30T10:53:31.249Z"
   },
   {
    "duration": 736,
    "start_time": "2021-06-30T10:53:31.319Z"
   },
   {
    "duration": 96,
    "start_time": "2021-06-30T10:53:32.057Z"
   },
   {
    "duration": 31,
    "start_time": "2021-06-30T10:53:32.155Z"
   },
   {
    "duration": 16,
    "start_time": "2021-06-30T10:53:32.188Z"
   },
   {
    "duration": 105,
    "start_time": "2021-06-30T10:53:32.206Z"
   },
   {
    "duration": 656,
    "start_time": "2021-06-30T10:53:32.314Z"
   },
   {
    "duration": 948,
    "start_time": "2021-06-30T10:53:32.973Z"
   },
   {
    "duration": 56,
    "start_time": "2021-06-30T10:53:33.923Z"
   },
   {
    "duration": 73,
    "start_time": "2021-06-30T10:53:36.176Z"
   },
   {
    "duration": 847,
    "start_time": "2021-06-30T10:53:37.488Z"
   },
   {
    "duration": 39,
    "start_time": "2021-06-30T10:54:10.684Z"
   },
   {
    "duration": 70,
    "start_time": "2021-06-30T10:54:55.371Z"
   },
   {
    "duration": 60,
    "start_time": "2021-06-30T10:58:22.090Z"
   },
   {
    "duration": 64,
    "start_time": "2021-06-30T11:00:15.138Z"
   },
   {
    "duration": 127,
    "start_time": "2021-06-30T11:01:03.106Z"
   },
   {
    "duration": 122,
    "start_time": "2021-06-30T11:01:05.504Z"
   },
   {
    "duration": 4,
    "start_time": "2021-06-30T11:01:11.341Z"
   },
   {
    "duration": 8,
    "start_time": "2021-06-30T11:01:11.348Z"
   },
   {
    "duration": 1098,
    "start_time": "2021-06-30T11:01:11.360Z"
   },
   {
    "duration": 160,
    "start_time": "2021-06-30T11:01:12.467Z"
   },
   {
    "duration": 426,
    "start_time": "2021-06-30T11:01:12.630Z"
   },
   {
    "duration": 3762,
    "start_time": "2021-06-30T11:01:13.067Z"
   },
   {
    "duration": 12,
    "start_time": "2021-06-30T11:01:16.832Z"
   },
   {
    "duration": 921,
    "start_time": "2021-06-30T11:01:16.847Z"
   },
   {
    "duration": 631,
    "start_time": "2021-06-30T11:01:17.771Z"
   },
   {
    "duration": 651,
    "start_time": "2021-06-30T11:01:18.405Z"
   },
   {
    "duration": 80,
    "start_time": "2021-06-30T11:01:19.059Z"
   },
   {
    "duration": 279,
    "start_time": "2021-06-30T11:01:19.142Z"
   },
   {
    "duration": 88,
    "start_time": "2021-06-30T11:01:19.423Z"
   },
   {
    "duration": 375,
    "start_time": "2021-06-30T11:01:19.513Z"
   },
   {
    "duration": 76,
    "start_time": "2021-06-30T11:01:19.891Z"
   },
   {
    "duration": 658,
    "start_time": "2021-06-30T11:01:19.970Z"
   },
   {
    "duration": 110,
    "start_time": "2021-06-30T11:01:20.631Z"
   },
   {
    "duration": 35,
    "start_time": "2021-06-30T11:01:20.744Z"
   },
   {
    "duration": 16,
    "start_time": "2021-06-30T11:01:20.782Z"
   },
   {
    "duration": 105,
    "start_time": "2021-06-30T11:01:20.801Z"
   },
   {
    "duration": 667,
    "start_time": "2021-06-30T11:01:20.909Z"
   },
   {
    "duration": 824,
    "start_time": "2021-06-30T11:01:21.579Z"
   },
   {
    "duration": 41,
    "start_time": "2021-06-30T11:01:22.408Z"
   },
   {
    "duration": 82,
    "start_time": "2021-06-30T11:01:22.468Z"
   },
   {
    "duration": 969,
    "start_time": "2021-06-30T11:01:22.553Z"
   },
   {
    "duration": 79,
    "start_time": "2021-06-30T11:01:23.524Z"
   },
   {
    "duration": 240,
    "start_time": "2021-06-30T11:01:23.606Z"
   },
   {
    "duration": 632,
    "start_time": "2021-06-30T11:01:23.849Z"
   },
   {
    "duration": 657,
    "start_time": "2021-06-30T11:01:24.483Z"
   },
   {
    "duration": 679,
    "start_time": "2021-06-30T11:01:25.143Z"
   },
   {
    "duration": 67,
    "start_time": "2021-06-30T11:01:25.824Z"
   },
   {
    "duration": 122,
    "start_time": "2021-06-30T11:01:25.893Z"
   },
   {
    "duration": 70,
    "start_time": "2021-06-30T11:01:26.018Z"
   },
   {
    "duration": 129,
    "start_time": "2021-06-30T11:01:26.090Z"
   },
   {
    "duration": 116,
    "start_time": "2021-06-30T11:01:26.221Z"
   },
   {
    "duration": 120,
    "start_time": "2021-06-30T11:01:26.339Z"
   },
   {
    "duration": 3,
    "start_time": "2021-06-30T11:02:18.325Z"
   },
   {
    "duration": 19,
    "start_time": "2021-06-30T11:02:18.331Z"
   },
   {
    "duration": 1089,
    "start_time": "2021-06-30T11:02:18.353Z"
   },
   {
    "duration": 171,
    "start_time": "2021-06-30T11:02:19.445Z"
   },
   {
    "duration": 429,
    "start_time": "2021-06-30T11:02:19.618Z"
   },
   {
    "duration": 3704,
    "start_time": "2021-06-30T11:02:20.049Z"
   },
   {
    "duration": 19,
    "start_time": "2021-06-30T11:02:23.756Z"
   },
   {
    "duration": 913,
    "start_time": "2021-06-30T11:02:23.779Z"
   },
   {
    "duration": 645,
    "start_time": "2021-06-30T11:02:24.695Z"
   },
   {
    "duration": 649,
    "start_time": "2021-06-30T11:02:25.342Z"
   },
   {
    "duration": 85,
    "start_time": "2021-06-30T11:02:25.994Z"
   },
   {
    "duration": 267,
    "start_time": "2021-06-30T11:02:26.082Z"
   },
   {
    "duration": 87,
    "start_time": "2021-06-30T11:02:26.352Z"
   },
   {
    "duration": 380,
    "start_time": "2021-06-30T11:02:26.442Z"
   },
   {
    "duration": 69,
    "start_time": "2021-06-30T11:02:26.824Z"
   },
   {
    "duration": 633,
    "start_time": "2021-06-30T11:02:26.896Z"
   },
   {
    "duration": 105,
    "start_time": "2021-06-30T11:02:27.532Z"
   },
   {
    "duration": 30,
    "start_time": "2021-06-30T11:02:27.639Z"
   },
   {
    "duration": 15,
    "start_time": "2021-06-30T11:02:27.671Z"
   },
   {
    "duration": 99,
    "start_time": "2021-06-30T11:02:27.688Z"
   },
   {
    "duration": 647,
    "start_time": "2021-06-30T11:02:27.789Z"
   },
   {
    "duration": 942,
    "start_time": "2021-06-30T11:02:28.438Z"
   },
   {
    "duration": 40,
    "start_time": "2021-06-30T11:02:29.384Z"
   },
   {
    "duration": 93,
    "start_time": "2021-06-30T11:02:29.427Z"
   },
   {
    "duration": 853,
    "start_time": "2021-06-30T11:02:29.523Z"
   },
   {
    "duration": 68,
    "start_time": "2021-06-30T11:02:30.378Z"
   },
   {
    "duration": 228,
    "start_time": "2021-06-30T11:02:30.467Z"
   },
   {
    "duration": 634,
    "start_time": "2021-06-30T11:02:30.697Z"
   },
   {
    "duration": 679,
    "start_time": "2021-06-30T11:02:31.334Z"
   },
   {
    "duration": 669,
    "start_time": "2021-06-30T11:02:32.016Z"
   },
   {
    "duration": 52,
    "start_time": "2021-06-30T11:02:32.688Z"
   },
   {
    "duration": 143,
    "start_time": "2021-06-30T11:02:32.743Z"
   },
   {
    "duration": 58,
    "start_time": "2021-06-30T11:02:32.888Z"
   },
   {
    "duration": 135,
    "start_time": "2021-06-30T11:02:32.949Z"
   },
   {
    "duration": 117,
    "start_time": "2021-06-30T11:02:33.086Z"
   },
   {
    "duration": 102,
    "start_time": "2021-06-30T11:27:40.334Z"
   },
   {
    "duration": 24,
    "start_time": "2021-06-30T11:28:14.154Z"
   },
   {
    "duration": 118,
    "start_time": "2021-06-30T11:28:39.214Z"
   },
   {
    "duration": 66,
    "start_time": "2021-06-30T11:29:30.801Z"
   },
   {
    "duration": 538,
    "start_time": "2021-06-30T11:32:03.388Z"
   },
   {
    "duration": 433,
    "start_time": "2021-06-30T11:32:13.750Z"
   },
   {
    "duration": 278,
    "start_time": "2021-06-30T11:32:31.116Z"
   },
   {
    "duration": 6,
    "start_time": "2021-06-30T11:32:45.975Z"
   },
   {
    "duration": 270,
    "start_time": "2021-06-30T11:32:49.897Z"
   },
   {
    "duration": 6,
    "start_time": "2021-06-30T11:35:36.798Z"
   },
   {
    "duration": 309,
    "start_time": "2021-06-30T11:36:52.087Z"
   },
   {
    "duration": 91,
    "start_time": "2021-06-30T11:37:26.177Z"
   },
   {
    "duration": 4,
    "start_time": "2021-06-30T11:37:31.348Z"
   },
   {
    "duration": 32,
    "start_time": "2021-06-30T11:39:50.157Z"
   },
   {
    "duration": 124,
    "start_time": "2021-06-30T11:44:33.982Z"
   },
   {
    "duration": 5,
    "start_time": "2021-06-30T11:44:37.495Z"
   },
   {
    "duration": 106,
    "start_time": "2021-06-30T11:47:03.365Z"
   },
   {
    "duration": 9,
    "start_time": "2021-06-30T11:47:23.022Z"
   },
   {
    "duration": 507,
    "start_time": "2021-06-30T11:47:51.871Z"
   },
   {
    "duration": 547,
    "start_time": "2021-06-30T11:48:00.918Z"
   },
   {
    "duration": 10,
    "start_time": "2021-06-30T11:48:16.493Z"
   },
   {
    "duration": 2381,
    "start_time": "2021-06-30T11:48:17.788Z"
   },
   {
    "duration": 137,
    "start_time": "2021-06-30T12:52:22.283Z"
   },
   {
    "duration": 6,
    "start_time": "2021-06-30T12:57:19.491Z"
   },
   {
    "duration": 714,
    "start_time": "2021-06-30T12:58:56.681Z"
   },
   {
    "duration": 789,
    "start_time": "2021-06-30T12:59:29.446Z"
   },
   {
    "duration": 4,
    "start_time": "2021-06-30T12:59:46.638Z"
   },
   {
    "duration": 7,
    "start_time": "2021-06-30T12:59:46.645Z"
   },
   {
    "duration": 1130,
    "start_time": "2021-06-30T12:59:46.656Z"
   },
   {
    "duration": 161,
    "start_time": "2021-06-30T12:59:47.789Z"
   },
   {
    "duration": 415,
    "start_time": "2021-06-30T12:59:47.952Z"
   },
   {
    "duration": 3642,
    "start_time": "2021-06-30T12:59:48.369Z"
   },
   {
    "duration": 11,
    "start_time": "2021-06-30T12:59:52.013Z"
   },
   {
    "duration": 918,
    "start_time": "2021-06-30T12:59:52.028Z"
   },
   {
    "duration": 636,
    "start_time": "2021-06-30T12:59:52.950Z"
   },
   {
    "duration": 698,
    "start_time": "2021-06-30T12:59:53.588Z"
   },
   {
    "duration": 87,
    "start_time": "2021-06-30T12:59:54.288Z"
   },
   {
    "duration": 284,
    "start_time": "2021-06-30T12:59:54.379Z"
   },
   {
    "duration": 99,
    "start_time": "2021-06-30T12:59:54.668Z"
   },
   {
    "duration": 397,
    "start_time": "2021-06-30T12:59:54.771Z"
   },
   {
    "duration": 69,
    "start_time": "2021-06-30T12:59:55.172Z"
   },
   {
    "duration": 695,
    "start_time": "2021-06-30T12:59:55.244Z"
   },
   {
    "duration": 111,
    "start_time": "2021-06-30T12:59:55.941Z"
   },
   {
    "duration": 33,
    "start_time": "2021-06-30T12:59:56.054Z"
   },
   {
    "duration": 15,
    "start_time": "2021-06-30T12:59:56.090Z"
   },
   {
    "duration": 102,
    "start_time": "2021-06-30T12:59:56.107Z"
   },
   {
    "duration": 760,
    "start_time": "2021-06-30T12:59:56.211Z"
   },
   {
    "duration": 807,
    "start_time": "2021-06-30T12:59:56.974Z"
   },
   {
    "duration": 43,
    "start_time": "2021-06-30T12:59:57.785Z"
   },
   {
    "duration": 101,
    "start_time": "2021-06-30T12:59:57.831Z"
   },
   {
    "duration": 833,
    "start_time": "2021-06-30T12:59:57.934Z"
   },
   {
    "duration": 70,
    "start_time": "2021-06-30T12:59:58.769Z"
   },
   {
    "duration": 261,
    "start_time": "2021-06-30T12:59:58.841Z"
   },
   {
    "duration": 623,
    "start_time": "2021-06-30T12:59:59.104Z"
   },
   {
    "duration": 661,
    "start_time": "2021-06-30T12:59:59.730Z"
   },
   {
    "duration": 669,
    "start_time": "2021-06-30T13:00:00.393Z"
   },
   {
    "duration": 53,
    "start_time": "2021-06-30T13:00:01.064Z"
   },
   {
    "duration": 140,
    "start_time": "2021-06-30T13:00:01.119Z"
   },
   {
    "duration": 59,
    "start_time": "2021-06-30T13:00:01.266Z"
   },
   {
    "duration": 147,
    "start_time": "2021-06-30T13:00:01.327Z"
   },
   {
    "duration": 118,
    "start_time": "2021-06-30T13:00:01.477Z"
   },
   {
    "duration": 1061,
    "start_time": "2021-06-30T13:00:01.598Z"
   },
   {
    "duration": 277,
    "start_time": "2021-06-30T13:00:02.662Z"
   },
   {
    "duration": 5,
    "start_time": "2021-06-30T13:00:02.942Z"
   },
   {
    "duration": 23,
    "start_time": "2021-06-30T13:00:02.949Z"
   },
   {
    "duration": 1033,
    "start_time": "2021-06-30T13:00:02.974Z"
   },
   {
    "duration": 329,
    "start_time": "2021-06-30T13:01:10.752Z"
   },
   {
    "duration": 13,
    "start_time": "2021-06-30T13:01:58.863Z"
   },
   {
    "duration": 958,
    "start_time": "2021-06-30T13:02:00.048Z"
   },
   {
    "duration": 317,
    "start_time": "2021-06-30T13:02:30.688Z"
   },
   {
    "duration": 1411,
    "start_time": "2021-06-30T13:02:46.179Z"
   },
   {
    "duration": 3,
    "start_time": "2021-06-30T13:02:59.885Z"
   },
   {
    "duration": 16,
    "start_time": "2021-06-30T13:02:59.891Z"
   },
   {
    "duration": 1106,
    "start_time": "2021-06-30T13:02:59.910Z"
   },
   {
    "duration": 167,
    "start_time": "2021-06-30T13:03:01.019Z"
   },
   {
    "duration": 421,
    "start_time": "2021-06-30T13:03:01.189Z"
   },
   {
    "duration": 3814,
    "start_time": "2021-06-30T13:03:01.612Z"
   },
   {
    "duration": 12,
    "start_time": "2021-06-30T13:03:05.428Z"
   },
   {
    "duration": 958,
    "start_time": "2021-06-30T13:03:05.444Z"
   },
   {
    "duration": 639,
    "start_time": "2021-06-30T13:03:06.406Z"
   },
   {
    "duration": 670,
    "start_time": "2021-06-30T13:03:07.048Z"
   },
   {
    "duration": 84,
    "start_time": "2021-06-30T13:03:07.720Z"
   },
   {
    "duration": 268,
    "start_time": "2021-06-30T13:03:07.807Z"
   },
   {
    "duration": 90,
    "start_time": "2021-06-30T13:03:08.077Z"
   },
   {
    "duration": 357,
    "start_time": "2021-06-30T13:03:08.170Z"
   },
   {
    "duration": 76,
    "start_time": "2021-06-30T13:03:08.530Z"
   },
   {
    "duration": 661,
    "start_time": "2021-06-30T13:03:08.608Z"
   },
   {
    "duration": 108,
    "start_time": "2021-06-30T13:03:09.272Z"
   },
   {
    "duration": 21,
    "start_time": "2021-06-30T13:03:09.383Z"
   },
   {
    "duration": 14,
    "start_time": "2021-06-30T13:03:09.406Z"
   },
   {
    "duration": 113,
    "start_time": "2021-06-30T13:03:09.422Z"
   },
   {
    "duration": 858,
    "start_time": "2021-06-30T13:03:09.537Z"
   },
   {
    "duration": 810,
    "start_time": "2021-06-30T13:03:10.397Z"
   },
   {
    "duration": 56,
    "start_time": "2021-06-30T13:03:11.212Z"
   },
   {
    "duration": 73,
    "start_time": "2021-06-30T13:03:11.271Z"
   },
   {
    "duration": 843,
    "start_time": "2021-06-30T13:03:11.347Z"
   },
   {
    "duration": 82,
    "start_time": "2021-06-30T13:03:12.192Z"
   },
   {
    "duration": 234,
    "start_time": "2021-06-30T13:03:12.276Z"
   },
   {
    "duration": 618,
    "start_time": "2021-06-30T13:03:12.512Z"
   },
   {
    "duration": 662,
    "start_time": "2021-06-30T13:03:13.132Z"
   },
   {
    "duration": 670,
    "start_time": "2021-06-30T13:03:13.797Z"
   },
   {
    "duration": 52,
    "start_time": "2021-06-30T13:03:14.469Z"
   },
   {
    "duration": 136,
    "start_time": "2021-06-30T13:03:14.523Z"
   },
   {
    "duration": 102,
    "start_time": "2021-06-30T13:03:14.666Z"
   },
   {
    "duration": 132,
    "start_time": "2021-06-30T13:03:14.771Z"
   },
   {
    "duration": 121,
    "start_time": "2021-06-30T13:03:14.905Z"
   },
   {
    "duration": 966,
    "start_time": "2021-06-30T13:03:15.029Z"
   },
   {
    "duration": 191,
    "start_time": "2021-06-30T13:03:15.998Z"
   },
   {
    "duration": 332,
    "start_time": "2021-06-30T13:03:16.191Z"
   },
   {
    "duration": 79,
    "start_time": "2021-06-30T13:03:16.447Z"
   },
   {
    "duration": 59,
    "start_time": "2021-06-30T13:03:16.469Z"
   },
   {
    "duration": 59,
    "start_time": "2021-06-30T13:03:16.471Z"
   },
   {
    "duration": 5,
    "start_time": "2021-06-30T13:03:39.791Z"
   },
   {
    "duration": 6,
    "start_time": "2021-06-30T13:04:00.028Z"
   },
   {
    "duration": 4,
    "start_time": "2021-06-30T13:04:49.573Z"
   },
   {
    "duration": 12,
    "start_time": "2021-06-30T13:04:49.579Z"
   },
   {
    "duration": 1068,
    "start_time": "2021-06-30T13:04:49.593Z"
   },
   {
    "duration": 164,
    "start_time": "2021-06-30T13:04:50.668Z"
   },
   {
    "duration": 420,
    "start_time": "2021-06-30T13:04:50.835Z"
   },
   {
    "duration": 3,
    "start_time": "2021-06-30T13:05:06.149Z"
   },
   {
    "duration": 16,
    "start_time": "2021-06-30T13:05:06.154Z"
   },
   {
    "duration": 1037,
    "start_time": "2021-06-30T13:05:06.172Z"
   },
   {
    "duration": 172,
    "start_time": "2021-06-30T13:05:07.211Z"
   },
   {
    "duration": 420,
    "start_time": "2021-06-30T13:05:07.385Z"
   },
   {
    "duration": 3664,
    "start_time": "2021-06-30T13:05:07.808Z"
   },
   {
    "duration": 11,
    "start_time": "2021-06-30T13:05:11.474Z"
   },
   {
    "duration": 897,
    "start_time": "2021-06-30T13:05:11.488Z"
   },
   {
    "duration": 651,
    "start_time": "2021-06-30T13:05:12.388Z"
   },
   {
    "duration": 640,
    "start_time": "2021-06-30T13:05:13.042Z"
   },
   {
    "duration": 89,
    "start_time": "2021-06-30T13:05:13.684Z"
   },
   {
    "duration": 264,
    "start_time": "2021-06-30T13:05:13.775Z"
   },
   {
    "duration": 83,
    "start_time": "2021-06-30T13:05:14.041Z"
   },
   {
    "duration": 372,
    "start_time": "2021-06-30T13:05:14.126Z"
   },
   {
    "duration": 78,
    "start_time": "2021-06-30T13:05:14.501Z"
   },
   {
    "duration": 658,
    "start_time": "2021-06-30T13:05:14.581Z"
   },
   {
    "duration": 99,
    "start_time": "2021-06-30T13:05:15.241Z"
   },
   {
    "duration": 28,
    "start_time": "2021-06-30T13:05:15.342Z"
   },
   {
    "duration": 14,
    "start_time": "2021-06-30T13:05:15.373Z"
   },
   {
    "duration": 103,
    "start_time": "2021-06-30T13:05:15.390Z"
   },
   {
    "duration": 781,
    "start_time": "2021-06-30T13:05:15.496Z"
   },
   {
    "duration": 838,
    "start_time": "2021-06-30T13:05:16.280Z"
   },
   {
    "duration": 54,
    "start_time": "2021-06-30T13:05:17.120Z"
   },
   {
    "duration": 75,
    "start_time": "2021-06-30T13:05:17.177Z"
   },
   {
    "duration": 861,
    "start_time": "2021-06-30T13:05:17.254Z"
   },
   {
    "duration": 73,
    "start_time": "2021-06-30T13:05:18.117Z"
   },
   {
    "duration": 237,
    "start_time": "2021-06-30T13:05:18.192Z"
   },
   {
    "duration": 636,
    "start_time": "2021-06-30T13:05:18.431Z"
   },
   {
    "duration": 675,
    "start_time": "2021-06-30T13:05:19.069Z"
   },
   {
    "duration": 670,
    "start_time": "2021-06-30T13:05:19.746Z"
   },
   {
    "duration": 63,
    "start_time": "2021-06-30T13:05:20.418Z"
   },
   {
    "duration": 126,
    "start_time": "2021-06-30T13:05:20.483Z"
   },
   {
    "duration": 67,
    "start_time": "2021-06-30T13:05:20.612Z"
   },
   {
    "duration": 137,
    "start_time": "2021-06-30T13:05:20.681Z"
   },
   {
    "duration": 114,
    "start_time": "2021-06-30T13:05:20.820Z"
   },
   {
    "duration": 966,
    "start_time": "2021-06-30T13:05:20.937Z"
   },
   {
    "duration": 212,
    "start_time": "2021-06-30T13:05:21.906Z"
   },
   {
    "duration": 5,
    "start_time": "2021-06-30T13:05:22.121Z"
   },
   {
    "duration": 52,
    "start_time": "2021-06-30T13:05:22.129Z"
   },
   {
    "duration": 4,
    "start_time": "2021-06-30T13:05:22.183Z"
   },
   {
    "duration": 11,
    "start_time": "2021-06-30T13:05:22.190Z"
   },
   {
    "duration": 1010,
    "start_time": "2021-06-30T13:05:22.204Z"
   },
   {
    "duration": 9,
    "start_time": "2021-06-30T13:05:43.814Z"
   },
   {
    "duration": 984,
    "start_time": "2021-06-30T13:05:45.253Z"
   },
   {
    "duration": 12,
    "start_time": "2021-06-30T13:07:03.468Z"
   },
   {
    "duration": 976,
    "start_time": "2021-06-30T13:07:04.866Z"
   },
   {
    "duration": 12,
    "start_time": "2021-06-30T13:07:26.235Z"
   },
   {
    "duration": 437,
    "start_time": "2021-06-30T13:07:27.433Z"
   },
   {
    "duration": 146720,
    "start_time": "2021-06-30T13:07:51.951Z"
   },
   {
    "duration": 177033,
    "start_time": "2021-06-30T13:13:03.924Z"
   },
   {
    "duration": 6337,
    "start_time": "2021-06-30T13:16:15.970Z"
   },
   {
    "duration": 13,
    "start_time": "2021-06-30T13:16:23.882Z"
   },
   {
    "duration": 2481,
    "start_time": "2021-06-30T13:16:27.281Z"
   },
   {
    "duration": 12,
    "start_time": "2021-06-30T13:16:39.468Z"
   },
   {
    "duration": 282756,
    "start_time": "2021-06-30T13:16:41.477Z"
   },
   {
    "duration": 12,
    "start_time": "2021-06-30T13:21:36.893Z"
   },
   {
    "duration": 394877,
    "start_time": "2021-06-30T13:21:40.573Z"
   },
   {
    "duration": 268672,
    "start_time": "2021-06-30T13:28:18.414Z"
   },
   {
    "duration": 12,
    "start_time": "2021-06-30T13:40:54.581Z"
   },
   {
    "duration": 56099,
    "start_time": "2021-06-30T13:40:58.291Z"
   },
   {
    "duration": 12,
    "start_time": "2021-06-30T13:41:58.445Z"
   },
   {
    "duration": 21789,
    "start_time": "2021-06-30T13:42:05.047Z"
   },
   {
    "duration": 13,
    "start_time": "2021-06-30T13:45:26.750Z"
   },
   {
    "duration": 532,
    "start_time": "2021-06-30T13:45:30.220Z"
   },
   {
    "duration": 12,
    "start_time": "2021-06-30T13:45:42.383Z"
   },
   {
    "duration": 40200,
    "start_time": "2021-06-30T13:45:45.697Z"
   },
   {
    "duration": 13,
    "start_time": "2021-06-30T13:47:42.544Z"
   },
   {
    "duration": 12,
    "start_time": "2021-06-30T13:48:01.798Z"
   },
   {
    "duration": 336925,
    "start_time": "2021-06-30T13:48:04.125Z"
   },
   {
    "duration": 12,
    "start_time": "2021-06-30T13:53:41.053Z"
   },
   {
    "duration": 13,
    "start_time": "2021-06-30T13:53:44.656Z"
   },
   {
    "duration": 3,
    "start_time": "2021-06-30T13:53:48.852Z"
   },
   {
    "duration": 13,
    "start_time": "2021-06-30T13:53:48.858Z"
   },
   {
    "duration": 1130,
    "start_time": "2021-06-30T13:53:48.874Z"
   },
   {
    "duration": 180,
    "start_time": "2021-06-30T13:53:50.007Z"
   },
   {
    "duration": 436,
    "start_time": "2021-06-30T13:53:50.190Z"
   },
   {
    "duration": 3889,
    "start_time": "2021-06-30T13:53:50.629Z"
   },
   {
    "duration": 12,
    "start_time": "2021-06-30T13:53:54.520Z"
   },
   {
    "duration": 959,
    "start_time": "2021-06-30T13:53:54.536Z"
   },
   {
    "duration": 660,
    "start_time": "2021-06-30T13:53:55.499Z"
   },
   {
    "duration": 662,
    "start_time": "2021-06-30T13:53:56.161Z"
   },
   {
    "duration": 91,
    "start_time": "2021-06-30T13:53:56.826Z"
   },
   {
    "duration": 290,
    "start_time": "2021-06-30T13:53:56.920Z"
   },
   {
    "duration": 95,
    "start_time": "2021-06-30T13:53:57.212Z"
   },
   {
    "duration": 494,
    "start_time": "2021-06-30T13:53:57.309Z"
   },
   {
    "duration": 81,
    "start_time": "2021-06-30T13:53:57.806Z"
   },
   {
    "duration": 904,
    "start_time": "2021-06-30T13:53:57.890Z"
   },
   {
    "duration": 117,
    "start_time": "2021-06-30T13:53:58.796Z"
   },
   {
    "duration": 27,
    "start_time": "2021-06-30T13:53:58.917Z"
   },
   {
    "duration": 39,
    "start_time": "2021-06-30T13:53:58.946Z"
   },
   {
    "duration": 86,
    "start_time": "2021-06-30T13:53:58.988Z"
   },
   {
    "duration": 668,
    "start_time": "2021-06-30T13:53:59.077Z"
   },
   {
    "duration": 1047,
    "start_time": "2021-06-30T13:53:59.747Z"
   },
   {
    "duration": 39,
    "start_time": "2021-06-30T13:54:00.800Z"
   },
   {
    "duration": 104,
    "start_time": "2021-06-30T13:54:00.841Z"
   },
   {
    "duration": 1204,
    "start_time": "2021-06-30T13:54:00.948Z"
   },
   {
    "duration": 127,
    "start_time": "2021-06-30T13:54:02.155Z"
   },
   {
    "duration": 377,
    "start_time": "2021-06-30T13:54:02.285Z"
   },
   {
    "duration": 643,
    "start_time": "2021-06-30T13:54:02.668Z"
   },
   {
    "duration": 680,
    "start_time": "2021-06-30T13:54:03.313Z"
   },
   {
    "duration": 689,
    "start_time": "2021-06-30T13:54:03.995Z"
   },
   {
    "duration": 54,
    "start_time": "2021-06-30T13:54:04.687Z"
   },
   {
    "duration": 148,
    "start_time": "2021-06-30T13:54:04.744Z"
   },
   {
    "duration": 78,
    "start_time": "2021-06-30T13:54:04.894Z"
   },
   {
    "duration": 151,
    "start_time": "2021-06-30T13:54:04.975Z"
   },
   {
    "duration": 121,
    "start_time": "2021-06-30T13:54:05.129Z"
   },
   {
    "duration": 1015,
    "start_time": "2021-06-30T13:54:05.253Z"
   },
   {
    "duration": 229,
    "start_time": "2021-06-30T13:54:06.273Z"
   },
   {
    "duration": 4,
    "start_time": "2021-06-30T13:54:06.504Z"
   },
   {
    "duration": 13,
    "start_time": "2021-06-30T13:54:06.510Z"
   },
   {
    "duration": 81406,
    "start_time": "2021-06-30T13:54:06.525Z"
   },
   {
    "duration": 271214,
    "start_time": "2021-06-30T13:55:27.934Z"
   },
   {
    "duration": 8331,
    "start_time": "2021-06-30T13:59:59.150Z"
   },
   {
    "duration": 4,
    "start_time": "2021-06-30T14:09:10.142Z"
   },
   {
    "duration": 1751,
    "start_time": "2021-06-30T14:09:10.148Z"
   },
   {
    "duration": 1173,
    "start_time": "2021-06-30T14:09:11.901Z"
   },
   {
    "duration": 178,
    "start_time": "2021-06-30T14:09:13.077Z"
   },
   {
    "duration": 429,
    "start_time": "2021-06-30T14:09:13.258Z"
   },
   {
    "duration": 3703,
    "start_time": "2021-06-30T14:09:13.689Z"
   },
   {
    "duration": 12,
    "start_time": "2021-06-30T14:09:17.394Z"
   },
   {
    "duration": 1014,
    "start_time": "2021-06-30T14:09:17.411Z"
   },
   {
    "duration": 677,
    "start_time": "2021-06-30T14:09:18.428Z"
   },
   {
    "duration": 709,
    "start_time": "2021-06-30T14:09:19.107Z"
   },
   {
    "duration": 86,
    "start_time": "2021-06-30T14:09:19.818Z"
   },
   {
    "duration": 270,
    "start_time": "2021-06-30T14:09:19.906Z"
   },
   {
    "duration": 96,
    "start_time": "2021-06-30T14:09:20.178Z"
   },
   {
    "duration": 363,
    "start_time": "2021-06-30T14:09:20.276Z"
   },
   {
    "duration": 71,
    "start_time": "2021-06-30T14:09:20.642Z"
   },
   {
    "duration": 646,
    "start_time": "2021-06-30T14:09:20.715Z"
   },
   {
    "duration": 104,
    "start_time": "2021-06-30T14:09:21.367Z"
   },
   {
    "duration": 22,
    "start_time": "2021-06-30T14:09:21.473Z"
   },
   {
    "duration": 16,
    "start_time": "2021-06-30T14:09:21.498Z"
   },
   {
    "duration": 121,
    "start_time": "2021-06-30T14:09:21.517Z"
   },
   {
    "duration": 645,
    "start_time": "2021-06-30T14:09:21.641Z"
   },
   {
    "duration": 1000,
    "start_time": "2021-06-30T14:09:22.289Z"
   },
   {
    "duration": 48,
    "start_time": "2021-06-30T14:09:23.294Z"
   },
   {
    "duration": 99,
    "start_time": "2021-06-30T14:09:23.345Z"
   },
   {
    "duration": 840,
    "start_time": "2021-06-30T14:09:23.446Z"
   },
   {
    "duration": 87,
    "start_time": "2021-06-30T14:09:24.289Z"
   },
   {
    "duration": 235,
    "start_time": "2021-06-30T14:09:24.378Z"
   },
   {
    "duration": 640,
    "start_time": "2021-06-30T14:09:24.615Z"
   },
   {
    "duration": 686,
    "start_time": "2021-06-30T14:09:25.258Z"
   },
   {
    "duration": 681,
    "start_time": "2021-06-30T14:09:25.946Z"
   },
   {
    "duration": 60,
    "start_time": "2021-06-30T14:09:26.629Z"
   },
   {
    "duration": 128,
    "start_time": "2021-06-30T14:09:26.691Z"
   },
   {
    "duration": 70,
    "start_time": "2021-06-30T14:09:26.821Z"
   },
   {
    "duration": 136,
    "start_time": "2021-06-30T14:09:26.894Z"
   },
   {
    "duration": 139,
    "start_time": "2021-06-30T14:09:27.032Z"
   },
   {
    "duration": 989,
    "start_time": "2021-06-30T14:09:27.173Z"
   },
   {
    "duration": 226,
    "start_time": "2021-06-30T14:09:28.167Z"
   },
   {
    "duration": 4,
    "start_time": "2021-06-30T14:09:28.396Z"
   },
   {
    "duration": 17,
    "start_time": "2021-06-30T14:09:28.403Z"
   },
   {
    "duration": 97062,
    "start_time": "2021-06-30T14:09:28.422Z"
   },
   {
    "duration": 306259,
    "start_time": "2021-06-30T14:11:05.486Z"
   },
   {
    "duration": 5024,
    "start_time": "2021-06-30T14:16:11.747Z"
   },
   {
    "duration": 144505,
    "start_time": "2021-06-30T14:16:16.774Z"
   },
   {
    "duration": 259508,
    "start_time": "2021-06-30T14:18:41.281Z"
   },
   {
    "duration": 10,
    "start_time": "2021-06-30T14:42:04.857Z"
   },
   {
    "duration": 12,
    "start_time": "2021-06-30T14:42:34.554Z"
   },
   {
    "duration": 10,
    "start_time": "2021-06-30T14:42:44.511Z"
   },
   {
    "duration": 13,
    "start_time": "2021-06-30T14:42:47.790Z"
   },
   {
    "duration": 11,
    "start_time": "2021-06-30T14:42:52.323Z"
   },
   {
    "duration": 1678,
    "start_time": "2021-06-30T14:54:22.835Z"
   },
   {
    "duration": 1194,
    "start_time": "2021-06-30T14:54:24.516Z"
   },
   {
    "duration": 187,
    "start_time": "2021-06-30T14:54:25.713Z"
   },
   {
    "duration": 457,
    "start_time": "2021-06-30T14:54:25.903Z"
   },
   {
    "duration": 4004,
    "start_time": "2021-06-30T14:54:26.367Z"
   },
   {
    "duration": 17,
    "start_time": "2021-06-30T14:54:30.374Z"
   },
   {
    "duration": 1081,
    "start_time": "2021-06-30T14:54:30.393Z"
   },
   {
    "duration": 754,
    "start_time": "2021-06-30T14:54:31.480Z"
   },
   {
    "duration": 753,
    "start_time": "2021-06-30T14:54:32.237Z"
   },
   {
    "duration": 91,
    "start_time": "2021-06-30T14:54:32.993Z"
   },
   {
    "duration": 276,
    "start_time": "2021-06-30T14:54:33.087Z"
   },
   {
    "duration": 101,
    "start_time": "2021-06-30T14:54:33.365Z"
   },
   {
    "duration": 392,
    "start_time": "2021-06-30T14:54:33.470Z"
   },
   {
    "duration": 72,
    "start_time": "2021-06-30T14:54:33.868Z"
   },
   {
    "duration": 691,
    "start_time": "2021-06-30T14:54:33.942Z"
   },
   {
    "duration": 114,
    "start_time": "2021-06-30T14:54:34.635Z"
   },
   {
    "duration": 36,
    "start_time": "2021-06-30T14:54:34.751Z"
   },
   {
    "duration": 14,
    "start_time": "2021-06-30T14:54:34.789Z"
   },
   {
    "duration": 115,
    "start_time": "2021-06-30T14:54:34.806Z"
   },
   {
    "duration": 705,
    "start_time": "2021-06-30T14:54:34.923Z"
   },
   {
    "duration": 960,
    "start_time": "2021-06-30T14:54:35.631Z"
   },
   {
    "duration": 47,
    "start_time": "2021-06-30T14:54:36.593Z"
   },
   {
    "duration": 106,
    "start_time": "2021-06-30T14:54:36.645Z"
   },
   {
    "duration": 907,
    "start_time": "2021-06-30T14:54:36.755Z"
   },
   {
    "duration": 76,
    "start_time": "2021-06-30T14:54:37.668Z"
   },
   {
    "duration": 268,
    "start_time": "2021-06-30T14:54:37.747Z"
   },
   {
    "duration": 756,
    "start_time": "2021-06-30T14:54:38.018Z"
   },
   {
    "duration": 713,
    "start_time": "2021-06-30T14:54:38.778Z"
   },
   {
    "duration": 712,
    "start_time": "2021-06-30T14:54:39.493Z"
   },
   {
    "duration": 69,
    "start_time": "2021-06-30T14:54:40.207Z"
   },
   {
    "duration": 137,
    "start_time": "2021-06-30T14:54:40.280Z"
   },
   {
    "duration": 70,
    "start_time": "2021-06-30T14:54:40.419Z"
   },
   {
    "duration": 158,
    "start_time": "2021-06-30T14:54:40.492Z"
   },
   {
    "duration": 131,
    "start_time": "2021-06-30T14:54:40.652Z"
   },
   {
    "duration": 1022,
    "start_time": "2021-06-30T14:54:40.786Z"
   },
   {
    "duration": 241,
    "start_time": "2021-06-30T14:54:41.811Z"
   },
   {
    "duration": 5,
    "start_time": "2021-06-30T14:54:42.055Z"
   },
   {
    "duration": 25,
    "start_time": "2021-06-30T14:54:42.062Z"
   },
   {
    "duration": 108656,
    "start_time": "2021-06-30T14:54:42.089Z"
   },
   {
    "duration": 108379,
    "start_time": "2021-06-30T14:56:30.748Z"
   },
   {
    "duration": 5040,
    "start_time": "2021-06-30T14:58:19.129Z"
   },
   {
    "duration": 771,
    "start_time": "2021-06-30T14:58:24.176Z"
   },
   {
    "duration": 2170,
    "start_time": "2021-06-30T15:00:14.891Z"
   },
   {
    "duration": 1605,
    "start_time": "2021-06-30T15:00:17.066Z"
   },
   {
    "duration": 281,
    "start_time": "2021-06-30T15:00:18.675Z"
   },
   {
    "duration": 659,
    "start_time": "2021-06-30T15:00:18.959Z"
   },
   {
    "duration": 4825,
    "start_time": "2021-06-30T15:00:19.621Z"
   },
   {
    "duration": 20,
    "start_time": "2021-06-30T15:00:24.449Z"
   },
   {
    "duration": 966,
    "start_time": "2021-06-30T15:00:24.471Z"
   },
   {
    "duration": 813,
    "start_time": "2021-06-30T15:00:25.440Z"
   },
   {
    "duration": 929,
    "start_time": "2021-06-30T15:00:26.256Z"
   },
   {
    "duration": 88,
    "start_time": "2021-06-30T15:00:27.187Z"
   },
   {
    "duration": 436,
    "start_time": "2021-06-30T15:00:27.278Z"
   },
   {
    "duration": 136,
    "start_time": "2021-06-30T15:00:27.717Z"
   },
   {
    "duration": 602,
    "start_time": "2021-06-30T15:00:27.868Z"
   },
   {
    "duration": 105,
    "start_time": "2021-06-30T15:00:28.473Z"
   },
   {
    "duration": 637,
    "start_time": "2021-06-30T15:00:28.581Z"
   },
   {
    "duration": 107,
    "start_time": "2021-06-30T15:00:29.221Z"
   },
   {
    "duration": 23,
    "start_time": "2021-06-30T15:00:29.330Z"
   },
   {
    "duration": 16,
    "start_time": "2021-06-30T15:00:29.367Z"
   },
   {
    "duration": 113,
    "start_time": "2021-06-30T15:00:29.385Z"
   },
   {
    "duration": 754,
    "start_time": "2021-06-30T15:00:29.501Z"
   },
   {
    "duration": 1087,
    "start_time": "2021-06-30T15:00:30.257Z"
   },
   {
    "duration": 56,
    "start_time": "2021-06-30T15:00:31.346Z"
   },
   {
    "duration": 100,
    "start_time": "2021-06-30T15:00:31.407Z"
   },
   {
    "duration": 960,
    "start_time": "2021-06-30T15:00:31.511Z"
   },
   {
    "duration": 68,
    "start_time": "2021-06-30T15:00:32.474Z"
   },
   {
    "duration": 244,
    "start_time": "2021-06-30T15:00:32.567Z"
   },
   {
    "duration": 614,
    "start_time": "2021-06-30T15:00:32.815Z"
   },
   {
    "duration": 657,
    "start_time": "2021-06-30T15:00:33.432Z"
   },
   {
    "duration": 690,
    "start_time": "2021-06-30T15:00:34.092Z"
   },
   {
    "duration": 54,
    "start_time": "2021-06-30T15:00:34.785Z"
   },
   {
    "duration": 148,
    "start_time": "2021-06-30T15:00:34.841Z"
   },
   {
    "duration": 80,
    "start_time": "2021-06-30T15:00:34.992Z"
   },
   {
    "duration": 136,
    "start_time": "2021-06-30T15:00:35.075Z"
   },
   {
    "duration": 122,
    "start_time": "2021-06-30T15:00:35.213Z"
   },
   {
    "duration": 973,
    "start_time": "2021-06-30T15:00:35.337Z"
   },
   {
    "duration": 221,
    "start_time": "2021-06-30T15:00:36.312Z"
   },
   {
    "duration": 3,
    "start_time": "2021-06-30T15:00:36.536Z"
   },
   {
    "duration": 26,
    "start_time": "2021-06-30T15:00:36.542Z"
   },
   {
    "duration": 136479,
    "start_time": "2021-06-30T15:00:36.570Z"
   },
   {
    "duration": 114831,
    "start_time": "2021-06-30T15:02:53.053Z"
   },
   {
    "duration": 5992,
    "start_time": "2021-06-30T15:04:47.887Z"
   },
   {
    "duration": 124704,
    "start_time": "2021-06-30T15:04:53.883Z"
   },
   {
    "duration": 1655,
    "start_time": "2021-06-30T15:22:50.707Z"
   },
   {
    "duration": 2135,
    "start_time": "2021-06-30T15:22:52.365Z"
   },
   {
    "duration": 173,
    "start_time": "2021-06-30T15:22:54.503Z"
   },
   {
    "duration": 431,
    "start_time": "2021-06-30T15:22:54.678Z"
   },
   {
    "duration": 3627,
    "start_time": "2021-06-30T15:22:55.111Z"
   },
   {
    "duration": 29,
    "start_time": "2021-06-30T15:22:58.741Z"
   },
   {
    "duration": 990,
    "start_time": "2021-06-30T15:22:58.773Z"
   },
   {
    "duration": 728,
    "start_time": "2021-06-30T15:22:59.768Z"
   },
   {
    "duration": 1006,
    "start_time": "2021-06-30T15:23:00.501Z"
   },
   {
    "duration": 91,
    "start_time": "2021-06-30T15:23:01.510Z"
   },
   {
    "duration": 447,
    "start_time": "2021-06-30T15:23:01.604Z"
   },
   {
    "duration": 126,
    "start_time": "2021-06-30T15:23:02.055Z"
   },
   {
    "duration": 588,
    "start_time": "2021-06-30T15:23:02.184Z"
   },
   {
    "duration": 118,
    "start_time": "2021-06-30T15:23:02.775Z"
   },
   {
    "duration": 925,
    "start_time": "2021-06-30T15:23:02.896Z"
   },
   {
    "duration": 123,
    "start_time": "2021-06-30T15:23:03.824Z"
   },
   {
    "duration": 36,
    "start_time": "2021-06-30T15:23:03.951Z"
   },
   {
    "duration": 18,
    "start_time": "2021-06-30T15:23:03.990Z"
   },
   {
    "duration": 126,
    "start_time": "2021-06-30T15:23:04.011Z"
   },
   {
    "duration": 914,
    "start_time": "2021-06-30T15:23:04.140Z"
   },
   {
    "duration": 953,
    "start_time": "2021-06-30T15:23:05.057Z"
   },
   {
    "duration": 56,
    "start_time": "2021-06-30T15:23:06.012Z"
   },
   {
    "duration": 79,
    "start_time": "2021-06-30T15:23:06.073Z"
   },
   {
    "duration": 828,
    "start_time": "2021-06-30T15:23:06.155Z"
   },
   {
    "duration": 82,
    "start_time": "2021-06-30T15:23:06.986Z"
   },
   {
    "duration": 227,
    "start_time": "2021-06-30T15:23:07.070Z"
   },
   {
    "duration": 605,
    "start_time": "2021-06-30T15:23:07.299Z"
   },
   {
    "duration": 654,
    "start_time": "2021-06-30T15:23:07.907Z"
   },
   {
    "duration": 654,
    "start_time": "2021-06-30T15:23:08.567Z"
   },
   {
    "duration": 64,
    "start_time": "2021-06-30T15:23:09.224Z"
   },
   {
    "duration": 139,
    "start_time": "2021-06-30T15:23:09.291Z"
   },
   {
    "duration": 66,
    "start_time": "2021-06-30T15:23:09.433Z"
   },
   {
    "duration": 137,
    "start_time": "2021-06-30T15:23:09.501Z"
   },
   {
    "duration": 122,
    "start_time": "2021-06-30T15:23:09.641Z"
   },
   {
    "duration": 972,
    "start_time": "2021-06-30T15:23:09.768Z"
   },
   {
    "duration": 226,
    "start_time": "2021-06-30T15:23:10.742Z"
   },
   {
    "duration": 3,
    "start_time": "2021-06-30T15:23:10.971Z"
   },
   {
    "duration": 12,
    "start_time": "2021-06-30T15:23:10.977Z"
   },
   {
    "duration": 107557,
    "start_time": "2021-06-30T15:23:10.992Z"
   },
   {
    "duration": 116906,
    "start_time": "2021-06-30T15:24:58.552Z"
   },
   {
    "duration": 5402,
    "start_time": "2021-06-30T15:26:55.468Z"
   },
   {
    "duration": 134032,
    "start_time": "2021-06-30T15:27:00.872Z"
   },
   {
    "duration": 1729,
    "start_time": "2021-06-30T15:42:24.438Z"
   },
   {
    "duration": 1303,
    "start_time": "2021-06-30T15:42:26.174Z"
   },
   {
    "duration": 281,
    "start_time": "2021-06-30T15:42:27.481Z"
   },
   {
    "duration": 644,
    "start_time": "2021-06-30T15:42:27.765Z"
   },
   {
    "duration": 4977,
    "start_time": "2021-06-30T15:42:28.412Z"
   },
   {
    "duration": 19,
    "start_time": "2021-06-30T15:42:33.392Z"
   },
   {
    "duration": 1113,
    "start_time": "2021-06-30T15:42:33.414Z"
   },
   {
    "duration": 771,
    "start_time": "2021-06-30T15:42:34.531Z"
   },
   {
    "duration": 785,
    "start_time": "2021-06-30T15:42:35.305Z"
   },
   {
    "duration": 109,
    "start_time": "2021-06-30T15:42:36.096Z"
   },
   {
    "duration": 304,
    "start_time": "2021-06-30T15:42:36.208Z"
   },
   {
    "duration": 100,
    "start_time": "2021-06-30T15:42:36.515Z"
   },
   {
    "duration": 491,
    "start_time": "2021-06-30T15:42:36.618Z"
   },
   {
    "duration": 79,
    "start_time": "2021-06-30T15:42:37.111Z"
   },
   {
    "duration": 735,
    "start_time": "2021-06-30T15:42:37.193Z"
   },
   {
    "duration": 110,
    "start_time": "2021-06-30T15:42:37.931Z"
   },
   {
    "duration": 33,
    "start_time": "2021-06-30T15:42:38.043Z"
   },
   {
    "duration": 22,
    "start_time": "2021-06-30T15:42:38.080Z"
   },
   {
    "duration": 112,
    "start_time": "2021-06-30T15:42:38.104Z"
   },
   {
    "duration": 691,
    "start_time": "2021-06-30T15:42:38.218Z"
   },
   {
    "duration": 963,
    "start_time": "2021-06-30T15:42:38.912Z"
   },
   {
    "duration": 50,
    "start_time": "2021-06-30T15:42:39.878Z"
   },
   {
    "duration": 107,
    "start_time": "2021-06-30T15:42:39.933Z"
   },
   {
    "duration": 993,
    "start_time": "2021-06-30T15:42:40.043Z"
   },
   {
    "duration": 85,
    "start_time": "2021-06-30T15:42:41.039Z"
   },
   {
    "duration": 278,
    "start_time": "2021-06-30T15:42:41.127Z"
   },
   {
    "duration": 681,
    "start_time": "2021-06-30T15:42:41.408Z"
   },
   {
    "duration": 730,
    "start_time": "2021-06-30T15:42:42.093Z"
   },
   {
    "duration": 754,
    "start_time": "2021-06-30T15:42:42.826Z"
   },
   {
    "duration": 58,
    "start_time": "2021-06-30T15:42:43.586Z"
   },
   {
    "duration": 166,
    "start_time": "2021-06-30T15:42:43.646Z"
   },
   {
    "duration": 70,
    "start_time": "2021-06-30T15:42:43.815Z"
   },
   {
    "duration": 151,
    "start_time": "2021-06-30T15:42:43.890Z"
   },
   {
    "duration": 142,
    "start_time": "2021-06-30T15:42:44.043Z"
   },
   {
    "duration": 1218,
    "start_time": "2021-06-30T15:42:44.188Z"
   },
   {
    "duration": 243,
    "start_time": "2021-06-30T15:42:45.409Z"
   },
   {
    "duration": 4,
    "start_time": "2021-06-30T15:42:45.654Z"
   },
   {
    "duration": 21,
    "start_time": "2021-06-30T15:42:45.661Z"
   },
   {
    "duration": 104543,
    "start_time": "2021-06-30T15:42:45.689Z"
   },
   {
    "duration": 104235,
    "start_time": "2021-06-30T15:44:30.234Z"
   },
   {
    "duration": 5102,
    "start_time": "2021-06-30T15:46:14.472Z"
   },
   {
    "duration": 138003,
    "start_time": "2021-06-30T15:46:19.577Z"
   },
   {
    "duration": 728,
    "start_time": "2021-06-30T15:48:37.582Z"
   },
   {
    "duration": 12,
    "start_time": "2021-06-30T15:48:38.312Z"
   },
   {
    "duration": 7737,
    "start_time": "2021-06-30T15:50:35.491Z"
   },
   {
    "duration": 560,
    "start_time": "2021-06-30T15:50:51.412Z"
   },
   {
    "duration": 24894,
    "start_time": "2021-06-30T15:51:02.178Z"
   },
   {
    "duration": 6,
    "start_time": "2021-06-30T15:51:41.220Z"
   },
   {
    "duration": 1079,
    "start_time": "2021-06-30T15:51:41.229Z"
   },
   {
    "duration": 159,
    "start_time": "2021-06-30T15:51:42.312Z"
   },
   {
    "duration": 419,
    "start_time": "2021-06-30T15:51:42.475Z"
   },
   {
    "duration": 3759,
    "start_time": "2021-06-30T15:51:42.897Z"
   },
   {
    "duration": 12,
    "start_time": "2021-06-30T15:51:46.672Z"
   },
   {
    "duration": 907,
    "start_time": "2021-06-30T15:51:46.687Z"
   },
   {
    "duration": 911,
    "start_time": "2021-06-30T15:51:47.601Z"
   },
   {
    "duration": 908,
    "start_time": "2021-06-30T15:51:48.516Z"
   },
   {
    "duration": 141,
    "start_time": "2021-06-30T15:51:49.428Z"
   },
   {
    "duration": 437,
    "start_time": "2021-06-30T15:51:49.572Z"
   },
   {
    "duration": 130,
    "start_time": "2021-06-30T15:51:50.012Z"
   },
   {
    "duration": 385,
    "start_time": "2021-06-30T15:51:50.145Z"
   },
   {
    "duration": 70,
    "start_time": "2021-06-30T15:51:50.532Z"
   },
   {
    "duration": 738,
    "start_time": "2021-06-30T15:51:50.605Z"
   },
   {
    "duration": 109,
    "start_time": "2021-06-30T15:51:51.346Z"
   },
   {
    "duration": 30,
    "start_time": "2021-06-30T15:51:51.457Z"
   },
   {
    "duration": 16,
    "start_time": "2021-06-30T15:51:51.490Z"
   },
   {
    "duration": 107,
    "start_time": "2021-06-30T15:51:51.508Z"
   },
   {
    "duration": 765,
    "start_time": "2021-06-30T15:51:51.618Z"
   },
   {
    "duration": 821,
    "start_time": "2021-06-30T15:51:52.385Z"
   },
   {
    "duration": 42,
    "start_time": "2021-06-30T15:51:53.208Z"
   },
   {
    "duration": 73,
    "start_time": "2021-06-30T15:51:53.271Z"
   },
   {
    "duration": 856,
    "start_time": "2021-06-30T15:51:53.347Z"
   },
   {
    "duration": 83,
    "start_time": "2021-06-30T15:51:54.206Z"
   },
   {
    "duration": 240,
    "start_time": "2021-06-30T15:51:54.291Z"
   },
   {
    "duration": 611,
    "start_time": "2021-06-30T15:51:54.533Z"
   },
   {
    "duration": 649,
    "start_time": "2021-06-30T15:51:55.147Z"
   },
   {
    "duration": 640,
    "start_time": "2021-06-30T15:51:55.798Z"
   },
   {
    "duration": 60,
    "start_time": "2021-06-30T15:51:56.440Z"
   },
   {
    "duration": 131,
    "start_time": "2021-06-30T15:51:56.503Z"
   },
   {
    "duration": 70,
    "start_time": "2021-06-30T15:51:56.637Z"
   },
   {
    "duration": 143,
    "start_time": "2021-06-30T15:51:56.710Z"
   },
   {
    "duration": 120,
    "start_time": "2021-06-30T15:51:56.856Z"
   },
   {
    "duration": 928,
    "start_time": "2021-06-30T15:51:56.979Z"
   },
   {
    "duration": 215,
    "start_time": "2021-06-30T15:51:57.910Z"
   },
   {
    "duration": 4,
    "start_time": "2021-06-30T15:51:58.127Z"
   },
   {
    "duration": 14,
    "start_time": "2021-06-30T15:51:58.134Z"
   },
   {
    "duration": 97340,
    "start_time": "2021-06-30T15:51:58.167Z"
   },
   {
    "duration": 96669,
    "start_time": "2021-06-30T15:53:35.510Z"
   },
   {
    "duration": 5292,
    "start_time": "2021-06-30T15:55:12.181Z"
   },
   {
    "duration": 134345,
    "start_time": "2021-06-30T15:55:17.476Z"
   },
   {
    "duration": 481857,
    "start_time": "2021-06-30T15:57:31.824Z"
   },
   {
    "duration": 15,
    "start_time": "2021-06-30T16:05:33.684Z"
   },
   {
    "duration": 61666,
    "start_time": "2021-06-30T16:05:43.359Z"
   },
   {
    "duration": 1781,
    "start_time": "2021-06-30T16:13:02.932Z"
   },
   {
    "duration": 1465,
    "start_time": "2021-06-30T16:13:04.716Z"
   },
   {
    "duration": 198,
    "start_time": "2021-06-30T16:13:06.185Z"
   },
   {
    "duration": 455,
    "start_time": "2021-06-30T16:13:06.387Z"
   },
   {
    "duration": 3789,
    "start_time": "2021-06-30T16:13:06.845Z"
   },
   {
    "duration": 35,
    "start_time": "2021-06-30T16:13:10.637Z"
   },
   {
    "duration": 1016,
    "start_time": "2021-06-30T16:13:10.675Z"
   },
   {
    "duration": 711,
    "start_time": "2021-06-30T16:13:11.695Z"
   },
   {
    "duration": 777,
    "start_time": "2021-06-30T16:13:12.409Z"
   },
   {
    "duration": 91,
    "start_time": "2021-06-30T16:13:13.189Z"
   },
   {
    "duration": 283,
    "start_time": "2021-06-30T16:13:13.283Z"
   },
   {
    "duration": 108,
    "start_time": "2021-06-30T16:13:13.570Z"
   },
   {
    "duration": 388,
    "start_time": "2021-06-30T16:13:13.681Z"
   },
   {
    "duration": 66,
    "start_time": "2021-06-30T16:13:14.072Z"
   },
   {
    "duration": 666,
    "start_time": "2021-06-30T16:13:14.141Z"
   },
   {
    "duration": 108,
    "start_time": "2021-06-30T16:13:14.809Z"
   },
   {
    "duration": 24,
    "start_time": "2021-06-30T16:13:14.920Z"
   },
   {
    "duration": 40,
    "start_time": "2021-06-30T16:13:14.946Z"
   },
   {
    "duration": 104,
    "start_time": "2021-06-30T16:13:14.989Z"
   },
   {
    "duration": 657,
    "start_time": "2021-06-30T16:13:15.095Z"
   },
   {
    "duration": 917,
    "start_time": "2021-06-30T16:13:15.755Z"
   },
   {
    "duration": 53,
    "start_time": "2021-06-30T16:13:16.680Z"
   },
   {
    "duration": 104,
    "start_time": "2021-06-30T16:13:16.741Z"
   },
   {
    "duration": 866,
    "start_time": "2021-06-30T16:13:16.848Z"
   },
   {
    "duration": 83,
    "start_time": "2021-06-30T16:13:17.716Z"
   },
   {
    "duration": 235,
    "start_time": "2021-06-30T16:13:17.801Z"
   },
   {
    "duration": 634,
    "start_time": "2021-06-30T16:13:18.038Z"
   },
   {
    "duration": 654,
    "start_time": "2021-06-30T16:13:18.677Z"
   },
   {
    "duration": 678,
    "start_time": "2021-06-30T16:13:19.334Z"
   },
   {
    "duration": 66,
    "start_time": "2021-06-30T16:13:20.016Z"
   },
   {
    "duration": 129,
    "start_time": "2021-06-30T16:13:20.085Z"
   },
   {
    "duration": 65,
    "start_time": "2021-06-30T16:13:20.217Z"
   },
   {
    "duration": 143,
    "start_time": "2021-06-30T16:13:20.284Z"
   },
   {
    "duration": 125,
    "start_time": "2021-06-30T16:13:20.430Z"
   },
   {
    "duration": 1395,
    "start_time": "2021-06-30T16:13:20.557Z"
   },
   {
    "duration": 333,
    "start_time": "2021-06-30T16:13:21.955Z"
   },
   {
    "duration": 5,
    "start_time": "2021-06-30T16:13:22.291Z"
   },
   {
    "duration": 18,
    "start_time": "2021-06-30T16:13:22.300Z"
   },
   {
    "duration": 102561,
    "start_time": "2021-06-30T16:13:22.321Z"
   },
   {
    "duration": 97768,
    "start_time": "2021-06-30T16:15:04.885Z"
   },
   {
    "duration": 5020,
    "start_time": "2021-06-30T16:16:42.656Z"
   },
   {
    "duration": 135100,
    "start_time": "2021-06-30T16:16:47.679Z"
   },
   {
    "duration": 953509,
    "start_time": "2021-06-30T16:19:02.782Z"
   },
   {
    "duration": 12,
    "start_time": "2021-06-30T16:34:56.294Z"
   },
   {
    "duration": 1868,
    "start_time": "2021-07-01T09:10:21.881Z"
   },
   {
    "duration": 1142,
    "start_time": "2021-07-01T09:10:23.752Z"
   },
   {
    "duration": 188,
    "start_time": "2021-07-01T09:10:24.897Z"
   },
   {
    "duration": 422,
    "start_time": "2021-07-01T09:10:25.088Z"
   },
   {
    "duration": 4193,
    "start_time": "2021-07-01T09:10:25.512Z"
   },
   {
    "duration": 12,
    "start_time": "2021-07-01T09:10:29.708Z"
   },
   {
    "duration": 950,
    "start_time": "2021-07-01T09:10:29.722Z"
   },
   {
    "duration": 719,
    "start_time": "2021-07-01T09:10:30.674Z"
   },
   {
    "duration": 931,
    "start_time": "2021-07-01T09:10:31.397Z"
   },
   {
    "duration": 82,
    "start_time": "2021-07-01T09:10:32.332Z"
   },
   {
    "duration": 341,
    "start_time": "2021-07-01T09:10:32.416Z"
   },
   {
    "duration": 87,
    "start_time": "2021-07-01T09:10:32.759Z"
   },
   {
    "duration": 421,
    "start_time": "2021-07-01T09:10:32.849Z"
   },
   {
    "duration": 71,
    "start_time": "2021-07-01T09:10:33.273Z"
   },
   {
    "duration": 842,
    "start_time": "2021-07-01T09:10:33.346Z"
   },
   {
    "duration": 197,
    "start_time": "2021-07-01T09:10:34.191Z"
   },
   {
    "duration": 22,
    "start_time": "2021-07-01T09:10:34.391Z"
   },
   {
    "duration": 71,
    "start_time": "2021-07-01T09:10:34.416Z"
   },
   {
    "duration": 141,
    "start_time": "2021-07-01T09:10:34.489Z"
   },
   {
    "duration": 1233,
    "start_time": "2021-07-01T09:10:34.632Z"
   },
   {
    "duration": 1050,
    "start_time": "2021-07-01T09:10:35.867Z"
   },
   {
    "duration": 41,
    "start_time": "2021-07-01T09:10:36.919Z"
   },
   {
    "duration": 89,
    "start_time": "2021-07-01T09:10:36.963Z"
   },
   {
    "duration": 832,
    "start_time": "2021-07-01T09:10:37.054Z"
   },
   {
    "duration": 72,
    "start_time": "2021-07-01T09:10:37.889Z"
   },
   {
    "duration": 224,
    "start_time": "2021-07-01T09:10:37.964Z"
   },
   {
    "duration": 621,
    "start_time": "2021-07-01T09:10:38.193Z"
   },
   {
    "duration": 696,
    "start_time": "2021-07-01T09:10:38.817Z"
   },
   {
    "duration": 829,
    "start_time": "2021-07-01T09:10:39.515Z"
   },
   {
    "duration": 56,
    "start_time": "2021-07-01T09:10:40.346Z"
   },
   {
    "duration": 117,
    "start_time": "2021-07-01T09:10:40.405Z"
   },
   {
    "duration": 61,
    "start_time": "2021-07-01T09:10:40.524Z"
   },
   {
    "duration": 125,
    "start_time": "2021-07-01T09:10:40.588Z"
   },
   {
    "duration": 115,
    "start_time": "2021-07-01T09:10:40.715Z"
   },
   {
    "duration": 935,
    "start_time": "2021-07-01T09:10:40.833Z"
   },
   {
    "duration": 320,
    "start_time": "2021-07-01T09:10:41.770Z"
   },
   {
    "duration": 4,
    "start_time": "2021-07-01T09:10:42.093Z"
   },
   {
    "duration": 13,
    "start_time": "2021-07-01T09:10:42.099Z"
   },
   {
    "duration": 96074,
    "start_time": "2021-07-01T09:10:42.114Z"
   },
   {
    "duration": 94452,
    "start_time": "2021-07-01T09:12:18.191Z"
   },
   {
    "duration": 5044,
    "start_time": "2021-07-01T09:13:52.646Z"
   },
   {
    "duration": 138704,
    "start_time": "2021-07-01T09:13:57.693Z"
   },
   {
    "duration": 28095,
    "start_time": "2021-07-01T09:16:16.400Z"
   },
   {
    "duration": 12,
    "start_time": "2021-07-01T09:16:44.497Z"
   },
   {
    "duration": 1500,
    "start_time": "2021-07-01T16:21:07.803Z"
   },
   {
    "duration": 1100,
    "start_time": "2021-07-01T16:21:09.306Z"
   },
   {
    "duration": 161,
    "start_time": "2021-07-01T16:21:10.409Z"
   },
   {
    "duration": 443,
    "start_time": "2021-07-01T16:21:12.688Z"
   },
   {
    "duration": 7,
    "start_time": "2021-07-01T16:22:10.087Z"
   },
   {
    "duration": 1084,
    "start_time": "2021-07-01T16:22:10.097Z"
   },
   {
    "duration": 166,
    "start_time": "2021-07-01T16:22:11.184Z"
   },
   {
    "duration": 403,
    "start_time": "2021-07-01T16:22:11.485Z"
   },
   {
    "duration": 1595,
    "start_time": "2021-07-01T16:37:37.946Z"
   },
   {
    "duration": 1142,
    "start_time": "2021-07-01T16:37:39.545Z"
   },
   {
    "duration": 170,
    "start_time": "2021-07-01T16:37:40.690Z"
   },
   {
    "duration": 455,
    "start_time": "2021-07-01T16:37:40.863Z"
   },
   {
    "duration": 3641,
    "start_time": "2021-07-01T16:37:41.321Z"
   },
   {
    "duration": 12,
    "start_time": "2021-07-01T16:37:44.965Z"
   },
   {
    "duration": 947,
    "start_time": "2021-07-01T16:37:44.979Z"
   },
   {
    "duration": 858,
    "start_time": "2021-07-01T16:37:45.928Z"
   },
   {
    "duration": 893,
    "start_time": "2021-07-01T16:37:46.791Z"
   },
   {
    "duration": 129,
    "start_time": "2021-07-01T16:37:47.688Z"
   },
   {
    "duration": 420,
    "start_time": "2021-07-01T16:37:47.819Z"
   },
   {
    "duration": 134,
    "start_time": "2021-07-01T16:37:48.242Z"
   },
   {
    "duration": 358,
    "start_time": "2021-07-01T16:37:48.378Z"
   },
   {
    "duration": 69,
    "start_time": "2021-07-01T16:37:48.739Z"
   },
   {
    "duration": 886,
    "start_time": "2021-07-01T16:37:48.811Z"
   },
   {
    "duration": 125,
    "start_time": "2021-07-01T16:37:49.700Z"
   },
   {
    "duration": 35,
    "start_time": "2021-07-01T16:37:49.828Z"
   },
   {
    "duration": 17,
    "start_time": "2021-07-01T16:37:49.866Z"
   },
   {
    "duration": 118,
    "start_time": "2021-07-01T16:37:49.886Z"
   },
   {
    "duration": 647,
    "start_time": "2021-07-01T16:37:50.007Z"
   },
   {
    "duration": 887,
    "start_time": "2021-07-01T16:37:50.656Z"
   },
   {
    "duration": 46,
    "start_time": "2021-07-01T16:37:51.545Z"
   },
   {
    "duration": 107,
    "start_time": "2021-07-01T16:37:51.593Z"
   },
   {
    "duration": 830,
    "start_time": "2021-07-01T16:37:51.703Z"
   },
   {
    "duration": 78,
    "start_time": "2021-07-01T16:37:52.535Z"
   },
   {
    "duration": 239,
    "start_time": "2021-07-01T16:37:52.615Z"
   },
   {
    "duration": 620,
    "start_time": "2021-07-01T16:37:52.860Z"
   },
   {
    "duration": 651,
    "start_time": "2021-07-01T16:37:53.483Z"
   },
   {
    "duration": 700,
    "start_time": "2021-07-01T16:37:54.136Z"
   },
   {
    "duration": 61,
    "start_time": "2021-07-01T16:37:54.839Z"
   },
   {
    "duration": 131,
    "start_time": "2021-07-01T16:37:54.903Z"
   },
   {
    "duration": 64,
    "start_time": "2021-07-01T16:37:55.036Z"
   },
   {
    "duration": 143,
    "start_time": "2021-07-01T16:37:55.103Z"
   },
   {
    "duration": 131,
    "start_time": "2021-07-01T16:37:55.248Z"
   },
   {
    "duration": 973,
    "start_time": "2021-07-01T16:37:55.381Z"
   },
   {
    "duration": 223,
    "start_time": "2021-07-01T16:37:56.356Z"
   },
   {
    "duration": 4,
    "start_time": "2021-07-01T16:37:56.582Z"
   },
   {
    "duration": 12,
    "start_time": "2021-07-01T16:37:56.589Z"
   },
   {
    "duration": 448,
    "start_time": "2021-07-01T16:38:01.433Z"
   },
   {
    "duration": 3433,
    "start_time": "2021-07-01T16:38:08.734Z"
   },
   {
    "duration": 1091,
    "start_time": "2021-07-01T16:38:25.729Z"
   },
   {
    "duration": 13,
    "start_time": "2021-07-01T16:39:32.876Z"
   },
   {
    "duration": 627,
    "start_time": "2021-07-01T16:39:34.929Z"
   },
   {
    "duration": 1532,
    "start_time": "2021-07-01T16:40:55.364Z"
   },
   {
    "duration": 1093,
    "start_time": "2021-07-01T16:40:56.899Z"
   },
   {
    "duration": 171,
    "start_time": "2021-07-01T16:40:57.996Z"
   },
   {
    "duration": 435,
    "start_time": "2021-07-01T16:40:58.170Z"
   },
   {
    "duration": 3741,
    "start_time": "2021-07-01T16:40:58.607Z"
   },
   {
    "duration": 12,
    "start_time": "2021-07-01T16:41:02.350Z"
   },
   {
    "duration": 889,
    "start_time": "2021-07-01T16:41:02.365Z"
   },
   {
    "duration": 630,
    "start_time": "2021-07-01T16:41:03.258Z"
   },
   {
    "duration": 648,
    "start_time": "2021-07-01T16:41:03.891Z"
   },
   {
    "duration": 79,
    "start_time": "2021-07-01T16:41:04.541Z"
   },
   {
    "duration": 259,
    "start_time": "2021-07-01T16:41:04.623Z"
   },
   {
    "duration": 88,
    "start_time": "2021-07-01T16:41:04.884Z"
   },
   {
    "duration": 356,
    "start_time": "2021-07-01T16:41:04.975Z"
   },
   {
    "duration": 63,
    "start_time": "2021-07-01T16:41:05.333Z"
   },
   {
    "duration": 602,
    "start_time": "2021-07-01T16:41:05.398Z"
   },
   {
    "duration": 109,
    "start_time": "2021-07-01T16:41:06.003Z"
   },
   {
    "duration": 22,
    "start_time": "2021-07-01T16:41:06.115Z"
   },
   {
    "duration": 28,
    "start_time": "2021-07-01T16:41:06.139Z"
   },
   {
    "duration": 109,
    "start_time": "2021-07-01T16:41:06.170Z"
   },
   {
    "duration": 633,
    "start_time": "2021-07-01T16:41:06.282Z"
   },
   {
    "duration": 869,
    "start_time": "2021-07-01T16:41:06.918Z"
   },
   {
    "duration": 42,
    "start_time": "2021-07-01T16:41:07.790Z"
   },
   {
    "duration": 95,
    "start_time": "2021-07-01T16:41:07.837Z"
   },
   {
    "duration": 822,
    "start_time": "2021-07-01T16:41:07.935Z"
   },
   {
    "duration": 68,
    "start_time": "2021-07-01T16:41:08.760Z"
   },
   {
    "duration": 245,
    "start_time": "2021-07-01T16:41:08.831Z"
   },
   {
    "duration": 625,
    "start_time": "2021-07-01T16:41:09.079Z"
   },
   {
    "duration": 657,
    "start_time": "2021-07-01T16:41:09.706Z"
   },
   {
    "duration": 678,
    "start_time": "2021-07-01T16:41:10.366Z"
   },
   {
    "duration": 51,
    "start_time": "2021-07-01T16:41:11.054Z"
   },
   {
    "duration": 131,
    "start_time": "2021-07-01T16:41:11.107Z"
   },
   {
    "duration": 65,
    "start_time": "2021-07-01T16:41:11.240Z"
   },
   {
    "duration": 158,
    "start_time": "2021-07-01T16:41:11.308Z"
   },
   {
    "duration": 129,
    "start_time": "2021-07-01T16:41:11.468Z"
   },
   {
    "duration": 982,
    "start_time": "2021-07-01T16:41:11.601Z"
   },
   {
    "duration": 219,
    "start_time": "2021-07-01T16:41:12.585Z"
   },
   {
    "duration": 3,
    "start_time": "2021-07-01T16:41:12.807Z"
   },
   {
    "duration": 28,
    "start_time": "2021-07-01T16:41:12.813Z"
   },
   {
    "duration": 94623,
    "start_time": "2021-07-01T16:41:12.844Z"
   },
   {
    "duration": 93989,
    "start_time": "2021-07-01T16:42:47.469Z"
   },
   {
    "duration": 5199,
    "start_time": "2021-07-01T16:44:21.460Z"
   },
   {
    "duration": 128305,
    "start_time": "2021-07-01T16:44:26.662Z"
   },
   {
    "duration": 32998,
    "start_time": "2021-07-01T16:46:34.969Z"
   },
   {
    "duration": 11,
    "start_time": "2021-07-01T16:47:07.970Z"
   },
   {
    "duration": 1675,
    "start_time": "2021-07-02T15:43:57.762Z"
   },
   {
    "duration": 1300,
    "start_time": "2021-07-02T15:43:59.440Z"
   },
   {
    "duration": 185,
    "start_time": "2021-07-02T15:44:00.744Z"
   },
   {
    "duration": 469,
    "start_time": "2021-07-02T15:44:00.933Z"
   },
   {
    "duration": 3745,
    "start_time": "2021-07-02T15:44:01.404Z"
   },
   {
    "duration": 13,
    "start_time": "2021-07-02T15:44:05.151Z"
   },
   {
    "duration": 1006,
    "start_time": "2021-07-02T15:44:05.167Z"
   },
   {
    "duration": 910,
    "start_time": "2021-07-02T15:44:06.177Z"
   },
   {
    "duration": 840,
    "start_time": "2021-07-02T15:44:07.091Z"
   },
   {
    "duration": 78,
    "start_time": "2021-07-02T15:44:07.936Z"
   },
   {
    "duration": 274,
    "start_time": "2021-07-02T15:44:08.027Z"
   },
   {
    "duration": 100,
    "start_time": "2021-07-02T15:44:08.304Z"
   },
   {
    "duration": 416,
    "start_time": "2021-07-02T15:44:08.406Z"
   },
   {
    "duration": 73,
    "start_time": "2021-07-02T15:44:08.825Z"
   },
   {
    "duration": 658,
    "start_time": "2021-07-02T15:44:08.901Z"
   },
   {
    "duration": 103,
    "start_time": "2021-07-02T15:44:09.561Z"
   },
   {
    "duration": 26,
    "start_time": "2021-07-02T15:44:09.667Z"
   },
   {
    "duration": 45,
    "start_time": "2021-07-02T15:44:09.696Z"
   },
   {
    "duration": 96,
    "start_time": "2021-07-02T15:44:09.747Z"
   },
   {
    "duration": 668,
    "start_time": "2021-07-02T15:44:09.845Z"
   },
   {
    "duration": 932,
    "start_time": "2021-07-02T15:44:10.516Z"
   },
   {
    "duration": 42,
    "start_time": "2021-07-02T15:44:11.451Z"
   },
   {
    "duration": 102,
    "start_time": "2021-07-02T15:44:11.498Z"
   },
   {
    "duration": 869,
    "start_time": "2021-07-02T15:44:11.603Z"
   },
   {
    "duration": 85,
    "start_time": "2021-07-02T15:44:12.474Z"
   },
   {
    "duration": 281,
    "start_time": "2021-07-02T15:44:12.562Z"
   },
   {
    "duration": 654,
    "start_time": "2021-07-02T15:44:12.845Z"
   },
   {
    "duration": 695,
    "start_time": "2021-07-02T15:44:13.501Z"
   },
   {
    "duration": 686,
    "start_time": "2021-07-02T15:44:14.198Z"
   },
   {
    "duration": 69,
    "start_time": "2021-07-02T15:44:14.886Z"
   },
   {
    "duration": 135,
    "start_time": "2021-07-02T15:44:14.957Z"
   },
   {
    "duration": 74,
    "start_time": "2021-07-02T15:44:15.095Z"
   },
   {
    "duration": 149,
    "start_time": "2021-07-02T15:44:15.172Z"
   },
   {
    "duration": 142,
    "start_time": "2021-07-02T15:44:15.328Z"
   },
   {
    "duration": 1050,
    "start_time": "2021-07-02T15:44:15.477Z"
   },
   {
    "duration": 249,
    "start_time": "2021-07-02T15:44:16.530Z"
   },
   {
    "duration": 4,
    "start_time": "2021-07-02T15:44:16.781Z"
   },
   {
    "duration": 14,
    "start_time": "2021-07-02T15:44:16.787Z"
   },
   {
    "duration": 97991,
    "start_time": "2021-07-02T15:44:16.804Z"
   },
   {
    "duration": 96219,
    "start_time": "2021-07-02T15:45:54.797Z"
   },
   {
    "duration": 5805,
    "start_time": "2021-07-02T15:47:31.024Z"
   },
   {
    "duration": 136134,
    "start_time": "2021-07-02T15:47:36.832Z"
   },
   {
    "duration": 409669,
    "start_time": "2021-07-02T15:49:52.969Z"
   },
   {
    "duration": 11,
    "start_time": "2021-07-02T15:56:42.641Z"
   }
  ],
  "kernelspec": {
   "display_name": "Python 3 (ipykernel)",
   "language": "python",
   "name": "python3"
  },
  "language_info": {
   "codemirror_mode": {
    "name": "ipython",
    "version": 3
   },
   "file_extension": ".py",
   "mimetype": "text/x-python",
   "name": "python",
   "nbconvert_exporter": "python",
   "pygments_lexer": "ipython3",
   "version": "3.9.5"
  },
  "toc": {
   "base_numbering": 1,
   "nav_menu": {},
   "number_sections": false,
   "sideBar": true,
   "skip_h1_title": false,
   "title_cell": "Table of Contents",
   "title_sidebar": "Contents",
   "toc_cell": false,
   "toc_position": {
    "height": "calc(100% - 180px)",
    "left": "10px",
    "top": "150px",
    "width": "175.188px"
   },
   "toc_section_display": true,
   "toc_window_display": true
  }
 },
 "nbformat": 4,
 "nbformat_minor": 2
}
