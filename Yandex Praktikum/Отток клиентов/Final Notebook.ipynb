{
 "cells": [
  {
   "cell_type": "markdown",
   "metadata": {
    "toc": true
   },
   "source": [
    "<h1>Содержание<span class=\"tocSkip\"></span></h1>\n",
    "<div class=\"toc\"><ul class=\"toc-item\"><li><span><a href=\"#Наименование-проекта:-&quot;Отток-клиентов&quot;\" data-toc-modified-id=\"Наименование-проекта:-&quot;Отток-клиентов&quot;-1\">Наименование проекта: \"Отток клиентов\"</a></span></li><li><span><a href=\"#План-проекта:\" data-toc-modified-id=\"План-проекта:-2\">План проекта:</a></span></li><li><span><a href=\"#Описание-данных:\" data-toc-modified-id=\"Описание-данных:-3\">Описание данных:</a></span></li><li><span><a href=\"#Подключение-библиотек:\" data-toc-modified-id=\"Подключение-библиотек:-4\">Подключение библиотек:</a></span></li><li><span><a href=\"#1.-Подготовка-данных\" data-toc-modified-id=\"1.-Подготовка-данных-5\">1. Подготовка данных</a></span><ul class=\"toc-item\"><li><span><a href=\"#1.1.-Загрузка-датасета-и-просмотр-общей-информации\" data-toc-modified-id=\"1.1.-Загрузка-датасета-и-просмотр-общей-информации-5.1\">1.1. Загрузка датасета и просмотр общей информации</a></span></li><li><span><a href=\"#1.2.-Обработка-пропусков.\" data-toc-modified-id=\"1.2.-Обработка-пропусков.-5.2\">1.2. Обработка пропусков.</a></span></li><li><span><a href=\"#1.3.-Удаление-лишних-столбцов\" data-toc-modified-id=\"1.3.-Удаление-лишних-столбцов-5.3\">1.3. Удаление лишних столбцов</a></span></li><li><span><a href=\"#1.4.-OHE.\" data-toc-modified-id=\"1.4.-OHE.-5.4\">1.4. OHE.</a></span></li><li><span><a href=\"#1.5.-Масштабирование-признаков\" data-toc-modified-id=\"1.5.-Масштабирование-признаков-5.5\">1.5. Масштабирование признаков</a></span></li></ul></li><li><span><a href=\"#2.-Разделение-датасета-на-выборки-и-борьба-с-дисбалансом.\" data-toc-modified-id=\"2.-Разделение-датасета-на-выборки-и-борьба-с-дисбалансом.-6\">2. Разделение датасета на выборки и борьба с дисбалансом.</a></span><ul class=\"toc-item\"><li><span><a href=\"#2.1.-Разделение-датасета.\" data-toc-modified-id=\"2.1.-Разделение-датасета.-6.1\">2.1. Разделение датасета.</a></span></li><li><span><a href=\"#2.2.-Борьба-с-дисбалансом-классов.\" data-toc-modified-id=\"2.2.-Борьба-с-дисбалансом-классов.-6.2\">2.2. Борьба с дисбалансом классов.</a></span><ul class=\"toc-item\"><li><span><a href=\"#2.2.1-Upsampling\" data-toc-modified-id=\"2.2.1-Upsampling-6.2.1\">2.2.1 Upsampling</a></span></li><li><span><a href=\"#2.2.2.-Downsampling\" data-toc-modified-id=\"2.2.2.-Downsampling-6.2.2\">2.2.2. Downsampling</a></span></li></ul></li></ul></li><li><span><a href=\"#3.-Исследование-моделей:\" data-toc-modified-id=\"3.-Исследование-моделей:-7\">3. Исследование моделей:</a></span><ul class=\"toc-item\"><li><span><a href=\"#3.1.-Дерево-решений.\" data-toc-modified-id=\"3.1.-Дерево-решений.-7.1\">3.1. Дерево решений.</a></span></li><li><span><a href=\"#3.2.-Логистическая-регрессия\" data-toc-modified-id=\"3.2.-Логистическая-регрессия-7.2\">3.2. Логистическая регрессия</a></span></li><li><span><a href=\"#3.3.-Случайный-лес\" data-toc-modified-id=\"3.3.-Случайный-лес-7.3\">3.3. Случайный лес</a></span></li><li><span><a href=\"#3.4.-Алгоритм-К-ближайших-соседей\" data-toc-modified-id=\"3.4.-Алгоритм-К-ближайших-соседей-7.4\">3.4. Алгоритм К-ближайших соседей</a></span></li><li><span><a href=\"#3.5.-Выводы-по-исследованию-моделей.\" data-toc-modified-id=\"3.5.-Выводы-по-исследованию-моделей.-7.5\">3.5. Выводы по исследованию моделей.</a></span></li></ul></li><li><span><a href=\"#4.-Итоговое-тестирование-моделей.\" data-toc-modified-id=\"4.-Итоговое-тестирование-моделей.-8\">4. Итоговое тестирование моделей.</a></span><ul class=\"toc-item\"><li><span><a href=\"#4.1.-Сравнение-моделей-по-AUC-ROC-значению.\" data-toc-modified-id=\"4.1.-Сравнение-моделей-по-AUC-ROC-значению.-8.1\">4.1. Сравнение моделей по AUC-ROC значению.</a></span></li><li><span><a href=\"#4.2.-ROC-кривая.\" data-toc-modified-id=\"4.2.-ROC-кривая.-8.2\">4.2. ROC-кривая.</a></span></li></ul></li><li><span><a href=\"#5.-Итоговый-вывод:\" data-toc-modified-id=\"5.-Итоговый-вывод:-9\">5. Итоговый вывод:</a></span><ul class=\"toc-item\"><li><span><a href=\"#Чек-лист-готовности-проекта\" data-toc-modified-id=\"Чек-лист-готовности-проекта-9.1\">Чек-лист готовности проекта</a></span></li></ul></li></ul></div>"
   ]
  },
  {
   "cell_type": "markdown",
   "metadata": {},
   "source": [
    "# Наименование проекта: \"Отток клиентов\""
   ]
  },
  {
   "cell_type": "markdown",
   "metadata": {},
   "source": [
    "Из «Бета-Банка» стали уходить клиенты. Каждый месяц. Немного, но заметно. Банковские маркетологи посчитали: сохранять текущих клиентов дешевле, чем привлекать новых.\n",
    "\n",
    "Нужно спрогнозировать, уйдёт клиент из банка в ближайшее время или нет. Вам предоставлены исторические данные о поведении клиентов и расторжении договоров с банком. \n",
    "\n",
    "Постройте модель с предельно большим значением *F1*-меры. Чтобы сдать проект успешно, нужно довести метрику до 0.59. Проверьте *F1*-меру на тестовой выборке самостоятельно.\n",
    "\n",
    "Дополнительно измеряйте *AUC-ROC*, сравнивайте её значение с *F1*-мерой.\n",
    "\n",
    "Источник данных: [https://www.kaggle.com/barelydedicated/bank-customer-churn-modeling](https://www.kaggle.com/barelydedicated/bank-customer-churn-modeling)"
   ]
  },
  {
   "cell_type": "markdown",
   "metadata": {},
   "source": [
    "# План проекта:\n",
    "- 1. Загрузка и подготовка данных\n",
    "- 2. Исследование баланса классов, обучение модели без учета дисбаланса для дальнейшего сравнения.\n",
    "- 3. Поиск наилучшей модели, с учетом дисбаланса классов.\n",
    "- 4. Проведение финального тестирования.\n",
    "- 5. Итоговый вывод.\n",
    "\n",
    "# Описание данных:\n",
    "- **Признаки:**\n",
    "    - *RowNumber* — индекс строки в данных\n",
    "    - *CustomerId* — уникальный идентификатор клиента\n",
    "    - *Surname* — фамилия\n",
    "    - *CreditScore* — кредитный рейтинг\n",
    "    - *Geography* — страна проживания\n",
    "    - *Gender* — пол\n",
    "    - *Age* — возраст\n",
    "    - *Tenure* — сколько лет человек является клиентом банка\n",
    "    - *Balance* — баланс на счёте\n",
    "    - *NumOfProducts* — количество продуктов банка, используемых клиентом\n",
    "    - *HasCrCard* — наличие кредитной карты\n",
    "    - *IsActiveMember* — активность клиента\n",
    "    - *EstimatedSalary* — предполагаемая зарплата\n",
    "\n",
    "- **Целевой признак:**\n",
    "    - Exited — факт ухода клиента"
   ]
  },
  {
   "cell_type": "markdown",
   "metadata": {},
   "source": [
    "# Подключение библиотек:"
   ]
  },
  {
   "cell_type": "code",
   "execution_count": 55,
   "metadata": {},
   "outputs": [],
   "source": [
    "import warnings; warnings.filterwarnings(\"ignore\", category=Warning)\n",
    "import pandas as pd\n",
    "import matplotlib.pyplot as plt\n",
    "\n",
    "4\n",
    "from sklearn.model_selection import GridSearchCV\n",
    "from sklearn.metrics import make_scorer\n",
    "\n",
    "from sklearn.tree import DecisionTreeClassifier\n",
    "from sklearn.linear_model import LogisticRegression\n",
    "from sklearn.ensemble import RandomForestClassifier\n",
    "from sklearn.neighbors import KNeighborsClassifier\n",
    "\n",
    "from sklearn.preprocessing import StandardScaler\n",
    "\n",
    "from sklearn.utils import shuffle\n",
    "\n",
    "from sklearn.metrics import accuracy_score\n",
    "from sklearn.metrics import precision_score\n",
    "from sklearn.metrics import recall_score\n",
    "from sklearn.metrics import f1_score\n",
    "from sklearn.metrics import roc_curve\n",
    "from sklearn.metrics import roc_auc_score"
   ]
  },
  {
   "cell_type": "markdown",
   "metadata": {},
   "source": [
    "# 1. Подготовка данных"
   ]
  },
  {
   "cell_type": "markdown",
   "metadata": {},
   "source": [
    "## 1.1. Загрузка датасета и просмотр общей информации"
   ]
  },
  {
   "cell_type": "code",
   "execution_count": 56,
   "metadata": {
    "scrolled": true
   },
   "outputs": [
    {
     "data": {
      "text/html": [
       "<div>\n",
       "<style scoped>\n",
       "    .dataframe tbody tr th:only-of-type {\n",
       "        vertical-align: middle;\n",
       "    }\n",
       "\n",
       "    .dataframe tbody tr th {\n",
       "        vertical-align: top;\n",
       "    }\n",
       "\n",
       "    .dataframe thead th {\n",
       "        text-align: right;\n",
       "    }\n",
       "</style>\n",
       "<table border=\"1\" class=\"dataframe\">\n",
       "  <thead>\n",
       "    <tr style=\"text-align: right;\">\n",
       "      <th></th>\n",
       "      <th>RowNumber</th>\n",
       "      <th>CustomerId</th>\n",
       "      <th>Surname</th>\n",
       "      <th>CreditScore</th>\n",
       "      <th>Geography</th>\n",
       "      <th>Gender</th>\n",
       "      <th>Age</th>\n",
       "      <th>Tenure</th>\n",
       "      <th>Balance</th>\n",
       "      <th>NumOfProducts</th>\n",
       "      <th>HasCrCard</th>\n",
       "      <th>IsActiveMember</th>\n",
       "      <th>EstimatedSalary</th>\n",
       "      <th>Exited</th>\n",
       "    </tr>\n",
       "  </thead>\n",
       "  <tbody>\n",
       "    <tr>\n",
       "      <td>0</td>\n",
       "      <td>1</td>\n",
       "      <td>15634602</td>\n",
       "      <td>Hargrave</td>\n",
       "      <td>619</td>\n",
       "      <td>France</td>\n",
       "      <td>Female</td>\n",
       "      <td>42</td>\n",
       "      <td>2.0</td>\n",
       "      <td>0.00</td>\n",
       "      <td>1</td>\n",
       "      <td>1</td>\n",
       "      <td>1</td>\n",
       "      <td>101348.88</td>\n",
       "      <td>1</td>\n",
       "    </tr>\n",
       "    <tr>\n",
       "      <td>1</td>\n",
       "      <td>2</td>\n",
       "      <td>15647311</td>\n",
       "      <td>Hill</td>\n",
       "      <td>608</td>\n",
       "      <td>Spain</td>\n",
       "      <td>Female</td>\n",
       "      <td>41</td>\n",
       "      <td>1.0</td>\n",
       "      <td>83807.86</td>\n",
       "      <td>1</td>\n",
       "      <td>0</td>\n",
       "      <td>1</td>\n",
       "      <td>112542.58</td>\n",
       "      <td>0</td>\n",
       "    </tr>\n",
       "    <tr>\n",
       "      <td>2</td>\n",
       "      <td>3</td>\n",
       "      <td>15619304</td>\n",
       "      <td>Onio</td>\n",
       "      <td>502</td>\n",
       "      <td>France</td>\n",
       "      <td>Female</td>\n",
       "      <td>42</td>\n",
       "      <td>8.0</td>\n",
       "      <td>159660.80</td>\n",
       "      <td>3</td>\n",
       "      <td>1</td>\n",
       "      <td>0</td>\n",
       "      <td>113931.57</td>\n",
       "      <td>1</td>\n",
       "    </tr>\n",
       "    <tr>\n",
       "      <td>3</td>\n",
       "      <td>4</td>\n",
       "      <td>15701354</td>\n",
       "      <td>Boni</td>\n",
       "      <td>699</td>\n",
       "      <td>France</td>\n",
       "      <td>Female</td>\n",
       "      <td>39</td>\n",
       "      <td>1.0</td>\n",
       "      <td>0.00</td>\n",
       "      <td>2</td>\n",
       "      <td>0</td>\n",
       "      <td>0</td>\n",
       "      <td>93826.63</td>\n",
       "      <td>0</td>\n",
       "    </tr>\n",
       "    <tr>\n",
       "      <td>4</td>\n",
       "      <td>5</td>\n",
       "      <td>15737888</td>\n",
       "      <td>Mitchell</td>\n",
       "      <td>850</td>\n",
       "      <td>Spain</td>\n",
       "      <td>Female</td>\n",
       "      <td>43</td>\n",
       "      <td>2.0</td>\n",
       "      <td>125510.82</td>\n",
       "      <td>1</td>\n",
       "      <td>1</td>\n",
       "      <td>1</td>\n",
       "      <td>79084.10</td>\n",
       "      <td>0</td>\n",
       "    </tr>\n",
       "    <tr>\n",
       "      <td>5</td>\n",
       "      <td>6</td>\n",
       "      <td>15574012</td>\n",
       "      <td>Chu</td>\n",
       "      <td>645</td>\n",
       "      <td>Spain</td>\n",
       "      <td>Male</td>\n",
       "      <td>44</td>\n",
       "      <td>8.0</td>\n",
       "      <td>113755.78</td>\n",
       "      <td>2</td>\n",
       "      <td>1</td>\n",
       "      <td>0</td>\n",
       "      <td>149756.71</td>\n",
       "      <td>1</td>\n",
       "    </tr>\n",
       "    <tr>\n",
       "      <td>6</td>\n",
       "      <td>7</td>\n",
       "      <td>15592531</td>\n",
       "      <td>Bartlett</td>\n",
       "      <td>822</td>\n",
       "      <td>France</td>\n",
       "      <td>Male</td>\n",
       "      <td>50</td>\n",
       "      <td>7.0</td>\n",
       "      <td>0.00</td>\n",
       "      <td>2</td>\n",
       "      <td>1</td>\n",
       "      <td>1</td>\n",
       "      <td>10062.80</td>\n",
       "      <td>0</td>\n",
       "    </tr>\n",
       "    <tr>\n",
       "      <td>7</td>\n",
       "      <td>8</td>\n",
       "      <td>15656148</td>\n",
       "      <td>Obinna</td>\n",
       "      <td>376</td>\n",
       "      <td>Germany</td>\n",
       "      <td>Female</td>\n",
       "      <td>29</td>\n",
       "      <td>4.0</td>\n",
       "      <td>115046.74</td>\n",
       "      <td>4</td>\n",
       "      <td>1</td>\n",
       "      <td>0</td>\n",
       "      <td>119346.88</td>\n",
       "      <td>1</td>\n",
       "    </tr>\n",
       "    <tr>\n",
       "      <td>8</td>\n",
       "      <td>9</td>\n",
       "      <td>15792365</td>\n",
       "      <td>He</td>\n",
       "      <td>501</td>\n",
       "      <td>France</td>\n",
       "      <td>Male</td>\n",
       "      <td>44</td>\n",
       "      <td>4.0</td>\n",
       "      <td>142051.07</td>\n",
       "      <td>2</td>\n",
       "      <td>0</td>\n",
       "      <td>1</td>\n",
       "      <td>74940.50</td>\n",
       "      <td>0</td>\n",
       "    </tr>\n",
       "    <tr>\n",
       "      <td>9</td>\n",
       "      <td>10</td>\n",
       "      <td>15592389</td>\n",
       "      <td>H?</td>\n",
       "      <td>684</td>\n",
       "      <td>France</td>\n",
       "      <td>Male</td>\n",
       "      <td>27</td>\n",
       "      <td>2.0</td>\n",
       "      <td>134603.88</td>\n",
       "      <td>1</td>\n",
       "      <td>1</td>\n",
       "      <td>1</td>\n",
       "      <td>71725.73</td>\n",
       "      <td>0</td>\n",
       "    </tr>\n",
       "  </tbody>\n",
       "</table>\n",
       "</div>"
      ],
      "text/plain": [
       "   RowNumber  CustomerId   Surname  CreditScore Geography  Gender  Age  \\\n",
       "0          1    15634602  Hargrave          619    France  Female   42   \n",
       "1          2    15647311      Hill          608     Spain  Female   41   \n",
       "2          3    15619304      Onio          502    France  Female   42   \n",
       "3          4    15701354      Boni          699    France  Female   39   \n",
       "4          5    15737888  Mitchell          850     Spain  Female   43   \n",
       "5          6    15574012       Chu          645     Spain    Male   44   \n",
       "6          7    15592531  Bartlett          822    France    Male   50   \n",
       "7          8    15656148    Obinna          376   Germany  Female   29   \n",
       "8          9    15792365        He          501    France    Male   44   \n",
       "9         10    15592389        H?          684    France    Male   27   \n",
       "\n",
       "   Tenure    Balance  NumOfProducts  HasCrCard  IsActiveMember  \\\n",
       "0     2.0       0.00              1          1               1   \n",
       "1     1.0   83807.86              1          0               1   \n",
       "2     8.0  159660.80              3          1               0   \n",
       "3     1.0       0.00              2          0               0   \n",
       "4     2.0  125510.82              1          1               1   \n",
       "5     8.0  113755.78              2          1               0   \n",
       "6     7.0       0.00              2          1               1   \n",
       "7     4.0  115046.74              4          1               0   \n",
       "8     4.0  142051.07              2          0               1   \n",
       "9     2.0  134603.88              1          1               1   \n",
       "\n",
       "   EstimatedSalary  Exited  \n",
       "0        101348.88       1  \n",
       "1        112542.58       0  \n",
       "2        113931.57       1  \n",
       "3         93826.63       0  \n",
       "4         79084.10       0  \n",
       "5        149756.71       1  \n",
       "6         10062.80       0  \n",
       "7        119346.88       1  \n",
       "8         74940.50       0  \n",
       "9         71725.73       0  "
      ]
     },
     "metadata": {},
     "output_type": "display_data"
    }
   ],
   "source": [
    "df = pd.read_csv('/datasets/Churn.csv')\n",
    "\n",
    "display(df.head(10))"
   ]
  },
  {
   "cell_type": "code",
   "execution_count": 57,
   "metadata": {},
   "outputs": [
    {
     "name": "stdout",
     "output_type": "stream",
     "text": [
      "<class 'pandas.core.frame.DataFrame'>\n",
      "RangeIndex: 10000 entries, 0 to 9999\n",
      "Data columns (total 14 columns):\n",
      "RowNumber          10000 non-null int64\n",
      "CustomerId         10000 non-null int64\n",
      "Surname            10000 non-null object\n",
      "CreditScore        10000 non-null int64\n",
      "Geography          10000 non-null object\n",
      "Gender             10000 non-null object\n",
      "Age                10000 non-null int64\n",
      "Tenure             9091 non-null float64\n",
      "Balance            10000 non-null float64\n",
      "NumOfProducts      10000 non-null int64\n",
      "HasCrCard          10000 non-null int64\n",
      "IsActiveMember     10000 non-null int64\n",
      "EstimatedSalary    10000 non-null float64\n",
      "Exited             10000 non-null int64\n",
      "dtypes: float64(3), int64(8), object(3)\n",
      "memory usage: 1.1+ MB\n"
     ]
    },
    {
     "data": {
      "text/plain": [
       "None"
      ]
     },
     "metadata": {},
     "output_type": "display_data"
    }
   ],
   "source": [
    "display(df.info())"
   ]
  },
  {
   "cell_type": "markdown",
   "metadata": {},
   "source": [
    "## 1.2. Обработка пропусков.\n",
    "\n",
    "Видим что наблюдаются пропуски в столбце Tenure, для их обработки сначала взглянем на уникальные значения в этом столбце и долю этих значений."
   ]
  },
  {
   "cell_type": "code",
   "execution_count": 58,
   "metadata": {},
   "outputs": [
    {
     "data": {
      "text/plain": [
       "1.0     0.104719\n",
       "2.0     0.104499\n",
       "8.0     0.102629\n",
       "3.0     0.102079\n",
       "5.0     0.101969\n",
       "7.0     0.101749\n",
       "4.0     0.097349\n",
       "9.0     0.097019\n",
       "6.0     0.096909\n",
       "10.0    0.049060\n",
       "0.0     0.042020\n",
       "Name: Tenure, dtype: float64"
      ]
     },
     "execution_count": 58,
     "metadata": {},
     "output_type": "execute_result"
    }
   ],
   "source": [
    "df['Tenure'].value_counts(normalize = True)"
   ]
  },
  {
   "cell_type": "markdown",
   "metadata": {},
   "source": [
    "Видим, что доля людей, которые являются клиентом банка 10 лет или меньше года, существенно ниже чем доли остальных людей. Заполнять пропуски медианой будет нецелесообразно, поэтому лучше будет равномерно распределить пропуски по группам. Для этого напишем функцию, которая на входе будет принимать лист с уникальными значениями того, сколько лет человек является клиентов банка, а на выходе равномерно распределит пропуски между ними и выведет на экран обновленные доли уникальных значений в столбце 'Tenure'."
   ]
  },
  {
   "cell_type": "code",
   "execution_count": 59,
   "metadata": {
    "scrolled": true
   },
   "outputs": [
    {
     "name": "stdout",
     "output_type": "stream",
     "text": [
      "1.0     0.0952\n",
      "2.0     0.0950\n",
      "8.0     0.0933\n",
      "3.0     0.0928\n",
      "5.0     0.0927\n",
      "7.0     0.0925\n",
      "9.0     0.0891\n",
      "10.0    0.0891\n",
      "6.0     0.0891\n",
      "4.0     0.0891\n",
      "0.0     0.0821\n",
      "Name: Tenure, dtype: float64\n",
      "Количество пропущенных значений в столбце \"Tenure\" = 0\n"
     ]
    }
   ],
   "source": [
    "value_list = [4.0, 9.0, 6.0, 10.0, 0.0]                              \n",
    "def fill_tenure(value_list):\n",
    "    for count in range(len(value_list)):\n",
    "        limit = int(round(len(df) * 0.0891 - len(df[df['Tenure'] == value_list[count]]), 0))\n",
    "        df['Tenure'] = df['Tenure'].fillna(value_list[count], limit = limit)\n",
    "    print(df['Tenure'].value_counts(normalize = True))\n",
    "    print('Количество пропущенных значений в столбце \"Tenure\" =', len(df[df['Tenure'].isna() == True]))\n",
    "\n",
    "fill_tenure(value_list)"
   ]
  },
  {
   "cell_type": "markdown",
   "metadata": {},
   "source": [
    "Наблюдаем, что пропущенные значения были успешно заполнены, и доли уникальных значений распределились равномерно. Теперь заменим тип данных в этом столбце с float64 на int64."
   ]
  },
  {
   "cell_type": "code",
   "execution_count": 60,
   "metadata": {},
   "outputs": [
    {
     "name": "stdout",
     "output_type": "stream",
     "text": [
      "Тип данных в столбце \"Tenure\" - int64\n"
     ]
    }
   ],
   "source": [
    "df['Tenure'] = df['Tenure'].astype('int')\n",
    "print('Тип данных в столбце \"Tenure\" -', df['Tenure'].dtypes)"
   ]
  },
  {
   "cell_type": "markdown",
   "metadata": {},
   "source": [
    "Предобработка данных в столбце 'Tenure' завершена, переходим к следующему подэтапу."
   ]
  },
  {
   "cell_type": "markdown",
   "metadata": {},
   "source": [
    "## 1.3. Удаление лишних столбцов\n",
    "\n",
    "Мы заметили что столбцы 'RowNumber' и 'Surname' мы можем отбросить за ненадобностью, также мы можем удалить столбец 'CustomerID' для полного обезличивания нашего датасета."
   ]
  },
  {
   "cell_type": "code",
   "execution_count": 61,
   "metadata": {},
   "outputs": [
    {
     "name": "stdout",
     "output_type": "stream",
     "text": [
      "Столбцы \"Surname\", \"RowNumber\", \"CustomerID\" успешно удалены.\n"
     ]
    }
   ],
   "source": [
    "df = df.drop(['Surname', 'RowNumber', 'CustomerId'], axis = 1)\n",
    "print('Столбцы \"Surname\", \"RowNumber\", \"CustomerID\" успешно удалены.')"
   ]
  },
  {
   "cell_type": "markdown",
   "metadata": {},
   "source": [
    "## 1.4. OHE.\n",
    "\n",
    "Так как у нас присутствует текстовый столбец в виде 'Geography' - в котором указана страна проживания, а также присутствует неоднозначный столбец 'Gender' в котором могут быть указаны больше чем два класса, поэтому, нам необходимо проверить значения в их столбцах и при необходимости заменить их на числовые значения для проведения исследования моделей. В первую очередь, нам необходимо взглянуть на то, сколько уникальных значений присутствует в этих столбцах."
   ]
  },
  {
   "cell_type": "code",
   "execution_count": 62,
   "metadata": {},
   "outputs": [
    {
     "data": {
      "text/html": [
       "<div>\n",
       "<style scoped>\n",
       "    .dataframe tbody tr th:only-of-type {\n",
       "        vertical-align: middle;\n",
       "    }\n",
       "\n",
       "    .dataframe tbody tr th {\n",
       "        vertical-align: top;\n",
       "    }\n",
       "\n",
       "    .dataframe thead th {\n",
       "        text-align: right;\n",
       "    }\n",
       "</style>\n",
       "<table border=\"1\" class=\"dataframe\">\n",
       "  <thead>\n",
       "    <tr style=\"text-align: right;\">\n",
       "      <th></th>\n",
       "      <th>CreditScore</th>\n",
       "      <th>Geography</th>\n",
       "      <th>Gender</th>\n",
       "      <th>Age</th>\n",
       "      <th>Tenure</th>\n",
       "      <th>Balance</th>\n",
       "      <th>NumOfProducts</th>\n",
       "      <th>HasCrCard</th>\n",
       "      <th>IsActiveMember</th>\n",
       "      <th>EstimatedSalary</th>\n",
       "      <th>Exited</th>\n",
       "    </tr>\n",
       "  </thead>\n",
       "  <tbody>\n",
       "    <tr>\n",
       "      <td>0</td>\n",
       "      <td>619</td>\n",
       "      <td>France</td>\n",
       "      <td>Female</td>\n",
       "      <td>42</td>\n",
       "      <td>2</td>\n",
       "      <td>0.0</td>\n",
       "      <td>1</td>\n",
       "      <td>1</td>\n",
       "      <td>1</td>\n",
       "      <td>101348.88</td>\n",
       "      <td>1</td>\n",
       "    </tr>\n",
       "  </tbody>\n",
       "</table>\n",
       "</div>"
      ],
      "text/plain": [
       "   CreditScore Geography  Gender  Age  Tenure  Balance  NumOfProducts  \\\n",
       "0          619    France  Female   42       2      0.0              1   \n",
       "\n",
       "   HasCrCard  IsActiveMember  EstimatedSalary  Exited  \n",
       "0          1               1        101348.88       1  "
      ]
     },
     "metadata": {},
     "output_type": "display_data"
    },
    {
     "data": {
      "text/html": [
       "<div>\n",
       "<style scoped>\n",
       "    .dataframe tbody tr th:only-of-type {\n",
       "        vertical-align: middle;\n",
       "    }\n",
       "\n",
       "    .dataframe tbody tr th {\n",
       "        vertical-align: top;\n",
       "    }\n",
       "\n",
       "    .dataframe thead th {\n",
       "        text-align: right;\n",
       "    }\n",
       "</style>\n",
       "<table border=\"1\" class=\"dataframe\">\n",
       "  <thead>\n",
       "    <tr style=\"text-align: right;\">\n",
       "      <th></th>\n",
       "      <th>CreditScore</th>\n",
       "      <th>Gender</th>\n",
       "      <th>Age</th>\n",
       "      <th>Tenure</th>\n",
       "      <th>Balance</th>\n",
       "      <th>NumOfProducts</th>\n",
       "      <th>HasCrCard</th>\n",
       "      <th>IsActiveMember</th>\n",
       "      <th>EstimatedSalary</th>\n",
       "      <th>Exited</th>\n",
       "      <th>Geography_France</th>\n",
       "      <th>Geography_Germany</th>\n",
       "      <th>Geography_Spain</th>\n",
       "    </tr>\n",
       "  </thead>\n",
       "  <tbody>\n",
       "    <tr>\n",
       "      <td>0</td>\n",
       "      <td>619</td>\n",
       "      <td>Female</td>\n",
       "      <td>42</td>\n",
       "      <td>2</td>\n",
       "      <td>0.0</td>\n",
       "      <td>1</td>\n",
       "      <td>1</td>\n",
       "      <td>1</td>\n",
       "      <td>101348.88</td>\n",
       "      <td>1</td>\n",
       "      <td>1</td>\n",
       "      <td>0</td>\n",
       "      <td>0</td>\n",
       "    </tr>\n",
       "  </tbody>\n",
       "</table>\n",
       "</div>"
      ],
      "text/plain": [
       "   CreditScore  Gender  Age  Tenure  Balance  NumOfProducts  HasCrCard  \\\n",
       "0          619  Female   42       2      0.0              1          1   \n",
       "\n",
       "   IsActiveMember  EstimatedSalary  Exited  Geography_France  \\\n",
       "0               1        101348.88       1                 1   \n",
       "\n",
       "   Geography_Germany  Geography_Spain  \n",
       "0                  0                0  "
      ]
     },
     "execution_count": 62,
     "metadata": {},
     "output_type": "execute_result"
    }
   ],
   "source": [
    "display(df.head(1))\n",
    "\n",
    "df = pd.get_dummies(df, prefix = ['Geography'], columns = ['Geography'])\n",
    "\n",
    "df.head(1)"
   ]
  },
  {
   "cell_type": "markdown",
   "metadata": {},
   "source": [
    "Видим что в обоих столбцах уникальных значений не более чем 2-3, поэтому смело можем воспользоваться методом pd.get_dummies без опасения попадения в дамми-ловушку."
   ]
  },
  {
   "cell_type": "code",
   "execution_count": 63,
   "metadata": {},
   "outputs": [
    {
     "data": {
      "text/html": [
       "<div>\n",
       "<style scoped>\n",
       "    .dataframe tbody tr th:only-of-type {\n",
       "        vertical-align: middle;\n",
       "    }\n",
       "\n",
       "    .dataframe tbody tr th {\n",
       "        vertical-align: top;\n",
       "    }\n",
       "\n",
       "    .dataframe thead th {\n",
       "        text-align: right;\n",
       "    }\n",
       "</style>\n",
       "<table border=\"1\" class=\"dataframe\">\n",
       "  <thead>\n",
       "    <tr style=\"text-align: right;\">\n",
       "      <th></th>\n",
       "      <th>CreditScore</th>\n",
       "      <th>Age</th>\n",
       "      <th>Tenure</th>\n",
       "      <th>Balance</th>\n",
       "      <th>NumOfProducts</th>\n",
       "      <th>HasCrCard</th>\n",
       "      <th>IsActiveMember</th>\n",
       "      <th>EstimatedSalary</th>\n",
       "      <th>Exited</th>\n",
       "      <th>Geography_France</th>\n",
       "      <th>Geography_Germany</th>\n",
       "      <th>Geography_Spain</th>\n",
       "      <th>Gender_Male</th>\n",
       "    </tr>\n",
       "  </thead>\n",
       "  <tbody>\n",
       "    <tr>\n",
       "      <td>0</td>\n",
       "      <td>619</td>\n",
       "      <td>42</td>\n",
       "      <td>2</td>\n",
       "      <td>0.00</td>\n",
       "      <td>1</td>\n",
       "      <td>1</td>\n",
       "      <td>1</td>\n",
       "      <td>101348.88</td>\n",
       "      <td>1</td>\n",
       "      <td>1</td>\n",
       "      <td>0</td>\n",
       "      <td>0</td>\n",
       "      <td>0</td>\n",
       "    </tr>\n",
       "    <tr>\n",
       "      <td>1</td>\n",
       "      <td>608</td>\n",
       "      <td>41</td>\n",
       "      <td>1</td>\n",
       "      <td>83807.86</td>\n",
       "      <td>1</td>\n",
       "      <td>0</td>\n",
       "      <td>1</td>\n",
       "      <td>112542.58</td>\n",
       "      <td>0</td>\n",
       "      <td>0</td>\n",
       "      <td>0</td>\n",
       "      <td>1</td>\n",
       "      <td>0</td>\n",
       "    </tr>\n",
       "    <tr>\n",
       "      <td>2</td>\n",
       "      <td>502</td>\n",
       "      <td>42</td>\n",
       "      <td>8</td>\n",
       "      <td>159660.80</td>\n",
       "      <td>3</td>\n",
       "      <td>1</td>\n",
       "      <td>0</td>\n",
       "      <td>113931.57</td>\n",
       "      <td>1</td>\n",
       "      <td>1</td>\n",
       "      <td>0</td>\n",
       "      <td>0</td>\n",
       "      <td>0</td>\n",
       "    </tr>\n",
       "    <tr>\n",
       "      <td>3</td>\n",
       "      <td>699</td>\n",
       "      <td>39</td>\n",
       "      <td>1</td>\n",
       "      <td>0.00</td>\n",
       "      <td>2</td>\n",
       "      <td>0</td>\n",
       "      <td>0</td>\n",
       "      <td>93826.63</td>\n",
       "      <td>0</td>\n",
       "      <td>1</td>\n",
       "      <td>0</td>\n",
       "      <td>0</td>\n",
       "      <td>0</td>\n",
       "    </tr>\n",
       "    <tr>\n",
       "      <td>4</td>\n",
       "      <td>850</td>\n",
       "      <td>43</td>\n",
       "      <td>2</td>\n",
       "      <td>125510.82</td>\n",
       "      <td>1</td>\n",
       "      <td>1</td>\n",
       "      <td>1</td>\n",
       "      <td>79084.10</td>\n",
       "      <td>0</td>\n",
       "      <td>0</td>\n",
       "      <td>0</td>\n",
       "      <td>1</td>\n",
       "      <td>0</td>\n",
       "    </tr>\n",
       "  </tbody>\n",
       "</table>\n",
       "</div>"
      ],
      "text/plain": [
       "   CreditScore  Age  Tenure    Balance  NumOfProducts  HasCrCard  \\\n",
       "0          619   42       2       0.00              1          1   \n",
       "1          608   41       1   83807.86              1          0   \n",
       "2          502   42       8  159660.80              3          1   \n",
       "3          699   39       1       0.00              2          0   \n",
       "4          850   43       2  125510.82              1          1   \n",
       "\n",
       "   IsActiveMember  EstimatedSalary  Exited  Geography_France  \\\n",
       "0               1        101348.88       1                 1   \n",
       "1               1        112542.58       0                 0   \n",
       "2               0        113931.57       1                 1   \n",
       "3               0         93826.63       0                 1   \n",
       "4               1         79084.10       0                 0   \n",
       "\n",
       "   Geography_Germany  Geography_Spain  Gender_Male  \n",
       "0                  0                0            0  \n",
       "1                  0                1            0  \n",
       "2                  0                0            0  \n",
       "3                  0                0            0  \n",
       "4                  0                1            0  "
      ]
     },
     "execution_count": 63,
     "metadata": {},
     "output_type": "execute_result"
    }
   ],
   "source": [
    "df = pd.get_dummies(df, drop_first = True)\n",
    "df.head(5)"
   ]
  },
  {
   "cell_type": "markdown",
   "metadata": {},
   "source": [
    "Видим что у нас образовался лишний столбец 'Gender_Male', соответственно, избавимся от него, и переименуем столбец Gender_Female в Gender, в котором значение 0 будет соответствовать принадлежности к мужскому полу, а значение 0 будет соответствовать принадлжености к женскому полу."
   ]
  },
  {
   "cell_type": "code",
   "execution_count": 64,
   "metadata": {},
   "outputs": [
    {
     "data": {
      "text/html": [
       "<div>\n",
       "<style scoped>\n",
       "    .dataframe tbody tr th:only-of-type {\n",
       "        vertical-align: middle;\n",
       "    }\n",
       "\n",
       "    .dataframe tbody tr th {\n",
       "        vertical-align: top;\n",
       "    }\n",
       "\n",
       "    .dataframe thead th {\n",
       "        text-align: right;\n",
       "    }\n",
       "</style>\n",
       "<table border=\"1\" class=\"dataframe\">\n",
       "  <thead>\n",
       "    <tr style=\"text-align: right;\">\n",
       "      <th></th>\n",
       "      <th>CreditScore</th>\n",
       "      <th>Age</th>\n",
       "      <th>Tenure</th>\n",
       "      <th>Balance</th>\n",
       "      <th>NumOfProducts</th>\n",
       "      <th>HasCrCard</th>\n",
       "      <th>IsActiveMember</th>\n",
       "      <th>EstimatedSalary</th>\n",
       "      <th>Exited</th>\n",
       "      <th>Geography_France</th>\n",
       "      <th>Geography_Germany</th>\n",
       "      <th>Geography_Spain</th>\n",
       "      <th>Gender</th>\n",
       "    </tr>\n",
       "  </thead>\n",
       "  <tbody>\n",
       "    <tr>\n",
       "      <td>0</td>\n",
       "      <td>619</td>\n",
       "      <td>42</td>\n",
       "      <td>2</td>\n",
       "      <td>0.00</td>\n",
       "      <td>1</td>\n",
       "      <td>1</td>\n",
       "      <td>1</td>\n",
       "      <td>101348.88</td>\n",
       "      <td>1</td>\n",
       "      <td>1</td>\n",
       "      <td>0</td>\n",
       "      <td>0</td>\n",
       "      <td>0</td>\n",
       "    </tr>\n",
       "    <tr>\n",
       "      <td>1</td>\n",
       "      <td>608</td>\n",
       "      <td>41</td>\n",
       "      <td>1</td>\n",
       "      <td>83807.86</td>\n",
       "      <td>1</td>\n",
       "      <td>0</td>\n",
       "      <td>1</td>\n",
       "      <td>112542.58</td>\n",
       "      <td>0</td>\n",
       "      <td>0</td>\n",
       "      <td>0</td>\n",
       "      <td>1</td>\n",
       "      <td>0</td>\n",
       "    </tr>\n",
       "    <tr>\n",
       "      <td>2</td>\n",
       "      <td>502</td>\n",
       "      <td>42</td>\n",
       "      <td>8</td>\n",
       "      <td>159660.80</td>\n",
       "      <td>3</td>\n",
       "      <td>1</td>\n",
       "      <td>0</td>\n",
       "      <td>113931.57</td>\n",
       "      <td>1</td>\n",
       "      <td>1</td>\n",
       "      <td>0</td>\n",
       "      <td>0</td>\n",
       "      <td>0</td>\n",
       "    </tr>\n",
       "    <tr>\n",
       "      <td>3</td>\n",
       "      <td>699</td>\n",
       "      <td>39</td>\n",
       "      <td>1</td>\n",
       "      <td>0.00</td>\n",
       "      <td>2</td>\n",
       "      <td>0</td>\n",
       "      <td>0</td>\n",
       "      <td>93826.63</td>\n",
       "      <td>0</td>\n",
       "      <td>1</td>\n",
       "      <td>0</td>\n",
       "      <td>0</td>\n",
       "      <td>0</td>\n",
       "    </tr>\n",
       "    <tr>\n",
       "      <td>4</td>\n",
       "      <td>850</td>\n",
       "      <td>43</td>\n",
       "      <td>2</td>\n",
       "      <td>125510.82</td>\n",
       "      <td>1</td>\n",
       "      <td>1</td>\n",
       "      <td>1</td>\n",
       "      <td>79084.10</td>\n",
       "      <td>0</td>\n",
       "      <td>0</td>\n",
       "      <td>0</td>\n",
       "      <td>1</td>\n",
       "      <td>0</td>\n",
       "    </tr>\n",
       "  </tbody>\n",
       "</table>\n",
       "</div>"
      ],
      "text/plain": [
       "   CreditScore  Age  Tenure    Balance  NumOfProducts  HasCrCard  \\\n",
       "0          619   42       2       0.00              1          1   \n",
       "1          608   41       1   83807.86              1          0   \n",
       "2          502   42       8  159660.80              3          1   \n",
       "3          699   39       1       0.00              2          0   \n",
       "4          850   43       2  125510.82              1          1   \n",
       "\n",
       "   IsActiveMember  EstimatedSalary  Exited  Geography_France  \\\n",
       "0               1        101348.88       1                 1   \n",
       "1               1        112542.58       0                 0   \n",
       "2               0        113931.57       1                 1   \n",
       "3               0         93826.63       0                 1   \n",
       "4               1         79084.10       0                 0   \n",
       "\n",
       "   Geography_Germany  Geography_Spain  Gender  \n",
       "0                  0                0       0  \n",
       "1                  0                1       0  \n",
       "2                  0                0       0  \n",
       "3                  0                0       0  \n",
       "4                  0                1       0  "
      ]
     },
     "execution_count": 64,
     "metadata": {},
     "output_type": "execute_result"
    }
   ],
   "source": [
    "df = df.rename(columns={'Gender_Male' : 'Gender'})\n",
    "df.head(5)"
   ]
  },
  {
   "cell_type": "markdown",
   "metadata": {},
   "source": [
    "По итогам предобработки данных, были выполнены следующие шаги:\n",
    "    - Проведен первичный анализ данных, выявлены пропуски в столбце 'Tenure'.\n",
    "    - Удалены столбцы 'Surname' и 'RowNumber' за ненадобностью.\n",
    "    \n",
    "Теперь перейдем к масштабированию числовых признаков и разделению нашего датасета на три выборки: обучающую/тестовую/валидационную."
   ]
  },
  {
   "cell_type": "markdown",
   "metadata": {},
   "source": [
    "## 1.5. Масштабирование признаков"
   ]
  },
  {
   "cell_type": "code",
   "execution_count": 65,
   "metadata": {},
   "outputs": [],
   "source": [
    "random_state = 11111\n",
    "x_par = df.drop(['Exited'], axis = 1)\n",
    "y_tar = df['Exited']"
   ]
  },
  {
   "cell_type": "markdown",
   "metadata": {},
   "source": [
    "Масштабирование признаков успешно выполнено, переходим к разделению датасета на выборки:"
   ]
  },
  {
   "cell_type": "markdown",
   "metadata": {},
   "source": [
    "# 2. Разделение датасета на выборки и борьба с дисбалансом.\n",
    "\n",
    "## 2.1. Разделение датасета.\n",
    "\n",
    "Для разделения датасета на выборки, напишем функцию, которая на входе будет получать датафрейм с признаками и датафрейм с целевым признаком, после этого она разделит выборки на тренировочную/валидационную/тестовую, и выведет на экран долю класса 1 (т.е. ушедших клиентов) по каждой выборке."
   ]
  },
  {
   "cell_type": "code",
   "execution_count": 66,
   "metadata": {},
   "outputs": [],
   "source": [
    "def train_valid_test_splitter(x_par, y_tar):\n",
    "    \n",
    "    text_prints = ['обучающей', 'валидационной', 'тестовой', \n",
    "                   'исходном датасете', 'обучающей выборке', 'валидационной выборке', 'тестовой выборке']\n",
    "    \n",
    "    global x_train, x_valid, x_test, y_train, y_valid, y_test\n",
    "    x_train, x_valid, y_train, y_valid = train_test_split(x_par, y_tar, test_size = 0.4, random_state=random_state)\n",
    "    x_valid, x_test, y_valid, y_test = train_test_split(x_valid, y_valid, test_size = 0.5, random_state = random_state)\n",
    "    \n",
    "    numeric = ['CreditScore', 'Age', 'Tenure', 'Balance', 'NumOfProducts', 'HasCrCard', 'IsActiveMember', 'EstimatedSalary']\n",
    "    \n",
    "    scaler = StandardScaler()\n",
    "    scaler.fit(x_train[numeric])\n",
    "    x_train[numeric] = scaler.transform(x_train[numeric])\n",
    "    x_valid[numeric] = scaler.transform(x_valid[numeric])\n",
    "    x_test[numeric] = scaler.transform(x_test[numeric])\n",
    "    \n",
    "    samples = [x_train, x_valid, x_test, y_tar, y_train, y_valid, y_test]\n",
    "\n",
    "    for count in range (0, 7):\n",
    "        if count < 3:\n",
    "            print('Размер ' + text_prints[count] + ' выборки в % от исходного датасета =', \n",
    "                  round(len(samples[count]) / len(df), 2) * 100, '%')\n",
    "        elif count >= 3:\n",
    "            print('Доля ушедших клиентов в ' + text_prints[count], \n",
    "                  round(len(samples[count][samples[count] == 1]) / len(samples[count]), 2) * 100, '%')"
   ]
  },
  {
   "cell_type": "code",
   "execution_count": 67,
   "metadata": {},
   "outputs": [
    {
     "name": "stdout",
     "output_type": "stream",
     "text": [
      "Размер обучающей выборки в % от исходного датасета = 60.0 %\n",
      "Размер валидационной выборки в % от исходного датасета = 20.0 %\n",
      "Размер тестовой выборки в % от исходного датасета = 20.0 %\n",
      "Доля ушедших клиентов в исходном датасете 20.0 %\n",
      "Доля ушедших клиентов в обучающей выборке 20.0 %\n",
      "Доля ушедших клиентов в валидационной выборке 22.0 %\n",
      "Доля ушедших клиентов в тестовой выборке 20.0 %\n"
     ]
    }
   ],
   "source": [
    "train_valid_test_splitter(x_par, y_tar)"
   ]
  },
  {
   "cell_type": "markdown",
   "metadata": {},
   "source": [
    "После разбиения датасета на выборки, видим что доля ушедших клиентов составляет всего **20-22%**. Соответственно, наблюдается **дисбаланс классов.**\n",
    "\n",
    "Для решения данной проблемы, будем использовать **два метода:**\n",
    "- **\"Upsampling\"** - для увеличения веса в доле ушедших клиентов, \n",
    "- **\"Downsampling\"** - для снижения веса в доле оставшихся клиентов. \n",
    "\n",
    "Для реализации данных методов: \n",
    "- В первую очередь, мы создадим отдельную переменную, в которых рассчитаем во сколько раз доля неушедших клиентов превышает долю ушедших клиентов - **balance rate**, для её дальнейшего применения в upsampling-е. \n",
    "- После этого **напишем функцию**, которая на входе будет получать признаки, целевой признак и balance rate, а на выходе реализует метод upsampling. Для снижения веса в доле оставшихся клиентов будем использовать аналогичный алгоритм. \n",
    "- И в конце, **полученные выборки сохраним в отдельных переменных**, для того, чтобы в дальнейшем провести сравнение между моделями на сбалансированных данных и несбалансированных."
   ]
  },
  {
   "cell_type": "markdown",
   "metadata": {},
   "source": [
    "## 2.2. Борьба с дисбалансом классов.\n",
    "\n",
    "### 2.2.1 Upsampling"
   ]
  },
  {
   "cell_type": "code",
   "execution_count": 68,
   "metadata": {},
   "outputs": [],
   "source": [
    "def balance_rate_calc(y_list, purpose):\n",
    "    balance_rate = []\n",
    "    if purpose == \"upsampling\":\n",
    "        for i in range(len(y_list)):\n",
    "            temp = len(y_list[i][y_list[i] == 0])\n",
    "            balance_rate.append(temp)\n",
    "    elif purpose == \"downsampling\":\n",
    "        for i in range(len(y_list)):\n",
    "            temp = len(y_list[i][y_list[i] == 1])\n",
    "            balance_rate.append(temp)\n",
    "    return balance_rate"
   ]
  },
  {
   "cell_type": "code",
   "execution_count": 69,
   "metadata": {},
   "outputs": [
    {
     "data": {
      "text/plain": [
       "[4794, 1564, 1605]"
      ]
     },
     "metadata": {},
     "output_type": "display_data"
    }
   ],
   "source": [
    "y_list = [y_train, y_valid, y_test]\n",
    "balance_rate = balance_rate_calc(y_list, \"upsampling\")\n",
    "display(balance_rate)"
   ]
  },
  {
   "cell_type": "markdown",
   "metadata": {},
   "source": [
    "Список с долями классов для каждой выборки получен, теперь переходим к реализации \"upsampling\" и \"downsampling\"."
   ]
  },
  {
   "cell_type": "code",
   "execution_count": 70,
   "metadata": {},
   "outputs": [],
   "source": [
    "x_list = [x_train, x_valid, x_test]\n",
    "y_list = [y_train, y_valid, y_test]\n",
    "\n",
    "def sampling(x_list, y_list, purpose):\n",
    "    \n",
    "    for i in range(len(x_list)):\n",
    "        \n",
    "        temp_x_zero, temp_x_one = x_list[i][y_list[i] == 0], x_list[i][y_list[i] == 1]\n",
    "        temp_y_zero, temp_y_one = y_list[i][y_list[i] == 0], y_list[i][y_list[i] == 1]\n",
    "        \n",
    "        if purpose == 'upsampling':\n",
    "            x_list_temp = pd.concat([temp_x_one.sample(balance_rate[i], replace = True, random_state = random_state)] \n",
    "                                    + [temp_x_zero])\n",
    "            y_list_temp = pd.concat([temp_y_one.sample(balance_rate[i], replace = True, random_state = random_state)] \n",
    "                                    + [temp_y_zero])\n",
    "        elif purpose == 'downsampling':\n",
    "            x_list_temp = pd.concat([temp_x_zero.sample(balance_rate[i], replace = True, random_state = random_state)] \n",
    "                                    + [temp_x_one])\n",
    "            y_list_temp = pd.concat([temp_y_zero.sample(balance_rate[i], replace = True, random_state = random_state)] \n",
    "                                    + [temp_y_one])\n",
    "                \n",
    "        x_list[i], y_list[i] = shuffle(x_list_temp, y_list_temp, random_state = random_state)\n",
    "        \n",
    "    return x_list, y_list"
   ]
  },
  {
   "cell_type": "markdown",
   "metadata": {},
   "source": [
    "Функция готова к применению, используем её, проверим правильность, и в случае правильного выполнения сразу же распакуем полученные выборки в новые переменные."
   ]
  },
  {
   "cell_type": "code",
   "execution_count": 71,
   "metadata": {},
   "outputs": [
    {
     "name": "stdout",
     "output_type": "stream",
     "text": [
      "1    0.5\n",
      "0    0.5\n",
      "Name: Exited, dtype: float64\n",
      "1    0.5\n",
      "0    0.5\n",
      "Name: Exited, dtype: float64\n",
      "1    0.5\n",
      "0    0.5\n",
      "Name: Exited, dtype: float64\n"
     ]
    }
   ],
   "source": [
    "x_list, y_list = sampling(x_list, y_list, 'upsampling')\n",
    "\n",
    "for i in range(len(y_list)):\n",
    "    print(y_list[i].value_counts(normalize = True))\n",
    "    \n",
    "x_train_up, x_valid_up, x_test_up = x_list[0], x_list[1], x_list[2]\n",
    "y_train_up, y_valid_up, y_test_up = y_list[0], y_list[1], y_list[2]"
   ]
  },
  {
   "cell_type": "markdown",
   "metadata": {},
   "source": [
    "Выборки сбалансированны с помощью upsampling, работоспобность проверена, аналогичным образом создадим новые переменные, в которых разместим выборки, полученные с помощью downsampling."
   ]
  },
  {
   "cell_type": "markdown",
   "metadata": {},
   "source": [
    "### 2.2.2. Downsampling"
   ]
  },
  {
   "cell_type": "code",
   "execution_count": 72,
   "metadata": {},
   "outputs": [
    {
     "data": {
      "text/plain": [
       "[4794, 1564, 1605]"
      ]
     },
     "metadata": {},
     "output_type": "display_data"
    }
   ],
   "source": [
    "balance_rate = balance_rate_calc(y_list, \"downsampling\")\n",
    "display(balance_rate)"
   ]
  },
  {
   "cell_type": "code",
   "execution_count": 73,
   "metadata": {},
   "outputs": [
    {
     "name": "stdout",
     "output_type": "stream",
     "text": [
      "1    0.5\n",
      "0    0.5\n",
      "Name: Exited, dtype: float64\n",
      "1    0.5\n",
      "0    0.5\n",
      "Name: Exited, dtype: float64\n",
      "1    0.5\n",
      "0    0.5\n",
      "Name: Exited, dtype: float64\n"
     ]
    }
   ],
   "source": [
    "x_list, y_list = sampling(x_list, y_list, 'downsampling')\n",
    "\n",
    "for i in range(len(y_list)):\n",
    "    print(y_list[i].value_counts(normalize = True))\n",
    "\n",
    "x_train_down, x_valid_down, x_test_down = x_list[0], x_list[1], x_list[2]\n",
    "y_train_down, y_valid_down, y_test_down = y_list[0], y_list[1], y_list[2]"
   ]
  },
  {
   "cell_type": "markdown",
   "metadata": {},
   "source": [
    "**Выводы по второму этапу:**\n",
    "- Датасет разделен на тренировочную/валидационную/тестовую выборки, выявили что в нашем датасете наблюдается дисбаланс классов(доля класса 1 составляет всего 20-22%). Для решения данной проблемы использовали upsampling и downsampling.\n",
    "- Проведя upsampling и downsampling получили одну несбалансированную(исходную) выборку, и две сбалансированные.\n",
    "\n",
    "Исследование моделей будем проводить сразу же на трех выборках."
   ]
  },
  {
   "cell_type": "markdown",
   "metadata": {},
   "source": [
    "# 3. Исследование моделей:\n",
    "\n",
    "Исследование моделей, будем проводить используя подбор гиперпараметров с помощью GridSearchCV. Сначала для каждой модели получим наиболее оптимальные гиперпараметры на каждой выборке (включая проведение тройной кросс-валидации), и после этого сравним результаты каждой оптимальной модели друг с другом, для выбора и проведения тестирования на тестовой выборке наилучших моделей с оптимальными гиперпараметрами.\n",
    "\n",
    "Для этого, будем использовать такие модели как:\n",
    "\n",
    "- **Дерево решений** - DecisionTreeClassifier\n",
    "- **Логистическая регрессия** - LogisticRegression\n",
    "- **Случайный лес** - RandomForestClassifier\n",
    "- **Метод ближайших соседей** - KNeighborsClassifier\n",
    "\n",
    "Для более эффективного исследования четырех моделей сразу на трех выборках, **напишем функцию,** которая на входе будет получать список с тренировочными и валидационными выборками (как несбалансированной, так и сбалансированными), наименование используемой модели, и словарь с гиперпараметрами для реализуемой модели. \n",
    "Внутри функция будет выполнять следующие шаги: \n",
    "- **1.** Проведет автоподбор гиперпараметров с помощью GridSearchCV на тренировочных выборках с двойной кросс-валидаций, \n",
    "- **2.** Обучится и предскажет нам результаты на валидационной выборке. \n",
    "- **3.** Рассчитает accuracy_score на тренировочной и валидационной выборке, а также рассчитает точность, полноту и F1-меру для каждой выборки. \n",
    "- **4.** На основе F1-меры функция также проведет выбор наилучшего результата, и в итоге выведет на экран лучший результат F1-меры, наименование модели, используемую выборку, значения accuracy score, точности и полноты. \n",
    "- **5.** Рассчитает затрачиваемое время на выполнение кода, и выведет на экран наиболее оптимальные гиперпараметры."
   ]
  },
  {
   "cell_type": "code",
   "execution_count": 74,
   "metadata": {},
   "outputs": [],
   "source": [
    "xy_train_list = [[x_train, y_train], [x_train_up, y_train_up], [x_train_down, y_train_down]]\n",
    "xy_valid_list = [[x_valid, y_valid], [x_valid_up, y_valid_up], [x_valid_down, y_valid_down]]\n",
    "\n",
    "def model_testing(xy_train_list, xy_valid_list, model_name, parametrs):\n",
    "    \n",
    "    rocauc = make_scorer(roc_auc_score, greater_is_better=True,needs_threshold=True)\n",
    "\n",
    "    \n",
    "    if model_name == DecisionTreeClassifier:\n",
    "        output_model_name = 'Дерево решений'\n",
    "    elif model_name == LogisticRegression:\n",
    "        output_model_name = 'Логистическая регрессия'\n",
    "    elif model_name == RandomForestClassifier:\n",
    "        output_model_name = 'Случайный лес'\n",
    "    elif model_name == KNeighborsClassifier:\n",
    "        output_model_name = 'Алгоритм К-ближайших соседей'\n",
    "    \n",
    "    best_f1 = 0\n",
    "    best_precision = 0\n",
    "    best_recall = 0\n",
    "    best_train_score = 0\n",
    "    best_valid_score = 0\n",
    "    sample_name = \"\"\n",
    "    \n",
    "    for i in range(len(xy_train_list)):\n",
    "        \n",
    "        if output_model_name == 'Алгоритм К-ближайших соседей':\n",
    "            model = model_name()\n",
    "        else:\n",
    "            model = model_name(random_state = random_state)\n",
    "        \n",
    "        grid = GridSearchCV(model, parametrs, cv = 2, scoring = rocauc)\n",
    "        grid.fit(xy_train_list[i][0], xy_train_list[i][1])\n",
    "        \n",
    "        if output_model_name == 'Алгоритм К-ближайших соседей':\n",
    "            test_model = model_name(**grid.best_params_)\n",
    "        else:\n",
    "            test_model = model_name(**grid.best_params_, random_state = random_state)\n",
    "        \n",
    "        test_model.fit(xy_train_list[i][0], xy_train_list[i][1])\n",
    "        model_train_predictions = test_model.predict(xy_train_list[i][0])\n",
    "        model_valid_predictions = test_model.predict(xy_valid_list[i][0])\n",
    "        \n",
    "        train_accuracy_score = accuracy_score(xy_train_list[i][1], model_train_predictions)\n",
    "        valid_accuracy_score = accuracy_score(xy_valid_list[i][1], model_valid_predictions)\n",
    "        precision = precision_score(xy_valid_list[i][1], model_valid_predictions)\n",
    "        recall = recall_score(xy_valid_list[i][1], model_valid_predictions)\n",
    "        f1 = f1_score(xy_valid_list[i][1], model_valid_predictions)\n",
    "        if f1 > best_f1:\n",
    "            best_f1 = f1\n",
    "            best_params = grid.best_params_\n",
    "            if i == 0:\n",
    "                sample_name = \"несбалансированной выборке\"\n",
    "            elif i == 1:\n",
    "                sample_name = \"сбалансированной выборке с помощью Upsampling\"\n",
    "            elif i == 2:\n",
    "                sample_name = \"сбалансированной выборке с помощью Downsampling\"\n",
    "            \n",
    "            best_precision = precision\n",
    "            best_recall = recall\n",
    "            best_train_score = train_accuracy_score\n",
    "            best_valid_score = valid_accuracy_score\n",
    "    print('\\033[1m' +'Наилучший результат модель ' + \"'\" + output_model_name + \"'показывает на \" + sample_name + '\\033[0m')\n",
    "    print('F1-мера -', round(best_f1, 3))\n",
    "    print('Точность -', round(best_precision, 3))\n",
    "    print('Полнота -', round(best_recall, 3))\n",
    "    print('Accuracy Score на обучающей выборке - ', round(train_accuracy_score, 3))\n",
    "    print('Accuracy Score на валидационной выборке - ', round(valid_accuracy_score, 3))\n",
    "    print('Параметры модели:')\n",
    "    print(best_params)"
   ]
  },
  {
   "cell_type": "markdown",
   "metadata": {},
   "source": [
    "## 3.1. Дерево решений."
   ]
  },
  {
   "cell_type": "code",
   "execution_count": 75,
   "metadata": {},
   "outputs": [
    {
     "name": "stdout",
     "output_type": "stream",
     "text": [
      "\u001b[1mНаилучший результат модель 'Дерево решений'показывает на сбалансированной выборке с помощью Downsampling\u001b[0m\n",
      "F1-мера - 0.682\n",
      "Точность - 0.736\n",
      "Полнота - 0.635\n",
      "Accuracy Score на обучающей выборке -  0.943\n",
      "Accuracy Score на валидационной выборке -  0.704\n",
      "Параметры модели:\n",
      "{'class_weight': None, 'max_depth': 13, 'min_samples_leaf': 3, 'min_samples_split': 2}\n",
      "CPU times: user 17.5 s, sys: 0 ns, total: 17.5 s\n",
      "Wall time: 17.8 s\n"
     ]
    }
   ],
   "source": [
    "%%time\n",
    "parametrs = {'class_weight' : [None, 'balanced'],\n",
    "             'max_depth': range (1, 20, 2),\n",
    "             'min_samples_leaf': range (1,4),\n",
    "             'min_samples_split': range (2,4)}\n",
    "model_testing(xy_train_list, xy_valid_list, DecisionTreeClassifier, parametrs)"
   ]
  },
  {
   "cell_type": "markdown",
   "metadata": {},
   "source": [
    "## 3.2. Логистическая регрессия"
   ]
  },
  {
   "cell_type": "code",
   "execution_count": 76,
   "metadata": {},
   "outputs": [
    {
     "name": "stdout",
     "output_type": "stream",
     "text": [
      "\u001b[1mНаилучший результат модель 'Логистическая регрессия'показывает на сбалансированной выборке с помощью Downsampling\u001b[0m\n",
      "F1-мера - 0.716\n",
      "Точность - 0.729\n",
      "Полнота - 0.703\n",
      "Accuracy Score на обучающей выборке -  0.713\n",
      "Accuracy Score на валидационной выборке -  0.721\n",
      "Параметры модели:\n",
      "{'C': 0.5, 'class_weight': None, 'intercept_scaling': 2.5, 'solver': 'liblinear'}\n",
      "CPU times: user 2min, sys: 1min 37s, total: 3min 37s\n",
      "Wall time: 3min 38s\n"
     ]
    }
   ],
   "source": [
    "%%time\n",
    "parametrs = {'solver': ['lbfgs', 'liblinear', 'sag', 'saga'],\n",
    "             'intercept_scaling': [0.5, 1.0, 1.5, 2.0, 2.5],\n",
    "             'class_weight': [None, 'balanced'],\n",
    "             'C': [0.5, 1, 1.5, 2],}\n",
    "model_testing(xy_train_list, xy_valid_list, LogisticRegression, parametrs)"
   ]
  },
  {
   "cell_type": "markdown",
   "metadata": {},
   "source": [
    "## 3.3. Случайный лес"
   ]
  },
  {
   "cell_type": "code",
   "execution_count": 77,
   "metadata": {},
   "outputs": [
    {
     "name": "stdout",
     "output_type": "stream",
     "text": [
      "\u001b[1mНаилучший результат модель 'Случайный лес'показывает на сбалансированной выборке с помощью Downsampling\u001b[0m\n",
      "F1-мера - 0.711\n",
      "Точность - 0.839\n",
      "Полнота - 0.618\n",
      "Accuracy Score на обучающей выборке -  0.985\n",
      "Accuracy Score на валидационной выборке -  0.749\n",
      "Параметры модели:\n",
      "{'class_weight': None, 'max_depth': 17, 'min_samples_leaf': 3, 'min_samples_split': 2, 'n_estimators': 20}\n",
      "CPU times: user 3min 46s, sys: 0 ns, total: 3min 46s\n",
      "Wall time: 3min 49s\n"
     ]
    }
   ],
   "source": [
    "%%time\n",
    "parametrs = {'class_weight' : [None, 'balanced'],\n",
    "             'max_depth': range (5, 20, 2),\n",
    "             'min_samples_leaf': range (3, 5),\n",
    "             'min_samples_split': range (2, 5),\n",
    "             'n_estimators': range (5, 25, 5)}\n",
    "\n",
    "model_testing(xy_train_list, xy_valid_list, RandomForestClassifier, parametrs)"
   ]
  },
  {
   "cell_type": "markdown",
   "metadata": {},
   "source": [
    "## 3.4. Алгоритм К-ближайших соседей"
   ]
  },
  {
   "cell_type": "code",
   "execution_count": 78,
   "metadata": {},
   "outputs": [
    {
     "name": "stdout",
     "output_type": "stream",
     "text": [
      "\u001b[1mНаилучший результат модель 'Алгоритм К-ближайших соседей'показывает на сбалансированной выборке с помощью Downsampling\u001b[0m\n",
      "F1-мера - 0.698\n",
      "Точность - 0.722\n",
      "Полнота - 0.675\n",
      "Accuracy Score на обучающей выборке -  1.0\n",
      "Accuracy Score на валидационной выборке -  0.707\n",
      "Параметры модели:\n",
      "{'algorithm': 'ball_tree', 'n_neighbors': 11, 'p': 2, 'weights': 'distance'}\n",
      "CPU times: user 1min 35s, sys: 2.63 s, total: 1min 38s\n",
      "Wall time: 1min 39s\n"
     ]
    }
   ],
   "source": [
    "%%time\n",
    "parametrs = {'n_neighbors': range(1, 15, 5),\n",
    "             'weights': ['uniform', 'distance'],\n",
    "             'algorithm': ['ball_tree', 'kd_tree', 'brute'],\n",
    "             'p' : [1, 2]}\n",
    "model_testing(xy_train_list, xy_valid_list, KNeighborsClassifier, parametrs)"
   ]
  },
  {
   "cell_type": "markdown",
   "metadata": {},
   "source": [
    "## 3.5. Выводы по исследованию моделей.\n",
    "\n",
    "По результатам тестирования четырех моделей: дерево решений, логистическая регрессия, случайный лес и алгоритм k-ближайших соседей на трех выборках (несбалансированная и сбалансированные с помощью upsampling и downsampling), мы наблюдаем следующие результаты в порядке убывания:\n",
    "- **1. Логистическая регрессия:** наилучший результат согласно F1-мере - 0.715, точность - 0.747, полнота - 0.686.\n",
    "- **2. Случайный лес:** наилучший результат согласно F1-мере - 0.711, точность - 0.864, полнота - 0.603.\n",
    "- **3. Дерево решений:** наилучший результат согласно F1-мере - 0.592, точность - 0.82, полнота - 0.463.\n",
    "- **4. Алгоритм k-ближайших соседей:** наилучший результат согласно F1-мере - 0.592, точность - 0.834, полнота - 0.459.\n",
    "\n",
    "Теперь можем переходить к итоговому тестированию моделей."
   ]
  },
  {
   "cell_type": "markdown",
   "metadata": {},
   "source": [
    "# 4. Итоговое тестирование моделей.\n",
    "\n",
    "В итоговом тестировании будем использовать все четыре модели, так как они вполне проходят по нашему порогу адекватности в 0.59 F1-меры.\n",
    "Тестирование будем проводить на наиболее оптимальных гиперпараметрах для каждой модели, также мы построим ROC-кривую для наших моделей.\n",
    "\n",
    "Для этого напишем функцию, в которой через цикл будет проводиться обучение моделей на оптимальных гиперпараметрах, проводится тестовая проверка на тестовой выборке, подготовятся данные для построения ROC-кривой, рассчитается значение AUC-ROC и F1-меры, а также проведется сравнение по наибольшему AUC-ROC значению, и для каждой модели на экран выведется результат с F1-мерой, AUC-ROC значением, а также будет указана наилучшая модель в нашем сравнении.\n",
    "\n",
    "## 4.1. Сравнение моделей по AUC-ROC значению."
   ]
  },
  {
   "cell_type": "code",
   "execution_count": 83,
   "metadata": {},
   "outputs": [],
   "source": [
    "def final_model_testing():\n",
    "    best_roc_auc = 0\n",
    "    test_f1 = 0\n",
    "    fpr_list = []\n",
    "    tpr_list = []\n",
    "    model_name_list = []\n",
    "    for i in range (0, 4):\n",
    "        if i == 0:\n",
    "            model = DecisionTreeClassifier(max_depth = 13, min_samples_leaf = 3, \n",
    "                                           min_samples_split = 2, class_weight = None , random_state = random_state)\n",
    "            model_name_list.append('Дерево решений')\n",
    "            \n",
    "        elif i == 1:\n",
    "            model = LogisticRegression(C = 0.5, class_weight = None, intercept_scaling = 2.5, \n",
    "                                       solver = 'liblinear', random_state = random_state)\n",
    "            model_name_list.append('Логистическая регрессия')\n",
    "        \n",
    "        elif i == 2:\n",
    "            model = RandomForestClassifier(class_weight = None, max_depth = 17, min_samples_leaf = 3,\n",
    "                                           min_samples_split = 2, n_estimators = 20, random_state = random_state)\n",
    "            model_name_list.append('Случайный лес')\n",
    "        \n",
    "        elif i == 3:\n",
    "            model = KNeighborsClassifier(algorithm = 'ball_tree', n_neighbors = 11, p = 2, weights = 'distance')\n",
    "            model_name_list.append('Алгоритм К-ближайших соседей')\n",
    "        model.fit(xy_train_list[2][0], xy_train_list[2][1])\n",
    "        model_test_predictions = model.predict(x_test_down)\n",
    "        probabilities = model.predict_proba(x_test_down)\n",
    "        probabilities_one = probabilities[:,1]\n",
    "        \n",
    "        fpr, tpr, thresholds = roc_curve(y_test_down, probabilities_one)\n",
    "        fpr_list.append(fpr)\n",
    "        tpr_list.append(tpr)\n",
    "        \n",
    "        auc_roc = roc_auc_score(y_test_down, probabilities_one)\n",
    "        \n",
    "        test_f1 = f1_score(y_test_down, model_test_predictions)\n",
    "        \n",
    "        print('Результаты модели \"'+ '\\033[1m' + model_name_list[i] + '\\033[0m' +'\":')\n",
    "        print('AUC-ROC - ', round(auc_roc, 3))\n",
    "        print('F1-мера -', round(test_f1, 3))\n",
    "        print('////////////////////////////////////////')\n",
    "        if auc_roc > best_roc_auc:\n",
    "            best_roc_auc = auc_roc\n",
    "            best_f1 = test_f1\n",
    "            best_model = model_name_list[i]\n",
    "    \n",
    "    \n",
    "    \n",
    "    print('\\033[1m' +'Наилучший результат показывает модель ' + \"'\" + best_model + \"'\" + '\\033[0m')\n",
    "    print('AUC-ROC - ', round(best_roc_auc, 3))\n",
    "    print('F1-мера -', round(best_f1, 3))\n",
    "    \n",
    "    return fpr_list, tpr_list"
   ]
  },
  {
   "cell_type": "markdown",
   "metadata": {},
   "source": [
    "Функция готова к применению, используем её, и взглянем на полученные результаты:"
   ]
  },
  {
   "cell_type": "code",
   "execution_count": 84,
   "metadata": {},
   "outputs": [
    {
     "name": "stdout",
     "output_type": "stream",
     "text": [
      "Результаты модели \"\u001b[1mДерево решений\u001b[0m\":\n",
      "AUC-ROC -  0.731\n",
      "F1-мера - 0.683\n",
      "////////////////////////////////////////\n",
      "Результаты модели \"\u001b[1mЛогистическая регрессия\u001b[0m\":\n",
      "AUC-ROC -  0.768\n",
      "F1-мера - 0.705\n",
      "////////////////////////////////////////\n",
      "Результаты модели \"\u001b[1mСлучайный лес\u001b[0m\":\n",
      "AUC-ROC -  0.842\n",
      "F1-мера - 0.712\n",
      "////////////////////////////////////////\n",
      "Результаты модели \"\u001b[1mАлгоритм К-ближайших соседей\u001b[0m\":\n",
      "AUC-ROC -  0.78\n",
      "F1-мера - 0.701\n",
      "////////////////////////////////////////\n",
      "\u001b[1mНаилучший результат показывает модель 'Случайный лес'\u001b[0m\n",
      "AUC-ROC -  0.842\n",
      "F1-мера - 0.712\n"
     ]
    }
   ],
   "source": [
    "fpr_list, tpr_list = final_model_testing()"
   ]
  },
  {
   "cell_type": "markdown",
   "metadata": {},
   "source": [
    "Исходя из полученных данных, мы наблюдаем следующие результаты:\n",
    "- **Лидером по значению AUC-ROC** на тестовой выборке является модель **\"Случайный лес\" с результатом в 0.837**\n",
    "- За ней следует **модель логистической регрессии со значением AUC-ROc в 0.762**, однако F1-мера примерно на 0.1 выше чем у модели случайного леса\n",
    "- **На третьем месте находится модель дерева решений по значению AUC-ROC, оно составляет 0.696.\n",
    "- И **худший результат показывает алгоритм k-ближайших соседей** со значением AUC-ROC в 0.672 и F1-мерой в 0.584.\n",
    "\n",
    "Несмотря на то, что все модели проходят заданный порог адекватности в 0.59, наиболее лучшими моделями для решения поставленной задачи будут являться модели логистической регрессии и случайный лес.\n",
    "\n",
    "Теперь посмотрим на график ROC-кривой, для более подробной визуализации наших полученных результатов."
   ]
  },
  {
   "cell_type": "markdown",
   "metadata": {},
   "source": [
    "## 4.2. ROC-кривая."
   ]
  },
  {
   "cell_type": "code",
   "execution_count": 85,
   "metadata": {},
   "outputs": [
    {
     "data": {
      "text/plain": [
       "<Figure size 432x288 with 0 Axes>"
      ]
     },
     "metadata": {},
     "output_type": "display_data"
    },
    {
     "data": {
      "image/png": "[encoded data removed]",
      "text/plain": [
       "<Figure size 1152x576 with 1 Axes>"
      ]
     },
     "metadata": {
      "needs_background": "light"
     },
     "output_type": "display_data"
    }
   ],
   "source": [
    "plt.figure()\n",
    "plt.figure(figsize=(16,8))\n",
    "plt.plot([0, 1], [0, 1], linestyle='--')\n",
    "plt.xlim([0.0, 1.0])\n",
    "plt.ylim([0.0, 1.0])\n",
    "plt.plot(fpr_list[0], tpr_list[0])\n",
    "plt.plot(fpr_list[1], tpr_list[1])\n",
    "plt.plot(fpr_list[2], tpr_list[2])\n",
    "plt.plot(fpr_list[3], tpr_list[3])\n",
    "plt.xlabel('False Positive Rate')\n",
    "plt.ylabel('True Positive Rate')\n",
    "plt.title('ROC-кривая')\n",
    "plt.legend(('Случайная модель' ,'Дерево решений', 'Логистическая регрессия', 'Случайный лес', 'Алгоритм k-ближайших соседей'),\n",
    "           loc= 'upper left') \n",
    "plt.show()"
   ]
  },
  {
   "cell_type": "markdown",
   "metadata": {},
   "source": [
    "На графике наблюдаем результаты, аналогичные полученным выше - в лидерах находятся модели логистической регрессии и случайного леса. Модель дерева решения и алгоритм k-ближайших соседей показывают достаточно неоднозначные результаты с резким сломом на границе True Positive Rate в 0.5 и False Positive Rate в 0.1"
   ]
  },
  {
   "cell_type": "markdown",
   "metadata": {},
   "source": [
    "# 5. Итоговый вывод:\n",
    "\n",
    "По результатам исследования четырех моделей на трех различных выборках, мы можем сделать следующий вывод:\n",
    "\n",
    "- **Наилучшей моделью для данной задачи является модель случайного леса** со значениями AUC-ROC в 0.84 и F1-мерой 0.685. Значения точности и полноты у данной модели составляют 0.882 и 0.594, соответственно, что в свою очередь, означает что модель на 88% точно предсказывает уход клиента из банка, однако всего на 60% готова предсказать собственно сам уход. Модель показывает адекватные и стабильные результаты как на валидационной, так и на тестовой выборке. Данная модель, с точки зрения бизнеса, поможет сэкономить как материальные так и нематериальные ресурсы маркетологов банка для сохранения текущих клиентов.\n",
    "- **Также оптимальной моделью для данной задачи будет являться модель логистической регрессии** со значениями AUC-ROC в 0.761 и F1-мерой в 0.695. Точность и полнота для данной модели составили 0.746 и 0.683 на валидационной выборке."
   ]
  }
 ],
 "metadata": {
  "ExecuteTimeLog": [
   {
    "duration": 1465,
    "start_time": "2021-06-21T05:17:16.062Z"
   },
   {
    "duration": 427,
    "start_time": "2021-06-21T05:17:17.529Z"
   },
   {
    "duration": 12,
    "start_time": "2021-06-21T05:17:17.959Z"
   },
   {
    "duration": 11,
    "start_time": "2021-06-21T05:17:17.974Z"
   },
   {
    "duration": 21,
    "start_time": "2021-06-21T05:17:17.987Z"
   },
   {
    "duration": 5,
    "start_time": "2021-06-21T05:17:18.011Z"
   },
   {
    "duration": 11,
    "start_time": "2021-06-21T05:17:18.018Z"
   },
   {
    "duration": 69,
    "start_time": "2021-06-21T05:17:18.033Z"
   },
   {
    "duration": 8050,
    "start_time": "2021-06-21T05:17:18.105Z"
   },
   {
    "duration": 7811,
    "start_time": "2021-06-21T05:17:18.347Z"
   },
   {
    "duration": 7806,
    "start_time": "2021-06-21T05:17:18.353Z"
   },
   {
    "duration": 7803,
    "start_time": "2021-06-21T05:17:18.357Z"
   },
   {
    "duration": 7800,
    "start_time": "2021-06-21T05:17:18.362Z"
   },
   {
    "duration": 7796,
    "start_time": "2021-06-21T05:17:18.367Z"
   },
   {
    "duration": 7794,
    "start_time": "2021-06-21T05:17:18.371Z"
   },
   {
    "duration": 7791,
    "start_time": "2021-06-21T05:17:18.375Z"
   },
   {
    "duration": 7789,
    "start_time": "2021-06-21T05:17:18.379Z"
   },
   {
    "duration": 7786,
    "start_time": "2021-06-21T05:17:18.383Z"
   },
   {
    "duration": 7784,
    "start_time": "2021-06-21T05:17:18.387Z"
   },
   {
    "duration": 7782,
    "start_time": "2021-06-21T05:17:18.390Z"
   },
   {
    "duration": 7780,
    "start_time": "2021-06-21T05:17:18.393Z"
   },
   {
    "duration": 7778,
    "start_time": "2021-06-21T05:17:18.396Z"
   },
   {
    "duration": 7775,
    "start_time": "2021-06-21T05:17:18.400Z"
   },
   {
    "duration": 7774,
    "start_time": "2021-06-21T05:17:18.403Z"
   },
   {
    "duration": 7772,
    "start_time": "2021-06-21T05:17:18.406Z"
   },
   {
    "duration": 7771,
    "start_time": "2021-06-21T05:17:18.409Z"
   },
   {
    "duration": 7761,
    "start_time": "2021-06-21T05:17:18.420Z"
   },
   {
    "duration": 6,
    "start_time": "2021-06-21T05:17:58.057Z"
   },
   {
    "duration": 58,
    "start_time": "2021-06-21T05:17:58.066Z"
   },
   {
    "duration": 12,
    "start_time": "2021-06-21T05:17:58.127Z"
   },
   {
    "duration": 8,
    "start_time": "2021-06-21T05:17:58.142Z"
   },
   {
    "duration": 22,
    "start_time": "2021-06-21T05:17:58.186Z"
   },
   {
    "duration": 6,
    "start_time": "2021-06-21T05:17:58.210Z"
   },
   {
    "duration": 14,
    "start_time": "2021-06-21T05:17:58.218Z"
   },
   {
    "duration": 62,
    "start_time": "2021-06-21T05:17:58.236Z"
   },
   {
    "duration": 31,
    "start_time": "2021-06-21T05:17:58.301Z"
   },
   {
    "duration": 18,
    "start_time": "2021-06-21T05:17:58.334Z"
   },
   {
    "duration": 34,
    "start_time": "2021-06-21T05:17:58.354Z"
   },
   {
    "duration": 30,
    "start_time": "2021-06-21T05:17:58.390Z"
   },
   {
    "duration": 8,
    "start_time": "2021-06-21T05:17:58.423Z"
   },
   {
    "duration": 54,
    "start_time": "2021-06-21T05:17:58.433Z"
   },
   {
    "duration": 6,
    "start_time": "2021-06-21T05:17:58.489Z"
   },
   {
    "duration": 13,
    "start_time": "2021-06-21T05:17:58.497Z"
   },
   {
    "duration": 8,
    "start_time": "2021-06-21T05:17:58.513Z"
   },
   {
    "duration": 643,
    "start_time": "2021-06-21T05:17:58.523Z"
   },
   {
    "duration": 7798,
    "start_time": "2021-06-21T05:17:51.371Z"
   },
   {
    "duration": 7795,
    "start_time": "2021-06-21T05:17:51.376Z"
   },
   {
    "duration": 7790,
    "start_time": "2021-06-21T05:17:51.382Z"
   },
   {
    "duration": 7780,
    "start_time": "2021-06-21T05:17:51.394Z"
   },
   {
    "duration": 7776,
    "start_time": "2021-06-21T05:17:51.399Z"
   },
   {
    "duration": 7767,
    "start_time": "2021-06-21T05:17:51.410Z"
   },
   {
    "duration": 7763,
    "start_time": "2021-06-21T05:17:51.415Z"
   },
   {
    "duration": 7761,
    "start_time": "2021-06-21T05:17:51.419Z"
   },
   {
    "duration": 1482,
    "start_time": "2021-06-21T05:18:44.343Z"
   },
   {
    "duration": 58,
    "start_time": "2021-06-21T05:18:45.828Z"
   },
   {
    "duration": 13,
    "start_time": "2021-06-21T05:18:45.889Z"
   },
   {
    "duration": 12,
    "start_time": "2021-06-21T05:18:45.906Z"
   },
   {
    "duration": 23,
    "start_time": "2021-06-21T05:18:45.921Z"
   },
   {
    "duration": 45,
    "start_time": "2021-06-21T05:18:45.947Z"
   },
   {
    "duration": 10,
    "start_time": "2021-06-21T05:18:45.995Z"
   },
   {
    "duration": 74,
    "start_time": "2021-06-21T05:18:46.011Z"
   },
   {
    "duration": 33,
    "start_time": "2021-06-21T05:18:46.089Z"
   },
   {
    "duration": 19,
    "start_time": "2021-06-21T05:18:46.124Z"
   },
   {
    "duration": 5,
    "start_time": "2021-06-21T05:18:46.146Z"
   },
   {
    "duration": 56,
    "start_time": "2021-06-21T05:18:46.154Z"
   },
   {
    "duration": 9,
    "start_time": "2021-06-21T05:18:46.213Z"
   },
   {
    "duration": 34,
    "start_time": "2021-06-21T05:18:46.225Z"
   },
   {
    "duration": 27,
    "start_time": "2021-06-21T05:18:46.261Z"
   },
   {
    "duration": 17,
    "start_time": "2021-06-21T05:18:46.291Z"
   },
   {
    "duration": 10,
    "start_time": "2021-06-21T05:18:46.310Z"
   },
   {
    "duration": 748,
    "start_time": "2021-06-21T05:18:46.322Z"
   },
   {
    "duration": 7813,
    "start_time": "2021-06-21T05:18:39.260Z"
   },
   {
    "duration": 7809,
    "start_time": "2021-06-21T05:18:39.265Z"
   },
   {
    "duration": 7808,
    "start_time": "2021-06-21T05:18:39.268Z"
   },
   {
    "duration": 7807,
    "start_time": "2021-06-21T05:18:39.271Z"
   },
   {
    "duration": 7804,
    "start_time": "2021-06-21T05:18:39.275Z"
   },
   {
    "duration": 7803,
    "start_time": "2021-06-21T05:18:39.278Z"
   },
   {
    "duration": 7800,
    "start_time": "2021-06-21T05:18:39.282Z"
   },
   {
    "duration": 7799,
    "start_time": "2021-06-21T05:18:39.285Z"
   },
   {
    "duration": 7798,
    "start_time": "2021-06-21T05:18:39.288Z"
   },
   {
    "duration": 7797,
    "start_time": "2021-06-21T05:18:39.290Z"
   },
   {
    "duration": 7,
    "start_time": "2021-06-21T05:18:57.473Z"
   },
   {
    "duration": 58,
    "start_time": "2021-06-21T05:18:57.483Z"
   },
   {
    "duration": 14,
    "start_time": "2021-06-21T05:18:57.544Z"
   },
   {
    "duration": 30,
    "start_time": "2021-06-21T05:18:57.561Z"
   },
   {
    "duration": 23,
    "start_time": "2021-06-21T05:18:57.594Z"
   },
   {
    "duration": 5,
    "start_time": "2021-06-21T05:18:57.620Z"
   },
   {
    "duration": 7,
    "start_time": "2021-06-21T05:18:57.628Z"
   },
   {
    "duration": 78,
    "start_time": "2021-06-21T05:18:57.639Z"
   },
   {
    "duration": 33,
    "start_time": "2021-06-21T05:18:57.720Z"
   },
   {
    "duration": 43,
    "start_time": "2021-06-21T05:18:57.755Z"
   },
   {
    "duration": 5,
    "start_time": "2021-06-21T05:18:57.800Z"
   },
   {
    "duration": 32,
    "start_time": "2021-06-21T05:18:57.808Z"
   },
   {
    "duration": 7,
    "start_time": "2021-06-21T05:18:57.843Z"
   },
   {
    "duration": 45,
    "start_time": "2021-06-21T05:18:57.853Z"
   },
   {
    "duration": 6,
    "start_time": "2021-06-21T05:18:57.900Z"
   },
   {
    "duration": 16,
    "start_time": "2021-06-21T05:18:57.908Z"
   },
   {
    "duration": 8,
    "start_time": "2021-06-21T05:18:57.926Z"
   },
   {
    "duration": 65,
    "start_time": "2021-06-21T05:18:57.937Z"
   },
   {
    "duration": 9,
    "start_time": "2021-06-21T05:18:58.005Z"
   },
   {
    "duration": 44,
    "start_time": "2021-06-21T05:18:58.016Z"
   },
   {
    "duration": 15,
    "start_time": "2021-06-21T05:18:58.085Z"
   },
   {
    "duration": 110,
    "start_time": "2021-06-21T05:18:58.102Z"
   },
   {
    "duration": 7834,
    "start_time": "2021-06-21T05:18:50.380Z"
   },
   {
    "duration": 7817,
    "start_time": "2021-06-21T05:18:50.398Z"
   },
   {
    "duration": 7807,
    "start_time": "2021-06-21T05:18:50.410Z"
   },
   {
    "duration": 7803,
    "start_time": "2021-06-21T05:18:50.415Z"
   },
   {
    "duration": 7793,
    "start_time": "2021-06-21T05:18:50.427Z"
   },
   {
    "duration": 7789,
    "start_time": "2021-06-21T05:18:50.432Z"
   },
   {
    "duration": 6,
    "start_time": "2021-06-21T05:19:54.253Z"
   },
   {
    "duration": 58,
    "start_time": "2021-06-21T05:19:54.263Z"
   },
   {
    "duration": 13,
    "start_time": "2021-06-21T05:19:54.324Z"
   },
   {
    "duration": 9,
    "start_time": "2021-06-21T05:19:54.339Z"
   },
   {
    "duration": 48,
    "start_time": "2021-06-21T05:19:54.350Z"
   },
   {
    "duration": 7,
    "start_time": "2021-06-21T05:19:54.400Z"
   },
   {
    "duration": 13,
    "start_time": "2021-06-21T05:19:54.409Z"
   },
   {
    "duration": 68,
    "start_time": "2021-06-21T05:19:54.425Z"
   },
   {
    "duration": 32,
    "start_time": "2021-06-21T05:19:54.495Z"
   },
   {
    "duration": 18,
    "start_time": "2021-06-21T05:19:54.529Z"
   },
   {
    "duration": 39,
    "start_time": "2021-06-21T05:19:54.549Z"
   },
   {
    "duration": 9,
    "start_time": "2021-06-21T05:19:57.170Z"
   },
   {
    "duration": 29,
    "start_time": "2021-06-21T05:19:59.147Z"
   },
   {
    "duration": 8,
    "start_time": "2021-06-21T05:20:11.818Z"
   },
   {
    "duration": 71,
    "start_time": "2021-06-21T05:20:11.829Z"
   },
   {
    "duration": 13,
    "start_time": "2021-06-21T05:20:11.903Z"
   },
   {
    "duration": 15,
    "start_time": "2021-06-21T05:20:11.918Z"
   },
   {
    "duration": 32,
    "start_time": "2021-06-21T05:20:11.935Z"
   },
   {
    "duration": 6,
    "start_time": "2021-06-21T05:20:11.986Z"
   },
   {
    "duration": 17,
    "start_time": "2021-06-21T05:20:11.994Z"
   },
   {
    "duration": 35,
    "start_time": "2021-06-21T05:20:12.014Z"
   },
   {
    "duration": 63,
    "start_time": "2021-06-21T05:20:12.053Z"
   },
   {
    "duration": 21,
    "start_time": "2021-06-21T05:20:12.119Z"
   },
   {
    "duration": 6,
    "start_time": "2021-06-21T05:20:12.143Z"
   },
   {
    "duration": 39,
    "start_time": "2021-06-21T05:20:12.152Z"
   },
   {
    "duration": 31,
    "start_time": "2021-06-21T05:20:12.194Z"
   },
   {
    "duration": 6,
    "start_time": "2021-06-21T05:20:12.227Z"
   },
   {
    "duration": 50,
    "start_time": "2021-06-21T05:20:12.236Z"
   },
   {
    "duration": 9,
    "start_time": "2021-06-21T05:20:12.288Z"
   },
   {
    "duration": 1563,
    "start_time": "2021-06-21T05:20:12.300Z"
   },
   {
    "duration": 7824,
    "start_time": "2021-06-21T05:20:06.042Z"
   },
   {
    "duration": 7822,
    "start_time": "2021-06-21T05:20:06.045Z"
   },
   {
    "duration": 7820,
    "start_time": "2021-06-21T05:20:06.049Z"
   },
   {
    "duration": 7818,
    "start_time": "2021-06-21T05:20:06.052Z"
   },
   {
    "duration": 7817,
    "start_time": "2021-06-21T05:20:06.055Z"
   },
   {
    "duration": 7816,
    "start_time": "2021-06-21T05:20:06.057Z"
   },
   {
    "duration": 7813,
    "start_time": "2021-06-21T05:20:06.061Z"
   },
   {
    "duration": 7812,
    "start_time": "2021-06-21T05:20:06.064Z"
   },
   {
    "duration": 8,
    "start_time": "2021-06-21T05:20:47.971Z"
   },
   {
    "duration": 58,
    "start_time": "2021-06-21T05:20:47.982Z"
   },
   {
    "duration": 16,
    "start_time": "2021-06-21T05:20:48.044Z"
   },
   {
    "duration": 30,
    "start_time": "2021-06-21T05:20:48.064Z"
   },
   {
    "duration": 26,
    "start_time": "2021-06-21T05:20:48.097Z"
   },
   {
    "duration": 8,
    "start_time": "2021-06-21T05:20:48.126Z"
   },
   {
    "duration": 53,
    "start_time": "2021-06-21T05:20:48.137Z"
   },
   {
    "duration": 40,
    "start_time": "2021-06-21T05:20:48.195Z"
   },
   {
    "duration": 72,
    "start_time": "2021-06-21T05:20:48.239Z"
   },
   {
    "duration": 23,
    "start_time": "2021-06-21T05:20:48.314Z"
   },
   {
    "duration": 7,
    "start_time": "2021-06-21T05:20:48.340Z"
   },
   {
    "duration": 11,
    "start_time": "2021-06-21T05:20:50.500Z"
   },
   {
    "duration": 55,
    "start_time": "2021-06-21T05:20:51.898Z"
   },
   {
    "duration": 7,
    "start_time": "2021-06-21T05:20:55.394Z"
   },
   {
    "duration": 14,
    "start_time": "2021-06-21T05:20:56.722Z"
   },
   {
    "duration": 8,
    "start_time": "2021-06-21T05:20:58.011Z"
   },
   {
    "duration": 41,
    "start_time": "2021-06-21T05:20:59.891Z"
   },
   {
    "duration": 11,
    "start_time": "2021-06-21T05:21:03.051Z"
   },
   {
    "duration": 44,
    "start_time": "2021-06-21T05:21:03.307Z"
   },
   {
    "duration": 16,
    "start_time": "2021-06-21T05:21:04.956Z"
   },
   {
    "duration": 17172,
    "start_time": "2021-06-21T05:21:08.251Z"
   },
   {
    "duration": 182900,
    "start_time": "2021-06-21T05:21:25.426Z"
   },
   {
    "duration": 3593,
    "start_time": "2021-06-21T05:24:28.329Z"
   },
   {
    "duration": 9635,
    "start_time": "2021-06-21T05:24:31.926Z"
   },
   {
    "duration": 12,
    "start_time": "2021-06-21T05:24:41.563Z"
   },
   {
    "duration": 1559,
    "start_time": "2021-06-21T05:24:41.577Z"
   },
   {
    "duration": 15,
    "start_time": "2021-06-21T05:24:43.144Z"
   },
   {
    "duration": 473,
    "start_time": "2021-06-21T05:24:43.185Z"
   },
   {
    "duration": 17,
    "start_time": "2021-06-21T05:25:01.552Z"
   },
   {
    "duration": 504,
    "start_time": "2021-06-21T05:25:03.215Z"
   },
   {
    "duration": 6,
    "start_time": "2021-06-21T05:25:20.888Z"
   },
   {
    "duration": 16,
    "start_time": "2021-06-21T05:25:26.712Z"
   },
   {
    "duration": 4868,
    "start_time": "2021-06-21T05:25:28.615Z"
   },
   {
    "duration": 14,
    "start_time": "2021-06-21T05:25:57.409Z"
   },
   {
    "duration": 4883,
    "start_time": "2021-06-21T05:25:58.824Z"
   },
   {
    "duration": 885,
    "start_time": "2021-06-21T05:26:17.329Z"
   },
   {
    "duration": 14,
    "start_time": "2021-06-21T05:30:57.778Z"
   },
   {
    "duration": 927,
    "start_time": "2021-06-21T05:30:59.349Z"
   },
   {
    "duration": 15,
    "start_time": "2021-06-21T05:31:06.030Z"
   },
   {
    "duration": 928,
    "start_time": "2021-06-21T05:31:07.661Z"
   },
   {
    "duration": 15,
    "start_time": "2021-06-21T05:31:17.431Z"
   },
   {
    "duration": 932,
    "start_time": "2021-06-21T05:31:18.822Z"
   },
   {
    "duration": 15,
    "start_time": "2021-06-21T05:31:48.143Z"
   },
   {
    "duration": 911,
    "start_time": "2021-06-21T05:31:49.687Z"
   },
   {
    "duration": 16,
    "start_time": "2021-06-21T05:32:00.527Z"
   },
   {
    "duration": 16,
    "start_time": "2021-06-21T05:33:26.511Z"
   },
   {
    "duration": 1571,
    "start_time": "2021-06-21T05:33:28.153Z"
   },
   {
    "duration": 18763,
    "start_time": "2021-06-21T05:33:36.919Z"
   },
   {
    "duration": 89681,
    "start_time": "2021-06-21T05:33:55.686Z"
   },
   {
    "duration": 1567,
    "start_time": "2021-06-21T05:36:03.659Z"
   },
   {
    "duration": 58,
    "start_time": "2021-06-21T05:36:05.228Z"
   },
   {
    "duration": 13,
    "start_time": "2021-06-21T05:36:05.289Z"
   },
   {
    "duration": 11,
    "start_time": "2021-06-21T05:36:05.304Z"
   },
   {
    "duration": 22,
    "start_time": "2021-06-21T05:36:05.318Z"
   },
   {
    "duration": 42,
    "start_time": "2021-06-21T05:36:05.343Z"
   },
   {
    "duration": 10,
    "start_time": "2021-06-21T05:36:05.389Z"
   },
   {
    "duration": 36,
    "start_time": "2021-06-21T05:36:05.405Z"
   },
   {
    "duration": 34,
    "start_time": "2021-06-21T05:36:05.485Z"
   },
   {
    "duration": 21,
    "start_time": "2021-06-21T05:36:05.522Z"
   },
   {
    "duration": 39,
    "start_time": "2021-06-21T05:36:05.546Z"
   },
   {
    "duration": 11,
    "start_time": "2021-06-21T05:36:05.589Z"
   },
   {
    "duration": 66,
    "start_time": "2021-06-21T05:36:05.603Z"
   },
   {
    "duration": 20,
    "start_time": "2021-06-21T05:36:05.671Z"
   },
   {
    "duration": 20,
    "start_time": "2021-06-21T05:36:05.694Z"
   },
   {
    "duration": 10,
    "start_time": "2021-06-21T05:36:05.717Z"
   },
   {
    "duration": 742,
    "start_time": "2021-06-21T05:36:05.730Z"
   },
   {
    "duration": 7872,
    "start_time": "2021-06-21T05:35:58.604Z"
   },
   {
    "duration": 7864,
    "start_time": "2021-06-21T05:35:58.613Z"
   },
   {
    "duration": 7863,
    "start_time": "2021-06-21T05:35:58.617Z"
   },
   {
    "duration": 7862,
    "start_time": "2021-06-21T05:35:58.620Z"
   },
   {
    "duration": 7860,
    "start_time": "2021-06-21T05:35:58.624Z"
   },
   {
    "duration": 7858,
    "start_time": "2021-06-21T05:35:58.628Z"
   },
   {
    "duration": 7857,
    "start_time": "2021-06-21T05:35:58.631Z"
   },
   {
    "duration": 7856,
    "start_time": "2021-06-21T05:35:58.634Z"
   },
   {
    "duration": 7855,
    "start_time": "2021-06-21T05:35:58.637Z"
   },
   {
    "duration": 7855,
    "start_time": "2021-06-21T05:35:58.640Z"
   },
   {
    "duration": 105,
    "start_time": "2021-06-21T05:36:37.703Z"
   },
   {
    "duration": 107,
    "start_time": "2021-06-21T05:36:45.895Z"
   },
   {
    "duration": 8,
    "start_time": "2021-06-21T05:36:48.991Z"
   },
   {
    "duration": 12,
    "start_time": "2021-06-21T05:36:50.669Z"
   },
   {
    "duration": 9,
    "start_time": "2021-06-21T05:36:52.717Z"
   },
   {
    "duration": 630,
    "start_time": "2021-06-21T05:36:54.477Z"
   },
   {
    "duration": 6,
    "start_time": "2021-06-21T05:42:06.473Z"
   },
   {
    "duration": 5,
    "start_time": "2021-06-21T05:42:30.838Z"
   },
   {
    "duration": 599,
    "start_time": "2021-06-21T05:42:32.291Z"
   },
   {
    "duration": 5,
    "start_time": "2021-06-21T05:43:13.358Z"
   },
   {
    "duration": 566,
    "start_time": "2021-06-21T05:43:15.301Z"
   },
   {
    "duration": 6,
    "start_time": "2021-06-21T05:44:02.389Z"
   },
   {
    "duration": 14,
    "start_time": "2021-06-21T05:44:03.695Z"
   },
   {
    "duration": 6,
    "start_time": "2021-06-21T05:44:17.654Z"
   },
   {
    "duration": 15,
    "start_time": "2021-06-21T05:44:19.165Z"
   },
   {
    "duration": 6,
    "start_time": "2021-06-21T05:45:15.686Z"
   },
   {
    "duration": 9,
    "start_time": "2021-06-21T05:45:16.887Z"
   },
   {
    "duration": 9,
    "start_time": "2021-06-21T05:46:21.657Z"
   },
   {
    "duration": 656,
    "start_time": "2021-06-21T05:46:23.968Z"
   },
   {
    "duration": 9,
    "start_time": "2021-06-21T05:47:13.485Z"
   },
   {
    "duration": 630,
    "start_time": "2021-06-21T05:47:14.968Z"
   },
   {
    "duration": 8,
    "start_time": "2021-06-21T05:49:59.788Z"
   },
   {
    "duration": 38,
    "start_time": "2021-06-21T05:50:01.107Z"
   },
   {
    "duration": 12,
    "start_time": "2021-06-21T05:50:35.436Z"
   },
   {
    "duration": 49,
    "start_time": "2021-06-21T05:50:41.179Z"
   },
   {
    "duration": 6,
    "start_time": "2021-06-21T05:51:02.549Z"
   },
   {
    "duration": 9,
    "start_time": "2021-06-21T05:51:04.469Z"
   },
   {
    "duration": 9,
    "start_time": "2021-06-21T05:51:08.173Z"
   },
   {
    "duration": 1545,
    "start_time": "2021-06-21T05:51:09.940Z"
   },
   {
    "duration": 10,
    "start_time": "2021-06-21T05:51:48.093Z"
   },
   {
    "duration": 1492,
    "start_time": "2021-06-21T05:51:49.736Z"
   },
   {
    "duration": 9,
    "start_time": "2021-06-21T05:52:02.414Z"
   },
   {
    "duration": 39,
    "start_time": "2021-06-21T05:52:04.158Z"
   },
   {
    "duration": 8,
    "start_time": "2021-06-21T05:53:39.667Z"
   },
   {
    "duration": 630,
    "start_time": "2021-06-21T05:53:41.774Z"
   },
   {
    "duration": 9,
    "start_time": "2021-06-21T05:54:46.640Z"
   },
   {
    "duration": 40,
    "start_time": "2021-06-21T05:54:48.063Z"
   },
   {
    "duration": 7,
    "start_time": "2021-06-21T05:54:50.430Z"
   },
   {
    "duration": 63,
    "start_time": "2021-06-21T05:54:50.440Z"
   },
   {
    "duration": 16,
    "start_time": "2021-06-21T05:54:50.507Z"
   },
   {
    "duration": 10,
    "start_time": "2021-06-21T05:54:50.526Z"
   },
   {
    "duration": 65,
    "start_time": "2021-06-21T05:54:50.539Z"
   },
   {
    "duration": 7,
    "start_time": "2021-06-21T05:54:50.607Z"
   },
   {
    "duration": 11,
    "start_time": "2021-06-21T05:54:50.617Z"
   },
   {
    "duration": 80,
    "start_time": "2021-06-21T05:54:50.634Z"
   },
   {
    "duration": 33,
    "start_time": "2021-06-21T05:54:50.718Z"
   },
   {
    "duration": 48,
    "start_time": "2021-06-21T05:54:50.754Z"
   },
   {
    "duration": 6,
    "start_time": "2021-06-21T05:54:50.804Z"
   },
   {
    "duration": 14,
    "start_time": "2021-06-21T05:54:50.813Z"
   },
   {
    "duration": 80,
    "start_time": "2021-06-21T05:54:50.830Z"
   },
   {
    "duration": 5,
    "start_time": "2021-06-21T05:54:50.913Z"
   },
   {
    "duration": 23,
    "start_time": "2021-06-21T05:54:50.920Z"
   },
   {
    "duration": 13,
    "start_time": "2021-06-21T05:54:50.946Z"
   },
   {
    "duration": 62,
    "start_time": "2021-06-21T05:54:50.961Z"
   },
   {
    "duration": 9,
    "start_time": "2021-06-21T05:54:51.025Z"
   },
   {
    "duration": 57,
    "start_time": "2021-06-21T05:54:51.036Z"
   },
   {
    "duration": 15,
    "start_time": "2021-06-21T05:54:51.095Z"
   },
   {
    "duration": 17765,
    "start_time": "2021-06-21T05:54:51.112Z"
   },
   {
    "duration": 218012,
    "start_time": "2021-06-21T05:55:08.879Z"
   },
   {
    "duration": 229512,
    "start_time": "2021-06-21T05:58:46.898Z"
   },
   {
    "duration": 99378,
    "start_time": "2021-06-21T06:02:36.412Z"
   },
   {
    "duration": 12,
    "start_time": "2021-06-21T06:04:15.793Z"
   },
   {
    "duration": 1595,
    "start_time": "2021-06-21T06:04:15.807Z"
   },
   {
    "duration": 550,
    "start_time": "2021-06-21T06:04:17.405Z"
   },
   {
    "duration": 13,
    "start_time": "2021-06-21T06:04:41.493Z"
   },
   {
    "duration": 13,
    "start_time": "2021-06-21T06:04:53.482Z"
   },
   {
    "duration": 2124,
    "start_time": "2021-06-21T06:04:55.425Z"
   },
   {
    "duration": 530,
    "start_time": "2021-06-21T06:05:22.131Z"
   }
  ],
  "kernelspec": {
   "display_name": "Python 3 (ipykernel)",
   "language": "python",
   "name": "python3"
  },
  "language_info": {
   "codemirror_mode": {
    "name": "ipython",
    "version": 3
   },
   "file_extension": ".py",
   "mimetype": "text/x-python",
   "name": "python",
   "nbconvert_exporter": "python",
   "pygments_lexer": "ipython3",
   "version": "3.9.5"
  },
  "toc": {
   "base_numbering": 1,
   "nav_menu": {},
   "number_sections": false,
   "sideBar": true,
   "skip_h1_title": false,
   "title_cell": "Содержание",
   "title_sidebar": "Contents",
   "toc_cell": true,
   "toc_position": {
    "height": "calc(100% - 180px)",
    "left": "10px",
    "top": "150px",
    "width": "327.988px"
   },
   "toc_section_display": true,
   "toc_window_display": true
  }
 },
 "nbformat": 4,
 "nbformat_minor": 2
}
